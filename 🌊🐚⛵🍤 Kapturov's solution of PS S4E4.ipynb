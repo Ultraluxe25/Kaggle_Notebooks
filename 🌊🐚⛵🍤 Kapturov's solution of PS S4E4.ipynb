{
 "cells": [
  {
   "cell_type": "markdown",
   "id": "781dafd6",
   "metadata": {
    "papermill": {
     "duration": 0.014824,
     "end_time": "2024-04-03T19:29:34.246263",
     "exception": false,
     "start_time": "2024-04-03T19:29:34.231439",
     "status": "completed"
    },
    "tags": []
   },
   "source": [
    "![](https://cdn.shopify.com/s/files/1/0528/8266/9745/files/aa9ba33a428bcfb93a45b4a44e5019d3.jpg?v=1676085807)"
   ]
  },
  {
   "cell_type": "code",
   "execution_count": 1,
   "id": "b6b64508",
   "metadata": {
    "_cell_guid": "b1076dfc-b9ad-4769-8c92-a6c4dae69d19",
    "_kg_hide-input": true,
    "_kg_hide-output": true,
    "_uuid": "8f2839f25d086af736a60e9eeb907d3b93b6e0e5",
    "execution": {
     "iopub.execute_input": "2024-04-03T19:29:34.277742Z",
     "iopub.status.busy": "2024-04-03T19:29:34.277064Z",
     "iopub.status.idle": "2024-04-03T19:29:35.194336Z",
     "shell.execute_reply": "2024-04-03T19:29:35.193463Z"
    },
    "papermill": {
     "duration": 0.936104,
     "end_time": "2024-04-03T19:29:35.196649",
     "exception": false,
     "start_time": "2024-04-03T19:29:34.260545",
     "status": "completed"
    },
    "tags": []
   },
   "outputs": [
    {
     "name": "stdout",
     "output_type": "stream",
     "text": [
      "/kaggle/input/ps-4-e-2-abalone-dataset-from-uci/abalone.names\n",
      "/kaggle/input/ps-4-e-2-abalone-dataset-from-uci/Index\n",
      "/kaggle/input/ps-4-e-2-abalone-dataset-from-uci/abalone.data\n",
      "/kaggle/input/ps-4-e-2-abalone-dataset-from-uci/PS4 E4 original abalone dataset from UCI.csv\n",
      "/kaggle/input/playground-series-s4e4/sample_submission.csv\n",
      "/kaggle/input/playground-series-s4e4/train.csv\n",
      "/kaggle/input/playground-series-s4e4/test.csv\n"
     ]
    }
   ],
   "source": [
    "# This Python 3 environment comes with many helpful analytics libraries installed\n",
    "# It is defined by the kaggle/python Docker image: https://github.com/kaggle/docker-python\n",
    "# For example, here's several helpful packages to load\n",
    "\n",
    "import numpy as np # linear algebra\n",
    "import pandas as pd # data processing, CSV file I/O (e.g. pd.read_csv)\n",
    "\n",
    "# Input data files are available in the read-only \"../input/\" directory\n",
    "# For example, running this (by clicking run or pressing Shift+Enter) will list all files under the input directory\n",
    "\n",
    "import os\n",
    "for dirname, _, filenames in os.walk('/kaggle/input'):\n",
    "    for filename in filenames:\n",
    "        print(os.path.join(dirname, filename))\n",
    "\n",
    "# You can write up to 20GB to the current directory (/kaggle/working/) that gets preserved as output when you create a version using \"Save & Run All\" \n",
    "# You can also write temporary files to /kaggle/temp/, but they won't be saved outside of the current session"
   ]
  },
  {
   "cell_type": "markdown",
   "id": "6caf86d7",
   "metadata": {
    "papermill": {
     "duration": 0.014371,
     "end_time": "2024-04-03T19:29:35.226308",
     "exception": false,
     "start_time": "2024-04-03T19:29:35.211937",
     "status": "completed"
    },
    "tags": []
   },
   "source": [
    "## **Your Goal**: Predict the age of abalone from various physical measurements."
   ]
  },
  {
   "cell_type": "markdown",
   "id": "b20d5858",
   "metadata": {
    "papermill": {
     "duration": 0.013895,
     "end_time": "2024-04-03T19:29:35.254402",
     "exception": false,
     "start_time": "2024-04-03T19:29:35.240507",
     "status": "completed"
    },
    "tags": []
   },
   "source": [
    "- <font face=\"Bahnschrift Condensed\" style=\"font-size: 14pt; color: #3EB489\">\n",
    "Predicting the age of abalone from physical measurements. The age of\n",
    "abalone is determined by cutting the shell through the cone, staining it,\n",
    "and counting the number of rings through a microscope -- a boring and\n",
    "time-consuming task.  Other measurements, which are easier to obtain, are\n",
    "used to predict the age.  Further information, such as weather patterns\n",
    "and location (hence food availability) may be required to solve the problem.\n",
    "</font>\n",
    "  \n",
    "  \n",
    "- <font face=\"Bahnschrift Condensed\" style=\"font-size: 14pt; color: #3EB489\">\n",
    "From the original data examples with missing values were removed (the\n",
    "majority having the predicted value missing), and the ranges of the\n",
    "continuous values have been scaled for use with an ANN (by dividing by 200).\n",
    "</font>"
   ]
  },
  {
   "cell_type": "markdown",
   "id": "9012729e",
   "metadata": {
    "papermill": {
     "duration": 0.014068,
     "end_time": "2024-04-03T19:29:35.282809",
     "exception": false,
     "start_time": "2024-04-03T19:29:35.268741",
     "status": "completed"
    },
    "tags": []
   },
   "source": [
    "![](https://www.kaggle.com/competitions/72489/images/header)"
   ]
  },
  {
   "cell_type": "markdown",
   "id": "06704151",
   "metadata": {
    "papermill": {
     "duration": 0.014075,
     "end_time": "2024-04-03T19:29:35.311032",
     "exception": false,
     "start_time": "2024-04-03T19:29:35.296957",
     "status": "completed"
    },
    "tags": []
   },
   "source": [
    "## <font face=\"Bahnschrift Condensed\" style=\"font-size: 14pt; color: #3EB489\">Abalone Dataset Description</font>\n",
    "\n",
    "**<span style=\"color: orange;\">Sex:** Represents the gender of the abalone, categorized as male (M), female (F), or infant (I).\n",
    "  \n",
    "**<span style=\"color: orange;\">Length:** Denotes the longest measurement of the abalone shell, from the apex to the base, measured in millimeters.\n",
    "  \n",
    "**<span style=\"color: orange;\">Diameter:** Represents the measurement of the abalone shell perpendicular to its length, also measured in millimeters.\n",
    "  \n",
    "**<span style=\"color: orange;\">Height:** Signifies the height of the abalone shell, measured perpendicular to the plane formed by the length and diameter, in millimeters.\n",
    "  \n",
    "**<span style=\"color: orange;\">Whole Weight:** Indicates the total weight of the abalone, encompassing both the meat and the shell, measured in grams.\n",
    "  \n",
    "**<span style=\"color: orange;\">Shucked Weight:** Represents the weight of the abalone meat only, measured in grams. It indicates the amount of meat extracted from the shell.\n",
    "  \n",
    "**<span style=\"color: orange;\">Viscera Weight:** Signifies the weight of the abalone gut after bleeding, measured in grams. It provides insights into the weight of the internal organs of the abalone.\n",
    "  \n",
    "**<span style=\"color: orange;\">Shell Weight:** Represents the weight of the abalone shell only, excluding the meat, measured in grams. It provides insights into the weight distribution between the shell and the edible portion of the abalone.\n",
    "  \n",
    "**<span style=\"color: orange;\">Rings:** Signifies the number of rings present on the abalone shell, serving as an indicator of the abalone's age."
   ]
  },
  {
   "cell_type": "markdown",
   "id": "d8d544bf",
   "metadata": {
    "papermill": {
     "duration": 0.013985,
     "end_time": "2024-04-03T19:29:35.339190",
     "exception": false,
     "start_time": "2024-04-03T19:29:35.325205",
     "status": "completed"
    },
    "tags": []
   },
   "source": [
    "# <span style=\"background-image: url(https://www.kaggle.com/competitions/72489/images/header); color: white; font-size: 50px;\">Table of Contents</span>\n",
    "\n",
    "- [Import libraries](#1)\n",
    "- [Open data files](#2)\n",
    "- [Show first 5 lines of train data](#3)\n",
    "- [Compare original train and competition train](#3.1)\n",
    "- [Concatenate original train with competition train](#3.2)\n",
    "- [Figure out how much duplicates in data](#3.3)\n",
    "- [Remove duplicates from data](#3.4)\n",
    "- [Shapes of train and test data](#4)\n",
    "- [Display descriptive statistics of train data](#5)\n",
    "- [Check the number of gaps for each feature](#6)\n",
    "- [One-hot encoding](#7.3)\n",
    "- [More plots](#7.4)\n",
    "- [Display histograms of distribution](#8)\n",
    "- [Let's count target of train data](#9)\n",
    "- [Transform the data with log1p](#10)\n",
    "- [Feature importance](#10.2)\n",
    "- [Build a heat map of correlations](#11)\n",
    "- [Define base models with tuned hyperparameters](#12)\n",
    "- [Defining the meta-model with tuned hyperparameters](#13)\n",
    "- [Creating and fitting the stacking model](#14)\n",
    "- [Predict validation set and calculate metrics score](#15)\n",
    "- [Predict the test data](#16)\n",
    "- [Build DataFrame and make submission](#17)\n",
    "- [Save the model into pickle file](#18)"
   ]
  },
  {
   "cell_type": "markdown",
   "id": "068cd3dc",
   "metadata": {
    "papermill": {
     "duration": 0.013723,
     "end_time": "2024-04-03T19:29:35.367310",
     "exception": false,
     "start_time": "2024-04-03T19:29:35.353587",
     "status": "completed"
    },
    "tags": []
   },
   "source": [
    "<a id='1'></a>\n",
    "# <span style=\"color: #3EB489; border-bottom: 6px solid  #20603D; background-color: #fadb8c;\">🌊 Import libraries</span>"
   ]
  },
  {
   "cell_type": "code",
   "execution_count": 2,
   "id": "b9586c83",
   "metadata": {
    "execution": {
     "iopub.execute_input": "2024-04-03T19:29:35.397389Z",
     "iopub.status.busy": "2024-04-03T19:29:35.396738Z",
     "iopub.status.idle": "2024-04-03T19:29:38.990602Z",
     "shell.execute_reply": "2024-04-03T19:29:38.989245Z"
    },
    "papermill": {
     "duration": 3.611912,
     "end_time": "2024-04-03T19:29:38.993214",
     "exception": false,
     "start_time": "2024-04-03T19:29:35.381302",
     "status": "completed"
    },
    "tags": []
   },
   "outputs": [],
   "source": [
    "import numpy as np\n",
    "import pandas as pd\n",
    "import matplotlib.pyplot as plt\n",
    "import seaborn as sns\n",
    "import optuna\n",
    "from optuna.samplers import TPESampler\n",
    "import pickle\n",
    "from IPython.core.display import HTML\n",
    "from sklearn.model_selection import train_test_split, cross_val_score, cross_val_predict\n",
    "from sklearn.ensemble import RandomForestRegressor\n",
    "from sklearn.ensemble import StackingRegressor\n",
    "from xgboost import XGBRegressor\n",
    "from catboost import CatBoostRegressor\n",
    "from lightgbm import LGBMRegressor\n",
    "from sklearn.metrics import mean_squared_log_error"
   ]
  },
  {
   "cell_type": "markdown",
   "id": "fb6eb8b0",
   "metadata": {
    "papermill": {
     "duration": 0.014509,
     "end_time": "2024-04-03T19:29:39.023009",
     "exception": false,
     "start_time": "2024-04-03T19:29:39.008500",
     "status": "completed"
    },
    "tags": []
   },
   "source": [
    "![](data:image/jpeg;base64,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)"
   ]
  },
  {
   "cell_type": "markdown",
   "id": "5c47775d",
   "metadata": {
    "papermill": {
     "duration": 0.013923,
     "end_time": "2024-04-03T19:29:39.052241",
     "exception": false,
     "start_time": "2024-04-03T19:29:39.038318",
     "status": "completed"
    },
    "tags": []
   },
   "source": [
    "<a id='2'></a>\n",
    "# <span style=\"color: #3EB489; border-bottom: 6px solid  #20603D; background-color: #fadb8c;\">🐚 Open data files</span>"
   ]
  },
  {
   "cell_type": "code",
   "execution_count": 3,
   "id": "9297518f",
   "metadata": {
    "execution": {
     "iopub.execute_input": "2024-04-03T19:29:39.082128Z",
     "iopub.status.busy": "2024-04-03T19:29:39.081608Z",
     "iopub.status.idle": "2024-04-03T19:29:39.310000Z",
     "shell.execute_reply": "2024-04-03T19:29:39.309285Z"
    },
    "papermill": {
     "duration": 0.246005,
     "end_time": "2024-04-03T19:29:39.312197",
     "exception": false,
     "start_time": "2024-04-03T19:29:39.066192",
     "status": "completed"
    },
    "tags": []
   },
   "outputs": [],
   "source": [
    "original_train = pd.read_csv('/kaggle/input/ps-4-e-2-abalone-dataset-from-uci/abalone.data', header=None)\n",
    "\n",
    "train = pd.read_csv('/kaggle/input/playground-series-s4e4/train.csv')\n",
    "test = pd.read_csv('/kaggle/input/playground-series-s4e4/test.csv')\n",
    "sample_submission = pd.read_csv('/kaggle/input/playground-series-s4e4/sample_submission.csv')"
   ]
  },
  {
   "cell_type": "markdown",
   "id": "1816ba1e",
   "metadata": {
    "papermill": {
     "duration": 0.014649,
     "end_time": "2024-04-03T19:29:39.341912",
     "exception": false,
     "start_time": "2024-04-03T19:29:39.327263",
     "status": "completed"
    },
    "tags": []
   },
   "source": [
    "<a id='3'></a>\n",
    "# <span style=\"color: #3EB489; border-bottom: 6px solid  #20603D; background-color: #fadb8c;\">⛵ Show first 5 lines of train data</span>"
   ]
  },
  {
   "cell_type": "code",
   "execution_count": 4,
   "id": "1e07b4c2",
   "metadata": {
    "execution": {
     "iopub.execute_input": "2024-04-03T19:29:39.373242Z",
     "iopub.status.busy": "2024-04-03T19:29:39.372894Z",
     "iopub.status.idle": "2024-04-03T19:29:39.399813Z",
     "shell.execute_reply": "2024-04-03T19:29:39.398611Z"
    },
    "papermill": {
     "duration": 0.044582,
     "end_time": "2024-04-03T19:29:39.401619",
     "exception": false,
     "start_time": "2024-04-03T19:29:39.357037",
     "status": "completed"
    },
    "tags": []
   },
   "outputs": [
    {
     "data": {
      "text/html": [
       "<div>\n",
       "<style scoped>\n",
       "    .dataframe tbody tr th:only-of-type {\n",
       "        vertical-align: middle;\n",
       "    }\n",
       "\n",
       "    .dataframe tbody tr th {\n",
       "        vertical-align: top;\n",
       "    }\n",
       "\n",
       "    .dataframe thead th {\n",
       "        text-align: right;\n",
       "    }\n",
       "</style>\n",
       "<table border=\"1\" class=\"dataframe\">\n",
       "  <thead>\n",
       "    <tr style=\"text-align: right;\">\n",
       "      <th></th>\n",
       "      <th>id</th>\n",
       "      <th>Sex</th>\n",
       "      <th>Length</th>\n",
       "      <th>Diameter</th>\n",
       "      <th>Height</th>\n",
       "      <th>Whole weight</th>\n",
       "      <th>Whole weight.1</th>\n",
       "      <th>Whole weight.2</th>\n",
       "      <th>Shell weight</th>\n",
       "      <th>Rings</th>\n",
       "    </tr>\n",
       "  </thead>\n",
       "  <tbody>\n",
       "    <tr>\n",
       "      <th>0</th>\n",
       "      <td>0</td>\n",
       "      <td>F</td>\n",
       "      <td>0.550</td>\n",
       "      <td>0.430</td>\n",
       "      <td>0.150</td>\n",
       "      <td>0.7715</td>\n",
       "      <td>0.3285</td>\n",
       "      <td>0.1465</td>\n",
       "      <td>0.2400</td>\n",
       "      <td>11</td>\n",
       "    </tr>\n",
       "    <tr>\n",
       "      <th>1</th>\n",
       "      <td>1</td>\n",
       "      <td>F</td>\n",
       "      <td>0.630</td>\n",
       "      <td>0.490</td>\n",
       "      <td>0.145</td>\n",
       "      <td>1.1300</td>\n",
       "      <td>0.4580</td>\n",
       "      <td>0.2765</td>\n",
       "      <td>0.3200</td>\n",
       "      <td>11</td>\n",
       "    </tr>\n",
       "    <tr>\n",
       "      <th>2</th>\n",
       "      <td>2</td>\n",
       "      <td>I</td>\n",
       "      <td>0.160</td>\n",
       "      <td>0.110</td>\n",
       "      <td>0.025</td>\n",
       "      <td>0.0210</td>\n",
       "      <td>0.0055</td>\n",
       "      <td>0.0030</td>\n",
       "      <td>0.0050</td>\n",
       "      <td>6</td>\n",
       "    </tr>\n",
       "    <tr>\n",
       "      <th>3</th>\n",
       "      <td>3</td>\n",
       "      <td>M</td>\n",
       "      <td>0.595</td>\n",
       "      <td>0.475</td>\n",
       "      <td>0.150</td>\n",
       "      <td>0.9145</td>\n",
       "      <td>0.3755</td>\n",
       "      <td>0.2055</td>\n",
       "      <td>0.2500</td>\n",
       "      <td>10</td>\n",
       "    </tr>\n",
       "    <tr>\n",
       "      <th>4</th>\n",
       "      <td>4</td>\n",
       "      <td>I</td>\n",
       "      <td>0.555</td>\n",
       "      <td>0.425</td>\n",
       "      <td>0.130</td>\n",
       "      <td>0.7820</td>\n",
       "      <td>0.3695</td>\n",
       "      <td>0.1600</td>\n",
       "      <td>0.1975</td>\n",
       "      <td>9</td>\n",
       "    </tr>\n",
       "  </tbody>\n",
       "</table>\n",
       "</div>"
      ],
      "text/plain": [
       "   id Sex  Length  Diameter  Height  Whole weight  Whole weight.1  \\\n",
       "0   0   F   0.550     0.430   0.150        0.7715          0.3285   \n",
       "1   1   F   0.630     0.490   0.145        1.1300          0.4580   \n",
       "2   2   I   0.160     0.110   0.025        0.0210          0.0055   \n",
       "3   3   M   0.595     0.475   0.150        0.9145          0.3755   \n",
       "4   4   I   0.555     0.425   0.130        0.7820          0.3695   \n",
       "\n",
       "   Whole weight.2  Shell weight  Rings  \n",
       "0          0.1465        0.2400     11  \n",
       "1          0.2765        0.3200     11  \n",
       "2          0.0030        0.0050      6  \n",
       "3          0.2055        0.2500     10  \n",
       "4          0.1600        0.1975      9  "
      ]
     },
     "execution_count": 4,
     "metadata": {},
     "output_type": "execute_result"
    }
   ],
   "source": [
    "# Show all properties on display\n",
    "pd.set_option('display.max_columns', None)\n",
    "\n",
    "train.head()"
   ]
  },
  {
   "cell_type": "code",
   "execution_count": 5,
   "id": "f677c3d4",
   "metadata": {
    "execution": {
     "iopub.execute_input": "2024-04-03T19:29:39.433700Z",
     "iopub.status.busy": "2024-04-03T19:29:39.432932Z",
     "iopub.status.idle": "2024-04-03T19:29:39.446829Z",
     "shell.execute_reply": "2024-04-03T19:29:39.445912Z"
    },
    "papermill": {
     "duration": 0.031133,
     "end_time": "2024-04-03T19:29:39.448618",
     "exception": false,
     "start_time": "2024-04-03T19:29:39.417485",
     "status": "completed"
    },
    "tags": []
   },
   "outputs": [
    {
     "data": {
      "text/html": [
       "<div>\n",
       "<style scoped>\n",
       "    .dataframe tbody tr th:only-of-type {\n",
       "        vertical-align: middle;\n",
       "    }\n",
       "\n",
       "    .dataframe tbody tr th {\n",
       "        vertical-align: top;\n",
       "    }\n",
       "\n",
       "    .dataframe thead th {\n",
       "        text-align: right;\n",
       "    }\n",
       "</style>\n",
       "<table border=\"1\" class=\"dataframe\">\n",
       "  <thead>\n",
       "    <tr style=\"text-align: right;\">\n",
       "      <th></th>\n",
       "      <th>id</th>\n",
       "      <th>Sex</th>\n",
       "      <th>Length</th>\n",
       "      <th>Diameter</th>\n",
       "      <th>Height</th>\n",
       "      <th>Whole weight</th>\n",
       "      <th>Whole weight.1</th>\n",
       "      <th>Whole weight.2</th>\n",
       "      <th>Shell weight</th>\n",
       "    </tr>\n",
       "  </thead>\n",
       "  <tbody>\n",
       "    <tr>\n",
       "      <th>0</th>\n",
       "      <td>90615</td>\n",
       "      <td>M</td>\n",
       "      <td>0.645</td>\n",
       "      <td>0.475</td>\n",
       "      <td>0.155</td>\n",
       "      <td>1.2380</td>\n",
       "      <td>0.6185</td>\n",
       "      <td>0.3125</td>\n",
       "      <td>0.3005</td>\n",
       "    </tr>\n",
       "    <tr>\n",
       "      <th>1</th>\n",
       "      <td>90616</td>\n",
       "      <td>M</td>\n",
       "      <td>0.580</td>\n",
       "      <td>0.460</td>\n",
       "      <td>0.160</td>\n",
       "      <td>0.9830</td>\n",
       "      <td>0.4785</td>\n",
       "      <td>0.2195</td>\n",
       "      <td>0.2750</td>\n",
       "    </tr>\n",
       "    <tr>\n",
       "      <th>2</th>\n",
       "      <td>90617</td>\n",
       "      <td>M</td>\n",
       "      <td>0.560</td>\n",
       "      <td>0.420</td>\n",
       "      <td>0.140</td>\n",
       "      <td>0.8395</td>\n",
       "      <td>0.3525</td>\n",
       "      <td>0.1845</td>\n",
       "      <td>0.2405</td>\n",
       "    </tr>\n",
       "    <tr>\n",
       "      <th>3</th>\n",
       "      <td>90618</td>\n",
       "      <td>M</td>\n",
       "      <td>0.570</td>\n",
       "      <td>0.490</td>\n",
       "      <td>0.145</td>\n",
       "      <td>0.8740</td>\n",
       "      <td>0.3525</td>\n",
       "      <td>0.1865</td>\n",
       "      <td>0.2350</td>\n",
       "    </tr>\n",
       "    <tr>\n",
       "      <th>4</th>\n",
       "      <td>90619</td>\n",
       "      <td>I</td>\n",
       "      <td>0.415</td>\n",
       "      <td>0.325</td>\n",
       "      <td>0.110</td>\n",
       "      <td>0.3580</td>\n",
       "      <td>0.1575</td>\n",
       "      <td>0.0670</td>\n",
       "      <td>0.1050</td>\n",
       "    </tr>\n",
       "  </tbody>\n",
       "</table>\n",
       "</div>"
      ],
      "text/plain": [
       "      id Sex  Length  Diameter  Height  Whole weight  Whole weight.1  \\\n",
       "0  90615   M   0.645     0.475   0.155        1.2380          0.6185   \n",
       "1  90616   M   0.580     0.460   0.160        0.9830          0.4785   \n",
       "2  90617   M   0.560     0.420   0.140        0.8395          0.3525   \n",
       "3  90618   M   0.570     0.490   0.145        0.8740          0.3525   \n",
       "4  90619   I   0.415     0.325   0.110        0.3580          0.1575   \n",
       "\n",
       "   Whole weight.2  Shell weight  \n",
       "0          0.3125        0.3005  \n",
       "1          0.2195        0.2750  \n",
       "2          0.1845        0.2405  \n",
       "3          0.1865        0.2350  \n",
       "4          0.0670        0.1050  "
      ]
     },
     "execution_count": 5,
     "metadata": {},
     "output_type": "execute_result"
    }
   ],
   "source": [
    "test.head()"
   ]
  },
  {
   "cell_type": "markdown",
   "id": "2e4cc9b6",
   "metadata": {
    "papermill": {
     "duration": 0.014396,
     "end_time": "2024-04-03T19:29:39.478299",
     "exception": false,
     "start_time": "2024-04-03T19:29:39.463903",
     "status": "completed"
    },
    "tags": []
   },
   "source": [
    "### Target feature is 'Rings'"
   ]
  },
  {
   "cell_type": "markdown",
   "id": "33b5c986",
   "metadata": {
    "papermill": {
     "duration": 0.014549,
     "end_time": "2024-04-03T19:29:39.507757",
     "exception": false,
     "start_time": "2024-04-03T19:29:39.493208",
     "status": "completed"
    },
    "tags": []
   },
   "source": [
    "<a id='3.1'></a>\n",
    "# <span style=\"color: #3EB489; border-bottom: 6px solid  #20603D; background-color: #fadb8c;\">🍤 Compare original train and competition train</span>"
   ]
  },
  {
   "cell_type": "code",
   "execution_count": 6,
   "id": "32739091",
   "metadata": {
    "execution": {
     "iopub.execute_input": "2024-04-03T19:29:39.540385Z",
     "iopub.status.busy": "2024-04-03T19:29:39.540069Z",
     "iopub.status.idle": "2024-04-03T19:29:39.547388Z",
     "shell.execute_reply": "2024-04-03T19:29:39.545861Z"
    },
    "papermill": {
     "duration": 0.025493,
     "end_time": "2024-04-03T19:29:39.549324",
     "exception": false,
     "start_time": "2024-04-03T19:29:39.523831",
     "status": "completed"
    },
    "tags": []
   },
   "outputs": [
    {
     "name": "stdout",
     "output_type": "stream",
     "text": [
      "(4177, 9)\n"
     ]
    },
    {
     "data": {
      "text/plain": [
       "[0, 1, 2, 3, 4, 5, 6, 7, 8]"
      ]
     },
     "execution_count": 6,
     "metadata": {},
     "output_type": "execute_result"
    }
   ],
   "source": [
    "print(original_train.shape)\n",
    "original_train.columns.tolist()"
   ]
  },
  {
   "cell_type": "markdown",
   "id": "697e837d",
   "metadata": {
    "papermill": {
     "duration": 0.067912,
     "end_time": "2024-04-03T19:29:39.632166",
     "exception": false,
     "start_time": "2024-04-03T19:29:39.564254",
     "status": "completed"
    },
    "tags": []
   },
   "source": [
    "### In original data there is no columns in file .data"
   ]
  },
  {
   "cell_type": "code",
   "execution_count": 7,
   "id": "25c95a53",
   "metadata": {
    "execution": {
     "iopub.execute_input": "2024-04-03T19:29:39.664288Z",
     "iopub.status.busy": "2024-04-03T19:29:39.663926Z",
     "iopub.status.idle": "2024-04-03T19:29:39.700871Z",
     "shell.execute_reply": "2024-04-03T19:29:39.699778Z"
    },
    "papermill": {
     "duration": 0.055549,
     "end_time": "2024-04-03T19:29:39.702860",
     "exception": false,
     "start_time": "2024-04-03T19:29:39.647311",
     "status": "completed"
    },
    "tags": []
   },
   "outputs": [
    {
     "data": {
      "text/html": [
       "<div>\n",
       "<style scoped>\n",
       "    .dataframe tbody tr th:only-of-type {\n",
       "        vertical-align: middle;\n",
       "    }\n",
       "\n",
       "    .dataframe tbody tr th {\n",
       "        vertical-align: top;\n",
       "    }\n",
       "\n",
       "    .dataframe thead th {\n",
       "        text-align: right;\n",
       "    }\n",
       "</style>\n",
       "<table border=\"1\" class=\"dataframe\">\n",
       "  <thead>\n",
       "    <tr style=\"text-align: right;\">\n",
       "      <th></th>\n",
       "      <th>Sex</th>\n",
       "      <th>Length</th>\n",
       "      <th>Diameter</th>\n",
       "      <th>Height</th>\n",
       "      <th>Whole weight</th>\n",
       "      <th>Whole weight.1</th>\n",
       "      <th>Whole weight.2</th>\n",
       "      <th>Shell weight</th>\n",
       "      <th>Rings</th>\n",
       "    </tr>\n",
       "  </thead>\n",
       "  <tbody>\n",
       "    <tr>\n",
       "      <th>4172</th>\n",
       "      <td>F</td>\n",
       "      <td>0.565</td>\n",
       "      <td>0.450</td>\n",
       "      <td>0.165</td>\n",
       "      <td>0.8870</td>\n",
       "      <td>0.3700</td>\n",
       "      <td>0.2390</td>\n",
       "      <td>0.2490</td>\n",
       "      <td>11</td>\n",
       "    </tr>\n",
       "    <tr>\n",
       "      <th>4173</th>\n",
       "      <td>M</td>\n",
       "      <td>0.590</td>\n",
       "      <td>0.440</td>\n",
       "      <td>0.135</td>\n",
       "      <td>0.9660</td>\n",
       "      <td>0.4390</td>\n",
       "      <td>0.2145</td>\n",
       "      <td>0.2605</td>\n",
       "      <td>10</td>\n",
       "    </tr>\n",
       "    <tr>\n",
       "      <th>4174</th>\n",
       "      <td>M</td>\n",
       "      <td>0.600</td>\n",
       "      <td>0.475</td>\n",
       "      <td>0.205</td>\n",
       "      <td>1.1760</td>\n",
       "      <td>0.5255</td>\n",
       "      <td>0.2875</td>\n",
       "      <td>0.3080</td>\n",
       "      <td>9</td>\n",
       "    </tr>\n",
       "    <tr>\n",
       "      <th>4175</th>\n",
       "      <td>F</td>\n",
       "      <td>0.625</td>\n",
       "      <td>0.485</td>\n",
       "      <td>0.150</td>\n",
       "      <td>1.0945</td>\n",
       "      <td>0.5310</td>\n",
       "      <td>0.2610</td>\n",
       "      <td>0.2960</td>\n",
       "      <td>10</td>\n",
       "    </tr>\n",
       "    <tr>\n",
       "      <th>4176</th>\n",
       "      <td>M</td>\n",
       "      <td>0.710</td>\n",
       "      <td>0.555</td>\n",
       "      <td>0.195</td>\n",
       "      <td>1.9485</td>\n",
       "      <td>0.9455</td>\n",
       "      <td>0.3765</td>\n",
       "      <td>0.4950</td>\n",
       "      <td>12</td>\n",
       "    </tr>\n",
       "  </tbody>\n",
       "</table>\n",
       "</div>"
      ],
      "text/plain": [
       "     Sex  Length  Diameter  Height  Whole weight  Whole weight.1  \\\n",
       "4172   F   0.565     0.450   0.165        0.8870          0.3700   \n",
       "4173   M   0.590     0.440   0.135        0.9660          0.4390   \n",
       "4174   M   0.600     0.475   0.205        1.1760          0.5255   \n",
       "4175   F   0.625     0.485   0.150        1.0945          0.5310   \n",
       "4176   M   0.710     0.555   0.195        1.9485          0.9455   \n",
       "\n",
       "      Whole weight.2  Shell weight  Rings  \n",
       "4172          0.2390        0.2490     11  \n",
       "4173          0.2145        0.2605     10  \n",
       "4174          0.2875        0.3080      9  \n",
       "4175          0.2610        0.2960     10  \n",
       "4176          0.3765        0.4950     12  "
      ]
     },
     "execution_count": 7,
     "metadata": {},
     "output_type": "execute_result"
    }
   ],
   "source": [
    "# Save original dataset into .csv\n",
    "original_train.columns = train.columns[1:]\n",
    "original_train.to_csv('🌊🐚⛵🍤 PS4 E4 original abalone dataset from UCI.csv', index=False)\n",
    "original_train.tail()"
   ]
  },
  {
   "cell_type": "code",
   "execution_count": 8,
   "id": "e2d25683",
   "metadata": {
    "execution": {
     "iopub.execute_input": "2024-04-03T19:29:39.735623Z",
     "iopub.status.busy": "2024-04-03T19:29:39.735305Z",
     "iopub.status.idle": "2024-04-03T19:29:39.742542Z",
     "shell.execute_reply": "2024-04-03T19:29:39.741483Z"
    },
    "papermill": {
     "duration": 0.025955,
     "end_time": "2024-04-03T19:29:39.744449",
     "exception": false,
     "start_time": "2024-04-03T19:29:39.718494",
     "status": "completed"
    },
    "tags": []
   },
   "outputs": [
    {
     "name": "stdout",
     "output_type": "stream",
     "text": [
      "(90615, 10)\n"
     ]
    },
    {
     "data": {
      "text/plain": [
       "['id',\n",
       " 'Sex',\n",
       " 'Length',\n",
       " 'Diameter',\n",
       " 'Height',\n",
       " 'Whole weight',\n",
       " 'Whole weight.1',\n",
       " 'Whole weight.2',\n",
       " 'Shell weight',\n",
       " 'Rings']"
      ]
     },
     "execution_count": 8,
     "metadata": {},
     "output_type": "execute_result"
    }
   ],
   "source": [
    "print(train.shape)\n",
    "train.columns.tolist()"
   ]
  },
  {
   "cell_type": "markdown",
   "id": "f1309fdd",
   "metadata": {
    "papermill": {
     "duration": 0.015084,
     "end_time": "2024-04-03T19:29:39.776023",
     "exception": false,
     "start_time": "2024-04-03T19:29:39.760939",
     "status": "completed"
    },
    "tags": []
   },
   "source": [
    "<a id='3.2'></a>\n",
    "# <span style=\"color: #3EB489; border-bottom: 6px solid  #20603D; background-color: #fadb8c;\">🌊 Concatenate original train with competition train"
   ]
  },
  {
   "cell_type": "code",
   "execution_count": 9,
   "id": "0c59a6b8",
   "metadata": {
    "execution": {
     "iopub.execute_input": "2024-04-03T19:29:39.808984Z",
     "iopub.status.busy": "2024-04-03T19:29:39.808624Z",
     "iopub.status.idle": "2024-04-03T19:29:39.827145Z",
     "shell.execute_reply": "2024-04-03T19:29:39.826378Z"
    },
    "papermill": {
     "duration": 0.038148,
     "end_time": "2024-04-03T19:29:39.828987",
     "exception": false,
     "start_time": "2024-04-03T19:29:39.790839",
     "status": "completed"
    },
    "tags": []
   },
   "outputs": [],
   "source": [
    "submission_id = test.id\n",
    "\n",
    "train.drop(columns='id', axis=1, inplace=True)\n",
    "test.drop(columns='id', axis=1, inplace=True)"
   ]
  },
  {
   "cell_type": "code",
   "execution_count": 10,
   "id": "8f5605bb",
   "metadata": {
    "execution": {
     "iopub.execute_input": "2024-04-03T19:29:39.861427Z",
     "iopub.status.busy": "2024-04-03T19:29:39.861072Z",
     "iopub.status.idle": "2024-04-03T19:29:39.870461Z",
     "shell.execute_reply": "2024-04-03T19:29:39.869577Z"
    },
    "papermill": {
     "duration": 0.02776,
     "end_time": "2024-04-03T19:29:39.872345",
     "exception": false,
     "start_time": "2024-04-03T19:29:39.844585",
     "status": "completed"
    },
    "tags": []
   },
   "outputs": [
    {
     "data": {
      "text/plain": [
       "(94792, 9)"
      ]
     },
     "execution_count": 10,
     "metadata": {},
     "output_type": "execute_result"
    }
   ],
   "source": [
    "train = pd.concat(objs=[train, original_train])\n",
    "train.shape"
   ]
  },
  {
   "cell_type": "markdown",
   "id": "c76d66b0",
   "metadata": {
    "papermill": {
     "duration": 0.015422,
     "end_time": "2024-04-03T19:29:39.903830",
     "exception": false,
     "start_time": "2024-04-03T19:29:39.888408",
     "status": "completed"
    },
    "tags": []
   },
   "source": [
    "<a id='3.3'></a>\n",
    "# <span style=\"color: #3EB489; border-bottom: 6px solid  #20603D; background-color: #fadb8c;\">🐚 Figure out how much duplicates in data"
   ]
  },
  {
   "cell_type": "code",
   "execution_count": 11,
   "id": "4d4cf20f",
   "metadata": {
    "execution": {
     "iopub.execute_input": "2024-04-03T19:29:39.936360Z",
     "iopub.status.busy": "2024-04-03T19:29:39.936015Z",
     "iopub.status.idle": "2024-04-03T19:29:39.990224Z",
     "shell.execute_reply": "2024-04-03T19:29:39.988678Z"
    },
    "papermill": {
     "duration": 0.072732,
     "end_time": "2024-04-03T19:29:39.992104",
     "exception": false,
     "start_time": "2024-04-03T19:29:39.919372",
     "status": "completed"
    },
    "tags": []
   },
   "outputs": [
    {
     "name": "stdout",
     "output_type": "stream",
     "text": [
      "0\n",
      "0\n"
     ]
    }
   ],
   "source": [
    "train_duplicates_number = train[train.duplicated()]\n",
    "test_duplicates_number = test[test.duplicated()]\n",
    "                             \n",
    "print(len(train_duplicates_number))\n",
    "print(len(test_duplicates_number))"
   ]
  },
  {
   "cell_type": "markdown",
   "id": "e9085af5",
   "metadata": {
    "papermill": {
     "duration": 0.015843,
     "end_time": "2024-04-03T19:29:40.023926",
     "exception": false,
     "start_time": "2024-04-03T19:29:40.008083",
     "status": "completed"
    },
    "tags": []
   },
   "source": [
    "#### There are no any duplicats in data but if they would be presented use code below"
   ]
  },
  {
   "cell_type": "markdown",
   "id": "264b3bbb",
   "metadata": {
    "papermill": {
     "duration": 0.01519,
     "end_time": "2024-04-03T19:29:40.054252",
     "exception": false,
     "start_time": "2024-04-03T19:29:40.039062",
     "status": "completed"
    },
    "tags": []
   },
   "source": [
    "<a id='3.4'></a>\n",
    "# <span style=\"color: #3EB489; border-bottom: 6px solid  #20603D; background-color: #fadb8c;\">⛵ Remove duplicates from data"
   ]
  },
  {
   "cell_type": "code",
   "execution_count": 12,
   "id": "b80f55e0",
   "metadata": {
    "execution": {
     "iopub.execute_input": "2024-04-03T19:29:40.086875Z",
     "iopub.status.busy": "2024-04-03T19:29:40.086289Z",
     "iopub.status.idle": "2024-04-03T19:29:40.137045Z",
     "shell.execute_reply": "2024-04-03T19:29:40.135972Z"
    },
    "papermill": {
     "duration": 0.069439,
     "end_time": "2024-04-03T19:29:40.139172",
     "exception": false,
     "start_time": "2024-04-03T19:29:40.069733",
     "status": "completed"
    },
    "tags": []
   },
   "outputs": [
    {
     "name": "stdout",
     "output_type": "stream",
     "text": [
      "0\n"
     ]
    }
   ],
   "source": [
    "train = train.drop_duplicates()\n",
    "\n",
    "# Check whether all duplicates were removed\n",
    "train_duplicates = train[train.duplicated()]\n",
    "print(len(train_duplicates))"
   ]
  },
  {
   "cell_type": "markdown",
   "id": "2f711918",
   "metadata": {
    "papermill": {
     "duration": 0.016054,
     "end_time": "2024-04-03T19:29:40.171259",
     "exception": false,
     "start_time": "2024-04-03T19:29:40.155205",
     "status": "completed"
    },
    "tags": []
   },
   "source": [
    "<a id='4'></a>\n",
    "# <span style=\"color: #3EB489; border-bottom: 6px solid  #20603D; background-color: #fadb8c;\">🐟 Shapes of train and test data</span>"
   ]
  },
  {
   "cell_type": "code",
   "execution_count": 13,
   "id": "633af6e6",
   "metadata": {
    "execution": {
     "iopub.execute_input": "2024-04-03T19:29:40.205556Z",
     "iopub.status.busy": "2024-04-03T19:29:40.204972Z",
     "iopub.status.idle": "2024-04-03T19:29:40.210897Z",
     "shell.execute_reply": "2024-04-03T19:29:40.209764Z"
    },
    "papermill": {
     "duration": 0.024194,
     "end_time": "2024-04-03T19:29:40.212582",
     "exception": false,
     "start_time": "2024-04-03T19:29:40.188388",
     "status": "completed"
    },
    "tags": []
   },
   "outputs": [
    {
     "name": "stdout",
     "output_type": "stream",
     "text": [
      "Train data: (94792, 9)\n",
      "Test data: (60411, 8)\n",
      "\n",
      "Train data consists of 61.08% of all observations\n",
      "Test data consists of 38.92% of all observations\n"
     ]
    }
   ],
   "source": [
    "print(f'Train data: {train.shape}')\n",
    "print(f'Test data: {test.shape}\\n')\n",
    "\n",
    "train_data_percentage = np.round(train.shape[0] / (train.shape[0] + test.shape[0]), 4)\n",
    "print(f'Train data consists of {train_data_percentage * 100}% of all observations')\n",
    "print(f'Test data consists of {(1 - train_data_percentage) * 100}% of all observations')"
   ]
  },
  {
   "cell_type": "markdown",
   "id": "00335d70",
   "metadata": {
    "papermill": {
     "duration": 0.015268,
     "end_time": "2024-04-03T19:29:40.243474",
     "exception": false,
     "start_time": "2024-04-03T19:29:40.228206",
     "status": "completed"
    },
    "tags": []
   },
   "source": [
    "![](https://www.altnaturals.com/cdn/shop/products/All-AbaloneSizes-Small_1500x411.jpg?v=1637679377)"
   ]
  },
  {
   "cell_type": "markdown",
   "id": "a66486d6",
   "metadata": {
    "papermill": {
     "duration": 0.014811,
     "end_time": "2024-04-03T19:29:40.273598",
     "exception": false,
     "start_time": "2024-04-03T19:29:40.258787",
     "status": "completed"
    },
    "tags": []
   },
   "source": [
    "<a id='5'></a>\n",
    "# <span style=\"color: #3EB489; border-bottom: 6px solid  #20603D; background-color: #fadb8c;\">🐠 Display descriptive statistics of train data</span>"
   ]
  },
  {
   "cell_type": "code",
   "execution_count": 14,
   "id": "714d52bd",
   "metadata": {
    "execution": {
     "iopub.execute_input": "2024-04-03T19:29:40.305467Z",
     "iopub.status.busy": "2024-04-03T19:29:40.304937Z",
     "iopub.status.idle": "2024-04-03T19:29:40.363047Z",
     "shell.execute_reply": "2024-04-03T19:29:40.361876Z"
    },
    "papermill": {
     "duration": 0.076362,
     "end_time": "2024-04-03T19:29:40.365058",
     "exception": false,
     "start_time": "2024-04-03T19:29:40.288696",
     "status": "completed"
    },
    "tags": []
   },
   "outputs": [
    {
     "data": {
      "text/html": [
       "<div>\n",
       "<style scoped>\n",
       "    .dataframe tbody tr th:only-of-type {\n",
       "        vertical-align: middle;\n",
       "    }\n",
       "\n",
       "    .dataframe tbody tr th {\n",
       "        vertical-align: top;\n",
       "    }\n",
       "\n",
       "    .dataframe thead th {\n",
       "        text-align: right;\n",
       "    }\n",
       "</style>\n",
       "<table border=\"1\" class=\"dataframe\">\n",
       "  <thead>\n",
       "    <tr style=\"text-align: right;\">\n",
       "      <th></th>\n",
       "      <th>count</th>\n",
       "      <th>mean</th>\n",
       "      <th>std</th>\n",
       "      <th>min</th>\n",
       "      <th>25%</th>\n",
       "      <th>50%</th>\n",
       "      <th>75%</th>\n",
       "      <th>max</th>\n",
       "    </tr>\n",
       "  </thead>\n",
       "  <tbody>\n",
       "    <tr>\n",
       "      <th>Length</th>\n",
       "      <td>94792.0</td>\n",
       "      <td>0.517402</td>\n",
       "      <td>0.118308</td>\n",
       "      <td>0.0750</td>\n",
       "      <td>0.4450</td>\n",
       "      <td>0.5450</td>\n",
       "      <td>0.6000</td>\n",
       "      <td>0.8150</td>\n",
       "    </tr>\n",
       "    <tr>\n",
       "      <th>Diameter</th>\n",
       "      <td>94792.0</td>\n",
       "      <td>0.401952</td>\n",
       "      <td>0.098088</td>\n",
       "      <td>0.0550</td>\n",
       "      <td>0.3450</td>\n",
       "      <td>0.4250</td>\n",
       "      <td>0.4700</td>\n",
       "      <td>0.6500</td>\n",
       "    </tr>\n",
       "    <tr>\n",
       "      <th>Height</th>\n",
       "      <td>94792.0</td>\n",
       "      <td>0.135643</td>\n",
       "      <td>0.038193</td>\n",
       "      <td>0.0000</td>\n",
       "      <td>0.1100</td>\n",
       "      <td>0.1400</td>\n",
       "      <td>0.1600</td>\n",
       "      <td>1.1300</td>\n",
       "    </tr>\n",
       "    <tr>\n",
       "      <th>Whole weight</th>\n",
       "      <td>94792.0</td>\n",
       "      <td>0.790785</td>\n",
       "      <td>0.459231</td>\n",
       "      <td>0.0020</td>\n",
       "      <td>0.4195</td>\n",
       "      <td>0.7995</td>\n",
       "      <td>1.0725</td>\n",
       "      <td>2.8255</td>\n",
       "    </tr>\n",
       "    <tr>\n",
       "      <th>Whole weight.1</th>\n",
       "      <td>94792.0</td>\n",
       "      <td>0.341597</td>\n",
       "      <td>0.205267</td>\n",
       "      <td>0.0010</td>\n",
       "      <td>0.1775</td>\n",
       "      <td>0.3300</td>\n",
       "      <td>0.4645</td>\n",
       "      <td>1.4880</td>\n",
       "    </tr>\n",
       "    <tr>\n",
       "      <th>Whole weight.2</th>\n",
       "      <td>94792.0</td>\n",
       "      <td>0.169914</td>\n",
       "      <td>0.101334</td>\n",
       "      <td>0.0005</td>\n",
       "      <td>0.0865</td>\n",
       "      <td>0.1660</td>\n",
       "      <td>0.2330</td>\n",
       "      <td>0.7600</td>\n",
       "    </tr>\n",
       "    <tr>\n",
       "      <th>Shell weight</th>\n",
       "      <td>94792.0</td>\n",
       "      <td>0.226468</td>\n",
       "      <td>0.130639</td>\n",
       "      <td>0.0015</td>\n",
       "      <td>0.1200</td>\n",
       "      <td>0.2250</td>\n",
       "      <td>0.3050</td>\n",
       "      <td>1.0050</td>\n",
       "    </tr>\n",
       "    <tr>\n",
       "      <th>Rings</th>\n",
       "      <td>94792.0</td>\n",
       "      <td>9.707233</td>\n",
       "      <td>3.178704</td>\n",
       "      <td>1.0000</td>\n",
       "      <td>8.0000</td>\n",
       "      <td>9.0000</td>\n",
       "      <td>11.0000</td>\n",
       "      <td>29.0000</td>\n",
       "    </tr>\n",
       "  </tbody>\n",
       "</table>\n",
       "</div>"
      ],
      "text/plain": [
       "                  count      mean       std     min     25%     50%      75%  \\\n",
       "Length          94792.0  0.517402  0.118308  0.0750  0.4450  0.5450   0.6000   \n",
       "Diameter        94792.0  0.401952  0.098088  0.0550  0.3450  0.4250   0.4700   \n",
       "Height          94792.0  0.135643  0.038193  0.0000  0.1100  0.1400   0.1600   \n",
       "Whole weight    94792.0  0.790785  0.459231  0.0020  0.4195  0.7995   1.0725   \n",
       "Whole weight.1  94792.0  0.341597  0.205267  0.0010  0.1775  0.3300   0.4645   \n",
       "Whole weight.2  94792.0  0.169914  0.101334  0.0005  0.0865  0.1660   0.2330   \n",
       "Shell weight    94792.0  0.226468  0.130639  0.0015  0.1200  0.2250   0.3050   \n",
       "Rings           94792.0  9.707233  3.178704  1.0000  8.0000  9.0000  11.0000   \n",
       "\n",
       "                    max  \n",
       "Length           0.8150  \n",
       "Diameter         0.6500  \n",
       "Height           1.1300  \n",
       "Whole weight     2.8255  \n",
       "Whole weight.1   1.4880  \n",
       "Whole weight.2   0.7600  \n",
       "Shell weight     1.0050  \n",
       "Rings           29.0000  "
      ]
     },
     "execution_count": 14,
     "metadata": {},
     "output_type": "execute_result"
    }
   ],
   "source": [
    "train.describe().T"
   ]
  },
  {
   "cell_type": "markdown",
   "id": "09197981",
   "metadata": {
    "papermill": {
     "duration": 0.015794,
     "end_time": "2024-04-03T19:29:40.398011",
     "exception": false,
     "start_time": "2024-04-03T19:29:40.382217",
     "status": "completed"
    },
    "tags": []
   },
   "source": [
    "<a id='6'></a>\n",
    "# <span style=\"color: #3EB489; border-bottom: 6px solid  #20603D; background-color: #fadb8c;\">🐡 Check the number of gaps for each feature</span>"
   ]
  },
  {
   "cell_type": "code",
   "execution_count": 15,
   "id": "5bc04169",
   "metadata": {
    "execution": {
     "iopub.execute_input": "2024-04-03T19:29:40.432587Z",
     "iopub.status.busy": "2024-04-03T19:29:40.432270Z",
     "iopub.status.idle": "2024-04-03T19:29:40.446898Z",
     "shell.execute_reply": "2024-04-03T19:29:40.445660Z"
    },
    "papermill": {
     "duration": 0.033849,
     "end_time": "2024-04-03T19:29:40.448786",
     "exception": false,
     "start_time": "2024-04-03T19:29:40.414937",
     "status": "completed"
    },
    "tags": []
   },
   "outputs": [
    {
     "name": "stdout",
     "output_type": "stream",
     "text": [
      "TRAIN data\n",
      "\n",
      "Sex               0\n",
      "Length            0\n",
      "Diameter          0\n",
      "Height            0\n",
      "Whole weight      0\n",
      "Whole weight.1    0\n",
      "Whole weight.2    0\n",
      "Shell weight      0\n",
      "Rings             0\n",
      "dtype: int64\n",
      "\n",
      "\n",
      "\n",
      "TEST data\n",
      "\n",
      "Sex               0\n",
      "Length            0\n",
      "Diameter          0\n",
      "Height            0\n",
      "Whole weight      0\n",
      "Whole weight.1    0\n",
      "Whole weight.2    0\n",
      "Shell weight      0\n",
      "dtype: int64\n"
     ]
    }
   ],
   "source": [
    "print('TRAIN data\\n')\n",
    "print(f'{train.isna().sum()}\\n\\n\\n')\n",
    "\n",
    "print('TEST data\\n')\n",
    "print(test.isna().sum())"
   ]
  },
  {
   "cell_type": "markdown",
   "id": "62bee694",
   "metadata": {
    "papermill": {
     "duration": 0.015972,
     "end_time": "2024-04-03T19:29:40.481549",
     "exception": false,
     "start_time": "2024-04-03T19:29:40.465577",
     "status": "completed"
    },
    "tags": []
   },
   "source": [
    "#### There is no any gaps in the data"
   ]
  },
  {
   "cell_type": "markdown",
   "id": "b2bca4ad",
   "metadata": {
    "papermill": {
     "duration": 0.01575,
     "end_time": "2024-04-03T19:29:40.513402",
     "exception": false,
     "start_time": "2024-04-03T19:29:40.497652",
     "status": "completed"
    },
    "tags": []
   },
   "source": [
    "![](https://www.asnailsodyssey.com/views/images/119/Geiger&Owen2019.jpg)"
   ]
  },
  {
   "cell_type": "markdown",
   "id": "96a22354",
   "metadata": {
    "papermill": {
     "duration": 0.015668,
     "end_time": "2024-04-03T19:29:40.545113",
     "exception": false,
     "start_time": "2024-04-03T19:29:40.529445",
     "status": "completed"
    },
    "tags": []
   },
   "source": [
    "<a id='7'></a>\n",
    "# <span style=\"color: #3EB489; border-bottom: 6px solid  #20603D; background-color: #fadb8c;\">🦈 Data types of training set</span>"
   ]
  },
  {
   "cell_type": "code",
   "execution_count": 16,
   "id": "4d21e934",
   "metadata": {
    "execution": {
     "iopub.execute_input": "2024-04-03T19:29:40.579002Z",
     "iopub.status.busy": "2024-04-03T19:29:40.578484Z",
     "iopub.status.idle": "2024-04-03T19:29:40.595513Z",
     "shell.execute_reply": "2024-04-03T19:29:40.594465Z"
    },
    "papermill": {
     "duration": 0.036114,
     "end_time": "2024-04-03T19:29:40.597313",
     "exception": false,
     "start_time": "2024-04-03T19:29:40.561199",
     "status": "completed"
    },
    "tags": []
   },
   "outputs": [
    {
     "name": "stdout",
     "output_type": "stream",
     "text": [
      "<class 'pandas.core.frame.DataFrame'>\n",
      "Index: 94792 entries, 0 to 4176\n",
      "Data columns (total 9 columns):\n",
      " #   Column          Non-Null Count  Dtype  \n",
      "---  ------          --------------  -----  \n",
      " 0   Sex             94792 non-null  object \n",
      " 1   Length          94792 non-null  float64\n",
      " 2   Diameter        94792 non-null  float64\n",
      " 3   Height          94792 non-null  float64\n",
      " 4   Whole weight    94792 non-null  float64\n",
      " 5   Whole weight.1  94792 non-null  float64\n",
      " 6   Whole weight.2  94792 non-null  float64\n",
      " 7   Shell weight    94792 non-null  float64\n",
      " 8   Rings           94792 non-null  int64  \n",
      "dtypes: float64(7), int64(1), object(1)\n",
      "memory usage: 7.2+ MB\n"
     ]
    }
   ],
   "source": [
    "train.info()"
   ]
  },
  {
   "cell_type": "markdown",
   "id": "761dbc50",
   "metadata": {
    "papermill": {
     "duration": 0.016124,
     "end_time": "2024-04-03T19:29:40.629529",
     "exception": false,
     "start_time": "2024-04-03T19:29:40.613405",
     "status": "completed"
    },
    "tags": []
   },
   "source": [
    "#### Sex feature is object, so we have to convert in into numeric"
   ]
  },
  {
   "cell_type": "markdown",
   "id": "896069e0",
   "metadata": {
    "papermill": {
     "duration": 0.015833,
     "end_time": "2024-04-03T19:29:40.661405",
     "exception": false,
     "start_time": "2024-04-03T19:29:40.645572",
     "status": "completed"
    },
    "tags": []
   },
   "source": [
    "<a id=\"7.2\"></a>\n",
    "# <span style=\"color: #3EB489; border-bottom: 6px solid  #20603D; background-color: #fadb8c;\">🦭 Remove duplicates from train data</span>"
   ]
  },
  {
   "cell_type": "code",
   "execution_count": 17,
   "id": "1b75e9e3",
   "metadata": {
    "execution": {
     "iopub.execute_input": "2024-04-03T19:29:40.695911Z",
     "iopub.status.busy": "2024-04-03T19:29:40.695382Z",
     "iopub.status.idle": "2024-04-03T19:29:40.746287Z",
     "shell.execute_reply": "2024-04-03T19:29:40.745241Z"
    },
    "papermill": {
     "duration": 0.070584,
     "end_time": "2024-04-03T19:29:40.748458",
     "exception": false,
     "start_time": "2024-04-03T19:29:40.677874",
     "status": "completed"
    },
    "tags": []
   },
   "outputs": [
    {
     "data": {
      "text/plain": [
       "0"
      ]
     },
     "execution_count": 17,
     "metadata": {},
     "output_type": "execute_result"
    }
   ],
   "source": [
    "train = train.drop_duplicates()\n",
    "\n",
    "# Check whether all duplicates were removed\n",
    "duplicates = train[train.duplicated()]\n",
    "len(duplicates)"
   ]
  },
  {
   "cell_type": "markdown",
   "id": "1fe4c808",
   "metadata": {
    "papermill": {
     "duration": 0.015665,
     "end_time": "2024-04-03T19:29:40.781641",
     "exception": false,
     "start_time": "2024-04-03T19:29:40.765976",
     "status": "completed"
    },
    "tags": []
   },
   "source": [
    "<a id=\"7.3\"></a>\n",
    "# <span style=\"color: #3EB489; border-bottom: 6px solid  #20603D; background-color: #fadb8c;\">🍢 One-hot encoding"
   ]
  },
  {
   "cell_type": "code",
   "execution_count": 18,
   "id": "85bd8a40",
   "metadata": {
    "execution": {
     "iopub.execute_input": "2024-04-03T19:29:40.815682Z",
     "iopub.status.busy": "2024-04-03T19:29:40.815338Z",
     "iopub.status.idle": "2024-04-03T19:29:40.840130Z",
     "shell.execute_reply": "2024-04-03T19:29:40.838879Z"
    },
    "papermill": {
     "duration": 0.044627,
     "end_time": "2024-04-03T19:29:40.842226",
     "exception": false,
     "start_time": "2024-04-03T19:29:40.797599",
     "status": "completed"
    },
    "tags": []
   },
   "outputs": [],
   "source": [
    "X = pd.get_dummies(train, drop_first=True, dtype=int)\n",
    "test = pd.get_dummies(test, drop_first=True, dtype=int)"
   ]
  },
  {
   "cell_type": "markdown",
   "id": "9fbdab80",
   "metadata": {
    "papermill": {
     "duration": 0.015938,
     "end_time": "2024-04-03T19:29:40.874407",
     "exception": false,
     "start_time": "2024-04-03T19:29:40.858469",
     "status": "completed"
    },
    "tags": []
   },
   "source": [
    "<a id='8'></a>\n",
    "# <span style=\"color: #3EB489; border-bottom: 6px solid  #20603D; background-color: #fadb8c;\">🦞 Display histograms of distribution</span>"
   ]
  },
  {
   "cell_type": "code",
   "execution_count": 19,
   "id": "d87a5a2d",
   "metadata": {
    "execution": {
     "iopub.execute_input": "2024-04-03T19:29:40.908326Z",
     "iopub.status.busy": "2024-04-03T19:29:40.907980Z",
     "iopub.status.idle": "2024-04-03T19:29:43.581274Z",
     "shell.execute_reply": "2024-04-03T19:29:43.579918Z"
    },
    "papermill": {
     "duration": 2.692563,
     "end_time": "2024-04-03T19:29:43.583404",
     "exception": false,
     "start_time": "2024-04-03T19:29:40.890841",
     "status": "completed"
    },
    "tags": []
   },
   "outputs": [
    {
     "data": {
      "image/png": "[encoded data removed]",
      "text/plain": [
       "<Figure size 2000x1600 with 12 Axes>"
      ]
     },
     "metadata": {},
     "output_type": "display_data"
    }
   ],
   "source": [
    "sns.set(rc={'figure.figsize': (20, 16)})\n",
    "X.hist(color='orange');"
   ]
  },
  {
   "cell_type": "markdown",
   "id": "4fe64604",
   "metadata": {
    "papermill": {
     "duration": 0.01763,
     "end_time": "2024-04-03T19:29:43.619389",
     "exception": false,
     "start_time": "2024-04-03T19:29:43.601759",
     "status": "completed"
    },
    "tags": []
   },
   "source": [
    "<a id='9'></a>\n",
    "# <span style=\"color: #3EB489; border-bottom: 6px solid  #20603D; background-color: #fadb8c;\">🦐 Let's count target of train data</span>"
   ]
  },
  {
   "cell_type": "code",
   "execution_count": 20,
   "id": "9e39b491",
   "metadata": {
    "execution": {
     "iopub.execute_input": "2024-04-03T19:29:43.656563Z",
     "iopub.status.busy": "2024-04-03T19:29:43.656037Z",
     "iopub.status.idle": "2024-04-03T19:29:43.667257Z",
     "shell.execute_reply": "2024-04-03T19:29:43.666364Z"
    },
    "papermill": {
     "duration": 0.032307,
     "end_time": "2024-04-03T19:29:43.669473",
     "exception": false,
     "start_time": "2024-04-03T19:29:43.637166",
     "status": "completed"
    },
    "tags": []
   },
   "outputs": [
    {
     "name": "stdout",
     "output_type": "stream",
     "text": [
      "Rings\n",
      "9     18154\n",
      "8     15067\n",
      "10    13098\n",
      "7      9399\n",
      "11     8894\n",
      "6      5670\n",
      "12     4986\n",
      "13     4277\n",
      "5      2977\n",
      "14     2633\n",
      "15     2175\n",
      "16     1506\n",
      "4      1459\n",
      "17     1233\n",
      "18      890\n",
      "19      671\n",
      "20      533\n",
      "3       401\n",
      "21      269\n",
      "23      189\n",
      "22      114\n",
      "27       43\n",
      "24       31\n",
      "2        30\n",
      "1        26\n",
      "29       25\n",
      "25       23\n",
      "26       19\n",
      "Name: count, dtype: int64\n",
      "\n",
      "\n",
      "Rings\n",
      "9     0.191514\n",
      "8     0.158948\n",
      "10    0.138176\n",
      "7     0.099154\n",
      "11    0.093826\n",
      "6     0.059815\n",
      "12    0.052599\n",
      "13    0.045120\n",
      "5     0.031406\n",
      "14    0.027777\n",
      "15    0.022945\n",
      "16    0.015887\n",
      "4     0.015392\n",
      "17    0.013007\n",
      "18    0.009389\n",
      "19    0.007079\n",
      "20    0.005623\n",
      "3     0.004230\n",
      "21    0.002838\n",
      "23    0.001994\n",
      "22    0.001203\n",
      "27    0.000454\n",
      "24    0.000327\n",
      "2     0.000316\n",
      "1     0.000274\n",
      "29    0.000264\n",
      "25    0.000243\n",
      "26    0.000200\n",
      "Name: count, dtype: float64\n"
     ]
    }
   ],
   "source": [
    "print(f'{train.Rings.value_counts()}\\n\\n')\n",
    "print(train.Rings.value_counts() / train.shape[0])"
   ]
  },
  {
   "cell_type": "markdown",
   "id": "06020baa",
   "metadata": {
    "papermill": {
     "duration": 0.01924,
     "end_time": "2024-04-03T19:29:43.707129",
     "exception": false,
     "start_time": "2024-04-03T19:29:43.687889",
     "status": "completed"
    },
    "tags": []
   },
   "source": [
    "<a id='10'></a>\n",
    "# <span style=\"color: #3EB489; border-bottom: 6px solid  #20603D; background-color: #fadb8c;\">🦑 Transorm the data with MinMax</span>"
   ]
  },
  {
   "cell_type": "code",
   "execution_count": 21,
   "id": "0f5fbf45",
   "metadata": {
    "execution": {
     "iopub.execute_input": "2024-04-03T19:29:43.749341Z",
     "iopub.status.busy": "2024-04-03T19:29:43.748660Z",
     "iopub.status.idle": "2024-04-03T19:29:43.756220Z",
     "shell.execute_reply": "2024-04-03T19:29:43.755497Z"
    },
    "papermill": {
     "duration": 0.030026,
     "end_time": "2024-04-03T19:29:43.758022",
     "exception": false,
     "start_time": "2024-04-03T19:29:43.727996",
     "status": "completed"
    },
    "tags": []
   },
   "outputs": [],
   "source": [
    "# Split the train data into X and y\n",
    "X = X.drop(['Rings'], axis=1)\n",
    "y = train.Rings\n",
    "\n",
    "# for column in X.columns.tolist():\n",
    "#     X[column] = X[column].apply(lambda x: (x - X[column].min()) / (X[column].max() - X[column].min()))\n",
    "\n",
    "# # Transform test data\n",
    "# for column in test.columns.tolist():\n",
    "#     test[column] = test[column].apply(lambda x: (x - test[column].min()) / (test[column].max() - test[column].min()))\n",
    "    \n",
    "# X.hist(color='LightSeaGreen');"
   ]
  },
  {
   "cell_type": "markdown",
   "id": "bbeaebc9",
   "metadata": {
    "papermill": {
     "duration": 0.021051,
     "end_time": "2024-04-03T19:29:43.798790",
     "exception": false,
     "start_time": "2024-04-03T19:29:43.777739",
     "status": "completed"
    },
    "tags": []
   },
   "source": [
    "![](https://d3h1lg3ksw6i6b.cloudfront.net/media/image/2020/09/24/a40d8dea2d924e0aa7cdb644beffe934_abalone+dish.jpg)"
   ]
  },
  {
   "cell_type": "markdown",
   "id": "7b86d6c4",
   "metadata": {
    "papermill": {
     "duration": 0.017665,
     "end_time": "2024-04-03T19:29:43.838358",
     "exception": false,
     "start_time": "2024-04-03T19:29:43.820693",
     "status": "completed"
    },
    "tags": []
   },
   "source": [
    "<a id='10.2'></a>\n",
    "# <span style=\"color: #3EB489; border-bottom: 6px solid  #20603D; background-color: #fadb8c;\">💦 Feature importance</span>"
   ]
  },
  {
   "cell_type": "code",
   "execution_count": 22,
   "id": "989c44ea",
   "metadata": {
    "execution": {
     "iopub.execute_input": "2024-04-03T19:29:43.875328Z",
     "iopub.status.busy": "2024-04-03T19:29:43.874646Z",
     "iopub.status.idle": "2024-04-03T19:30:29.519137Z",
     "shell.execute_reply": "2024-04-03T19:30:29.517811Z"
    },
    "papermill": {
     "duration": 45.665381,
     "end_time": "2024-04-03T19:30:29.521090",
     "exception": false,
     "start_time": "2024-04-03T19:29:43.855709",
     "status": "completed"
    },
    "tags": []
   },
   "outputs": [
    {
     "name": "stdout",
     "output_type": "stream",
     "text": [
      "CPU times: user 45.1 s, sys: 258 ms, total: 45.4 s\n",
      "Wall time: 45.4 s\n"
     ]
    },
    {
     "data": {
      "image/png": "[encoded data removed]",
      "text/plain": [
       "<Figure size 1200x800 with 1 Axes>"
      ]
     },
     "metadata": {},
     "output_type": "display_data"
    }
   ],
   "source": [
    "%%time\n",
    "# I figured out best hyperparameters previously\n",
    "best_forest = RandomForestRegressor(\n",
    "    random_state=27,\n",
    ")\n",
    "    \n",
    "best_forest.fit(X, y)\n",
    "importance = best_forest.feature_importances_\n",
    "\n",
    "feature_importance = pd.DataFrame(data=importance, index=X.columns, columns=['importance']) \\\n",
    "    .sort_values(ascending=True, by='importance')\n",
    "\n",
    "feature_importance.plot(kind='barh', figsize=(12, 8), color='orange');"
   ]
  },
  {
   "cell_type": "markdown",
   "id": "905f882b",
   "metadata": {
    "papermill": {
     "duration": 0.018356,
     "end_time": "2024-04-03T19:30:29.561602",
     "exception": false,
     "start_time": "2024-04-03T19:30:29.543246",
     "status": "completed"
    },
    "tags": []
   },
   "source": [
    "<a id='11'></a>\n",
    "# <span style=\"color: #3EB489; border-bottom: 6px solid  #20603D; background-color: #fadb8c;\">🌊 Build a heat map of correlations</span>"
   ]
  },
  {
   "cell_type": "code",
   "execution_count": 23,
   "id": "903c65fc",
   "metadata": {
    "execution": {
     "iopub.execute_input": "2024-04-03T19:30:29.602754Z",
     "iopub.status.busy": "2024-04-03T19:30:29.601755Z",
     "iopub.status.idle": "2024-04-03T19:30:29.609187Z",
     "shell.execute_reply": "2024-04-03T19:30:29.608058Z"
    },
    "papermill": {
     "duration": 0.029347,
     "end_time": "2024-04-03T19:30:29.611356",
     "exception": false,
     "start_time": "2024-04-03T19:30:29.582009",
     "status": "completed"
    },
    "tags": []
   },
   "outputs": [
    {
     "data": {
      "text/plain": [
       "Index(['Length', 'Diameter', 'Height', 'Whole weight', 'Whole weight.1',\n",
       "       'Whole weight.2', 'Shell weight', 'Sex_I', 'Sex_M'],\n",
       "      dtype='object')"
      ]
     },
     "execution_count": 23,
     "metadata": {},
     "output_type": "execute_result"
    }
   ],
   "source": [
    "X.columns"
   ]
  },
  {
   "cell_type": "code",
   "execution_count": 24,
   "id": "b5e03805",
   "metadata": {
    "execution": {
     "iopub.execute_input": "2024-04-03T19:30:29.651517Z",
     "iopub.status.busy": "2024-04-03T19:30:29.650994Z",
     "iopub.status.idle": "2024-04-03T19:30:30.220629Z",
     "shell.execute_reply": "2024-04-03T19:30:30.219607Z"
    },
    "papermill": {
     "duration": 0.591889,
     "end_time": "2024-04-03T19:30:30.222391",
     "exception": false,
     "start_time": "2024-04-03T19:30:29.630502",
     "status": "completed"
    },
    "tags": []
   },
   "outputs": [
    {
     "data": {
      "image/png": "[encoded data removed]",
      "text/plain": [
       "<Figure size 2000x1600 with 1 Axes>"
      ]
     },
     "metadata": {},
     "output_type": "display_data"
    }
   ],
   "source": [
    "# Training dataset\n",
    "numeric_columns_train = X.select_dtypes(include=np.number)\n",
    "corr_train = numeric_columns_train.corr(method='pearson')\n",
    "mask_train = np.triu(np.ones_like(corr_train))\n",
    "sns.heatmap(corr_train, annot=True, fmt='.2f', mask=mask_train, cmap='Spectral', cbar=None, linewidth=2)\n",
    "plt.tight_layout()\n",
    "plt.show()"
   ]
  },
  {
   "cell_type": "markdown",
   "id": "808c315a",
   "metadata": {
    "papermill": {
     "duration": 0.01877,
     "end_time": "2024-04-03T19:30:30.260668",
     "exception": false,
     "start_time": "2024-04-03T19:30:30.241898",
     "status": "completed"
    },
    "tags": []
   },
   "source": [
    "#### Let's drop highly correlated features and look on the metric"
   ]
  },
  {
   "cell_type": "code",
   "execution_count": 25,
   "id": "be1a964f",
   "metadata": {
    "execution": {
     "iopub.execute_input": "2024-04-03T19:30:30.301375Z",
     "iopub.status.busy": "2024-04-03T19:30:30.301019Z",
     "iopub.status.idle": "2024-04-03T19:30:30.307153Z",
     "shell.execute_reply": "2024-04-03T19:30:30.306226Z"
    },
    "papermill": {
     "duration": 0.029206,
     "end_time": "2024-04-03T19:30:30.309409",
     "exception": false,
     "start_time": "2024-04-03T19:30:30.280203",
     "status": "completed"
    },
    "tags": []
   },
   "outputs": [],
   "source": [
    "X = X.drop(['Diameter', 'Whole weight.2', 'Whole weight'], axis=1)\n",
    "test = test.drop(['Diameter', 'Whole weight.2', 'Whole weight'], axis=1)"
   ]
  },
  {
   "cell_type": "code",
   "execution_count": 26,
   "id": "d6cc6a0d",
   "metadata": {
    "execution": {
     "iopub.execute_input": "2024-04-03T19:30:30.350599Z",
     "iopub.status.busy": "2024-04-03T19:30:30.349952Z",
     "iopub.status.idle": "2024-04-03T19:30:30.783030Z",
     "shell.execute_reply": "2024-04-03T19:30:30.782021Z"
    },
    "papermill": {
     "duration": 0.456441,
     "end_time": "2024-04-03T19:30:30.785206",
     "exception": false,
     "start_time": "2024-04-03T19:30:30.328765",
     "status": "completed"
    },
    "tags": []
   },
   "outputs": [
    {
     "data": {
      "image/png": "[encoded data removed]",
      "text/plain": [
       "<Figure size 2000x1600 with 1 Axes>"
      ]
     },
     "metadata": {},
     "output_type": "display_data"
    }
   ],
   "source": [
    "# Training dataset\n",
    "numeric_columns_train = X.select_dtypes(include=np.number)\n",
    "corr_train = numeric_columns_train.corr(method='pearson')\n",
    "mask_train = np.triu(np.ones_like(corr_train))\n",
    "sns.heatmap(corr_train, annot=True, fmt='.2f', mask=mask_train, cmap='coolwarm', cbar=None, linewidth=2)\n",
    "plt.tight_layout()\n",
    "plt.show()"
   ]
  },
  {
   "cell_type": "markdown",
   "id": "702a2097",
   "metadata": {
    "papermill": {
     "duration": 0.020205,
     "end_time": "2024-04-03T19:30:30.827476",
     "exception": false,
     "start_time": "2024-04-03T19:30:30.807271",
     "status": "completed"
    },
    "tags": []
   },
   "source": [
    "<a id='12'></a>\n",
    "# <span style=\"color: #3EB489; border-bottom: 6px solid  #20603D; background-color: #fadb8c;\">🐚 Define base models</span>"
   ]
  },
  {
   "cell_type": "code",
   "execution_count": 27,
   "id": "fb06feb1",
   "metadata": {
    "execution": {
     "iopub.execute_input": "2024-04-03T19:30:30.870187Z",
     "iopub.status.busy": "2024-04-03T19:30:30.869600Z",
     "iopub.status.idle": "2024-04-03T19:30:30.883385Z",
     "shell.execute_reply": "2024-04-03T19:30:30.882279Z"
    },
    "papermill": {
     "duration": 0.038034,
     "end_time": "2024-04-03T19:30:30.885896",
     "exception": false,
     "start_time": "2024-04-03T19:30:30.847862",
     "status": "completed"
    },
    "tags": []
   },
   "outputs": [],
   "source": [
    "# Split data into train and val\n",
    "X_train, X_val, y_train, y_val = train_test_split(X, y, test_size=0.2, random_state=27)"
   ]
  },
  {
   "cell_type": "markdown",
   "id": "f5babbf1",
   "metadata": {
    "papermill": {
     "duration": 0.020712,
     "end_time": "2024-04-03T19:30:30.927272",
     "exception": false,
     "start_time": "2024-04-03T19:30:30.906560",
     "status": "completed"
    },
    "tags": []
   },
   "source": [
    "![](https://www.foodrepublic.com/img/gallery/what-exactly-is-abalone-and-how-do-you-eat-it/l-intro-1695291935.jpg)"
   ]
  },
  {
   "cell_type": "markdown",
   "id": "bbb5ba2f",
   "metadata": {
    "papermill": {
     "duration": 0.02019,
     "end_time": "2024-04-03T19:30:30.967888",
     "exception": false,
     "start_time": "2024-04-03T19:30:30.947698",
     "status": "completed"
    },
    "tags": []
   },
   "source": [
    "## <p style=\"background-image: url(https://www.kaggle.com/competitions/72489/images/header); color: white; font-size: 30px; padding: 5px 5px 5px 5px;\">Random Forest with Optuna</p>"
   ]
  },
  {
   "cell_type": "code",
   "execution_count": 28,
   "id": "15733cf6",
   "metadata": {
    "execution": {
     "iopub.execute_input": "2024-04-03T19:30:31.012999Z",
     "iopub.status.busy": "2024-04-03T19:30:31.012622Z",
     "iopub.status.idle": "2024-04-03T19:30:31.019838Z",
     "shell.execute_reply": "2024-04-03T19:30:31.018871Z"
    },
    "papermill": {
     "duration": 0.031996,
     "end_time": "2024-04-03T19:30:31.021594",
     "exception": false,
     "start_time": "2024-04-03T19:30:30.989598",
     "status": "completed"
    },
    "tags": []
   },
   "outputs": [
    {
     "data": {
      "text/plain": [
       "'\\nNumber of finished trials:  10\\nBest trial:\\n  Value:  0.164014686713176\\n  Params: \\n    n_estimators: 544\\n    min_samples_leaf: 60\\n    max_depth: 8\\n    min_samples_split: 13\\n\\nCPU times: user 6min 35s, sys: 276 ms, total: 6min 35s\\nWall time: 6min 35s\\n'"
      ]
     },
     "execution_count": 28,
     "metadata": {},
     "output_type": "execute_result"
    }
   ],
   "source": [
    "# %%time\n",
    "# def objective(trial):\n",
    "#     model = RandomForestRegressor(\n",
    "#         n_estimators=trial.suggest_int(\"n_estimators\", 100, 1000),\n",
    "# #         criterion=trial.suggest_categorical(\"criterion\", ['poisson', 'absolute_error', 'friedman_mse', 'squared_error']),\n",
    "#         min_samples_leaf=trial.suggest_int(\"min_samples_leaf\", 1, 100),\n",
    "#         max_depth=trial.suggest_int(\"max_depth\", 1, 100),\n",
    "#         min_samples_split=trial.suggest_int(\"min_samples_split\", 2, 100),\n",
    "#         random_state=27\n",
    "#     )\n",
    "#     model.fit(X_train, y_train)\n",
    "#     y_pred = model.predict(X_test)\n",
    "#     return np.sqrt(mean_squared_log_error(y_test, y_pred))\n",
    "\n",
    "\n",
    "# X_train, X_test, y_train, y_test = train_test_split(X, y, test_size=0.2, random_state=27)\n",
    "\n",
    "# optuna.logging.set_verbosity(optuna.logging.WARNING)\n",
    "\n",
    "# sampler = TPESampler(seed=27)\n",
    "# study = optuna.create_study(study_name=\"random_forest\", direction=\"maximize\", sampler=sampler)\n",
    "# study.optimize(objective, n_trials=10)\n",
    "\n",
    "# print(\"Number of finished trials: \", len(study.trials))\n",
    "# print(\"Best trial:\")\n",
    "# trial = study.best_trial\n",
    "# print(\"  Value: \", trial.value)\n",
    "# print(\"  Params: \")\n",
    "# for key, value in trial.params.items():\n",
    "#     print(f\"    {key}: {value}\")\n",
    "# print()\n",
    "\n",
    "\"\"\"\n",
    "Number of finished trials:  10\n",
    "Best trial:\n",
    "  Value:  0.164014686713176\n",
    "  Params: \n",
    "    n_estimators: 544\n",
    "    min_samples_leaf: 60\n",
    "    max_depth: 8\n",
    "    min_samples_split: 13\n",
    "\n",
    "CPU times: user 6min 35s, sys: 276 ms, total: 6min 35s\n",
    "Wall time: 6min 35s\n",
    "\"\"\""
   ]
  },
  {
   "cell_type": "markdown",
   "id": "cac5019a",
   "metadata": {
    "papermill": {
     "duration": 0.019971,
     "end_time": "2024-04-03T19:30:31.061913",
     "exception": false,
     "start_time": "2024-04-03T19:30:31.041942",
     "status": "completed"
    },
    "tags": []
   },
   "source": [
    "## <p style=\"background-image: url(https://www.kaggle.com/competitions/72489/images/header); color: white; font-size: 30px; padding: 5px 5px 5px 5px\">XGBoost with Optuna</p>"
   ]
  },
  {
   "cell_type": "code",
   "execution_count": 29,
   "id": "64e3d780",
   "metadata": {
    "execution": {
     "iopub.execute_input": "2024-04-03T19:30:31.104079Z",
     "iopub.status.busy": "2024-04-03T19:30:31.103785Z",
     "iopub.status.idle": "2024-04-03T19:30:31.110662Z",
     "shell.execute_reply": "2024-04-03T19:30:31.109348Z"
    },
    "papermill": {
     "duration": 0.030216,
     "end_time": "2024-04-03T19:30:31.112457",
     "exception": false,
     "start_time": "2024-04-03T19:30:31.082241",
     "status": "completed"
    },
    "tags": []
   },
   "outputs": [
    {
     "data": {
      "text/plain": [
       "'\\nNumber of finished trials:  1\\nBest trial:\\n  Value:  0.1775845058982026\\n  Params: \\n    max_depth: 43\\n    learning_rate: 0.42576257222865277\\n    n_estimators: 749\\n    min_child_weight: 9\\n    gamma: 1.1669337024772915e-05\\n    subsample: 0.9097315662154742\\n    colsample_bytree: 0.6114890625963008\\n    reg_alpha: 4.761254082318455e-07\\n    reg_lambda: 0.008602430632882225\\n\\nCPU times: user 24.5 s, sys: 667 ms, total: 25.2 s\\nWall time: 25.2 s\\n'"
      ]
     },
     "execution_count": 29,
     "metadata": {},
     "output_type": "execute_result"
    }
   ],
   "source": [
    "# %%time\n",
    "# def objective(trial):\n",
    "#     model = XGBRegressor(\n",
    "#         max_depth=trial.suggest_int('max_depth', 1, 100),\n",
    "#         learning_rate=trial.suggest_float('learning_rate', 0.01, 1.0, log=True),\n",
    "#         n_estimators=trial.suggest_int('n_estimators', 50, 1000),\n",
    "#         min_child_weight=trial.suggest_int('min_child_weight', 1, 10),\n",
    "#         gamma=trial.suggest_float('gamma', 1e-8, 1.0, log=True),\n",
    "#         subsample=trial.suggest_float('subsample', 0.01, 1.0, log=True),\n",
    "#         colsample_bytree=trial.suggest_float('colsample_bytree', 0.01, 1.0, log=True),\n",
    "#         reg_alpha=trial.suggest_float('reg_alpha', 1e-8, 1.0, log=True),\n",
    "#         reg_lambda=trial.suggest_float('reg_lambda', 1e-8, 1.0, log=True),\n",
    "#         use_label_encoder=False,\n",
    "#         random_state=27\n",
    "#     )\n",
    "#     model.fit(X_train, y_train)\n",
    "#     y_pred = model.predict(X_test)\n",
    "#     try:\n",
    "#         return np.sqrt(mean_squared_log_error(y_test, y_pred))\n",
    "#     except Exception as e:\n",
    "#         print(e)\n",
    "\n",
    "\n",
    "# X_train, X_test, y_train, y_test = train_test_split(X, y, test_size=0.2, random_state=27)\n",
    "\n",
    "# optuna.logging.set_verbosity(optuna.logging.WARNING)\n",
    "\n",
    "# sampler = TPESampler(seed=27)\n",
    "# study = optuna.create_study(study_name=\"xgb\", direction=\"maximize\", sampler=sampler)\n",
    "# study.optimize(objective, n_trials=20)\n",
    "\n",
    "# print(\"Number of finished trials: \", len(study.trials))\n",
    "# print(\"Best trial:\")\n",
    "# trial = study.best_trial\n",
    "# print(\"  Value: \", trial.value)\n",
    "# print(\"  Params: \")\n",
    "# for key, value in trial.params.items():\n",
    "#     print(f\"    {key}: {value}\")\n",
    "# print()\n",
    "\n",
    "\"\"\"\n",
    "Number of finished trials:  1\n",
    "Best trial:\n",
    "  Value:  0.1775845058982026\n",
    "  Params: \n",
    "    max_depth: 43\n",
    "    learning_rate: 0.42576257222865277\n",
    "    n_estimators: 749\n",
    "    min_child_weight: 9\n",
    "    gamma: 1.1669337024772915e-05\n",
    "    subsample: 0.9097315662154742\n",
    "    colsample_bytree: 0.6114890625963008\n",
    "    reg_alpha: 4.761254082318455e-07\n",
    "    reg_lambda: 0.008602430632882225\n",
    "\n",
    "CPU times: user 24.5 s, sys: 667 ms, total: 25.2 s\n",
    "Wall time: 25.2 s\n",
    "\"\"\""
   ]
  },
  {
   "cell_type": "code",
   "execution_count": 30,
   "id": "13f7466d",
   "metadata": {
    "execution": {
     "iopub.execute_input": "2024-04-03T19:30:31.154894Z",
     "iopub.status.busy": "2024-04-03T19:30:31.154487Z",
     "iopub.status.idle": "2024-04-03T19:30:31.160875Z",
     "shell.execute_reply": "2024-04-03T19:30:31.159991Z"
    },
    "papermill": {
     "duration": 0.029601,
     "end_time": "2024-04-03T19:30:31.162553",
     "exception": false,
     "start_time": "2024-04-03T19:30:31.132952",
     "status": "completed"
    },
    "tags": []
   },
   "outputs": [
    {
     "data": {
      "text/plain": [
       "\"\\nBest params: {'n_estimators': 395, 'max_depth': 6, 'learning_rate': 0.01}\\n\""
      ]
     },
     "execution_count": 30,
     "metadata": {},
     "output_type": "execute_result"
    }
   ],
   "source": [
    "# %%time\n",
    "# # Searching for best parameters of XGBoost\n",
    "# from sklearn.model_selection import RandomizedSearchCV\n",
    "\n",
    "# xgb_regressor = XGBRegressor(random_state=27)\n",
    "\n",
    "# xgb_parameters = {\n",
    "#     'n_estimators': range(5, 1001, 10),\n",
    "#     'learning_rate': [0.001, 0.05, 0.01],\n",
    "#     'max_depth': range(2, 100, 4),\n",
    "# }\n",
    "\n",
    "# xgb_random_search = RandomizedSearchCV(estimator=xgb_regressor, param_distributions=xgb_parameters, n_iter=20, n_jobs=-1, cv=5, verbose=4, random_state=27)\n",
    "# xgb_random_search.fit(X_val, y_val)\n",
    "# print(f'Best params: {xgb_random_search.best_params_}')\n",
    "\n",
    "\"\"\"\n",
    "Best params: {'n_estimators': 395, 'max_depth': 6, 'learning_rate': 0.01}\n",
    "\"\"\""
   ]
  },
  {
   "cell_type": "markdown",
   "id": "cbdbde7b",
   "metadata": {
    "papermill": {
     "duration": 0.020856,
     "end_time": "2024-04-03T19:30:31.204437",
     "exception": false,
     "start_time": "2024-04-03T19:30:31.183581",
     "status": "completed"
    },
    "tags": []
   },
   "source": [
    "#### I found that XGBoost in this competition can't work with negative targets when it is looking for model that fitting with metrics"
   ]
  },
  {
   "cell_type": "markdown",
   "id": "5aafb0fe",
   "metadata": {
    "papermill": {
     "duration": 0.020667,
     "end_time": "2024-04-03T19:30:31.245755",
     "exception": false,
     "start_time": "2024-04-03T19:30:31.225088",
     "status": "completed"
    },
    "tags": []
   },
   "source": [
    "## <p style=\"background-image: url(https://www.kaggle.com/competitions/72489/images/header); color: white; font-size: 30px; padding: 5px 5px 5px 5px\">CatBoost with Optuna</p>"
   ]
  },
  {
   "cell_type": "code",
   "execution_count": 31,
   "id": "f6e9a40e",
   "metadata": {
    "execution": {
     "iopub.execute_input": "2024-04-03T19:30:31.288925Z",
     "iopub.status.busy": "2024-04-03T19:30:31.288571Z",
     "iopub.status.idle": "2024-04-03T19:30:31.294426Z",
     "shell.execute_reply": "2024-04-03T19:30:31.293777Z"
    },
    "papermill": {
     "duration": 0.029512,
     "end_time": "2024-04-03T19:30:31.295926",
     "exception": false,
     "start_time": "2024-04-03T19:30:31.266414",
     "status": "completed"
    },
    "tags": []
   },
   "outputs": [
    {
     "data": {
      "text/plain": [
       "'\\nNumber of finished trials:  20\\nBest trial:\\n  Value:  0.27250015755480833\\n  Params: \\n    iterations: 101\\n    learning_rate: 0.0010172906333606835\\n    colsample_bylevel: 0.4796381789116622\\n    min_data_in_leaf: 42\\n    depth: 13\\n    l2_leaf_reg: 2.895211427077531e-08\\n\\nCPU times: user 18min 10s, sys: 9min 21s, total: 27min 31s\\nWall time: 13min 5s\\n'"
      ]
     },
     "execution_count": 31,
     "metadata": {},
     "output_type": "execute_result"
    }
   ],
   "source": [
    "# %%time\n",
    "# def objective(trial):\n",
    "#     model = CatBoostRegressor(\n",
    "#         iterations=trial.suggest_int(\"iterations\", 100, 1000),\n",
    "#         learning_rate=trial.suggest_float(\"learning_rate\", 1e-3, 1e-1, log=True),\n",
    "#         colsample_bylevel=trial.suggest_float(\"colsample_bylevel\", 0.05, 1.0),\n",
    "#         min_data_in_leaf=trial.suggest_int(\"min_data_in_leaf\", 1, 100),\n",
    "#         depth=trial.suggest_int(\"depth\", 4, 16),\n",
    "#         l2_leaf_reg=trial.suggest_float(\"l2_leaf_reg\", 1e-8, 100.0, log=True),\n",
    "#         verbose=False,\n",
    "#         random_state=27\n",
    "#     )\n",
    "#     model.fit(X_train, y_train)\n",
    "#     y_pred = model.predict(X_test)\n",
    "#     return np.sqrt(mean_squared_log_error(y_test, y_pred))\n",
    "\n",
    "\n",
    "# X_train, X_test, y_train, y_test = train_test_split(X, y, test_size=0.2, random_state=27)\n",
    "\n",
    "# optuna.logging.set_verbosity(optuna.logging.WARNING)\n",
    "\n",
    "# sampler = TPESampler(seed=27)\n",
    "# study = optuna.create_study(study_name=\"catboost\", direction=\"maximize\", sampler=sampler)\n",
    "# study.optimize(objective, n_trials=20)\n",
    "\n",
    "# print(\"Number of finished trials: \", len(study.trials))\n",
    "# print(\"Best trial:\")\n",
    "# trial = study.best_trial\n",
    "# print(\"  Value: \", trial.value)\n",
    "# print(\"  Params: \")\n",
    "\n",
    "# for key, value in trial.params.items():\n",
    "#     print(f\"    {key}: {value}\")\n",
    "# print()\n",
    "\n",
    "\"\"\"\n",
    "Number of finished trials:  20\n",
    "Best trial:\n",
    "  Value:  0.27250015755480833\n",
    "  Params: \n",
    "    iterations: 101\n",
    "    learning_rate: 0.0010172906333606835\n",
    "    colsample_bylevel: 0.4796381789116622\n",
    "    min_data_in_leaf: 42\n",
    "    depth: 13\n",
    "    l2_leaf_reg: 2.895211427077531e-08\n",
    "\n",
    "CPU times: user 18min 10s, sys: 9min 21s, total: 27min 31s\n",
    "Wall time: 13min 5s\n",
    "\"\"\""
   ]
  },
  {
   "cell_type": "markdown",
   "id": "3254b469",
   "metadata": {
    "papermill": {
     "duration": 0.020821,
     "end_time": "2024-04-03T19:30:31.337369",
     "exception": false,
     "start_time": "2024-04-03T19:30:31.316548",
     "status": "completed"
    },
    "tags": []
   },
   "source": [
    "## <p style=\"background-image: url(https://www.kaggle.com/competitions/72489/images/header); color: white; font-size: 30px; padding: 5px 5px 5px 5px\">LightGBM with Optuna</p>"
   ]
  },
  {
   "cell_type": "code",
   "execution_count": 32,
   "id": "fd3ebe69",
   "metadata": {
    "execution": {
     "iopub.execute_input": "2024-04-03T19:30:31.381093Z",
     "iopub.status.busy": "2024-04-03T19:30:31.380653Z",
     "iopub.status.idle": "2024-04-03T19:30:31.388929Z",
     "shell.execute_reply": "2024-04-03T19:30:31.386930Z"
    },
    "papermill": {
     "duration": 0.03364,
     "end_time": "2024-04-03T19:30:31.391948",
     "exception": false,
     "start_time": "2024-04-03T19:30:31.358308",
     "status": "completed"
    },
    "tags": []
   },
   "outputs": [
    {
     "data": {
      "text/plain": [
       "'\\nNumber of finished trials:  20\\nBest trial:\\n  Value:  0.9971664373669932\\n  Params: \\n    n_estimators: 676\\n    max_depth: 100\\n    learning_rate: 0.0010257989336468524\\n    boosting_type: dart\\n    num_leaves: 37\\n    min_child_samples: 22\\n\\nCPU times: user 38min 41s, sys: 5.25 s, total: 38min 47s\\nWall time: 38min 50s\\n'"
      ]
     },
     "execution_count": 32,
     "metadata": {},
     "output_type": "execute_result"
    }
   ],
   "source": [
    "# %%time\n",
    "# def objective(trial):\n",
    "#     model = LGBMRegressor(\n",
    "#         n_estimators=trial.suggest_int(\"n_estimators\", 100, 1000),\n",
    "#         max_depth=trial.suggest_int(\"max_depth\", 1, 100),\n",
    "#         learning_rate=trial.suggest_float(\"learning_rate\", 1e-3, 1e-1, log=True),\n",
    "#         verbosity=-1,\n",
    "#         boosting_type=trial.suggest_categorical('boosting_type', ['gbdt', 'dart']),\n",
    "#         num_leaves=trial.suggest_int('num_leaves', 2, 256),\n",
    "#         min_child_samples=trial.suggest_int('min_child_samples', 5, 100),\n",
    "#         random_state=27\n",
    "#     )\n",
    "#     model.fit(X_train, y_train)\n",
    "#     y_pred = model.predict(X_test)\n",
    "#     return np.sqrt(mean_squared_log_error(y_test, y_pred))\n",
    "\n",
    "\n",
    "# X_train, X_test, y_train, y_test = train_test_split(X, y, test_size=0.2, random_state=27)\n",
    "\n",
    "# optuna.logging.set_verbosity(optuna.logging.WARNING)\n",
    "\n",
    "# sampler = TPESampler(seed=27)\n",
    "# study = optuna.create_study(study_name=\"lgbm\", direction=\"maximize\", sampler=sampler)\n",
    "# study.optimize(objective, n_trials=20)\n",
    "\n",
    "# print(\"Number of finished trials: \", len(study.trials))\n",
    "# print(\"Best trial:\")\n",
    "# trial = study.best_trial\n",
    "# print(\"  Value: \", trial.value)\n",
    "# print(\"  Params: \")\n",
    "# for key, value in trial.params.items():\n",
    "#     print(f\"    {key}: {value}\")\n",
    "# print()\n",
    "\n",
    "\"\"\"\n",
    "Number of finished trials:  20\n",
    "Best trial:\n",
    "  Value:  0.9971664373669932\n",
    "  Params: \n",
    "    n_estimators: 676\n",
    "    max_depth: 100\n",
    "    learning_rate: 0.0010257989336468524\n",
    "    boosting_type: dart\n",
    "    num_leaves: 37\n",
    "    min_child_samples: 22\n",
    "\n",
    "CPU times: user 38min 41s, sys: 5.25 s, total: 38min 47s\n",
    "Wall time: 38min 50s\n",
    "\"\"\""
   ]
  },
  {
   "cell_type": "code",
   "execution_count": 33,
   "id": "0efe94cc",
   "metadata": {
    "execution": {
     "iopub.execute_input": "2024-04-03T19:30:31.436471Z",
     "iopub.status.busy": "2024-04-03T19:30:31.435960Z",
     "iopub.status.idle": "2024-04-03T19:30:31.444821Z",
     "shell.execute_reply": "2024-04-03T19:30:31.443780Z"
    },
    "papermill": {
     "duration": 0.033873,
     "end_time": "2024-04-03T19:30:31.447237",
     "exception": false,
     "start_time": "2024-04-03T19:30:31.413364",
     "status": "completed"
    },
    "tags": []
   },
   "outputs": [],
   "source": [
    "base_models = [\n",
    "    ('XGBoost', XGBRegressor(\n",
    "        n_estimators=395, \n",
    "        max_depth=6,\n",
    "        learning_rate=0.01,\n",
    "        random_state=27\n",
    "    )),\n",
    "    ('LightGBM', LGBMRegressor(\n",
    "        n_estimators=676,\n",
    "        max_depth=100,\n",
    "        learning_rate=0.0010257989336468524,\n",
    "        boosting_type='dart',\n",
    "        num_leaves=37,\n",
    "        min_child_samples=22,\n",
    "        random_state=27\n",
    "    )),\n",
    "    ('Catboost', CatBoostRegressor(\n",
    "        iterations=101,\n",
    "        learning_rate=0.0010172906333606835,\n",
    "        colsample_bylevel=0.4796381789116622,\n",
    "        min_data_in_leaf=42,\n",
    "        depth=13,\n",
    "        l2_leaf_reg=2.895211427077531e-08,\n",
    "        random_state=27\n",
    "    )),\n",
    "]"
   ]
  },
  {
   "cell_type": "markdown",
   "id": "ccfbbf5d",
   "metadata": {
    "papermill": {
     "duration": 0.02489,
     "end_time": "2024-04-03T19:30:31.496442",
     "exception": false,
     "start_time": "2024-04-03T19:30:31.471552",
     "status": "completed"
    },
    "tags": []
   },
   "source": [
    "![](https://www.frdc.com.au/sites/default/files/fish-magazine/images/fish-vol-26-2/P26_fi_abalone_diving_Yazbeck-Pic-(1).jpg?la=en&hash=2A20AECD5AF45A98BA91D7B78B402ABB4781D789)"
   ]
  },
  {
   "cell_type": "markdown",
   "id": "3cc5fe67",
   "metadata": {
    "papermill": {
     "duration": 0.020614,
     "end_time": "2024-04-03T19:30:31.542502",
     "exception": false,
     "start_time": "2024-04-03T19:30:31.521888",
     "status": "completed"
    },
    "tags": []
   },
   "source": [
    "<a id='13'></a>\n",
    "# <span style=\"color: #3EB489; border-bottom: 6px solid  #20603D; background-color: #fadb8c;\">⛵ Defining the meta-model</span>"
   ]
  },
  {
   "cell_type": "code",
   "execution_count": 34,
   "id": "5917dd8a",
   "metadata": {
    "execution": {
     "iopub.execute_input": "2024-04-03T19:30:31.586410Z",
     "iopub.status.busy": "2024-04-03T19:30:31.586057Z",
     "iopub.status.idle": "2024-04-03T19:30:31.591119Z",
     "shell.execute_reply": "2024-04-03T19:30:31.590040Z"
    },
    "papermill": {
     "duration": 0.029616,
     "end_time": "2024-04-03T19:30:31.592904",
     "exception": false,
     "start_time": "2024-04-03T19:30:31.563288",
     "status": "completed"
    },
    "tags": []
   },
   "outputs": [],
   "source": [
    "meta_model = RandomForestRegressor(\n",
    "    n_estimators=544,\n",
    "    min_samples_leaf=60,\n",
    "    max_depth=8,\n",
    "    min_samples_split=13,\n",
    "    random_state=27\n",
    ")"
   ]
  },
  {
   "cell_type": "markdown",
   "id": "c643f93f",
   "metadata": {
    "papermill": {
     "duration": 0.020486,
     "end_time": "2024-04-03T19:30:31.634577",
     "exception": false,
     "start_time": "2024-04-03T19:30:31.614091",
     "status": "completed"
    },
    "tags": []
   },
   "source": [
    "<a id='14'></a>\n",
    "# <span style=\"color: #3EB489; border-bottom: 6px solid  #20603D; background-color: #fadb8c;\">🍤 Creating and fitting the stacking model"
   ]
  },
  {
   "cell_type": "code",
   "execution_count": 35,
   "id": "43722ebc",
   "metadata": {
    "_kg_hide-output": true,
    "execution": {
     "iopub.execute_input": "2024-04-03T19:30:31.677567Z",
     "iopub.status.busy": "2024-04-03T19:30:31.677258Z",
     "iopub.status.idle": "2024-04-03T19:41:44.045762Z",
     "shell.execute_reply": "2024-04-03T19:41:44.044768Z"
    },
    "papermill": {
     "duration": 672.420915,
     "end_time": "2024-04-03T19:41:44.076486",
     "exception": false,
     "start_time": "2024-04-03T19:30:31.655571",
     "status": "completed"
    },
    "tags": []
   },
   "outputs": [
    {
     "name": "stdout",
     "output_type": "stream",
     "text": [
      "[LightGBM] [Warning] Found whitespace in feature_names, replace with underlines\n",
      "[LightGBM] [Info] Auto-choosing row-wise multi-threading, the overhead of testing was 0.005461 seconds.\n",
      "You can set `force_row_wise=true` to remove the overhead.\n",
      "And if memory is not enough, you can set `force_col_wise=true`.\n",
      "[LightGBM] [Info] Total Bins 713\n",
      "[LightGBM] [Info] Number of data points in the train set: 94792, number of used features: 6\n",
      "[LightGBM] [Info] Start training from score 9.707233\n",
      "0:\tlearn: 3.1773186\ttotal: 62.3ms\tremaining: 6.23s\n",
      "1:\tlearn: 3.1757088\ttotal: 174ms\tremaining: 8.61s\n",
      "2:\tlearn: 3.1738652\ttotal: 265ms\tremaining: 8.66s\n",
      "3:\tlearn: 3.1720356\ttotal: 370ms\tremaining: 8.98s\n",
      "4:\tlearn: 3.1701888\ttotal: 475ms\tremaining: 9.12s\n",
      "5:\tlearn: 3.1688200\ttotal: 484ms\tremaining: 7.67s\n",
      "6:\tlearn: 3.1670416\ttotal: 504ms\tremaining: 6.77s\n",
      "7:\tlearn: 3.1655457\ttotal: 511ms\tremaining: 5.94s\n",
      "8:\tlearn: 3.1637510\ttotal: 553ms\tremaining: 5.65s\n",
      "9:\tlearn: 3.1620048\ttotal: 576ms\tremaining: 5.24s\n",
      "10:\tlearn: 3.1602287\ttotal: 602ms\tremaining: 4.92s\n",
      "11:\tlearn: 3.1585170\ttotal: 615ms\tremaining: 4.56s\n",
      "12:\tlearn: 3.1566868\ttotal: 729ms\tremaining: 4.93s\n",
      "13:\tlearn: 3.1550478\ttotal: 739ms\tremaining: 4.59s\n",
      "14:\tlearn: 3.1536148\ttotal: 745ms\tremaining: 4.27s\n",
      "15:\tlearn: 3.1519429\ttotal: 759ms\tremaining: 4.03s\n",
      "16:\tlearn: 3.1501619\ttotal: 781ms\tremaining: 3.86s\n",
      "17:\tlearn: 3.1483650\ttotal: 898ms\tremaining: 4.14s\n",
      "18:\tlearn: 3.1465695\ttotal: 1.01s\tremaining: 4.37s\n",
      "19:\tlearn: 3.1453632\ttotal: 1.02s\tremaining: 4.12s\n",
      "20:\tlearn: 3.1437678\ttotal: 1.03s\tremaining: 3.93s\n",
      "21:\tlearn: 3.1420617\ttotal: 1.05s\tremaining: 3.77s\n",
      "22:\tlearn: 3.1420617\ttotal: 1.05s\tremaining: 3.57s\n",
      "23:\tlearn: 3.1403409\ttotal: 1.07s\tremaining: 3.44s\n",
      "24:\tlearn: 3.1385658\ttotal: 1.19s\tremaining: 3.61s\n",
      "25:\tlearn: 3.1368984\ttotal: 1.2s\tremaining: 3.47s\n",
      "26:\tlearn: 3.1351542\ttotal: 1.31s\tremaining: 3.59s\n",
      "27:\tlearn: 3.1334089\ttotal: 1.41s\tremaining: 3.67s\n",
      "28:\tlearn: 3.1316281\ttotal: 1.51s\tremaining: 3.75s\n",
      "29:\tlearn: 3.1300405\ttotal: 1.52s\tremaining: 3.6s\n",
      "30:\tlearn: 3.1283165\ttotal: 1.62s\tremaining: 3.65s\n",
      "31:\tlearn: 3.1265200\ttotal: 1.72s\tremaining: 3.71s\n",
      "32:\tlearn: 3.1249548\ttotal: 1.73s\tremaining: 3.57s\n",
      "33:\tlearn: 3.1231726\ttotal: 1.84s\tremaining: 3.62s\n",
      "34:\tlearn: 3.1214229\ttotal: 1.95s\tremaining: 3.67s\n",
      "35:\tlearn: 3.1203735\ttotal: 1.95s\tremaining: 3.52s\n",
      "36:\tlearn: 3.1186024\ttotal: 2.06s\tremaining: 3.56s\n",
      "37:\tlearn: 3.1171974\ttotal: 2.06s\tremaining: 3.42s\n",
      "38:\tlearn: 3.1157236\ttotal: 2.08s\tremaining: 3.3s\n",
      "39:\tlearn: 3.1140115\ttotal: 2.1s\tremaining: 3.19s\n",
      "40:\tlearn: 3.1122749\ttotal: 2.19s\tremaining: 3.2s\n",
      "41:\tlearn: 3.1105629\ttotal: 2.28s\tremaining: 3.2s\n",
      "42:\tlearn: 3.1088881\ttotal: 2.35s\tremaining: 3.18s\n",
      "43:\tlearn: 3.1073874\ttotal: 2.36s\tremaining: 3.06s\n",
      "44:\tlearn: 3.1057266\ttotal: 2.38s\tremaining: 2.97s\n",
      "45:\tlearn: 3.1040302\ttotal: 2.48s\tremaining: 2.96s\n",
      "46:\tlearn: 3.1023515\ttotal: 2.56s\tremaining: 2.94s\n",
      "47:\tlearn: 3.1006465\ttotal: 2.65s\tremaining: 2.93s\n",
      "48:\tlearn: 3.0990028\ttotal: 2.66s\tremaining: 2.83s\n",
      "49:\tlearn: 3.0972991\ttotal: 2.68s\tremaining: 2.73s\n",
      "50:\tlearn: 3.0955758\ttotal: 2.76s\tremaining: 2.71s\n",
      "51:\tlearn: 3.0938766\ttotal: 2.85s\tremaining: 2.69s\n",
      "52:\tlearn: 3.0924541\ttotal: 2.86s\tremaining: 2.59s\n",
      "53:\tlearn: 3.0907338\ttotal: 2.96s\tremaining: 2.57s\n",
      "54:\tlearn: 3.0890344\ttotal: 3.04s\tremaining: 2.54s\n",
      "55:\tlearn: 3.0873321\ttotal: 3.13s\tremaining: 2.52s\n",
      "56:\tlearn: 3.0859720\ttotal: 3.14s\tremaining: 2.42s\n",
      "57:\tlearn: 3.0842707\ttotal: 3.24s\tremaining: 2.4s\n",
      "58:\tlearn: 3.0825457\ttotal: 3.29s\tremaining: 2.34s\n",
      "59:\tlearn: 3.0808426\ttotal: 3.38s\tremaining: 2.31s\n",
      "60:\tlearn: 3.0791590\ttotal: 3.47s\tremaining: 2.28s\n",
      "61:\tlearn: 3.0774401\ttotal: 3.58s\tremaining: 2.25s\n",
      "62:\tlearn: 3.0757704\ttotal: 3.67s\tremaining: 2.22s\n",
      "63:\tlearn: 3.0740536\ttotal: 3.77s\tremaining: 2.18s\n",
      "64:\tlearn: 3.0723601\ttotal: 3.86s\tremaining: 2.14s\n",
      "65:\tlearn: 3.0707357\ttotal: 3.88s\tremaining: 2.06s\n",
      "66:\tlearn: 3.0690375\ttotal: 3.98s\tremaining: 2.02s\n",
      "67:\tlearn: 3.0675095\ttotal: 3.99s\tremaining: 1.94s\n",
      "68:\tlearn: 3.0658062\ttotal: 4.09s\tremaining: 1.9s\n",
      "69:\tlearn: 3.0641187\ttotal: 4.18s\tremaining: 1.85s\n",
      "70:\tlearn: 3.0630527\ttotal: 4.19s\tremaining: 1.77s\n",
      "71:\tlearn: 3.0614219\ttotal: 4.2s\tremaining: 1.69s\n",
      "72:\tlearn: 3.0597674\ttotal: 4.26s\tremaining: 1.63s\n",
      "73:\tlearn: 3.0582390\ttotal: 4.27s\tremaining: 1.56s\n",
      "74:\tlearn: 3.0565857\ttotal: 4.37s\tremaining: 1.51s\n",
      "75:\tlearn: 3.0549585\ttotal: 4.39s\tremaining: 1.44s\n",
      "76:\tlearn: 3.0534147\ttotal: 4.4s\tremaining: 1.37s\n",
      "77:\tlearn: 3.0517425\ttotal: 4.49s\tremaining: 1.32s\n",
      "78:\tlearn: 3.0500804\ttotal: 4.58s\tremaining: 1.27s\n",
      "79:\tlearn: 3.0484214\ttotal: 4.67s\tremaining: 1.23s\n",
      "80:\tlearn: 3.0467987\ttotal: 4.78s\tremaining: 1.18s\n",
      "81:\tlearn: 3.0451323\ttotal: 4.88s\tremaining: 1.13s\n",
      "82:\tlearn: 3.0434937\ttotal: 4.98s\tremaining: 1.08s\n",
      "83:\tlearn: 3.0421826\ttotal: 4.99s\tremaining: 1.01s\n",
      "84:\tlearn: 3.0410052\ttotal: 5s\tremaining: 940ms\n",
      "85:\tlearn: 3.0400329\ttotal: 5s\tremaining: 872ms\n",
      "86:\tlearn: 3.0384191\ttotal: 5.08s\tremaining: 818ms\n",
      "87:\tlearn: 3.0369698\ttotal: 5.1s\tremaining: 753ms\n",
      "88:\tlearn: 3.0353547\ttotal: 5.21s\tremaining: 702ms\n",
      "89:\tlearn: 3.0338168\ttotal: 5.22s\tremaining: 638ms\n",
      "90:\tlearn: 3.0323483\ttotal: 5.23s\tremaining: 575ms\n",
      "91:\tlearn: 3.0307926\ttotal: 5.34s\tremaining: 523ms\n",
      "92:\tlearn: 3.0291669\ttotal: 5.43s\tremaining: 467ms\n",
      "93:\tlearn: 3.0275425\ttotal: 5.51s\tremaining: 410ms\n",
      "94:\tlearn: 3.0261747\ttotal: 5.52s\tremaining: 348ms\n",
      "95:\tlearn: 3.0245673\ttotal: 5.6s\tremaining: 292ms\n",
      "96:\tlearn: 3.0230084\ttotal: 5.68s\tremaining: 234ms\n",
      "97:\tlearn: 3.0213746\ttotal: 5.76s\tremaining: 176ms\n",
      "98:\tlearn: 3.0197589\ttotal: 5.85s\tremaining: 118ms\n",
      "99:\tlearn: 3.0184793\ttotal: 5.86s\tremaining: 58.6ms\n",
      "100:\tlearn: 3.0168771\ttotal: 5.89s\tremaining: 0us\n",
      "[LightGBM] [Warning] Found whitespace in feature_names, replace with underlines\n",
      "[LightGBM] [Info] Auto-choosing col-wise multi-threading, the overhead of testing was 0.006749 seconds.\n",
      "You can set `force_col_wise=true` to remove the overhead.\n",
      "[LightGBM] [Info] Total Bins 709\n",
      "[LightGBM] [Info] Number of data points in the train set: 75833, number of used features: 6\n",
      "[LightGBM] [Info] Start training from score 9.718698\n",
      "[LightGBM] [Warning] Found whitespace in feature_names, replace with underlines\n",
      "[LightGBM] [Info] Auto-choosing col-wise multi-threading, the overhead of testing was 0.006718 seconds.\n",
      "You can set `force_col_wise=true` to remove the overhead.\n",
      "[LightGBM] [Info] Total Bins 708\n",
      "[LightGBM] [Info] Number of data points in the train set: 75833, number of used features: 6\n",
      "[LightGBM] [Info] Start training from score 9.698588\n",
      "[LightGBM] [Warning] Found whitespace in feature_names, replace with underlines\n",
      "[LightGBM] [Info] Auto-choosing col-wise multi-threading, the overhead of testing was 0.006759 seconds.\n",
      "You can set `force_col_wise=true` to remove the overhead.\n",
      "[LightGBM] [Info] Total Bins 708\n",
      "[LightGBM] [Info] Number of data points in the train set: 75834, number of used features: 6\n",
      "[LightGBM] [Info] Start training from score 9.711831\n",
      "[LightGBM] [Warning] Found whitespace in feature_names, replace with underlines\n",
      "[LightGBM] [Info] Auto-choosing col-wise multi-threading, the overhead of testing was 0.006753 seconds.\n",
      "You can set `force_col_wise=true` to remove the overhead.\n",
      "[LightGBM] [Info] Total Bins 710\n",
      "[LightGBM] [Info] Number of data points in the train set: 75834, number of used features: 6\n",
      "[LightGBM] [Info] Start training from score 9.718833\n",
      "[LightGBM] [Warning] Found whitespace in feature_names, replace with underlines\n",
      "[LightGBM] [Info] Auto-choosing col-wise multi-threading, the overhead of testing was 0.006795 seconds.\n",
      "You can set `force_col_wise=true` to remove the overhead.\n",
      "[LightGBM] [Info] Total Bins 707\n",
      "[LightGBM] [Info] Number of data points in the train set: 75834, number of used features: 6\n",
      "[LightGBM] [Info] Start training from score 9.688214\n",
      "0:\tlearn: 3.1781882\ttotal: 5.62ms\tremaining: 562ms\n",
      "1:\tlearn: 3.1766354\ttotal: 15.9ms\tremaining: 787ms\n",
      "2:\tlearn: 3.1747738\ttotal: 91.5ms\tremaining: 2.99s\n",
      "3:\tlearn: 3.1729464\ttotal: 167ms\tremaining: 4.06s\n",
      "4:\tlearn: 3.1711514\ttotal: 216ms\tremaining: 4.15s\n",
      "5:\tlearn: 3.1694430\ttotal: 228ms\tremaining: 3.61s\n",
      "6:\tlearn: 3.1676193\ttotal: 313ms\tremaining: 4.2s\n",
      "7:\tlearn: 3.1662060\ttotal: 319ms\tremaining: 3.7s\n",
      "8:\tlearn: 3.1648904\ttotal: 323ms\tremaining: 3.31s\n",
      "9:\tlearn: 3.1630608\ttotal: 418ms\tremaining: 3.8s\n",
      "10:\tlearn: 3.1612833\ttotal: 491ms\tremaining: 4.02s\n",
      "11:\tlearn: 3.1594969\ttotal: 583ms\tremaining: 4.33s\n",
      "12:\tlearn: 3.1577265\ttotal: 676ms\tremaining: 4.58s\n",
      "13:\tlearn: 3.1560180\ttotal: 687ms\tremaining: 4.27s\n",
      "14:\tlearn: 3.1546018\ttotal: 692ms\tremaining: 3.96s\n",
      "15:\tlearn: 3.1529350\ttotal: 703ms\tremaining: 3.74s\n",
      "16:\tlearn: 3.1511600\ttotal: 723ms\tremaining: 3.57s\n",
      "17:\tlearn: 3.1493688\ttotal: 787ms\tremaining: 3.63s\n",
      "18:\tlearn: 3.1475877\ttotal: 882ms\tremaining: 3.8s\n",
      "19:\tlearn: 3.1463910\ttotal: 885ms\tremaining: 3.58s\n",
      "20:\tlearn: 3.1448050\ttotal: 896ms\tremaining: 3.41s\n",
      "21:\tlearn: 3.1430993\ttotal: 911ms\tremaining: 3.27s\n",
      "22:\tlearn: 3.1430993\ttotal: 914ms\tremaining: 3.1s\n",
      "23:\tlearn: 3.1414083\ttotal: 929ms\tremaining: 2.98s\n",
      "24:\tlearn: 3.1396620\ttotal: 1s\tremaining: 3.04s\n",
      "25:\tlearn: 3.1383916\ttotal: 1s\tremaining: 2.9s\n",
      "26:\tlearn: 3.1366644\ttotal: 1.03s\tremaining: 2.83s\n",
      "27:\tlearn: 3.1351203\ttotal: 1.04s\tremaining: 2.72s\n",
      "28:\tlearn: 3.1333665\ttotal: 1.1s\tremaining: 2.72s\n",
      "29:\tlearn: 3.1316755\ttotal: 1.14s\tremaining: 2.7s\n",
      "30:\tlearn: 3.1301419\ttotal: 1.15s\tremaining: 2.59s\n",
      "31:\tlearn: 3.1284173\ttotal: 1.19s\tremaining: 2.58s\n",
      "32:\tlearn: 3.1266247\ttotal: 1.29s\tremaining: 2.65s\n",
      "33:\tlearn: 3.1250653\ttotal: 1.29s\tremaining: 2.55s\n",
      "34:\tlearn: 3.1233000\ttotal: 1.39s\tremaining: 2.62s\n",
      "35:\tlearn: 3.1215432\ttotal: 1.45s\tremaining: 2.62s\n",
      "36:\tlearn: 3.1204964\ttotal: 1.45s\tremaining: 2.52s\n",
      "37:\tlearn: 3.1187227\ttotal: 1.54s\tremaining: 2.55s\n",
      "38:\tlearn: 3.1173487\ttotal: 1.54s\tremaining: 2.45s\n",
      "39:\tlearn: 3.1158882\ttotal: 1.55s\tremaining: 2.37s\n",
      "40:\tlearn: 3.1142614\ttotal: 1.57s\tremaining: 2.3s\n",
      "41:\tlearn: 3.1125251\ttotal: 1.67s\tremaining: 2.35s\n",
      "42:\tlearn: 3.1108173\ttotal: 1.77s\tremaining: 2.39s\n",
      "43:\tlearn: 3.1091477\ttotal: 1.87s\tremaining: 2.42s\n",
      "44:\tlearn: 3.1076545\ttotal: 1.88s\tremaining: 2.34s\n",
      "45:\tlearn: 3.1059715\ttotal: 1.9s\tremaining: 2.27s\n",
      "46:\tlearn: 3.1042682\ttotal: 1.97s\tremaining: 2.26s\n",
      "47:\tlearn: 3.1025664\ttotal: 2.04s\tremaining: 2.25s\n",
      "48:\tlearn: 3.1008705\ttotal: 2.12s\tremaining: 2.25s\n",
      "49:\tlearn: 3.0992193\ttotal: 2.13s\tremaining: 2.17s\n",
      "50:\tlearn: 3.0975089\ttotal: 2.14s\tremaining: 2.1s\n",
      "51:\tlearn: 3.0958061\ttotal: 2.21s\tremaining: 2.08s\n",
      "52:\tlearn: 3.0941107\ttotal: 2.28s\tremaining: 2.06s\n",
      "53:\tlearn: 3.0926822\ttotal: 2.28s\tremaining: 1.99s\n",
      "54:\tlearn: 3.0909824\ttotal: 2.39s\tremaining: 2s\n",
      "55:\tlearn: 3.0892775\ttotal: 2.5s\tremaining: 2.01s\n",
      "56:\tlearn: 3.0875899\ttotal: 2.57s\tremaining: 1.98s\n",
      "57:\tlearn: 3.0862310\ttotal: 2.58s\tremaining: 1.91s\n",
      "58:\tlearn: 3.0845911\ttotal: 2.62s\tremaining: 1.86s\n",
      "59:\tlearn: 3.0828851\ttotal: 2.67s\tremaining: 1.83s\n",
      "60:\tlearn: 3.0811566\ttotal: 2.74s\tremaining: 1.8s\n",
      "61:\tlearn: 3.0794648\ttotal: 2.82s\tremaining: 1.77s\n",
      "62:\tlearn: 3.0777409\ttotal: 2.9s\tremaining: 1.75s\n",
      "63:\tlearn: 3.0760611\ttotal: 2.96s\tremaining: 1.71s\n",
      "64:\tlearn: 3.0743963\ttotal: 3.04s\tremaining: 1.69s\n",
      "65:\tlearn: 3.0726851\ttotal: 3.09s\tremaining: 1.64s\n",
      "66:\tlearn: 3.0710721\ttotal: 3.11s\tremaining: 1.58s\n",
      "67:\tlearn: 3.0694103\ttotal: 3.17s\tremaining: 1.54s\n",
      "68:\tlearn: 3.0678540\ttotal: 3.17s\tremaining: 1.47s\n",
      "69:\tlearn: 3.0661966\ttotal: 3.22s\tremaining: 1.43s\n",
      "70:\tlearn: 3.0645108\ttotal: 3.27s\tremaining: 1.38s\n",
      "71:\tlearn: 3.0634512\ttotal: 3.28s\tremaining: 1.32s\n",
      "72:\tlearn: 3.0619085\ttotal: 3.29s\tremaining: 1.26s\n",
      "73:\tlearn: 3.0609176\ttotal: 3.29s\tremaining: 1.2s\n",
      "74:\tlearn: 3.0592510\ttotal: 3.37s\tremaining: 1.17s\n",
      "75:\tlearn: 3.0578003\ttotal: 3.38s\tremaining: 1.11s\n",
      "76:\tlearn: 3.0561176\ttotal: 3.44s\tremaining: 1.07s\n",
      "77:\tlearn: 3.0544812\ttotal: 3.47s\tremaining: 1.02s\n",
      "78:\tlearn: 3.0529325\ttotal: 3.48s\tremaining: 970ms\n",
      "79:\tlearn: 3.0512756\ttotal: 3.55s\tremaining: 932ms\n",
      "80:\tlearn: 3.0496159\ttotal: 3.64s\tremaining: 898ms\n",
      "81:\tlearn: 3.0479848\ttotal: 3.72s\tremaining: 862ms\n",
      "82:\tlearn: 3.0463812\ttotal: 3.8s\tremaining: 824ms\n",
      "83:\tlearn: 3.0447180\ttotal: 3.87s\tremaining: 783ms\n",
      "84:\tlearn: 3.0430958\ttotal: 3.9s\tremaining: 733ms\n",
      "85:\tlearn: 3.0417471\ttotal: 3.9s\tremaining: 681ms\n",
      "86:\tlearn: 3.0405744\ttotal: 3.91s\tremaining: 629ms\n",
      "87:\tlearn: 3.0396057\ttotal: 3.91s\tremaining: 578ms\n",
      "88:\tlearn: 3.0379881\ttotal: 4.02s\tremaining: 542ms\n",
      "89:\tlearn: 3.0364764\ttotal: 4.07s\tremaining: 497ms\n",
      "90:\tlearn: 3.0349933\ttotal: 4.09s\tremaining: 449ms\n",
      "91:\tlearn: 3.0333837\ttotal: 4.19s\tremaining: 410ms\n",
      "92:\tlearn: 3.0318492\ttotal: 4.2s\tremaining: 362ms\n",
      "93:\tlearn: 3.0302242\ttotal: 4.28s\tremaining: 319ms\n",
      "94:\tlearn: 3.0285861\ttotal: 4.35s\tremaining: 275ms\n",
      "95:\tlearn: 3.0269857\ttotal: 4.44s\tremaining: 231ms\n",
      "96:\tlearn: 3.0260952\ttotal: 4.45s\tremaining: 183ms\n",
      "97:\tlearn: 3.0260952\ttotal: 4.45s\tremaining: 136ms\n",
      "98:\tlearn: 3.0244577\ttotal: 4.53s\tremaining: 91.5ms\n",
      "99:\tlearn: 3.0231519\ttotal: 4.54s\tremaining: 45.4ms\n",
      "100:\tlearn: 3.0216674\ttotal: 4.55s\tremaining: 0us\n",
      "0:\tlearn: 3.1654140\ttotal: 5.4ms\tremaining: 540ms\n",
      "1:\tlearn: 3.1638033\ttotal: 86.4ms\tremaining: 4.28s\n",
      "2:\tlearn: 3.1619885\ttotal: 161ms\tremaining: 5.25s\n",
      "3:\tlearn: 3.1601359\ttotal: 243ms\tremaining: 5.89s\n",
      "4:\tlearn: 3.1582927\ttotal: 331ms\tremaining: 6.36s\n",
      "5:\tlearn: 3.1569133\ttotal: 337ms\tremaining: 5.33s\n",
      "6:\tlearn: 3.1551415\ttotal: 352ms\tremaining: 4.73s\n",
      "7:\tlearn: 3.1536459\ttotal: 358ms\tremaining: 4.16s\n",
      "8:\tlearn: 3.1518172\ttotal: 438ms\tremaining: 4.47s\n",
      "9:\tlearn: 3.1500470\ttotal: 457ms\tremaining: 4.16s\n",
      "10:\tlearn: 3.1483209\ttotal: 479ms\tremaining: 3.92s\n",
      "11:\tlearn: 3.1465383\ttotal: 567ms\tremaining: 4.2s\n",
      "12:\tlearn: 3.1447134\ttotal: 652ms\tremaining: 4.42s\n",
      "13:\tlearn: 3.1431797\ttotal: 659ms\tremaining: 4.09s\n",
      "14:\tlearn: 3.1417603\ttotal: 664ms\tremaining: 3.81s\n",
      "15:\tlearn: 3.1400986\ttotal: 676ms\tremaining: 3.59s\n",
      "16:\tlearn: 3.1383211\ttotal: 696ms\tremaining: 3.44s\n",
      "17:\tlearn: 3.1365383\ttotal: 789ms\tremaining: 3.64s\n",
      "18:\tlearn: 3.1347351\ttotal: 884ms\tremaining: 3.82s\n",
      "19:\tlearn: 3.1335337\ttotal: 888ms\tremaining: 3.6s\n",
      "20:\tlearn: 3.1319646\ttotal: 900ms\tremaining: 3.43s\n",
      "21:\tlearn: 3.1302674\ttotal: 915ms\tremaining: 3.29s\n",
      "22:\tlearn: 3.1302674\ttotal: 918ms\tremaining: 3.11s\n",
      "23:\tlearn: 3.1286192\ttotal: 928ms\tremaining: 2.98s\n",
      "24:\tlearn: 3.1268034\ttotal: 998ms\tremaining: 3.04s\n",
      "25:\tlearn: 3.1250732\ttotal: 1.05s\tremaining: 3.03s\n",
      "26:\tlearn: 3.1233481\ttotal: 1.1s\tremaining: 3.01s\n",
      "27:\tlearn: 3.1216279\ttotal: 1.17s\tremaining: 3.04s\n",
      "28:\tlearn: 3.1202116\ttotal: 1.17s\tremaining: 2.91s\n",
      "29:\tlearn: 3.1184783\ttotal: 1.27s\tremaining: 3.01s\n",
      "30:\tlearn: 3.1171977\ttotal: 1.28s\tremaining: 2.88s\n",
      "31:\tlearn: 3.1154510\ttotal: 1.35s\tremaining: 2.91s\n",
      "32:\tlearn: 3.1136697\ttotal: 1.45s\tremaining: 2.99s\n",
      "33:\tlearn: 3.1121162\ttotal: 1.46s\tremaining: 2.87s\n",
      "34:\tlearn: 3.1103371\ttotal: 1.53s\tremaining: 2.89s\n",
      "35:\tlearn: 3.1086233\ttotal: 1.6s\tremaining: 2.89s\n",
      "36:\tlearn: 3.1075772\ttotal: 1.61s\tremaining: 2.78s\n",
      "37:\tlearn: 3.1058078\ttotal: 1.7s\tremaining: 2.82s\n",
      "38:\tlearn: 3.1044261\ttotal: 1.71s\tremaining: 2.71s\n",
      "39:\tlearn: 3.1027639\ttotal: 1.76s\tremaining: 2.69s\n",
      "40:\tlearn: 3.1010197\ttotal: 1.84s\tremaining: 2.7s\n",
      "41:\tlearn: 3.0992736\ttotal: 1.91s\tremaining: 2.68s\n",
      "42:\tlearn: 3.0975789\ttotal: 1.98s\tremaining: 2.67s\n",
      "43:\tlearn: 3.0960069\ttotal: 1.99s\tremaining: 2.58s\n",
      "44:\tlearn: 3.0942807\ttotal: 2.09s\tremaining: 2.6s\n",
      "45:\tlearn: 3.0925253\ttotal: 2.2s\tremaining: 2.63s\n",
      "46:\tlearn: 3.0909147\ttotal: 2.3s\tremaining: 2.65s\n",
      "47:\tlearn: 3.0892268\ttotal: 2.35s\tremaining: 2.59s\n",
      "48:\tlearn: 3.0875827\ttotal: 2.37s\tremaining: 2.51s\n",
      "49:\tlearn: 3.0859161\ttotal: 2.47s\tremaining: 2.52s\n",
      "50:\tlearn: 3.0841917\ttotal: 2.58s\tremaining: 2.53s\n",
      "51:\tlearn: 3.0824784\ttotal: 2.63s\tremaining: 2.47s\n",
      "52:\tlearn: 3.0810432\ttotal: 2.63s\tremaining: 2.38s\n",
      "53:\tlearn: 3.0793361\ttotal: 2.71s\tremaining: 2.36s\n",
      "54:\tlearn: 3.0776297\ttotal: 2.78s\tremaining: 2.33s\n",
      "55:\tlearn: 3.0759174\ttotal: 2.83s\tremaining: 2.27s\n",
      "56:\tlearn: 3.0745574\ttotal: 2.83s\tremaining: 2.19s\n",
      "57:\tlearn: 3.0728561\ttotal: 2.91s\tremaining: 2.16s\n",
      "58:\tlearn: 3.0711742\ttotal: 2.98s\tremaining: 2.12s\n",
      "59:\tlearn: 3.0694754\ttotal: 3.05s\tremaining: 2.09s\n",
      "60:\tlearn: 3.0678014\ttotal: 3.13s\tremaining: 2.06s\n",
      "61:\tlearn: 3.0661041\ttotal: 3.19s\tremaining: 2.01s\n",
      "62:\tlearn: 3.0644486\ttotal: 3.27s\tremaining: 1.97s\n",
      "63:\tlearn: 3.0627753\ttotal: 3.35s\tremaining: 1.94s\n",
      "64:\tlearn: 3.0610722\ttotal: 3.4s\tremaining: 1.88s\n",
      "65:\tlearn: 3.0594607\ttotal: 3.41s\tremaining: 1.81s\n",
      "66:\tlearn: 3.0577988\ttotal: 3.44s\tremaining: 1.75s\n",
      "67:\tlearn: 3.0561786\ttotal: 3.45s\tremaining: 1.67s\n",
      "68:\tlearn: 3.0545110\ttotal: 3.5s\tremaining: 1.63s\n",
      "69:\tlearn: 3.0528235\ttotal: 3.58s\tremaining: 1.58s\n",
      "70:\tlearn: 3.0517561\ttotal: 3.58s\tremaining: 1.51s\n",
      "71:\tlearn: 3.0502214\ttotal: 3.59s\tremaining: 1.45s\n",
      "72:\tlearn: 3.0492123\ttotal: 3.6s\tremaining: 1.38s\n",
      "73:\tlearn: 3.0475915\ttotal: 3.62s\tremaining: 1.32s\n",
      "74:\tlearn: 3.0461220\ttotal: 3.63s\tremaining: 1.26s\n",
      "75:\tlearn: 3.0444437\ttotal: 3.69s\tremaining: 1.21s\n",
      "76:\tlearn: 3.0428125\ttotal: 3.71s\tremaining: 1.16s\n",
      "77:\tlearn: 3.0413314\ttotal: 3.72s\tremaining: 1.1s\n",
      "78:\tlearn: 3.0396639\ttotal: 3.78s\tremaining: 1.05s\n",
      "79:\tlearn: 3.0380112\ttotal: 3.87s\tremaining: 1.02s\n",
      "80:\tlearn: 3.0363722\ttotal: 3.94s\tremaining: 972ms\n",
      "81:\tlearn: 3.0347296\ttotal: 4s\tremaining: 927ms\n",
      "82:\tlearn: 3.0330861\ttotal: 4.07s\tremaining: 883ms\n",
      "83:\tlearn: 3.0314716\ttotal: 4.1s\tremaining: 829ms\n",
      "84:\tlearn: 3.0301410\ttotal: 4.1s\tremaining: 773ms\n",
      "85:\tlearn: 3.0289650\ttotal: 4.11s\tremaining: 717ms\n",
      "86:\tlearn: 3.0279966\ttotal: 4.11s\tremaining: 662ms\n",
      "87:\tlearn: 3.0263789\ttotal: 4.22s\tremaining: 623ms\n",
      "88:\tlearn: 3.0248576\ttotal: 4.26s\tremaining: 575ms\n",
      "89:\tlearn: 3.0233664\ttotal: 4.31s\tremaining: 527ms\n",
      "90:\tlearn: 3.0219070\ttotal: 4.32s\tremaining: 475ms\n",
      "91:\tlearn: 3.0203078\ttotal: 4.39s\tremaining: 430ms\n",
      "92:\tlearn: 3.0186678\ttotal: 4.5s\tremaining: 387ms\n",
      "93:\tlearn: 3.0172080\ttotal: 4.51s\tremaining: 336ms\n",
      "94:\tlearn: 3.0159344\ttotal: 4.51s\tremaining: 285ms\n",
      "95:\tlearn: 3.0143386\ttotal: 4.53s\tremaining: 236ms\n",
      "96:\tlearn: 3.0127490\ttotal: 4.64s\tremaining: 191ms\n",
      "97:\tlearn: 3.0111962\ttotal: 4.71s\tremaining: 144ms\n",
      "98:\tlearn: 3.0095671\ttotal: 4.81s\tremaining: 97.2ms\n",
      "99:\tlearn: 3.0079532\ttotal: 4.89s\tremaining: 48.9ms\n",
      "100:\tlearn: 3.0066797\ttotal: 4.89s\tremaining: 0us\n",
      "0:\tlearn: 3.1807177\ttotal: 6.36ms\tremaining: 636ms\n",
      "1:\tlearn: 3.1791124\ttotal: 83.8ms\tremaining: 4.15s\n",
      "2:\tlearn: 3.1772953\ttotal: 151ms\tremaining: 4.92s\n",
      "3:\tlearn: 3.1755155\ttotal: 229ms\tremaining: 5.56s\n",
      "4:\tlearn: 3.1736550\ttotal: 313ms\tremaining: 6.02s\n",
      "5:\tlearn: 3.1722785\ttotal: 319ms\tremaining: 5.05s\n",
      "6:\tlearn: 3.1705177\ttotal: 335ms\tremaining: 4.5s\n",
      "7:\tlearn: 3.1690083\ttotal: 341ms\tremaining: 3.96s\n",
      "8:\tlearn: 3.1671677\ttotal: 394ms\tremaining: 4.02s\n",
      "9:\tlearn: 3.1654197\ttotal: 414ms\tremaining: 3.76s\n",
      "10:\tlearn: 3.1636426\ttotal: 436ms\tremaining: 3.57s\n",
      "11:\tlearn: 3.1619356\ttotal: 449ms\tremaining: 3.33s\n",
      "12:\tlearn: 3.1601200\ttotal: 536ms\tremaining: 3.63s\n",
      "13:\tlearn: 3.1584825\ttotal: 545ms\tremaining: 3.39s\n",
      "14:\tlearn: 3.1570654\ttotal: 550ms\tremaining: 3.15s\n",
      "15:\tlearn: 3.1554007\ttotal: 562ms\tremaining: 2.98s\n",
      "16:\tlearn: 3.1536292\ttotal: 580ms\tremaining: 2.87s\n",
      "17:\tlearn: 3.1518327\ttotal: 674ms\tremaining: 3.11s\n",
      "18:\tlearn: 3.1500164\ttotal: 768ms\tremaining: 3.31s\n",
      "19:\tlearn: 3.1488142\ttotal: 771ms\tremaining: 3.12s\n",
      "20:\tlearn: 3.1472284\ttotal: 781ms\tremaining: 2.98s\n",
      "21:\tlearn: 3.1454617\ttotal: 855ms\tremaining: 3.07s\n",
      "22:\tlearn: 3.1442690\ttotal: 858ms\tremaining: 2.91s\n",
      "23:\tlearn: 3.1424775\ttotal: 950ms\tremaining: 3.05s\n",
      "24:\tlearn: 3.1409303\ttotal: 959ms\tremaining: 2.91s\n",
      "25:\tlearn: 3.1395514\ttotal: 963ms\tremaining: 2.78s\n",
      "26:\tlearn: 3.1380721\ttotal: 970ms\tremaining: 2.66s\n",
      "27:\tlearn: 3.1364519\ttotal: 983ms\tremaining: 2.56s\n",
      "28:\tlearn: 3.1346888\ttotal: 1.07s\tremaining: 2.65s\n",
      "29:\tlearn: 3.1329318\ttotal: 1.16s\tremaining: 2.74s\n",
      "30:\tlearn: 3.1314786\ttotal: 1.17s\tremaining: 2.63s\n",
      "31:\tlearn: 3.1297518\ttotal: 1.19s\tremaining: 2.56s\n",
      "32:\tlearn: 3.1280992\ttotal: 1.2s\tremaining: 2.47s\n",
      "33:\tlearn: 3.1267081\ttotal: 1.21s\tremaining: 2.38s\n",
      "34:\tlearn: 3.1249805\ttotal: 1.29s\tremaining: 2.44s\n",
      "35:\tlearn: 3.1233093\ttotal: 1.31s\tremaining: 2.36s\n",
      "36:\tlearn: 3.1216695\ttotal: 1.32s\tremaining: 2.28s\n",
      "37:\tlearn: 3.1199013\ttotal: 1.4s\tremaining: 2.32s\n",
      "38:\tlearn: 3.1185170\ttotal: 1.41s\tremaining: 2.24s\n",
      "39:\tlearn: 3.1168733\ttotal: 1.47s\tremaining: 2.24s\n",
      "40:\tlearn: 3.1151776\ttotal: 1.49s\tremaining: 2.17s\n",
      "41:\tlearn: 3.1134716\ttotal: 1.54s\tremaining: 2.16s\n",
      "42:\tlearn: 3.1117564\ttotal: 1.63s\tremaining: 2.2s\n",
      "43:\tlearn: 3.1100671\ttotal: 1.73s\tremaining: 2.23s\n",
      "44:\tlearn: 3.1083637\ttotal: 1.82s\tremaining: 2.27s\n",
      "45:\tlearn: 3.1066946\ttotal: 1.92s\tremaining: 2.29s\n",
      "46:\tlearn: 3.1049930\ttotal: 2.02s\tremaining: 2.32s\n",
      "47:\tlearn: 3.1033592\ttotal: 2.03s\tremaining: 2.24s\n",
      "48:\tlearn: 3.1016990\ttotal: 2.05s\tremaining: 2.17s\n",
      "49:\tlearn: 3.1000377\ttotal: 2.12s\tremaining: 2.17s\n",
      "50:\tlearn: 3.0983029\ttotal: 2.23s\tremaining: 2.19s\n",
      "51:\tlearn: 3.0966058\ttotal: 2.27s\tremaining: 2.14s\n",
      "52:\tlearn: 3.0951690\ttotal: 2.28s\tremaining: 2.06s\n",
      "53:\tlearn: 3.0934627\ttotal: 2.39s\tremaining: 2.08s\n",
      "54:\tlearn: 3.0917691\ttotal: 2.48s\tremaining: 2.08s\n",
      "55:\tlearn: 3.0900715\ttotal: 2.56s\tremaining: 2.05s\n",
      "56:\tlearn: 3.0883489\ttotal: 2.67s\tremaining: 2.06s\n",
      "57:\tlearn: 3.0866713\ttotal: 2.73s\tremaining: 2.03s\n",
      "58:\tlearn: 3.0849623\ttotal: 2.8s\tremaining: 1.99s\n",
      "59:\tlearn: 3.0832603\ttotal: 2.87s\tremaining: 1.96s\n",
      "60:\tlearn: 3.0815580\ttotal: 2.92s\tremaining: 1.91s\n",
      "61:\tlearn: 3.0798629\ttotal: 2.99s\tremaining: 1.88s\n",
      "62:\tlearn: 3.0781476\ttotal: 3.07s\tremaining: 1.85s\n",
      "63:\tlearn: 3.0764917\ttotal: 3.13s\tremaining: 1.81s\n",
      "64:\tlearn: 3.0747737\ttotal: 3.19s\tremaining: 1.77s\n",
      "65:\tlearn: 3.0731105\ttotal: 3.24s\tremaining: 1.72s\n",
      "66:\tlearn: 3.0715607\ttotal: 3.25s\tremaining: 1.65s\n",
      "67:\tlearn: 3.0704220\ttotal: 3.25s\tremaining: 1.58s\n",
      "68:\tlearn: 3.0687117\ttotal: 3.33s\tremaining: 1.54s\n",
      "69:\tlearn: 3.0670343\ttotal: 3.39s\tremaining: 1.5s\n",
      "70:\tlearn: 3.0659741\ttotal: 3.39s\tremaining: 1.43s\n",
      "71:\tlearn: 3.0643388\ttotal: 3.4s\tremaining: 1.37s\n",
      "72:\tlearn: 3.0626771\ttotal: 3.48s\tremaining: 1.33s\n",
      "73:\tlearn: 3.0611859\ttotal: 3.48s\tremaining: 1.27s\n",
      "74:\tlearn: 3.0595317\ttotal: 3.55s\tremaining: 1.23s\n",
      "75:\tlearn: 3.0578898\ttotal: 3.57s\tremaining: 1.17s\n",
      "76:\tlearn: 3.0563801\ttotal: 3.58s\tremaining: 1.11s\n",
      "77:\tlearn: 3.0547068\ttotal: 3.65s\tremaining: 1.08s\n",
      "78:\tlearn: 3.0530563\ttotal: 3.72s\tremaining: 1.03s\n",
      "79:\tlearn: 3.0514330\ttotal: 3.78s\tremaining: 993ms\n",
      "80:\tlearn: 3.0498174\ttotal: 3.88s\tremaining: 957ms\n",
      "81:\tlearn: 3.0481644\ttotal: 3.97s\tremaining: 920ms\n",
      "82:\tlearn: 3.0465439\ttotal: 3.99s\tremaining: 866ms\n",
      "83:\tlearn: 3.0452032\ttotal: 4s\tremaining: 810ms\n",
      "84:\tlearn: 3.0440316\ttotal: 4.01s\tremaining: 754ms\n",
      "85:\tlearn: 3.0430639\ttotal: 4.01s\tremaining: 699ms\n",
      "86:\tlearn: 3.0414339\ttotal: 4.11s\tremaining: 662ms\n",
      "87:\tlearn: 3.0399314\ttotal: 4.13s\tremaining: 611ms\n",
      "88:\tlearn: 3.0383163\ttotal: 4.22s\tremaining: 569ms\n",
      "89:\tlearn: 3.0366858\ttotal: 4.33s\tremaining: 529ms\n",
      "90:\tlearn: 3.0351368\ttotal: 4.34s\tremaining: 477ms\n",
      "91:\tlearn: 3.0335412\ttotal: 4.41s\tremaining: 432ms\n",
      "92:\tlearn: 3.0318873\ttotal: 4.51s\tremaining: 388ms\n",
      "93:\tlearn: 3.0302907\ttotal: 4.58s\tremaining: 341ms\n",
      "94:\tlearn: 3.0293990\ttotal: 4.58s\tremaining: 289ms\n",
      "95:\tlearn: 3.0293990\ttotal: 4.58s\tremaining: 239ms\n",
      "96:\tlearn: 3.0277478\ttotal: 4.66s\tremaining: 192ms\n",
      "97:\tlearn: 3.0263610\ttotal: 4.67s\tremaining: 143ms\n",
      "98:\tlearn: 3.0248013\ttotal: 4.68s\tremaining: 94.5ms\n",
      "99:\tlearn: 3.0238432\ttotal: 4.68s\tremaining: 46.8ms\n",
      "100:\tlearn: 3.0223402\ttotal: 4.69s\tremaining: 0us\n",
      "0:\tlearn: 3.1910645\ttotal: 5.71ms\tremaining: 571ms\n",
      "1:\tlearn: 3.1895078\ttotal: 16.2ms\tremaining: 800ms\n",
      "2:\tlearn: 3.1876476\ttotal: 99.7ms\tremaining: 3.26s\n",
      "3:\tlearn: 3.1858666\ttotal: 172ms\tremaining: 4.18s\n",
      "4:\tlearn: 3.1840654\ttotal: 245ms\tremaining: 4.71s\n",
      "5:\tlearn: 3.1823710\ttotal: 255ms\tremaining: 4.04s\n",
      "6:\tlearn: 3.1806247\ttotal: 272ms\tremaining: 3.65s\n",
      "7:\tlearn: 3.1791112\ttotal: 278ms\tremaining: 3.23s\n",
      "8:\tlearn: 3.1772755\ttotal: 358ms\tremaining: 3.65s\n",
      "9:\tlearn: 3.1755357\ttotal: 376ms\tremaining: 3.42s\n",
      "10:\tlearn: 3.1737562\ttotal: 398ms\tremaining: 3.26s\n",
      "11:\tlearn: 3.1719676\ttotal: 468ms\tremaining: 3.47s\n",
      "12:\tlearn: 3.1702254\ttotal: 484ms\tremaining: 3.27s\n",
      "13:\tlearn: 3.1686558\ttotal: 492ms\tremaining: 3.06s\n",
      "14:\tlearn: 3.1672424\ttotal: 497ms\tremaining: 2.85s\n",
      "15:\tlearn: 3.1655699\ttotal: 508ms\tremaining: 2.7s\n",
      "16:\tlearn: 3.1637911\ttotal: 528ms\tremaining: 2.61s\n",
      "17:\tlearn: 3.1620000\ttotal: 609ms\tremaining: 2.81s\n",
      "18:\tlearn: 3.1601936\ttotal: 663ms\tremaining: 2.86s\n",
      "19:\tlearn: 3.1589937\ttotal: 667ms\tremaining: 2.7s\n",
      "20:\tlearn: 3.1574097\ttotal: 678ms\tremaining: 2.58s\n",
      "21:\tlearn: 3.1556400\ttotal: 751ms\tremaining: 2.7s\n",
      "22:\tlearn: 3.1544316\ttotal: 755ms\tremaining: 2.56s\n",
      "23:\tlearn: 3.1526200\ttotal: 846ms\tremaining: 2.71s\n",
      "24:\tlearn: 3.1510749\ttotal: 854ms\tremaining: 2.6s\n",
      "25:\tlearn: 3.1496875\ttotal: 859ms\tremaining: 2.48s\n",
      "26:\tlearn: 3.1482170\ttotal: 866ms\tremaining: 2.37s\n",
      "27:\tlearn: 3.1466125\ttotal: 881ms\tremaining: 2.3s\n",
      "28:\tlearn: 3.1448498\ttotal: 967ms\tremaining: 2.4s\n",
      "29:\tlearn: 3.1431022\ttotal: 1.03s\tremaining: 2.45s\n",
      "30:\tlearn: 3.1416423\ttotal: 1.04s\tremaining: 2.36s\n",
      "31:\tlearn: 3.1399197\ttotal: 1.06s\tremaining: 2.29s\n",
      "32:\tlearn: 3.1382612\ttotal: 1.08s\tremaining: 2.22s\n",
      "33:\tlearn: 3.1382612\ttotal: 1.08s\tremaining: 2.13s\n",
      "34:\tlearn: 3.1367211\ttotal: 1.09s\tremaining: 2.06s\n",
      "35:\tlearn: 3.1349554\ttotal: 1.15s\tremaining: 2.07s\n",
      "36:\tlearn: 3.1332334\ttotal: 1.22s\tremaining: 2.1s\n",
      "37:\tlearn: 3.1314812\ttotal: 1.31s\tremaining: 2.17s\n",
      "38:\tlearn: 3.1300238\ttotal: 1.31s\tremaining: 2.09s\n",
      "39:\tlearn: 3.1283312\ttotal: 1.38s\tremaining: 2.1s\n",
      "40:\tlearn: 3.1266053\ttotal: 1.46s\tremaining: 2.13s\n",
      "41:\tlearn: 3.1248475\ttotal: 1.56s\tremaining: 2.19s\n",
      "42:\tlearn: 3.1231207\ttotal: 1.62s\tremaining: 2.18s\n",
      "43:\tlearn: 3.1215489\ttotal: 1.63s\tremaining: 2.11s\n",
      "44:\tlearn: 3.1198193\ttotal: 1.7s\tremaining: 2.11s\n",
      "45:\tlearn: 3.1180619\ttotal: 1.77s\tremaining: 2.11s\n",
      "46:\tlearn: 3.1164721\ttotal: 1.84s\tremaining: 2.12s\n",
      "47:\tlearn: 3.1147279\ttotal: 1.89s\tremaining: 2.09s\n",
      "48:\tlearn: 3.1130703\ttotal: 1.91s\tremaining: 2.02s\n",
      "49:\tlearn: 3.1113880\ttotal: 1.98s\tremaining: 2.02s\n",
      "50:\tlearn: 3.1096439\ttotal: 2.09s\tremaining: 2.05s\n",
      "51:\tlearn: 3.1079255\ttotal: 2.15s\tremaining: 2.03s\n",
      "52:\tlearn: 3.1064917\ttotal: 2.16s\tremaining: 1.96s\n",
      "53:\tlearn: 3.1047822\ttotal: 2.24s\tremaining: 1.95s\n",
      "54:\tlearn: 3.1030871\ttotal: 2.31s\tremaining: 1.93s\n",
      "55:\tlearn: 3.1013954\ttotal: 2.37s\tremaining: 1.91s\n",
      "56:\tlearn: 3.0996794\ttotal: 2.42s\tremaining: 1.87s\n",
      "57:\tlearn: 3.0979953\ttotal: 2.47s\tremaining: 1.83s\n",
      "58:\tlearn: 3.0962713\ttotal: 2.54s\tremaining: 1.81s\n",
      "59:\tlearn: 3.0945553\ttotal: 2.58s\tremaining: 1.76s\n",
      "60:\tlearn: 3.0928288\ttotal: 2.66s\tremaining: 1.75s\n",
      "61:\tlearn: 3.0911529\ttotal: 2.75s\tremaining: 1.73s\n",
      "62:\tlearn: 3.0894667\ttotal: 2.79s\tremaining: 1.69s\n",
      "63:\tlearn: 3.0878107\ttotal: 2.85s\tremaining: 1.65s\n",
      "64:\tlearn: 3.0861012\ttotal: 2.9s\tremaining: 1.6s\n",
      "65:\tlearn: 3.0844274\ttotal: 2.97s\tremaining: 1.58s\n",
      "66:\tlearn: 3.0828792\ttotal: 2.98s\tremaining: 1.51s\n",
      "67:\tlearn: 3.0817340\ttotal: 2.99s\tremaining: 1.45s\n",
      "68:\tlearn: 3.0800393\ttotal: 3.04s\tremaining: 1.41s\n",
      "69:\tlearn: 3.0783519\ttotal: 3.08s\tremaining: 1.36s\n",
      "70:\tlearn: 3.0772880\ttotal: 3.09s\tremaining: 1.3s\n",
      "71:\tlearn: 3.0757544\ttotal: 3.1s\tremaining: 1.25s\n",
      "72:\tlearn: 3.0747437\ttotal: 3.1s\tremaining: 1.19s\n",
      "73:\tlearn: 3.0731302\ttotal: 3.12s\tremaining: 1.14s\n",
      "74:\tlearn: 3.0716451\ttotal: 3.13s\tremaining: 1.09s\n",
      "75:\tlearn: 3.0699803\ttotal: 3.22s\tremaining: 1.06s\n",
      "76:\tlearn: 3.0683429\ttotal: 3.24s\tremaining: 1.01s\n",
      "77:\tlearn: 3.0668644\ttotal: 3.25s\tremaining: 958ms\n",
      "78:\tlearn: 3.0651849\ttotal: 3.32s\tremaining: 926ms\n",
      "79:\tlearn: 3.0635220\ttotal: 3.38s\tremaining: 887ms\n",
      "80:\tlearn: 3.0618780\ttotal: 3.44s\tremaining: 850ms\n",
      "81:\tlearn: 3.0602852\ttotal: 3.5s\tremaining: 811ms\n",
      "82:\tlearn: 3.0586090\ttotal: 3.57s\tremaining: 774ms\n",
      "83:\tlearn: 3.0570000\ttotal: 3.6s\tremaining: 728ms\n",
      "84:\tlearn: 3.0556502\ttotal: 3.6s\tremaining: 678ms\n",
      "85:\tlearn: 3.0544615\ttotal: 3.61s\tremaining: 629ms\n",
      "86:\tlearn: 3.0534928\ttotal: 3.61s\tremaining: 581ms\n",
      "87:\tlearn: 3.0518693\ttotal: 3.68s\tremaining: 543ms\n",
      "88:\tlearn: 3.0504245\ttotal: 3.69s\tremaining: 498ms\n",
      "89:\tlearn: 3.0488059\ttotal: 3.75s\tremaining: 458ms\n",
      "90:\tlearn: 3.0472783\ttotal: 3.76s\tremaining: 413ms\n",
      "91:\tlearn: 3.0458132\ttotal: 3.77s\tremaining: 368ms\n",
      "92:\tlearn: 3.0442652\ttotal: 3.84s\tremaining: 330ms\n",
      "93:\tlearn: 3.0426343\ttotal: 3.91s\tremaining: 291ms\n",
      "94:\tlearn: 3.0410449\ttotal: 3.99s\tremaining: 252ms\n",
      "95:\tlearn: 3.0396896\ttotal: 3.99s\tremaining: 208ms\n",
      "96:\tlearn: 3.0380952\ttotal: 4.07s\tremaining: 168ms\n",
      "97:\tlearn: 3.0365294\ttotal: 4.15s\tremaining: 127ms\n",
      "98:\tlearn: 3.0349120\ttotal: 4.22s\tremaining: 85.3ms\n",
      "99:\tlearn: 3.0332925\ttotal: 4.3s\tremaining: 43ms\n",
      "100:\tlearn: 3.0320207\ttotal: 4.3s\tremaining: 0us\n",
      "0:\tlearn: 3.1710039\ttotal: 5.56ms\tremaining: 556ms\n",
      "1:\tlearn: 3.1693861\ttotal: 79.5ms\tremaining: 3.94s\n",
      "2:\tlearn: 3.1675585\ttotal: 151ms\tremaining: 4.93s\n",
      "3:\tlearn: 3.1657340\ttotal: 233ms\tremaining: 5.64s\n",
      "4:\tlearn: 3.1638752\ttotal: 311ms\tremaining: 5.96s\n",
      "5:\tlearn: 3.1624845\ttotal: 317ms\tremaining: 5.01s\n",
      "6:\tlearn: 3.1607061\ttotal: 333ms\tremaining: 4.48s\n",
      "7:\tlearn: 3.1591791\ttotal: 339ms\tremaining: 3.94s\n",
      "8:\tlearn: 3.1573307\ttotal: 425ms\tremaining: 4.35s\n",
      "9:\tlearn: 3.1558104\ttotal: 433ms\tremaining: 3.94s\n",
      "10:\tlearn: 3.1540315\ttotal: 518ms\tremaining: 4.23s\n",
      "11:\tlearn: 3.1522267\ttotal: 591ms\tremaining: 4.38s\n",
      "12:\tlearn: 3.1506193\ttotal: 606ms\tremaining: 4.1s\n",
      "13:\tlearn: 3.1488578\ttotal: 626ms\tremaining: 3.89s\n",
      "14:\tlearn: 3.1474720\ttotal: 632ms\tremaining: 3.62s\n",
      "15:\tlearn: 3.1457456\ttotal: 645ms\tremaining: 3.43s\n",
      "16:\tlearn: 3.1440341\ttotal: 658ms\tremaining: 3.25s\n",
      "17:\tlearn: 3.1422650\ttotal: 747ms\tremaining: 3.44s\n",
      "18:\tlearn: 3.1404900\ttotal: 836ms\tremaining: 3.61s\n",
      "19:\tlearn: 3.1392781\ttotal: 840ms\tremaining: 3.4s\n",
      "20:\tlearn: 3.1377027\ttotal: 852ms\tremaining: 3.24s\n",
      "21:\tlearn: 3.1359315\ttotal: 927ms\tremaining: 3.33s\n",
      "22:\tlearn: 3.1347098\ttotal: 931ms\tremaining: 3.16s\n",
      "23:\tlearn: 3.1328971\ttotal: 1.02s\tremaining: 3.28s\n",
      "24:\tlearn: 3.1313454\ttotal: 1.03s\tremaining: 3.14s\n",
      "25:\tlearn: 3.1299609\ttotal: 1.04s\tremaining: 2.99s\n",
      "26:\tlearn: 3.1284661\ttotal: 1.04s\tremaining: 2.86s\n",
      "27:\tlearn: 3.1267727\ttotal: 1.09s\tremaining: 2.84s\n",
      "28:\tlearn: 3.1250551\ttotal: 1.11s\tremaining: 2.76s\n",
      "29:\tlearn: 3.1233364\ttotal: 1.17s\tremaining: 2.78s\n",
      "30:\tlearn: 3.1217618\ttotal: 1.18s\tremaining: 2.66s\n",
      "31:\tlearn: 3.1200145\ttotal: 1.25s\tremaining: 2.69s\n",
      "32:\tlearn: 3.1182279\ttotal: 1.34s\tremaining: 2.76s\n",
      "33:\tlearn: 3.1166683\ttotal: 1.35s\tremaining: 2.65s\n",
      "34:\tlearn: 3.1148915\ttotal: 1.42s\tremaining: 2.67s\n",
      "35:\tlearn: 3.1131610\ttotal: 1.48s\tremaining: 2.66s\n",
      "36:\tlearn: 3.1121047\ttotal: 1.48s\tremaining: 2.56s\n",
      "37:\tlearn: 3.1103241\ttotal: 1.59s\tremaining: 2.63s\n",
      "38:\tlearn: 3.1089283\ttotal: 1.59s\tremaining: 2.53s\n",
      "39:\tlearn: 3.1072508\ttotal: 1.65s\tremaining: 2.51s\n",
      "40:\tlearn: 3.1055164\ttotal: 1.74s\tremaining: 2.54s\n",
      "41:\tlearn: 3.1038055\ttotal: 1.83s\tremaining: 2.57s\n",
      "42:\tlearn: 3.1020944\ttotal: 1.9s\tremaining: 2.56s\n",
      "43:\tlearn: 3.1005119\ttotal: 1.9s\tremaining: 2.47s\n",
      "44:\tlearn: 3.0987521\ttotal: 2s\tremaining: 2.49s\n",
      "45:\tlearn: 3.0969819\ttotal: 2.1s\tremaining: 2.51s\n",
      "46:\tlearn: 3.0954109\ttotal: 2.2s\tremaining: 2.53s\n",
      "47:\tlearn: 3.0936647\ttotal: 2.25s\tremaining: 2.48s\n",
      "48:\tlearn: 3.0919858\ttotal: 2.26s\tremaining: 2.4s\n",
      "49:\tlearn: 3.0903159\ttotal: 2.36s\tremaining: 2.41s\n",
      "50:\tlearn: 3.0885727\ttotal: 2.44s\tremaining: 2.39s\n",
      "51:\tlearn: 3.0868614\ttotal: 2.54s\tremaining: 2.39s\n",
      "52:\tlearn: 3.0854178\ttotal: 2.54s\tremaining: 2.3s\n",
      "53:\tlearn: 3.0837219\ttotal: 2.62s\tremaining: 2.28s\n",
      "54:\tlearn: 3.0820002\ttotal: 2.66s\tremaining: 2.22s\n",
      "55:\tlearn: 3.0802864\ttotal: 2.73s\tremaining: 2.2s\n",
      "56:\tlearn: 3.0789183\ttotal: 2.74s\tremaining: 2.11s\n",
      "57:\tlearn: 3.0772620\ttotal: 2.81s\tremaining: 2.08s\n",
      "58:\tlearn: 3.0755659\ttotal: 2.87s\tremaining: 2.04s\n",
      "59:\tlearn: 3.0738569\ttotal: 2.91s\tremaining: 1.99s\n",
      "60:\tlearn: 3.0721302\ttotal: 2.99s\tremaining: 1.96s\n",
      "61:\tlearn: 3.0704214\ttotal: 3.05s\tremaining: 1.92s\n",
      "62:\tlearn: 3.0687339\ttotal: 3.12s\tremaining: 1.88s\n",
      "63:\tlearn: 3.0670179\ttotal: 3.2s\tremaining: 1.85s\n",
      "64:\tlearn: 3.0653268\ttotal: 3.25s\tremaining: 1.8s\n",
      "65:\tlearn: 3.0636924\ttotal: 3.27s\tremaining: 1.73s\n",
      "66:\tlearn: 3.0620281\ttotal: 3.35s\tremaining: 1.7s\n",
      "67:\tlearn: 3.0604788\ttotal: 3.36s\tremaining: 1.63s\n",
      "68:\tlearn: 3.0588778\ttotal: 3.37s\tremaining: 1.56s\n",
      "69:\tlearn: 3.0572077\ttotal: 3.46s\tremaining: 1.53s\n",
      "70:\tlearn: 3.0558080\ttotal: 3.47s\tremaining: 1.47s\n",
      "71:\tlearn: 3.0542864\ttotal: 3.48s\tremaining: 1.4s\n",
      "72:\tlearn: 3.0532674\ttotal: 3.48s\tremaining: 1.33s\n",
      "73:\tlearn: 3.0516524\ttotal: 3.5s\tremaining: 1.28s\n",
      "74:\tlearn: 3.0501256\ttotal: 3.51s\tremaining: 1.22s\n",
      "75:\tlearn: 3.0484528\ttotal: 3.57s\tremaining: 1.18s\n",
      "76:\tlearn: 3.0468747\ttotal: 3.59s\tremaining: 1.12s\n",
      "77:\tlearn: 3.0451833\ttotal: 3.66s\tremaining: 1.08s\n",
      "78:\tlearn: 3.0436064\ttotal: 3.67s\tremaining: 1.02s\n",
      "79:\tlearn: 3.0419166\ttotal: 3.75s\tremaining: 984ms\n",
      "80:\tlearn: 3.0402418\ttotal: 3.84s\tremaining: 948ms\n",
      "81:\tlearn: 3.0388016\ttotal: 3.85s\tremaining: 892ms\n",
      "82:\tlearn: 3.0371255\ttotal: 3.92s\tremaining: 849ms\n",
      "83:\tlearn: 3.0354886\ttotal: 3.99s\tremaining: 808ms\n",
      "84:\tlearn: 3.0341239\ttotal: 4s\tremaining: 753ms\n",
      "85:\tlearn: 3.0329367\ttotal: 4s\tremaining: 699ms\n",
      "86:\tlearn: 3.0319540\ttotal: 4.01s\tremaining: 645ms\n",
      "87:\tlearn: 3.0303543\ttotal: 4.04s\tremaining: 596ms\n",
      "88:\tlearn: 3.0288262\ttotal: 4.05s\tremaining: 546ms\n",
      "89:\tlearn: 3.0272832\ttotal: 4.06s\tremaining: 496ms\n",
      "90:\tlearn: 3.0256218\ttotal: 4.12s\tremaining: 452ms\n",
      "91:\tlearn: 3.0240410\ttotal: 4.13s\tremaining: 404ms\n",
      "92:\tlearn: 3.0224910\ttotal: 4.23s\tremaining: 364ms\n",
      "93:\tlearn: 3.0208923\ttotal: 4.31s\tremaining: 321ms\n",
      "94:\tlearn: 3.0192655\ttotal: 4.42s\tremaining: 279ms\n",
      "95:\tlearn: 3.0178982\ttotal: 4.42s\tremaining: 230ms\n",
      "96:\tlearn: 3.0163080\ttotal: 4.53s\tremaining: 187ms\n",
      "97:\tlearn: 3.0147382\ttotal: 4.6s\tremaining: 141ms\n",
      "98:\tlearn: 3.0131246\ttotal: 4.69s\tremaining: 94.8ms\n",
      "99:\tlearn: 3.0115166\ttotal: 4.8s\tremaining: 48ms\n",
      "100:\tlearn: 3.0102256\ttotal: 4.8s\tremaining: 0us\n",
      "CPU times: user 12min 32s, sys: 3.45 s, total: 12min 36s\n",
      "Wall time: 11min 12s\n"
     ]
    },
    {
     "data": {
      "text/html": [
       "<style>#sk-container-id-1 {color: black;background-color: white;}#sk-container-id-1 pre{padding: 0;}#sk-container-id-1 div.sk-toggleable {background-color: white;}#sk-container-id-1 label.sk-toggleable__label {cursor: pointer;display: block;width: 100%;margin-bottom: 0;padding: 0.3em;box-sizing: border-box;text-align: center;}#sk-container-id-1 label.sk-toggleable__label-arrow:before {content: \"▸\";float: left;margin-right: 0.25em;color: #696969;}#sk-container-id-1 label.sk-toggleable__label-arrow:hover:before {color: black;}#sk-container-id-1 div.sk-estimator:hover label.sk-toggleable__label-arrow:before {color: black;}#sk-container-id-1 div.sk-toggleable__content {max-height: 0;max-width: 0;overflow: hidden;text-align: left;background-color: #f0f8ff;}#sk-container-id-1 div.sk-toggleable__content pre {margin: 0.2em;color: black;border-radius: 0.25em;background-color: #f0f8ff;}#sk-container-id-1 input.sk-toggleable__control:checked~div.sk-toggleable__content {max-height: 200px;max-width: 100%;overflow: auto;}#sk-container-id-1 input.sk-toggleable__control:checked~label.sk-toggleable__label-arrow:before {content: \"▾\";}#sk-container-id-1 div.sk-estimator input.sk-toggleable__control:checked~label.sk-toggleable__label {background-color: #d4ebff;}#sk-container-id-1 div.sk-label input.sk-toggleable__control:checked~label.sk-toggleable__label {background-color: #d4ebff;}#sk-container-id-1 input.sk-hidden--visually {border: 0;clip: rect(1px 1px 1px 1px);clip: rect(1px, 1px, 1px, 1px);height: 1px;margin: -1px;overflow: hidden;padding: 0;position: absolute;width: 1px;}#sk-container-id-1 div.sk-estimator {font-family: monospace;background-color: #f0f8ff;border: 1px dotted black;border-radius: 0.25em;box-sizing: border-box;margin-bottom: 0.5em;}#sk-container-id-1 div.sk-estimator:hover {background-color: #d4ebff;}#sk-container-id-1 div.sk-parallel-item::after {content: \"\";width: 100%;border-bottom: 1px solid gray;flex-grow: 1;}#sk-container-id-1 div.sk-label:hover label.sk-toggleable__label {background-color: #d4ebff;}#sk-container-id-1 div.sk-serial::before {content: \"\";position: absolute;border-left: 1px solid gray;box-sizing: border-box;top: 0;bottom: 0;left: 50%;z-index: 0;}#sk-container-id-1 div.sk-serial {display: flex;flex-direction: column;align-items: center;background-color: white;padding-right: 0.2em;padding-left: 0.2em;position: relative;}#sk-container-id-1 div.sk-item {position: relative;z-index: 1;}#sk-container-id-1 div.sk-parallel {display: flex;align-items: stretch;justify-content: center;background-color: white;position: relative;}#sk-container-id-1 div.sk-item::before, #sk-container-id-1 div.sk-parallel-item::before {content: \"\";position: absolute;border-left: 1px solid gray;box-sizing: border-box;top: 0;bottom: 0;left: 50%;z-index: -1;}#sk-container-id-1 div.sk-parallel-item {display: flex;flex-direction: column;z-index: 1;position: relative;background-color: white;}#sk-container-id-1 div.sk-parallel-item:first-child::after {align-self: flex-end;width: 50%;}#sk-container-id-1 div.sk-parallel-item:last-child::after {align-self: flex-start;width: 50%;}#sk-container-id-1 div.sk-parallel-item:only-child::after {width: 0;}#sk-container-id-1 div.sk-dashed-wrapped {border: 1px dashed gray;margin: 0 0.4em 0.5em 0.4em;box-sizing: border-box;padding-bottom: 0.4em;background-color: white;}#sk-container-id-1 div.sk-label label {font-family: monospace;font-weight: bold;display: inline-block;line-height: 1.2em;}#sk-container-id-1 div.sk-label-container {text-align: center;}#sk-container-id-1 div.sk-container {/* jupyter's `normalize.less` sets `[hidden] { display: none; }` but bootstrap.min.css set `[hidden] { display: none !important; }` so we also need the `!important` here to be able to override the default hidden behavior on the sphinx rendered scikit-learn.org. See: https://github.com/scikit-learn/scikit-learn/issues/21755 */display: inline-block !important;position: relative;}#sk-container-id-1 div.sk-text-repr-fallback {display: none;}</style><div id=\"sk-container-id-1\" class=\"sk-top-container\"><div class=\"sk-text-repr-fallback\"><pre>StackingRegressor(estimators=[(&#x27;XGBoost&#x27;,\n",
       "                               XGBRegressor(base_score=None, booster=None,\n",
       "                                            callbacks=None,\n",
       "                                            colsample_bylevel=None,\n",
       "                                            colsample_bynode=None,\n",
       "                                            colsample_bytree=None, device=None,\n",
       "                                            early_stopping_rounds=None,\n",
       "                                            enable_categorical=False,\n",
       "                                            eval_metric=None,\n",
       "                                            feature_types=None, gamma=None,\n",
       "                                            grow_policy=None,\n",
       "                                            importance_type=None,\n",
       "                                            interaction_constraints=None,\n",
       "                                            learnin...\n",
       "                               LGBMRegressor(boosting_type=&#x27;dart&#x27;,\n",
       "                                             learning_rate=0.0010257989336468524,\n",
       "                                             max_depth=100,\n",
       "                                             min_child_samples=22,\n",
       "                                             n_estimators=676, num_leaves=37,\n",
       "                                             random_state=27)),\n",
       "                              (&#x27;Catboost&#x27;,\n",
       "                               &lt;catboost.core.CatBoostRegressor object at 0x7bbe1be00fd0&gt;)],\n",
       "                  final_estimator=RandomForestRegressor(max_depth=8,\n",
       "                                                        min_samples_leaf=60,\n",
       "                                                        min_samples_split=13,\n",
       "                                                        n_estimators=544,\n",
       "                                                        random_state=27))</pre><b>In a Jupyter environment, please rerun this cell to show the HTML representation or trust the notebook. <br />On GitHub, the HTML representation is unable to render, please try loading this page with nbviewer.org.</b></div><div class=\"sk-container\" hidden><div class=\"sk-item sk-dashed-wrapped\"><div class=\"sk-label-container\"><div class=\"sk-label sk-toggleable\"><input class=\"sk-toggleable__control sk-hidden--visually\" id=\"sk-estimator-id-1\" type=\"checkbox\" ><label for=\"sk-estimator-id-1\" class=\"sk-toggleable__label sk-toggleable__label-arrow\">StackingRegressor</label><div class=\"sk-toggleable__content\"><pre>StackingRegressor(estimators=[(&#x27;XGBoost&#x27;,\n",
       "                               XGBRegressor(base_score=None, booster=None,\n",
       "                                            callbacks=None,\n",
       "                                            colsample_bylevel=None,\n",
       "                                            colsample_bynode=None,\n",
       "                                            colsample_bytree=None, device=None,\n",
       "                                            early_stopping_rounds=None,\n",
       "                                            enable_categorical=False,\n",
       "                                            eval_metric=None,\n",
       "                                            feature_types=None, gamma=None,\n",
       "                                            grow_policy=None,\n",
       "                                            importance_type=None,\n",
       "                                            interaction_constraints=None,\n",
       "                                            learnin...\n",
       "                               LGBMRegressor(boosting_type=&#x27;dart&#x27;,\n",
       "                                             learning_rate=0.0010257989336468524,\n",
       "                                             max_depth=100,\n",
       "                                             min_child_samples=22,\n",
       "                                             n_estimators=676, num_leaves=37,\n",
       "                                             random_state=27)),\n",
       "                              (&#x27;Catboost&#x27;,\n",
       "                               &lt;catboost.core.CatBoostRegressor object at 0x7bbe1be00fd0&gt;)],\n",
       "                  final_estimator=RandomForestRegressor(max_depth=8,\n",
       "                                                        min_samples_leaf=60,\n",
       "                                                        min_samples_split=13,\n",
       "                                                        n_estimators=544,\n",
       "                                                        random_state=27))</pre></div></div></div><div class=\"sk-serial\"><div class=\"sk-item\"><div class=\"sk-parallel\"><div class=\"sk-parallel-item\"><div class=\"sk-item\"><div class=\"sk-label-container\"><div class=\"sk-label sk-toggleable\"><label>XGBoost</label></div></div><div class=\"sk-serial\"><div class=\"sk-item\"><div class=\"sk-estimator sk-toggleable\"><input class=\"sk-toggleable__control sk-hidden--visually\" id=\"sk-estimator-id-2\" type=\"checkbox\" ><label for=\"sk-estimator-id-2\" class=\"sk-toggleable__label sk-toggleable__label-arrow\">XGBRegressor</label><div class=\"sk-toggleable__content\"><pre>XGBRegressor(base_score=None, booster=None, callbacks=None,\n",
       "             colsample_bylevel=None, colsample_bynode=None,\n",
       "             colsample_bytree=None, device=None, early_stopping_rounds=None,\n",
       "             enable_categorical=False, eval_metric=None, feature_types=None,\n",
       "             gamma=None, grow_policy=None, importance_type=None,\n",
       "             interaction_constraints=None, learning_rate=0.01, max_bin=None,\n",
       "             max_cat_threshold=None, max_cat_to_onehot=None,\n",
       "             max_delta_step=None, max_depth=6, max_leaves=None,\n",
       "             min_child_weight=None, missing=nan, monotone_constraints=None,\n",
       "             multi_strategy=None, n_estimators=395, n_jobs=None,\n",
       "             num_parallel_tree=None, random_state=27, ...)</pre></div></div></div></div></div></div><div class=\"sk-parallel-item\"><div class=\"sk-item\"><div class=\"sk-label-container\"><div class=\"sk-label sk-toggleable\"><label>LightGBM</label></div></div><div class=\"sk-serial\"><div class=\"sk-item\"><div class=\"sk-estimator sk-toggleable\"><input class=\"sk-toggleable__control sk-hidden--visually\" id=\"sk-estimator-id-3\" type=\"checkbox\" ><label for=\"sk-estimator-id-3\" class=\"sk-toggleable__label sk-toggleable__label-arrow\">LGBMRegressor</label><div class=\"sk-toggleable__content\"><pre>LGBMRegressor(boosting_type=&#x27;dart&#x27;, learning_rate=0.0010257989336468524,\n",
       "              max_depth=100, min_child_samples=22, n_estimators=676,\n",
       "              num_leaves=37, random_state=27)</pre></div></div></div></div></div></div><div class=\"sk-parallel-item\"><div class=\"sk-item\"><div class=\"sk-label-container\"><div class=\"sk-label sk-toggleable\"><label>Catboost</label></div></div><div class=\"sk-serial\"><div class=\"sk-item\"><div class=\"sk-estimator sk-toggleable\"><input class=\"sk-toggleable__control sk-hidden--visually\" id=\"sk-estimator-id-4\" type=\"checkbox\" ><label for=\"sk-estimator-id-4\" class=\"sk-toggleable__label sk-toggleable__label-arrow\">CatBoostRegressor</label><div class=\"sk-toggleable__content\"><pre>&lt;catboost.core.CatBoostRegressor object at 0x7bbe1be00fd0&gt;</pre></div></div></div></div></div></div></div></div><div class=\"sk-item\"><div class=\"sk-parallel\"><div class=\"sk-parallel-item\"><div class=\"sk-item\"><div class=\"sk-label-container\"><div class=\"sk-label sk-toggleable\"><label>final_estimator</label></div></div><div class=\"sk-serial\"><div class=\"sk-item\"><div class=\"sk-estimator sk-toggleable\"><input class=\"sk-toggleable__control sk-hidden--visually\" id=\"sk-estimator-id-5\" type=\"checkbox\" ><label for=\"sk-estimator-id-5\" class=\"sk-toggleable__label sk-toggleable__label-arrow\">RandomForestRegressor</label><div class=\"sk-toggleable__content\"><pre>RandomForestRegressor(max_depth=8, min_samples_leaf=60, min_samples_split=13,\n",
       "                      n_estimators=544, random_state=27)</pre></div></div></div></div></div></div></div></div></div></div></div></div>"
      ],
      "text/plain": [
       "StackingRegressor(estimators=[('XGBoost',\n",
       "                               XGBRegressor(base_score=None, booster=None,\n",
       "                                            callbacks=None,\n",
       "                                            colsample_bylevel=None,\n",
       "                                            colsample_bynode=None,\n",
       "                                            colsample_bytree=None, device=None,\n",
       "                                            early_stopping_rounds=None,\n",
       "                                            enable_categorical=False,\n",
       "                                            eval_metric=None,\n",
       "                                            feature_types=None, gamma=None,\n",
       "                                            grow_policy=None,\n",
       "                                            importance_type=None,\n",
       "                                            interaction_constraints=None,\n",
       "                                            learnin...\n",
       "                               LGBMRegressor(boosting_type='dart',\n",
       "                                             learning_rate=0.0010257989336468524,\n",
       "                                             max_depth=100,\n",
       "                                             min_child_samples=22,\n",
       "                                             n_estimators=676, num_leaves=37,\n",
       "                                             random_state=27)),\n",
       "                              ('Catboost',\n",
       "                               <catboost.core.CatBoostRegressor object at 0x7bbe1be00fd0>)],\n",
       "                  final_estimator=RandomForestRegressor(max_depth=8,\n",
       "                                                        min_samples_leaf=60,\n",
       "                                                        min_samples_split=13,\n",
       "                                                        n_estimators=544,\n",
       "                                                        random_state=27))"
      ]
     },
     "execution_count": 35,
     "metadata": {},
     "output_type": "execute_result"
    }
   ],
   "source": [
    "%%time\n",
    "stacking_model = StackingRegressor(estimators=base_models, final_estimator=meta_model)\n",
    "stacking_model.fit(X, y)"
   ]
  },
  {
   "cell_type": "markdown",
   "id": "712ccc9e",
   "metadata": {
    "papermill": {
     "duration": 0.029534,
     "end_time": "2024-04-03T19:41:44.134461",
     "exception": false,
     "start_time": "2024-04-03T19:41:44.104927",
     "status": "completed"
    },
    "tags": []
   },
   "source": [
    "<a id='15'></a>\n",
    "# <span style=\"color: #3EB489; border-bottom: 6px solid  #20603D; background-color: #fadb8c;\">🐟 Predict the validation set and calculate Root Mean Squared Logarithmic Error (RMSLE) score</span>"
   ]
  },
  {
   "cell_type": "code",
   "execution_count": 36,
   "id": "a1f4191b",
   "metadata": {
    "execution": {
     "iopub.execute_input": "2024-04-03T19:41:44.193744Z",
     "iopub.status.busy": "2024-04-03T19:41:44.193176Z",
     "iopub.status.idle": "2024-04-03T19:41:45.480812Z",
     "shell.execute_reply": "2024-04-03T19:41:45.480108Z"
    },
    "papermill": {
     "duration": 1.319752,
     "end_time": "2024-04-03T19:41:45.482992",
     "exception": false,
     "start_time": "2024-04-03T19:41:44.163240",
     "status": "completed"
    },
    "tags": []
   },
   "outputs": [
    {
     "name": "stdout",
     "output_type": "stream",
     "text": [
      "Validation Root mean squared logarithmic error regression loss: 0.15194218\n"
     ]
    }
   ],
   "source": [
    "y_pred_val = stacking_model.predict(X_val)\n",
    "\n",
    "rmsle_val = np.sqrt(mean_squared_log_error(y_val, y_pred_val))\n",
    "print(f\"Validation Root mean squared logarithmic error regression loss: {rmsle_val:.8f}\")"
   ]
  },
  {
   "cell_type": "markdown",
   "id": "2ad37244",
   "metadata": {
    "papermill": {
     "duration": 0.02795,
     "end_time": "2024-04-03T19:41:45.539526",
     "exception": false,
     "start_time": "2024-04-03T19:41:45.511576",
     "status": "completed"
    },
    "tags": []
   },
   "source": [
    "<a id='16'></a>\n",
    "# <span style=\"color: #3EB489; border-bottom: 6px solid  #20603D; background-color: #fadb8c;\">🐠 Predict on the test data</span>"
   ]
  },
  {
   "cell_type": "code",
   "execution_count": 37,
   "id": "baf8bad1",
   "metadata": {
    "execution": {
     "iopub.execute_input": "2024-04-03T19:41:45.599222Z",
     "iopub.status.busy": "2024-04-03T19:41:45.598693Z",
     "iopub.status.idle": "2024-04-03T19:41:49.590647Z",
     "shell.execute_reply": "2024-04-03T19:41:49.589801Z"
    },
    "papermill": {
     "duration": 4.024726,
     "end_time": "2024-04-03T19:41:49.592578",
     "exception": false,
     "start_time": "2024-04-03T19:41:45.567852",
     "status": "completed"
    },
    "tags": []
   },
   "outputs": [
    {
     "data": {
      "text/plain": [
       "array([ 9.44734948,  9.7907093 , 10.28024127, 10.29785777,  7.64852905,\n",
       "        9.32940145, 11.07774004,  6.26910419,  8.03293067, 11.75742834])"
      ]
     },
     "execution_count": 37,
     "metadata": {},
     "output_type": "execute_result"
    }
   ],
   "source": [
    "y_pred_test = stacking_model.predict(test)\n",
    "y_pred_test[:10]"
   ]
  },
  {
   "cell_type": "markdown",
   "id": "a9e64f12",
   "metadata": {
    "papermill": {
     "duration": 0.028511,
     "end_time": "2024-04-03T19:41:49.650373",
     "exception": false,
     "start_time": "2024-04-03T19:41:49.621862",
     "status": "completed"
    },
    "tags": []
   },
   "source": [
    "![](https://en.australia51.com/Attach/Download/EA3D1916-8F57-1147-653F-329276FBB95A/0656DE71-5A1F-235F-E504-F21533E82969.jpg)"
   ]
  },
  {
   "cell_type": "markdown",
   "id": "4795c725",
   "metadata": {
    "papermill": {
     "duration": 0.028299,
     "end_time": "2024-04-03T19:41:49.708825",
     "exception": false,
     "start_time": "2024-04-03T19:41:49.680526",
     "status": "completed"
    },
    "tags": []
   },
   "source": [
    "<a id='17'></a>\n",
    "# <span style=\"color: #3EB489; border-bottom: 6px solid  #20603D; background-color: #fadb8c;\">🐡 Build DataFrame and make first submission</span>"
   ]
  },
  {
   "cell_type": "code",
   "execution_count": 38,
   "id": "3216e7fb",
   "metadata": {
    "execution": {
     "iopub.execute_input": "2024-04-03T19:41:49.767176Z",
     "iopub.status.busy": "2024-04-03T19:41:49.766777Z",
     "iopub.status.idle": "2024-04-03T19:41:49.864635Z",
     "shell.execute_reply": "2024-04-03T19:41:49.863774Z"
    },
    "papermill": {
     "duration": 0.129064,
     "end_time": "2024-04-03T19:41:49.866513",
     "exception": false,
     "start_time": "2024-04-03T19:41:49.737449",
     "status": "completed"
    },
    "tags": []
   },
   "outputs": [
    {
     "data": {
      "text/html": [
       "<div>\n",
       "<style scoped>\n",
       "    .dataframe tbody tr th:only-of-type {\n",
       "        vertical-align: middle;\n",
       "    }\n",
       "\n",
       "    .dataframe tbody tr th {\n",
       "        vertical-align: top;\n",
       "    }\n",
       "\n",
       "    .dataframe thead th {\n",
       "        text-align: right;\n",
       "    }\n",
       "</style>\n",
       "<table border=\"1\" class=\"dataframe\">\n",
       "  <thead>\n",
       "    <tr style=\"text-align: right;\">\n",
       "      <th></th>\n",
       "      <th>id</th>\n",
       "      <th>Rings</th>\n",
       "    </tr>\n",
       "  </thead>\n",
       "  <tbody>\n",
       "    <tr>\n",
       "      <th>0</th>\n",
       "      <td>90615</td>\n",
       "      <td>9.447349</td>\n",
       "    </tr>\n",
       "    <tr>\n",
       "      <th>1</th>\n",
       "      <td>90616</td>\n",
       "      <td>9.790709</td>\n",
       "    </tr>\n",
       "    <tr>\n",
       "      <th>2</th>\n",
       "      <td>90617</td>\n",
       "      <td>10.280241</td>\n",
       "    </tr>\n",
       "    <tr>\n",
       "      <th>3</th>\n",
       "      <td>90618</td>\n",
       "      <td>10.297858</td>\n",
       "    </tr>\n",
       "    <tr>\n",
       "      <th>4</th>\n",
       "      <td>90619</td>\n",
       "      <td>7.648529</td>\n",
       "    </tr>\n",
       "    <tr>\n",
       "      <th>5</th>\n",
       "      <td>90620</td>\n",
       "      <td>9.329401</td>\n",
       "    </tr>\n",
       "    <tr>\n",
       "      <th>6</th>\n",
       "      <td>90621</td>\n",
       "      <td>11.077740</td>\n",
       "    </tr>\n",
       "    <tr>\n",
       "      <th>7</th>\n",
       "      <td>90622</td>\n",
       "      <td>6.269104</td>\n",
       "    </tr>\n",
       "    <tr>\n",
       "      <th>8</th>\n",
       "      <td>90623</td>\n",
       "      <td>8.032931</td>\n",
       "    </tr>\n",
       "    <tr>\n",
       "      <th>9</th>\n",
       "      <td>90624</td>\n",
       "      <td>11.757428</td>\n",
       "    </tr>\n",
       "  </tbody>\n",
       "</table>\n",
       "</div>"
      ],
      "text/plain": [
       "      id      Rings\n",
       "0  90615   9.447349\n",
       "1  90616   9.790709\n",
       "2  90617  10.280241\n",
       "3  90618  10.297858\n",
       "4  90619   7.648529\n",
       "5  90620   9.329401\n",
       "6  90621  11.077740\n",
       "7  90622   6.269104\n",
       "8  90623   8.032931\n",
       "9  90624  11.757428"
      ]
     },
     "execution_count": 38,
     "metadata": {},
     "output_type": "execute_result"
    }
   ],
   "source": [
    "submission = pd.DataFrame({\n",
    "    'id': sample_submission.id,\n",
    "    'Rings': y_pred_test\n",
    "})\n",
    "\n",
    "submission.to_csv('Kapturov_S4E4_submission.csv', index=False)\n",
    "submission.head(10)"
   ]
  },
  {
   "cell_type": "markdown",
   "id": "90c27de2",
   "metadata": {
    "papermill": {
     "duration": 0.02786,
     "end_time": "2024-04-03T19:41:49.923564",
     "exception": false,
     "start_time": "2024-04-03T19:41:49.895704",
     "status": "completed"
    },
    "tags": []
   },
   "source": [
    "<a id='18'></a>\n",
    "# <span style=\"color: #3EB489; border-bottom: 6px solid  #20603D; background-color: #fadb8c;\">🍥 Save the model into pickle file</span>"
   ]
  },
  {
   "cell_type": "code",
   "execution_count": 39,
   "id": "8b80d4c7",
   "metadata": {
    "execution": {
     "iopub.execute_input": "2024-04-03T19:41:49.980997Z",
     "iopub.status.busy": "2024-04-03T19:41:49.980626Z",
     "iopub.status.idle": "2024-04-03T19:41:50.111841Z",
     "shell.execute_reply": "2024-04-03T19:41:50.110609Z"
    },
    "papermill": {
     "duration": 0.162707,
     "end_time": "2024-04-03T19:41:50.114334",
     "exception": false,
     "start_time": "2024-04-03T19:41:49.951627",
     "status": "completed"
    },
    "tags": []
   },
   "outputs": [],
   "source": [
    "pickle.dump(stacking_model, open(\"Kapturov_stacking_model.pkl\", \"wb\"))"
   ]
  },
  {
   "cell_type": "markdown",
   "id": "66262ec6",
   "metadata": {
    "papermill": {
     "duration": 0.027727,
     "end_time": "2024-04-03T19:41:50.171728",
     "exception": false,
     "start_time": "2024-04-03T19:41:50.144001",
     "status": "completed"
    },
    "tags": []
   },
   "source": [
    "![](https://upload.wikimedia.org/wikipedia/commons/thumb/b/bc/Abalone_at_California_Academy_of_Sciences.JPG/1200px-Abalone_at_California_Academy_of_Sciences.JPG)"
   ]
  },
  {
   "cell_type": "markdown",
   "id": "7adeeff8",
   "metadata": {
    "papermill": {
     "duration": 0.027725,
     "end_time": "2024-04-03T19:41:50.227963",
     "exception": false,
     "start_time": "2024-04-03T19:41:50.200238",
     "status": "completed"
    },
    "tags": []
   },
   "source": [
    "# <span style=\"color: #3EB489; border-bottom: 6px solid  #20603D; background-color: #fadb8c;\">😀 Hope You are feeling great!"
   ]
  }
 ],
 "metadata": {
  "kaggle": {
   "accelerator": "none",
   "dataSources": [
    {
     "databundleVersionId": 8096274,
     "sourceId": 72489,
     "sourceType": "competition"
    },
    {
     "datasetId": 4705962,
     "sourceId": 8013090,
     "sourceType": "datasetVersion"
    }
   ],
   "dockerImageVersionId": 30673,
   "isGpuEnabled": false,
   "isInternetEnabled": true,
   "language": "python",
   "sourceType": "notebook"
  },
  "kernelspec": {
   "display_name": "Python 3",
   "language": "python",
   "name": "python3"
  },
  "language_info": {
   "codemirror_mode": {
    "name": "ipython",
    "version": 3
   },
   "file_extension": ".py",
   "mimetype": "text/x-python",
   "name": "python",
   "nbconvert_exporter": "python",
   "pygments_lexer": "ipython3",
   "version": "3.10.13"
  },
  "papermill": {
   "default_parameters": {},
   "duration": 739.111507,
   "end_time": "2024-04-03T19:41:50.978636",
   "environment_variables": {},
   "exception": null,
   "input_path": "__notebook__.ipynb",
   "output_path": "__notebook__.ipynb",
   "parameters": {},
   "start_time": "2024-04-03T19:29:31.867129",
   "version": "2.5.0"
  }
 },
 "nbformat": 4,
 "nbformat_minor": 5
}
