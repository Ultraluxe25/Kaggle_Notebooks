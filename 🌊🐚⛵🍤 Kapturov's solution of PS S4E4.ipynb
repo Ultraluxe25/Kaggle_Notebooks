{
 "cells": [
  {
   "cell_type": "markdown",
   "id": "8c1939ec",
   "metadata": {
    "papermill": {
     "duration": 0.026592,
     "end_time": "2024-04-03T15:08:21.453172",
     "exception": false,
     "start_time": "2024-04-03T15:08:21.426580",
     "status": "completed"
    },
    "tags": []
   },
   "source": [
    "![](https://cdn.shopify.com/s/files/1/0528/8266/9745/files/aa9ba33a428bcfb93a45b4a44e5019d3.jpg?v=1676085807)"
   ]
  },
  {
   "cell_type": "code",
   "execution_count": 1,
   "id": "926f68b5",
   "metadata": {
    "_cell_guid": "b1076dfc-b9ad-4769-8c92-a6c4dae69d19",
    "_kg_hide-input": true,
    "_kg_hide-output": true,
    "_uuid": "8f2839f25d086af736a60e9eeb907d3b93b6e0e5",
    "execution": {
     "iopub.execute_input": "2024-04-03T15:08:21.504111Z",
     "iopub.status.busy": "2024-04-03T15:08:21.503353Z",
     "iopub.status.idle": "2024-04-03T15:08:22.542649Z",
     "shell.execute_reply": "2024-04-03T15:08:22.541339Z"
    },
    "papermill": {
     "duration": 1.068737,
     "end_time": "2024-04-03T15:08:22.545770",
     "exception": false,
     "start_time": "2024-04-03T15:08:21.477033",
     "status": "completed"
    },
    "tags": []
   },
   "outputs": [
    {
     "name": "stdout",
     "output_type": "stream",
     "text": [
      "/kaggle/input/ps-4-e-2-abalone-dataset-from-uci/abalone.names\n",
      "/kaggle/input/ps-4-e-2-abalone-dataset-from-uci/Index\n",
      "/kaggle/input/ps-4-e-2-abalone-dataset-from-uci/abalone.data\n",
      "/kaggle/input/ps-4-e-2-abalone-dataset-from-uci/PS4 E4 original abalone dataset from UCI.csv\n",
      "/kaggle/input/playground-series-s4e4/sample_submission.csv\n",
      "/kaggle/input/playground-series-s4e4/train.csv\n",
      "/kaggle/input/playground-series-s4e4/test.csv\n"
     ]
    }
   ],
   "source": [
    "# This Python 3 environment comes with many helpful analytics libraries installed\n",
    "# It is defined by the kaggle/python Docker image: https://github.com/kaggle/docker-python\n",
    "# For example, here's several helpful packages to load\n",
    "\n",
    "import numpy as np # linear algebra\n",
    "import pandas as pd # data processing, CSV file I/O (e.g. pd.read_csv)\n",
    "\n",
    "# Input data files are available in the read-only \"../input/\" directory\n",
    "# For example, running this (by clicking run or pressing Shift+Enter) will list all files under the input directory\n",
    "\n",
    "import os\n",
    "for dirname, _, filenames in os.walk('/kaggle/input'):\n",
    "    for filename in filenames:\n",
    "        print(os.path.join(dirname, filename))\n",
    "\n",
    "# You can write up to 20GB to the current directory (/kaggle/working/) that gets preserved as output when you create a version using \"Save & Run All\" \n",
    "# You can also write temporary files to /kaggle/temp/, but they won't be saved outside of the current session"
   ]
  },
  {
   "cell_type": "markdown",
   "id": "d4fa7539",
   "metadata": {
    "papermill": {
     "duration": 0.023359,
     "end_time": "2024-04-03T15:08:22.592775",
     "exception": false,
     "start_time": "2024-04-03T15:08:22.569416",
     "status": "completed"
    },
    "tags": []
   },
   "source": [
    "## **Your Goal**: Predict the age of abalone from various physical measurements."
   ]
  },
  {
   "cell_type": "markdown",
   "id": "65836a11",
   "metadata": {
    "papermill": {
     "duration": 0.024994,
     "end_time": "2024-04-03T15:08:22.643669",
     "exception": false,
     "start_time": "2024-04-03T15:08:22.618675",
     "status": "completed"
    },
    "tags": []
   },
   "source": [
    "- <font face=\"Bahnschrift Condensed\" style=\"font-size: 14pt; color: #3EB489\">\n",
    "Predicting the age of abalone from physical measurements. The age of\n",
    "abalone is determined by cutting the shell through the cone, staining it,\n",
    "and counting the number of rings through a microscope -- a boring and\n",
    "time-consuming task.  Other measurements, which are easier to obtain, are\n",
    "used to predict the age.  Further information, such as weather patterns\n",
    "and location (hence food availability) may be required to solve the problem.\n",
    "</font>\n",
    "  \n",
    "  \n",
    "- <font face=\"Bahnschrift Condensed\" style=\"font-size: 14pt; color: #3EB489\">\n",
    "From the original data examples with missing values were removed (the\n",
    "majority having the predicted value missing), and the ranges of the\n",
    "continuous values have been scaled for use with an ANN (by dividing by 200).\n",
    "</font>"
   ]
  },
  {
   "cell_type": "markdown",
   "id": "51bf9759",
   "metadata": {
    "papermill": {
     "duration": 0.025237,
     "end_time": "2024-04-03T15:08:22.692949",
     "exception": false,
     "start_time": "2024-04-03T15:08:22.667712",
     "status": "completed"
    },
    "tags": []
   },
   "source": [
    "![](https://www.kaggle.com/competitions/72489/images/header)"
   ]
  },
  {
   "cell_type": "markdown",
   "id": "bc309044",
   "metadata": {
    "papermill": {
     "duration": 0.023407,
     "end_time": "2024-04-03T15:08:22.741712",
     "exception": false,
     "start_time": "2024-04-03T15:08:22.718305",
     "status": "completed"
    },
    "tags": []
   },
   "source": [
    "## <font face=\"Bahnschrift Condensed\" style=\"font-size: 14pt; color: #3EB489\">Abalone Dataset Description</font>\n",
    "\n",
    "**<span style=\"color: orange;\">Sex:** Represents the gender of the abalone, categorized as male (M), female (F), or infant (I).\n",
    "  \n",
    "**<span style=\"color: orange;\">Length:** Denotes the longest measurement of the abalone shell, from the apex to the base, measured in millimeters.\n",
    "  \n",
    "**<span style=\"color: orange;\">Diameter:** Represents the measurement of the abalone shell perpendicular to its length, also measured in millimeters.\n",
    "  \n",
    "**<span style=\"color: orange;\">Height:** Signifies the height of the abalone shell, measured perpendicular to the plane formed by the length and diameter, in millimeters.\n",
    "  \n",
    "**<span style=\"color: orange;\">Whole Weight:** Indicates the total weight of the abalone, encompassing both the meat and the shell, measured in grams.\n",
    "  \n",
    "**<span style=\"color: orange;\">Shucked Weight:** Represents the weight of the abalone meat only, measured in grams. It indicates the amount of meat extracted from the shell.\n",
    "  \n",
    "**<span style=\"color: orange;\">Viscera Weight:** Signifies the weight of the abalone gut after bleeding, measured in grams. It provides insights into the weight of the internal organs of the abalone.\n",
    "  \n",
    "**<span style=\"color: orange;\">Shell Weight:** Represents the weight of the abalone shell only, excluding the meat, measured in grams. It provides insights into the weight distribution between the shell and the edible portion of the abalone.\n",
    "  \n",
    "**<span style=\"color: orange;\">Rings:** Signifies the number of rings present on the abalone shell, serving as an indicator of the abalone's age."
   ]
  },
  {
   "cell_type": "markdown",
   "id": "821dfbaf",
   "metadata": {
    "papermill": {
     "duration": 0.024893,
     "end_time": "2024-04-03T15:08:22.790184",
     "exception": false,
     "start_time": "2024-04-03T15:08:22.765291",
     "status": "completed"
    },
    "tags": []
   },
   "source": [
    "# <span style=\"background-image: url(https://www.kaggle.com/competitions/72489/images/header); color: white; font-size: 50px;\">Table of Contents</span>\n",
    "\n",
    "- [Import libraries](#1)\n",
    "- [Open data files](#2)\n",
    "- [Show first 5 lines of train data](#3)\n",
    "- [Compare original train and competition train](#3.1)\n",
    "- [Concatenate original train with competition train](#3.2)\n",
    "- [Figure out how much duplicates in data](#3.3)\n",
    "- [Remove duplicates from data](#3.4)\n",
    "- [Shapes of train and test data](#4)\n",
    "- [Display descriptive statistics of train data](#5)\n",
    "- [Check the number of gaps for each feature](#6)\n",
    "- [One-hot encoding](#7.3)\n",
    "- [More plots](#7.4)\n",
    "- [Display histograms of distribution](#8)\n",
    "- [Let's count target of train data](#9)\n",
    "- [Transform the data with log1p](#10)\n",
    "- [Feature importance](#10.2)\n",
    "- [Build a heat map of correlations](#11)\n",
    "- [Define base models with tuned hyperparameters](#12)\n",
    "- [Defining the meta-model with tuned hyperparameters](#13)\n",
    "- [Creating and fitting the stacking model](#14)\n",
    "- [Predict validation set and calculate metrics score](#15)\n",
    "- [Predict the test data](#16)\n",
    "- [Build DataFrame and make submission](#17)\n",
    "- [Save the model into pickle file](#18)"
   ]
  },
  {
   "cell_type": "markdown",
   "id": "d3ee18e8",
   "metadata": {
    "papermill": {
     "duration": 0.024652,
     "end_time": "2024-04-03T15:08:22.839962",
     "exception": false,
     "start_time": "2024-04-03T15:08:22.815310",
     "status": "completed"
    },
    "tags": []
   },
   "source": [
    "<a id='1'></a>\n",
    "# <span style=\"color: #3EB489; border-bottom: 6px solid  #20603D; background-color: #fadb8c;\">🌊 Import libraries</span>"
   ]
  },
  {
   "cell_type": "code",
   "execution_count": 2,
   "id": "e4758b4b",
   "metadata": {
    "execution": {
     "iopub.execute_input": "2024-04-03T15:08:22.890515Z",
     "iopub.status.busy": "2024-04-03T15:08:22.889969Z",
     "iopub.status.idle": "2024-04-03T15:08:27.611031Z",
     "shell.execute_reply": "2024-04-03T15:08:27.609631Z"
    },
    "papermill": {
     "duration": 4.750045,
     "end_time": "2024-04-03T15:08:27.614773",
     "exception": false,
     "start_time": "2024-04-03T15:08:22.864728",
     "status": "completed"
    },
    "tags": []
   },
   "outputs": [],
   "source": [
    "import numpy as np\n",
    "import pandas as pd\n",
    "import matplotlib.pyplot as plt\n",
    "import seaborn as sns\n",
    "import optuna\n",
    "from optuna.samplers import TPESampler\n",
    "import pickle\n",
    "from IPython.core.display import HTML\n",
    "from sklearn.model_selection import train_test_split, cross_val_score, cross_val_predict\n",
    "from sklearn.ensemble import RandomForestRegressor\n",
    "from sklearn.ensemble import StackingRegressor\n",
    "from xgboost import XGBRegressor\n",
    "from catboost import CatBoostRegressor\n",
    "from lightgbm import LGBMRegressor\n",
    "from sklearn.metrics import mean_squared_log_error"
   ]
  },
  {
   "cell_type": "markdown",
   "id": "515645f9",
   "metadata": {
    "papermill": {
     "duration": 0.030364,
     "end_time": "2024-04-03T15:08:27.680910",
     "exception": false,
     "start_time": "2024-04-03T15:08:27.650546",
     "status": "completed"
    },
    "tags": []
   },
   "source": [
    "![](data:image/jpeg;base64,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)"
   ]
  },
  {
   "cell_type": "markdown",
   "id": "48c01e71",
   "metadata": {
    "papermill": {
     "duration": 0.02382,
     "end_time": "2024-04-03T15:08:27.729631",
     "exception": false,
     "start_time": "2024-04-03T15:08:27.705811",
     "status": "completed"
    },
    "tags": []
   },
   "source": [
    "<a id='2'></a>\n",
    "# <span style=\"color: #3EB489; border-bottom: 6px solid  #20603D; background-color: #fadb8c;\">🐚 Open data files</span>"
   ]
  },
  {
   "cell_type": "code",
   "execution_count": 3,
   "id": "2ff4386d",
   "metadata": {
    "execution": {
     "iopub.execute_input": "2024-04-03T15:08:27.781063Z",
     "iopub.status.busy": "2024-04-03T15:08:27.780441Z",
     "iopub.status.idle": "2024-04-03T15:08:28.155698Z",
     "shell.execute_reply": "2024-04-03T15:08:28.153901Z"
    },
    "papermill": {
     "duration": 0.404602,
     "end_time": "2024-04-03T15:08:28.158626",
     "exception": false,
     "start_time": "2024-04-03T15:08:27.754024",
     "status": "completed"
    },
    "tags": []
   },
   "outputs": [],
   "source": [
    "original_train = pd.read_csv('/kaggle/input/ps-4-e-2-abalone-dataset-from-uci/abalone.data', header=None)\n",
    "\n",
    "train = pd.read_csv('/kaggle/input/playground-series-s4e4/train.csv')\n",
    "test = pd.read_csv('/kaggle/input/playground-series-s4e4/test.csv')\n",
    "sample_submission = pd.read_csv('/kaggle/input/playground-series-s4e4/sample_submission.csv')"
   ]
  },
  {
   "cell_type": "markdown",
   "id": "d1753201",
   "metadata": {
    "papermill": {
     "duration": 0.026091,
     "end_time": "2024-04-03T15:08:28.210892",
     "exception": false,
     "start_time": "2024-04-03T15:08:28.184801",
     "status": "completed"
    },
    "tags": []
   },
   "source": [
    "<a id='3'></a>\n",
    "# <span style=\"color: #3EB489; border-bottom: 6px solid  #20603D; background-color: #fadb8c;\">⛵ Show first 5 lines of train data</span>"
   ]
  },
  {
   "cell_type": "code",
   "execution_count": 4,
   "id": "67d0d9cf",
   "metadata": {
    "execution": {
     "iopub.execute_input": "2024-04-03T15:08:28.264149Z",
     "iopub.status.busy": "2024-04-03T15:08:28.263225Z",
     "iopub.status.idle": "2024-04-03T15:08:28.296880Z",
     "shell.execute_reply": "2024-04-03T15:08:28.295255Z"
    },
    "papermill": {
     "duration": 0.063448,
     "end_time": "2024-04-03T15:08:28.299654",
     "exception": false,
     "start_time": "2024-04-03T15:08:28.236206",
     "status": "completed"
    },
    "tags": []
   },
   "outputs": [
    {
     "data": {
      "text/html": [
       "<div>\n",
       "<style scoped>\n",
       "    .dataframe tbody tr th:only-of-type {\n",
       "        vertical-align: middle;\n",
       "    }\n",
       "\n",
       "    .dataframe tbody tr th {\n",
       "        vertical-align: top;\n",
       "    }\n",
       "\n",
       "    .dataframe thead th {\n",
       "        text-align: right;\n",
       "    }\n",
       "</style>\n",
       "<table border=\"1\" class=\"dataframe\">\n",
       "  <thead>\n",
       "    <tr style=\"text-align: right;\">\n",
       "      <th></th>\n",
       "      <th>id</th>\n",
       "      <th>Sex</th>\n",
       "      <th>Length</th>\n",
       "      <th>Diameter</th>\n",
       "      <th>Height</th>\n",
       "      <th>Whole weight</th>\n",
       "      <th>Whole weight.1</th>\n",
       "      <th>Whole weight.2</th>\n",
       "      <th>Shell weight</th>\n",
       "      <th>Rings</th>\n",
       "    </tr>\n",
       "  </thead>\n",
       "  <tbody>\n",
       "    <tr>\n",
       "      <th>0</th>\n",
       "      <td>0</td>\n",
       "      <td>F</td>\n",
       "      <td>0.550</td>\n",
       "      <td>0.430</td>\n",
       "      <td>0.150</td>\n",
       "      <td>0.7715</td>\n",
       "      <td>0.3285</td>\n",
       "      <td>0.1465</td>\n",
       "      <td>0.2400</td>\n",
       "      <td>11</td>\n",
       "    </tr>\n",
       "    <tr>\n",
       "      <th>1</th>\n",
       "      <td>1</td>\n",
       "      <td>F</td>\n",
       "      <td>0.630</td>\n",
       "      <td>0.490</td>\n",
       "      <td>0.145</td>\n",
       "      <td>1.1300</td>\n",
       "      <td>0.4580</td>\n",
       "      <td>0.2765</td>\n",
       "      <td>0.3200</td>\n",
       "      <td>11</td>\n",
       "    </tr>\n",
       "    <tr>\n",
       "      <th>2</th>\n",
       "      <td>2</td>\n",
       "      <td>I</td>\n",
       "      <td>0.160</td>\n",
       "      <td>0.110</td>\n",
       "      <td>0.025</td>\n",
       "      <td>0.0210</td>\n",
       "      <td>0.0055</td>\n",
       "      <td>0.0030</td>\n",
       "      <td>0.0050</td>\n",
       "      <td>6</td>\n",
       "    </tr>\n",
       "    <tr>\n",
       "      <th>3</th>\n",
       "      <td>3</td>\n",
       "      <td>M</td>\n",
       "      <td>0.595</td>\n",
       "      <td>0.475</td>\n",
       "      <td>0.150</td>\n",
       "      <td>0.9145</td>\n",
       "      <td>0.3755</td>\n",
       "      <td>0.2055</td>\n",
       "      <td>0.2500</td>\n",
       "      <td>10</td>\n",
       "    </tr>\n",
       "    <tr>\n",
       "      <th>4</th>\n",
       "      <td>4</td>\n",
       "      <td>I</td>\n",
       "      <td>0.555</td>\n",
       "      <td>0.425</td>\n",
       "      <td>0.130</td>\n",
       "      <td>0.7820</td>\n",
       "      <td>0.3695</td>\n",
       "      <td>0.1600</td>\n",
       "      <td>0.1975</td>\n",
       "      <td>9</td>\n",
       "    </tr>\n",
       "  </tbody>\n",
       "</table>\n",
       "</div>"
      ],
      "text/plain": [
       "   id Sex  Length  Diameter  Height  Whole weight  Whole weight.1  \\\n",
       "0   0   F   0.550     0.430   0.150        0.7715          0.3285   \n",
       "1   1   F   0.630     0.490   0.145        1.1300          0.4580   \n",
       "2   2   I   0.160     0.110   0.025        0.0210          0.0055   \n",
       "3   3   M   0.595     0.475   0.150        0.9145          0.3755   \n",
       "4   4   I   0.555     0.425   0.130        0.7820          0.3695   \n",
       "\n",
       "   Whole weight.2  Shell weight  Rings  \n",
       "0          0.1465        0.2400     11  \n",
       "1          0.2765        0.3200     11  \n",
       "2          0.0030        0.0050      6  \n",
       "3          0.2055        0.2500     10  \n",
       "4          0.1600        0.1975      9  "
      ]
     },
     "execution_count": 4,
     "metadata": {},
     "output_type": "execute_result"
    }
   ],
   "source": [
    "# Show all properties on display\n",
    "pd.set_option('display.max_columns', None)\n",
    "\n",
    "train.head()"
   ]
  },
  {
   "cell_type": "code",
   "execution_count": 5,
   "id": "d0e7fe6d",
   "metadata": {
    "execution": {
     "iopub.execute_input": "2024-04-03T15:08:28.351796Z",
     "iopub.status.busy": "2024-04-03T15:08:28.351371Z",
     "iopub.status.idle": "2024-04-03T15:08:28.368432Z",
     "shell.execute_reply": "2024-04-03T15:08:28.367193Z"
    },
    "papermill": {
     "duration": 0.046039,
     "end_time": "2024-04-03T15:08:28.371095",
     "exception": false,
     "start_time": "2024-04-03T15:08:28.325056",
     "status": "completed"
    },
    "tags": []
   },
   "outputs": [
    {
     "data": {
      "text/html": [
       "<div>\n",
       "<style scoped>\n",
       "    .dataframe tbody tr th:only-of-type {\n",
       "        vertical-align: middle;\n",
       "    }\n",
       "\n",
       "    .dataframe tbody tr th {\n",
       "        vertical-align: top;\n",
       "    }\n",
       "\n",
       "    .dataframe thead th {\n",
       "        text-align: right;\n",
       "    }\n",
       "</style>\n",
       "<table border=\"1\" class=\"dataframe\">\n",
       "  <thead>\n",
       "    <tr style=\"text-align: right;\">\n",
       "      <th></th>\n",
       "      <th>id</th>\n",
       "      <th>Sex</th>\n",
       "      <th>Length</th>\n",
       "      <th>Diameter</th>\n",
       "      <th>Height</th>\n",
       "      <th>Whole weight</th>\n",
       "      <th>Whole weight.1</th>\n",
       "      <th>Whole weight.2</th>\n",
       "      <th>Shell weight</th>\n",
       "    </tr>\n",
       "  </thead>\n",
       "  <tbody>\n",
       "    <tr>\n",
       "      <th>0</th>\n",
       "      <td>90615</td>\n",
       "      <td>M</td>\n",
       "      <td>0.645</td>\n",
       "      <td>0.475</td>\n",
       "      <td>0.155</td>\n",
       "      <td>1.2380</td>\n",
       "      <td>0.6185</td>\n",
       "      <td>0.3125</td>\n",
       "      <td>0.3005</td>\n",
       "    </tr>\n",
       "    <tr>\n",
       "      <th>1</th>\n",
       "      <td>90616</td>\n",
       "      <td>M</td>\n",
       "      <td>0.580</td>\n",
       "      <td>0.460</td>\n",
       "      <td>0.160</td>\n",
       "      <td>0.9830</td>\n",
       "      <td>0.4785</td>\n",
       "      <td>0.2195</td>\n",
       "      <td>0.2750</td>\n",
       "    </tr>\n",
       "    <tr>\n",
       "      <th>2</th>\n",
       "      <td>90617</td>\n",
       "      <td>M</td>\n",
       "      <td>0.560</td>\n",
       "      <td>0.420</td>\n",
       "      <td>0.140</td>\n",
       "      <td>0.8395</td>\n",
       "      <td>0.3525</td>\n",
       "      <td>0.1845</td>\n",
       "      <td>0.2405</td>\n",
       "    </tr>\n",
       "    <tr>\n",
       "      <th>3</th>\n",
       "      <td>90618</td>\n",
       "      <td>M</td>\n",
       "      <td>0.570</td>\n",
       "      <td>0.490</td>\n",
       "      <td>0.145</td>\n",
       "      <td>0.8740</td>\n",
       "      <td>0.3525</td>\n",
       "      <td>0.1865</td>\n",
       "      <td>0.2350</td>\n",
       "    </tr>\n",
       "    <tr>\n",
       "      <th>4</th>\n",
       "      <td>90619</td>\n",
       "      <td>I</td>\n",
       "      <td>0.415</td>\n",
       "      <td>0.325</td>\n",
       "      <td>0.110</td>\n",
       "      <td>0.3580</td>\n",
       "      <td>0.1575</td>\n",
       "      <td>0.0670</td>\n",
       "      <td>0.1050</td>\n",
       "    </tr>\n",
       "  </tbody>\n",
       "</table>\n",
       "</div>"
      ],
      "text/plain": [
       "      id Sex  Length  Diameter  Height  Whole weight  Whole weight.1  \\\n",
       "0  90615   M   0.645     0.475   0.155        1.2380          0.6185   \n",
       "1  90616   M   0.580     0.460   0.160        0.9830          0.4785   \n",
       "2  90617   M   0.560     0.420   0.140        0.8395          0.3525   \n",
       "3  90618   M   0.570     0.490   0.145        0.8740          0.3525   \n",
       "4  90619   I   0.415     0.325   0.110        0.3580          0.1575   \n",
       "\n",
       "   Whole weight.2  Shell weight  \n",
       "0          0.3125        0.3005  \n",
       "1          0.2195        0.2750  \n",
       "2          0.1845        0.2405  \n",
       "3          0.1865        0.2350  \n",
       "4          0.0670        0.1050  "
      ]
     },
     "execution_count": 5,
     "metadata": {},
     "output_type": "execute_result"
    }
   ],
   "source": [
    "test.head()"
   ]
  },
  {
   "cell_type": "markdown",
   "id": "57fdfdc4",
   "metadata": {
    "papermill": {
     "duration": 0.030256,
     "end_time": "2024-04-03T15:08:28.431542",
     "exception": false,
     "start_time": "2024-04-03T15:08:28.401286",
     "status": "completed"
    },
    "tags": []
   },
   "source": [
    "### Target feature is 'Rings'"
   ]
  },
  {
   "cell_type": "markdown",
   "id": "9782a48e",
   "metadata": {
    "papermill": {
     "duration": 0.028469,
     "end_time": "2024-04-03T15:08:28.493784",
     "exception": false,
     "start_time": "2024-04-03T15:08:28.465315",
     "status": "completed"
    },
    "tags": []
   },
   "source": [
    "<a id='3.1'></a>\n",
    "# <span style=\"color: #3EB489; border-bottom: 6px solid  #20603D; background-color: #fadb8c;\">🍤 Compare original train and competition train</span>"
   ]
  },
  {
   "cell_type": "code",
   "execution_count": 6,
   "id": "0bfd002f",
   "metadata": {
    "execution": {
     "iopub.execute_input": "2024-04-03T15:08:28.552794Z",
     "iopub.status.busy": "2024-04-03T15:08:28.552375Z",
     "iopub.status.idle": "2024-04-03T15:08:28.561781Z",
     "shell.execute_reply": "2024-04-03T15:08:28.559755Z"
    },
    "papermill": {
     "duration": 0.042115,
     "end_time": "2024-04-03T15:08:28.564911",
     "exception": false,
     "start_time": "2024-04-03T15:08:28.522796",
     "status": "completed"
    },
    "tags": []
   },
   "outputs": [
    {
     "name": "stdout",
     "output_type": "stream",
     "text": [
      "(4177, 9)\n"
     ]
    },
    {
     "data": {
      "text/plain": [
       "[0, 1, 2, 3, 4, 5, 6, 7, 8]"
      ]
     },
     "execution_count": 6,
     "metadata": {},
     "output_type": "execute_result"
    }
   ],
   "source": [
    "print(original_train.shape)\n",
    "original_train.columns.tolist()"
   ]
  },
  {
   "cell_type": "markdown",
   "id": "43f43d52",
   "metadata": {
    "papermill": {
     "duration": 0.092759,
     "end_time": "2024-04-03T15:08:28.684165",
     "exception": false,
     "start_time": "2024-04-03T15:08:28.591406",
     "status": "completed"
    },
    "tags": []
   },
   "source": [
    "### In original data there is no columns in file .data"
   ]
  },
  {
   "cell_type": "code",
   "execution_count": 7,
   "id": "a6fe1629",
   "metadata": {
    "execution": {
     "iopub.execute_input": "2024-04-03T15:08:28.740279Z",
     "iopub.status.busy": "2024-04-03T15:08:28.739136Z",
     "iopub.status.idle": "2024-04-03T15:08:28.807198Z",
     "shell.execute_reply": "2024-04-03T15:08:28.805795Z"
    },
    "papermill": {
     "duration": 0.099499,
     "end_time": "2024-04-03T15:08:28.810435",
     "exception": false,
     "start_time": "2024-04-03T15:08:28.710936",
     "status": "completed"
    },
    "tags": []
   },
   "outputs": [
    {
     "data": {
      "text/html": [
       "<div>\n",
       "<style scoped>\n",
       "    .dataframe tbody tr th:only-of-type {\n",
       "        vertical-align: middle;\n",
       "    }\n",
       "\n",
       "    .dataframe tbody tr th {\n",
       "        vertical-align: top;\n",
       "    }\n",
       "\n",
       "    .dataframe thead th {\n",
       "        text-align: right;\n",
       "    }\n",
       "</style>\n",
       "<table border=\"1\" class=\"dataframe\">\n",
       "  <thead>\n",
       "    <tr style=\"text-align: right;\">\n",
       "      <th></th>\n",
       "      <th>Sex</th>\n",
       "      <th>Length</th>\n",
       "      <th>Diameter</th>\n",
       "      <th>Height</th>\n",
       "      <th>Whole weight</th>\n",
       "      <th>Whole weight.1</th>\n",
       "      <th>Whole weight.2</th>\n",
       "      <th>Shell weight</th>\n",
       "      <th>Rings</th>\n",
       "    </tr>\n",
       "  </thead>\n",
       "  <tbody>\n",
       "    <tr>\n",
       "      <th>4172</th>\n",
       "      <td>F</td>\n",
       "      <td>0.565</td>\n",
       "      <td>0.450</td>\n",
       "      <td>0.165</td>\n",
       "      <td>0.8870</td>\n",
       "      <td>0.3700</td>\n",
       "      <td>0.2390</td>\n",
       "      <td>0.2490</td>\n",
       "      <td>11</td>\n",
       "    </tr>\n",
       "    <tr>\n",
       "      <th>4173</th>\n",
       "      <td>M</td>\n",
       "      <td>0.590</td>\n",
       "      <td>0.440</td>\n",
       "      <td>0.135</td>\n",
       "      <td>0.9660</td>\n",
       "      <td>0.4390</td>\n",
       "      <td>0.2145</td>\n",
       "      <td>0.2605</td>\n",
       "      <td>10</td>\n",
       "    </tr>\n",
       "    <tr>\n",
       "      <th>4174</th>\n",
       "      <td>M</td>\n",
       "      <td>0.600</td>\n",
       "      <td>0.475</td>\n",
       "      <td>0.205</td>\n",
       "      <td>1.1760</td>\n",
       "      <td>0.5255</td>\n",
       "      <td>0.2875</td>\n",
       "      <td>0.3080</td>\n",
       "      <td>9</td>\n",
       "    </tr>\n",
       "    <tr>\n",
       "      <th>4175</th>\n",
       "      <td>F</td>\n",
       "      <td>0.625</td>\n",
       "      <td>0.485</td>\n",
       "      <td>0.150</td>\n",
       "      <td>1.0945</td>\n",
       "      <td>0.5310</td>\n",
       "      <td>0.2610</td>\n",
       "      <td>0.2960</td>\n",
       "      <td>10</td>\n",
       "    </tr>\n",
       "    <tr>\n",
       "      <th>4176</th>\n",
       "      <td>M</td>\n",
       "      <td>0.710</td>\n",
       "      <td>0.555</td>\n",
       "      <td>0.195</td>\n",
       "      <td>1.9485</td>\n",
       "      <td>0.9455</td>\n",
       "      <td>0.3765</td>\n",
       "      <td>0.4950</td>\n",
       "      <td>12</td>\n",
       "    </tr>\n",
       "  </tbody>\n",
       "</table>\n",
       "</div>"
      ],
      "text/plain": [
       "     Sex  Length  Diameter  Height  Whole weight  Whole weight.1  \\\n",
       "4172   F   0.565     0.450   0.165        0.8870          0.3700   \n",
       "4173   M   0.590     0.440   0.135        0.9660          0.4390   \n",
       "4174   M   0.600     0.475   0.205        1.1760          0.5255   \n",
       "4175   F   0.625     0.485   0.150        1.0945          0.5310   \n",
       "4176   M   0.710     0.555   0.195        1.9485          0.9455   \n",
       "\n",
       "      Whole weight.2  Shell weight  Rings  \n",
       "4172          0.2390        0.2490     11  \n",
       "4173          0.2145        0.2605     10  \n",
       "4174          0.2875        0.3080      9  \n",
       "4175          0.2610        0.2960     10  \n",
       "4176          0.3765        0.4950     12  "
      ]
     },
     "execution_count": 7,
     "metadata": {},
     "output_type": "execute_result"
    }
   ],
   "source": [
    "# Save original dataset into .csv\n",
    "original_train.columns = train.columns[1:]\n",
    "original_train.to_csv('🌊🐚⛵🍤 PS4 E4 original abalone dataset from UCI.csv', index=False)\n",
    "original_train.tail()"
   ]
  },
  {
   "cell_type": "code",
   "execution_count": 8,
   "id": "a98ca4c8",
   "metadata": {
    "execution": {
     "iopub.execute_input": "2024-04-03T15:08:28.864524Z",
     "iopub.status.busy": "2024-04-03T15:08:28.864068Z",
     "iopub.status.idle": "2024-04-03T15:08:28.873207Z",
     "shell.execute_reply": "2024-04-03T15:08:28.871472Z"
    },
    "papermill": {
     "duration": 0.039825,
     "end_time": "2024-04-03T15:08:28.876236",
     "exception": false,
     "start_time": "2024-04-03T15:08:28.836411",
     "status": "completed"
    },
    "tags": []
   },
   "outputs": [
    {
     "name": "stdout",
     "output_type": "stream",
     "text": [
      "(90615, 10)\n"
     ]
    },
    {
     "data": {
      "text/plain": [
       "['id',\n",
       " 'Sex',\n",
       " 'Length',\n",
       " 'Diameter',\n",
       " 'Height',\n",
       " 'Whole weight',\n",
       " 'Whole weight.1',\n",
       " 'Whole weight.2',\n",
       " 'Shell weight',\n",
       " 'Rings']"
      ]
     },
     "execution_count": 8,
     "metadata": {},
     "output_type": "execute_result"
    }
   ],
   "source": [
    "print(train.shape)\n",
    "train.columns.tolist()"
   ]
  },
  {
   "cell_type": "markdown",
   "id": "900fa54b",
   "metadata": {
    "papermill": {
     "duration": 0.026023,
     "end_time": "2024-04-03T15:08:28.929884",
     "exception": false,
     "start_time": "2024-04-03T15:08:28.903861",
     "status": "completed"
    },
    "tags": []
   },
   "source": [
    "<a id='3.2'></a>\n",
    "# <span style=\"color: #3EB489; border-bottom: 6px solid  #20603D; background-color: #fadb8c;\">🌊 Concatenate original train with competition train"
   ]
  },
  {
   "cell_type": "code",
   "execution_count": 9,
   "id": "ce2bc83e",
   "metadata": {
    "execution": {
     "iopub.execute_input": "2024-04-03T15:08:28.984356Z",
     "iopub.status.busy": "2024-04-03T15:08:28.983963Z",
     "iopub.status.idle": "2024-04-03T15:08:29.008944Z",
     "shell.execute_reply": "2024-04-03T15:08:29.007016Z"
    },
    "papermill": {
     "duration": 0.055095,
     "end_time": "2024-04-03T15:08:29.012159",
     "exception": false,
     "start_time": "2024-04-03T15:08:28.957064",
     "status": "completed"
    },
    "tags": []
   },
   "outputs": [],
   "source": [
    "submission_id = test.id\n",
    "\n",
    "train.drop(columns='id', axis=1, inplace=True)\n",
    "test.drop(columns='id', axis=1, inplace=True)"
   ]
  },
  {
   "cell_type": "code",
   "execution_count": 10,
   "id": "b3b6a640",
   "metadata": {
    "execution": {
     "iopub.execute_input": "2024-04-03T15:08:29.064751Z",
     "iopub.status.busy": "2024-04-03T15:08:29.064261Z",
     "iopub.status.idle": "2024-04-03T15:08:29.078470Z",
     "shell.execute_reply": "2024-04-03T15:08:29.077260Z"
    },
    "papermill": {
     "duration": 0.043323,
     "end_time": "2024-04-03T15:08:29.080987",
     "exception": false,
     "start_time": "2024-04-03T15:08:29.037664",
     "status": "completed"
    },
    "tags": []
   },
   "outputs": [
    {
     "data": {
      "text/plain": [
       "(94792, 9)"
      ]
     },
     "execution_count": 10,
     "metadata": {},
     "output_type": "execute_result"
    }
   ],
   "source": [
    "train = pd.concat(objs=[train, original_train])\n",
    "train.shape"
   ]
  },
  {
   "cell_type": "markdown",
   "id": "152b2327",
   "metadata": {
    "papermill": {
     "duration": 0.025278,
     "end_time": "2024-04-03T15:08:29.134473",
     "exception": false,
     "start_time": "2024-04-03T15:08:29.109195",
     "status": "completed"
    },
    "tags": []
   },
   "source": [
    "<a id='3.3'></a>\n",
    "# <span style=\"color: #3EB489; border-bottom: 6px solid  #20603D; background-color: #fadb8c;\">🐚 Figure out how much duplicates in data"
   ]
  },
  {
   "cell_type": "code",
   "execution_count": 11,
   "id": "0331d4df",
   "metadata": {
    "execution": {
     "iopub.execute_input": "2024-04-03T15:08:29.189272Z",
     "iopub.status.busy": "2024-04-03T15:08:29.188235Z",
     "iopub.status.idle": "2024-04-03T15:08:29.266278Z",
     "shell.execute_reply": "2024-04-03T15:08:29.264561Z"
    },
    "papermill": {
     "duration": 0.109195,
     "end_time": "2024-04-03T15:08:29.269156",
     "exception": false,
     "start_time": "2024-04-03T15:08:29.159961",
     "status": "completed"
    },
    "tags": []
   },
   "outputs": [
    {
     "name": "stdout",
     "output_type": "stream",
     "text": [
      "0\n",
      "0\n"
     ]
    }
   ],
   "source": [
    "train_duplicates_number = train[train.duplicated()]\n",
    "test_duplicates_number = test[test.duplicated()]\n",
    "                             \n",
    "print(len(train_duplicates_number))\n",
    "print(len(test_duplicates_number))"
   ]
  },
  {
   "cell_type": "markdown",
   "id": "b719b4dc",
   "metadata": {
    "papermill": {
     "duration": 0.027763,
     "end_time": "2024-04-03T15:08:29.324606",
     "exception": false,
     "start_time": "2024-04-03T15:08:29.296843",
     "status": "completed"
    },
    "tags": []
   },
   "source": [
    "#### There are no any duplicats in data but if they would be presented use code below"
   ]
  },
  {
   "cell_type": "markdown",
   "id": "a90d1eb1",
   "metadata": {
    "papermill": {
     "duration": 0.025341,
     "end_time": "2024-04-03T15:08:29.376551",
     "exception": false,
     "start_time": "2024-04-03T15:08:29.351210",
     "status": "completed"
    },
    "tags": []
   },
   "source": [
    "<a id='3.4'></a>\n",
    "# <span style=\"color: #3EB489; border-bottom: 6px solid  #20603D; background-color: #fadb8c;\">⛵ Remove duplicates from data"
   ]
  },
  {
   "cell_type": "code",
   "execution_count": 12,
   "id": "caca8b49",
   "metadata": {
    "execution": {
     "iopub.execute_input": "2024-04-03T15:08:29.430763Z",
     "iopub.status.busy": "2024-04-03T15:08:29.430021Z",
     "iopub.status.idle": "2024-04-03T15:08:29.510618Z",
     "shell.execute_reply": "2024-04-03T15:08:29.508680Z"
    },
    "papermill": {
     "duration": 0.111584,
     "end_time": "2024-04-03T15:08:29.513800",
     "exception": false,
     "start_time": "2024-04-03T15:08:29.402216",
     "status": "completed"
    },
    "tags": []
   },
   "outputs": [
    {
     "name": "stdout",
     "output_type": "stream",
     "text": [
      "0\n"
     ]
    }
   ],
   "source": [
    "train = train.drop_duplicates()\n",
    "\n",
    "# Check whether all duplicates were removed\n",
    "train_duplicates = train[train.duplicated()]\n",
    "print(len(train_duplicates))"
   ]
  },
  {
   "cell_type": "markdown",
   "id": "d1ab1e6f",
   "metadata": {
    "papermill": {
     "duration": 0.025574,
     "end_time": "2024-04-03T15:08:29.567741",
     "exception": false,
     "start_time": "2024-04-03T15:08:29.542167",
     "status": "completed"
    },
    "tags": []
   },
   "source": [
    "<a id='4'></a>\n",
    "# <span style=\"color: #3EB489; border-bottom: 6px solid  #20603D; background-color: #fadb8c;\">🐟 Shapes of train and test data</span>"
   ]
  },
  {
   "cell_type": "code",
   "execution_count": 13,
   "id": "bc8c3fc6",
   "metadata": {
    "execution": {
     "iopub.execute_input": "2024-04-03T15:08:29.625139Z",
     "iopub.status.busy": "2024-04-03T15:08:29.624695Z",
     "iopub.status.idle": "2024-04-03T15:08:29.633328Z",
     "shell.execute_reply": "2024-04-03T15:08:29.631465Z"
    },
    "papermill": {
     "duration": 0.043183,
     "end_time": "2024-04-03T15:08:29.636479",
     "exception": false,
     "start_time": "2024-04-03T15:08:29.593296",
     "status": "completed"
    },
    "tags": []
   },
   "outputs": [
    {
     "name": "stdout",
     "output_type": "stream",
     "text": [
      "Train data: (94792, 9)\n",
      "Test data: (60411, 8)\n",
      "\n",
      "Train data consists of 61.08% of all observations\n",
      "Test data consists of 38.92% of all observations\n"
     ]
    }
   ],
   "source": [
    "print(f'Train data: {train.shape}')\n",
    "print(f'Test data: {test.shape}\\n')\n",
    "\n",
    "train_data_percentage = np.round(train.shape[0] / (train.shape[0] + test.shape[0]), 4)\n",
    "print(f'Train data consists of {train_data_percentage * 100}% of all observations')\n",
    "print(f'Test data consists of {(1 - train_data_percentage) * 100}% of all observations')"
   ]
  },
  {
   "cell_type": "markdown",
   "id": "b400f38d",
   "metadata": {
    "papermill": {
     "duration": 0.028786,
     "end_time": "2024-04-03T15:08:29.692695",
     "exception": false,
     "start_time": "2024-04-03T15:08:29.663909",
     "status": "completed"
    },
    "tags": []
   },
   "source": [
    "![](https://www.altnaturals.com/cdn/shop/products/All-AbaloneSizes-Small_1500x411.jpg?v=1637679377)"
   ]
  },
  {
   "cell_type": "markdown",
   "id": "452b123e",
   "metadata": {
    "papermill": {
     "duration": 0.027243,
     "end_time": "2024-04-03T15:08:29.748437",
     "exception": false,
     "start_time": "2024-04-03T15:08:29.721194",
     "status": "completed"
    },
    "tags": []
   },
   "source": [
    "<a id='5'></a>\n",
    "# <span style=\"color: #3EB489; border-bottom: 6px solid  #20603D; background-color: #fadb8c;\">🐠 Display descriptive statistics of train data</span>"
   ]
  },
  {
   "cell_type": "code",
   "execution_count": 14,
   "id": "19f98e17",
   "metadata": {
    "execution": {
     "iopub.execute_input": "2024-04-03T15:08:29.804440Z",
     "iopub.status.busy": "2024-04-03T15:08:29.803992Z",
     "iopub.status.idle": "2024-04-03T15:08:29.884308Z",
     "shell.execute_reply": "2024-04-03T15:08:29.883159Z"
    },
    "papermill": {
     "duration": 0.11226,
     "end_time": "2024-04-03T15:08:29.886857",
     "exception": false,
     "start_time": "2024-04-03T15:08:29.774597",
     "status": "completed"
    },
    "tags": []
   },
   "outputs": [
    {
     "data": {
      "text/html": [
       "<div>\n",
       "<style scoped>\n",
       "    .dataframe tbody tr th:only-of-type {\n",
       "        vertical-align: middle;\n",
       "    }\n",
       "\n",
       "    .dataframe tbody tr th {\n",
       "        vertical-align: top;\n",
       "    }\n",
       "\n",
       "    .dataframe thead th {\n",
       "        text-align: right;\n",
       "    }\n",
       "</style>\n",
       "<table border=\"1\" class=\"dataframe\">\n",
       "  <thead>\n",
       "    <tr style=\"text-align: right;\">\n",
       "      <th></th>\n",
       "      <th>count</th>\n",
       "      <th>mean</th>\n",
       "      <th>std</th>\n",
       "      <th>min</th>\n",
       "      <th>25%</th>\n",
       "      <th>50%</th>\n",
       "      <th>75%</th>\n",
       "      <th>max</th>\n",
       "    </tr>\n",
       "  </thead>\n",
       "  <tbody>\n",
       "    <tr>\n",
       "      <th>Length</th>\n",
       "      <td>94792.0</td>\n",
       "      <td>0.517402</td>\n",
       "      <td>0.118308</td>\n",
       "      <td>0.0750</td>\n",
       "      <td>0.4450</td>\n",
       "      <td>0.5450</td>\n",
       "      <td>0.6000</td>\n",
       "      <td>0.8150</td>\n",
       "    </tr>\n",
       "    <tr>\n",
       "      <th>Diameter</th>\n",
       "      <td>94792.0</td>\n",
       "      <td>0.401952</td>\n",
       "      <td>0.098088</td>\n",
       "      <td>0.0550</td>\n",
       "      <td>0.3450</td>\n",
       "      <td>0.4250</td>\n",
       "      <td>0.4700</td>\n",
       "      <td>0.6500</td>\n",
       "    </tr>\n",
       "    <tr>\n",
       "      <th>Height</th>\n",
       "      <td>94792.0</td>\n",
       "      <td>0.135643</td>\n",
       "      <td>0.038193</td>\n",
       "      <td>0.0000</td>\n",
       "      <td>0.1100</td>\n",
       "      <td>0.1400</td>\n",
       "      <td>0.1600</td>\n",
       "      <td>1.1300</td>\n",
       "    </tr>\n",
       "    <tr>\n",
       "      <th>Whole weight</th>\n",
       "      <td>94792.0</td>\n",
       "      <td>0.790785</td>\n",
       "      <td>0.459231</td>\n",
       "      <td>0.0020</td>\n",
       "      <td>0.4195</td>\n",
       "      <td>0.7995</td>\n",
       "      <td>1.0725</td>\n",
       "      <td>2.8255</td>\n",
       "    </tr>\n",
       "    <tr>\n",
       "      <th>Whole weight.1</th>\n",
       "      <td>94792.0</td>\n",
       "      <td>0.341597</td>\n",
       "      <td>0.205267</td>\n",
       "      <td>0.0010</td>\n",
       "      <td>0.1775</td>\n",
       "      <td>0.3300</td>\n",
       "      <td>0.4645</td>\n",
       "      <td>1.4880</td>\n",
       "    </tr>\n",
       "    <tr>\n",
       "      <th>Whole weight.2</th>\n",
       "      <td>94792.0</td>\n",
       "      <td>0.169914</td>\n",
       "      <td>0.101334</td>\n",
       "      <td>0.0005</td>\n",
       "      <td>0.0865</td>\n",
       "      <td>0.1660</td>\n",
       "      <td>0.2330</td>\n",
       "      <td>0.7600</td>\n",
       "    </tr>\n",
       "    <tr>\n",
       "      <th>Shell weight</th>\n",
       "      <td>94792.0</td>\n",
       "      <td>0.226468</td>\n",
       "      <td>0.130639</td>\n",
       "      <td>0.0015</td>\n",
       "      <td>0.1200</td>\n",
       "      <td>0.2250</td>\n",
       "      <td>0.3050</td>\n",
       "      <td>1.0050</td>\n",
       "    </tr>\n",
       "    <tr>\n",
       "      <th>Rings</th>\n",
       "      <td>94792.0</td>\n",
       "      <td>9.707233</td>\n",
       "      <td>3.178704</td>\n",
       "      <td>1.0000</td>\n",
       "      <td>8.0000</td>\n",
       "      <td>9.0000</td>\n",
       "      <td>11.0000</td>\n",
       "      <td>29.0000</td>\n",
       "    </tr>\n",
       "  </tbody>\n",
       "</table>\n",
       "</div>"
      ],
      "text/plain": [
       "                  count      mean       std     min     25%     50%      75%  \\\n",
       "Length          94792.0  0.517402  0.118308  0.0750  0.4450  0.5450   0.6000   \n",
       "Diameter        94792.0  0.401952  0.098088  0.0550  0.3450  0.4250   0.4700   \n",
       "Height          94792.0  0.135643  0.038193  0.0000  0.1100  0.1400   0.1600   \n",
       "Whole weight    94792.0  0.790785  0.459231  0.0020  0.4195  0.7995   1.0725   \n",
       "Whole weight.1  94792.0  0.341597  0.205267  0.0010  0.1775  0.3300   0.4645   \n",
       "Whole weight.2  94792.0  0.169914  0.101334  0.0005  0.0865  0.1660   0.2330   \n",
       "Shell weight    94792.0  0.226468  0.130639  0.0015  0.1200  0.2250   0.3050   \n",
       "Rings           94792.0  9.707233  3.178704  1.0000  8.0000  9.0000  11.0000   \n",
       "\n",
       "                    max  \n",
       "Length           0.8150  \n",
       "Diameter         0.6500  \n",
       "Height           1.1300  \n",
       "Whole weight     2.8255  \n",
       "Whole weight.1   1.4880  \n",
       "Whole weight.2   0.7600  \n",
       "Shell weight     1.0050  \n",
       "Rings           29.0000  "
      ]
     },
     "execution_count": 14,
     "metadata": {},
     "output_type": "execute_result"
    }
   ],
   "source": [
    "train.describe().T"
   ]
  },
  {
   "cell_type": "markdown",
   "id": "a0cb7891",
   "metadata": {
    "papermill": {
     "duration": 0.02598,
     "end_time": "2024-04-03T15:08:29.938809",
     "exception": false,
     "start_time": "2024-04-03T15:08:29.912829",
     "status": "completed"
    },
    "tags": []
   },
   "source": [
    "<a id='6'></a>\n",
    "# <span style=\"color: #3EB489; border-bottom: 6px solid  #20603D; background-color: #fadb8c;\">🐡 Check the number of gaps for each feature</span>"
   ]
  },
  {
   "cell_type": "code",
   "execution_count": 15,
   "id": "3bc78ef0",
   "metadata": {
    "execution": {
     "iopub.execute_input": "2024-04-03T15:08:29.999708Z",
     "iopub.status.busy": "2024-04-03T15:08:29.999216Z",
     "iopub.status.idle": "2024-04-03T15:08:30.034218Z",
     "shell.execute_reply": "2024-04-03T15:08:30.031920Z"
    },
    "papermill": {
     "duration": 0.070457,
     "end_time": "2024-04-03T15:08:30.037311",
     "exception": false,
     "start_time": "2024-04-03T15:08:29.966854",
     "status": "completed"
    },
    "tags": []
   },
   "outputs": [
    {
     "name": "stdout",
     "output_type": "stream",
     "text": [
      "TRAIN data\n",
      "\n",
      "Sex               0\n",
      "Length            0\n",
      "Diameter          0\n",
      "Height            0\n",
      "Whole weight      0\n",
      "Whole weight.1    0\n",
      "Whole weight.2    0\n",
      "Shell weight      0\n",
      "Rings             0\n",
      "dtype: int64\n",
      "\n",
      "\n",
      "\n",
      "TEST data\n",
      "\n",
      "Sex               0\n",
      "Length            0\n",
      "Diameter          0\n",
      "Height            0\n",
      "Whole weight      0\n",
      "Whole weight.1    0\n",
      "Whole weight.2    0\n",
      "Shell weight      0\n",
      "dtype: int64\n"
     ]
    }
   ],
   "source": [
    "print('TRAIN data\\n')\n",
    "print(f'{train.isna().sum()}\\n\\n\\n')\n",
    "\n",
    "print('TEST data\\n')\n",
    "print(test.isna().sum())"
   ]
  },
  {
   "cell_type": "markdown",
   "id": "a892c2e1",
   "metadata": {
    "papermill": {
     "duration": 0.027216,
     "end_time": "2024-04-03T15:08:30.091875",
     "exception": false,
     "start_time": "2024-04-03T15:08:30.064659",
     "status": "completed"
    },
    "tags": []
   },
   "source": [
    "#### There is no any gaps in the data"
   ]
  },
  {
   "cell_type": "markdown",
   "id": "b765bee4",
   "metadata": {
    "papermill": {
     "duration": 0.026745,
     "end_time": "2024-04-03T15:08:30.147152",
     "exception": false,
     "start_time": "2024-04-03T15:08:30.120407",
     "status": "completed"
    },
    "tags": []
   },
   "source": [
    "![](https://www.asnailsodyssey.com/views/images/119/Geiger&Owen2019.jpg)"
   ]
  },
  {
   "cell_type": "markdown",
   "id": "0710596f",
   "metadata": {
    "papermill": {
     "duration": 0.032251,
     "end_time": "2024-04-03T15:08:30.211228",
     "exception": false,
     "start_time": "2024-04-03T15:08:30.178977",
     "status": "completed"
    },
    "tags": []
   },
   "source": [
    "<a id='7'></a>\n",
    "# <span style=\"color: #3EB489; border-bottom: 6px solid  #20603D; background-color: #fadb8c;\">🦈 Data types of training set</span>"
   ]
  },
  {
   "cell_type": "code",
   "execution_count": 16,
   "id": "a313d65a",
   "metadata": {
    "execution": {
     "iopub.execute_input": "2024-04-03T15:08:30.272121Z",
     "iopub.status.busy": "2024-04-03T15:08:30.271709Z",
     "iopub.status.idle": "2024-04-03T15:08:30.302861Z",
     "shell.execute_reply": "2024-04-03T15:08:30.301316Z"
    },
    "papermill": {
     "duration": 0.064158,
     "end_time": "2024-04-03T15:08:30.305625",
     "exception": false,
     "start_time": "2024-04-03T15:08:30.241467",
     "status": "completed"
    },
    "tags": []
   },
   "outputs": [
    {
     "name": "stdout",
     "output_type": "stream",
     "text": [
      "<class 'pandas.core.frame.DataFrame'>\n",
      "Index: 94792 entries, 0 to 4176\n",
      "Data columns (total 9 columns):\n",
      " #   Column          Non-Null Count  Dtype  \n",
      "---  ------          --------------  -----  \n",
      " 0   Sex             94792 non-null  object \n",
      " 1   Length          94792 non-null  float64\n",
      " 2   Diameter        94792 non-null  float64\n",
      " 3   Height          94792 non-null  float64\n",
      " 4   Whole weight    94792 non-null  float64\n",
      " 5   Whole weight.1  94792 non-null  float64\n",
      " 6   Whole weight.2  94792 non-null  float64\n",
      " 7   Shell weight    94792 non-null  float64\n",
      " 8   Rings           94792 non-null  int64  \n",
      "dtypes: float64(7), int64(1), object(1)\n",
      "memory usage: 7.2+ MB\n"
     ]
    }
   ],
   "source": [
    "train.info()"
   ]
  },
  {
   "cell_type": "markdown",
   "id": "aed803c1",
   "metadata": {
    "papermill": {
     "duration": 0.026235,
     "end_time": "2024-04-03T15:08:30.358124",
     "exception": false,
     "start_time": "2024-04-03T15:08:30.331889",
     "status": "completed"
    },
    "tags": []
   },
   "source": [
    "#### Sex feature is object, so we have to convert in into numeric"
   ]
  },
  {
   "cell_type": "markdown",
   "id": "02667e9e",
   "metadata": {
    "papermill": {
     "duration": 0.029497,
     "end_time": "2024-04-03T15:08:30.415371",
     "exception": false,
     "start_time": "2024-04-03T15:08:30.385874",
     "status": "completed"
    },
    "tags": []
   },
   "source": [
    "<a id=\"7.2\"></a>\n",
    "# <span style=\"color: #3EB489; border-bottom: 6px solid  #20603D; background-color: #fadb8c;\">🦭 Remove duplicates from train data</span>"
   ]
  },
  {
   "cell_type": "code",
   "execution_count": 17,
   "id": "e7d9b8e8",
   "metadata": {
    "execution": {
     "iopub.execute_input": "2024-04-03T15:08:30.480285Z",
     "iopub.status.busy": "2024-04-03T15:08:30.479624Z",
     "iopub.status.idle": "2024-04-03T15:08:30.566308Z",
     "shell.execute_reply": "2024-04-03T15:08:30.564029Z"
    },
    "papermill": {
     "duration": 0.126127,
     "end_time": "2024-04-03T15:08:30.569509",
     "exception": false,
     "start_time": "2024-04-03T15:08:30.443382",
     "status": "completed"
    },
    "tags": []
   },
   "outputs": [
    {
     "data": {
      "text/plain": [
       "0"
      ]
     },
     "execution_count": 17,
     "metadata": {},
     "output_type": "execute_result"
    }
   ],
   "source": [
    "train = train.drop_duplicates()\n",
    "\n",
    "# Check whether all duplicates were removed\n",
    "duplicates = train[train.duplicated()]\n",
    "len(duplicates)"
   ]
  },
  {
   "cell_type": "markdown",
   "id": "90b2f3e9",
   "metadata": {
    "papermill": {
     "duration": 0.027453,
     "end_time": "2024-04-03T15:08:30.625141",
     "exception": false,
     "start_time": "2024-04-03T15:08:30.597688",
     "status": "completed"
    },
    "tags": []
   },
   "source": [
    "<a id=\"7.3\"></a>\n",
    "# <span style=\"color: #3EB489; border-bottom: 6px solid  #20603D; background-color: #fadb8c;\">🍢 One-hot encoding"
   ]
  },
  {
   "cell_type": "code",
   "execution_count": 18,
   "id": "51cfc181",
   "metadata": {
    "execution": {
     "iopub.execute_input": "2024-04-03T15:08:30.686519Z",
     "iopub.status.busy": "2024-04-03T15:08:30.684809Z",
     "iopub.status.idle": "2024-04-03T15:08:30.731370Z",
     "shell.execute_reply": "2024-04-03T15:08:30.729256Z"
    },
    "papermill": {
     "duration": 0.079347,
     "end_time": "2024-04-03T15:08:30.734415",
     "exception": false,
     "start_time": "2024-04-03T15:08:30.655068",
     "status": "completed"
    },
    "tags": []
   },
   "outputs": [],
   "source": [
    "X = pd.get_dummies(train, drop_first=True, dtype=int)\n",
    "test = pd.get_dummies(test, drop_first=True, dtype=int)"
   ]
  },
  {
   "cell_type": "markdown",
   "id": "c900db9d",
   "metadata": {
    "papermill": {
     "duration": 0.029549,
     "end_time": "2024-04-03T15:08:30.793975",
     "exception": false,
     "start_time": "2024-04-03T15:08:30.764426",
     "status": "completed"
    },
    "tags": []
   },
   "source": [
    "<a id='8'></a>\n",
    "# <span style=\"color: #3EB489; border-bottom: 6px solid  #20603D; background-color: #fadb8c;\">🦞 Display histograms of distribution</span>"
   ]
  },
  {
   "cell_type": "code",
   "execution_count": 19,
   "id": "07e75799",
   "metadata": {
    "execution": {
     "iopub.execute_input": "2024-04-03T15:08:30.852913Z",
     "iopub.status.busy": "2024-04-03T15:08:30.852233Z",
     "iopub.status.idle": "2024-04-03T15:08:34.888043Z",
     "shell.execute_reply": "2024-04-03T15:08:34.887048Z"
    },
    "papermill": {
     "duration": 4.067857,
     "end_time": "2024-04-03T15:08:34.890726",
     "exception": false,
     "start_time": "2024-04-03T15:08:30.822869",
     "status": "completed"
    },
    "tags": []
   },
   "outputs": [
    {
     "data": {
      "image/png": "[encoded data removed]",
      "text/plain": [
       "<Figure size 2000x1600 with 12 Axes>"
      ]
     },
     "metadata": {},
     "output_type": "display_data"
    }
   ],
   "source": [
    "sns.set(rc={'figure.figsize': (20, 16)})\n",
    "X.hist(color='orange');"
   ]
  },
  {
   "cell_type": "markdown",
   "id": "7d49728c",
   "metadata": {
    "papermill": {
     "duration": 0.028664,
     "end_time": "2024-04-03T15:08:34.948428",
     "exception": false,
     "start_time": "2024-04-03T15:08:34.919764",
     "status": "completed"
    },
    "tags": []
   },
   "source": [
    "<a id='9'></a>\n",
    "# <span style=\"color: #3EB489; border-bottom: 6px solid  #20603D; background-color: #fadb8c;\">🦐 Let's count target of train data</span>"
   ]
  },
  {
   "cell_type": "code",
   "execution_count": 20,
   "id": "45ad97c5",
   "metadata": {
    "execution": {
     "iopub.execute_input": "2024-04-03T15:08:35.008390Z",
     "iopub.status.busy": "2024-04-03T15:08:35.007957Z",
     "iopub.status.idle": "2024-04-03T15:08:35.022836Z",
     "shell.execute_reply": "2024-04-03T15:08:35.021342Z"
    },
    "papermill": {
     "duration": 0.048471,
     "end_time": "2024-04-03T15:08:35.025579",
     "exception": false,
     "start_time": "2024-04-03T15:08:34.977108",
     "status": "completed"
    },
    "tags": []
   },
   "outputs": [
    {
     "name": "stdout",
     "output_type": "stream",
     "text": [
      "Rings\n",
      "9     18154\n",
      "8     15067\n",
      "10    13098\n",
      "7      9399\n",
      "11     8894\n",
      "6      5670\n",
      "12     4986\n",
      "13     4277\n",
      "5      2977\n",
      "14     2633\n",
      "15     2175\n",
      "16     1506\n",
      "4      1459\n",
      "17     1233\n",
      "18      890\n",
      "19      671\n",
      "20      533\n",
      "3       401\n",
      "21      269\n",
      "23      189\n",
      "22      114\n",
      "27       43\n",
      "24       31\n",
      "2        30\n",
      "1        26\n",
      "29       25\n",
      "25       23\n",
      "26       19\n",
      "Name: count, dtype: int64\n",
      "\n",
      "\n",
      "Rings\n",
      "9     0.191514\n",
      "8     0.158948\n",
      "10    0.138176\n",
      "7     0.099154\n",
      "11    0.093826\n",
      "6     0.059815\n",
      "12    0.052599\n",
      "13    0.045120\n",
      "5     0.031406\n",
      "14    0.027777\n",
      "15    0.022945\n",
      "16    0.015887\n",
      "4     0.015392\n",
      "17    0.013007\n",
      "18    0.009389\n",
      "19    0.007079\n",
      "20    0.005623\n",
      "3     0.004230\n",
      "21    0.002838\n",
      "23    0.001994\n",
      "22    0.001203\n",
      "27    0.000454\n",
      "24    0.000327\n",
      "2     0.000316\n",
      "1     0.000274\n",
      "29    0.000264\n",
      "25    0.000243\n",
      "26    0.000200\n",
      "Name: count, dtype: float64\n"
     ]
    }
   ],
   "source": [
    "print(f'{train.Rings.value_counts()}\\n\\n')\n",
    "print(train.Rings.value_counts() / train.shape[0])"
   ]
  },
  {
   "cell_type": "markdown",
   "id": "692e67ab",
   "metadata": {
    "papermill": {
     "duration": 0.028606,
     "end_time": "2024-04-03T15:08:35.083314",
     "exception": false,
     "start_time": "2024-04-03T15:08:35.054708",
     "status": "completed"
    },
    "tags": []
   },
   "source": [
    "<a id='10'></a>\n",
    "# <span style=\"color: #3EB489; border-bottom: 6px solid  #20603D; background-color: #fadb8c;\">🦑 Transorm the data with MinMax</span>"
   ]
  },
  {
   "cell_type": "code",
   "execution_count": 21,
   "id": "1bfe726d",
   "metadata": {
    "execution": {
     "iopub.execute_input": "2024-04-03T15:08:35.143656Z",
     "iopub.status.busy": "2024-04-03T15:08:35.143216Z",
     "iopub.status.idle": "2024-04-03T15:08:35.153010Z",
     "shell.execute_reply": "2024-04-03T15:08:35.151709Z"
    },
    "papermill": {
     "duration": 0.043321,
     "end_time": "2024-04-03T15:08:35.155802",
     "exception": false,
     "start_time": "2024-04-03T15:08:35.112481",
     "status": "completed"
    },
    "tags": []
   },
   "outputs": [],
   "source": [
    "# Split the train data into X and y\n",
    "X = X.drop(['Rings'], axis=1)\n",
    "y = train.Rings\n",
    "\n",
    "# for column in X.columns.tolist():\n",
    "#     X[column] = X[column].apply(lambda x: (x - X[column].min()) / (X[column].max() - X[column].min()))\n",
    "\n",
    "# # Transform test data\n",
    "# for column in test.columns.tolist():\n",
    "#     test[column] = test[column].apply(lambda x: (x - test[column].min()) / (test[column].max() - test[column].min()))\n",
    "    \n",
    "# X.hist(color='LightSeaGreen');"
   ]
  },
  {
   "cell_type": "markdown",
   "id": "1a01b176",
   "metadata": {
    "papermill": {
     "duration": 0.029414,
     "end_time": "2024-04-03T15:08:35.216679",
     "exception": false,
     "start_time": "2024-04-03T15:08:35.187265",
     "status": "completed"
    },
    "tags": []
   },
   "source": [
    "![](https://d3h1lg3ksw6i6b.cloudfront.net/media/image/2020/09/24/a40d8dea2d924e0aa7cdb644beffe934_abalone+dish.jpg)"
   ]
  },
  {
   "cell_type": "markdown",
   "id": "4f399df1",
   "metadata": {
    "papermill": {
     "duration": 0.02874,
     "end_time": "2024-04-03T15:08:35.275870",
     "exception": false,
     "start_time": "2024-04-03T15:08:35.247130",
     "status": "completed"
    },
    "tags": []
   },
   "source": [
    "<a id='10.2'></a>\n",
    "# <span style=\"color: #3EB489; border-bottom: 6px solid  #20603D; background-color: #fadb8c;\">💦 Feature importance</span>"
   ]
  },
  {
   "cell_type": "code",
   "execution_count": 22,
   "id": "5859b024",
   "metadata": {
    "execution": {
     "iopub.execute_input": "2024-04-03T15:08:35.337105Z",
     "iopub.status.busy": "2024-04-03T15:08:35.336723Z",
     "iopub.status.idle": "2024-04-03T15:09:29.759231Z",
     "shell.execute_reply": "2024-04-03T15:09:29.757833Z"
    },
    "papermill": {
     "duration": 54.457225,
     "end_time": "2024-04-03T15:09:29.762247",
     "exception": false,
     "start_time": "2024-04-03T15:08:35.305022",
     "status": "completed"
    },
    "tags": []
   },
   "outputs": [
    {
     "name": "stdout",
     "output_type": "stream",
     "text": [
      "CPU times: user 53.4 s, sys: 507 ms, total: 53.9 s\n",
      "Wall time: 54 s\n"
     ]
    },
    {
     "data": {
      "image/png": "[encoded data removed]",
      "text/plain": [
       "<Figure size 1200x800 with 1 Axes>"
      ]
     },
     "metadata": {},
     "output_type": "display_data"
    }
   ],
   "source": [
    "%%time\n",
    "# I figured out best hyperparameters previously\n",
    "best_forest = RandomForestRegressor(\n",
    "    random_state=27,\n",
    ")\n",
    "    \n",
    "best_forest.fit(X, y)\n",
    "importance = best_forest.feature_importances_\n",
    "\n",
    "feature_importance = pd.DataFrame(data=importance, index=X.columns, columns=['importance']) \\\n",
    "    .sort_values(ascending=True, by='importance')\n",
    "\n",
    "feature_importance.plot(kind='barh', figsize=(12, 8), color='orange');"
   ]
  },
  {
   "cell_type": "markdown",
   "id": "004394f6",
   "metadata": {
    "papermill": {
     "duration": 0.032971,
     "end_time": "2024-04-03T15:09:29.825592",
     "exception": false,
     "start_time": "2024-04-03T15:09:29.792621",
     "status": "completed"
    },
    "tags": []
   },
   "source": [
    "<a id='11'></a>\n",
    "# <span style=\"color: #3EB489; border-bottom: 6px solid  #20603D; background-color: #fadb8c;\">🌊 Build a heat map of correlations</span>"
   ]
  },
  {
   "cell_type": "code",
   "execution_count": 23,
   "id": "9adab763",
   "metadata": {
    "execution": {
     "iopub.execute_input": "2024-04-03T15:09:29.889875Z",
     "iopub.status.busy": "2024-04-03T15:09:29.888608Z",
     "iopub.status.idle": "2024-04-03T15:09:29.895980Z",
     "shell.execute_reply": "2024-04-03T15:09:29.894809Z"
    },
    "papermill": {
     "duration": 0.041041,
     "end_time": "2024-04-03T15:09:29.898411",
     "exception": false,
     "start_time": "2024-04-03T15:09:29.857370",
     "status": "completed"
    },
    "tags": []
   },
   "outputs": [
    {
     "data": {
      "text/plain": [
       "Index(['Length', 'Diameter', 'Height', 'Whole weight', 'Whole weight.1',\n",
       "       'Whole weight.2', 'Shell weight', 'Sex_I', 'Sex_M'],\n",
       "      dtype='object')"
      ]
     },
     "execution_count": 23,
     "metadata": {},
     "output_type": "execute_result"
    }
   ],
   "source": [
    "X.columns"
   ]
  },
  {
   "cell_type": "code",
   "execution_count": 24,
   "id": "31ade3e8",
   "metadata": {
    "execution": {
     "iopub.execute_input": "2024-04-03T15:09:29.963350Z",
     "iopub.status.busy": "2024-04-03T15:09:29.962941Z",
     "iopub.status.idle": "2024-04-03T15:09:30.817422Z",
     "shell.execute_reply": "2024-04-03T15:09:30.816017Z"
    },
    "papermill": {
     "duration": 0.890723,
     "end_time": "2024-04-03T15:09:30.820290",
     "exception": false,
     "start_time": "2024-04-03T15:09:29.929567",
     "status": "completed"
    },
    "tags": []
   },
   "outputs": [
    {
     "data": {
      "image/png": "[encoded data removed]",
      "text/plain": [
       "<Figure size 2000x1600 with 1 Axes>"
      ]
     },
     "metadata": {},
     "output_type": "display_data"
    }
   ],
   "source": [
    "# Training dataset\n",
    "numeric_columns_train = X.select_dtypes(include=np.number)\n",
    "corr_train = numeric_columns_train.corr(method='pearson')\n",
    "mask_train = np.triu(np.ones_like(corr_train))\n",
    "sns.heatmap(corr_train, annot=True, fmt='.2f', mask=mask_train, cmap='Spectral', cbar=None, linewidth=2)\n",
    "plt.tight_layout()\n",
    "plt.show()"
   ]
  },
  {
   "cell_type": "markdown",
   "id": "c2f917e2",
   "metadata": {
    "papermill": {
     "duration": 0.031819,
     "end_time": "2024-04-03T15:09:30.885374",
     "exception": false,
     "start_time": "2024-04-03T15:09:30.853555",
     "status": "completed"
    },
    "tags": []
   },
   "source": [
    "#### Let's drop highly correlated features and look on the metric"
   ]
  },
  {
   "cell_type": "code",
   "execution_count": 25,
   "id": "a5b8af43",
   "metadata": {
    "execution": {
     "iopub.execute_input": "2024-04-03T15:09:30.956537Z",
     "iopub.status.busy": "2024-04-03T15:09:30.956104Z",
     "iopub.status.idle": "2024-04-03T15:09:30.966109Z",
     "shell.execute_reply": "2024-04-03T15:09:30.964615Z"
    },
    "papermill": {
     "duration": 0.04946,
     "end_time": "2024-04-03T15:09:30.969326",
     "exception": false,
     "start_time": "2024-04-03T15:09:30.919866",
     "status": "completed"
    },
    "tags": []
   },
   "outputs": [],
   "source": [
    "X = X.drop(['Diameter', 'Whole weight.2', 'Whole weight', 'Whole weight.1'], axis=1)\n",
    "test = test.drop(['Diameter', 'Whole weight.2', 'Whole weight', 'Whole weight.1'], axis=1)"
   ]
  },
  {
   "cell_type": "code",
   "execution_count": 26,
   "id": "3dc565c7",
   "metadata": {
    "execution": {
     "iopub.execute_input": "2024-04-03T15:09:31.039514Z",
     "iopub.status.busy": "2024-04-03T15:09:31.039051Z",
     "iopub.status.idle": "2024-04-03T15:09:31.647154Z",
     "shell.execute_reply": "2024-04-03T15:09:31.645904Z"
    },
    "papermill": {
     "duration": 0.646414,
     "end_time": "2024-04-03T15:09:31.650156",
     "exception": false,
     "start_time": "2024-04-03T15:09:31.003742",
     "status": "completed"
    },
    "tags": []
   },
   "outputs": [
    {
     "data": {
      "image/png": "[encoded data removed]",
      "text/plain": [
       "<Figure size 2000x1600 with 1 Axes>"
      ]
     },
     "metadata": {},
     "output_type": "display_data"
    }
   ],
   "source": [
    "# Training dataset\n",
    "numeric_columns_train = X.select_dtypes(include=np.number)\n",
    "corr_train = numeric_columns_train.corr(method='pearson')\n",
    "mask_train = np.triu(np.ones_like(corr_train))\n",
    "sns.heatmap(corr_train, annot=True, fmt='.2f', mask=mask_train, cmap='summer', cbar=None, linewidth=2)\n",
    "plt.tight_layout()\n",
    "plt.show()"
   ]
  },
  {
   "cell_type": "markdown",
   "id": "7042e5a5",
   "metadata": {
    "papermill": {
     "duration": 0.033477,
     "end_time": "2024-04-03T15:09:31.718465",
     "exception": false,
     "start_time": "2024-04-03T15:09:31.684988",
     "status": "completed"
    },
    "tags": []
   },
   "source": [
    "<a id='12'></a>\n",
    "# <span style=\"color: #3EB489; border-bottom: 6px solid  #20603D; background-color: #fadb8c;\">🐚 Define base models</span>"
   ]
  },
  {
   "cell_type": "code",
   "execution_count": 27,
   "id": "54d8fc0f",
   "metadata": {
    "execution": {
     "iopub.execute_input": "2024-04-03T15:09:31.790619Z",
     "iopub.status.busy": "2024-04-03T15:09:31.789132Z",
     "iopub.status.idle": "2024-04-03T15:09:31.809055Z",
     "shell.execute_reply": "2024-04-03T15:09:31.807975Z"
    },
    "papermill": {
     "duration": 0.058955,
     "end_time": "2024-04-03T15:09:31.811822",
     "exception": false,
     "start_time": "2024-04-03T15:09:31.752867",
     "status": "completed"
    },
    "tags": []
   },
   "outputs": [],
   "source": [
    "# Split data into train and val\n",
    "X_train, X_val, y_train, y_val = train_test_split(X, y, test_size=0.2, random_state=27)"
   ]
  },
  {
   "cell_type": "markdown",
   "id": "08a59961",
   "metadata": {
    "papermill": {
     "duration": 0.033685,
     "end_time": "2024-04-03T15:09:31.879662",
     "exception": false,
     "start_time": "2024-04-03T15:09:31.845977",
     "status": "completed"
    },
    "tags": []
   },
   "source": [
    "![](https://www.foodrepublic.com/img/gallery/what-exactly-is-abalone-and-how-do-you-eat-it/l-intro-1695291935.jpg)"
   ]
  },
  {
   "cell_type": "markdown",
   "id": "684999e0",
   "metadata": {
    "papermill": {
     "duration": 0.035495,
     "end_time": "2024-04-03T15:09:31.949335",
     "exception": false,
     "start_time": "2024-04-03T15:09:31.913840",
     "status": "completed"
    },
    "tags": []
   },
   "source": [
    "## <p style=\"background-image: url(https://www.kaggle.com/competitions/72489/images/header); color: white; font-size: 30px; padding: 5px 5px 5px 5px;\">Random Forest with Optuna</p>"
   ]
  },
  {
   "cell_type": "code",
   "execution_count": 28,
   "id": "a807bdd0",
   "metadata": {
    "execution": {
     "iopub.execute_input": "2024-04-03T15:09:32.021013Z",
     "iopub.status.busy": "2024-04-03T15:09:32.020145Z",
     "iopub.status.idle": "2024-04-03T15:09:32.029865Z",
     "shell.execute_reply": "2024-04-03T15:09:32.028564Z"
    },
    "papermill": {
     "duration": 0.049126,
     "end_time": "2024-04-03T15:09:32.032727",
     "exception": false,
     "start_time": "2024-04-03T15:09:31.983601",
     "status": "completed"
    },
    "tags": []
   },
   "outputs": [
    {
     "data": {
      "text/plain": [
       "'\\nNumber of finished trials:  10\\nBest trial:\\n  Value:  0.164014686713176\\n  Params: \\n    n_estimators: 544\\n    min_samples_leaf: 60\\n    max_depth: 8\\n    min_samples_split: 13\\n\\nCPU times: user 6min 35s, sys: 276 ms, total: 6min 35s\\nWall time: 6min 35s\\n'"
      ]
     },
     "execution_count": 28,
     "metadata": {},
     "output_type": "execute_result"
    }
   ],
   "source": [
    "# %%time\n",
    "# def objective(trial):\n",
    "#     model = RandomForestRegressor(\n",
    "#         n_estimators=trial.suggest_int(\"n_estimators\", 100, 1000),\n",
    "# #         criterion=trial.suggest_categorical(\"criterion\", ['poisson', 'absolute_error', 'friedman_mse', 'squared_error']),\n",
    "#         min_samples_leaf=trial.suggest_int(\"min_samples_leaf\", 1, 100),\n",
    "#         max_depth=trial.suggest_int(\"max_depth\", 1, 100),\n",
    "#         min_samples_split=trial.suggest_int(\"min_samples_split\", 2, 100),\n",
    "#         random_state=27\n",
    "#     )\n",
    "#     model.fit(X_train, y_train)\n",
    "#     y_pred = model.predict(X_test)\n",
    "#     return np.sqrt(mean_squared_log_error(y_test, y_pred))\n",
    "\n",
    "\n",
    "# X_train, X_test, y_train, y_test = train_test_split(X, y, test_size=0.2, random_state=27)\n",
    "\n",
    "# optuna.logging.set_verbosity(optuna.logging.WARNING)\n",
    "\n",
    "# sampler = TPESampler(seed=27)\n",
    "# study = optuna.create_study(study_name=\"random_forest\", direction=\"maximize\", sampler=sampler)\n",
    "# study.optimize(objective, n_trials=10)\n",
    "\n",
    "# print(\"Number of finished trials: \", len(study.trials))\n",
    "# print(\"Best trial:\")\n",
    "# trial = study.best_trial\n",
    "# print(\"  Value: \", trial.value)\n",
    "# print(\"  Params: \")\n",
    "# for key, value in trial.params.items():\n",
    "#     print(f\"    {key}: {value}\")\n",
    "# print()\n",
    "\n",
    "\"\"\"\n",
    "Number of finished trials:  10\n",
    "Best trial:\n",
    "  Value:  0.164014686713176\n",
    "  Params: \n",
    "    n_estimators: 544\n",
    "    min_samples_leaf: 60\n",
    "    max_depth: 8\n",
    "    min_samples_split: 13\n",
    "\n",
    "CPU times: user 6min 35s, sys: 276 ms, total: 6min 35s\n",
    "Wall time: 6min 35s\n",
    "\"\"\""
   ]
  },
  {
   "cell_type": "markdown",
   "id": "607de186",
   "metadata": {
    "papermill": {
     "duration": 0.033725,
     "end_time": "2024-04-03T15:09:32.100770",
     "exception": false,
     "start_time": "2024-04-03T15:09:32.067045",
     "status": "completed"
    },
    "tags": []
   },
   "source": [
    "## <p style=\"background-image: url(https://www.kaggle.com/competitions/72489/images/header); color: white; font-size: 30px; padding: 5px 5px 5px 5px\">XGBoost with Optuna</p>"
   ]
  },
  {
   "cell_type": "code",
   "execution_count": 29,
   "id": "d2f9e6a3",
   "metadata": {
    "execution": {
     "iopub.execute_input": "2024-04-03T15:09:32.174792Z",
     "iopub.status.busy": "2024-04-03T15:09:32.173964Z",
     "iopub.status.idle": "2024-04-03T15:09:32.184393Z",
     "shell.execute_reply": "2024-04-03T15:09:32.183075Z"
    },
    "papermill": {
     "duration": 0.050244,
     "end_time": "2024-04-03T15:09:32.187455",
     "exception": false,
     "start_time": "2024-04-03T15:09:32.137211",
     "status": "completed"
    },
    "tags": []
   },
   "outputs": [
    {
     "data": {
      "text/plain": [
       "'\\nNumber of finished trials:  1\\nBest trial:\\n  Value:  0.1775845058982026\\n  Params: \\n    max_depth: 43\\n    learning_rate: 0.42576257222865277\\n    n_estimators: 749\\n    min_child_weight: 9\\n    gamma: 1.1669337024772915e-05\\n    subsample: 0.9097315662154742\\n    colsample_bytree: 0.6114890625963008\\n    reg_alpha: 4.761254082318455e-07\\n    reg_lambda: 0.008602430632882225\\n\\nCPU times: user 24.5 s, sys: 667 ms, total: 25.2 s\\nWall time: 25.2 s\\n'"
      ]
     },
     "execution_count": 29,
     "metadata": {},
     "output_type": "execute_result"
    }
   ],
   "source": [
    "# %%time\n",
    "# def objective(trial):\n",
    "#     model = XGBRegressor(\n",
    "#         max_depth=trial.suggest_int('max_depth', 1, 100),\n",
    "#         learning_rate=trial.suggest_float('learning_rate', 0.01, 1.0, log=True),\n",
    "#         n_estimators=trial.suggest_int('n_estimators', 50, 1000),\n",
    "#         min_child_weight=trial.suggest_int('min_child_weight', 1, 10),\n",
    "#         gamma=trial.suggest_float('gamma', 1e-8, 1.0, log=True),\n",
    "#         subsample=trial.suggest_float('subsample', 0.01, 1.0, log=True),\n",
    "#         colsample_bytree=trial.suggest_float('colsample_bytree', 0.01, 1.0, log=True),\n",
    "#         reg_alpha=trial.suggest_float('reg_alpha', 1e-8, 1.0, log=True),\n",
    "#         reg_lambda=trial.suggest_float('reg_lambda', 1e-8, 1.0, log=True),\n",
    "#         use_label_encoder=False,\n",
    "#         random_state=27\n",
    "#     )\n",
    "#     model.fit(X_train, y_train)\n",
    "#     y_pred = model.predict(X_test)\n",
    "#     try:\n",
    "#         return np.sqrt(mean_squared_log_error(y_test, y_pred))\n",
    "#     except Exception as e:\n",
    "#         print(e)\n",
    "\n",
    "\n",
    "# X_train, X_test, y_train, y_test = train_test_split(X, y, test_size=0.2, random_state=27)\n",
    "\n",
    "# optuna.logging.set_verbosity(optuna.logging.WARNING)\n",
    "\n",
    "# sampler = TPESampler(seed=27)\n",
    "# study = optuna.create_study(study_name=\"xgb\", direction=\"maximize\", sampler=sampler)\n",
    "# study.optimize(objective, n_trials=20)\n",
    "\n",
    "# print(\"Number of finished trials: \", len(study.trials))\n",
    "# print(\"Best trial:\")\n",
    "# trial = study.best_trial\n",
    "# print(\"  Value: \", trial.value)\n",
    "# print(\"  Params: \")\n",
    "# for key, value in trial.params.items():\n",
    "#     print(f\"    {key}: {value}\")\n",
    "# print()\n",
    "\n",
    "\"\"\"\n",
    "Number of finished trials:  1\n",
    "Best trial:\n",
    "  Value:  0.1775845058982026\n",
    "  Params: \n",
    "    max_depth: 43\n",
    "    learning_rate: 0.42576257222865277\n",
    "    n_estimators: 749\n",
    "    min_child_weight: 9\n",
    "    gamma: 1.1669337024772915e-05\n",
    "    subsample: 0.9097315662154742\n",
    "    colsample_bytree: 0.6114890625963008\n",
    "    reg_alpha: 4.761254082318455e-07\n",
    "    reg_lambda: 0.008602430632882225\n",
    "\n",
    "CPU times: user 24.5 s, sys: 667 ms, total: 25.2 s\n",
    "Wall time: 25.2 s\n",
    "\"\"\""
   ]
  },
  {
   "cell_type": "code",
   "execution_count": 30,
   "id": "0d761dd9",
   "metadata": {
    "execution": {
     "iopub.execute_input": "2024-04-03T15:09:32.261870Z",
     "iopub.status.busy": "2024-04-03T15:09:32.261420Z",
     "iopub.status.idle": "2024-04-03T15:09:32.269481Z",
     "shell.execute_reply": "2024-04-03T15:09:32.268312Z"
    },
    "papermill": {
     "duration": 0.048943,
     "end_time": "2024-04-03T15:09:32.271892",
     "exception": false,
     "start_time": "2024-04-03T15:09:32.222949",
     "status": "completed"
    },
    "tags": []
   },
   "outputs": [
    {
     "data": {
      "text/plain": [
       "\"\\nBest params: {'n_estimators': 395, 'max_depth': 6, 'learning_rate': 0.01}\\n\""
      ]
     },
     "execution_count": 30,
     "metadata": {},
     "output_type": "execute_result"
    }
   ],
   "source": [
    "# %%time\n",
    "# # Searching for best parameters of XGBoost\n",
    "# from sklearn.model_selection import RandomizedSearchCV\n",
    "\n",
    "# xgb_regressor = XGBRegressor(random_state=27)\n",
    "\n",
    "# xgb_parameters = {\n",
    "#     'n_estimators': range(5, 1001, 10),\n",
    "#     'learning_rate': [0.001, 0.05, 0.01],\n",
    "#     'max_depth': range(2, 100, 4),\n",
    "# }\n",
    "\n",
    "# xgb_random_search = RandomizedSearchCV(estimator=xgb_regressor, param_distributions=xgb_parameters, n_iter=20, n_jobs=-1, cv=5, verbose=4, random_state=27)\n",
    "# xgb_random_search.fit(X_val, y_val)\n",
    "# print(f'Best params: {xgb_random_search.best_params_}')\n",
    "\n",
    "\"\"\"\n",
    "Best params: {'n_estimators': 395, 'max_depth': 6, 'learning_rate': 0.01}\n",
    "\"\"\""
   ]
  },
  {
   "cell_type": "markdown",
   "id": "261db13c",
   "metadata": {
    "papermill": {
     "duration": 0.033934,
     "end_time": "2024-04-03T15:09:32.339901",
     "exception": false,
     "start_time": "2024-04-03T15:09:32.305967",
     "status": "completed"
    },
    "tags": []
   },
   "source": [
    "#### I found that XGBoost in this competition can't work with negative targets when it is looking for model that fitting with metrics"
   ]
  },
  {
   "cell_type": "markdown",
   "id": "929f276f",
   "metadata": {
    "papermill": {
     "duration": 0.035397,
     "end_time": "2024-04-03T15:09:32.409540",
     "exception": false,
     "start_time": "2024-04-03T15:09:32.374143",
     "status": "completed"
    },
    "tags": []
   },
   "source": [
    "## <p style=\"background-image: url(https://www.kaggle.com/competitions/72489/images/header); color: white; font-size: 30px; padding: 5px 5px 5px 5px\">CatBoost with Optuna</p>"
   ]
  },
  {
   "cell_type": "code",
   "execution_count": 31,
   "id": "337a4210",
   "metadata": {
    "execution": {
     "iopub.execute_input": "2024-04-03T15:09:32.486769Z",
     "iopub.status.busy": "2024-04-03T15:09:32.485133Z",
     "iopub.status.idle": "2024-04-03T15:09:32.495078Z",
     "shell.execute_reply": "2024-04-03T15:09:32.493846Z"
    },
    "papermill": {
     "duration": 0.051213,
     "end_time": "2024-04-03T15:09:32.498008",
     "exception": false,
     "start_time": "2024-04-03T15:09:32.446795",
     "status": "completed"
    },
    "tags": []
   },
   "outputs": [
    {
     "data": {
      "text/plain": [
       "'\\nNumber of finished trials:  20\\nBest trial:\\n  Value:  0.27250015755480833\\n  Params: \\n    iterations: 101\\n    learning_rate: 0.0010172906333606835\\n    colsample_bylevel: 0.4796381789116622\\n    min_data_in_leaf: 42\\n    depth: 13\\n    l2_leaf_reg: 2.895211427077531e-08\\n\\nCPU times: user 18min 10s, sys: 9min 21s, total: 27min 31s\\nWall time: 13min 5s\\n'"
      ]
     },
     "execution_count": 31,
     "metadata": {},
     "output_type": "execute_result"
    }
   ],
   "source": [
    "# %%time\n",
    "# def objective(trial):\n",
    "#     model = CatBoostRegressor(\n",
    "#         iterations=trial.suggest_int(\"iterations\", 100, 1000),\n",
    "#         learning_rate=trial.suggest_float(\"learning_rate\", 1e-3, 1e-1, log=True),\n",
    "#         colsample_bylevel=trial.suggest_float(\"colsample_bylevel\", 0.05, 1.0),\n",
    "#         min_data_in_leaf=trial.suggest_int(\"min_data_in_leaf\", 1, 100),\n",
    "#         depth=trial.suggest_int(\"depth\", 4, 16),\n",
    "#         l2_leaf_reg=trial.suggest_float(\"l2_leaf_reg\", 1e-8, 100.0, log=True),\n",
    "#         verbose=False,\n",
    "#         random_state=27\n",
    "#     )\n",
    "#     model.fit(X_train, y_train)\n",
    "#     y_pred = model.predict(X_test)\n",
    "#     return np.sqrt(mean_squared_log_error(y_test, y_pred))\n",
    "\n",
    "\n",
    "# X_train, X_test, y_train, y_test = train_test_split(X, y, test_size=0.2, random_state=27)\n",
    "\n",
    "# optuna.logging.set_verbosity(optuna.logging.WARNING)\n",
    "\n",
    "# sampler = TPESampler(seed=27)\n",
    "# study = optuna.create_study(study_name=\"catboost\", direction=\"maximize\", sampler=sampler)\n",
    "# study.optimize(objective, n_trials=20)\n",
    "\n",
    "# print(\"Number of finished trials: \", len(study.trials))\n",
    "# print(\"Best trial:\")\n",
    "# trial = study.best_trial\n",
    "# print(\"  Value: \", trial.value)\n",
    "# print(\"  Params: \")\n",
    "\n",
    "# for key, value in trial.params.items():\n",
    "#     print(f\"    {key}: {value}\")\n",
    "# print()\n",
    "\n",
    "\"\"\"\n",
    "Number of finished trials:  20\n",
    "Best trial:\n",
    "  Value:  0.27250015755480833\n",
    "  Params: \n",
    "    iterations: 101\n",
    "    learning_rate: 0.0010172906333606835\n",
    "    colsample_bylevel: 0.4796381789116622\n",
    "    min_data_in_leaf: 42\n",
    "    depth: 13\n",
    "    l2_leaf_reg: 2.895211427077531e-08\n",
    "\n",
    "CPU times: user 18min 10s, sys: 9min 21s, total: 27min 31s\n",
    "Wall time: 13min 5s\n",
    "\"\"\""
   ]
  },
  {
   "cell_type": "markdown",
   "id": "94e96726",
   "metadata": {
    "papermill": {
     "duration": 0.035851,
     "end_time": "2024-04-03T15:09:32.570959",
     "exception": false,
     "start_time": "2024-04-03T15:09:32.535108",
     "status": "completed"
    },
    "tags": []
   },
   "source": [
    "## <p style=\"background-image: url(https://www.kaggle.com/competitions/72489/images/header); color: white; font-size: 30px; padding: 5px 5px 5px 5px\">LightGBM with Optuna</p>"
   ]
  },
  {
   "cell_type": "code",
   "execution_count": 32,
   "id": "f9bd4c1c",
   "metadata": {
    "execution": {
     "iopub.execute_input": "2024-04-03T15:09:32.644232Z",
     "iopub.status.busy": "2024-04-03T15:09:32.643818Z",
     "iopub.status.idle": "2024-04-03T15:09:32.652418Z",
     "shell.execute_reply": "2024-04-03T15:09:32.651396Z"
    },
    "papermill": {
     "duration": 0.048657,
     "end_time": "2024-04-03T15:09:32.654852",
     "exception": false,
     "start_time": "2024-04-03T15:09:32.606195",
     "status": "completed"
    },
    "tags": []
   },
   "outputs": [
    {
     "data": {
      "text/plain": [
       "'\\nNumber of finished trials:  20\\nBest trial:\\n  Value:  0.9971664373669932\\n  Params: \\n    n_estimators: 676\\n    max_depth: 100\\n    learning_rate: 0.0010257989336468524\\n    boosting_type: dart\\n    num_leaves: 37\\n    min_child_samples: 22\\n\\nCPU times: user 38min 41s, sys: 5.25 s, total: 38min 47s\\nWall time: 38min 50s\\n'"
      ]
     },
     "execution_count": 32,
     "metadata": {},
     "output_type": "execute_result"
    }
   ],
   "source": [
    "# %%time\n",
    "# def objective(trial):\n",
    "#     model = LGBMRegressor(\n",
    "#         n_estimators=trial.suggest_int(\"n_estimators\", 100, 1000),\n",
    "#         max_depth=trial.suggest_int(\"max_depth\", 1, 100),\n",
    "#         learning_rate=trial.suggest_float(\"learning_rate\", 1e-3, 1e-1, log=True),\n",
    "#         verbosity=-1,\n",
    "#         boosting_type=trial.suggest_categorical('boosting_type', ['gbdt', 'dart']),\n",
    "#         num_leaves=trial.suggest_int('num_leaves', 2, 256),\n",
    "#         min_child_samples=trial.suggest_int('min_child_samples', 5, 100),\n",
    "#         random_state=27\n",
    "#     )\n",
    "#     model.fit(X_train, y_train)\n",
    "#     y_pred = model.predict(X_test)\n",
    "#     return np.sqrt(mean_squared_log_error(y_test, y_pred))\n",
    "\n",
    "\n",
    "# X_train, X_test, y_train, y_test = train_test_split(X, y, test_size=0.2, random_state=27)\n",
    "\n",
    "# optuna.logging.set_verbosity(optuna.logging.WARNING)\n",
    "\n",
    "# sampler = TPESampler(seed=27)\n",
    "# study = optuna.create_study(study_name=\"lgbm\", direction=\"maximize\", sampler=sampler)\n",
    "# study.optimize(objective, n_trials=20)\n",
    "\n",
    "# print(\"Number of finished trials: \", len(study.trials))\n",
    "# print(\"Best trial:\")\n",
    "# trial = study.best_trial\n",
    "# print(\"  Value: \", trial.value)\n",
    "# print(\"  Params: \")\n",
    "# for key, value in trial.params.items():\n",
    "#     print(f\"    {key}: {value}\")\n",
    "# print()\n",
    "\n",
    "\"\"\"\n",
    "Number of finished trials:  20\n",
    "Best trial:\n",
    "  Value:  0.9971664373669932\n",
    "  Params: \n",
    "    n_estimators: 676\n",
    "    max_depth: 100\n",
    "    learning_rate: 0.0010257989336468524\n",
    "    boosting_type: dart\n",
    "    num_leaves: 37\n",
    "    min_child_samples: 22\n",
    "\n",
    "CPU times: user 38min 41s, sys: 5.25 s, total: 38min 47s\n",
    "Wall time: 38min 50s\n",
    "\"\"\""
   ]
  },
  {
   "cell_type": "code",
   "execution_count": 33,
   "id": "45e36d54",
   "metadata": {
    "execution": {
     "iopub.execute_input": "2024-04-03T15:09:32.727783Z",
     "iopub.status.busy": "2024-04-03T15:09:32.727077Z",
     "iopub.status.idle": "2024-04-03T15:09:32.738076Z",
     "shell.execute_reply": "2024-04-03T15:09:32.736959Z"
    },
    "papermill": {
     "duration": 0.05012,
     "end_time": "2024-04-03T15:09:32.740574",
     "exception": false,
     "start_time": "2024-04-03T15:09:32.690454",
     "status": "completed"
    },
    "tags": []
   },
   "outputs": [],
   "source": [
    "base_models = [\n",
    "    ('XGBoost', XGBRegressor(\n",
    "        n_estimators=395, \n",
    "        max_depth=6,\n",
    "        learning_rate=0.01,\n",
    "        random_state=27\n",
    "    )),\n",
    "    ('LightGBM', LGBMRegressor(\n",
    "        n_estimators=676,\n",
    "        max_depth=100,\n",
    "        learning_rate=0.0010257989336468524,\n",
    "        boosting_type='dart',\n",
    "        num_leaves=37,\n",
    "        min_child_samples=22,\n",
    "        random_state=27\n",
    "    )),\n",
    "    ('Catboost', CatBoostRegressor(\n",
    "        iterations=101,\n",
    "        learning_rate=0.0010172906333606835,\n",
    "        colsample_bylevel=0.4796381789116622,\n",
    "        min_data_in_leaf=42,\n",
    "        depth=13,\n",
    "        l2_leaf_reg=2.895211427077531e-08,\n",
    "        random_state=27\n",
    "    )),\n",
    "]"
   ]
  },
  {
   "cell_type": "markdown",
   "id": "eb86d0b5",
   "metadata": {
    "papermill": {
     "duration": 0.037166,
     "end_time": "2024-04-03T15:09:32.813928",
     "exception": false,
     "start_time": "2024-04-03T15:09:32.776762",
     "status": "completed"
    },
    "tags": []
   },
   "source": [
    "![](https://www.frdc.com.au/sites/default/files/fish-magazine/images/fish-vol-26-2/P26_fi_abalone_diving_Yazbeck-Pic-(1).jpg?la=en&hash=2A20AECD5AF45A98BA91D7B78B402ABB4781D789)"
   ]
  },
  {
   "cell_type": "markdown",
   "id": "a5539757",
   "metadata": {
    "papermill": {
     "duration": 0.035606,
     "end_time": "2024-04-03T15:09:32.886771",
     "exception": false,
     "start_time": "2024-04-03T15:09:32.851165",
     "status": "completed"
    },
    "tags": []
   },
   "source": [
    "<a id='13'></a>\n",
    "# <span style=\"color: #3EB489; border-bottom: 6px solid  #20603D; background-color: #fadb8c;\">⛵ Defining the meta-model</span>"
   ]
  },
  {
   "cell_type": "code",
   "execution_count": 34,
   "id": "1f8a448e",
   "metadata": {
    "execution": {
     "iopub.execute_input": "2024-04-03T15:09:32.959717Z",
     "iopub.status.busy": "2024-04-03T15:09:32.958902Z",
     "iopub.status.idle": "2024-04-03T15:09:32.964120Z",
     "shell.execute_reply": "2024-04-03T15:09:32.962980Z"
    },
    "papermill": {
     "duration": 0.045018,
     "end_time": "2024-04-03T15:09:32.966685",
     "exception": false,
     "start_time": "2024-04-03T15:09:32.921667",
     "status": "completed"
    },
    "tags": []
   },
   "outputs": [],
   "source": [
    "meta_model = RandomForestRegressor(\n",
    "    n_estimators=544,\n",
    "    min_samples_leaf=60,\n",
    "    max_depth=8,\n",
    "    min_samples_split=13,\n",
    "    random_state=27\n",
    ")"
   ]
  },
  {
   "cell_type": "markdown",
   "id": "93cf88d0",
   "metadata": {
    "papermill": {
     "duration": 0.035379,
     "end_time": "2024-04-03T15:09:33.037657",
     "exception": false,
     "start_time": "2024-04-03T15:09:33.002278",
     "status": "completed"
    },
    "tags": []
   },
   "source": [
    "<a id='14'></a>\n",
    "# <span style=\"color: #3EB489; border-bottom: 6px solid  #20603D; background-color: #fadb8c;\">🍤 Creating and fitting the stacking model"
   ]
  },
  {
   "cell_type": "code",
   "execution_count": 35,
   "id": "a2e9a952",
   "metadata": {
    "_kg_hide-output": true,
    "execution": {
     "iopub.execute_input": "2024-04-03T15:09:33.111271Z",
     "iopub.status.busy": "2024-04-03T15:09:33.110833Z",
     "iopub.status.idle": "2024-04-03T15:24:23.031054Z",
     "shell.execute_reply": "2024-04-03T15:24:23.029570Z"
    },
    "papermill": {
     "duration": 890.00238,
     "end_time": "2024-04-03T15:24:23.076394",
     "exception": false,
     "start_time": "2024-04-03T15:09:33.074014",
     "status": "completed"
    },
    "tags": []
   },
   "outputs": [
    {
     "name": "stdout",
     "output_type": "stream",
     "text": [
      "[LightGBM] [Warning] Found whitespace in feature_names, replace with underlines\n",
      "[LightGBM] [Info] Auto-choosing col-wise multi-threading, the overhead of testing was 0.008287 seconds.\n",
      "You can set `force_col_wise=true` to remove the overhead.\n",
      "[LightGBM] [Info] Total Bins 458\n",
      "[LightGBM] [Info] Number of data points in the train set: 94792, number of used features: 5\n",
      "[LightGBM] [Info] Start training from score 9.707233\n",
      "0:\tlearn: 3.1774177\ttotal: 66.2ms\tremaining: 6.62s\n",
      "1:\tlearn: 3.1757016\ttotal: 165ms\tremaining: 8.17s\n",
      "2:\tlearn: 3.1740786\ttotal: 184ms\tremaining: 6.01s\n",
      "3:\tlearn: 3.1725279\ttotal: 195ms\tremaining: 4.74s\n",
      "4:\tlearn: 3.1709004\ttotal: 219ms\tremaining: 4.21s\n",
      "5:\tlearn: 3.1692292\ttotal: 244ms\tremaining: 3.86s\n",
      "6:\tlearn: 3.1675962\ttotal: 272ms\tremaining: 3.66s\n",
      "7:\tlearn: 3.1659191\ttotal: 308ms\tremaining: 3.58s\n",
      "8:\tlearn: 3.1643231\ttotal: 331ms\tremaining: 3.38s\n",
      "9:\tlearn: 3.1626823\ttotal: 355ms\tremaining: 3.23s\n",
      "10:\tlearn: 3.1610553\ttotal: 369ms\tremaining: 3.02s\n",
      "11:\tlearn: 3.1593641\ttotal: 400ms\tremaining: 2.97s\n",
      "12:\tlearn: 3.1578541\ttotal: 410ms\tremaining: 2.77s\n",
      "13:\tlearn: 3.1564530\ttotal: 418ms\tremaining: 2.6s\n",
      "14:\tlearn: 3.1549606\ttotal: 428ms\tremaining: 2.45s\n",
      "15:\tlearn: 3.1532829\ttotal: 468ms\tremaining: 2.49s\n",
      "16:\tlearn: 3.1516378\ttotal: 491ms\tremaining: 2.43s\n",
      "17:\tlearn: 3.1500024\ttotal: 516ms\tremaining: 2.38s\n",
      "18:\tlearn: 3.1491737\ttotal: 521ms\tremaining: 2.25s\n",
      "19:\tlearn: 3.1477789\ttotal: 529ms\tremaining: 2.14s\n",
      "20:\tlearn: 3.1461116\ttotal: 554ms\tremaining: 2.11s\n",
      "21:\tlearn: 3.1444357\ttotal: 598ms\tremaining: 2.15s\n",
      "22:\tlearn: 3.1431237\ttotal: 604ms\tremaining: 2.05s\n",
      "23:\tlearn: 3.1415061\ttotal: 626ms\tremaining: 2.01s\n",
      "24:\tlearn: 3.1398691\ttotal: 669ms\tremaining: 2.03s\n",
      "25:\tlearn: 3.1382254\ttotal: 724ms\tremaining: 2.09s\n",
      "26:\tlearn: 3.1367228\ttotal: 733ms\tremaining: 2.01s\n",
      "27:\tlearn: 3.1350485\ttotal: 790ms\tremaining: 2.06s\n",
      "28:\tlearn: 3.1334298\ttotal: 817ms\tremaining: 2.03s\n",
      "29:\tlearn: 3.1332557\ttotal: 822ms\tremaining: 1.95s\n",
      "30:\tlearn: 3.1317305\ttotal: 834ms\tremaining: 1.88s\n",
      "31:\tlearn: 3.1301747\ttotal: 851ms\tremaining: 1.83s\n",
      "32:\tlearn: 3.1286104\ttotal: 863ms\tremaining: 1.78s\n",
      "33:\tlearn: 3.1274147\ttotal: 869ms\tremaining: 1.71s\n",
      "34:\tlearn: 3.1257711\ttotal: 916ms\tremaining: 1.73s\n",
      "35:\tlearn: 3.1243453\ttotal: 925ms\tremaining: 1.67s\n",
      "36:\tlearn: 3.1227380\ttotal: 970ms\tremaining: 1.68s\n",
      "37:\tlearn: 3.1211176\ttotal: 1.01s\tremaining: 1.67s\n",
      "38:\tlearn: 3.1195228\ttotal: 1.05s\tremaining: 1.66s\n",
      "39:\tlearn: 3.1182178\ttotal: 1.05s\tremaining: 1.61s\n",
      "40:\tlearn: 3.1166452\ttotal: 1.1s\tremaining: 1.6s\n",
      "41:\tlearn: 3.1150834\ttotal: 1.12s\tremaining: 1.57s\n",
      "42:\tlearn: 3.1134655\ttotal: 1.17s\tremaining: 1.57s\n",
      "43:\tlearn: 3.1120283\ttotal: 1.18s\tremaining: 1.52s\n",
      "44:\tlearn: 3.1104815\ttotal: 1.2s\tremaining: 1.49s\n",
      "45:\tlearn: 3.1090671\ttotal: 1.21s\tremaining: 1.44s\n",
      "46:\tlearn: 3.1079395\ttotal: 1.21s\tremaining: 1.39s\n",
      "47:\tlearn: 3.1063062\ttotal: 1.27s\tremaining: 1.4s\n",
      "48:\tlearn: 3.1050925\ttotal: 1.27s\tremaining: 1.35s\n",
      "49:\tlearn: 3.1035173\ttotal: 1.32s\tremaining: 1.34s\n",
      "50:\tlearn: 3.1019535\ttotal: 1.34s\tremaining: 1.31s\n",
      "51:\tlearn: 3.1004063\ttotal: 1.38s\tremaining: 1.3s\n",
      "52:\tlearn: 3.0992139\ttotal: 1.39s\tremaining: 1.25s\n",
      "53:\tlearn: 3.0976793\ttotal: 1.4s\tremaining: 1.22s\n",
      "54:\tlearn: 3.0963067\ttotal: 1.41s\tremaining: 1.18s\n",
      "55:\tlearn: 3.0948071\ttotal: 1.43s\tremaining: 1.15s\n",
      "56:\tlearn: 3.0932050\ttotal: 1.48s\tremaining: 1.15s\n",
      "57:\tlearn: 3.0917292\ttotal: 1.5s\tremaining: 1.11s\n",
      "58:\tlearn: 3.0901178\ttotal: 1.53s\tremaining: 1.09s\n",
      "59:\tlearn: 3.0885334\ttotal: 1.56s\tremaining: 1.07s\n",
      "60:\tlearn: 3.0870423\ttotal: 1.57s\tremaining: 1.03s\n",
      "61:\tlearn: 3.0854164\ttotal: 1.63s\tremaining: 1.02s\n",
      "62:\tlearn: 3.0840532\ttotal: 1.64s\tremaining: 991ms\n",
      "63:\tlearn: 3.0824902\ttotal: 1.7s\tremaining: 984ms\n",
      "64:\tlearn: 3.0808938\ttotal: 1.75s\tremaining: 970ms\n",
      "65:\tlearn: 3.0795391\ttotal: 1.76s\tremaining: 933ms\n",
      "66:\tlearn: 3.0785170\ttotal: 1.76s\tremaining: 896ms\n",
      "67:\tlearn: 3.0770659\ttotal: 1.77s\tremaining: 861ms\n",
      "68:\tlearn: 3.0754965\ttotal: 1.82s\tremaining: 845ms\n",
      "69:\tlearn: 3.0739898\ttotal: 1.83s\tremaining: 813ms\n",
      "70:\tlearn: 3.0726120\ttotal: 1.84s\tremaining: 779ms\n",
      "71:\tlearn: 3.0712686\ttotal: 1.85s\tremaining: 747ms\n",
      "72:\tlearn: 3.0697543\ttotal: 1.88s\tremaining: 720ms\n",
      "73:\tlearn: 3.0683660\ttotal: 1.89s\tremaining: 688ms\n",
      "74:\tlearn: 3.0668228\ttotal: 1.92s\tremaining: 664ms\n",
      "75:\tlearn: 3.0652466\ttotal: 1.97s\tremaining: 648ms\n",
      "76:\tlearn: 3.0636977\ttotal: 2.03s\tremaining: 632ms\n",
      "77:\tlearn: 3.0625464\ttotal: 2.03s\tremaining: 600ms\n",
      "78:\tlearn: 3.0610071\ttotal: 2.07s\tremaining: 576ms\n",
      "79:\tlearn: 3.0594845\ttotal: 2.12s\tremaining: 557ms\n",
      "80:\tlearn: 3.0579438\ttotal: 2.16s\tremaining: 533ms\n",
      "81:\tlearn: 3.0568380\ttotal: 2.17s\tremaining: 502ms\n",
      "82:\tlearn: 3.0553107\ttotal: 2.21s\tremaining: 480ms\n",
      "83:\tlearn: 3.0540246\ttotal: 2.22s\tremaining: 449ms\n",
      "84:\tlearn: 3.0525738\ttotal: 2.24s\tremaining: 421ms\n",
      "85:\tlearn: 3.0512415\ttotal: 2.25s\tremaining: 392ms\n",
      "86:\tlearn: 3.0497751\ttotal: 2.27s\tremaining: 365ms\n",
      "87:\tlearn: 3.0484100\ttotal: 2.28s\tremaining: 337ms\n",
      "88:\tlearn: 3.0468957\ttotal: 2.31s\tremaining: 311ms\n",
      "89:\tlearn: 3.0459051\ttotal: 2.31s\tremaining: 283ms\n",
      "90:\tlearn: 3.0445637\ttotal: 2.32s\tremaining: 255ms\n",
      "91:\tlearn: 3.0431000\ttotal: 2.34s\tremaining: 229ms\n",
      "92:\tlearn: 3.0417247\ttotal: 2.35s\tremaining: 202ms\n",
      "93:\tlearn: 3.0404463\ttotal: 2.36s\tremaining: 176ms\n",
      "94:\tlearn: 3.0397075\ttotal: 2.37s\tremaining: 149ms\n",
      "95:\tlearn: 3.0383906\ttotal: 2.38s\tremaining: 124ms\n",
      "96:\tlearn: 3.0371701\ttotal: 2.38s\tremaining: 98.3ms\n",
      "97:\tlearn: 3.0356542\ttotal: 2.44s\tremaining: 74.7ms\n",
      "98:\tlearn: 3.0341932\ttotal: 2.46s\tremaining: 49.7ms\n",
      "99:\tlearn: 3.0329031\ttotal: 2.47s\tremaining: 24.7ms\n",
      "100:\tlearn: 3.0314271\ttotal: 2.52s\tremaining: 0us\n",
      "[LightGBM] [Warning] Found whitespace in feature_names, replace with underlines\n",
      "[LightGBM] [Info] Auto-choosing col-wise multi-threading, the overhead of testing was 0.008231 seconds.\n",
      "You can set `force_col_wise=true` to remove the overhead.\n",
      "[LightGBM] [Info] Total Bins 454\n",
      "[LightGBM] [Info] Number of data points in the train set: 75833, number of used features: 5\n",
      "[LightGBM] [Info] Start training from score 9.718698\n",
      "[LightGBM] [Warning] Found whitespace in feature_names, replace with underlines\n",
      "[LightGBM] [Info] Auto-choosing col-wise multi-threading, the overhead of testing was 0.008026 seconds.\n",
      "You can set `force_col_wise=true` to remove the overhead.\n",
      "[LightGBM] [Info] Total Bins 453\n",
      "[LightGBM] [Info] Number of data points in the train set: 75833, number of used features: 5\n",
      "[LightGBM] [Info] Start training from score 9.698588\n",
      "[LightGBM] [Warning] Found whitespace in feature_names, replace with underlines\n",
      "[LightGBM] [Info] Auto-choosing col-wise multi-threading, the overhead of testing was 0.008049 seconds.\n",
      "You can set `force_col_wise=true` to remove the overhead.\n",
      "[LightGBM] [Info] Total Bins 453\n",
      "[LightGBM] [Info] Number of data points in the train set: 75834, number of used features: 5\n",
      "[LightGBM] [Info] Start training from score 9.711831\n",
      "[LightGBM] [Warning] Found whitespace in feature_names, replace with underlines\n",
      "[LightGBM] [Info] Auto-choosing col-wise multi-threading, the overhead of testing was 0.008173 seconds.\n",
      "You can set `force_col_wise=true` to remove the overhead.\n",
      "[LightGBM] [Info] Total Bins 455\n",
      "[LightGBM] [Info] Number of data points in the train set: 75834, number of used features: 5\n",
      "[LightGBM] [Info] Start training from score 9.718833\n",
      "[LightGBM] [Warning] Found whitespace in feature_names, replace with underlines\n",
      "[LightGBM] [Info] Auto-choosing col-wise multi-threading, the overhead of testing was 0.008347 seconds.\n",
      "You can set `force_col_wise=true` to remove the overhead.\n",
      "[LightGBM] [Info] Total Bins 452\n",
      "[LightGBM] [Info] Number of data points in the train set: 75834, number of used features: 5\n",
      "[LightGBM] [Info] Start training from score 9.688214\n",
      "0:\tlearn: 3.1782960\ttotal: 6.03ms\tremaining: 603ms\n",
      "1:\tlearn: 3.1766106\ttotal: 65.5ms\tremaining: 3.24s\n",
      "2:\tlearn: 3.1750081\ttotal: 80.7ms\tremaining: 2.64s\n",
      "3:\tlearn: 3.1734372\ttotal: 91.3ms\tremaining: 2.21s\n",
      "4:\tlearn: 3.1717706\ttotal: 133ms\tremaining: 2.54s\n",
      "5:\tlearn: 3.1701297\ttotal: 150ms\tremaining: 2.37s\n",
      "6:\tlearn: 3.1684713\ttotal: 174ms\tremaining: 2.34s\n",
      "7:\tlearn: 3.1668206\ttotal: 203ms\tremaining: 2.36s\n",
      "8:\tlearn: 3.1652373\ttotal: 226ms\tremaining: 2.31s\n",
      "9:\tlearn: 3.1635883\ttotal: 249ms\tremaining: 2.26s\n",
      "10:\tlearn: 3.1619658\ttotal: 263ms\tremaining: 2.15s\n",
      "11:\tlearn: 3.1602851\ttotal: 292ms\tremaining: 2.16s\n",
      "12:\tlearn: 3.1587720\ttotal: 301ms\tremaining: 2.04s\n",
      "13:\tlearn: 3.1573425\ttotal: 307ms\tremaining: 1.91s\n",
      "14:\tlearn: 3.1558590\ttotal: 315ms\tremaining: 1.81s\n",
      "15:\tlearn: 3.1542696\ttotal: 327ms\tremaining: 1.74s\n",
      "16:\tlearn: 3.1526374\ttotal: 367ms\tremaining: 1.81s\n",
      "17:\tlearn: 3.1511673\ttotal: 376ms\tremaining: 1.73s\n",
      "18:\tlearn: 3.1511673\ttotal: 379ms\tremaining: 1.64s\n",
      "19:\tlearn: 3.1497503\ttotal: 385ms\tremaining: 1.56s\n",
      "20:\tlearn: 3.1480579\ttotal: 425ms\tremaining: 1.62s\n",
      "21:\tlearn: 3.1464200\ttotal: 477ms\tremaining: 1.71s\n",
      "22:\tlearn: 3.1448725\ttotal: 491ms\tremaining: 1.66s\n",
      "23:\tlearn: 3.1432032\ttotal: 547ms\tremaining: 1.75s\n",
      "24:\tlearn: 3.1415663\ttotal: 595ms\tremaining: 1.81s\n",
      "25:\tlearn: 3.1399389\ttotal: 647ms\tremaining: 1.87s\n",
      "26:\tlearn: 3.1385266\ttotal: 653ms\tremaining: 1.79s\n",
      "27:\tlearn: 3.1368849\ttotal: 695ms\tremaining: 1.81s\n",
      "28:\tlearn: 3.1353168\ttotal: 707ms\tremaining: 1.75s\n",
      "29:\tlearn: 3.1338276\ttotal: 715ms\tremaining: 1.69s\n",
      "30:\tlearn: 3.1323350\ttotal: 724ms\tremaining: 1.63s\n",
      "31:\tlearn: 3.1311954\ttotal: 728ms\tremaining: 1.57s\n",
      "32:\tlearn: 3.1295479\ttotal: 775ms\tremaining: 1.6s\n",
      "33:\tlearn: 3.1283973\ttotal: 780ms\tremaining: 1.54s\n",
      "34:\tlearn: 3.1269890\ttotal: 786ms\tremaining: 1.48s\n",
      "35:\tlearn: 3.1258043\ttotal: 790ms\tremaining: 1.43s\n",
      "36:\tlearn: 3.1242199\ttotal: 809ms\tremaining: 1.4s\n",
      "37:\tlearn: 3.1226748\ttotal: 819ms\tremaining: 1.36s\n",
      "38:\tlearn: 3.1210902\ttotal: 859ms\tremaining: 1.36s\n",
      "39:\tlearn: 3.1194753\ttotal: 891ms\tremaining: 1.36s\n",
      "40:\tlearn: 3.1179114\ttotal: 925ms\tremaining: 1.35s\n",
      "41:\tlearn: 3.1166186\ttotal: 932ms\tremaining: 1.31s\n",
      "42:\tlearn: 3.1150485\ttotal: 970ms\tremaining: 1.31s\n",
      "43:\tlearn: 3.1135009\ttotal: 984ms\tremaining: 1.27s\n",
      "44:\tlearn: 3.1118846\ttotal: 1.03s\tremaining: 1.28s\n",
      "45:\tlearn: 3.1104902\ttotal: 1.04s\tremaining: 1.24s\n",
      "46:\tlearn: 3.1088797\ttotal: 1.09s\tremaining: 1.25s\n",
      "47:\tlearn: 3.1073644\ttotal: 1.1s\tremaining: 1.21s\n",
      "48:\tlearn: 3.1057605\ttotal: 1.15s\tremaining: 1.22s\n",
      "49:\tlearn: 3.1043281\ttotal: 1.15s\tremaining: 1.18s\n",
      "50:\tlearn: 3.1027061\ttotal: 1.21s\tremaining: 1.19s\n",
      "51:\tlearn: 3.1011089\ttotal: 1.25s\tremaining: 1.18s\n",
      "52:\tlearn: 3.0995545\ttotal: 1.27s\tremaining: 1.15s\n",
      "53:\tlearn: 3.0979379\ttotal: 1.32s\tremaining: 1.15s\n",
      "54:\tlearn: 3.0965345\ttotal: 1.33s\tremaining: 1.11s\n",
      "55:\tlearn: 3.0949313\ttotal: 1.37s\tremaining: 1.1s\n",
      "56:\tlearn: 3.0935997\ttotal: 1.38s\tremaining: 1.07s\n",
      "57:\tlearn: 3.0922168\ttotal: 1.39s\tremaining: 1.03s\n",
      "58:\tlearn: 3.0906343\ttotal: 1.44s\tremaining: 1.02s\n",
      "59:\tlearn: 3.0890619\ttotal: 1.46s\tremaining: 996ms\n",
      "60:\tlearn: 3.0875036\ttotal: 1.48s\tremaining: 974ms\n",
      "61:\tlearn: 3.0861226\ttotal: 1.49s\tremaining: 939ms\n",
      "62:\tlearn: 3.0845359\ttotal: 1.53s\tremaining: 926ms\n",
      "63:\tlearn: 3.0829848\ttotal: 1.58s\tremaining: 915ms\n",
      "64:\tlearn: 3.0814715\ttotal: 1.6s\tremaining: 885ms\n",
      "65:\tlearn: 3.0800861\ttotal: 1.61s\tremaining: 852ms\n",
      "66:\tlearn: 3.0787131\ttotal: 1.61s\tremaining: 819ms\n",
      "67:\tlearn: 3.0774802\ttotal: 1.62s\tremaining: 786ms\n",
      "68:\tlearn: 3.0760620\ttotal: 1.63s\tremaining: 757ms\n",
      "69:\tlearn: 3.0746825\ttotal: 1.64s\tremaining: 726ms\n",
      "70:\tlearn: 3.0732525\ttotal: 1.65s\tremaining: 696ms\n",
      "71:\tlearn: 3.0718819\ttotal: 1.66s\tremaining: 667ms\n",
      "72:\tlearn: 3.0705875\ttotal: 1.66s\tremaining: 637ms\n",
      "73:\tlearn: 3.0692438\ttotal: 1.67s\tremaining: 609ms\n",
      "74:\tlearn: 3.0677406\ttotal: 1.69s\tremaining: 585ms\n",
      "75:\tlearn: 3.0663620\ttotal: 1.69s\tremaining: 557ms\n",
      "76:\tlearn: 3.0648252\ttotal: 1.72s\tremaining: 536ms\n",
      "77:\tlearn: 3.0632514\ttotal: 1.78s\tremaining: 525ms\n",
      "78:\tlearn: 3.0617382\ttotal: 1.84s\tremaining: 511ms\n",
      "79:\tlearn: 3.0606025\ttotal: 1.84s\tremaining: 483ms\n",
      "80:\tlearn: 3.0590741\ttotal: 1.87s\tremaining: 461ms\n",
      "81:\tlearn: 3.0575395\ttotal: 1.93s\tremaining: 446ms\n",
      "82:\tlearn: 3.0560262\ttotal: 1.95s\tremaining: 424ms\n",
      "83:\tlearn: 3.0549228\ttotal: 1.96s\tremaining: 397ms\n",
      "84:\tlearn: 3.0533719\ttotal: 2s\tremaining: 377ms\n",
      "85:\tlearn: 3.0520954\ttotal: 2.01s\tremaining: 350ms\n",
      "86:\tlearn: 3.0506287\ttotal: 2.04s\tremaining: 329ms\n",
      "87:\tlearn: 3.0491071\ttotal: 2.1s\tremaining: 310ms\n",
      "88:\tlearn: 3.0477723\ttotal: 2.1s\tremaining: 284ms\n",
      "89:\tlearn: 3.0465072\ttotal: 2.11s\tremaining: 258ms\n",
      "90:\tlearn: 3.0450120\ttotal: 2.13s\tremaining: 235ms\n",
      "91:\tlearn: 3.0440339\ttotal: 2.14s\tremaining: 209ms\n",
      "92:\tlearn: 3.0426919\ttotal: 2.15s\tremaining: 185ms\n",
      "93:\tlearn: 3.0412726\ttotal: 2.16s\tremaining: 161ms\n",
      "94:\tlearn: 3.0397845\ttotal: 2.18s\tremaining: 137ms\n",
      "95:\tlearn: 3.0387093\ttotal: 2.18s\tremaining: 114ms\n",
      "96:\tlearn: 3.0377085\ttotal: 2.18s\tremaining: 90.1ms\n",
      "97:\tlearn: 3.0364010\ttotal: 2.19s\tremaining: 67.1ms\n",
      "98:\tlearn: 3.0351863\ttotal: 2.2s\tremaining: 44.4ms\n",
      "99:\tlearn: 3.0336730\ttotal: 2.25s\tremaining: 22.5ms\n",
      "100:\tlearn: 3.0322206\ttotal: 2.27s\tremaining: 0us\n",
      "0:\tlearn: 3.1655233\ttotal: 7.32ms\tremaining: 732ms\n",
      "1:\tlearn: 3.1638027\ttotal: 58.5ms\tremaining: 2.9s\n",
      "2:\tlearn: 3.1621833\ttotal: 73.4ms\tremaining: 2.4s\n",
      "3:\tlearn: 3.1606442\ttotal: 82.9ms\tremaining: 2.01s\n",
      "4:\tlearn: 3.1590205\ttotal: 102ms\tremaining: 1.96s\n",
      "5:\tlearn: 3.1573563\ttotal: 125ms\tremaining: 1.97s\n",
      "6:\tlearn: 3.1557032\ttotal: 148ms\tremaining: 1.99s\n",
      "7:\tlearn: 3.1540170\ttotal: 174ms\tremaining: 2.03s\n",
      "8:\tlearn: 3.1523982\ttotal: 196ms\tremaining: 2s\n",
      "9:\tlearn: 3.1507546\ttotal: 216ms\tremaining: 1.96s\n",
      "10:\tlearn: 3.1491256\ttotal: 228ms\tremaining: 1.86s\n",
      "11:\tlearn: 3.1474578\ttotal: 255ms\tremaining: 1.89s\n",
      "12:\tlearn: 3.1458858\ttotal: 263ms\tremaining: 1.78s\n",
      "13:\tlearn: 3.1444580\ttotal: 270ms\tremaining: 1.68s\n",
      "14:\tlearn: 3.1429840\ttotal: 278ms\tremaining: 1.59s\n",
      "15:\tlearn: 3.1412983\ttotal: 315ms\tremaining: 1.67s\n",
      "16:\tlearn: 3.1396765\ttotal: 335ms\tremaining: 1.66s\n",
      "17:\tlearn: 3.1380341\ttotal: 358ms\tremaining: 1.65s\n",
      "18:\tlearn: 3.1372119\ttotal: 362ms\tremaining: 1.56s\n",
      "19:\tlearn: 3.1358122\ttotal: 368ms\tremaining: 1.49s\n",
      "20:\tlearn: 3.1341595\ttotal: 391ms\tremaining: 1.49s\n",
      "21:\tlearn: 3.1325471\ttotal: 413ms\tremaining: 1.48s\n",
      "22:\tlearn: 3.1310887\ttotal: 420ms\tremaining: 1.42s\n",
      "23:\tlearn: 3.1294327\ttotal: 465ms\tremaining: 1.49s\n",
      "24:\tlearn: 3.1283816\ttotal: 469ms\tremaining: 1.42s\n",
      "25:\tlearn: 3.1269072\ttotal: 476ms\tremaining: 1.37s\n",
      "26:\tlearn: 3.1252377\ttotal: 520ms\tremaining: 1.42s\n",
      "27:\tlearn: 3.1237658\ttotal: 528ms\tremaining: 1.38s\n",
      "28:\tlearn: 3.1221787\ttotal: 543ms\tremaining: 1.35s\n",
      "29:\tlearn: 3.1205230\ttotal: 591ms\tremaining: 1.4s\n",
      "30:\tlearn: 3.1190376\ttotal: 599ms\tremaining: 1.35s\n",
      "31:\tlearn: 3.1176006\ttotal: 608ms\tremaining: 1.31s\n",
      "32:\tlearn: 3.1159584\ttotal: 655ms\tremaining: 1.35s\n",
      "33:\tlearn: 3.1148129\ttotal: 659ms\tremaining: 1.3s\n",
      "34:\tlearn: 3.1134140\ttotal: 665ms\tremaining: 1.25s\n",
      "35:\tlearn: 3.1122215\ttotal: 671ms\tremaining: 1.21s\n",
      "36:\tlearn: 3.1106306\ttotal: 706ms\tremaining: 1.22s\n",
      "37:\tlearn: 3.1092165\ttotal: 713ms\tremaining: 1.18s\n",
      "38:\tlearn: 3.1076564\ttotal: 754ms\tremaining: 1.2s\n",
      "39:\tlearn: 3.1060587\ttotal: 789ms\tremaining: 1.2s\n",
      "40:\tlearn: 3.1044998\ttotal: 823ms\tremaining: 1.2s\n",
      "41:\tlearn: 3.1032051\ttotal: 829ms\tremaining: 1.16s\n",
      "42:\tlearn: 3.1016422\ttotal: 867ms\tremaining: 1.17s\n",
      "43:\tlearn: 3.1001702\ttotal: 881ms\tremaining: 1.14s\n",
      "44:\tlearn: 3.0985538\ttotal: 927ms\tremaining: 1.15s\n",
      "45:\tlearn: 3.0971373\ttotal: 935ms\tremaining: 1.12s\n",
      "46:\tlearn: 3.0955276\ttotal: 984ms\tremaining: 1.13s\n",
      "47:\tlearn: 3.0940342\ttotal: 992ms\tremaining: 1.09s\n",
      "48:\tlearn: 3.0924292\ttotal: 1.04s\tremaining: 1.11s\n",
      "49:\tlearn: 3.0908452\ttotal: 1.09s\tremaining: 1.12s\n",
      "50:\tlearn: 3.0893059\ttotal: 1.12s\tremaining: 1.1s\n",
      "51:\tlearn: 3.0893059\ttotal: 1.12s\tremaining: 1.06s\n",
      "52:\tlearn: 3.0876977\ttotal: 1.17s\tremaining: 1.06s\n",
      "53:\tlearn: 3.0861032\ttotal: 1.22s\tremaining: 1.06s\n",
      "54:\tlearn: 3.0846043\ttotal: 1.23s\tremaining: 1.03s\n",
      "55:\tlearn: 3.0830077\ttotal: 1.28s\tremaining: 1.03s\n",
      "56:\tlearn: 3.0814388\ttotal: 1.34s\tremaining: 1.03s\n",
      "57:\tlearn: 3.0798596\ttotal: 1.38s\tremaining: 1.02s\n",
      "58:\tlearn: 3.0784976\ttotal: 1.39s\tremaining: 990ms\n",
      "59:\tlearn: 3.0769155\ttotal: 1.44s\tremaining: 985ms\n",
      "60:\tlearn: 3.0754883\ttotal: 1.45s\tremaining: 952ms\n",
      "61:\tlearn: 3.0738806\ttotal: 1.5s\tremaining: 943ms\n",
      "62:\tlearn: 3.0725696\ttotal: 1.51s\tremaining: 909ms\n",
      "63:\tlearn: 3.0710546\ttotal: 1.52s\tremaining: 881ms\n",
      "64:\tlearn: 3.0695499\ttotal: 1.54s\tremaining: 854ms\n",
      "65:\tlearn: 3.0681274\ttotal: 1.55s\tremaining: 822ms\n",
      "66:\tlearn: 3.0670403\ttotal: 1.56s\tremaining: 790ms\n",
      "67:\tlearn: 3.0661603\ttotal: 1.56s\tremaining: 757ms\n",
      "68:\tlearn: 3.0646320\ttotal: 1.58s\tremaining: 735ms\n",
      "69:\tlearn: 3.0632997\ttotal: 1.59s\tremaining: 706ms\n",
      "70:\tlearn: 3.0619244\ttotal: 1.6s\tremaining: 677ms\n",
      "71:\tlearn: 3.0605469\ttotal: 1.61s\tremaining: 649ms\n",
      "72:\tlearn: 3.0592557\ttotal: 1.61s\tremaining: 620ms\n",
      "73:\tlearn: 3.0578634\ttotal: 1.63s\tremaining: 593ms\n",
      "74:\tlearn: 3.0563766\ttotal: 1.64s\tremaining: 570ms\n",
      "75:\tlearn: 3.0550952\ttotal: 1.65s\tremaining: 543ms\n",
      "76:\tlearn: 3.0535247\ttotal: 1.7s\tremaining: 530ms\n",
      "77:\tlearn: 3.0519482\ttotal: 1.75s\tremaining: 518ms\n",
      "78:\tlearn: 3.0509133\ttotal: 1.76s\tremaining: 491ms\n",
      "79:\tlearn: 3.0495200\ttotal: 1.77s\tremaining: 466ms\n",
      "80:\tlearn: 3.0480193\ttotal: 1.8s\tremaining: 445ms\n",
      "81:\tlearn: 3.0464849\ttotal: 1.86s\tremaining: 432ms\n",
      "82:\tlearn: 3.0449733\ttotal: 1.9s\tremaining: 412ms\n",
      "83:\tlearn: 3.0438848\ttotal: 1.9s\tremaining: 385ms\n",
      "84:\tlearn: 3.0423552\ttotal: 1.94s\tremaining: 366ms\n",
      "85:\tlearn: 3.0410761\ttotal: 1.95s\tremaining: 340ms\n",
      "86:\tlearn: 3.0396295\ttotal: 1.96s\tremaining: 316ms\n",
      "87:\tlearn: 3.0383124\ttotal: 1.97s\tremaining: 291ms\n",
      "88:\tlearn: 3.0368442\ttotal: 1.99s\tremaining: 268ms\n",
      "89:\tlearn: 3.0354795\ttotal: 2s\tremaining: 244ms\n",
      "90:\tlearn: 3.0339805\ttotal: 2.03s\tremaining: 223ms\n",
      "91:\tlearn: 3.0329938\ttotal: 2.03s\tremaining: 199ms\n",
      "92:\tlearn: 3.0316595\ttotal: 2.04s\tremaining: 176ms\n",
      "93:\tlearn: 3.0301643\ttotal: 2.08s\tremaining: 155ms\n",
      "94:\tlearn: 3.0288531\ttotal: 2.09s\tremaining: 132ms\n",
      "95:\tlearn: 3.0277750\ttotal: 2.1s\tremaining: 109ms\n",
      "96:\tlearn: 3.0267731\ttotal: 2.1s\tremaining: 86.6ms\n",
      "97:\tlearn: 3.0254703\ttotal: 2.11s\tremaining: 64.6ms\n",
      "98:\tlearn: 3.0242627\ttotal: 2.12s\tremaining: 42.7ms\n",
      "99:\tlearn: 3.0227573\ttotal: 2.16s\tremaining: 21.6ms\n",
      "100:\tlearn: 3.0213295\ttotal: 2.18s\tremaining: 0us\n",
      "0:\tlearn: 3.1808247\ttotal: 5.92ms\tremaining: 592ms\n",
      "1:\tlearn: 3.1790989\ttotal: 64.6ms\tremaining: 3.2s\n",
      "2:\tlearn: 3.1774925\ttotal: 81ms\tremaining: 2.65s\n",
      "3:\tlearn: 3.1759712\ttotal: 90.7ms\tremaining: 2.2s\n",
      "4:\tlearn: 3.1743544\ttotal: 111ms\tremaining: 2.13s\n",
      "5:\tlearn: 3.1726913\ttotal: 133ms\tremaining: 2.11s\n",
      "6:\tlearn: 3.1710507\ttotal: 160ms\tremaining: 2.14s\n",
      "7:\tlearn: 3.1693953\ttotal: 190ms\tremaining: 2.21s\n",
      "8:\tlearn: 3.1677853\ttotal: 212ms\tremaining: 2.17s\n",
      "9:\tlearn: 3.1661414\ttotal: 232ms\tremaining: 2.11s\n",
      "10:\tlearn: 3.1645155\ttotal: 244ms\tremaining: 2s\n",
      "11:\tlearn: 3.1628300\ttotal: 274ms\tremaining: 2.03s\n",
      "12:\tlearn: 3.1613334\ttotal: 283ms\tremaining: 1.92s\n",
      "13:\tlearn: 3.1599351\ttotal: 289ms\tremaining: 1.8s\n",
      "14:\tlearn: 3.1584498\ttotal: 298ms\tremaining: 1.71s\n",
      "15:\tlearn: 3.1568516\ttotal: 309ms\tremaining: 1.64s\n",
      "16:\tlearn: 3.1552840\ttotal: 327ms\tremaining: 1.61s\n",
      "17:\tlearn: 3.1536047\ttotal: 377ms\tremaining: 1.74s\n",
      "18:\tlearn: 3.1536047\ttotal: 381ms\tremaining: 1.64s\n",
      "19:\tlearn: 3.1519978\ttotal: 399ms\tremaining: 1.62s\n",
      "20:\tlearn: 3.1503509\ttotal: 430ms\tremaining: 1.64s\n",
      "21:\tlearn: 3.1487492\ttotal: 447ms\tremaining: 1.61s\n",
      "22:\tlearn: 3.1474441\ttotal: 452ms\tremaining: 1.53s\n",
      "23:\tlearn: 3.1457605\ttotal: 501ms\tremaining: 1.61s\n",
      "24:\tlearn: 3.1447078\ttotal: 505ms\tremaining: 1.53s\n",
      "25:\tlearn: 3.1432380\ttotal: 512ms\tremaining: 1.48s\n",
      "26:\tlearn: 3.1415969\ttotal: 535ms\tremaining: 1.47s\n",
      "27:\tlearn: 3.1401018\ttotal: 544ms\tremaining: 1.42s\n",
      "28:\tlearn: 3.1385020\ttotal: 562ms\tremaining: 1.39s\n",
      "29:\tlearn: 3.1368492\ttotal: 614ms\tremaining: 1.45s\n",
      "30:\tlearn: 3.1353837\ttotal: 623ms\tremaining: 1.41s\n",
      "31:\tlearn: 3.1339617\ttotal: 632ms\tremaining: 1.36s\n",
      "32:\tlearn: 3.1322993\ttotal: 679ms\tremaining: 1.4s\n",
      "33:\tlearn: 3.1311490\ttotal: 683ms\tremaining: 1.35s\n",
      "34:\tlearn: 3.1297492\ttotal: 689ms\tremaining: 1.3s\n",
      "35:\tlearn: 3.1285637\ttotal: 694ms\tremaining: 1.25s\n",
      "36:\tlearn: 3.1269732\ttotal: 732ms\tremaining: 1.26s\n",
      "37:\tlearn: 3.1255591\ttotal: 740ms\tremaining: 1.23s\n",
      "38:\tlearn: 3.1239688\ttotal: 781ms\tremaining: 1.24s\n",
      "39:\tlearn: 3.1223723\ttotal: 813ms\tremaining: 1.24s\n",
      "40:\tlearn: 3.1208060\ttotal: 848ms\tremaining: 1.24s\n",
      "41:\tlearn: 3.1195130\ttotal: 854ms\tremaining: 1.2s\n",
      "42:\tlearn: 3.1179372\ttotal: 891ms\tremaining: 1.2s\n",
      "43:\tlearn: 3.1163864\ttotal: 905ms\tremaining: 1.17s\n",
      "44:\tlearn: 3.1147631\ttotal: 953ms\tremaining: 1.19s\n",
      "45:\tlearn: 3.1133327\ttotal: 962ms\tremaining: 1.15s\n",
      "46:\tlearn: 3.1118082\ttotal: 980ms\tremaining: 1.13s\n",
      "47:\tlearn: 3.1104006\ttotal: 988ms\tremaining: 1.09s\n",
      "48:\tlearn: 3.1092767\ttotal: 993ms\tremaining: 1.05s\n",
      "49:\tlearn: 3.1076667\ttotal: 1.04s\tremaining: 1.06s\n",
      "50:\tlearn: 3.1064606\ttotal: 1.05s\tremaining: 1.03s\n",
      "51:\tlearn: 3.1048801\ttotal: 1.09s\tremaining: 1.03s\n",
      "52:\tlearn: 3.1032770\ttotal: 1.13s\tremaining: 1.02s\n",
      "53:\tlearn: 3.1021144\ttotal: 1.13s\tremaining: 986ms\n",
      "54:\tlearn: 3.1005260\ttotal: 1.16s\tremaining: 970ms\n",
      "55:\tlearn: 3.0990188\ttotal: 1.17s\tremaining: 943ms\n",
      "56:\tlearn: 3.0976436\ttotal: 1.18s\tremaining: 914ms\n",
      "57:\tlearn: 3.0961640\ttotal: 1.2s\tremaining: 890ms\n",
      "58:\tlearn: 3.0947642\ttotal: 1.21s\tremaining: 860ms\n",
      "59:\tlearn: 3.0935920\ttotal: 1.21s\tremaining: 828ms\n",
      "60:\tlearn: 3.0920007\ttotal: 1.26s\tremaining: 828ms\n",
      "61:\tlearn: 3.0904416\ttotal: 1.29s\tremaining: 813ms\n",
      "62:\tlearn: 3.0889228\ttotal: 1.32s\tremaining: 794ms\n",
      "63:\tlearn: 3.0874278\ttotal: 1.33s\tremaining: 768ms\n",
      "64:\tlearn: 3.0859643\ttotal: 1.34s\tremaining: 743ms\n",
      "65:\tlearn: 3.0844520\ttotal: 1.35s\tremaining: 718ms\n",
      "66:\tlearn: 3.0828869\ttotal: 1.4s\tremaining: 709ms\n",
      "67:\tlearn: 3.0813200\ttotal: 1.45s\tremaining: 703ms\n",
      "68:\tlearn: 3.0797946\ttotal: 1.47s\tremaining: 682ms\n",
      "69:\tlearn: 3.0785835\ttotal: 1.48s\tremaining: 654ms\n",
      "70:\tlearn: 3.0770768\ttotal: 1.5s\tremaining: 632ms\n",
      "71:\tlearn: 3.0755384\ttotal: 1.52s\tremaining: 614ms\n",
      "72:\tlearn: 3.0740674\ttotal: 1.54s\tremaining: 589ms\n",
      "73:\tlearn: 3.0726770\ttotal: 1.55s\tremaining: 564ms\n",
      "74:\tlearn: 3.0711905\ttotal: 1.56s\tremaining: 541ms\n",
      "75:\tlearn: 3.0698705\ttotal: 1.57s\tremaining: 516ms\n",
      "76:\tlearn: 3.0683404\ttotal: 1.6s\tremaining: 498ms\n",
      "77:\tlearn: 3.0667791\ttotal: 1.66s\tremaining: 488ms\n",
      "78:\tlearn: 3.0652584\ttotal: 1.71s\tremaining: 477ms\n",
      "79:\tlearn: 3.0641284\ttotal: 1.72s\tremaining: 450ms\n",
      "80:\tlearn: 3.0625975\ttotal: 1.74s\tremaining: 430ms\n",
      "81:\tlearn: 3.0610571\ttotal: 1.8s\tremaining: 417ms\n",
      "82:\tlearn: 3.0595314\ttotal: 1.83s\tremaining: 398ms\n",
      "83:\tlearn: 3.0584501\ttotal: 1.84s\tremaining: 372ms\n",
      "84:\tlearn: 3.0569155\ttotal: 1.88s\tremaining: 353ms\n",
      "85:\tlearn: 3.0556388\ttotal: 1.88s\tremaining: 329ms\n",
      "86:\tlearn: 3.0542062\ttotal: 1.9s\tremaining: 305ms\n",
      "87:\tlearn: 3.0528963\ttotal: 1.9s\tremaining: 281ms\n",
      "88:\tlearn: 3.0514517\ttotal: 1.92s\tremaining: 259ms\n",
      "89:\tlearn: 3.0500887\ttotal: 1.93s\tremaining: 236ms\n",
      "90:\tlearn: 3.0485856\ttotal: 1.96s\tremaining: 215ms\n",
      "91:\tlearn: 3.0475982\ttotal: 1.97s\tremaining: 192ms\n",
      "92:\tlearn: 3.0462643\ttotal: 1.97s\tremaining: 170ms\n",
      "93:\tlearn: 3.0449083\ttotal: 1.99s\tremaining: 148ms\n",
      "94:\tlearn: 3.0434259\ttotal: 2s\tremaining: 127ms\n",
      "95:\tlearn: 3.0423838\ttotal: 2.01s\tremaining: 105ms\n",
      "96:\tlearn: 3.0413831\ttotal: 2.01s\tremaining: 83.1ms\n",
      "97:\tlearn: 3.0400771\ttotal: 2.02s\tremaining: 61.9ms\n",
      "98:\tlearn: 3.0388665\ttotal: 2.03s\tremaining: 41ms\n",
      "99:\tlearn: 3.0373504\ttotal: 2.08s\tremaining: 20.8ms\n",
      "100:\tlearn: 3.0358935\ttotal: 2.1s\tremaining: 0us\n",
      "0:\tlearn: 3.1911605\ttotal: 6.08ms\tremaining: 608ms\n",
      "1:\tlearn: 3.1894523\ttotal: 61.5ms\tremaining: 3.04s\n",
      "2:\tlearn: 3.1878437\ttotal: 77.1ms\tremaining: 2.52s\n",
      "3:\tlearn: 3.1863121\ttotal: 87ms\tremaining: 2.11s\n",
      "4:\tlearn: 3.1846666\ttotal: 103ms\tremaining: 1.97s\n",
      "5:\tlearn: 3.1830058\ttotal: 126ms\tremaining: 1.99s\n",
      "6:\tlearn: 3.1813744\ttotal: 151ms\tremaining: 2.03s\n",
      "7:\tlearn: 3.1797168\ttotal: 180ms\tremaining: 2.09s\n",
      "8:\tlearn: 3.1781137\ttotal: 201ms\tremaining: 2.05s\n",
      "9:\tlearn: 3.1764787\ttotal: 224ms\tremaining: 2.04s\n",
      "10:\tlearn: 3.1748627\ttotal: 236ms\tremaining: 1.93s\n",
      "11:\tlearn: 3.1731573\ttotal: 264ms\tremaining: 1.96s\n",
      "12:\tlearn: 3.1715970\ttotal: 272ms\tremaining: 1.84s\n",
      "13:\tlearn: 3.1701890\ttotal: 278ms\tremaining: 1.73s\n",
      "14:\tlearn: 3.1687072\ttotal: 287ms\tremaining: 1.64s\n",
      "15:\tlearn: 3.1670132\ttotal: 325ms\tremaining: 1.73s\n",
      "16:\tlearn: 3.1653886\ttotal: 346ms\tremaining: 1.71s\n",
      "17:\tlearn: 3.1637514\ttotal: 369ms\tremaining: 1.7s\n",
      "18:\tlearn: 3.1629217\ttotal: 373ms\tremaining: 1.61s\n",
      "19:\tlearn: 3.1615262\ttotal: 381ms\tremaining: 1.54s\n",
      "20:\tlearn: 3.1598778\ttotal: 403ms\tremaining: 1.53s\n",
      "21:\tlearn: 3.1582422\ttotal: 423ms\tremaining: 1.52s\n",
      "22:\tlearn: 3.1568353\ttotal: 430ms\tremaining: 1.46s\n",
      "23:\tlearn: 3.1551602\ttotal: 483ms\tremaining: 1.55s\n",
      "24:\tlearn: 3.1535405\ttotal: 511ms\tremaining: 1.55s\n",
      "25:\tlearn: 3.1520679\ttotal: 519ms\tremaining: 1.5s\n",
      "26:\tlearn: 3.1504836\ttotal: 529ms\tremaining: 1.45s\n",
      "27:\tlearn: 3.1488459\ttotal: 571ms\tremaining: 1.49s\n",
      "28:\tlearn: 3.1472723\ttotal: 581ms\tremaining: 1.44s\n",
      "29:\tlearn: 3.1457260\ttotal: 590ms\tremaining: 1.4s\n",
      "30:\tlearn: 3.1442378\ttotal: 598ms\tremaining: 1.35s\n",
      "31:\tlearn: 3.1430943\ttotal: 602ms\tremaining: 1.3s\n",
      "32:\tlearn: 3.1414500\ttotal: 649ms\tremaining: 1.34s\n",
      "33:\tlearn: 3.1402933\ttotal: 653ms\tremaining: 1.29s\n",
      "34:\tlearn: 3.1388878\ttotal: 659ms\tremaining: 1.24s\n",
      "35:\tlearn: 3.1376950\ttotal: 664ms\tremaining: 1.2s\n",
      "36:\tlearn: 3.1363379\ttotal: 671ms\tremaining: 1.16s\n",
      "37:\tlearn: 3.1347238\ttotal: 697ms\tremaining: 1.15s\n",
      "38:\tlearn: 3.1331080\ttotal: 743ms\tremaining: 1.18s\n",
      "39:\tlearn: 3.1314733\ttotal: 802ms\tremaining: 1.22s\n",
      "40:\tlearn: 3.1298844\ttotal: 829ms\tremaining: 1.21s\n",
      "41:\tlearn: 3.1297116\ttotal: 833ms\tremaining: 1.17s\n",
      "42:\tlearn: 3.1284873\ttotal: 839ms\tremaining: 1.13s\n",
      "43:\tlearn: 3.1270592\ttotal: 846ms\tremaining: 1.1s\n",
      "44:\tlearn: 3.1255941\ttotal: 880ms\tremaining: 1.09s\n",
      "45:\tlearn: 3.1241683\ttotal: 892ms\tremaining: 1.07s\n",
      "46:\tlearn: 3.1225527\ttotal: 920ms\tremaining: 1.06s\n",
      "47:\tlearn: 3.1215946\ttotal: 924ms\tremaining: 1.02s\n",
      "48:\tlearn: 3.1200093\ttotal: 957ms\tremaining: 1.01s\n",
      "49:\tlearn: 3.1184624\ttotal: 968ms\tremaining: 987ms\n",
      "50:\tlearn: 3.1168752\ttotal: 1.01s\tremaining: 996ms\n",
      "51:\tlearn: 3.1154462\ttotal: 1.02s\tremaining: 966ms\n",
      "52:\tlearn: 3.1138158\ttotal: 1.07s\tremaining: 972ms\n",
      "53:\tlearn: 3.1121824\ttotal: 1.13s\tremaining: 982ms\n",
      "54:\tlearn: 3.1106256\ttotal: 1.14s\tremaining: 956ms\n",
      "55:\tlearn: 3.1090231\ttotal: 1.19s\tremaining: 960ms\n",
      "56:\tlearn: 3.1075591\ttotal: 1.2s\tremaining: 930ms\n",
      "57:\tlearn: 3.1059530\ttotal: 1.25s\tremaining: 929ms\n",
      "58:\tlearn: 3.1046183\ttotal: 1.26s\tremaining: 898ms\n",
      "59:\tlearn: 3.1030878\ttotal: 1.27s\tremaining: 872ms\n",
      "60:\tlearn: 3.1015173\ttotal: 1.31s\tremaining: 859ms\n",
      "61:\tlearn: 3.0999551\ttotal: 1.34s\tremaining: 842ms\n",
      "62:\tlearn: 3.0984626\ttotal: 1.35s\tremaining: 813ms\n",
      "63:\tlearn: 3.0968529\ttotal: 1.4s\tremaining: 810ms\n",
      "64:\tlearn: 3.0954764\ttotal: 1.41s\tremaining: 783ms\n",
      "65:\tlearn: 3.0939013\ttotal: 1.46s\tremaining: 777ms\n",
      "66:\tlearn: 3.0923470\ttotal: 1.51s\tremaining: 768ms\n",
      "67:\tlearn: 3.0909975\ttotal: 1.52s\tremaining: 738ms\n",
      "68:\tlearn: 3.0899786\ttotal: 1.53s\tremaining: 708ms\n",
      "69:\tlearn: 3.0885067\ttotal: 1.53s\tremaining: 680ms\n",
      "70:\tlearn: 3.0869541\ttotal: 1.59s\tremaining: 671ms\n",
      "71:\tlearn: 3.0854524\ttotal: 1.6s\tremaining: 644ms\n",
      "72:\tlearn: 3.0840806\ttotal: 1.6s\tremaining: 616ms\n",
      "73:\tlearn: 3.0826953\ttotal: 1.61s\tremaining: 589ms\n",
      "74:\tlearn: 3.0812629\ttotal: 1.63s\tremaining: 565ms\n",
      "75:\tlearn: 3.0799438\ttotal: 1.63s\tremaining: 538ms\n",
      "76:\tlearn: 3.0784141\ttotal: 1.68s\tremaining: 524ms\n",
      "77:\tlearn: 3.0768353\ttotal: 1.74s\tremaining: 512ms\n",
      "78:\tlearn: 3.0757963\ttotal: 1.74s\tremaining: 485ms\n",
      "79:\tlearn: 3.0743878\ttotal: 1.75s\tremaining: 461ms\n",
      "80:\tlearn: 3.0729565\ttotal: 1.77s\tremaining: 437ms\n",
      "81:\tlearn: 3.0715416\ttotal: 1.78s\tremaining: 413ms\n",
      "82:\tlearn: 3.0702304\ttotal: 1.79s\tremaining: 388ms\n",
      "83:\tlearn: 3.0689665\ttotal: 1.8s\tremaining: 364ms\n",
      "84:\tlearn: 3.0676214\ttotal: 1.81s\tremaining: 340ms\n",
      "85:\tlearn: 3.0662305\ttotal: 1.82s\tremaining: 317ms\n",
      "86:\tlearn: 3.0647610\ttotal: 1.84s\tremaining: 296ms\n",
      "87:\tlearn: 3.0632382\ttotal: 1.86s\tremaining: 274ms\n",
      "88:\tlearn: 3.0617013\ttotal: 1.9s\tremaining: 257ms\n",
      "89:\tlearn: 3.0602331\ttotal: 1.92s\tremaining: 234ms\n",
      "90:\tlearn: 3.0587492\ttotal: 1.94s\tremaining: 213ms\n",
      "91:\tlearn: 3.0577670\ttotal: 1.95s\tremaining: 190ms\n",
      "92:\tlearn: 3.0563979\ttotal: 1.96s\tremaining: 168ms\n",
      "93:\tlearn: 3.0548997\ttotal: 2s\tremaining: 149ms\n",
      "94:\tlearn: 3.0535656\ttotal: 2s\tremaining: 127ms\n",
      "95:\tlearn: 3.0524705\ttotal: 2.01s\tremaining: 105ms\n",
      "96:\tlearn: 3.0514645\ttotal: 2.01s\tremaining: 83.1ms\n",
      "97:\tlearn: 3.0501571\ttotal: 2.02s\tremaining: 61.9ms\n",
      "98:\tlearn: 3.0489564\ttotal: 2.03s\tremaining: 41ms\n",
      "99:\tlearn: 3.0474363\ttotal: 2.08s\tremaining: 20.8ms\n",
      "100:\tlearn: 3.0459806\ttotal: 2.1s\tremaining: 0us\n",
      "0:\tlearn: 3.1711053\ttotal: 6.25ms\tremaining: 625ms\n",
      "1:\tlearn: 3.1693643\ttotal: 61.4ms\tremaining: 3.04s\n",
      "2:\tlearn: 3.1677379\ttotal: 76.1ms\tremaining: 2.49s\n",
      "3:\tlearn: 3.1661476\ttotal: 86ms\tremaining: 2.09s\n",
      "4:\tlearn: 3.1645203\ttotal: 103ms\tremaining: 1.97s\n",
      "5:\tlearn: 3.1628400\ttotal: 126ms\tremaining: 2s\n",
      "6:\tlearn: 3.1611704\ttotal: 150ms\tremaining: 2.01s\n",
      "7:\tlearn: 3.1594847\ttotal: 178ms\tremaining: 2.06s\n",
      "8:\tlearn: 3.1578812\ttotal: 198ms\tremaining: 2.02s\n",
      "9:\tlearn: 3.1562225\ttotal: 218ms\tremaining: 1.98s\n",
      "10:\tlearn: 3.1545686\ttotal: 231ms\tremaining: 1.89s\n",
      "11:\tlearn: 3.1528539\ttotal: 259ms\tremaining: 1.92s\n",
      "12:\tlearn: 3.1512610\ttotal: 267ms\tremaining: 1.81s\n",
      "13:\tlearn: 3.1498183\ttotal: 274ms\tremaining: 1.7s\n",
      "14:\tlearn: 3.1483182\ttotal: 282ms\tremaining: 1.61s\n",
      "15:\tlearn: 3.1466181\ttotal: 319ms\tremaining: 1.7s\n",
      "16:\tlearn: 3.1449734\ttotal: 341ms\tremaining: 1.68s\n",
      "17:\tlearn: 3.1433128\ttotal: 364ms\tremaining: 1.68s\n",
      "18:\tlearn: 3.1424720\ttotal: 368ms\tremaining: 1.59s\n",
      "19:\tlearn: 3.1410590\ttotal: 375ms\tremaining: 1.52s\n",
      "20:\tlearn: 3.1393895\ttotal: 403ms\tremaining: 1.54s\n",
      "21:\tlearn: 3.1377564\ttotal: 426ms\tremaining: 1.53s\n",
      "22:\tlearn: 3.1362349\ttotal: 432ms\tremaining: 1.47s\n",
      "23:\tlearn: 3.1345528\ttotal: 480ms\tremaining: 1.54s\n",
      "24:\tlearn: 3.1334863\ttotal: 485ms\tremaining: 1.47s\n",
      "25:\tlearn: 3.1319999\ttotal: 493ms\tremaining: 1.42s\n",
      "26:\tlearn: 3.1303500\ttotal: 524ms\tremaining: 1.43s\n",
      "27:\tlearn: 3.1288423\ttotal: 536ms\tremaining: 1.4s\n",
      "28:\tlearn: 3.1272382\ttotal: 556ms\tremaining: 1.38s\n",
      "29:\tlearn: 3.1255727\ttotal: 618ms\tremaining: 1.46s\n",
      "30:\tlearn: 3.1241446\ttotal: 625ms\tremaining: 1.41s\n",
      "31:\tlearn: 3.1239696\ttotal: 629ms\tremaining: 1.36s\n",
      "32:\tlearn: 3.1224631\ttotal: 639ms\tremaining: 1.32s\n",
      "33:\tlearn: 3.1208912\ttotal: 653ms\tremaining: 1.29s\n",
      "34:\tlearn: 3.1193213\ttotal: 663ms\tremaining: 1.25s\n",
      "35:\tlearn: 3.1181140\ttotal: 668ms\tremaining: 1.21s\n",
      "36:\tlearn: 3.1164929\ttotal: 703ms\tremaining: 1.22s\n",
      "37:\tlearn: 3.1148862\ttotal: 720ms\tremaining: 1.19s\n",
      "38:\tlearn: 3.1132614\ttotal: 758ms\tremaining: 1.21s\n",
      "39:\tlearn: 3.1116338\ttotal: 809ms\tremaining: 1.23s\n",
      "40:\tlearn: 3.1100936\ttotal: 822ms\tremaining: 1.2s\n",
      "41:\tlearn: 3.1099214\ttotal: 826ms\tremaining: 1.16s\n",
      "42:\tlearn: 3.1086915\ttotal: 832ms\tremaining: 1.12s\n",
      "43:\tlearn: 3.1072573\ttotal: 840ms\tremaining: 1.09s\n",
      "44:\tlearn: 3.1057797\ttotal: 865ms\tremaining: 1.08s\n",
      "45:\tlearn: 3.1042858\ttotal: 879ms\tremaining: 1.05s\n",
      "46:\tlearn: 3.1027146\ttotal: 893ms\tremaining: 1.02s\n",
      "47:\tlearn: 3.1017471\ttotal: 897ms\tremaining: 990ms\n",
      "48:\tlearn: 3.1001465\ttotal: 939ms\tremaining: 996ms\n",
      "49:\tlearn: 3.0985824\ttotal: 950ms\tremaining: 969ms\n",
      "50:\tlearn: 3.0969648\ttotal: 1s\tremaining: 982ms\n",
      "51:\tlearn: 3.0955312\ttotal: 1.01s\tremaining: 953ms\n",
      "52:\tlearn: 3.0938913\ttotal: 1.07s\tremaining: 966ms\n",
      "53:\tlearn: 3.0922385\ttotal: 1.12s\tremaining: 973ms\n",
      "54:\tlearn: 3.0906564\ttotal: 1.13s\tremaining: 947ms\n",
      "55:\tlearn: 3.0891327\ttotal: 1.15s\tremaining: 923ms\n",
      "56:\tlearn: 3.0877526\ttotal: 1.16s\tremaining: 894ms\n",
      "57:\tlearn: 3.0862256\ttotal: 1.18s\tremaining: 871ms\n",
      "58:\tlearn: 3.0846248\ttotal: 1.23s\tremaining: 872ms\n",
      "59:\tlearn: 3.0832058\ttotal: 1.24s\tremaining: 845ms\n",
      "60:\tlearn: 3.0816276\ttotal: 1.27s\tremaining: 834ms\n",
      "61:\tlearn: 3.0800458\ttotal: 1.3s\tremaining: 819ms\n",
      "62:\tlearn: 3.0784794\ttotal: 1.32s\tremaining: 796ms\n",
      "63:\tlearn: 3.0768794\ttotal: 1.37s\tremaining: 791ms\n",
      "64:\tlearn: 3.0755654\ttotal: 1.38s\tremaining: 762ms\n",
      "65:\tlearn: 3.0739860\ttotal: 1.43s\tremaining: 760ms\n",
      "66:\tlearn: 3.0723861\ttotal: 1.48s\tremaining: 751ms\n",
      "67:\tlearn: 3.0710201\ttotal: 1.49s\tremaining: 722ms\n",
      "68:\tlearn: 3.0699924\ttotal: 1.49s\tremaining: 692ms\n",
      "69:\tlearn: 3.0685197\ttotal: 1.5s\tremaining: 664ms\n",
      "70:\tlearn: 3.0669717\ttotal: 1.55s\tremaining: 654ms\n",
      "71:\tlearn: 3.0654264\ttotal: 1.57s\tremaining: 631ms\n",
      "72:\tlearn: 3.0641199\ttotal: 1.57s\tremaining: 603ms\n",
      "73:\tlearn: 3.0627589\ttotal: 1.58s\tremaining: 577ms\n",
      "74:\tlearn: 3.0612638\ttotal: 1.6s\tremaining: 555ms\n",
      "75:\tlearn: 3.0598751\ttotal: 1.61s\tremaining: 529ms\n",
      "76:\tlearn: 3.0583250\ttotal: 1.66s\tremaining: 517ms\n",
      "77:\tlearn: 3.0567525\ttotal: 1.72s\tremaining: 506ms\n",
      "78:\tlearn: 3.0557064\ttotal: 1.72s\tremaining: 480ms\n",
      "79:\tlearn: 3.0542881\ttotal: 1.73s\tremaining: 455ms\n",
      "80:\tlearn: 3.0527710\ttotal: 1.76s\tremaining: 435ms\n",
      "81:\tlearn: 3.0512127\ttotal: 1.81s\tremaining: 420ms\n",
      "82:\tlearn: 3.0496720\ttotal: 1.84s\tremaining: 400ms\n",
      "83:\tlearn: 3.0485740\ttotal: 1.85s\tremaining: 375ms\n",
      "84:\tlearn: 3.0470161\ttotal: 1.89s\tremaining: 356ms\n",
      "85:\tlearn: 3.0457208\ttotal: 1.9s\tremaining: 331ms\n",
      "86:\tlearn: 3.0442694\ttotal: 1.91s\tremaining: 308ms\n",
      "87:\tlearn: 3.0429396\ttotal: 1.92s\tremaining: 284ms\n",
      "88:\tlearn: 3.0414523\ttotal: 1.94s\tremaining: 261ms\n",
      "89:\tlearn: 3.0400842\ttotal: 1.95s\tremaining: 238ms\n",
      "90:\tlearn: 3.0385832\ttotal: 1.97s\tremaining: 217ms\n",
      "91:\tlearn: 3.0375827\ttotal: 1.98s\tremaining: 194ms\n",
      "92:\tlearn: 3.0362123\ttotal: 1.99s\tremaining: 171ms\n",
      "93:\tlearn: 3.0347863\ttotal: 2s\tremaining: 149ms\n",
      "94:\tlearn: 3.0332895\ttotal: 2.02s\tremaining: 128ms\n",
      "95:\tlearn: 3.0322301\ttotal: 2.03s\tremaining: 106ms\n",
      "96:\tlearn: 3.0312176\ttotal: 2.03s\tremaining: 83.8ms\n",
      "97:\tlearn: 3.0299039\ttotal: 2.04s\tremaining: 62.5ms\n",
      "98:\tlearn: 3.0286931\ttotal: 2.05s\tremaining: 41.4ms\n",
      "99:\tlearn: 3.0271515\ttotal: 2.1s\tremaining: 21ms\n",
      "100:\tlearn: 3.0256757\ttotal: 2.12s\tremaining: 0us\n",
      "CPU times: user 16min 29s, sys: 4.97 s, total: 16min 34s\n",
      "Wall time: 14min 49s\n"
     ]
    },
    {
     "data": {
      "text/html": [
       "<style>#sk-container-id-1 {color: black;background-color: white;}#sk-container-id-1 pre{padding: 0;}#sk-container-id-1 div.sk-toggleable {background-color: white;}#sk-container-id-1 label.sk-toggleable__label {cursor: pointer;display: block;width: 100%;margin-bottom: 0;padding: 0.3em;box-sizing: border-box;text-align: center;}#sk-container-id-1 label.sk-toggleable__label-arrow:before {content: \"▸\";float: left;margin-right: 0.25em;color: #696969;}#sk-container-id-1 label.sk-toggleable__label-arrow:hover:before {color: black;}#sk-container-id-1 div.sk-estimator:hover label.sk-toggleable__label-arrow:before {color: black;}#sk-container-id-1 div.sk-toggleable__content {max-height: 0;max-width: 0;overflow: hidden;text-align: left;background-color: #f0f8ff;}#sk-container-id-1 div.sk-toggleable__content pre {margin: 0.2em;color: black;border-radius: 0.25em;background-color: #f0f8ff;}#sk-container-id-1 input.sk-toggleable__control:checked~div.sk-toggleable__content {max-height: 200px;max-width: 100%;overflow: auto;}#sk-container-id-1 input.sk-toggleable__control:checked~label.sk-toggleable__label-arrow:before {content: \"▾\";}#sk-container-id-1 div.sk-estimator input.sk-toggleable__control:checked~label.sk-toggleable__label {background-color: #d4ebff;}#sk-container-id-1 div.sk-label input.sk-toggleable__control:checked~label.sk-toggleable__label {background-color: #d4ebff;}#sk-container-id-1 input.sk-hidden--visually {border: 0;clip: rect(1px 1px 1px 1px);clip: rect(1px, 1px, 1px, 1px);height: 1px;margin: -1px;overflow: hidden;padding: 0;position: absolute;width: 1px;}#sk-container-id-1 div.sk-estimator {font-family: monospace;background-color: #f0f8ff;border: 1px dotted black;border-radius: 0.25em;box-sizing: border-box;margin-bottom: 0.5em;}#sk-container-id-1 div.sk-estimator:hover {background-color: #d4ebff;}#sk-container-id-1 div.sk-parallel-item::after {content: \"\";width: 100%;border-bottom: 1px solid gray;flex-grow: 1;}#sk-container-id-1 div.sk-label:hover label.sk-toggleable__label {background-color: #d4ebff;}#sk-container-id-1 div.sk-serial::before {content: \"\";position: absolute;border-left: 1px solid gray;box-sizing: border-box;top: 0;bottom: 0;left: 50%;z-index: 0;}#sk-container-id-1 div.sk-serial {display: flex;flex-direction: column;align-items: center;background-color: white;padding-right: 0.2em;padding-left: 0.2em;position: relative;}#sk-container-id-1 div.sk-item {position: relative;z-index: 1;}#sk-container-id-1 div.sk-parallel {display: flex;align-items: stretch;justify-content: center;background-color: white;position: relative;}#sk-container-id-1 div.sk-item::before, #sk-container-id-1 div.sk-parallel-item::before {content: \"\";position: absolute;border-left: 1px solid gray;box-sizing: border-box;top: 0;bottom: 0;left: 50%;z-index: -1;}#sk-container-id-1 div.sk-parallel-item {display: flex;flex-direction: column;z-index: 1;position: relative;background-color: white;}#sk-container-id-1 div.sk-parallel-item:first-child::after {align-self: flex-end;width: 50%;}#sk-container-id-1 div.sk-parallel-item:last-child::after {align-self: flex-start;width: 50%;}#sk-container-id-1 div.sk-parallel-item:only-child::after {width: 0;}#sk-container-id-1 div.sk-dashed-wrapped {border: 1px dashed gray;margin: 0 0.4em 0.5em 0.4em;box-sizing: border-box;padding-bottom: 0.4em;background-color: white;}#sk-container-id-1 div.sk-label label {font-family: monospace;font-weight: bold;display: inline-block;line-height: 1.2em;}#sk-container-id-1 div.sk-label-container {text-align: center;}#sk-container-id-1 div.sk-container {/* jupyter's `normalize.less` sets `[hidden] { display: none; }` but bootstrap.min.css set `[hidden] { display: none !important; }` so we also need the `!important` here to be able to override the default hidden behavior on the sphinx rendered scikit-learn.org. See: https://github.com/scikit-learn/scikit-learn/issues/21755 */display: inline-block !important;position: relative;}#sk-container-id-1 div.sk-text-repr-fallback {display: none;}</style><div id=\"sk-container-id-1\" class=\"sk-top-container\"><div class=\"sk-text-repr-fallback\"><pre>StackingRegressor(estimators=[(&#x27;XGBoost&#x27;,\n",
       "                               XGBRegressor(base_score=None, booster=None,\n",
       "                                            callbacks=None,\n",
       "                                            colsample_bylevel=None,\n",
       "                                            colsample_bynode=None,\n",
       "                                            colsample_bytree=None, device=None,\n",
       "                                            early_stopping_rounds=None,\n",
       "                                            enable_categorical=False,\n",
       "                                            eval_metric=None,\n",
       "                                            feature_types=None, gamma=None,\n",
       "                                            grow_policy=None,\n",
       "                                            importance_type=None,\n",
       "                                            interaction_constraints=None,\n",
       "                                            learnin...\n",
       "                               LGBMRegressor(boosting_type=&#x27;dart&#x27;,\n",
       "                                             learning_rate=0.0010257989336468524,\n",
       "                                             max_depth=100,\n",
       "                                             min_child_samples=22,\n",
       "                                             n_estimators=676, num_leaves=37,\n",
       "                                             random_state=27)),\n",
       "                              (&#x27;Catboost&#x27;,\n",
       "                               &lt;catboost.core.CatBoostRegressor object at 0x78b76aac6950&gt;)],\n",
       "                  final_estimator=RandomForestRegressor(max_depth=8,\n",
       "                                                        min_samples_leaf=60,\n",
       "                                                        min_samples_split=13,\n",
       "                                                        n_estimators=544,\n",
       "                                                        random_state=27))</pre><b>In a Jupyter environment, please rerun this cell to show the HTML representation or trust the notebook. <br />On GitHub, the HTML representation is unable to render, please try loading this page with nbviewer.org.</b></div><div class=\"sk-container\" hidden><div class=\"sk-item sk-dashed-wrapped\"><div class=\"sk-label-container\"><div class=\"sk-label sk-toggleable\"><input class=\"sk-toggleable__control sk-hidden--visually\" id=\"sk-estimator-id-1\" type=\"checkbox\" ><label for=\"sk-estimator-id-1\" class=\"sk-toggleable__label sk-toggleable__label-arrow\">StackingRegressor</label><div class=\"sk-toggleable__content\"><pre>StackingRegressor(estimators=[(&#x27;XGBoost&#x27;,\n",
       "                               XGBRegressor(base_score=None, booster=None,\n",
       "                                            callbacks=None,\n",
       "                                            colsample_bylevel=None,\n",
       "                                            colsample_bynode=None,\n",
       "                                            colsample_bytree=None, device=None,\n",
       "                                            early_stopping_rounds=None,\n",
       "                                            enable_categorical=False,\n",
       "                                            eval_metric=None,\n",
       "                                            feature_types=None, gamma=None,\n",
       "                                            grow_policy=None,\n",
       "                                            importance_type=None,\n",
       "                                            interaction_constraints=None,\n",
       "                                            learnin...\n",
       "                               LGBMRegressor(boosting_type=&#x27;dart&#x27;,\n",
       "                                             learning_rate=0.0010257989336468524,\n",
       "                                             max_depth=100,\n",
       "                                             min_child_samples=22,\n",
       "                                             n_estimators=676, num_leaves=37,\n",
       "                                             random_state=27)),\n",
       "                              (&#x27;Catboost&#x27;,\n",
       "                               &lt;catboost.core.CatBoostRegressor object at 0x78b76aac6950&gt;)],\n",
       "                  final_estimator=RandomForestRegressor(max_depth=8,\n",
       "                                                        min_samples_leaf=60,\n",
       "                                                        min_samples_split=13,\n",
       "                                                        n_estimators=544,\n",
       "                                                        random_state=27))</pre></div></div></div><div class=\"sk-serial\"><div class=\"sk-item\"><div class=\"sk-parallel\"><div class=\"sk-parallel-item\"><div class=\"sk-item\"><div class=\"sk-label-container\"><div class=\"sk-label sk-toggleable\"><label>XGBoost</label></div></div><div class=\"sk-serial\"><div class=\"sk-item\"><div class=\"sk-estimator sk-toggleable\"><input class=\"sk-toggleable__control sk-hidden--visually\" id=\"sk-estimator-id-2\" type=\"checkbox\" ><label for=\"sk-estimator-id-2\" class=\"sk-toggleable__label sk-toggleable__label-arrow\">XGBRegressor</label><div class=\"sk-toggleable__content\"><pre>XGBRegressor(base_score=None, booster=None, callbacks=None,\n",
       "             colsample_bylevel=None, colsample_bynode=None,\n",
       "             colsample_bytree=None, device=None, early_stopping_rounds=None,\n",
       "             enable_categorical=False, eval_metric=None, feature_types=None,\n",
       "             gamma=None, grow_policy=None, importance_type=None,\n",
       "             interaction_constraints=None, learning_rate=0.01, max_bin=None,\n",
       "             max_cat_threshold=None, max_cat_to_onehot=None,\n",
       "             max_delta_step=None, max_depth=6, max_leaves=None,\n",
       "             min_child_weight=None, missing=nan, monotone_constraints=None,\n",
       "             multi_strategy=None, n_estimators=395, n_jobs=None,\n",
       "             num_parallel_tree=None, random_state=27, ...)</pre></div></div></div></div></div></div><div class=\"sk-parallel-item\"><div class=\"sk-item\"><div class=\"sk-label-container\"><div class=\"sk-label sk-toggleable\"><label>LightGBM</label></div></div><div class=\"sk-serial\"><div class=\"sk-item\"><div class=\"sk-estimator sk-toggleable\"><input class=\"sk-toggleable__control sk-hidden--visually\" id=\"sk-estimator-id-3\" type=\"checkbox\" ><label for=\"sk-estimator-id-3\" class=\"sk-toggleable__label sk-toggleable__label-arrow\">LGBMRegressor</label><div class=\"sk-toggleable__content\"><pre>LGBMRegressor(boosting_type=&#x27;dart&#x27;, learning_rate=0.0010257989336468524,\n",
       "              max_depth=100, min_child_samples=22, n_estimators=676,\n",
       "              num_leaves=37, random_state=27)</pre></div></div></div></div></div></div><div class=\"sk-parallel-item\"><div class=\"sk-item\"><div class=\"sk-label-container\"><div class=\"sk-label sk-toggleable\"><label>Catboost</label></div></div><div class=\"sk-serial\"><div class=\"sk-item\"><div class=\"sk-estimator sk-toggleable\"><input class=\"sk-toggleable__control sk-hidden--visually\" id=\"sk-estimator-id-4\" type=\"checkbox\" ><label for=\"sk-estimator-id-4\" class=\"sk-toggleable__label sk-toggleable__label-arrow\">CatBoostRegressor</label><div class=\"sk-toggleable__content\"><pre>&lt;catboost.core.CatBoostRegressor object at 0x78b76aac6950&gt;</pre></div></div></div></div></div></div></div></div><div class=\"sk-item\"><div class=\"sk-parallel\"><div class=\"sk-parallel-item\"><div class=\"sk-item\"><div class=\"sk-label-container\"><div class=\"sk-label sk-toggleable\"><label>final_estimator</label></div></div><div class=\"sk-serial\"><div class=\"sk-item\"><div class=\"sk-estimator sk-toggleable\"><input class=\"sk-toggleable__control sk-hidden--visually\" id=\"sk-estimator-id-5\" type=\"checkbox\" ><label for=\"sk-estimator-id-5\" class=\"sk-toggleable__label sk-toggleable__label-arrow\">RandomForestRegressor</label><div class=\"sk-toggleable__content\"><pre>RandomForestRegressor(max_depth=8, min_samples_leaf=60, min_samples_split=13,\n",
       "                      n_estimators=544, random_state=27)</pre></div></div></div></div></div></div></div></div></div></div></div></div>"
      ],
      "text/plain": [
       "StackingRegressor(estimators=[('XGBoost',\n",
       "                               XGBRegressor(base_score=None, booster=None,\n",
       "                                            callbacks=None,\n",
       "                                            colsample_bylevel=None,\n",
       "                                            colsample_bynode=None,\n",
       "                                            colsample_bytree=None, device=None,\n",
       "                                            early_stopping_rounds=None,\n",
       "                                            enable_categorical=False,\n",
       "                                            eval_metric=None,\n",
       "                                            feature_types=None, gamma=None,\n",
       "                                            grow_policy=None,\n",
       "                                            importance_type=None,\n",
       "                                            interaction_constraints=None,\n",
       "                                            learnin...\n",
       "                               LGBMRegressor(boosting_type='dart',\n",
       "                                             learning_rate=0.0010257989336468524,\n",
       "                                             max_depth=100,\n",
       "                                             min_child_samples=22,\n",
       "                                             n_estimators=676, num_leaves=37,\n",
       "                                             random_state=27)),\n",
       "                              ('Catboost',\n",
       "                               <catboost.core.CatBoostRegressor object at 0x78b76aac6950>)],\n",
       "                  final_estimator=RandomForestRegressor(max_depth=8,\n",
       "                                                        min_samples_leaf=60,\n",
       "                                                        min_samples_split=13,\n",
       "                                                        n_estimators=544,\n",
       "                                                        random_state=27))"
      ]
     },
     "execution_count": 35,
     "metadata": {},
     "output_type": "execute_result"
    }
   ],
   "source": [
    "%%time\n",
    "stacking_model = StackingRegressor(estimators=base_models, final_estimator=meta_model)\n",
    "stacking_model.fit(X, y)"
   ]
  },
  {
   "cell_type": "markdown",
   "id": "03e02938",
   "metadata": {
    "papermill": {
     "duration": 0.042921,
     "end_time": "2024-04-03T15:24:23.162198",
     "exception": false,
     "start_time": "2024-04-03T15:24:23.119277",
     "status": "completed"
    },
    "tags": []
   },
   "source": [
    "<a id='15'></a>\n",
    "# <span style=\"color: #3EB489; border-bottom: 6px solid  #20603D; background-color: #fadb8c;\">🐟 Predict the validation set and calculate Root Mean Squared Logarithmic Error (RMSLE) score</span>"
   ]
  },
  {
   "cell_type": "code",
   "execution_count": 36,
   "id": "39f0dbca",
   "metadata": {
    "execution": {
     "iopub.execute_input": "2024-04-03T15:24:23.251803Z",
     "iopub.status.busy": "2024-04-03T15:24:23.251380Z",
     "iopub.status.idle": "2024-04-03T15:24:24.930179Z",
     "shell.execute_reply": "2024-04-03T15:24:24.929028Z"
    },
    "papermill": {
     "duration": 1.727327,
     "end_time": "2024-04-03T15:24:24.932638",
     "exception": false,
     "start_time": "2024-04-03T15:24:23.205311",
     "status": "completed"
    },
    "tags": []
   },
   "outputs": [
    {
     "name": "stdout",
     "output_type": "stream",
     "text": [
      "Validation Root mean squared logarithmic error regression loss: 0.16138505\n"
     ]
    }
   ],
   "source": [
    "y_pred_val = stacking_model.predict(X_val)\n",
    "\n",
    "rmsle_val = np.sqrt(mean_squared_log_error(y_val, y_pred_val))\n",
    "print(f\"Validation Root mean squared logarithmic error regression loss: {rmsle_val:.8f}\")"
   ]
  },
  {
   "cell_type": "markdown",
   "id": "9b37bea5",
   "metadata": {
    "papermill": {
     "duration": 0.043942,
     "end_time": "2024-04-03T15:24:25.018931",
     "exception": false,
     "start_time": "2024-04-03T15:24:24.974989",
     "status": "completed"
    },
    "tags": []
   },
   "source": [
    "<a id='16'></a>\n",
    "# <span style=\"color: #3EB489; border-bottom: 6px solid  #20603D; background-color: #fadb8c;\">🐠 Predict on the test data</span>"
   ]
  },
  {
   "cell_type": "code",
   "execution_count": 37,
   "id": "b5aff0f1",
   "metadata": {
    "execution": {
     "iopub.execute_input": "2024-04-03T15:24:25.108542Z",
     "iopub.status.busy": "2024-04-03T15:24:25.107757Z",
     "iopub.status.idle": "2024-04-03T15:24:30.274127Z",
     "shell.execute_reply": "2024-04-03T15:24:30.272807Z"
    },
    "papermill": {
     "duration": 5.213376,
     "end_time": "2024-04-03T15:24:30.276778",
     "exception": false,
     "start_time": "2024-04-03T15:24:25.063402",
     "status": "completed"
    },
    "tags": []
   },
   "outputs": [
    {
     "data": {
      "text/plain": [
       "array([ 9.69608548, 10.81067873, 10.03278493,  9.85164425,  7.52194525,\n",
       "        9.31838372, 10.46855401,  6.35088001,  8.10015293, 12.38214442])"
      ]
     },
     "execution_count": 37,
     "metadata": {},
     "output_type": "execute_result"
    }
   ],
   "source": [
    "y_pred_test = stacking_model.predict(test)\n",
    "y_pred_test[:10]"
   ]
  },
  {
   "cell_type": "markdown",
   "id": "33f4e117",
   "metadata": {
    "papermill": {
     "duration": 0.045307,
     "end_time": "2024-04-03T15:24:30.367353",
     "exception": false,
     "start_time": "2024-04-03T15:24:30.322046",
     "status": "completed"
    },
    "tags": []
   },
   "source": [
    "![](https://en.australia51.com/Attach/Download/EA3D1916-8F57-1147-653F-329276FBB95A/0656DE71-5A1F-235F-E504-F21533E82969.jpg)"
   ]
  },
  {
   "cell_type": "markdown",
   "id": "44bbcc53",
   "metadata": {
    "papermill": {
     "duration": 0.044843,
     "end_time": "2024-04-03T15:24:30.457488",
     "exception": false,
     "start_time": "2024-04-03T15:24:30.412645",
     "status": "completed"
    },
    "tags": []
   },
   "source": [
    "<a id='17'></a>\n",
    "# <span style=\"color: #3EB489; border-bottom: 6px solid  #20603D; background-color: #fadb8c;\">🐡 Build DataFrame and make first submission</span>"
   ]
  },
  {
   "cell_type": "code",
   "execution_count": 38,
   "id": "47fcc62a",
   "metadata": {
    "execution": {
     "iopub.execute_input": "2024-04-03T15:24:30.547789Z",
     "iopub.status.busy": "2024-04-03T15:24:30.547096Z",
     "iopub.status.idle": "2024-04-03T15:24:30.760271Z",
     "shell.execute_reply": "2024-04-03T15:24:30.759106Z"
    },
    "papermill": {
     "duration": 0.260863,
     "end_time": "2024-04-03T15:24:30.762731",
     "exception": false,
     "start_time": "2024-04-03T15:24:30.501868",
     "status": "completed"
    },
    "tags": []
   },
   "outputs": [
    {
     "data": {
      "text/html": [
       "<div>\n",
       "<style scoped>\n",
       "    .dataframe tbody tr th:only-of-type {\n",
       "        vertical-align: middle;\n",
       "    }\n",
       "\n",
       "    .dataframe tbody tr th {\n",
       "        vertical-align: top;\n",
       "    }\n",
       "\n",
       "    .dataframe thead th {\n",
       "        text-align: right;\n",
       "    }\n",
       "</style>\n",
       "<table border=\"1\" class=\"dataframe\">\n",
       "  <thead>\n",
       "    <tr style=\"text-align: right;\">\n",
       "      <th></th>\n",
       "      <th>id</th>\n",
       "      <th>Rings</th>\n",
       "    </tr>\n",
       "  </thead>\n",
       "  <tbody>\n",
       "    <tr>\n",
       "      <th>0</th>\n",
       "      <td>90615</td>\n",
       "      <td>9.696085</td>\n",
       "    </tr>\n",
       "    <tr>\n",
       "      <th>1</th>\n",
       "      <td>90616</td>\n",
       "      <td>10.810679</td>\n",
       "    </tr>\n",
       "    <tr>\n",
       "      <th>2</th>\n",
       "      <td>90617</td>\n",
       "      <td>10.032785</td>\n",
       "    </tr>\n",
       "    <tr>\n",
       "      <th>3</th>\n",
       "      <td>90618</td>\n",
       "      <td>9.851644</td>\n",
       "    </tr>\n",
       "    <tr>\n",
       "      <th>4</th>\n",
       "      <td>90619</td>\n",
       "      <td>7.521945</td>\n",
       "    </tr>\n",
       "    <tr>\n",
       "      <th>5</th>\n",
       "      <td>90620</td>\n",
       "      <td>9.318384</td>\n",
       "    </tr>\n",
       "    <tr>\n",
       "      <th>6</th>\n",
       "      <td>90621</td>\n",
       "      <td>10.468554</td>\n",
       "    </tr>\n",
       "    <tr>\n",
       "      <th>7</th>\n",
       "      <td>90622</td>\n",
       "      <td>6.350880</td>\n",
       "    </tr>\n",
       "    <tr>\n",
       "      <th>8</th>\n",
       "      <td>90623</td>\n",
       "      <td>8.100153</td>\n",
       "    </tr>\n",
       "    <tr>\n",
       "      <th>9</th>\n",
       "      <td>90624</td>\n",
       "      <td>12.382144</td>\n",
       "    </tr>\n",
       "  </tbody>\n",
       "</table>\n",
       "</div>"
      ],
      "text/plain": [
       "      id      Rings\n",
       "0  90615   9.696085\n",
       "1  90616  10.810679\n",
       "2  90617  10.032785\n",
       "3  90618   9.851644\n",
       "4  90619   7.521945\n",
       "5  90620   9.318384\n",
       "6  90621  10.468554\n",
       "7  90622   6.350880\n",
       "8  90623   8.100153\n",
       "9  90624  12.382144"
      ]
     },
     "execution_count": 38,
     "metadata": {},
     "output_type": "execute_result"
    }
   ],
   "source": [
    "submission = pd.DataFrame({\n",
    "    'id': sample_submission.id,\n",
    "    'Rings': y_pred_test\n",
    "})\n",
    "\n",
    "submission.to_csv('Kapturov_S4E4_submission.csv', index=False)\n",
    "submission.head(10)"
   ]
  },
  {
   "cell_type": "markdown",
   "id": "fc8913d2",
   "metadata": {
    "papermill": {
     "duration": 0.046477,
     "end_time": "2024-04-03T15:24:30.852829",
     "exception": false,
     "start_time": "2024-04-03T15:24:30.806352",
     "status": "completed"
    },
    "tags": []
   },
   "source": [
    "<a id='18'></a>\n",
    "# <span style=\"color: #3EB489; border-bottom: 6px solid  #20603D; background-color: #fadb8c;\">🍥 Save the model into pickle file</span>"
   ]
  },
  {
   "cell_type": "code",
   "execution_count": 39,
   "id": "dab5a688",
   "metadata": {
    "execution": {
     "iopub.execute_input": "2024-04-03T15:24:30.943547Z",
     "iopub.status.busy": "2024-04-03T15:24:30.942885Z",
     "iopub.status.idle": "2024-04-03T15:24:31.127728Z",
     "shell.execute_reply": "2024-04-03T15:24:31.126742Z"
    },
    "papermill": {
     "duration": 0.232892,
     "end_time": "2024-04-03T15:24:31.130347",
     "exception": false,
     "start_time": "2024-04-03T15:24:30.897455",
     "status": "completed"
    },
    "tags": []
   },
   "outputs": [],
   "source": [
    "pickle.dump(stacking_model, open(\"Kapturov_stacking_model.pkl\", \"wb\"))"
   ]
  },
  {
   "cell_type": "markdown",
   "id": "653b0b3c",
   "metadata": {
    "papermill": {
     "duration": 0.044779,
     "end_time": "2024-04-03T15:24:31.218996",
     "exception": false,
     "start_time": "2024-04-03T15:24:31.174217",
     "status": "completed"
    },
    "tags": []
   },
   "source": [
    "![](https://upload.wikimedia.org/wikipedia/commons/thumb/b/bc/Abalone_at_California_Academy_of_Sciences.JPG/1200px-Abalone_at_California_Academy_of_Sciences.JPG)"
   ]
  },
  {
   "cell_type": "markdown",
   "id": "6375d302",
   "metadata": {
    "papermill": {
     "duration": 0.044778,
     "end_time": "2024-04-03T15:24:31.307888",
     "exception": false,
     "start_time": "2024-04-03T15:24:31.263110",
     "status": "completed"
    },
    "tags": []
   },
   "source": [
    "# <span style=\"color: #3EB489; border-bottom: 6px solid  #20603D; background-color: #fadb8c;\">😀 Hope You are feeling great!"
   ]
  }
 ],
 "metadata": {
  "kaggle": {
   "accelerator": "none",
   "dataSources": [
    {
     "databundleVersionId": 8096274,
     "sourceId": 72489,
     "sourceType": "competition"
    },
    {
     "datasetId": 4705962,
     "sourceId": 8013090,
     "sourceType": "datasetVersion"
    }
   ],
   "dockerImageVersionId": 30673,
   "isGpuEnabled": false,
   "isInternetEnabled": true,
   "language": "python",
   "sourceType": "notebook"
  },
  "kernelspec": {
   "display_name": "Python 3",
   "language": "python",
   "name": "python3"
  },
  "language_info": {
   "codemirror_mode": {
    "name": "ipython",
    "version": 3
   },
   "file_extension": ".py",
   "mimetype": "text/x-python",
   "name": "python",
   "nbconvert_exporter": "python",
   "pygments_lexer": "ipython3",
   "version": "3.10.13"
  },
  "papermill": {
   "default_parameters": {},
   "duration": 974.087458,
   "end_time": "2024-04-03T15:24:32.279395",
   "environment_variables": {},
   "exception": null,
   "input_path": "__notebook__.ipynb",
   "output_path": "__notebook__.ipynb",
   "parameters": {},
   "start_time": "2024-04-03T15:08:18.191937",
   "version": "2.5.0"
  }
 },
 "nbformat": 4,
 "nbformat_minor": 5
}
