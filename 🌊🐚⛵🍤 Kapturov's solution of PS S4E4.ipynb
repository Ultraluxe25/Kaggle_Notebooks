{
 "cells": [
  {
   "cell_type": "markdown",
   "id": "1ef812f2",
   "metadata": {
    "papermill": {
     "duration": 0.024783,
     "end_time": "2024-04-05T16:13:18.822547",
     "exception": false,
     "start_time": "2024-04-05T16:13:18.797764",
     "status": "completed"
    },
    "tags": []
   },
   "source": [
    "![](https://cdn.shopify.com/s/files/1/0528/8266/9745/files/aa9ba33a428bcfb93a45b4a44e5019d3.jpg?v=1676085807)"
   ]
  },
  {
   "cell_type": "code",
   "execution_count": 1,
   "id": "0befa129",
   "metadata": {
    "_cell_guid": "b1076dfc-b9ad-4769-8c92-a6c4dae69d19",
    "_kg_hide-input": true,
    "_kg_hide-output": true,
    "_uuid": "8f2839f25d086af736a60e9eeb907d3b93b6e0e5",
    "execution": {
     "iopub.execute_input": "2024-04-05T16:13:18.875352Z",
     "iopub.status.busy": "2024-04-05T16:13:18.874596Z",
     "iopub.status.idle": "2024-04-05T16:13:20.169860Z",
     "shell.execute_reply": "2024-04-05T16:13:20.167253Z"
    },
    "papermill": {
     "duration": 1.326117,
     "end_time": "2024-04-05T16:13:20.173423",
     "exception": false,
     "start_time": "2024-04-05T16:13:18.847306",
     "status": "completed"
    },
    "tags": []
   },
   "outputs": [
    {
     "name": "stdout",
     "output_type": "stream",
     "text": [
      "/kaggle/input/playground-series-s4e4/sample_submission.csv\n",
      "/kaggle/input/playground-series-s4e4/train.csv\n",
      "/kaggle/input/playground-series-s4e4/test.csv\n",
      "/kaggle/input/ps-4-e-2-abalone-dataset-from-uci/abalone.names\n",
      "/kaggle/input/ps-4-e-2-abalone-dataset-from-uci/Index\n",
      "/kaggle/input/ps-4-e-2-abalone-dataset-from-uci/abalone.data\n",
      "/kaggle/input/ps-4-e-2-abalone-dataset-from-uci/PS4 E4 original abalone dataset from UCI.csv\n"
     ]
    }
   ],
   "source": [
    "# This Python 3 environment comes with many helpful analytics libraries installed\n",
    "# It is defined by the kaggle/python Docker image: https://github.com/kaggle/docker-python\n",
    "# For example, here's several helpful packages to load\n",
    "\n",
    "import numpy as np # linear algebra\n",
    "import pandas as pd # data processing, CSV file I/O (e.g. pd.read_csv)\n",
    "\n",
    "# Input data files are available in the read-only \"../input/\" directory\n",
    "# For example, running this (by clicking run or pressing Shift+Enter) will list all files under the input directory\n",
    "\n",
    "import os\n",
    "for dirname, _, filenames in os.walk('/kaggle/input'):\n",
    "    for filename in filenames:\n",
    "        print(os.path.join(dirname, filename))\n",
    "\n",
    "# You can write up to 20GB to the current directory (/kaggle/working/) that gets preserved as output when you create a version using \"Save & Run All\" \n",
    "# You can also write temporary files to /kaggle/temp/, but they won't be saved outside of the current session"
   ]
  },
  {
   "cell_type": "markdown",
   "id": "ef8a5354",
   "metadata": {
    "papermill": {
     "duration": 0.025883,
     "end_time": "2024-04-05T16:13:20.225892",
     "exception": false,
     "start_time": "2024-04-05T16:13:20.200009",
     "status": "completed"
    },
    "tags": []
   },
   "source": [
    "## **Your Goal**: Predict the age of abalone from various physical measurements."
   ]
  },
  {
   "cell_type": "markdown",
   "id": "b304ceb7",
   "metadata": {
    "papermill": {
     "duration": 0.024127,
     "end_time": "2024-04-05T16:13:20.276433",
     "exception": false,
     "start_time": "2024-04-05T16:13:20.252306",
     "status": "completed"
    },
    "tags": []
   },
   "source": [
    "- <font face=\"Bahnschrift Condensed\" style=\"font-size: 14pt; color: #3EB489\">\n",
    "Predicting the age of abalone from physical measurements. The age of\n",
    "abalone is determined by cutting the shell through the cone, staining it,\n",
    "and counting the number of rings through a microscope -- a boring and\n",
    "time-consuming task.  Other measurements, which are easier to obtain, are\n",
    "used to predict the age.  Further information, such as weather patterns\n",
    "and location (hence food availability) may be required to solve the problem.\n",
    "</font>\n",
    "  \n",
    "  \n",
    "- <font face=\"Bahnschrift Condensed\" style=\"font-size: 14pt; color: #3EB489\">\n",
    "From the original data examples with missing values were removed (the\n",
    "majority having the predicted value missing), and the ranges of the\n",
    "continuous values have been scaled for use with an ANN (by dividing by 200).\n",
    "</font>"
   ]
  },
  {
   "cell_type": "markdown",
   "id": "c5b5e854",
   "metadata": {
    "papermill": {
     "duration": 0.02455,
     "end_time": "2024-04-05T16:13:20.326854",
     "exception": false,
     "start_time": "2024-04-05T16:13:20.302304",
     "status": "completed"
    },
    "tags": []
   },
   "source": [
    "![](https://www.kaggle.com/competitions/72489/images/header)"
   ]
  },
  {
   "cell_type": "markdown",
   "id": "a957ca82",
   "metadata": {
    "papermill": {
     "duration": 0.024178,
     "end_time": "2024-04-05T16:13:20.375702",
     "exception": false,
     "start_time": "2024-04-05T16:13:20.351524",
     "status": "completed"
    },
    "tags": []
   },
   "source": [
    "## <font face=\"Bahnschrift Condensed\" style=\"font-size: 14pt; color: #3EB489\">Abalone Dataset Description</font>\n",
    "\n",
    "**<span style=\"color: orange;\">Sex:** Represents the gender of the abalone, categorized as male (M), female (F), or infant (I).\n",
    "  \n",
    "**<span style=\"color: orange;\">Length:** Denotes the longest measurement of the abalone shell, from the apex to the base, measured in millimeters.\n",
    "  \n",
    "**<span style=\"color: orange;\">Diameter:** Represents the measurement of the abalone shell perpendicular to its length, also measured in millimeters.\n",
    "  \n",
    "**<span style=\"color: orange;\">Height:** Signifies the height of the abalone shell, measured perpendicular to the plane formed by the length and diameter, in millimeters.\n",
    "  \n",
    "**<span style=\"color: orange;\">Whole Weight:** Indicates the total weight of the abalone, encompassing both the meat and the shell, measured in grams.\n",
    "  \n",
    "**<span style=\"color: orange;\">Shucked Weight:** Represents the weight of the abalone meat only, measured in grams. It indicates the amount of meat extracted from the shell.\n",
    "  \n",
    "**<span style=\"color: orange;\">Viscera Weight:** Signifies the weight of the abalone gut after bleeding, measured in grams. It provides insights into the weight of the internal organs of the abalone.\n",
    "  \n",
    "**<span style=\"color: orange;\">Shell Weight:** Represents the weight of the abalone shell only, excluding the meat, measured in grams. It provides insights into the weight distribution between the shell and the edible portion of the abalone.\n",
    "  \n",
    "**<span style=\"color: orange;\">Rings:** Signifies the number of rings present on the abalone shell, serving as an indicator of the abalone's age."
   ]
  },
  {
   "cell_type": "markdown",
   "id": "c8b084de",
   "metadata": {
    "papermill": {
     "duration": 0.024925,
     "end_time": "2024-04-05T16:13:20.427668",
     "exception": false,
     "start_time": "2024-04-05T16:13:20.402743",
     "status": "completed"
    },
    "tags": []
   },
   "source": [
    "# <span style=\"border-radius: 30px; border: aqua solid; padding: 0px 10px 0px 10px; background-image: url(https://www.kaggle.com/competitions/72489/images/header); color: white; font-size: 50px;\">Table of Contents</span>\n",
    "\n",
    "- [Import libraries](#1)\n",
    "- [Open data files](#2)\n",
    "- [Show first 5 lines of train data](#3)\n",
    "- [Compare original train and competition train](#3.1)\n",
    "- [Concatenate original train with competition train](#3.2)\n",
    "- [Figure out how much duplicates in data](#3.3)\n",
    "- [Remove duplicates from data](#3.4)\n",
    "- [Shapes of train and test data](#4)\n",
    "- [Display descriptive statistics of train data](#5)\n",
    "- [Check the number of gaps for each feature](#6)\n",
    "- [One-hot encoding](#7.3)\n",
    "- [More plots](#7.4)\n",
    "- [Display histograms of distribution](#8)\n",
    "- [Let's count target of train data](#9)\n",
    "- [Transform the data with log1p](#10)\n",
    "- [Feature importance](#10.2)\n",
    "- [Build a heat map of correlations](#11)\n",
    "- [Define base models with tuned hyperparameters](#12)\n",
    "- [Defining the meta-model with tuned hyperparameters](#13)\n",
    "- [Creating and fitting the stacking model](#14)\n",
    "- [Predict validation set and calculate metrics score](#15)\n",
    "- [Predict the test data](#16)\n",
    "- [Build DataFrame and make submission](#17)\n",
    "- [Save the model into pickle file](#18)"
   ]
  },
  {
   "cell_type": "markdown",
   "id": "d91c1dc2",
   "metadata": {
    "papermill": {
     "duration": 0.024037,
     "end_time": "2024-04-05T16:13:20.478141",
     "exception": false,
     "start_time": "2024-04-05T16:13:20.454104",
     "status": "completed"
    },
    "tags": []
   },
   "source": [
    "<a id='1'></a>\n",
    "# <span style=\"border-radius: 30px; border: aqua solid; padding: 0px 10px 0px 10px; color: #3EB489; border-bottom: 6px solid  #20603D; background-color: #fadb8c;\">🌊 Import libraries</span>"
   ]
  },
  {
   "cell_type": "code",
   "execution_count": 2,
   "id": "32922d85",
   "metadata": {
    "execution": {
     "iopub.execute_input": "2024-04-05T16:13:20.531263Z",
     "iopub.status.busy": "2024-04-05T16:13:20.530597Z",
     "iopub.status.idle": "2024-04-05T16:13:25.586440Z",
     "shell.execute_reply": "2024-04-05T16:13:25.584885Z"
    },
    "papermill": {
     "duration": 5.086997,
     "end_time": "2024-04-05T16:13:25.589706",
     "exception": false,
     "start_time": "2024-04-05T16:13:20.502709",
     "status": "completed"
    },
    "tags": []
   },
   "outputs": [],
   "source": [
    "import numpy as np\n",
    "import pandas as pd\n",
    "import matplotlib.pyplot as plt\n",
    "import seaborn as sns\n",
    "import optuna\n",
    "from optuna.samplers import TPESampler\n",
    "import pickle\n",
    "from sklearn.model_selection import train_test_split\n",
    "from sklearn.ensemble import RandomForestRegressor\n",
    "from sklearn.ensemble import StackingRegressor\n",
    "from xgboost import XGBRegressor\n",
    "from catboost import CatBoostRegressor\n",
    "from lightgbm import LGBMRegressor\n",
    "from sklearn.metrics import mean_squared_log_error"
   ]
  },
  {
   "cell_type": "markdown",
   "id": "993ef808",
   "metadata": {
    "papermill": {
     "duration": 0.024347,
     "end_time": "2024-04-05T16:13:25.639020",
     "exception": false,
     "start_time": "2024-04-05T16:13:25.614673",
     "status": "completed"
    },
    "tags": []
   },
   "source": [
    "![](data:image/jpeg;base64,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)"
   ]
  },
  {
   "cell_type": "markdown",
   "id": "52d74d9d",
   "metadata": {
    "papermill": {
     "duration": 0.023614,
     "end_time": "2024-04-05T16:13:25.686838",
     "exception": false,
     "start_time": "2024-04-05T16:13:25.663224",
     "status": "completed"
    },
    "tags": []
   },
   "source": [
    "<a id='2'></a>\n",
    "# <span style=\"border-radius: 30px; border: aqua solid; padding: 0px 10px 0px 10px; color: #3EB489; border-bottom: 6px solid  #20603D; background-color: #fadb8c;\">🐚 Open data files</span>"
   ]
  },
  {
   "cell_type": "code",
   "execution_count": 3,
   "id": "0731d761",
   "metadata": {
    "execution": {
     "iopub.execute_input": "2024-04-05T16:13:25.736360Z",
     "iopub.status.busy": "2024-04-05T16:13:25.735779Z",
     "iopub.status.idle": "2024-04-05T16:13:26.088774Z",
     "shell.execute_reply": "2024-04-05T16:13:26.087493Z"
    },
    "papermill": {
     "duration": 0.380997,
     "end_time": "2024-04-05T16:13:26.091879",
     "exception": false,
     "start_time": "2024-04-05T16:13:25.710882",
     "status": "completed"
    },
    "tags": []
   },
   "outputs": [],
   "source": [
    "original_train = pd.read_csv('/kaggle/input/ps-4-e-2-abalone-dataset-from-uci/abalone.data', header=None)\n",
    "\n",
    "train = pd.read_csv('/kaggle/input/playground-series-s4e4/train.csv')\n",
    "test = pd.read_csv('/kaggle/input/playground-series-s4e4/test.csv')\n",
    "sample_submission = pd.read_csv('/kaggle/input/playground-series-s4e4/sample_submission.csv')"
   ]
  },
  {
   "cell_type": "markdown",
   "id": "89c4ccad",
   "metadata": {
    "papermill": {
     "duration": 0.024064,
     "end_time": "2024-04-05T16:13:26.141386",
     "exception": false,
     "start_time": "2024-04-05T16:13:26.117322",
     "status": "completed"
    },
    "tags": []
   },
   "source": [
    "<a id='3'></a>\n",
    "# <span style=\"border-radius: 30px; border: aqua solid; padding: 0px 10px 0px 10px; color: #3EB489; border-bottom: 6px solid  #20603D; background-color: #fadb8c;\">⛵ Show first 5 lines of train data</span>"
   ]
  },
  {
   "cell_type": "code",
   "execution_count": 4,
   "id": "c33405c6",
   "metadata": {
    "execution": {
     "iopub.execute_input": "2024-04-05T16:13:26.192944Z",
     "iopub.status.busy": "2024-04-05T16:13:26.192504Z",
     "iopub.status.idle": "2024-04-05T16:13:26.223152Z",
     "shell.execute_reply": "2024-04-05T16:13:26.221868Z"
    },
    "papermill": {
     "duration": 0.059644,
     "end_time": "2024-04-05T16:13:26.226036",
     "exception": false,
     "start_time": "2024-04-05T16:13:26.166392",
     "status": "completed"
    },
    "tags": []
   },
   "outputs": [
    {
     "data": {
      "text/html": [
       "<div>\n",
       "<style scoped>\n",
       "    .dataframe tbody tr th:only-of-type {\n",
       "        vertical-align: middle;\n",
       "    }\n",
       "\n",
       "    .dataframe tbody tr th {\n",
       "        vertical-align: top;\n",
       "    }\n",
       "\n",
       "    .dataframe thead th {\n",
       "        text-align: right;\n",
       "    }\n",
       "</style>\n",
       "<table border=\"1\" class=\"dataframe\">\n",
       "  <thead>\n",
       "    <tr style=\"text-align: right;\">\n",
       "      <th></th>\n",
       "      <th>id</th>\n",
       "      <th>Sex</th>\n",
       "      <th>Length</th>\n",
       "      <th>Diameter</th>\n",
       "      <th>Height</th>\n",
       "      <th>Whole weight</th>\n",
       "      <th>Whole weight.1</th>\n",
       "      <th>Whole weight.2</th>\n",
       "      <th>Shell weight</th>\n",
       "      <th>Rings</th>\n",
       "    </tr>\n",
       "  </thead>\n",
       "  <tbody>\n",
       "    <tr>\n",
       "      <th>0</th>\n",
       "      <td>0</td>\n",
       "      <td>F</td>\n",
       "      <td>0.550</td>\n",
       "      <td>0.430</td>\n",
       "      <td>0.150</td>\n",
       "      <td>0.7715</td>\n",
       "      <td>0.3285</td>\n",
       "      <td>0.1465</td>\n",
       "      <td>0.2400</td>\n",
       "      <td>11</td>\n",
       "    </tr>\n",
       "    <tr>\n",
       "      <th>1</th>\n",
       "      <td>1</td>\n",
       "      <td>F</td>\n",
       "      <td>0.630</td>\n",
       "      <td>0.490</td>\n",
       "      <td>0.145</td>\n",
       "      <td>1.1300</td>\n",
       "      <td>0.4580</td>\n",
       "      <td>0.2765</td>\n",
       "      <td>0.3200</td>\n",
       "      <td>11</td>\n",
       "    </tr>\n",
       "    <tr>\n",
       "      <th>2</th>\n",
       "      <td>2</td>\n",
       "      <td>I</td>\n",
       "      <td>0.160</td>\n",
       "      <td>0.110</td>\n",
       "      <td>0.025</td>\n",
       "      <td>0.0210</td>\n",
       "      <td>0.0055</td>\n",
       "      <td>0.0030</td>\n",
       "      <td>0.0050</td>\n",
       "      <td>6</td>\n",
       "    </tr>\n",
       "    <tr>\n",
       "      <th>3</th>\n",
       "      <td>3</td>\n",
       "      <td>M</td>\n",
       "      <td>0.595</td>\n",
       "      <td>0.475</td>\n",
       "      <td>0.150</td>\n",
       "      <td>0.9145</td>\n",
       "      <td>0.3755</td>\n",
       "      <td>0.2055</td>\n",
       "      <td>0.2500</td>\n",
       "      <td>10</td>\n",
       "    </tr>\n",
       "    <tr>\n",
       "      <th>4</th>\n",
       "      <td>4</td>\n",
       "      <td>I</td>\n",
       "      <td>0.555</td>\n",
       "      <td>0.425</td>\n",
       "      <td>0.130</td>\n",
       "      <td>0.7820</td>\n",
       "      <td>0.3695</td>\n",
       "      <td>0.1600</td>\n",
       "      <td>0.1975</td>\n",
       "      <td>9</td>\n",
       "    </tr>\n",
       "  </tbody>\n",
       "</table>\n",
       "</div>"
      ],
      "text/plain": [
       "   id Sex  Length  Diameter  Height  Whole weight  Whole weight.1  \\\n",
       "0   0   F   0.550     0.430   0.150        0.7715          0.3285   \n",
       "1   1   F   0.630     0.490   0.145        1.1300          0.4580   \n",
       "2   2   I   0.160     0.110   0.025        0.0210          0.0055   \n",
       "3   3   M   0.595     0.475   0.150        0.9145          0.3755   \n",
       "4   4   I   0.555     0.425   0.130        0.7820          0.3695   \n",
       "\n",
       "   Whole weight.2  Shell weight  Rings  \n",
       "0          0.1465        0.2400     11  \n",
       "1          0.2765        0.3200     11  \n",
       "2          0.0030        0.0050      6  \n",
       "3          0.2055        0.2500     10  \n",
       "4          0.1600        0.1975      9  "
      ]
     },
     "execution_count": 4,
     "metadata": {},
     "output_type": "execute_result"
    }
   ],
   "source": [
    "# Show all properties on display\n",
    "pd.set_option('display.max_columns', None)\n",
    "\n",
    "train.head()"
   ]
  },
  {
   "cell_type": "code",
   "execution_count": 5,
   "id": "769b8114",
   "metadata": {
    "execution": {
     "iopub.execute_input": "2024-04-05T16:13:26.278540Z",
     "iopub.status.busy": "2024-04-05T16:13:26.278113Z",
     "iopub.status.idle": "2024-04-05T16:13:26.297485Z",
     "shell.execute_reply": "2024-04-05T16:13:26.296353Z"
    },
    "papermill": {
     "duration": 0.048096,
     "end_time": "2024-04-05T16:13:26.299775",
     "exception": false,
     "start_time": "2024-04-05T16:13:26.251679",
     "status": "completed"
    },
    "tags": []
   },
   "outputs": [
    {
     "data": {
      "text/html": [
       "<div>\n",
       "<style scoped>\n",
       "    .dataframe tbody tr th:only-of-type {\n",
       "        vertical-align: middle;\n",
       "    }\n",
       "\n",
       "    .dataframe tbody tr th {\n",
       "        vertical-align: top;\n",
       "    }\n",
       "\n",
       "    .dataframe thead th {\n",
       "        text-align: right;\n",
       "    }\n",
       "</style>\n",
       "<table border=\"1\" class=\"dataframe\">\n",
       "  <thead>\n",
       "    <tr style=\"text-align: right;\">\n",
       "      <th></th>\n",
       "      <th>id</th>\n",
       "      <th>Sex</th>\n",
       "      <th>Length</th>\n",
       "      <th>Diameter</th>\n",
       "      <th>Height</th>\n",
       "      <th>Whole weight</th>\n",
       "      <th>Whole weight.1</th>\n",
       "      <th>Whole weight.2</th>\n",
       "      <th>Shell weight</th>\n",
       "    </tr>\n",
       "  </thead>\n",
       "  <tbody>\n",
       "    <tr>\n",
       "      <th>0</th>\n",
       "      <td>90615</td>\n",
       "      <td>M</td>\n",
       "      <td>0.645</td>\n",
       "      <td>0.475</td>\n",
       "      <td>0.155</td>\n",
       "      <td>1.2380</td>\n",
       "      <td>0.6185</td>\n",
       "      <td>0.3125</td>\n",
       "      <td>0.3005</td>\n",
       "    </tr>\n",
       "    <tr>\n",
       "      <th>1</th>\n",
       "      <td>90616</td>\n",
       "      <td>M</td>\n",
       "      <td>0.580</td>\n",
       "      <td>0.460</td>\n",
       "      <td>0.160</td>\n",
       "      <td>0.9830</td>\n",
       "      <td>0.4785</td>\n",
       "      <td>0.2195</td>\n",
       "      <td>0.2750</td>\n",
       "    </tr>\n",
       "    <tr>\n",
       "      <th>2</th>\n",
       "      <td>90617</td>\n",
       "      <td>M</td>\n",
       "      <td>0.560</td>\n",
       "      <td>0.420</td>\n",
       "      <td>0.140</td>\n",
       "      <td>0.8395</td>\n",
       "      <td>0.3525</td>\n",
       "      <td>0.1845</td>\n",
       "      <td>0.2405</td>\n",
       "    </tr>\n",
       "    <tr>\n",
       "      <th>3</th>\n",
       "      <td>90618</td>\n",
       "      <td>M</td>\n",
       "      <td>0.570</td>\n",
       "      <td>0.490</td>\n",
       "      <td>0.145</td>\n",
       "      <td>0.8740</td>\n",
       "      <td>0.3525</td>\n",
       "      <td>0.1865</td>\n",
       "      <td>0.2350</td>\n",
       "    </tr>\n",
       "    <tr>\n",
       "      <th>4</th>\n",
       "      <td>90619</td>\n",
       "      <td>I</td>\n",
       "      <td>0.415</td>\n",
       "      <td>0.325</td>\n",
       "      <td>0.110</td>\n",
       "      <td>0.3580</td>\n",
       "      <td>0.1575</td>\n",
       "      <td>0.0670</td>\n",
       "      <td>0.1050</td>\n",
       "    </tr>\n",
       "  </tbody>\n",
       "</table>\n",
       "</div>"
      ],
      "text/plain": [
       "      id Sex  Length  Diameter  Height  Whole weight  Whole weight.1  \\\n",
       "0  90615   M   0.645     0.475   0.155        1.2380          0.6185   \n",
       "1  90616   M   0.580     0.460   0.160        0.9830          0.4785   \n",
       "2  90617   M   0.560     0.420   0.140        0.8395          0.3525   \n",
       "3  90618   M   0.570     0.490   0.145        0.8740          0.3525   \n",
       "4  90619   I   0.415     0.325   0.110        0.3580          0.1575   \n",
       "\n",
       "   Whole weight.2  Shell weight  \n",
       "0          0.3125        0.3005  \n",
       "1          0.2195        0.2750  \n",
       "2          0.1845        0.2405  \n",
       "3          0.1865        0.2350  \n",
       "4          0.0670        0.1050  "
      ]
     },
     "execution_count": 5,
     "metadata": {},
     "output_type": "execute_result"
    }
   ],
   "source": [
    "test.head()"
   ]
  },
  {
   "cell_type": "markdown",
   "id": "ada2052d",
   "metadata": {
    "papermill": {
     "duration": 0.024658,
     "end_time": "2024-04-05T16:13:26.348850",
     "exception": false,
     "start_time": "2024-04-05T16:13:26.324192",
     "status": "completed"
    },
    "tags": []
   },
   "source": [
    "### Target feature is 'Rings'"
   ]
  },
  {
   "cell_type": "markdown",
   "id": "14f64799",
   "metadata": {
    "papermill": {
     "duration": 0.024064,
     "end_time": "2024-04-05T16:13:26.397710",
     "exception": false,
     "start_time": "2024-04-05T16:13:26.373646",
     "status": "completed"
    },
    "tags": []
   },
   "source": [
    "<a id='3.1'></a>\n",
    "# <span style=\"border-radius: 30px; border: aqua solid; padding: 0px 10px 0px 10px; color: #3EB489; border-bottom: 6px solid  #20603D; background-color: #fadb8c;\">🍤 Compare original train and competition train</span>"
   ]
  },
  {
   "cell_type": "code",
   "execution_count": 6,
   "id": "aaedfa05",
   "metadata": {
    "execution": {
     "iopub.execute_input": "2024-04-05T16:13:26.449722Z",
     "iopub.status.busy": "2024-04-05T16:13:26.449235Z",
     "iopub.status.idle": "2024-04-05T16:13:26.457518Z",
     "shell.execute_reply": "2024-04-05T16:13:26.456592Z"
    },
    "papermill": {
     "duration": 0.038231,
     "end_time": "2024-04-05T16:13:26.460257",
     "exception": false,
     "start_time": "2024-04-05T16:13:26.422026",
     "status": "completed"
    },
    "tags": []
   },
   "outputs": [
    {
     "name": "stdout",
     "output_type": "stream",
     "text": [
      "(4177, 9)\n"
     ]
    },
    {
     "data": {
      "text/plain": [
       "[0, 1, 2, 3, 4, 5, 6, 7, 8]"
      ]
     },
     "execution_count": 6,
     "metadata": {},
     "output_type": "execute_result"
    }
   ],
   "source": [
    "print(original_train.shape)\n",
    "original_train.columns.tolist()"
   ]
  },
  {
   "cell_type": "markdown",
   "id": "de4049f7",
   "metadata": {
    "papermill": {
     "duration": 0.090647,
     "end_time": "2024-04-05T16:13:26.577463",
     "exception": false,
     "start_time": "2024-04-05T16:13:26.486816",
     "status": "completed"
    },
    "tags": []
   },
   "source": [
    "### In original data there is no columns in file .data"
   ]
  },
  {
   "cell_type": "code",
   "execution_count": 7,
   "id": "4737c644",
   "metadata": {
    "execution": {
     "iopub.execute_input": "2024-04-05T16:13:26.630779Z",
     "iopub.status.busy": "2024-04-05T16:13:26.629960Z",
     "iopub.status.idle": "2024-04-05T16:13:26.694927Z",
     "shell.execute_reply": "2024-04-05T16:13:26.694017Z"
    },
    "papermill": {
     "duration": 0.093933,
     "end_time": "2024-04-05T16:13:26.697100",
     "exception": false,
     "start_time": "2024-04-05T16:13:26.603167",
     "status": "completed"
    },
    "tags": []
   },
   "outputs": [
    {
     "data": {
      "text/html": [
       "<div>\n",
       "<style scoped>\n",
       "    .dataframe tbody tr th:only-of-type {\n",
       "        vertical-align: middle;\n",
       "    }\n",
       "\n",
       "    .dataframe tbody tr th {\n",
       "        vertical-align: top;\n",
       "    }\n",
       "\n",
       "    .dataframe thead th {\n",
       "        text-align: right;\n",
       "    }\n",
       "</style>\n",
       "<table border=\"1\" class=\"dataframe\">\n",
       "  <thead>\n",
       "    <tr style=\"text-align: right;\">\n",
       "      <th></th>\n",
       "      <th>Sex</th>\n",
       "      <th>Length</th>\n",
       "      <th>Diameter</th>\n",
       "      <th>Height</th>\n",
       "      <th>Whole weight</th>\n",
       "      <th>Whole weight.1</th>\n",
       "      <th>Whole weight.2</th>\n",
       "      <th>Shell weight</th>\n",
       "      <th>Rings</th>\n",
       "    </tr>\n",
       "  </thead>\n",
       "  <tbody>\n",
       "    <tr>\n",
       "      <th>4172</th>\n",
       "      <td>F</td>\n",
       "      <td>0.565</td>\n",
       "      <td>0.450</td>\n",
       "      <td>0.165</td>\n",
       "      <td>0.8870</td>\n",
       "      <td>0.3700</td>\n",
       "      <td>0.2390</td>\n",
       "      <td>0.2490</td>\n",
       "      <td>11</td>\n",
       "    </tr>\n",
       "    <tr>\n",
       "      <th>4173</th>\n",
       "      <td>M</td>\n",
       "      <td>0.590</td>\n",
       "      <td>0.440</td>\n",
       "      <td>0.135</td>\n",
       "      <td>0.9660</td>\n",
       "      <td>0.4390</td>\n",
       "      <td>0.2145</td>\n",
       "      <td>0.2605</td>\n",
       "      <td>10</td>\n",
       "    </tr>\n",
       "    <tr>\n",
       "      <th>4174</th>\n",
       "      <td>M</td>\n",
       "      <td>0.600</td>\n",
       "      <td>0.475</td>\n",
       "      <td>0.205</td>\n",
       "      <td>1.1760</td>\n",
       "      <td>0.5255</td>\n",
       "      <td>0.2875</td>\n",
       "      <td>0.3080</td>\n",
       "      <td>9</td>\n",
       "    </tr>\n",
       "    <tr>\n",
       "      <th>4175</th>\n",
       "      <td>F</td>\n",
       "      <td>0.625</td>\n",
       "      <td>0.485</td>\n",
       "      <td>0.150</td>\n",
       "      <td>1.0945</td>\n",
       "      <td>0.5310</td>\n",
       "      <td>0.2610</td>\n",
       "      <td>0.2960</td>\n",
       "      <td>10</td>\n",
       "    </tr>\n",
       "    <tr>\n",
       "      <th>4176</th>\n",
       "      <td>M</td>\n",
       "      <td>0.710</td>\n",
       "      <td>0.555</td>\n",
       "      <td>0.195</td>\n",
       "      <td>1.9485</td>\n",
       "      <td>0.9455</td>\n",
       "      <td>0.3765</td>\n",
       "      <td>0.4950</td>\n",
       "      <td>12</td>\n",
       "    </tr>\n",
       "  </tbody>\n",
       "</table>\n",
       "</div>"
      ],
      "text/plain": [
       "     Sex  Length  Diameter  Height  Whole weight  Whole weight.1  \\\n",
       "4172   F   0.565     0.450   0.165        0.8870          0.3700   \n",
       "4173   M   0.590     0.440   0.135        0.9660          0.4390   \n",
       "4174   M   0.600     0.475   0.205        1.1760          0.5255   \n",
       "4175   F   0.625     0.485   0.150        1.0945          0.5310   \n",
       "4176   M   0.710     0.555   0.195        1.9485          0.9455   \n",
       "\n",
       "      Whole weight.2  Shell weight  Rings  \n",
       "4172          0.2390        0.2490     11  \n",
       "4173          0.2145        0.2605     10  \n",
       "4174          0.2875        0.3080      9  \n",
       "4175          0.2610        0.2960     10  \n",
       "4176          0.3765        0.4950     12  "
      ]
     },
     "execution_count": 7,
     "metadata": {},
     "output_type": "execute_result"
    }
   ],
   "source": [
    "# Save original dataset into .csv\n",
    "original_train.columns = train.columns[1:]\n",
    "original_train.to_csv('🌊🐚⛵🍤 PS4 E4 original abalone dataset from UCI.csv', index=False)\n",
    "original_train.tail()"
   ]
  },
  {
   "cell_type": "code",
   "execution_count": 8,
   "id": "4855596e",
   "metadata": {
    "execution": {
     "iopub.execute_input": "2024-04-05T16:13:26.750560Z",
     "iopub.status.busy": "2024-04-05T16:13:26.749696Z",
     "iopub.status.idle": "2024-04-05T16:13:26.759281Z",
     "shell.execute_reply": "2024-04-05T16:13:26.757920Z"
    },
    "papermill": {
     "duration": 0.038635,
     "end_time": "2024-04-05T16:13:26.762002",
     "exception": false,
     "start_time": "2024-04-05T16:13:26.723367",
     "status": "completed"
    },
    "tags": []
   },
   "outputs": [
    {
     "name": "stdout",
     "output_type": "stream",
     "text": [
      "(90615, 10)\n"
     ]
    },
    {
     "data": {
      "text/plain": [
       "['id',\n",
       " 'Sex',\n",
       " 'Length',\n",
       " 'Diameter',\n",
       " 'Height',\n",
       " 'Whole weight',\n",
       " 'Whole weight.1',\n",
       " 'Whole weight.2',\n",
       " 'Shell weight',\n",
       " 'Rings']"
      ]
     },
     "execution_count": 8,
     "metadata": {},
     "output_type": "execute_result"
    }
   ],
   "source": [
    "print(train.shape)\n",
    "train.columns.tolist()"
   ]
  },
  {
   "cell_type": "markdown",
   "id": "f7e26b95",
   "metadata": {
    "papermill": {
     "duration": 0.025197,
     "end_time": "2024-04-05T16:13:26.813514",
     "exception": false,
     "start_time": "2024-04-05T16:13:26.788317",
     "status": "completed"
    },
    "tags": []
   },
   "source": [
    "<a id='3.2'></a>\n",
    "# <span style=\"border-radius: 30px; border: aqua solid; padding: 0px 10px 0px 10px; color: #3EB489; border-bottom: 6px solid  #20603D; background-color: #fadb8c;\">🌊 Concatenate original train with competition train"
   ]
  },
  {
   "cell_type": "code",
   "execution_count": 9,
   "id": "91e51288",
   "metadata": {
    "execution": {
     "iopub.execute_input": "2024-04-05T16:13:26.866559Z",
     "iopub.status.busy": "2024-04-05T16:13:26.866188Z",
     "iopub.status.idle": "2024-04-05T16:13:26.889774Z",
     "shell.execute_reply": "2024-04-05T16:13:26.888571Z"
    },
    "papermill": {
     "duration": 0.053093,
     "end_time": "2024-04-05T16:13:26.892592",
     "exception": false,
     "start_time": "2024-04-05T16:13:26.839499",
     "status": "completed"
    },
    "tags": []
   },
   "outputs": [],
   "source": [
    "submission_id = test.id\n",
    "\n",
    "train.drop(columns='id', axis=1, inplace=True)\n",
    "test.drop(columns='id', axis=1, inplace=True)"
   ]
  },
  {
   "cell_type": "code",
   "execution_count": 10,
   "id": "0c1c74ab",
   "metadata": {
    "execution": {
     "iopub.execute_input": "2024-04-05T16:13:26.947014Z",
     "iopub.status.busy": "2024-04-05T16:13:26.946573Z",
     "iopub.status.idle": "2024-04-05T16:13:26.961437Z",
     "shell.execute_reply": "2024-04-05T16:13:26.960234Z"
    },
    "papermill": {
     "duration": 0.045014,
     "end_time": "2024-04-05T16:13:26.964110",
     "exception": false,
     "start_time": "2024-04-05T16:13:26.919096",
     "status": "completed"
    },
    "tags": []
   },
   "outputs": [
    {
     "data": {
      "text/plain": [
       "(94792, 9)"
      ]
     },
     "execution_count": 10,
     "metadata": {},
     "output_type": "execute_result"
    }
   ],
   "source": [
    "train = pd.concat(objs=[train, original_train])\n",
    "train.shape"
   ]
  },
  {
   "cell_type": "markdown",
   "id": "9faa64f4",
   "metadata": {
    "papermill": {
     "duration": 0.025835,
     "end_time": "2024-04-05T16:13:27.016259",
     "exception": false,
     "start_time": "2024-04-05T16:13:26.990424",
     "status": "completed"
    },
    "tags": []
   },
   "source": [
    "<a id='3.3'></a>\n",
    "# <span style=\"border-radius: 30px; border: aqua solid; padding: 0px 10px 0px 10px; color: #3EB489; border-bottom: 6px solid  #20603D; background-color: #fadb8c;\">🐚 Figure out how much duplicates in data"
   ]
  },
  {
   "cell_type": "code",
   "execution_count": 11,
   "id": "fd64dc2e",
   "metadata": {
    "execution": {
     "iopub.execute_input": "2024-04-05T16:13:27.073843Z",
     "iopub.status.busy": "2024-04-05T16:13:27.072809Z",
     "iopub.status.idle": "2024-04-05T16:13:27.146992Z",
     "shell.execute_reply": "2024-04-05T16:13:27.145601Z"
    },
    "papermill": {
     "duration": 0.107172,
     "end_time": "2024-04-05T16:13:27.149893",
     "exception": false,
     "start_time": "2024-04-05T16:13:27.042721",
     "status": "completed"
    },
    "tags": []
   },
   "outputs": [
    {
     "name": "stdout",
     "output_type": "stream",
     "text": [
      "0\n",
      "0\n"
     ]
    }
   ],
   "source": [
    "train_duplicates_number = train[train.duplicated()]\n",
    "test_duplicates_number = test[test.duplicated()]\n",
    "                             \n",
    "print(len(train_duplicates_number))\n",
    "print(len(test_duplicates_number))"
   ]
  },
  {
   "cell_type": "markdown",
   "id": "5a0ba8c5",
   "metadata": {
    "papermill": {
     "duration": 0.0275,
     "end_time": "2024-04-05T16:13:27.203843",
     "exception": false,
     "start_time": "2024-04-05T16:13:27.176343",
     "status": "completed"
    },
    "tags": []
   },
   "source": [
    "#### There are no any duplicats in data but if they would be presented use code below"
   ]
  },
  {
   "cell_type": "markdown",
   "id": "82650f87",
   "metadata": {
    "papermill": {
     "duration": 0.026257,
     "end_time": "2024-04-05T16:13:27.255711",
     "exception": false,
     "start_time": "2024-04-05T16:13:27.229454",
     "status": "completed"
    },
    "tags": []
   },
   "source": [
    "<a id='3.4'></a>\n",
    "# <span style=\"border-radius: 30px; border: aqua solid; padding: 0px 10px 0px 10px; color: #3EB489; border-bottom: 6px solid  #20603D; background-color: #fadb8c;\">⛵ Remove duplicates from data"
   ]
  },
  {
   "cell_type": "code",
   "execution_count": 12,
   "id": "c247042e",
   "metadata": {
    "execution": {
     "iopub.execute_input": "2024-04-05T16:13:27.308892Z",
     "iopub.status.busy": "2024-04-05T16:13:27.308473Z",
     "iopub.status.idle": "2024-04-05T16:13:27.386347Z",
     "shell.execute_reply": "2024-04-05T16:13:27.384607Z"
    },
    "papermill": {
     "duration": 0.107949,
     "end_time": "2024-04-05T16:13:27.389230",
     "exception": false,
     "start_time": "2024-04-05T16:13:27.281281",
     "status": "completed"
    },
    "tags": []
   },
   "outputs": [
    {
     "name": "stdout",
     "output_type": "stream",
     "text": [
      "0\n"
     ]
    }
   ],
   "source": [
    "train = train.drop_duplicates()\n",
    "\n",
    "# Check whether all duplicates were removed\n",
    "train_duplicates = train[train.duplicated()]\n",
    "print(len(train_duplicates))"
   ]
  },
  {
   "cell_type": "markdown",
   "id": "3b840ae4",
   "metadata": {
    "papermill": {
     "duration": 0.027612,
     "end_time": "2024-04-05T16:13:27.443232",
     "exception": false,
     "start_time": "2024-04-05T16:13:27.415620",
     "status": "completed"
    },
    "tags": []
   },
   "source": [
    "<a id='4'></a>\n",
    "# <span style=\"border-radius: 30px; border: aqua solid; padding: 0px 10px 0px 10px; color: #3EB489; border-bottom: 6px solid  #20603D; background-color: #fadb8c;\">🐟 Shapes of train and test data</span>"
   ]
  },
  {
   "cell_type": "code",
   "execution_count": 13,
   "id": "f62493a4",
   "metadata": {
    "execution": {
     "iopub.execute_input": "2024-04-05T16:13:27.499086Z",
     "iopub.status.busy": "2024-04-05T16:13:27.498666Z",
     "iopub.status.idle": "2024-04-05T16:13:27.506079Z",
     "shell.execute_reply": "2024-04-05T16:13:27.504663Z"
    },
    "papermill": {
     "duration": 0.038897,
     "end_time": "2024-04-05T16:13:27.509191",
     "exception": false,
     "start_time": "2024-04-05T16:13:27.470294",
     "status": "completed"
    },
    "tags": []
   },
   "outputs": [
    {
     "name": "stdout",
     "output_type": "stream",
     "text": [
      "Train data: (94792, 9)\n",
      "Test data: (60411, 8)\n",
      "\n",
      "Train data consists of 61.08% of all observations\n",
      "Test data consists of 38.92% of all observations\n"
     ]
    }
   ],
   "source": [
    "print(f'Train data: {train.shape}')\n",
    "print(f'Test data: {test.shape}\\n')\n",
    "\n",
    "train_data_percentage = np.round(train.shape[0] / (train.shape[0] + test.shape[0]), 4)\n",
    "print(f'Train data consists of {train_data_percentage * 100}% of all observations')\n",
    "print(f'Test data consists of {(1 - train_data_percentage) * 100}% of all observations')"
   ]
  },
  {
   "cell_type": "markdown",
   "id": "5bed7474",
   "metadata": {
    "papermill": {
     "duration": 0.025724,
     "end_time": "2024-04-05T16:13:27.561814",
     "exception": false,
     "start_time": "2024-04-05T16:13:27.536090",
     "status": "completed"
    },
    "tags": []
   },
   "source": [
    "![](https://www.altnaturals.com/cdn/shop/products/All-AbaloneSizes-Small_1500x411.jpg?v=1637679377)"
   ]
  },
  {
   "cell_type": "markdown",
   "id": "ce05b492",
   "metadata": {
    "papermill": {
     "duration": 0.026854,
     "end_time": "2024-04-05T16:13:27.614723",
     "exception": false,
     "start_time": "2024-04-05T16:13:27.587869",
     "status": "completed"
    },
    "tags": []
   },
   "source": [
    "<a id='5'></a>\n",
    "# <span style=\"border-radius: 30px; border: aqua solid; padding: 0px 10px 0px 10px; color: #3EB489; border-bottom: 6px solid  #20603D; background-color: #fadb8c;\">🐠 Display descriptive statistics of train data</span>"
   ]
  },
  {
   "cell_type": "code",
   "execution_count": 14,
   "id": "c1b83ee2",
   "metadata": {
    "execution": {
     "iopub.execute_input": "2024-04-05T16:13:27.669523Z",
     "iopub.status.busy": "2024-04-05T16:13:27.669054Z",
     "iopub.status.idle": "2024-04-05T16:13:27.743356Z",
     "shell.execute_reply": "2024-04-05T16:13:27.742069Z"
    },
    "papermill": {
     "duration": 0.104309,
     "end_time": "2024-04-05T16:13:27.746172",
     "exception": false,
     "start_time": "2024-04-05T16:13:27.641863",
     "status": "completed"
    },
    "tags": []
   },
   "outputs": [
    {
     "data": {
      "text/html": [
       "<div>\n",
       "<style scoped>\n",
       "    .dataframe tbody tr th:only-of-type {\n",
       "        vertical-align: middle;\n",
       "    }\n",
       "\n",
       "    .dataframe tbody tr th {\n",
       "        vertical-align: top;\n",
       "    }\n",
       "\n",
       "    .dataframe thead th {\n",
       "        text-align: right;\n",
       "    }\n",
       "</style>\n",
       "<table border=\"1\" class=\"dataframe\">\n",
       "  <thead>\n",
       "    <tr style=\"text-align: right;\">\n",
       "      <th></th>\n",
       "      <th>count</th>\n",
       "      <th>mean</th>\n",
       "      <th>std</th>\n",
       "      <th>min</th>\n",
       "      <th>25%</th>\n",
       "      <th>50%</th>\n",
       "      <th>75%</th>\n",
       "      <th>max</th>\n",
       "    </tr>\n",
       "  </thead>\n",
       "  <tbody>\n",
       "    <tr>\n",
       "      <th>Length</th>\n",
       "      <td>94792.0</td>\n",
       "      <td>0.517402</td>\n",
       "      <td>0.118308</td>\n",
       "      <td>0.0750</td>\n",
       "      <td>0.4450</td>\n",
       "      <td>0.5450</td>\n",
       "      <td>0.6000</td>\n",
       "      <td>0.8150</td>\n",
       "    </tr>\n",
       "    <tr>\n",
       "      <th>Diameter</th>\n",
       "      <td>94792.0</td>\n",
       "      <td>0.401952</td>\n",
       "      <td>0.098088</td>\n",
       "      <td>0.0550</td>\n",
       "      <td>0.3450</td>\n",
       "      <td>0.4250</td>\n",
       "      <td>0.4700</td>\n",
       "      <td>0.6500</td>\n",
       "    </tr>\n",
       "    <tr>\n",
       "      <th>Height</th>\n",
       "      <td>94792.0</td>\n",
       "      <td>0.135643</td>\n",
       "      <td>0.038193</td>\n",
       "      <td>0.0000</td>\n",
       "      <td>0.1100</td>\n",
       "      <td>0.1400</td>\n",
       "      <td>0.1600</td>\n",
       "      <td>1.1300</td>\n",
       "    </tr>\n",
       "    <tr>\n",
       "      <th>Whole weight</th>\n",
       "      <td>94792.0</td>\n",
       "      <td>0.790785</td>\n",
       "      <td>0.459231</td>\n",
       "      <td>0.0020</td>\n",
       "      <td>0.4195</td>\n",
       "      <td>0.7995</td>\n",
       "      <td>1.0725</td>\n",
       "      <td>2.8255</td>\n",
       "    </tr>\n",
       "    <tr>\n",
       "      <th>Whole weight.1</th>\n",
       "      <td>94792.0</td>\n",
       "      <td>0.341597</td>\n",
       "      <td>0.205267</td>\n",
       "      <td>0.0010</td>\n",
       "      <td>0.1775</td>\n",
       "      <td>0.3300</td>\n",
       "      <td>0.4645</td>\n",
       "      <td>1.4880</td>\n",
       "    </tr>\n",
       "    <tr>\n",
       "      <th>Whole weight.2</th>\n",
       "      <td>94792.0</td>\n",
       "      <td>0.169914</td>\n",
       "      <td>0.101334</td>\n",
       "      <td>0.0005</td>\n",
       "      <td>0.0865</td>\n",
       "      <td>0.1660</td>\n",
       "      <td>0.2330</td>\n",
       "      <td>0.7600</td>\n",
       "    </tr>\n",
       "    <tr>\n",
       "      <th>Shell weight</th>\n",
       "      <td>94792.0</td>\n",
       "      <td>0.226468</td>\n",
       "      <td>0.130639</td>\n",
       "      <td>0.0015</td>\n",
       "      <td>0.1200</td>\n",
       "      <td>0.2250</td>\n",
       "      <td>0.3050</td>\n",
       "      <td>1.0050</td>\n",
       "    </tr>\n",
       "    <tr>\n",
       "      <th>Rings</th>\n",
       "      <td>94792.0</td>\n",
       "      <td>9.707233</td>\n",
       "      <td>3.178704</td>\n",
       "      <td>1.0000</td>\n",
       "      <td>8.0000</td>\n",
       "      <td>9.0000</td>\n",
       "      <td>11.0000</td>\n",
       "      <td>29.0000</td>\n",
       "    </tr>\n",
       "  </tbody>\n",
       "</table>\n",
       "</div>"
      ],
      "text/plain": [
       "                  count      mean       std     min     25%     50%      75%  \\\n",
       "Length          94792.0  0.517402  0.118308  0.0750  0.4450  0.5450   0.6000   \n",
       "Diameter        94792.0  0.401952  0.098088  0.0550  0.3450  0.4250   0.4700   \n",
       "Height          94792.0  0.135643  0.038193  0.0000  0.1100  0.1400   0.1600   \n",
       "Whole weight    94792.0  0.790785  0.459231  0.0020  0.4195  0.7995   1.0725   \n",
       "Whole weight.1  94792.0  0.341597  0.205267  0.0010  0.1775  0.3300   0.4645   \n",
       "Whole weight.2  94792.0  0.169914  0.101334  0.0005  0.0865  0.1660   0.2330   \n",
       "Shell weight    94792.0  0.226468  0.130639  0.0015  0.1200  0.2250   0.3050   \n",
       "Rings           94792.0  9.707233  3.178704  1.0000  8.0000  9.0000  11.0000   \n",
       "\n",
       "                    max  \n",
       "Length           0.8150  \n",
       "Diameter         0.6500  \n",
       "Height           1.1300  \n",
       "Whole weight     2.8255  \n",
       "Whole weight.1   1.4880  \n",
       "Whole weight.2   0.7600  \n",
       "Shell weight     1.0050  \n",
       "Rings           29.0000  "
      ]
     },
     "execution_count": 14,
     "metadata": {},
     "output_type": "execute_result"
    }
   ],
   "source": [
    "train.describe().T"
   ]
  },
  {
   "cell_type": "markdown",
   "id": "19fc1f29",
   "metadata": {
    "papermill": {
     "duration": 0.026157,
     "end_time": "2024-04-05T16:13:27.798950",
     "exception": false,
     "start_time": "2024-04-05T16:13:27.772793",
     "status": "completed"
    },
    "tags": []
   },
   "source": [
    "<a id='6'></a>\n",
    "# <span style=\"border-radius: 30px; border: aqua solid; padding: 0px 10px 0px 10px; color: #3EB489; border-bottom: 6px solid  #20603D; background-color: #fadb8c;\">🐡 Check the number of gaps for each feature</span>"
   ]
  },
  {
   "cell_type": "code",
   "execution_count": 15,
   "id": "86c1d152",
   "metadata": {
    "execution": {
     "iopub.execute_input": "2024-04-05T16:13:27.854690Z",
     "iopub.status.busy": "2024-04-05T16:13:27.854269Z",
     "iopub.status.idle": "2024-04-05T16:13:27.883925Z",
     "shell.execute_reply": "2024-04-05T16:13:27.882538Z"
    },
    "papermill": {
     "duration": 0.060968,
     "end_time": "2024-04-05T16:13:27.886622",
     "exception": false,
     "start_time": "2024-04-05T16:13:27.825654",
     "status": "completed"
    },
    "tags": []
   },
   "outputs": [
    {
     "name": "stdout",
     "output_type": "stream",
     "text": [
      "TRAIN data\n",
      "\n",
      "Sex               0\n",
      "Length            0\n",
      "Diameter          0\n",
      "Height            0\n",
      "Whole weight      0\n",
      "Whole weight.1    0\n",
      "Whole weight.2    0\n",
      "Shell weight      0\n",
      "Rings             0\n",
      "dtype: int64\n",
      "\n",
      "\n",
      "\n",
      "TEST data\n",
      "\n",
      "Sex               0\n",
      "Length            0\n",
      "Diameter          0\n",
      "Height            0\n",
      "Whole weight      0\n",
      "Whole weight.1    0\n",
      "Whole weight.2    0\n",
      "Shell weight      0\n",
      "dtype: int64\n"
     ]
    }
   ],
   "source": [
    "print('TRAIN data\\n')\n",
    "print(f'{train.isna().sum()}\\n\\n\\n')\n",
    "\n",
    "print('TEST data\\n')\n",
    "print(test.isna().sum())"
   ]
  },
  {
   "cell_type": "markdown",
   "id": "98e82129",
   "metadata": {
    "papermill": {
     "duration": 0.026663,
     "end_time": "2024-04-05T16:13:27.940772",
     "exception": false,
     "start_time": "2024-04-05T16:13:27.914109",
     "status": "completed"
    },
    "tags": []
   },
   "source": [
    "#### There is no any gaps in the data"
   ]
  },
  {
   "cell_type": "markdown",
   "id": "d8072ae2",
   "metadata": {
    "papermill": {
     "duration": 0.027357,
     "end_time": "2024-04-05T16:13:27.994334",
     "exception": false,
     "start_time": "2024-04-05T16:13:27.966977",
     "status": "completed"
    },
    "tags": []
   },
   "source": [
    "![](https://www.asnailsodyssey.com/views/images/119/Geiger&Owen2019.jpg)"
   ]
  },
  {
   "cell_type": "markdown",
   "id": "262ac259",
   "metadata": {
    "papermill": {
     "duration": 0.027,
     "end_time": "2024-04-05T16:13:28.049403",
     "exception": false,
     "start_time": "2024-04-05T16:13:28.022403",
     "status": "completed"
    },
    "tags": []
   },
   "source": [
    "<a id='7'></a>\n",
    "# <span style=\"border-radius: 30px; border: aqua solid; padding: 0px 10px 0px 10px; color: #3EB489; border-bottom: 6px solid  #20603D; background-color: #fadb8c;\">🦈 Data types of training set</span>"
   ]
  },
  {
   "cell_type": "code",
   "execution_count": 16,
   "id": "e6da1ca1",
   "metadata": {
    "execution": {
     "iopub.execute_input": "2024-04-05T16:13:28.106765Z",
     "iopub.status.busy": "2024-04-05T16:13:28.106331Z",
     "iopub.status.idle": "2024-04-05T16:13:28.136162Z",
     "shell.execute_reply": "2024-04-05T16:13:28.134774Z"
    },
    "papermill": {
     "duration": 0.061855,
     "end_time": "2024-04-05T16:13:28.139282",
     "exception": false,
     "start_time": "2024-04-05T16:13:28.077427",
     "status": "completed"
    },
    "tags": []
   },
   "outputs": [
    {
     "name": "stdout",
     "output_type": "stream",
     "text": [
      "<class 'pandas.core.frame.DataFrame'>\n",
      "Index: 94792 entries, 0 to 4176\n",
      "Data columns (total 9 columns):\n",
      " #   Column          Non-Null Count  Dtype  \n",
      "---  ------          --------------  -----  \n",
      " 0   Sex             94792 non-null  object \n",
      " 1   Length          94792 non-null  float64\n",
      " 2   Diameter        94792 non-null  float64\n",
      " 3   Height          94792 non-null  float64\n",
      " 4   Whole weight    94792 non-null  float64\n",
      " 5   Whole weight.1  94792 non-null  float64\n",
      " 6   Whole weight.2  94792 non-null  float64\n",
      " 7   Shell weight    94792 non-null  float64\n",
      " 8   Rings           94792 non-null  int64  \n",
      "dtypes: float64(7), int64(1), object(1)\n",
      "memory usage: 7.2+ MB\n"
     ]
    }
   ],
   "source": [
    "train.info()"
   ]
  },
  {
   "cell_type": "markdown",
   "id": "e2acad65",
   "metadata": {
    "papermill": {
     "duration": 0.026898,
     "end_time": "2024-04-05T16:13:28.194142",
     "exception": false,
     "start_time": "2024-04-05T16:13:28.167244",
     "status": "completed"
    },
    "tags": []
   },
   "source": [
    "#### Sex feature is object, so we have to convert in into numeric"
   ]
  },
  {
   "cell_type": "markdown",
   "id": "ff683711",
   "metadata": {
    "papermill": {
     "duration": 0.02594,
     "end_time": "2024-04-05T16:13:28.248032",
     "exception": false,
     "start_time": "2024-04-05T16:13:28.222092",
     "status": "completed"
    },
    "tags": []
   },
   "source": [
    "<a id=\"7.2\"></a>\n",
    "# <span style=\"border-radius: 30px; border: aqua solid; padding: 0px 10px 0px 10px; color: #3EB489; border-bottom: 6px solid  #20603D; background-color: #fadb8c;\">🦭 Remove duplicates from train data</span>"
   ]
  },
  {
   "cell_type": "code",
   "execution_count": 17,
   "id": "7614fbbf",
   "metadata": {
    "execution": {
     "iopub.execute_input": "2024-04-05T16:13:28.302402Z",
     "iopub.status.busy": "2024-04-05T16:13:28.302034Z",
     "iopub.status.idle": "2024-04-05T16:13:28.381808Z",
     "shell.execute_reply": "2024-04-05T16:13:28.380496Z"
    },
    "papermill": {
     "duration": 0.109852,
     "end_time": "2024-04-05T16:13:28.384292",
     "exception": false,
     "start_time": "2024-04-05T16:13:28.274440",
     "status": "completed"
    },
    "tags": []
   },
   "outputs": [
    {
     "data": {
      "text/plain": [
       "0"
      ]
     },
     "execution_count": 17,
     "metadata": {},
     "output_type": "execute_result"
    }
   ],
   "source": [
    "train = train.drop_duplicates()\n",
    "\n",
    "# Check whether all duplicates were removed\n",
    "duplicates = train[train.duplicated()]\n",
    "len(duplicates)"
   ]
  },
  {
   "cell_type": "markdown",
   "id": "a2a86bee",
   "metadata": {
    "papermill": {
     "duration": 0.026054,
     "end_time": "2024-04-05T16:13:28.437405",
     "exception": false,
     "start_time": "2024-04-05T16:13:28.411351",
     "status": "completed"
    },
    "tags": []
   },
   "source": [
    "<a id=\"7.3\"></a>\n",
    "# <span style=\"border-radius: 30px; border: aqua solid; padding: 0px 10px 0px 10px; color: #3EB489; border-bottom: 6px solid  #20603D; background-color: #fadb8c;\">🍢 One-hot encoding"
   ]
  },
  {
   "cell_type": "code",
   "execution_count": 18,
   "id": "042282ef",
   "metadata": {
    "execution": {
     "iopub.execute_input": "2024-04-05T16:13:28.496037Z",
     "iopub.status.busy": "2024-04-05T16:13:28.494998Z",
     "iopub.status.idle": "2024-04-05T16:13:28.535194Z",
     "shell.execute_reply": "2024-04-05T16:13:28.533945Z"
    },
    "papermill": {
     "duration": 0.072472,
     "end_time": "2024-04-05T16:13:28.537881",
     "exception": false,
     "start_time": "2024-04-05T16:13:28.465409",
     "status": "completed"
    },
    "tags": []
   },
   "outputs": [],
   "source": [
    "X = pd.get_dummies(train, drop_first=True, dtype=int)\n",
    "test = pd.get_dummies(test, drop_first=True, dtype=int)"
   ]
  },
  {
   "cell_type": "markdown",
   "id": "85db9db2",
   "metadata": {
    "papermill": {
     "duration": 0.026227,
     "end_time": "2024-04-05T16:13:28.591274",
     "exception": false,
     "start_time": "2024-04-05T16:13:28.565047",
     "status": "completed"
    },
    "tags": []
   },
   "source": [
    "<a id='8'></a>\n",
    "# <span style=\"border-radius: 30px; border: aqua solid; padding: 0px 10px 0px 10px; color: #3EB489; border-bottom: 6px solid  #20603D; background-color: #fadb8c;\">🦞 Display histograms of distribution</span>"
   ]
  },
  {
   "cell_type": "code",
   "execution_count": 19,
   "id": "8ed5b05b",
   "metadata": {
    "execution": {
     "iopub.execute_input": "2024-04-05T16:13:28.648241Z",
     "iopub.status.busy": "2024-04-05T16:13:28.647813Z",
     "iopub.status.idle": "2024-04-05T16:13:32.540100Z",
     "shell.execute_reply": "2024-04-05T16:13:32.538860Z"
    },
    "papermill": {
     "duration": 3.925298,
     "end_time": "2024-04-05T16:13:32.544022",
     "exception": false,
     "start_time": "2024-04-05T16:13:28.618724",
     "status": "completed"
    },
    "tags": []
   },
   "outputs": [
    {
     "data": {
      "image/png": "[encoded data removed]",
      "text/plain": [
       "<Figure size 2000x1600 with 12 Axes>"
      ]
     },
     "metadata": {},
     "output_type": "display_data"
    }
   ],
   "source": [
    "sns.set(rc={'figure.figsize': (20, 16)})\n",
    "X.hist(color='orange');"
   ]
  },
  {
   "cell_type": "markdown",
   "id": "8794f4bc",
   "metadata": {
    "papermill": {
     "duration": 0.031412,
     "end_time": "2024-04-05T16:13:32.604433",
     "exception": false,
     "start_time": "2024-04-05T16:13:32.573021",
     "status": "completed"
    },
    "tags": []
   },
   "source": [
    "<a id='9'></a>\n",
    "# <span style=\"border-radius: 30px; border: aqua solid; padding: 0px 10px 0px 10px; color: #3EB489; border-bottom: 6px solid  #20603D; background-color: #fadb8c;\">🦐 Let's count target of train data</span>"
   ]
  },
  {
   "cell_type": "code",
   "execution_count": 20,
   "id": "06133518",
   "metadata": {
    "execution": {
     "iopub.execute_input": "2024-04-05T16:13:32.667298Z",
     "iopub.status.busy": "2024-04-05T16:13:32.666173Z",
     "iopub.status.idle": "2024-04-05T16:13:32.681365Z",
     "shell.execute_reply": "2024-04-05T16:13:32.679728Z"
    },
    "papermill": {
     "duration": 0.049233,
     "end_time": "2024-04-05T16:13:32.684204",
     "exception": false,
     "start_time": "2024-04-05T16:13:32.634971",
     "status": "completed"
    },
    "tags": []
   },
   "outputs": [
    {
     "name": "stdout",
     "output_type": "stream",
     "text": [
      "Rings\n",
      "9     18154\n",
      "8     15067\n",
      "10    13098\n",
      "7      9399\n",
      "11     8894\n",
      "6      5670\n",
      "12     4986\n",
      "13     4277\n",
      "5      2977\n",
      "14     2633\n",
      "15     2175\n",
      "16     1506\n",
      "4      1459\n",
      "17     1233\n",
      "18      890\n",
      "19      671\n",
      "20      533\n",
      "3       401\n",
      "21      269\n",
      "23      189\n",
      "22      114\n",
      "27       43\n",
      "24       31\n",
      "2        30\n",
      "1        26\n",
      "29       25\n",
      "25       23\n",
      "26       19\n",
      "Name: count, dtype: int64\n",
      "\n",
      "\n",
      "Rings\n",
      "9     0.191514\n",
      "8     0.158948\n",
      "10    0.138176\n",
      "7     0.099154\n",
      "11    0.093826\n",
      "6     0.059815\n",
      "12    0.052599\n",
      "13    0.045120\n",
      "5     0.031406\n",
      "14    0.027777\n",
      "15    0.022945\n",
      "16    0.015887\n",
      "4     0.015392\n",
      "17    0.013007\n",
      "18    0.009389\n",
      "19    0.007079\n",
      "20    0.005623\n",
      "3     0.004230\n",
      "21    0.002838\n",
      "23    0.001994\n",
      "22    0.001203\n",
      "27    0.000454\n",
      "24    0.000327\n",
      "2     0.000316\n",
      "1     0.000274\n",
      "29    0.000264\n",
      "25    0.000243\n",
      "26    0.000200\n",
      "Name: count, dtype: float64\n"
     ]
    }
   ],
   "source": [
    "print(f'{train.Rings.value_counts()}\\n\\n')\n",
    "print(train.Rings.value_counts() / train.shape[0])"
   ]
  },
  {
   "cell_type": "markdown",
   "id": "5fe067f1",
   "metadata": {
    "papermill": {
     "duration": 0.028759,
     "end_time": "2024-04-05T16:13:32.742580",
     "exception": false,
     "start_time": "2024-04-05T16:13:32.713821",
     "status": "completed"
    },
    "tags": []
   },
   "source": [
    "<a id='10'></a>\n",
    "# <span style=\"border-radius: 30px; border: aqua solid; padding: 0px 10px 0px 10px; color: #3EB489; border-bottom: 6px solid  #20603D; background-color: #fadb8c;\">🦑 Transorm the data with MinMax</span>"
   ]
  },
  {
   "cell_type": "code",
   "execution_count": 21,
   "id": "e6d9e622",
   "metadata": {
    "execution": {
     "iopub.execute_input": "2024-04-05T16:13:32.803201Z",
     "iopub.status.busy": "2024-04-05T16:13:32.802424Z",
     "iopub.status.idle": "2024-04-05T16:13:32.811581Z",
     "shell.execute_reply": "2024-04-05T16:13:32.810640Z"
    },
    "papermill": {
     "duration": 0.042507,
     "end_time": "2024-04-05T16:13:32.814251",
     "exception": false,
     "start_time": "2024-04-05T16:13:32.771744",
     "status": "completed"
    },
    "tags": []
   },
   "outputs": [],
   "source": [
    "# Split the train data into X and y\n",
    "X = X.drop(['Rings'], axis=1)\n",
    "y = train.Rings\n",
    "\n",
    "# for column in X.columns.tolist():\n",
    "#     X[column] = X[column].apply(lambda x: (x - X[column].min()) / (X[column].max() - X[column].min()))\n",
    "\n",
    "# # Transform test data\n",
    "# for column in test.columns.tolist():\n",
    "#     test[column] = test[column].apply(lambda x: (x - test[column].min()) / (test[column].max() - test[column].min()))\n",
    "    \n",
    "# X.hist(color='LightSeaGreen');"
   ]
  },
  {
   "cell_type": "markdown",
   "id": "ee5b6de7",
   "metadata": {
    "papermill": {
     "duration": 0.028954,
     "end_time": "2024-04-05T16:13:32.873096",
     "exception": false,
     "start_time": "2024-04-05T16:13:32.844142",
     "status": "completed"
    },
    "tags": []
   },
   "source": [
    "![](https://d3h1lg3ksw6i6b.cloudfront.net/media/image/2020/09/24/a40d8dea2d924e0aa7cdb644beffe934_abalone+dish.jpg)"
   ]
  },
  {
   "cell_type": "markdown",
   "id": "d92ff057",
   "metadata": {
    "papermill": {
     "duration": 0.030776,
     "end_time": "2024-04-05T16:13:32.933267",
     "exception": false,
     "start_time": "2024-04-05T16:13:32.902491",
     "status": "completed"
    },
    "tags": []
   },
   "source": [
    "<a id='10.2'></a>\n",
    "# <span style=\"border-radius: 30px; border: aqua solid; padding: 0px 10px 0px 10px; color: #3EB489; border-bottom: 6px solid  #20603D; background-color: #fadb8c;\">💦 Feature importance</span>"
   ]
  },
  {
   "cell_type": "code",
   "execution_count": 22,
   "id": "a96f6c7a",
   "metadata": {
    "execution": {
     "iopub.execute_input": "2024-04-05T16:13:32.996520Z",
     "iopub.status.busy": "2024-04-05T16:13:32.995755Z",
     "iopub.status.idle": "2024-04-05T16:14:27.124680Z",
     "shell.execute_reply": "2024-04-05T16:14:27.123184Z"
    },
    "papermill": {
     "duration": 54.164096,
     "end_time": "2024-04-05T16:14:27.127322",
     "exception": false,
     "start_time": "2024-04-05T16:13:32.963226",
     "status": "completed"
    },
    "tags": []
   },
   "outputs": [
    {
     "name": "stdout",
     "output_type": "stream",
     "text": [
      "CPU times: user 53 s, sys: 532 ms, total: 53.6 s\n",
      "Wall time: 53.7 s\n"
     ]
    },
    {
     "data": {
      "image/png": "[encoded data removed]",
      "text/plain": [
       "<Figure size 1200x800 with 1 Axes>"
      ]
     },
     "metadata": {},
     "output_type": "display_data"
    }
   ],
   "source": [
    "%%time\n",
    "# I figured out best hyperparameters previously\n",
    "best_forest = RandomForestRegressor(\n",
    "    random_state=27,\n",
    ")\n",
    "    \n",
    "best_forest.fit(X, y)\n",
    "importance = best_forest.feature_importances_\n",
    "\n",
    "feature_importance = pd.DataFrame(data=importance, index=X.columns, columns=['importance']) \\\n",
    "    .sort_values(ascending=True, by='importance')\n",
    "\n",
    "feature_importance.plot(kind='barh', figsize=(12, 8), color='orange');"
   ]
  },
  {
   "cell_type": "markdown",
   "id": "a38f9df1",
   "metadata": {
    "papermill": {
     "duration": 0.031301,
     "end_time": "2024-04-05T16:14:27.191003",
     "exception": false,
     "start_time": "2024-04-05T16:14:27.159702",
     "status": "completed"
    },
    "tags": []
   },
   "source": [
    "<a id='11'></a>\n",
    "# <span style=\"border-radius: 30px; border: aqua solid; padding: 0px 10px 0px 10px; color: #3EB489; border-bottom: 6px solid  #20603D; background-color: #fadb8c;\">🌊 Build a heat map of correlations</span>"
   ]
  },
  {
   "cell_type": "code",
   "execution_count": 23,
   "id": "a011cbfb",
   "metadata": {
    "execution": {
     "iopub.execute_input": "2024-04-05T16:14:27.255588Z",
     "iopub.status.busy": "2024-04-05T16:14:27.255159Z",
     "iopub.status.idle": "2024-04-05T16:14:27.263537Z",
     "shell.execute_reply": "2024-04-05T16:14:27.262425Z"
    },
    "papermill": {
     "duration": 0.043245,
     "end_time": "2024-04-05T16:14:27.266232",
     "exception": false,
     "start_time": "2024-04-05T16:14:27.222987",
     "status": "completed"
    },
    "tags": []
   },
   "outputs": [
    {
     "data": {
      "text/plain": [
       "Index(['Length', 'Diameter', 'Height', 'Whole weight', 'Whole weight.1',\n",
       "       'Whole weight.2', 'Shell weight', 'Sex_I', 'Sex_M'],\n",
       "      dtype='object')"
      ]
     },
     "execution_count": 23,
     "metadata": {},
     "output_type": "execute_result"
    }
   ],
   "source": [
    "X.columns"
   ]
  },
  {
   "cell_type": "code",
   "execution_count": 24,
   "id": "7bfaffc6",
   "metadata": {
    "execution": {
     "iopub.execute_input": "2024-04-05T16:14:27.331555Z",
     "iopub.status.busy": "2024-04-05T16:14:27.330504Z",
     "iopub.status.idle": "2024-04-05T16:14:28.206217Z",
     "shell.execute_reply": "2024-04-05T16:14:28.204732Z"
    },
    "papermill": {
     "duration": 0.912383,
     "end_time": "2024-04-05T16:14:28.209547",
     "exception": false,
     "start_time": "2024-04-05T16:14:27.297164",
     "status": "completed"
    },
    "tags": []
   },
   "outputs": [
    {
     "data": {
      "image/png": "[encoded data removed]",
      "text/plain": [
       "<Figure size 2000x1600 with 1 Axes>"
      ]
     },
     "metadata": {},
     "output_type": "display_data"
    }
   ],
   "source": [
    "# Training dataset\n",
    "numeric_columns_train = X.select_dtypes(include=np.number)\n",
    "corr_train = numeric_columns_train.corr(method='pearson')\n",
    "mask_train = np.triu(np.ones_like(corr_train))\n",
    "sns.heatmap(corr_train, annot=True, fmt='.2f', mask=mask_train, cmap='Spectral', cbar=None, linewidth=2)\n",
    "plt.tight_layout()\n",
    "plt.show()"
   ]
  },
  {
   "cell_type": "markdown",
   "id": "420f95dd",
   "metadata": {
    "papermill": {
     "duration": 0.032492,
     "end_time": "2024-04-05T16:14:28.274259",
     "exception": false,
     "start_time": "2024-04-05T16:14:28.241767",
     "status": "completed"
    },
    "tags": []
   },
   "source": [
    "#### Let's drop highly correlated features and look on the metric"
   ]
  },
  {
   "cell_type": "code",
   "execution_count": 25,
   "id": "96d8b4fe",
   "metadata": {
    "execution": {
     "iopub.execute_input": "2024-04-05T16:14:28.340843Z",
     "iopub.status.busy": "2024-04-05T16:14:28.340418Z",
     "iopub.status.idle": "2024-04-05T16:14:28.349737Z",
     "shell.execute_reply": "2024-04-05T16:14:28.348747Z"
    },
    "papermill": {
     "duration": 0.045964,
     "end_time": "2024-04-05T16:14:28.352379",
     "exception": false,
     "start_time": "2024-04-05T16:14:28.306415",
     "status": "completed"
    },
    "tags": []
   },
   "outputs": [],
   "source": [
    "X = X.drop(['Diameter', 'Whole weight.2'], axis=1)\n",
    "test = test.drop(['Diameter', 'Whole weight.2'], axis=1)"
   ]
  },
  {
   "cell_type": "code",
   "execution_count": 26,
   "id": "5a1792a5",
   "metadata": {
    "execution": {
     "iopub.execute_input": "2024-04-05T16:14:28.421621Z",
     "iopub.status.busy": "2024-04-05T16:14:28.420786Z",
     "iopub.status.idle": "2024-04-05T16:14:29.035819Z",
     "shell.execute_reply": "2024-04-05T16:14:29.034555Z"
    },
    "papermill": {
     "duration": 0.652064,
     "end_time": "2024-04-05T16:14:29.038547",
     "exception": false,
     "start_time": "2024-04-05T16:14:28.386483",
     "status": "completed"
    },
    "tags": []
   },
   "outputs": [
    {
     "data": {
      "image/png": "[encoded data removed]",
      "text/plain": [
       "<Figure size 2000x1600 with 1 Axes>"
      ]
     },
     "metadata": {},
     "output_type": "display_data"
    }
   ],
   "source": [
    "# Training dataset\n",
    "numeric_columns_train = X.select_dtypes(include=np.number)\n",
    "corr_train = numeric_columns_train.corr(method='pearson')\n",
    "mask_train = np.triu(np.ones_like(corr_train))\n",
    "sns.heatmap(corr_train, annot=True, fmt='.2f', mask=mask_train, cmap='coolwarm', cbar=None, linewidth=2)\n",
    "plt.tight_layout()\n",
    "plt.show()"
   ]
  },
  {
   "cell_type": "markdown",
   "id": "c422ea9d",
   "metadata": {
    "papermill": {
     "duration": 0.032606,
     "end_time": "2024-04-05T16:14:29.104849",
     "exception": false,
     "start_time": "2024-04-05T16:14:29.072243",
     "status": "completed"
    },
    "tags": []
   },
   "source": [
    "<a id='12'></a>\n",
    "# <span style=\"border-radius: 30px; border: aqua solid; padding: 0px 10px 0px 10px; color: #3EB489; border-bottom: 6px solid  #20603D; background-color: #fadb8c;\">🐚 Define base models</span>"
   ]
  },
  {
   "cell_type": "code",
   "execution_count": 27,
   "id": "b67796fb",
   "metadata": {
    "execution": {
     "iopub.execute_input": "2024-04-05T16:14:29.172599Z",
     "iopub.status.busy": "2024-04-05T16:14:29.171807Z",
     "iopub.status.idle": "2024-04-05T16:14:29.265459Z",
     "shell.execute_reply": "2024-04-05T16:14:29.264249Z"
    },
    "papermill": {
     "duration": 0.130999,
     "end_time": "2024-04-05T16:14:29.268394",
     "exception": false,
     "start_time": "2024-04-05T16:14:29.137395",
     "status": "completed"
    },
    "tags": []
   },
   "outputs": [],
   "source": [
    "# Split data into train and val\n",
    "X_train, X_val, y_train, y_val = train_test_split(X, y, test_size=0.2, random_state=27)"
   ]
  },
  {
   "cell_type": "markdown",
   "id": "31c9140f",
   "metadata": {
    "papermill": {
     "duration": 0.032696,
     "end_time": "2024-04-05T16:14:29.333845",
     "exception": false,
     "start_time": "2024-04-05T16:14:29.301149",
     "status": "completed"
    },
    "tags": []
   },
   "source": [
    "![](https://www.foodrepublic.com/img/gallery/what-exactly-is-abalone-and-how-do-you-eat-it/l-intro-1695291935.jpg)"
   ]
  },
  {
   "cell_type": "markdown",
   "id": "a8cc92f5",
   "metadata": {
    "papermill": {
     "duration": 0.035557,
     "end_time": "2024-04-05T16:14:29.403932",
     "exception": false,
     "start_time": "2024-04-05T16:14:29.368375",
     "status": "completed"
    },
    "tags": []
   },
   "source": [
    "## <p style=\"border-radius: 30px; border: aqua solid; padding: 0px 10px 0px 10px; background-image: url(https://www.kaggle.com/competitions/72489/images/header); color: white; font-size: 30px; padding: 5px 5px 5px 5px;\">Random Forest with Optuna</p>"
   ]
  },
  {
   "cell_type": "code",
   "execution_count": 28,
   "id": "ef17b569",
   "metadata": {
    "_kg_hide-input": true,
    "_kg_hide-output": true,
    "execution": {
     "iopub.execute_input": "2024-04-05T16:14:29.476090Z",
     "iopub.status.busy": "2024-04-05T16:14:29.475672Z",
     "iopub.status.idle": "2024-04-05T16:14:29.485148Z",
     "shell.execute_reply": "2024-04-05T16:14:29.483845Z"
    },
    "papermill": {
     "duration": 0.047984,
     "end_time": "2024-04-05T16:14:29.487593",
     "exception": false,
     "start_time": "2024-04-05T16:14:29.439609",
     "status": "completed"
    },
    "tags": []
   },
   "outputs": [
    {
     "data": {
      "text/plain": [
       "'\\nNumber of finished trials:  10\\nBest trial:\\n  Value:  0.164014686713176\\n  Params: \\n    n_estimators: 544\\n    min_samples_leaf: 60\\n    max_depth: 8\\n    min_samples_split: 13\\n\\nCPU times: user 6min 35s, sys: 276 ms, total: 6min 35s\\nWall time: 6min 35s\\n'"
      ]
     },
     "execution_count": 28,
     "metadata": {},
     "output_type": "execute_result"
    }
   ],
   "source": [
    "# %%time\n",
    "# def objective(trial):\n",
    "#     model = RandomForestRegressor(\n",
    "#         n_estimators=trial.suggest_int(\"n_estimators\", 100, 1000),\n",
    "# #         criterion=trial.suggest_categorical(\"criterion\", ['poisson', 'absolute_error', 'friedman_mse', 'squared_error']),\n",
    "#         min_samples_leaf=trial.suggest_int(\"min_samples_leaf\", 1, 100),\n",
    "#         max_depth=trial.suggest_int(\"max_depth\", 1, 100),\n",
    "#         min_samples_split=trial.suggest_int(\"min_samples_split\", 2, 100),\n",
    "#         random_state=27\n",
    "#     )\n",
    "#     model.fit(X_train, y_train)\n",
    "#     y_pred = model.predict(X_test)\n",
    "#     return np.sqrt(mean_squared_log_error(y_test, y_pred))\n",
    "\n",
    "\n",
    "# X_train, X_test, y_train, y_test = train_test_split(X, y, test_size=0.2, random_state=27)\n",
    "\n",
    "# optuna.logging.set_verbosity(optuna.logging.WARNING)\n",
    "\n",
    "# sampler = TPESampler(seed=27)\n",
    "# study = optuna.create_study(study_name=\"random_forest\", direction=\"maximize\", sampler=sampler)\n",
    "# study.optimize(objective, n_trials=10)\n",
    "\n",
    "# print(\"Number of finished trials: \", len(study.trials))\n",
    "# print(\"Best trial:\")\n",
    "# trial = study.best_trial\n",
    "# print(\"  Value: \", trial.value)\n",
    "# print(\"  Params: \")\n",
    "# for key, value in trial.params.items():\n",
    "#     print(f\"    {key}: {value}\")\n",
    "# print()\n",
    "\n",
    "\"\"\"\n",
    "Number of finished trials:  10\n",
    "Best trial:\n",
    "  Value:  0.164014686713176\n",
    "  Params: \n",
    "    n_estimators: 544\n",
    "    min_samples_leaf: 60\n",
    "    max_depth: 8\n",
    "    min_samples_split: 13\n",
    "\n",
    "CPU times: user 6min 35s, sys: 276 ms, total: 6min 35s\n",
    "Wall time: 6min 35s\n",
    "\"\"\""
   ]
  },
  {
   "cell_type": "markdown",
   "id": "57854e78",
   "metadata": {
    "papermill": {
     "duration": 0.033195,
     "end_time": "2024-04-05T16:14:29.553384",
     "exception": false,
     "start_time": "2024-04-05T16:14:29.520189",
     "status": "completed"
    },
    "tags": []
   },
   "source": [
    "## <p style=\"border-radius: 30px; border: aqua solid; padding: 0px 10px 0px 10px; background-image: url(https://www.kaggle.com/competitions/72489/images/header); color: white; font-size: 30px; padding: 5px 5px 5px 5px\">XGBoost with Optuna</p>"
   ]
  },
  {
   "cell_type": "code",
   "execution_count": 29,
   "id": "3b3b622b",
   "metadata": {
    "_kg_hide-input": true,
    "_kg_hide-output": true,
    "execution": {
     "iopub.execute_input": "2024-04-05T16:14:29.624286Z",
     "iopub.status.busy": "2024-04-05T16:14:29.623895Z",
     "iopub.status.idle": "2024-04-05T16:14:29.633520Z",
     "shell.execute_reply": "2024-04-05T16:14:29.632151Z"
    },
    "papermill": {
     "duration": 0.04742,
     "end_time": "2024-04-05T16:14:29.635924",
     "exception": false,
     "start_time": "2024-04-05T16:14:29.588504",
     "status": "completed"
    },
    "tags": []
   },
   "outputs": [
    {
     "data": {
      "text/plain": [
       "'\\nNumber of finished trials:  1\\nBest trial:\\n  Value:  0.1775845058982026\\n  Params: \\n    max_depth: 43\\n    learning_rate: 0.42576257222865277\\n    n_estimators: 749\\n    min_child_weight: 9\\n    gamma: 1.1669337024772915e-05\\n    subsample: 0.9097315662154742\\n    colsample_bytree: 0.6114890625963008\\n    reg_alpha: 4.761254082318455e-07\\n    reg_lambda: 0.008602430632882225\\n\\nCPU times: user 24.5 s, sys: 667 ms, total: 25.2 s\\nWall time: 25.2 s\\n'"
      ]
     },
     "execution_count": 29,
     "metadata": {},
     "output_type": "execute_result"
    }
   ],
   "source": [
    "# %%time\n",
    "# def objective(trial):\n",
    "#     model = XGBRegressor(\n",
    "#         max_depth=trial.suggest_int('max_depth', 1, 100),\n",
    "#         learning_rate=trial.suggest_float('learning_rate', 0.01, 1.0, log=True),\n",
    "#         n_estimators=trial.suggest_int('n_estimators', 50, 1000),\n",
    "#         min_child_weight=trial.suggest_int('min_child_weight', 1, 10),\n",
    "#         gamma=trial.suggest_float('gamma', 1e-8, 1.0, log=True),\n",
    "#         subsample=trial.suggest_float('subsample', 0.01, 1.0, log=True),\n",
    "#         colsample_bytree=trial.suggest_float('colsample_bytree', 0.01, 1.0, log=True),\n",
    "#         reg_alpha=trial.suggest_float('reg_alpha', 1e-8, 1.0, log=True),\n",
    "#         reg_lambda=trial.suggest_float('reg_lambda', 1e-8, 1.0, log=True),\n",
    "#         use_label_encoder=False,\n",
    "#         random_state=27\n",
    "#     )\n",
    "#     model.fit(X_train, y_train)\n",
    "#     y_pred = model.predict(X_test)\n",
    "#     try:\n",
    "#         return np.sqrt(mean_squared_log_error(y_test, y_pred))\n",
    "#     except Exception as e:\n",
    "#         print(e)\n",
    "\n",
    "\n",
    "# X_train, X_test, y_train, y_test = train_test_split(X, y, test_size=0.2, random_state=27)\n",
    "\n",
    "# optuna.logging.set_verbosity(optuna.logging.WARNING)\n",
    "\n",
    "# sampler = TPESampler(seed=27)\n",
    "# study = optuna.create_study(study_name=\"xgb\", direction=\"maximize\", sampler=sampler)\n",
    "# study.optimize(objective, n_trials=20)\n",
    "\n",
    "# print(\"Number of finished trials: \", len(study.trials))\n",
    "# print(\"Best trial:\")\n",
    "# trial = study.best_trial\n",
    "# print(\"  Value: \", trial.value)\n",
    "# print(\"  Params: \")\n",
    "# for key, value in trial.params.items():\n",
    "#     print(f\"    {key}: {value}\")\n",
    "# print()\n",
    "\n",
    "\"\"\"\n",
    "Number of finished trials:  1\n",
    "Best trial:\n",
    "  Value:  0.1775845058982026\n",
    "  Params: \n",
    "    max_depth: 43\n",
    "    learning_rate: 0.42576257222865277\n",
    "    n_estimators: 749\n",
    "    min_child_weight: 9\n",
    "    gamma: 1.1669337024772915e-05\n",
    "    subsample: 0.9097315662154742\n",
    "    colsample_bytree: 0.6114890625963008\n",
    "    reg_alpha: 4.761254082318455e-07\n",
    "    reg_lambda: 0.008602430632882225\n",
    "\n",
    "CPU times: user 24.5 s, sys: 667 ms, total: 25.2 s\n",
    "Wall time: 25.2 s\n",
    "\"\"\""
   ]
  },
  {
   "cell_type": "code",
   "execution_count": 30,
   "id": "b1bb86f0",
   "metadata": {
    "_kg_hide-input": true,
    "_kg_hide-output": true,
    "execution": {
     "iopub.execute_input": "2024-04-05T16:14:29.706210Z",
     "iopub.status.busy": "2024-04-05T16:14:29.704941Z",
     "iopub.status.idle": "2024-04-05T16:14:29.712868Z",
     "shell.execute_reply": "2024-04-05T16:14:29.711681Z"
    },
    "papermill": {
     "duration": 0.046048,
     "end_time": "2024-04-05T16:14:29.715480",
     "exception": false,
     "start_time": "2024-04-05T16:14:29.669432",
     "status": "completed"
    },
    "tags": []
   },
   "outputs": [
    {
     "data": {
      "text/plain": [
       "\"\\nBest params: {'n_estimators': 395, 'max_depth': 6, 'learning_rate': 0.01}\\n\""
      ]
     },
     "execution_count": 30,
     "metadata": {},
     "output_type": "execute_result"
    }
   ],
   "source": [
    "# %%time\n",
    "# # Searching for best parameters of XGBoost\n",
    "# from sklearn.model_selection import RandomizedSearchCV\n",
    "\n",
    "# xgb_regressor = XGBRegressor(random_state=27)\n",
    "\n",
    "# xgb_parameters = {\n",
    "#     'n_estimators': range(5, 1001, 10),\n",
    "#     'learning_rate': [0.001, 0.05, 0.01],\n",
    "#     'max_depth': range(2, 100, 4),\n",
    "# }\n",
    "\n",
    "# xgb_random_search = RandomizedSearchCV(estimator=xgb_regressor, param_distributions=xgb_parameters, n_iter=20, n_jobs=-1, cv=5, verbose=4, random_state=27)\n",
    "# xgb_random_search.fit(X_val, y_val)\n",
    "# print(f'Best params: {xgb_random_search.best_params_}')\n",
    "\n",
    "\"\"\"\n",
    "Best params: {'n_estimators': 395, 'max_depth': 6, 'learning_rate': 0.01}\n",
    "\"\"\""
   ]
  },
  {
   "cell_type": "markdown",
   "id": "021e33db",
   "metadata": {
    "papermill": {
     "duration": 0.03319,
     "end_time": "2024-04-05T16:14:29.783927",
     "exception": false,
     "start_time": "2024-04-05T16:14:29.750737",
     "status": "completed"
    },
    "tags": []
   },
   "source": [
    "#### I found that XGBoost in this competition can't work with negative targets when it is looking for model that fitting with metrics"
   ]
  },
  {
   "cell_type": "markdown",
   "id": "a8e6d550",
   "metadata": {
    "papermill": {
     "duration": 0.033666,
     "end_time": "2024-04-05T16:14:29.851651",
     "exception": false,
     "start_time": "2024-04-05T16:14:29.817985",
     "status": "completed"
    },
    "tags": []
   },
   "source": [
    "## <p style=\"border-radius: 30px; border: aqua solid; padding: 0px 10px 0px 10px; background-image: url(https://www.kaggle.com/competitions/72489/images/header); color: white; font-size: 30px; padding: 5px 5px 5px 5px\">CatBoost with Optuna</p>"
   ]
  },
  {
   "cell_type": "code",
   "execution_count": 31,
   "id": "fb010380",
   "metadata": {
    "_kg_hide-input": true,
    "_kg_hide-output": true,
    "execution": {
     "iopub.execute_input": "2024-04-05T16:14:29.924092Z",
     "iopub.status.busy": "2024-04-05T16:14:29.923650Z",
     "iopub.status.idle": "2024-04-05T16:14:29.932874Z",
     "shell.execute_reply": "2024-04-05T16:14:29.931608Z"
    },
    "papermill": {
     "duration": 0.049131,
     "end_time": "2024-04-05T16:14:29.935453",
     "exception": false,
     "start_time": "2024-04-05T16:14:29.886322",
     "status": "completed"
    },
    "tags": []
   },
   "outputs": [
    {
     "data": {
      "text/plain": [
       "'\\nNumber of finished trials:  20\\nBest trial:\\n  Value:  0.27250015755480833\\n  Params: \\n    iterations: 101\\n    learning_rate: 0.0010172906333606835\\n    colsample_bylevel: 0.4796381789116622\\n    min_data_in_leaf: 42\\n    depth: 13\\n    l2_leaf_reg: 2.895211427077531e-08\\n\\nCPU times: user 18min 10s, sys: 9min 21s, total: 27min 31s\\nWall time: 13min 5s\\n'"
      ]
     },
     "execution_count": 31,
     "metadata": {},
     "output_type": "execute_result"
    }
   ],
   "source": [
    "# %%time\n",
    "# def objective(trial):\n",
    "#     model = CatBoostRegressor(\n",
    "#         iterations=trial.suggest_int(\"iterations\", 100, 1000),\n",
    "#         learning_rate=trial.suggest_float(\"learning_rate\", 1e-3, 1e-1, log=True),\n",
    "#         colsample_bylevel=trial.suggest_float(\"colsample_bylevel\", 0.05, 1.0),\n",
    "#         min_data_in_leaf=trial.suggest_int(\"min_data_in_leaf\", 1, 100),\n",
    "#         depth=trial.suggest_int(\"depth\", 4, 16),\n",
    "#         l2_leaf_reg=trial.suggest_float(\"l2_leaf_reg\", 1e-8, 100.0, log=True),\n",
    "#         verbose=False,\n",
    "#         random_state=27\n",
    "#     )\n",
    "#     model.fit(X_train, y_train)\n",
    "#     y_pred = model.predict(X_test)\n",
    "#     return np.sqrt(mean_squared_log_error(y_test, y_pred))\n",
    "\n",
    "\n",
    "# X_train, X_test, y_train, y_test = train_test_split(X, y, test_size=0.2, random_state=27)\n",
    "\n",
    "# optuna.logging.set_verbosity(optuna.logging.WARNING)\n",
    "\n",
    "# sampler = TPESampler(seed=27)\n",
    "# study = optuna.create_study(study_name=\"catboost\", direction=\"maximize\", sampler=sampler)\n",
    "# study.optimize(objective, n_trials=20)\n",
    "\n",
    "# print(\"Number of finished trials: \", len(study.trials))\n",
    "# print(\"Best trial:\")\n",
    "# trial = study.best_trial\n",
    "# print(\"  Value: \", trial.value)\n",
    "# print(\"  Params: \")\n",
    "\n",
    "# for key, value in trial.params.items():\n",
    "#     print(f\"    {key}: {value}\")\n",
    "# print()\n",
    "\n",
    "\"\"\"\n",
    "Number of finished trials:  20\n",
    "Best trial:\n",
    "  Value:  0.27250015755480833\n",
    "  Params: \n",
    "    iterations: 101\n",
    "    learning_rate: 0.0010172906333606835\n",
    "    colsample_bylevel: 0.4796381789116622\n",
    "    min_data_in_leaf: 42\n",
    "    depth: 13\n",
    "    l2_leaf_reg: 2.895211427077531e-08\n",
    "\n",
    "CPU times: user 18min 10s, sys: 9min 21s, total: 27min 31s\n",
    "Wall time: 13min 5s\n",
    "\"\"\""
   ]
  },
  {
   "cell_type": "markdown",
   "id": "a82a5667",
   "metadata": {
    "papermill": {
     "duration": 0.035349,
     "end_time": "2024-04-05T16:14:30.005704",
     "exception": false,
     "start_time": "2024-04-05T16:14:29.970355",
     "status": "completed"
    },
    "tags": []
   },
   "source": [
    "## <p style=\"border-radius: 30px; border: aqua solid; padding: 0px 10px 0px 10px; background-image: url(https://www.kaggle.com/competitions/72489/images/header); color: white; font-size: 30px; padding: 5px 5px 5px 5px\">LightGBM with Optuna</p>"
   ]
  },
  {
   "cell_type": "code",
   "execution_count": 32,
   "id": "ac65932f",
   "metadata": {
    "_kg_hide-input": true,
    "_kg_hide-output": true,
    "execution": {
     "iopub.execute_input": "2024-04-05T16:14:30.075355Z",
     "iopub.status.busy": "2024-04-05T16:14:30.074983Z",
     "iopub.status.idle": "2024-04-05T16:14:30.083283Z",
     "shell.execute_reply": "2024-04-05T16:14:30.082269Z"
    },
    "papermill": {
     "duration": 0.04568,
     "end_time": "2024-04-05T16:14:30.085393",
     "exception": false,
     "start_time": "2024-04-05T16:14:30.039713",
     "status": "completed"
    },
    "tags": []
   },
   "outputs": [
    {
     "data": {
      "text/plain": [
       "'\\nNumber of finished trials:  20\\nBest trial:\\n  Value:  0.9971664373669932\\n  Params: \\n    n_estimators: 676\\n    max_depth: 100\\n    learning_rate: 0.0010257989336468524\\n    boosting_type: dart\\n    num_leaves: 37\\n    min_child_samples: 22\\n\\nCPU times: user 38min 41s, sys: 5.25 s, total: 38min 47s\\nWall time: 38min 50s\\n'"
      ]
     },
     "execution_count": 32,
     "metadata": {},
     "output_type": "execute_result"
    }
   ],
   "source": [
    "# %%time\n",
    "# def objective(trial):\n",
    "#     model = LGBMRegressor(\n",
    "#         n_estimators=trial.suggest_int(\"n_estimators\", 100, 1000),\n",
    "#         max_depth=trial.suggest_int(\"max_depth\", 1, 100),\n",
    "#         learning_rate=trial.suggest_float(\"learning_rate\", 1e-3, 1e-1, log=True),\n",
    "#         verbosity=-1,\n",
    "#         boosting_type=trial.suggest_categorical('boosting_type', ['gbdt', 'dart']),\n",
    "#         num_leaves=trial.suggest_int('num_leaves', 2, 256),\n",
    "#         min_child_samples=trial.suggest_int('min_child_samples', 5, 100),\n",
    "#         random_state=27\n",
    "#     )\n",
    "#     model.fit(X_train, y_train)\n",
    "#     y_pred = model.predict(X_test)\n",
    "#     return np.sqrt(mean_squared_log_error(y_test, y_pred))\n",
    "\n",
    "\n",
    "# X_train, X_test, y_train, y_test = train_test_split(X, y, test_size=0.2, random_state=27)\n",
    "\n",
    "# optuna.logging.set_verbosity(optuna.logging.WARNING)\n",
    "\n",
    "# sampler = TPESampler(seed=27)\n",
    "# study = optuna.create_study(study_name=\"lgbm\", direction=\"maximize\", sampler=sampler)\n",
    "# study.optimize(objective, n_trials=20)\n",
    "\n",
    "# print(\"Number of finished trials: \", len(study.trials))\n",
    "# print(\"Best trial:\")\n",
    "# trial = study.best_trial\n",
    "# print(\"  Value: \", trial.value)\n",
    "# print(\"  Params: \")\n",
    "# for key, value in trial.params.items():\n",
    "#     print(f\"    {key}: {value}\")\n",
    "# print()\n",
    "\n",
    "\"\"\"\n",
    "Number of finished trials:  20\n",
    "Best trial:\n",
    "  Value:  0.9971664373669932\n",
    "  Params: \n",
    "    n_estimators: 676\n",
    "    max_depth: 100\n",
    "    learning_rate: 0.0010257989336468524\n",
    "    boosting_type: dart\n",
    "    num_leaves: 37\n",
    "    min_child_samples: 22\n",
    "\n",
    "CPU times: user 38min 41s, sys: 5.25 s, total: 38min 47s\n",
    "Wall time: 38min 50s\n",
    "\"\"\""
   ]
  },
  {
   "cell_type": "code",
   "execution_count": 33,
   "id": "272c9863",
   "metadata": {
    "execution": {
     "iopub.execute_input": "2024-04-05T16:14:30.157132Z",
     "iopub.status.busy": "2024-04-05T16:14:30.156718Z",
     "iopub.status.idle": "2024-04-05T16:14:30.175042Z",
     "shell.execute_reply": "2024-04-05T16:14:30.173639Z"
    },
    "papermill": {
     "duration": 0.057406,
     "end_time": "2024-04-05T16:14:30.177845",
     "exception": false,
     "start_time": "2024-04-05T16:14:30.120439",
     "status": "completed"
    },
    "tags": []
   },
   "outputs": [],
   "source": [
    "base_models = [\n",
    "    ('XGBoost', XGBRegressor(\n",
    "        n_estimators=395, \n",
    "        max_depth=6,\n",
    "        learning_rate=0.01,\n",
    "        random_state=27\n",
    "    )),\n",
    "    ('LightGBM', LGBMRegressor(\n",
    "        n_estimators=676,\n",
    "        max_depth=100,\n",
    "        learning_rate=0.0010257989336468524,\n",
    "        boosting_type='dart',\n",
    "        num_leaves=37,\n",
    "        min_child_samples=22,\n",
    "        random_state=27\n",
    "    )),\n",
    "    ('Catboost', CatBoostRegressor(\n",
    "        iterations=101,\n",
    "        learning_rate=0.0010172906333606835,\n",
    "        colsample_bylevel=0.4796381789116622,\n",
    "        min_data_in_leaf=42,\n",
    "        depth=13,\n",
    "        l2_leaf_reg=2.895211427077531e-08,\n",
    "        random_state=27\n",
    "    )),\n",
    "    ('Random_forest', RandomForestRegressor(\n",
    "        n_estimators=544,\n",
    "        min_samples_leaf=60,\n",
    "        max_depth=8,\n",
    "        min_samples_split=13,\n",
    "        random_state=27\n",
    "    ))\n",
    "]"
   ]
  },
  {
   "cell_type": "markdown",
   "id": "58281ddf",
   "metadata": {
    "papermill": {
     "duration": 0.034118,
     "end_time": "2024-04-05T16:14:30.246710",
     "exception": false,
     "start_time": "2024-04-05T16:14:30.212592",
     "status": "completed"
    },
    "tags": []
   },
   "source": [
    "![](https://www.frdc.com.au/sites/default/files/fish-magazine/images/fish-vol-26-2/P26_fi_abalone_diving_Yazbeck-Pic-(1).jpg?la=en&hash=2A20AECD5AF45A98BA91D7B78B402ABB4781D789)"
   ]
  },
  {
   "cell_type": "markdown",
   "id": "86584dc8",
   "metadata": {
    "papermill": {
     "duration": 0.033643,
     "end_time": "2024-04-05T16:14:30.313871",
     "exception": false,
     "start_time": "2024-04-05T16:14:30.280228",
     "status": "completed"
    },
    "tags": []
   },
   "source": [
    "<a id='13'></a>\n",
    "# <span style=\"border-radius: 30px; border: aqua solid; padding: 0px 10px 0px 10px;color: #3EB489; border-bottom: 6px solid  #20603D; background-color: #fadb8c;\">⛵ Defining the meta-model</span>"
   ]
  },
  {
   "cell_type": "code",
   "execution_count": 34,
   "id": "a51cb79c",
   "metadata": {
    "execution": {
     "iopub.execute_input": "2024-04-05T16:14:30.384386Z",
     "iopub.status.busy": "2024-04-05T16:14:30.383943Z",
     "iopub.status.idle": "2024-04-05T16:14:30.388544Z",
     "shell.execute_reply": "2024-04-05T16:14:30.387730Z"
    },
    "papermill": {
     "duration": 0.043582,
     "end_time": "2024-04-05T16:14:30.390840",
     "exception": false,
     "start_time": "2024-04-05T16:14:30.347258",
     "status": "completed"
    },
    "tags": []
   },
   "outputs": [],
   "source": [
    "meta_model = XGBRegressor(\n",
    "    n_estimators=395, \n",
    "    max_depth=6,\n",
    "    learning_rate=0.01,\n",
    "    random_state=27\n",
    ")"
   ]
  },
  {
   "cell_type": "markdown",
   "id": "7eeaa239",
   "metadata": {
    "papermill": {
     "duration": 0.034236,
     "end_time": "2024-04-05T16:14:30.459514",
     "exception": false,
     "start_time": "2024-04-05T16:14:30.425278",
     "status": "completed"
    },
    "tags": []
   },
   "source": [
    "<a id='14'></a>\n",
    "# <span style=\"border-radius: 30px; border: aqua solid; padding: 0px 10px 0px 10px;color: #3EB489; border-bottom: 6px solid  #20603D; background-color: #fadb8c;\">🍤 Creating and fitting the stacking model"
   ]
  },
  {
   "cell_type": "code",
   "execution_count": 35,
   "id": "7ed9dae4",
   "metadata": {
    "_kg_hide-output": true,
    "execution": {
     "iopub.execute_input": "2024-04-05T16:14:30.530939Z",
     "iopub.status.busy": "2024-04-05T16:14:30.530510Z",
     "iopub.status.idle": "2024-04-05T16:35:29.579845Z",
     "shell.execute_reply": "2024-04-05T16:35:29.578600Z"
    },
    "papermill": {
     "duration": 1259.136309,
     "end_time": "2024-04-05T16:35:29.630881",
     "exception": false,
     "start_time": "2024-04-05T16:14:30.494572",
     "status": "completed"
    },
    "tags": []
   },
   "outputs": [
    {
     "name": "stdout",
     "output_type": "stream",
     "text": [
      "[LightGBM] [Warning] Found whitespace in feature_names, replace with underlines\n",
      "[LightGBM] [Info] Auto-choosing col-wise multi-threading, the overhead of testing was 0.010327 seconds.\n",
      "You can set `force_col_wise=true` to remove the overhead.\n",
      "[LightGBM] [Info] Total Bins 968\n",
      "[LightGBM] [Info] Number of data points in the train set: 94792, number of used features: 7\n",
      "[LightGBM] [Info] Start training from score 9.707233\n",
      "0:\tlearn: 3.1770749\ttotal: 72.5ms\tremaining: 7.25s\n",
      "1:\tlearn: 3.1752397\ttotal: 183ms\tremaining: 9.04s\n",
      "2:\tlearn: 3.1734359\ttotal: 234ms\tremaining: 7.64s\n",
      "3:\tlearn: 3.1716389\ttotal: 326ms\tremaining: 7.91s\n",
      "4:\tlearn: 3.1698009\ttotal: 395ms\tremaining: 7.59s\n",
      "5:\tlearn: 3.1681875\ttotal: 412ms\tremaining: 6.52s\n",
      "6:\tlearn: 3.1663434\ttotal: 478ms\tremaining: 6.41s\n",
      "7:\tlearn: 3.1646191\ttotal: 537ms\tremaining: 6.24s\n",
      "8:\tlearn: 3.1628368\ttotal: 597ms\tremaining: 6.1s\n",
      "9:\tlearn: 3.1610624\ttotal: 664ms\tremaining: 6.04s\n",
      "10:\tlearn: 3.1592262\ttotal: 726ms\tremaining: 5.94s\n",
      "11:\tlearn: 3.1574367\ttotal: 789ms\tremaining: 5.85s\n",
      "12:\tlearn: 3.1556145\ttotal: 852ms\tremaining: 5.77s\n",
      "13:\tlearn: 3.1538141\ttotal: 921ms\tremaining: 5.72s\n",
      "14:\tlearn: 3.1520106\ttotal: 987ms\tremaining: 5.66s\n",
      "15:\tlearn: 3.1502019\ttotal: 1.05s\tremaining: 5.59s\n",
      "16:\tlearn: 3.1483627\ttotal: 1.14s\tremaining: 5.62s\n",
      "17:\tlearn: 3.1469104\ttotal: 1.15s\tremaining: 5.29s\n",
      "18:\tlearn: 3.1450911\ttotal: 1.22s\tremaining: 5.26s\n",
      "19:\tlearn: 3.1433103\ttotal: 1.27s\tremaining: 5.13s\n",
      "20:\tlearn: 3.1415535\ttotal: 1.33s\tremaining: 5.06s\n",
      "21:\tlearn: 3.1399212\ttotal: 1.34s\tremaining: 4.82s\n",
      "22:\tlearn: 3.1382391\ttotal: 1.38s\tremaining: 4.67s\n",
      "23:\tlearn: 3.1365733\ttotal: 1.4s\tremaining: 4.5s\n",
      "24:\tlearn: 3.1348149\ttotal: 1.46s\tremaining: 4.45s\n",
      "25:\tlearn: 3.1330237\ttotal: 1.52s\tremaining: 4.38s\n",
      "26:\tlearn: 3.1312805\ttotal: 1.6s\tremaining: 4.38s\n",
      "27:\tlearn: 3.1295358\ttotal: 1.66s\tremaining: 4.33s\n",
      "28:\tlearn: 3.1278209\ttotal: 1.72s\tremaining: 4.26s\n",
      "29:\tlearn: 3.1260661\ttotal: 1.79s\tremaining: 4.24s\n",
      "30:\tlearn: 3.1243092\ttotal: 1.85s\tremaining: 4.17s\n",
      "31:\tlearn: 3.1226046\ttotal: 1.91s\tremaining: 4.11s\n",
      "32:\tlearn: 3.1208324\ttotal: 1.97s\tremaining: 4.05s\n",
      "33:\tlearn: 3.1191109\ttotal: 2.02s\tremaining: 3.98s\n",
      "34:\tlearn: 3.1173954\ttotal: 2.07s\tremaining: 3.91s\n",
      "35:\tlearn: 3.1156183\ttotal: 2.14s\tremaining: 3.86s\n",
      "36:\tlearn: 3.1138378\ttotal: 2.21s\tremaining: 3.81s\n",
      "37:\tlearn: 3.1121130\ttotal: 2.27s\tremaining: 3.77s\n",
      "38:\tlearn: 3.1103700\ttotal: 2.33s\tremaining: 3.7s\n",
      "39:\tlearn: 3.1086207\ttotal: 2.4s\tremaining: 3.66s\n",
      "40:\tlearn: 3.1069305\ttotal: 2.46s\tremaining: 3.59s\n",
      "41:\tlearn: 3.1051399\ttotal: 2.52s\tremaining: 3.54s\n",
      "42:\tlearn: 3.1042895\ttotal: 2.52s\tremaining: 3.4s\n",
      "43:\tlearn: 3.1030900\ttotal: 2.53s\tremaining: 3.28s\n",
      "44:\tlearn: 3.1014062\ttotal: 2.61s\tremaining: 3.24s\n",
      "45:\tlearn: 3.0996909\ttotal: 2.66s\tremaining: 3.19s\n",
      "46:\tlearn: 3.0979947\ttotal: 2.73s\tremaining: 3.13s\n",
      "47:\tlearn: 3.0962748\ttotal: 2.8s\tremaining: 3.09s\n",
      "48:\tlearn: 3.0945313\ttotal: 2.86s\tremaining: 3.04s\n",
      "49:\tlearn: 3.0928314\ttotal: 2.93s\tremaining: 2.99s\n",
      "50:\tlearn: 3.0911092\ttotal: 2.99s\tremaining: 2.93s\n",
      "51:\tlearn: 3.0893902\ttotal: 3.06s\tremaining: 2.88s\n",
      "52:\tlearn: 3.0876934\ttotal: 3.12s\tremaining: 2.83s\n",
      "53:\tlearn: 3.0860339\ttotal: 3.17s\tremaining: 2.76s\n",
      "54:\tlearn: 3.0844729\ttotal: 3.18s\tremaining: 2.66s\n",
      "55:\tlearn: 3.0829038\ttotal: 3.2s\tremaining: 2.57s\n",
      "56:\tlearn: 3.0811693\ttotal: 3.26s\tremaining: 2.52s\n",
      "57:\tlearn: 3.0794269\ttotal: 3.33s\tremaining: 2.47s\n",
      "58:\tlearn: 3.0777676\ttotal: 3.39s\tremaining: 2.41s\n",
      "59:\tlearn: 3.0763844\ttotal: 3.4s\tremaining: 2.32s\n",
      "60:\tlearn: 3.0747124\ttotal: 3.47s\tremaining: 2.27s\n",
      "61:\tlearn: 3.0729970\ttotal: 3.54s\tremaining: 2.23s\n",
      "62:\tlearn: 3.0712588\ttotal: 3.6s\tremaining: 2.17s\n",
      "63:\tlearn: 3.0696491\ttotal: 3.62s\tremaining: 2.09s\n",
      "64:\tlearn: 3.0679839\ttotal: 3.67s\tremaining: 2.03s\n",
      "65:\tlearn: 3.0663784\ttotal: 3.69s\tremaining: 1.96s\n",
      "66:\tlearn: 3.0650787\ttotal: 3.7s\tremaining: 1.88s\n",
      "67:\tlearn: 3.0634818\ttotal: 3.76s\tremaining: 1.83s\n",
      "68:\tlearn: 3.0618392\ttotal: 3.82s\tremaining: 1.77s\n",
      "69:\tlearn: 3.0602581\ttotal: 3.83s\tremaining: 1.7s\n",
      "70:\tlearn: 3.0586190\ttotal: 3.9s\tremaining: 1.65s\n",
      "71:\tlearn: 3.0570627\ttotal: 3.92s\tremaining: 1.58s\n",
      "72:\tlearn: 3.0554485\ttotal: 3.98s\tremaining: 1.52s\n",
      "73:\tlearn: 3.0537608\ttotal: 4.04s\tremaining: 1.48s\n",
      "74:\tlearn: 3.0521801\ttotal: 4.1s\tremaining: 1.42s\n",
      "75:\tlearn: 3.0505239\ttotal: 4.16s\tremaining: 1.37s\n",
      "76:\tlearn: 3.0488434\ttotal: 4.22s\tremaining: 1.31s\n",
      "77:\tlearn: 3.0471755\ttotal: 4.28s\tremaining: 1.26s\n",
      "78:\tlearn: 3.0455432\ttotal: 4.33s\tremaining: 1.21s\n",
      "79:\tlearn: 3.0438671\ttotal: 4.4s\tremaining: 1.15s\n",
      "80:\tlearn: 3.0422021\ttotal: 4.46s\tremaining: 1.1s\n",
      "81:\tlearn: 3.0405238\ttotal: 4.52s\tremaining: 1.05s\n",
      "82:\tlearn: 3.0388762\ttotal: 4.59s\tremaining: 995ms\n",
      "83:\tlearn: 3.0372447\ttotal: 4.64s\tremaining: 940ms\n",
      "84:\tlearn: 3.0356044\ttotal: 4.7s\tremaining: 885ms\n",
      "85:\tlearn: 3.0339919\ttotal: 4.74s\tremaining: 828ms\n",
      "86:\tlearn: 3.0325634\ttotal: 4.76s\tremaining: 765ms\n",
      "87:\tlearn: 3.0309445\ttotal: 4.82s\tremaining: 713ms\n",
      "88:\tlearn: 3.0293044\ttotal: 4.88s\tremaining: 658ms\n",
      "89:\tlearn: 3.0277151\ttotal: 4.91s\tremaining: 600ms\n",
      "90:\tlearn: 3.0260753\ttotal: 4.97s\tremaining: 546ms\n",
      "91:\tlearn: 3.0245086\ttotal: 5.04s\tremaining: 493ms\n",
      "92:\tlearn: 3.0229312\ttotal: 5.07s\tremaining: 436ms\n",
      "93:\tlearn: 3.0213543\ttotal: 5.13s\tremaining: 382ms\n",
      "94:\tlearn: 3.0197535\ttotal: 5.19s\tremaining: 328ms\n",
      "95:\tlearn: 3.0181502\ttotal: 5.26s\tremaining: 274ms\n",
      "96:\tlearn: 3.0165281\ttotal: 5.33s\tremaining: 220ms\n",
      "97:\tlearn: 3.0149905\ttotal: 5.41s\tremaining: 166ms\n",
      "98:\tlearn: 3.0134516\ttotal: 5.42s\tremaining: 110ms\n",
      "99:\tlearn: 3.0121939\ttotal: 5.43s\tremaining: 54.3ms\n",
      "100:\tlearn: 3.0105802\ttotal: 5.5s\tremaining: 0us\n",
      "[LightGBM] [Warning] Found whitespace in feature_names, replace with underlines\n",
      "[LightGBM] [Info] Auto-choosing col-wise multi-threading, the overhead of testing was 0.013654 seconds.\n",
      "You can set `force_col_wise=true` to remove the overhead.\n",
      "[LightGBM] [Info] Total Bins 964\n",
      "[LightGBM] [Info] Number of data points in the train set: 75833, number of used features: 7\n",
      "[LightGBM] [Info] Start training from score 9.718698\n",
      "[LightGBM] [Warning] Found whitespace in feature_names, replace with underlines\n",
      "[LightGBM] [Info] Auto-choosing col-wise multi-threading, the overhead of testing was 0.012874 seconds.\n",
      "You can set `force_col_wise=true` to remove the overhead.\n",
      "[LightGBM] [Info] Total Bins 963\n",
      "[LightGBM] [Info] Number of data points in the train set: 75833, number of used features: 7\n",
      "[LightGBM] [Info] Start training from score 9.698588\n",
      "[LightGBM] [Warning] Found whitespace in feature_names, replace with underlines\n",
      "[LightGBM] [Info] Auto-choosing col-wise multi-threading, the overhead of testing was 0.013341 seconds.\n",
      "You can set `force_col_wise=true` to remove the overhead.\n",
      "[LightGBM] [Info] Total Bins 963\n",
      "[LightGBM] [Info] Number of data points in the train set: 75834, number of used features: 7\n",
      "[LightGBM] [Info] Start training from score 9.711831\n",
      "[LightGBM] [Warning] Found whitespace in feature_names, replace with underlines\n",
      "[LightGBM] [Info] Auto-choosing col-wise multi-threading, the overhead of testing was 0.013468 seconds.\n",
      "You can set `force_col_wise=true` to remove the overhead.\n",
      "[LightGBM] [Info] Total Bins 965\n",
      "[LightGBM] [Info] Number of data points in the train set: 75834, number of used features: 7\n",
      "[LightGBM] [Info] Start training from score 9.718833\n",
      "[LightGBM] [Warning] Found whitespace in feature_names, replace with underlines\n",
      "[LightGBM] [Info] Auto-choosing col-wise multi-threading, the overhead of testing was 0.013260 seconds.\n",
      "You can set `force_col_wise=true` to remove the overhead.\n",
      "[LightGBM] [Info] Total Bins 962\n",
      "[LightGBM] [Info] Number of data points in the train set: 75834, number of used features: 7\n",
      "[LightGBM] [Info] Start training from score 9.688214\n",
      "0:\tlearn: 3.1777212\ttotal: 59.1ms\tremaining: 5.91s\n",
      "1:\tlearn: 3.1759084\ttotal: 124ms\tremaining: 6.16s\n",
      "2:\tlearn: 3.1740574\ttotal: 200ms\tremaining: 6.53s\n",
      "3:\tlearn: 3.1722218\ttotal: 265ms\tremaining: 6.43s\n",
      "4:\tlearn: 3.1704446\ttotal: 325ms\tremaining: 6.24s\n",
      "5:\tlearn: 3.1690181\ttotal: 333ms\tremaining: 5.27s\n",
      "6:\tlearn: 3.1671986\ttotal: 401ms\tremaining: 5.39s\n",
      "7:\tlearn: 3.1654461\ttotal: 466ms\tremaining: 5.42s\n",
      "8:\tlearn: 3.1636597\ttotal: 533ms\tremaining: 5.45s\n",
      "9:\tlearn: 3.1618727\ttotal: 600ms\tremaining: 5.46s\n",
      "10:\tlearn: 3.1602893\ttotal: 610ms\tremaining: 4.99s\n",
      "11:\tlearn: 3.1586767\ttotal: 642ms\tremaining: 4.76s\n",
      "12:\tlearn: 3.1569079\ttotal: 694ms\tremaining: 4.7s\n",
      "13:\tlearn: 3.1551318\ttotal: 735ms\tremaining: 4.57s\n",
      "14:\tlearn: 3.1534544\ttotal: 751ms\tremaining: 4.3s\n",
      "15:\tlearn: 3.1517192\ttotal: 816ms\tremaining: 4.33s\n",
      "16:\tlearn: 3.1499095\ttotal: 887ms\tremaining: 4.38s\n",
      "17:\tlearn: 3.1481067\ttotal: 966ms\tremaining: 4.45s\n",
      "18:\tlearn: 3.1470131\ttotal: 972ms\tremaining: 4.19s\n",
      "19:\tlearn: 3.1452613\ttotal: 1.06s\tremaining: 4.29s\n",
      "20:\tlearn: 3.1435064\ttotal: 1.1s\tremaining: 4.2s\n",
      "21:\tlearn: 3.1417968\ttotal: 1.18s\tremaining: 4.25s\n",
      "22:\tlearn: 3.1400366\ttotal: 1.26s\tremaining: 4.26s\n",
      "23:\tlearn: 3.1383238\ttotal: 1.27s\tremaining: 4.09s\n",
      "24:\tlearn: 3.1365754\ttotal: 1.34s\tremaining: 4.07s\n",
      "25:\tlearn: 3.1348078\ttotal: 1.39s\tremaining: 4.01s\n",
      "26:\tlearn: 3.1331885\ttotal: 1.41s\tremaining: 3.86s\n",
      "27:\tlearn: 3.1314411\ttotal: 1.47s\tremaining: 3.84s\n",
      "28:\tlearn: 3.1297065\ttotal: 1.54s\tremaining: 3.83s\n",
      "29:\tlearn: 3.1280112\ttotal: 1.62s\tremaining: 3.84s\n",
      "30:\tlearn: 3.1262483\ttotal: 1.69s\tremaining: 3.81s\n",
      "31:\tlearn: 3.1245972\ttotal: 1.7s\tremaining: 3.67s\n",
      "32:\tlearn: 3.1228958\ttotal: 1.76s\tremaining: 3.62s\n",
      "33:\tlearn: 3.1212862\ttotal: 1.77s\tremaining: 3.49s\n",
      "34:\tlearn: 3.1195280\ttotal: 1.83s\tremaining: 3.45s\n",
      "35:\tlearn: 3.1179042\ttotal: 1.86s\tremaining: 3.35s\n",
      "36:\tlearn: 3.1161692\ttotal: 1.92s\tremaining: 3.32s\n",
      "37:\tlearn: 3.1144644\ttotal: 1.94s\tremaining: 3.22s\n",
      "38:\tlearn: 3.1127667\ttotal: 2.01s\tremaining: 3.19s\n",
      "39:\tlearn: 3.1110727\ttotal: 2.06s\tremaining: 3.14s\n",
      "40:\tlearn: 3.1093548\ttotal: 2.12s\tremaining: 3.1s\n",
      "41:\tlearn: 3.1076063\ttotal: 2.18s\tremaining: 3.07s\n",
      "42:\tlearn: 3.1058872\ttotal: 2.25s\tremaining: 3.03s\n",
      "43:\tlearn: 3.1041533\ttotal: 2.3s\tremaining: 2.98s\n",
      "44:\tlearn: 3.1024456\ttotal: 2.37s\tremaining: 2.95s\n",
      "45:\tlearn: 3.1007699\ttotal: 2.4s\tremaining: 2.87s\n",
      "46:\tlearn: 3.0990556\ttotal: 2.46s\tremaining: 2.83s\n",
      "47:\tlearn: 3.0973190\ttotal: 2.52s\tremaining: 2.79s\n",
      "48:\tlearn: 3.0955815\ttotal: 2.58s\tremaining: 2.74s\n",
      "49:\tlearn: 3.0940698\ttotal: 2.6s\tremaining: 2.65s\n",
      "50:\tlearn: 3.0923702\ttotal: 2.65s\tremaining: 2.6s\n",
      "51:\tlearn: 3.0906502\ttotal: 2.71s\tremaining: 2.55s\n",
      "52:\tlearn: 3.0889579\ttotal: 2.75s\tremaining: 2.49s\n",
      "53:\tlearn: 3.0873082\ttotal: 2.8s\tremaining: 2.44s\n",
      "54:\tlearn: 3.0856539\ttotal: 2.86s\tremaining: 2.4s\n",
      "55:\tlearn: 3.0843941\ttotal: 2.87s\tremaining: 2.31s\n",
      "56:\tlearn: 3.0829921\ttotal: 2.88s\tremaining: 2.22s\n",
      "57:\tlearn: 3.0812868\ttotal: 2.95s\tremaining: 2.19s\n",
      "58:\tlearn: 3.0797997\ttotal: 2.96s\tremaining: 2.11s\n",
      "59:\tlearn: 3.0781183\ttotal: 2.99s\tremaining: 2.04s\n",
      "60:\tlearn: 3.0764619\ttotal: 3.02s\tremaining: 1.98s\n",
      "61:\tlearn: 3.0747518\ttotal: 3.06s\tremaining: 1.93s\n",
      "62:\tlearn: 3.0733141\ttotal: 3.08s\tremaining: 1.86s\n",
      "63:\tlearn: 3.0717169\ttotal: 3.09s\tremaining: 1.79s\n",
      "64:\tlearn: 3.0700104\ttotal: 3.16s\tremaining: 1.75s\n",
      "65:\tlearn: 3.0683260\ttotal: 3.22s\tremaining: 1.71s\n",
      "66:\tlearn: 3.0666424\ttotal: 3.28s\tremaining: 1.66s\n",
      "67:\tlearn: 3.0652914\ttotal: 3.29s\tremaining: 1.59s\n",
      "68:\tlearn: 3.0636324\ttotal: 3.34s\tremaining: 1.55s\n",
      "69:\tlearn: 3.0620027\ttotal: 3.39s\tremaining: 1.5s\n",
      "70:\tlearn: 3.0602925\ttotal: 3.46s\tremaining: 1.46s\n",
      "71:\tlearn: 3.0586307\ttotal: 3.51s\tremaining: 1.42s\n",
      "72:\tlearn: 3.0570327\ttotal: 3.57s\tremaining: 1.37s\n",
      "73:\tlearn: 3.0553329\ttotal: 3.63s\tremaining: 1.33s\n",
      "74:\tlearn: 3.0540315\ttotal: 3.64s\tremaining: 1.26s\n",
      "75:\tlearn: 3.0526855\ttotal: 3.65s\tremaining: 1.2s\n",
      "76:\tlearn: 3.0512550\ttotal: 3.66s\tremaining: 1.14s\n",
      "77:\tlearn: 3.0497235\ttotal: 3.69s\tremaining: 1.09s\n",
      "78:\tlearn: 3.0480249\ttotal: 3.74s\tremaining: 1.04s\n",
      "79:\tlearn: 3.0463624\ttotal: 3.8s\tremaining: 997ms\n",
      "80:\tlearn: 3.0447381\ttotal: 3.85s\tremaining: 952ms\n",
      "81:\tlearn: 3.0430794\ttotal: 3.91s\tremaining: 906ms\n",
      "82:\tlearn: 3.0413888\ttotal: 3.97s\tremaining: 862ms\n",
      "83:\tlearn: 3.0397532\ttotal: 4.04s\tremaining: 817ms\n",
      "84:\tlearn: 3.0382230\ttotal: 4.05s\tremaining: 763ms\n",
      "85:\tlearn: 3.0366691\ttotal: 4.08s\tremaining: 711ms\n",
      "86:\tlearn: 3.0352219\ttotal: 4.09s\tremaining: 658ms\n",
      "87:\tlearn: 3.0335518\ttotal: 4.15s\tremaining: 613ms\n",
      "88:\tlearn: 3.0319612\ttotal: 4.2s\tremaining: 566ms\n",
      "89:\tlearn: 3.0303427\ttotal: 4.26s\tremaining: 520ms\n",
      "90:\tlearn: 3.0287553\ttotal: 4.32s\tremaining: 475ms\n",
      "91:\tlearn: 3.0272101\ttotal: 4.34s\tremaining: 425ms\n",
      "92:\tlearn: 3.0255914\ttotal: 4.4s\tremaining: 379ms\n",
      "93:\tlearn: 3.0241206\ttotal: 4.46s\tremaining: 332ms\n",
      "94:\tlearn: 3.0225063\ttotal: 4.51s\tremaining: 285ms\n",
      "95:\tlearn: 3.0208538\ttotal: 4.56s\tremaining: 238ms\n",
      "96:\tlearn: 3.0192357\ttotal: 4.62s\tremaining: 190ms\n",
      "97:\tlearn: 3.0176273\ttotal: 4.68s\tremaining: 143ms\n",
      "98:\tlearn: 3.0160830\ttotal: 4.75s\tremaining: 95.9ms\n",
      "99:\tlearn: 3.0144864\ttotal: 4.81s\tremaining: 48.1ms\n",
      "100:\tlearn: 3.0129818\ttotal: 4.82s\tremaining: 0us\n",
      "0:\tlearn: 3.1649625\ttotal: 57.4ms\tremaining: 5.74s\n",
      "1:\tlearn: 3.1631543\ttotal: 123ms\tremaining: 6.1s\n",
      "2:\tlearn: 3.1613164\ttotal: 185ms\tremaining: 6.03s\n",
      "3:\tlearn: 3.1594768\ttotal: 243ms\tremaining: 5.89s\n",
      "4:\tlearn: 3.1576566\ttotal: 283ms\tremaining: 5.44s\n",
      "5:\tlearn: 3.1562659\ttotal: 289ms\tremaining: 4.57s\n",
      "6:\tlearn: 3.1544483\ttotal: 345ms\tremaining: 4.63s\n",
      "7:\tlearn: 3.1529472\ttotal: 355ms\tremaining: 4.13s\n",
      "8:\tlearn: 3.1514860\ttotal: 363ms\tremaining: 3.71s\n",
      "9:\tlearn: 3.1497308\ttotal: 417ms\tremaining: 3.79s\n",
      "10:\tlearn: 3.1479256\ttotal: 487ms\tremaining: 3.98s\n",
      "11:\tlearn: 3.1462127\ttotal: 529ms\tremaining: 3.92s\n",
      "12:\tlearn: 3.1443741\ttotal: 586ms\tremaining: 3.97s\n",
      "13:\tlearn: 3.1426029\ttotal: 651ms\tremaining: 4.04s\n",
      "14:\tlearn: 3.1409159\ttotal: 664ms\tremaining: 3.81s\n",
      "15:\tlearn: 3.1391808\ttotal: 725ms\tremaining: 3.85s\n",
      "16:\tlearn: 3.1373707\ttotal: 790ms\tremaining: 3.9s\n",
      "17:\tlearn: 3.1356023\ttotal: 855ms\tremaining: 3.94s\n",
      "18:\tlearn: 3.1345043\ttotal: 860ms\tremaining: 3.71s\n",
      "19:\tlearn: 3.1327565\ttotal: 924ms\tremaining: 3.74s\n",
      "20:\tlearn: 3.1309823\ttotal: 963ms\tremaining: 3.67s\n",
      "21:\tlearn: 3.1291875\ttotal: 1.03s\tremaining: 3.69s\n",
      "22:\tlearn: 3.1274357\ttotal: 1.09s\tremaining: 3.7s\n",
      "23:\tlearn: 3.1257386\ttotal: 1.11s\tremaining: 3.56s\n",
      "24:\tlearn: 3.1239939\ttotal: 1.17s\tremaining: 3.54s\n",
      "25:\tlearn: 3.1222496\ttotal: 1.22s\tremaining: 3.51s\n",
      "26:\tlearn: 3.1205848\ttotal: 1.24s\tremaining: 3.4s\n",
      "27:\tlearn: 3.1188962\ttotal: 1.3s\tremaining: 3.4s\n",
      "28:\tlearn: 3.1171393\ttotal: 1.36s\tremaining: 3.38s\n",
      "29:\tlearn: 3.1154199\ttotal: 1.43s\tremaining: 3.37s\n",
      "30:\tlearn: 3.1136554\ttotal: 1.48s\tremaining: 3.35s\n",
      "31:\tlearn: 3.1120467\ttotal: 1.5s\tremaining: 3.23s\n",
      "32:\tlearn: 3.1103500\ttotal: 1.55s\tremaining: 3.2s\n",
      "33:\tlearn: 3.1087277\ttotal: 1.57s\tremaining: 3.09s\n",
      "34:\tlearn: 3.1070020\ttotal: 1.63s\tremaining: 3.06s\n",
      "35:\tlearn: 3.1053750\ttotal: 1.65s\tremaining: 2.98s\n",
      "36:\tlearn: 3.1036500\ttotal: 1.71s\tremaining: 2.96s\n",
      "37:\tlearn: 3.1019080\ttotal: 1.78s\tremaining: 2.95s\n",
      "38:\tlearn: 3.1001471\ttotal: 1.84s\tremaining: 2.92s\n",
      "39:\tlearn: 3.0984337\ttotal: 1.87s\tremaining: 2.85s\n",
      "40:\tlearn: 3.0967414\ttotal: 1.93s\tremaining: 2.83s\n",
      "41:\tlearn: 3.0950503\ttotal: 2s\tremaining: 2.81s\n",
      "42:\tlearn: 3.0932884\ttotal: 2.06s\tremaining: 2.78s\n",
      "43:\tlearn: 3.0915914\ttotal: 2.12s\tremaining: 2.74s\n",
      "44:\tlearn: 3.0898394\ttotal: 2.18s\tremaining: 2.71s\n",
      "45:\tlearn: 3.0881343\ttotal: 2.23s\tremaining: 2.67s\n",
      "46:\tlearn: 3.0864312\ttotal: 2.29s\tremaining: 2.63s\n",
      "47:\tlearn: 3.0847320\ttotal: 2.33s\tremaining: 2.58s\n",
      "48:\tlearn: 3.0830338\ttotal: 2.4s\tremaining: 2.54s\n",
      "49:\tlearn: 3.0815081\ttotal: 2.41s\tremaining: 2.46s\n",
      "50:\tlearn: 3.0798278\ttotal: 2.46s\tremaining: 2.41s\n",
      "51:\tlearn: 3.0781012\ttotal: 2.52s\tremaining: 2.37s\n",
      "52:\tlearn: 3.0763760\ttotal: 2.58s\tremaining: 2.33s\n",
      "53:\tlearn: 3.0746812\ttotal: 2.63s\tremaining: 2.29s\n",
      "54:\tlearn: 3.0729866\ttotal: 2.7s\tremaining: 2.26s\n",
      "55:\tlearn: 3.0713445\ttotal: 2.71s\tremaining: 2.18s\n",
      "56:\tlearn: 3.0696184\ttotal: 2.78s\tremaining: 2.14s\n",
      "57:\tlearn: 3.0679108\ttotal: 2.87s\tremaining: 2.13s\n",
      "58:\tlearn: 3.0662520\ttotal: 2.93s\tremaining: 2.08s\n",
      "59:\tlearn: 3.0648746\ttotal: 2.94s\tremaining: 2.01s\n",
      "60:\tlearn: 3.0631926\ttotal: 3.01s\tremaining: 1.97s\n",
      "61:\tlearn: 3.0614616\ttotal: 3.08s\tremaining: 1.94s\n",
      "62:\tlearn: 3.0597232\ttotal: 3.13s\tremaining: 1.89s\n",
      "63:\tlearn: 3.0581369\ttotal: 3.15s\tremaining: 1.82s\n",
      "64:\tlearn: 3.0564790\ttotal: 3.2s\tremaining: 1.77s\n",
      "65:\tlearn: 3.0549207\ttotal: 3.21s\tremaining: 1.7s\n",
      "66:\tlearn: 3.0533138\ttotal: 3.23s\tremaining: 1.64s\n",
      "67:\tlearn: 3.0516620\ttotal: 3.28s\tremaining: 1.59s\n",
      "68:\tlearn: 3.0500003\ttotal: 3.34s\tremaining: 1.55s\n",
      "69:\tlearn: 3.0483101\ttotal: 3.4s\tremaining: 1.51s\n",
      "70:\tlearn: 3.0466438\ttotal: 3.47s\tremaining: 1.47s\n",
      "71:\tlearn: 3.0449558\ttotal: 3.54s\tremaining: 1.42s\n",
      "72:\tlearn: 3.0433142\ttotal: 3.59s\tremaining: 1.38s\n",
      "73:\tlearn: 3.0418889\ttotal: 3.6s\tremaining: 1.31s\n",
      "74:\tlearn: 3.0404255\ttotal: 3.61s\tremaining: 1.25s\n",
      "75:\tlearn: 3.0388435\ttotal: 3.66s\tremaining: 1.2s\n",
      "76:\tlearn: 3.0371953\ttotal: 3.72s\tremaining: 1.16s\n",
      "77:\tlearn: 3.0356137\ttotal: 3.78s\tremaining: 1.11s\n",
      "78:\tlearn: 3.0340189\ttotal: 3.83s\tremaining: 1.07s\n",
      "79:\tlearn: 3.0324087\ttotal: 3.9s\tremaining: 1.02s\n",
      "80:\tlearn: 3.0307644\ttotal: 3.97s\tremaining: 980ms\n",
      "81:\tlearn: 3.0291498\ttotal: 4.02s\tremaining: 932ms\n",
      "82:\tlearn: 3.0275223\ttotal: 4.08s\tremaining: 884ms\n",
      "83:\tlearn: 3.0258645\ttotal: 4.13s\tremaining: 836ms\n",
      "84:\tlearn: 3.0242388\ttotal: 4.18s\tremaining: 788ms\n",
      "85:\tlearn: 3.0226551\ttotal: 4.2s\tremaining: 733ms\n",
      "86:\tlearn: 3.0212274\ttotal: 4.21s\tremaining: 678ms\n",
      "87:\tlearn: 3.0196409\ttotal: 4.28s\tremaining: 633ms\n",
      "88:\tlearn: 3.0180017\ttotal: 4.34s\tremaining: 585ms\n",
      "89:\tlearn: 3.0164585\ttotal: 4.35s\tremaining: 532ms\n",
      "90:\tlearn: 3.0148660\ttotal: 4.41s\tremaining: 485ms\n",
      "91:\tlearn: 3.0133627\ttotal: 4.47s\tremaining: 437ms\n",
      "92:\tlearn: 3.0117997\ttotal: 4.52s\tremaining: 389ms\n",
      "93:\tlearn: 3.0102283\ttotal: 4.57s\tremaining: 341ms\n",
      "94:\tlearn: 3.0086695\ttotal: 4.63s\tremaining: 293ms\n",
      "95:\tlearn: 3.0070608\ttotal: 4.7s\tremaining: 245ms\n",
      "96:\tlearn: 3.0055438\ttotal: 4.71s\tremaining: 194ms\n",
      "97:\tlearn: 3.0040017\ttotal: 4.75s\tremaining: 145ms\n",
      "98:\tlearn: 3.0024019\ttotal: 4.81s\tremaining: 97.1ms\n",
      "99:\tlearn: 3.0024019\ttotal: 4.81s\tremaining: 48.1ms\n",
      "100:\tlearn: 3.0008177\ttotal: 4.87s\tremaining: 0us\n",
      "0:\tlearn: 3.1802535\ttotal: 57.3ms\tremaining: 5.73s\n",
      "1:\tlearn: 3.1784422\ttotal: 114ms\tremaining: 5.65s\n",
      "2:\tlearn: 3.1766121\ttotal: 180ms\tremaining: 5.87s\n",
      "3:\tlearn: 3.1748293\ttotal: 242ms\tremaining: 5.88s\n",
      "4:\tlearn: 3.1730708\ttotal: 283ms\tremaining: 5.44s\n",
      "5:\tlearn: 3.1716522\ttotal: 289ms\tremaining: 4.57s\n",
      "6:\tlearn: 3.1698332\ttotal: 345ms\tremaining: 4.64s\n",
      "7:\tlearn: 3.1683394\ttotal: 355ms\tremaining: 4.13s\n",
      "8:\tlearn: 3.1668717\ttotal: 363ms\tremaining: 3.71s\n",
      "9:\tlearn: 3.1651153\ttotal: 414ms\tremaining: 3.77s\n",
      "10:\tlearn: 3.1632839\ttotal: 481ms\tremaining: 3.93s\n",
      "11:\tlearn: 3.1615668\ttotal: 530ms\tremaining: 3.93s\n",
      "12:\tlearn: 3.1597262\ttotal: 585ms\tremaining: 3.96s\n",
      "13:\tlearn: 3.1579458\ttotal: 650ms\tremaining: 4.04s\n",
      "14:\tlearn: 3.1562642\ttotal: 663ms\tremaining: 3.8s\n",
      "15:\tlearn: 3.1544799\ttotal: 720ms\tremaining: 3.83s\n",
      "16:\tlearn: 3.1526704\ttotal: 778ms\tremaining: 3.85s\n",
      "17:\tlearn: 3.1508956\ttotal: 843ms\tremaining: 3.88s\n",
      "18:\tlearn: 3.1498025\ttotal: 848ms\tremaining: 3.66s\n",
      "19:\tlearn: 3.1480422\ttotal: 913ms\tremaining: 3.7s\n",
      "20:\tlearn: 3.1462797\ttotal: 952ms\tremaining: 3.63s\n",
      "21:\tlearn: 3.1445538\ttotal: 1.01s\tremaining: 3.64s\n",
      "22:\tlearn: 3.1427952\ttotal: 1.08s\tremaining: 3.66s\n",
      "23:\tlearn: 3.1410858\ttotal: 1.1s\tremaining: 3.53s\n",
      "24:\tlearn: 3.1393225\ttotal: 1.17s\tremaining: 3.56s\n",
      "25:\tlearn: 3.1375882\ttotal: 1.22s\tremaining: 3.53s\n",
      "26:\tlearn: 3.1359027\ttotal: 1.25s\tremaining: 3.42s\n",
      "27:\tlearn: 3.1342207\ttotal: 1.31s\tremaining: 3.42s\n",
      "28:\tlearn: 3.1324594\ttotal: 1.37s\tremaining: 3.4s\n",
      "29:\tlearn: 3.1307383\ttotal: 1.43s\tremaining: 3.38s\n",
      "30:\tlearn: 3.1289766\ttotal: 1.49s\tremaining: 3.36s\n",
      "31:\tlearn: 3.1273993\ttotal: 1.5s\tremaining: 3.24s\n",
      "32:\tlearn: 3.1256861\ttotal: 1.55s\tremaining: 3.21s\n",
      "33:\tlearn: 3.1240636\ttotal: 1.57s\tremaining: 3.09s\n",
      "34:\tlearn: 3.1223323\ttotal: 1.62s\tremaining: 3.06s\n",
      "35:\tlearn: 3.1206633\ttotal: 1.65s\tremaining: 2.97s\n",
      "36:\tlearn: 3.1189364\ttotal: 1.7s\tremaining: 2.94s\n",
      "37:\tlearn: 3.1172238\ttotal: 1.73s\tremaining: 2.86s\n",
      "38:\tlearn: 3.1155251\ttotal: 1.79s\tremaining: 2.85s\n",
      "39:\tlearn: 3.1138454\ttotal: 1.84s\tremaining: 2.81s\n",
      "40:\tlearn: 3.1121329\ttotal: 1.91s\tremaining: 2.79s\n",
      "41:\tlearn: 3.1103728\ttotal: 1.97s\tremaining: 2.77s\n",
      "42:\tlearn: 3.1086675\ttotal: 2.04s\tremaining: 2.75s\n",
      "43:\tlearn: 3.1069302\ttotal: 2.09s\tremaining: 2.71s\n",
      "44:\tlearn: 3.1051821\ttotal: 2.16s\tremaining: 2.69s\n",
      "45:\tlearn: 3.1034765\ttotal: 2.22s\tremaining: 2.65s\n",
      "46:\tlearn: 3.1017684\ttotal: 2.28s\tremaining: 2.62s\n",
      "47:\tlearn: 3.1000537\ttotal: 2.34s\tremaining: 2.59s\n",
      "48:\tlearn: 3.0983179\ttotal: 2.41s\tremaining: 2.56s\n",
      "49:\tlearn: 3.0966031\ttotal: 2.47s\tremaining: 2.52s\n",
      "50:\tlearn: 3.0948760\ttotal: 2.53s\tremaining: 2.48s\n",
      "51:\tlearn: 3.0931861\ttotal: 2.59s\tremaining: 2.44s\n",
      "52:\tlearn: 3.0915195\ttotal: 2.65s\tremaining: 2.4s\n",
      "53:\tlearn: 3.0898635\ttotal: 2.7s\tremaining: 2.35s\n",
      "54:\tlearn: 3.0882766\ttotal: 2.71s\tremaining: 2.26s\n",
      "55:\tlearn: 3.0867004\ttotal: 2.72s\tremaining: 2.18s\n",
      "56:\tlearn: 3.0849514\ttotal: 2.78s\tremaining: 2.14s\n",
      "57:\tlearn: 3.0832366\ttotal: 2.85s\tremaining: 2.11s\n",
      "58:\tlearn: 3.0815902\ttotal: 2.9s\tremaining: 2.06s\n",
      "59:\tlearn: 3.0802118\ttotal: 2.91s\tremaining: 1.99s\n",
      "60:\tlearn: 3.0785408\ttotal: 2.97s\tremaining: 1.95s\n",
      "61:\tlearn: 3.0768355\ttotal: 3.03s\tremaining: 1.91s\n",
      "62:\tlearn: 3.0751374\ttotal: 3.08s\tremaining: 1.86s\n",
      "63:\tlearn: 3.0734734\ttotal: 3.15s\tremaining: 1.82s\n",
      "64:\tlearn: 3.0718466\ttotal: 3.21s\tremaining: 1.77s\n",
      "65:\tlearn: 3.0701555\ttotal: 3.24s\tremaining: 1.72s\n",
      "66:\tlearn: 3.0684879\ttotal: 3.29s\tremaining: 1.67s\n",
      "67:\tlearn: 3.0668643\ttotal: 3.35s\tremaining: 1.62s\n",
      "68:\tlearn: 3.0651802\ttotal: 3.41s\tremaining: 1.58s\n",
      "69:\tlearn: 3.0635355\ttotal: 3.46s\tremaining: 1.53s\n",
      "70:\tlearn: 3.0619209\ttotal: 3.52s\tremaining: 1.49s\n",
      "71:\tlearn: 3.0602187\ttotal: 3.58s\tremaining: 1.44s\n",
      "72:\tlearn: 3.0589197\ttotal: 3.59s\tremaining: 1.38s\n",
      "73:\tlearn: 3.0575836\ttotal: 3.6s\tremaining: 1.31s\n",
      "74:\tlearn: 3.0559316\ttotal: 3.64s\tremaining: 1.26s\n",
      "75:\tlearn: 3.0544493\ttotal: 3.65s\tremaining: 1.2s\n",
      "76:\tlearn: 3.0527686\ttotal: 3.71s\tremaining: 1.16s\n",
      "77:\tlearn: 3.0511135\ttotal: 3.77s\tremaining: 1.11s\n",
      "78:\tlearn: 3.0495119\ttotal: 3.82s\tremaining: 1.06s\n",
      "79:\tlearn: 3.0478547\ttotal: 3.88s\tremaining: 1.02s\n",
      "80:\tlearn: 3.0461890\ttotal: 3.95s\tremaining: 975ms\n",
      "81:\tlearn: 3.0445943\ttotal: 3.97s\tremaining: 920ms\n",
      "82:\tlearn: 3.0430200\ttotal: 4.02s\tremaining: 872ms\n",
      "83:\tlearn: 3.0413712\ttotal: 4.08s\tremaining: 825ms\n",
      "84:\tlearn: 3.0397821\ttotal: 4.13s\tremaining: 778ms\n",
      "85:\tlearn: 3.0381365\ttotal: 4.2s\tremaining: 732ms\n",
      "86:\tlearn: 3.0366111\ttotal: 4.21s\tremaining: 677ms\n",
      "87:\tlearn: 3.0349901\ttotal: 4.28s\tremaining: 632ms\n",
      "88:\tlearn: 3.0333466\ttotal: 4.33s\tremaining: 584ms\n",
      "89:\tlearn: 3.0317873\ttotal: 4.36s\tremaining: 533ms\n",
      "90:\tlearn: 3.0301534\ttotal: 4.41s\tremaining: 485ms\n",
      "91:\tlearn: 3.0286241\ttotal: 4.47s\tremaining: 438ms\n",
      "92:\tlearn: 3.0270468\ttotal: 4.5s\tremaining: 387ms\n",
      "93:\tlearn: 3.0254670\ttotal: 4.56s\tremaining: 340ms\n",
      "94:\tlearn: 3.0238579\ttotal: 4.62s\tremaining: 292ms\n",
      "95:\tlearn: 3.0222510\ttotal: 4.69s\tremaining: 244ms\n",
      "96:\tlearn: 3.0206284\ttotal: 4.76s\tremaining: 196ms\n",
      "97:\tlearn: 3.0190334\ttotal: 4.82s\tremaining: 148ms\n",
      "98:\tlearn: 3.0175287\ttotal: 4.83s\tremaining: 97.7ms\n",
      "99:\tlearn: 3.0160407\ttotal: 4.86s\tremaining: 48.6ms\n",
      "100:\tlearn: 3.0144311\ttotal: 4.92s\tremaining: 0us\n",
      "0:\tlearn: 3.1905778\ttotal: 58.3ms\tremaining: 5.83s\n",
      "1:\tlearn: 3.1887710\ttotal: 119ms\tremaining: 5.89s\n",
      "2:\tlearn: 3.1869288\ttotal: 177ms\tremaining: 5.79s\n",
      "3:\tlearn: 3.1850930\ttotal: 238ms\tremaining: 5.76s\n",
      "4:\tlearn: 3.1833306\ttotal: 275ms\tremaining: 5.27s\n",
      "5:\tlearn: 3.1819462\ttotal: 280ms\tremaining: 4.43s\n",
      "6:\tlearn: 3.1801333\ttotal: 336ms\tremaining: 4.51s\n",
      "7:\tlearn: 3.1786328\ttotal: 346ms\tremaining: 4.02s\n",
      "8:\tlearn: 3.1771632\ttotal: 355ms\tremaining: 3.63s\n",
      "9:\tlearn: 3.1754100\ttotal: 411ms\tremaining: 3.74s\n",
      "10:\tlearn: 3.1736025\ttotal: 477ms\tremaining: 3.9s\n",
      "11:\tlearn: 3.1718782\ttotal: 520ms\tremaining: 3.85s\n",
      "12:\tlearn: 3.1701455\ttotal: 532ms\tremaining: 3.6s\n",
      "13:\tlearn: 3.1684547\ttotal: 597ms\tremaining: 3.71s\n",
      "14:\tlearn: 3.1666573\ttotal: 659ms\tremaining: 3.78s\n",
      "15:\tlearn: 3.1655780\ttotal: 664ms\tremaining: 3.52s\n",
      "16:\tlearn: 3.1638291\ttotal: 689ms\tremaining: 3.4s\n",
      "17:\tlearn: 3.1620783\ttotal: 754ms\tremaining: 3.48s\n",
      "18:\tlearn: 3.1602796\ttotal: 826ms\tremaining: 3.56s\n",
      "19:\tlearn: 3.1589416\ttotal: 832ms\tremaining: 3.37s\n",
      "20:\tlearn: 3.1571312\ttotal: 901ms\tremaining: 3.43s\n",
      "21:\tlearn: 3.1553894\ttotal: 939ms\tremaining: 3.37s\n",
      "22:\tlearn: 3.1536577\ttotal: 1s\tremaining: 3.41s\n",
      "23:\tlearn: 3.1520477\ttotal: 1.01s\tremaining: 3.25s\n",
      "24:\tlearn: 3.1505486\ttotal: 1.02s\tremaining: 3.11s\n",
      "25:\tlearn: 3.1489063\ttotal: 1.04s\tremaining: 2.99s\n",
      "26:\tlearn: 3.1471529\ttotal: 1.1s\tremaining: 3.01s\n",
      "27:\tlearn: 3.1454378\ttotal: 1.16s\tremaining: 3.01s\n",
      "28:\tlearn: 3.1437595\ttotal: 1.18s\tremaining: 2.92s\n",
      "29:\tlearn: 3.1419886\ttotal: 1.24s\tremaining: 2.94s\n",
      "30:\tlearn: 3.1403103\ttotal: 1.3s\tremaining: 2.94s\n",
      "31:\tlearn: 3.1385738\ttotal: 1.36s\tremaining: 2.94s\n",
      "32:\tlearn: 3.1367961\ttotal: 1.43s\tremaining: 2.94s\n",
      "33:\tlearn: 3.1351811\ttotal: 1.44s\tremaining: 2.84s\n",
      "34:\tlearn: 3.1334464\ttotal: 1.5s\tremaining: 2.82s\n",
      "35:\tlearn: 3.1318292\ttotal: 1.51s\tremaining: 2.73s\n",
      "36:\tlearn: 3.1300937\ttotal: 1.57s\tremaining: 2.72s\n",
      "37:\tlearn: 3.1284286\ttotal: 1.6s\tremaining: 2.65s\n",
      "38:\tlearn: 3.1267129\ttotal: 1.66s\tremaining: 2.63s\n",
      "39:\tlearn: 3.1249766\ttotal: 1.72s\tremaining: 2.62s\n",
      "40:\tlearn: 3.1232350\ttotal: 1.78s\tremaining: 2.6s\n",
      "41:\tlearn: 3.1215259\ttotal: 1.81s\tremaining: 2.54s\n",
      "42:\tlearn: 3.1198280\ttotal: 1.87s\tremaining: 2.52s\n",
      "43:\tlearn: 3.1180992\ttotal: 1.95s\tremaining: 2.52s\n",
      "44:\tlearn: 3.1163574\ttotal: 2.01s\tremaining: 2.5s\n",
      "45:\tlearn: 3.1146057\ttotal: 2.06s\tremaining: 2.47s\n",
      "46:\tlearn: 3.1128592\ttotal: 2.13s\tremaining: 2.45s\n",
      "47:\tlearn: 3.1111428\ttotal: 2.19s\tremaining: 2.42s\n",
      "48:\tlearn: 3.1094441\ttotal: 2.25s\tremaining: 2.39s\n",
      "49:\tlearn: 3.1077166\ttotal: 2.29s\tremaining: 2.34s\n",
      "50:\tlearn: 3.1060193\ttotal: 2.36s\tremaining: 2.31s\n",
      "51:\tlearn: 3.1044811\ttotal: 2.37s\tremaining: 2.23s\n",
      "52:\tlearn: 3.1028138\ttotal: 2.42s\tremaining: 2.19s\n",
      "53:\tlearn: 3.1010996\ttotal: 2.47s\tremaining: 2.15s\n",
      "54:\tlearn: 3.0993521\ttotal: 2.55s\tremaining: 2.13s\n",
      "55:\tlearn: 3.0976595\ttotal: 2.61s\tremaining: 2.1s\n",
      "56:\tlearn: 3.0959724\ttotal: 2.67s\tremaining: 2.06s\n",
      "57:\tlearn: 3.0943715\ttotal: 2.69s\tremaining: 1.99s\n",
      "58:\tlearn: 3.0926390\ttotal: 2.77s\tremaining: 1.97s\n",
      "59:\tlearn: 3.0909357\ttotal: 2.85s\tremaining: 1.95s\n",
      "60:\tlearn: 3.0892961\ttotal: 2.9s\tremaining: 1.91s\n",
      "61:\tlearn: 3.0879219\ttotal: 2.92s\tremaining: 1.83s\n",
      "62:\tlearn: 3.0862556\ttotal: 2.98s\tremaining: 1.79s\n",
      "63:\tlearn: 3.0845399\ttotal: 3.04s\tremaining: 1.76s\n",
      "64:\tlearn: 3.0828125\ttotal: 3.09s\tremaining: 1.71s\n",
      "65:\tlearn: 3.0811214\ttotal: 3.16s\tremaining: 1.68s\n",
      "66:\tlearn: 3.0794813\ttotal: 3.21s\tremaining: 1.63s\n",
      "67:\tlearn: 3.0777765\ttotal: 3.25s\tremaining: 1.58s\n",
      "68:\tlearn: 3.0760848\ttotal: 3.31s\tremaining: 1.53s\n",
      "69:\tlearn: 3.0744599\ttotal: 3.37s\tremaining: 1.49s\n",
      "70:\tlearn: 3.0727998\ttotal: 3.44s\tremaining: 1.46s\n",
      "71:\tlearn: 3.0711497\ttotal: 3.5s\tremaining: 1.41s\n",
      "72:\tlearn: 3.0695396\ttotal: 3.53s\tremaining: 1.35s\n",
      "73:\tlearn: 3.0678782\ttotal: 3.6s\tremaining: 1.31s\n",
      "74:\tlearn: 3.0662222\ttotal: 3.66s\tremaining: 1.27s\n",
      "75:\tlearn: 3.0662222\ttotal: 3.66s\tremaining: 1.2s\n",
      "76:\tlearn: 3.0645627\ttotal: 3.71s\tremaining: 1.16s\n",
      "77:\tlearn: 3.0629515\ttotal: 3.76s\tremaining: 1.11s\n",
      "78:\tlearn: 3.0612935\ttotal: 3.81s\tremaining: 1.06s\n",
      "79:\tlearn: 3.0598034\ttotal: 3.82s\tremaining: 1s\n",
      "80:\tlearn: 3.0581839\ttotal: 3.87s\tremaining: 956ms\n",
      "81:\tlearn: 3.0565249\ttotal: 3.93s\tremaining: 911ms\n",
      "82:\tlearn: 3.0548776\ttotal: 4s\tremaining: 867ms\n",
      "83:\tlearn: 3.0532925\ttotal: 4.02s\tremaining: 814ms\n",
      "84:\tlearn: 3.0517389\ttotal: 4.08s\tremaining: 769ms\n",
      "85:\tlearn: 3.0501778\ttotal: 4.11s\tremaining: 716ms\n",
      "86:\tlearn: 3.0487185\ttotal: 4.12s\tremaining: 663ms\n",
      "87:\tlearn: 3.0470589\ttotal: 4.18s\tremaining: 618ms\n",
      "88:\tlearn: 3.0454544\ttotal: 4.23s\tremaining: 570ms\n",
      "89:\tlearn: 3.0438288\ttotal: 4.29s\tremaining: 524ms\n",
      "90:\tlearn: 3.0422133\ttotal: 4.35s\tremaining: 478ms\n",
      "91:\tlearn: 3.0406510\ttotal: 4.37s\tremaining: 427ms\n",
      "92:\tlearn: 3.0390243\ttotal: 4.43s\tremaining: 381ms\n",
      "93:\tlearn: 3.0376475\ttotal: 4.44s\tremaining: 331ms\n",
      "94:\tlearn: 3.0364102\ttotal: 4.45s\tremaining: 281ms\n",
      "95:\tlearn: 3.0348744\ttotal: 4.5s\tremaining: 235ms\n",
      "96:\tlearn: 3.0332781\ttotal: 4.56s\tremaining: 188ms\n",
      "97:\tlearn: 3.0316657\ttotal: 4.62s\tremaining: 141ms\n",
      "98:\tlearn: 3.0300671\ttotal: 4.66s\tremaining: 94.2ms\n",
      "99:\tlearn: 3.0284385\ttotal: 4.73s\tremaining: 47.3ms\n",
      "100:\tlearn: 3.0271055\ttotal: 4.74s\tremaining: 0us\n",
      "0:\tlearn: 3.1707994\ttotal: 13.8ms\tremaining: 1.38s\n",
      "1:\tlearn: 3.1689580\ttotal: 75.7ms\tremaining: 3.75s\n",
      "2:\tlearn: 3.1671295\ttotal: 126ms\tremaining: 4.1s\n",
      "3:\tlearn: 3.1653213\ttotal: 181ms\tremaining: 4.4s\n",
      "4:\tlearn: 3.1634931\ttotal: 242ms\tremaining: 4.65s\n",
      "5:\tlearn: 3.1617850\ttotal: 255ms\tremaining: 4.03s\n",
      "6:\tlearn: 3.1599514\ttotal: 311ms\tremaining: 4.18s\n",
      "7:\tlearn: 3.1584456\ttotal: 321ms\tremaining: 3.73s\n",
      "8:\tlearn: 3.1569614\ttotal: 329ms\tremaining: 3.36s\n",
      "9:\tlearn: 3.1551822\ttotal: 390ms\tremaining: 3.55s\n",
      "10:\tlearn: 3.1533685\ttotal: 454ms\tremaining: 3.71s\n",
      "11:\tlearn: 3.1516260\ttotal: 497ms\tremaining: 3.69s\n",
      "12:\tlearn: 3.1497960\ttotal: 563ms\tremaining: 3.81s\n",
      "13:\tlearn: 3.1480004\ttotal: 624ms\tremaining: 3.88s\n",
      "14:\tlearn: 3.1463419\ttotal: 637ms\tremaining: 3.65s\n",
      "15:\tlearn: 3.1445903\ttotal: 700ms\tremaining: 3.72s\n",
      "16:\tlearn: 3.1427588\ttotal: 764ms\tremaining: 3.77s\n",
      "17:\tlearn: 3.1409346\ttotal: 830ms\tremaining: 3.83s\n",
      "18:\tlearn: 3.1398299\ttotal: 836ms\tremaining: 3.61s\n",
      "19:\tlearn: 3.1380632\ttotal: 900ms\tremaining: 3.65s\n",
      "20:\tlearn: 3.1363408\ttotal: 940ms\tremaining: 3.58s\n",
      "21:\tlearn: 3.1346155\ttotal: 1s\tremaining: 3.6s\n",
      "22:\tlearn: 3.1328474\ttotal: 1.06s\tremaining: 3.6s\n",
      "23:\tlearn: 3.1311411\ttotal: 1.08s\tremaining: 3.46s\n",
      "24:\tlearn: 3.1293592\ttotal: 1.14s\tremaining: 3.48s\n",
      "25:\tlearn: 3.1276158\ttotal: 1.2s\tremaining: 3.46s\n",
      "26:\tlearn: 3.1259744\ttotal: 1.22s\tremaining: 3.35s\n",
      "27:\tlearn: 3.1242307\ttotal: 1.29s\tremaining: 3.35s\n",
      "28:\tlearn: 3.1224896\ttotal: 1.34s\tremaining: 3.33s\n",
      "29:\tlearn: 3.1207627\ttotal: 1.4s\tremaining: 3.31s\n",
      "30:\tlearn: 3.1189848\ttotal: 1.47s\tremaining: 3.31s\n",
      "31:\tlearn: 3.1173649\ttotal: 1.48s\tremaining: 3.19s\n",
      "32:\tlearn: 3.1156621\ttotal: 1.53s\tremaining: 3.16s\n",
      "33:\tlearn: 3.1140474\ttotal: 1.55s\tremaining: 3.05s\n",
      "34:\tlearn: 3.1123206\ttotal: 1.6s\tremaining: 3.01s\n",
      "35:\tlearn: 3.1106201\ttotal: 1.62s\tremaining: 2.93s\n",
      "36:\tlearn: 3.1089075\ttotal: 1.68s\tremaining: 2.91s\n",
      "37:\tlearn: 3.1071785\ttotal: 1.71s\tremaining: 2.83s\n",
      "38:\tlearn: 3.1054715\ttotal: 1.77s\tremaining: 2.82s\n",
      "39:\tlearn: 3.1037413\ttotal: 1.82s\tremaining: 2.78s\n",
      "40:\tlearn: 3.1020081\ttotal: 1.88s\tremaining: 2.75s\n",
      "41:\tlearn: 3.1002692\ttotal: 1.94s\tremaining: 2.73s\n",
      "42:\tlearn: 3.0987261\ttotal: 1.95s\tremaining: 2.63s\n",
      "43:\tlearn: 3.0970870\ttotal: 1.97s\tremaining: 2.55s\n",
      "44:\tlearn: 3.0953218\ttotal: 2.03s\tremaining: 2.53s\n",
      "45:\tlearn: 3.0936583\ttotal: 2.08s\tremaining: 2.49s\n",
      "46:\tlearn: 3.0919373\ttotal: 2.15s\tremaining: 2.47s\n",
      "47:\tlearn: 3.0902013\ttotal: 2.21s\tremaining: 2.44s\n",
      "48:\tlearn: 3.0887515\ttotal: 2.22s\tremaining: 2.36s\n",
      "49:\tlearn: 3.0870260\ttotal: 2.29s\tremaining: 2.33s\n",
      "50:\tlearn: 3.0853152\ttotal: 2.35s\tremaining: 2.31s\n",
      "51:\tlearn: 3.0836070\ttotal: 2.41s\tremaining: 2.27s\n",
      "52:\tlearn: 3.0818810\ttotal: 2.48s\tremaining: 2.24s\n",
      "53:\tlearn: 3.0801438\ttotal: 2.54s\tremaining: 2.21s\n",
      "54:\tlearn: 3.0785672\ttotal: 2.55s\tremaining: 2.13s\n",
      "55:\tlearn: 3.0769570\ttotal: 2.57s\tremaining: 2.06s\n",
      "56:\tlearn: 3.0755475\ttotal: 2.58s\tremaining: 1.99s\n",
      "57:\tlearn: 3.0738749\ttotal: 2.65s\tremaining: 1.96s\n",
      "58:\tlearn: 3.0723464\ttotal: 2.66s\tremaining: 1.89s\n",
      "59:\tlearn: 3.0706875\ttotal: 2.69s\tremaining: 1.84s\n",
      "60:\tlearn: 3.0690216\ttotal: 2.73s\tremaining: 1.79s\n",
      "61:\tlearn: 3.0673433\ttotal: 2.77s\tremaining: 1.74s\n",
      "62:\tlearn: 3.0658958\ttotal: 2.78s\tremaining: 1.68s\n",
      "63:\tlearn: 3.0642302\ttotal: 2.83s\tremaining: 1.64s\n",
      "64:\tlearn: 3.0625696\ttotal: 2.89s\tremaining: 1.6s\n",
      "65:\tlearn: 3.0608671\ttotal: 2.94s\tremaining: 1.56s\n",
      "66:\tlearn: 3.0591923\ttotal: 2.99s\tremaining: 1.52s\n",
      "67:\tlearn: 3.0579178\ttotal: 2.99s\tremaining: 1.45s\n",
      "68:\tlearn: 3.0562439\ttotal: 3.05s\tremaining: 1.41s\n",
      "69:\tlearn: 3.0546010\ttotal: 3.12s\tremaining: 1.38s\n",
      "70:\tlearn: 3.0529013\ttotal: 3.19s\tremaining: 1.35s\n",
      "71:\tlearn: 3.0512580\ttotal: 3.23s\tremaining: 1.3s\n",
      "72:\tlearn: 3.0496665\ttotal: 3.28s\tremaining: 1.26s\n",
      "73:\tlearn: 3.0479800\ttotal: 3.35s\tremaining: 1.22s\n",
      "74:\tlearn: 3.0463487\ttotal: 3.4s\tremaining: 1.18s\n",
      "75:\tlearn: 3.0446870\ttotal: 3.47s\tremaining: 1.14s\n",
      "76:\tlearn: 3.0434133\ttotal: 3.48s\tremaining: 1.08s\n",
      "77:\tlearn: 3.0418605\ttotal: 3.5s\tremaining: 1.03s\n",
      "78:\tlearn: 3.0402392\ttotal: 3.54s\tremaining: 985ms\n",
      "79:\tlearn: 3.0385845\ttotal: 3.6s\tremaining: 946ms\n",
      "80:\tlearn: 3.0370389\ttotal: 3.62s\tremaining: 894ms\n",
      "81:\tlearn: 3.0354104\ttotal: 3.68s\tremaining: 854ms\n",
      "82:\tlearn: 3.0337747\ttotal: 3.75s\tremaining: 814ms\n",
      "83:\tlearn: 3.0321812\ttotal: 3.81s\tremaining: 770ms\n",
      "84:\tlearn: 3.0305461\ttotal: 3.88s\tremaining: 730ms\n",
      "85:\tlearn: 3.0289238\ttotal: 3.94s\tremaining: 687ms\n",
      "86:\tlearn: 3.0272609\ttotal: 4.01s\tremaining: 646ms\n",
      "87:\tlearn: 3.0257496\ttotal: 4.03s\tremaining: 595ms\n",
      "88:\tlearn: 3.0242371\ttotal: 4.05s\tremaining: 546ms\n",
      "89:\tlearn: 3.0226336\ttotal: 4.1s\tremaining: 501ms\n",
      "90:\tlearn: 3.0210350\ttotal: 4.17s\tremaining: 458ms\n",
      "91:\tlearn: 3.0193671\ttotal: 4.23s\tremaining: 413ms\n",
      "92:\tlearn: 3.0193671\ttotal: 4.23s\tremaining: 364ms\n",
      "93:\tlearn: 3.0179721\ttotal: 4.24s\tremaining: 316ms\n",
      "94:\tlearn: 3.0167397\ttotal: 4.25s\tremaining: 268ms\n",
      "95:\tlearn: 3.0151535\ttotal: 4.31s\tremaining: 225ms\n",
      "96:\tlearn: 3.0135280\ttotal: 4.37s\tremaining: 180ms\n",
      "97:\tlearn: 3.0119177\ttotal: 4.42s\tremaining: 135ms\n",
      "98:\tlearn: 3.0103318\ttotal: 4.46s\tremaining: 90.1ms\n",
      "99:\tlearn: 3.0087059\ttotal: 4.53s\tremaining: 45.3ms\n",
      "100:\tlearn: 3.0073756\ttotal: 4.54s\tremaining: 0us\n",
      "CPU times: user 22min 58s, sys: 6.74 s, total: 23min 5s\n",
      "Wall time: 20min 58s\n"
     ]
    },
    {
     "data": {
      "text/html": [
       "<style>#sk-container-id-1 {color: black;background-color: white;}#sk-container-id-1 pre{padding: 0;}#sk-container-id-1 div.sk-toggleable {background-color: white;}#sk-container-id-1 label.sk-toggleable__label {cursor: pointer;display: block;width: 100%;margin-bottom: 0;padding: 0.3em;box-sizing: border-box;text-align: center;}#sk-container-id-1 label.sk-toggleable__label-arrow:before {content: \"▸\";float: left;margin-right: 0.25em;color: #696969;}#sk-container-id-1 label.sk-toggleable__label-arrow:hover:before {color: black;}#sk-container-id-1 div.sk-estimator:hover label.sk-toggleable__label-arrow:before {color: black;}#sk-container-id-1 div.sk-toggleable__content {max-height: 0;max-width: 0;overflow: hidden;text-align: left;background-color: #f0f8ff;}#sk-container-id-1 div.sk-toggleable__content pre {margin: 0.2em;color: black;border-radius: 0.25em;background-color: #f0f8ff;}#sk-container-id-1 input.sk-toggleable__control:checked~div.sk-toggleable__content {max-height: 200px;max-width: 100%;overflow: auto;}#sk-container-id-1 input.sk-toggleable__control:checked~label.sk-toggleable__label-arrow:before {content: \"▾\";}#sk-container-id-1 div.sk-estimator input.sk-toggleable__control:checked~label.sk-toggleable__label {background-color: #d4ebff;}#sk-container-id-1 div.sk-label input.sk-toggleable__control:checked~label.sk-toggleable__label {background-color: #d4ebff;}#sk-container-id-1 input.sk-hidden--visually {border: 0;clip: rect(1px 1px 1px 1px);clip: rect(1px, 1px, 1px, 1px);height: 1px;margin: -1px;overflow: hidden;padding: 0;position: absolute;width: 1px;}#sk-container-id-1 div.sk-estimator {font-family: monospace;background-color: #f0f8ff;border: 1px dotted black;border-radius: 0.25em;box-sizing: border-box;margin-bottom: 0.5em;}#sk-container-id-1 div.sk-estimator:hover {background-color: #d4ebff;}#sk-container-id-1 div.sk-parallel-item::after {content: \"\";width: 100%;border-bottom: 1px solid gray;flex-grow: 1;}#sk-container-id-1 div.sk-label:hover label.sk-toggleable__label {background-color: #d4ebff;}#sk-container-id-1 div.sk-serial::before {content: \"\";position: absolute;border-left: 1px solid gray;box-sizing: border-box;top: 0;bottom: 0;left: 50%;z-index: 0;}#sk-container-id-1 div.sk-serial {display: flex;flex-direction: column;align-items: center;background-color: white;padding-right: 0.2em;padding-left: 0.2em;position: relative;}#sk-container-id-1 div.sk-item {position: relative;z-index: 1;}#sk-container-id-1 div.sk-parallel {display: flex;align-items: stretch;justify-content: center;background-color: white;position: relative;}#sk-container-id-1 div.sk-item::before, #sk-container-id-1 div.sk-parallel-item::before {content: \"\";position: absolute;border-left: 1px solid gray;box-sizing: border-box;top: 0;bottom: 0;left: 50%;z-index: -1;}#sk-container-id-1 div.sk-parallel-item {display: flex;flex-direction: column;z-index: 1;position: relative;background-color: white;}#sk-container-id-1 div.sk-parallel-item:first-child::after {align-self: flex-end;width: 50%;}#sk-container-id-1 div.sk-parallel-item:last-child::after {align-self: flex-start;width: 50%;}#sk-container-id-1 div.sk-parallel-item:only-child::after {width: 0;}#sk-container-id-1 div.sk-dashed-wrapped {border: 1px dashed gray;margin: 0 0.4em 0.5em 0.4em;box-sizing: border-box;padding-bottom: 0.4em;background-color: white;}#sk-container-id-1 div.sk-label label {font-family: monospace;font-weight: bold;display: inline-block;line-height: 1.2em;}#sk-container-id-1 div.sk-label-container {text-align: center;}#sk-container-id-1 div.sk-container {/* jupyter's `normalize.less` sets `[hidden] { display: none; }` but bootstrap.min.css set `[hidden] { display: none !important; }` so we also need the `!important` here to be able to override the default hidden behavior on the sphinx rendered scikit-learn.org. See: https://github.com/scikit-learn/scikit-learn/issues/21755 */display: inline-block !important;position: relative;}#sk-container-id-1 div.sk-text-repr-fallback {display: none;}</style><div id=\"sk-container-id-1\" class=\"sk-top-container\"><div class=\"sk-text-repr-fallback\"><pre>StackingRegressor(estimators=[(&#x27;XGBoost&#x27;,\n",
       "                               XGBRegressor(base_score=None, booster=None,\n",
       "                                            callbacks=None,\n",
       "                                            colsample_bylevel=None,\n",
       "                                            colsample_bynode=None,\n",
       "                                            colsample_bytree=None, device=None,\n",
       "                                            early_stopping_rounds=None,\n",
       "                                            enable_categorical=False,\n",
       "                                            eval_metric=None,\n",
       "                                            feature_types=None, gamma=None,\n",
       "                                            grow_policy=None,\n",
       "                                            importance_type=None,\n",
       "                                            interaction_constraints=None,\n",
       "                                            learnin...\n",
       "                                               feature_types=None, gamma=None,\n",
       "                                               grow_policy=None,\n",
       "                                               importance_type=None,\n",
       "                                               interaction_constraints=None,\n",
       "                                               learning_rate=0.01, max_bin=None,\n",
       "                                               max_cat_threshold=None,\n",
       "                                               max_cat_to_onehot=None,\n",
       "                                               max_delta_step=None, max_depth=6,\n",
       "                                               max_leaves=None,\n",
       "                                               min_child_weight=None,\n",
       "                                               missing=nan,\n",
       "                                               monotone_constraints=None,\n",
       "                                               multi_strategy=None,\n",
       "                                               n_estimators=395, n_jobs=None,\n",
       "                                               num_parallel_tree=None,\n",
       "                                               random_state=27, ...))</pre><b>In a Jupyter environment, please rerun this cell to show the HTML representation or trust the notebook. <br />On GitHub, the HTML representation is unable to render, please try loading this page with nbviewer.org.</b></div><div class=\"sk-container\" hidden><div class=\"sk-item sk-dashed-wrapped\"><div class=\"sk-label-container\"><div class=\"sk-label sk-toggleable\"><input class=\"sk-toggleable__control sk-hidden--visually\" id=\"sk-estimator-id-1\" type=\"checkbox\" ><label for=\"sk-estimator-id-1\" class=\"sk-toggleable__label sk-toggleable__label-arrow\">StackingRegressor</label><div class=\"sk-toggleable__content\"><pre>StackingRegressor(estimators=[(&#x27;XGBoost&#x27;,\n",
       "                               XGBRegressor(base_score=None, booster=None,\n",
       "                                            callbacks=None,\n",
       "                                            colsample_bylevel=None,\n",
       "                                            colsample_bynode=None,\n",
       "                                            colsample_bytree=None, device=None,\n",
       "                                            early_stopping_rounds=None,\n",
       "                                            enable_categorical=False,\n",
       "                                            eval_metric=None,\n",
       "                                            feature_types=None, gamma=None,\n",
       "                                            grow_policy=None,\n",
       "                                            importance_type=None,\n",
       "                                            interaction_constraints=None,\n",
       "                                            learnin...\n",
       "                                               feature_types=None, gamma=None,\n",
       "                                               grow_policy=None,\n",
       "                                               importance_type=None,\n",
       "                                               interaction_constraints=None,\n",
       "                                               learning_rate=0.01, max_bin=None,\n",
       "                                               max_cat_threshold=None,\n",
       "                                               max_cat_to_onehot=None,\n",
       "                                               max_delta_step=None, max_depth=6,\n",
       "                                               max_leaves=None,\n",
       "                                               min_child_weight=None,\n",
       "                                               missing=nan,\n",
       "                                               monotone_constraints=None,\n",
       "                                               multi_strategy=None,\n",
       "                                               n_estimators=395, n_jobs=None,\n",
       "                                               num_parallel_tree=None,\n",
       "                                               random_state=27, ...))</pre></div></div></div><div class=\"sk-serial\"><div class=\"sk-item\"><div class=\"sk-parallel\"><div class=\"sk-parallel-item\"><div class=\"sk-item\"><div class=\"sk-label-container\"><div class=\"sk-label sk-toggleable\"><label>XGBoost</label></div></div><div class=\"sk-serial\"><div class=\"sk-item\"><div class=\"sk-estimator sk-toggleable\"><input class=\"sk-toggleable__control sk-hidden--visually\" id=\"sk-estimator-id-2\" type=\"checkbox\" ><label for=\"sk-estimator-id-2\" class=\"sk-toggleable__label sk-toggleable__label-arrow\">XGBRegressor</label><div class=\"sk-toggleable__content\"><pre>XGBRegressor(base_score=None, booster=None, callbacks=None,\n",
       "             colsample_bylevel=None, colsample_bynode=None,\n",
       "             colsample_bytree=None, device=None, early_stopping_rounds=None,\n",
       "             enable_categorical=False, eval_metric=None, feature_types=None,\n",
       "             gamma=None, grow_policy=None, importance_type=None,\n",
       "             interaction_constraints=None, learning_rate=0.01, max_bin=None,\n",
       "             max_cat_threshold=None, max_cat_to_onehot=None,\n",
       "             max_delta_step=None, max_depth=6, max_leaves=None,\n",
       "             min_child_weight=None, missing=nan, monotone_constraints=None,\n",
       "             multi_strategy=None, n_estimators=395, n_jobs=None,\n",
       "             num_parallel_tree=None, random_state=27, ...)</pre></div></div></div></div></div></div><div class=\"sk-parallel-item\"><div class=\"sk-item\"><div class=\"sk-label-container\"><div class=\"sk-label sk-toggleable\"><label>LightGBM</label></div></div><div class=\"sk-serial\"><div class=\"sk-item\"><div class=\"sk-estimator sk-toggleable\"><input class=\"sk-toggleable__control sk-hidden--visually\" id=\"sk-estimator-id-3\" type=\"checkbox\" ><label for=\"sk-estimator-id-3\" class=\"sk-toggleable__label sk-toggleable__label-arrow\">LGBMRegressor</label><div class=\"sk-toggleable__content\"><pre>LGBMRegressor(boosting_type=&#x27;dart&#x27;, learning_rate=0.0010257989336468524,\n",
       "              max_depth=100, min_child_samples=22, n_estimators=676,\n",
       "              num_leaves=37, random_state=27)</pre></div></div></div></div></div></div><div class=\"sk-parallel-item\"><div class=\"sk-item\"><div class=\"sk-label-container\"><div class=\"sk-label sk-toggleable\"><label>Catboost</label></div></div><div class=\"sk-serial\"><div class=\"sk-item\"><div class=\"sk-estimator sk-toggleable\"><input class=\"sk-toggleable__control sk-hidden--visually\" id=\"sk-estimator-id-4\" type=\"checkbox\" ><label for=\"sk-estimator-id-4\" class=\"sk-toggleable__label sk-toggleable__label-arrow\">CatBoostRegressor</label><div class=\"sk-toggleable__content\"><pre>&lt;catboost.core.CatBoostRegressor object at 0x78348f3048e0&gt;</pre></div></div></div></div></div></div><div class=\"sk-parallel-item\"><div class=\"sk-item\"><div class=\"sk-label-container\"><div class=\"sk-label sk-toggleable\"><label>Random_forest</label></div></div><div class=\"sk-serial\"><div class=\"sk-item\"><div class=\"sk-estimator sk-toggleable\"><input class=\"sk-toggleable__control sk-hidden--visually\" id=\"sk-estimator-id-5\" type=\"checkbox\" ><label for=\"sk-estimator-id-5\" class=\"sk-toggleable__label sk-toggleable__label-arrow\">RandomForestRegressor</label><div class=\"sk-toggleable__content\"><pre>RandomForestRegressor(max_depth=8, min_samples_leaf=60, min_samples_split=13,\n",
       "                      n_estimators=544, random_state=27)</pre></div></div></div></div></div></div></div></div><div class=\"sk-item\"><div class=\"sk-parallel\"><div class=\"sk-parallel-item\"><div class=\"sk-item\"><div class=\"sk-label-container\"><div class=\"sk-label sk-toggleable\"><label>final_estimator</label></div></div><div class=\"sk-serial\"><div class=\"sk-item\"><div class=\"sk-estimator sk-toggleable\"><input class=\"sk-toggleable__control sk-hidden--visually\" id=\"sk-estimator-id-6\" type=\"checkbox\" ><label for=\"sk-estimator-id-6\" class=\"sk-toggleable__label sk-toggleable__label-arrow\">XGBRegressor</label><div class=\"sk-toggleable__content\"><pre>XGBRegressor(base_score=None, booster=None, callbacks=None,\n",
       "             colsample_bylevel=None, colsample_bynode=None,\n",
       "             colsample_bytree=None, device=None, early_stopping_rounds=None,\n",
       "             enable_categorical=False, eval_metric=None, feature_types=None,\n",
       "             gamma=None, grow_policy=None, importance_type=None,\n",
       "             interaction_constraints=None, learning_rate=0.01, max_bin=None,\n",
       "             max_cat_threshold=None, max_cat_to_onehot=None,\n",
       "             max_delta_step=None, max_depth=6, max_leaves=None,\n",
       "             min_child_weight=None, missing=nan, monotone_constraints=None,\n",
       "             multi_strategy=None, n_estimators=395, n_jobs=None,\n",
       "             num_parallel_tree=None, random_state=27, ...)</pre></div></div></div></div></div></div></div></div></div></div></div></div>"
      ],
      "text/plain": [
       "StackingRegressor(estimators=[('XGBoost',\n",
       "                               XGBRegressor(base_score=None, booster=None,\n",
       "                                            callbacks=None,\n",
       "                                            colsample_bylevel=None,\n",
       "                                            colsample_bynode=None,\n",
       "                                            colsample_bytree=None, device=None,\n",
       "                                            early_stopping_rounds=None,\n",
       "                                            enable_categorical=False,\n",
       "                                            eval_metric=None,\n",
       "                                            feature_types=None, gamma=None,\n",
       "                                            grow_policy=None,\n",
       "                                            importance_type=None,\n",
       "                                            interaction_constraints=None,\n",
       "                                            learnin...\n",
       "                                               feature_types=None, gamma=None,\n",
       "                                               grow_policy=None,\n",
       "                                               importance_type=None,\n",
       "                                               interaction_constraints=None,\n",
       "                                               learning_rate=0.01, max_bin=None,\n",
       "                                               max_cat_threshold=None,\n",
       "                                               max_cat_to_onehot=None,\n",
       "                                               max_delta_step=None, max_depth=6,\n",
       "                                               max_leaves=None,\n",
       "                                               min_child_weight=None,\n",
       "                                               missing=nan,\n",
       "                                               monotone_constraints=None,\n",
       "                                               multi_strategy=None,\n",
       "                                               n_estimators=395, n_jobs=None,\n",
       "                                               num_parallel_tree=None,\n",
       "                                               random_state=27, ...))"
      ]
     },
     "execution_count": 35,
     "metadata": {},
     "output_type": "execute_result"
    }
   ],
   "source": [
    "%%time\n",
    "RandomForestRegressor(\n",
    "    n_estimators=544,\n",
    "    min_samples_leaf=60,\n",
    "    max_depth=8,\n",
    "    min_samples_split=13,\n",
    "    random_state=27\n",
    ")\n",
    "stacking_model = StackingRegressor(estimators=base_models, final_estimator=meta_model)\n",
    "stacking_model.fit(X, y)"
   ]
  },
  {
   "cell_type": "markdown",
   "id": "6de61fab",
   "metadata": {
    "papermill": {
     "duration": 0.048564,
     "end_time": "2024-04-05T16:35:29.727644",
     "exception": false,
     "start_time": "2024-04-05T16:35:29.679080",
     "status": "completed"
    },
    "tags": []
   },
   "source": [
    "<a id='15'></a>\n",
    "# <p style=\"border-radius: 30px; border: aqua solid; padding: 0px 10px 0px 10px;color: #3EB489; border-bottom: 6px solid  #20603D; background-color: #fadb8c;\">🐟 Predict the validation set and calculate Root Mean Squared Logarithmic Error (RMSLE) score</p>"
   ]
  },
  {
   "cell_type": "code",
   "execution_count": 36,
   "id": "fcd4a82e",
   "metadata": {
    "execution": {
     "iopub.execute_input": "2024-04-05T16:35:29.830027Z",
     "iopub.status.busy": "2024-04-05T16:35:29.829194Z",
     "iopub.status.idle": "2024-04-05T16:35:31.762497Z",
     "shell.execute_reply": "2024-04-05T16:35:31.761106Z"
    },
    "papermill": {
     "duration": 1.989033,
     "end_time": "2024-04-05T16:35:31.764971",
     "exception": false,
     "start_time": "2024-04-05T16:35:29.775938",
     "status": "completed"
    },
    "tags": []
   },
   "outputs": [
    {
     "name": "stdout",
     "output_type": "stream",
     "text": [
      "Validation Root mean squared logarithmic error regression loss: 0.14996089\n"
     ]
    }
   ],
   "source": [
    "y_pred_val = stacking_model.predict(X_val)\n",
    "\n",
    "rmsle_val = np.sqrt(mean_squared_log_error(y_val, y_pred_val))\n",
    "print(f\"Validation Root mean squared logarithmic error regression loss: {rmsle_val:.8f}\")"
   ]
  },
  {
   "cell_type": "markdown",
   "id": "df20c4e2",
   "metadata": {
    "papermill": {
     "duration": 0.048116,
     "end_time": "2024-04-05T16:35:31.864105",
     "exception": false,
     "start_time": "2024-04-05T16:35:31.815989",
     "status": "completed"
    },
    "tags": []
   },
   "source": [
    "<a id='16'></a>\n",
    "# <span style=\"border-radius: 30px; border: aqua solid; padding: 0px 10px 0px 10px;color: #3EB489; border-bottom: 6px solid  #20603D; background-color: #fadb8c;\">🐠 Predict on the test data</span>"
   ]
  },
  {
   "cell_type": "code",
   "execution_count": 37,
   "id": "7a1326b2",
   "metadata": {
    "execution": {
     "iopub.execute_input": "2024-04-05T16:35:31.964032Z",
     "iopub.status.busy": "2024-04-05T16:35:31.963596Z",
     "iopub.status.idle": "2024-04-05T16:35:37.886567Z",
     "shell.execute_reply": "2024-04-05T16:35:37.885052Z"
    },
    "papermill": {
     "duration": 5.976907,
     "end_time": "2024-04-05T16:35:37.889708",
     "exception": false,
     "start_time": "2024-04-05T16:35:31.912801",
     "status": "completed"
    },
    "tags": []
   },
   "outputs": [
    {
     "data": {
      "text/plain": [
       "array([ 9.486151 ,  9.715047 , 10.27558  , 10.5141735,  7.668651 ,\n",
       "        9.515457 , 11.509464 ,  6.3149257,  8.082214 , 11.513453 ],\n",
       "      dtype=float32)"
      ]
     },
     "execution_count": 37,
     "metadata": {},
     "output_type": "execute_result"
    }
   ],
   "source": [
    "y_pred_test = stacking_model.predict(test)\n",
    "y_pred_test[:10]"
   ]
  },
  {
   "cell_type": "markdown",
   "id": "5ddb9ebf",
   "metadata": {
    "papermill": {
     "duration": 0.048107,
     "end_time": "2024-04-05T16:35:37.986899",
     "exception": false,
     "start_time": "2024-04-05T16:35:37.938792",
     "status": "completed"
    },
    "tags": []
   },
   "source": [
    "![](https://en.australia51.com/Attach/Download/EA3D1916-8F57-1147-653F-329276FBB95A/0656DE71-5A1F-235F-E504-F21533E82969.jpg)"
   ]
  },
  {
   "cell_type": "markdown",
   "id": "2e075b0b",
   "metadata": {
    "papermill": {
     "duration": 0.0491,
     "end_time": "2024-04-05T16:35:38.087883",
     "exception": false,
     "start_time": "2024-04-05T16:35:38.038783",
     "status": "completed"
    },
    "tags": []
   },
   "source": [
    "<a id='17'></a>\n",
    "# <span style=\"border-radius: 30px; border: aqua solid; padding: 0px 10px 0px 10px;color: #3EB489; border-bottom: 6px solid  #20603D; background-color: #fadb8c;\">🐡 Build DataFrame and make first submission</span>"
   ]
  },
  {
   "cell_type": "code",
   "execution_count": 38,
   "id": "083727e0",
   "metadata": {
    "execution": {
     "iopub.execute_input": "2024-04-05T16:35:38.190873Z",
     "iopub.status.busy": "2024-04-05T16:35:38.190425Z",
     "iopub.status.idle": "2024-04-05T16:35:38.361752Z",
     "shell.execute_reply": "2024-04-05T16:35:38.360393Z"
    },
    "papermill": {
     "duration": 0.228061,
     "end_time": "2024-04-05T16:35:38.364921",
     "exception": false,
     "start_time": "2024-04-05T16:35:38.136860",
     "status": "completed"
    },
    "tags": []
   },
   "outputs": [
    {
     "data": {
      "text/html": [
       "<div>\n",
       "<style scoped>\n",
       "    .dataframe tbody tr th:only-of-type {\n",
       "        vertical-align: middle;\n",
       "    }\n",
       "\n",
       "    .dataframe tbody tr th {\n",
       "        vertical-align: top;\n",
       "    }\n",
       "\n",
       "    .dataframe thead th {\n",
       "        text-align: right;\n",
       "    }\n",
       "</style>\n",
       "<table border=\"1\" class=\"dataframe\">\n",
       "  <thead>\n",
       "    <tr style=\"text-align: right;\">\n",
       "      <th></th>\n",
       "      <th>id</th>\n",
       "      <th>Rings</th>\n",
       "    </tr>\n",
       "  </thead>\n",
       "  <tbody>\n",
       "    <tr>\n",
       "      <th>0</th>\n",
       "      <td>90615</td>\n",
       "      <td>9.486151</td>\n",
       "    </tr>\n",
       "    <tr>\n",
       "      <th>1</th>\n",
       "      <td>90616</td>\n",
       "      <td>9.715047</td>\n",
       "    </tr>\n",
       "    <tr>\n",
       "      <th>2</th>\n",
       "      <td>90617</td>\n",
       "      <td>10.275580</td>\n",
       "    </tr>\n",
       "    <tr>\n",
       "      <th>3</th>\n",
       "      <td>90618</td>\n",
       "      <td>10.514174</td>\n",
       "    </tr>\n",
       "    <tr>\n",
       "      <th>4</th>\n",
       "      <td>90619</td>\n",
       "      <td>7.668651</td>\n",
       "    </tr>\n",
       "    <tr>\n",
       "      <th>5</th>\n",
       "      <td>90620</td>\n",
       "      <td>9.515457</td>\n",
       "    </tr>\n",
       "    <tr>\n",
       "      <th>6</th>\n",
       "      <td>90621</td>\n",
       "      <td>11.509464</td>\n",
       "    </tr>\n",
       "    <tr>\n",
       "      <th>7</th>\n",
       "      <td>90622</td>\n",
       "      <td>6.314926</td>\n",
       "    </tr>\n",
       "    <tr>\n",
       "      <th>8</th>\n",
       "      <td>90623</td>\n",
       "      <td>8.082214</td>\n",
       "    </tr>\n",
       "    <tr>\n",
       "      <th>9</th>\n",
       "      <td>90624</td>\n",
       "      <td>11.513453</td>\n",
       "    </tr>\n",
       "  </tbody>\n",
       "</table>\n",
       "</div>"
      ],
      "text/plain": [
       "      id      Rings\n",
       "0  90615   9.486151\n",
       "1  90616   9.715047\n",
       "2  90617  10.275580\n",
       "3  90618  10.514174\n",
       "4  90619   7.668651\n",
       "5  90620   9.515457\n",
       "6  90621  11.509464\n",
       "7  90622   6.314926\n",
       "8  90623   8.082214\n",
       "9  90624  11.513453"
      ]
     },
     "execution_count": 38,
     "metadata": {},
     "output_type": "execute_result"
    }
   ],
   "source": [
    "submission = pd.DataFrame({\n",
    "    'id': sample_submission.id,\n",
    "    'Rings': y_pred_test\n",
    "})\n",
    "\n",
    "submission.to_csv('Kapturov_S4E4_submission.csv', index=False)\n",
    "submission.head(10)"
   ]
  },
  {
   "cell_type": "markdown",
   "id": "ed79107c",
   "metadata": {
    "papermill": {
     "duration": 0.050433,
     "end_time": "2024-04-05T16:35:38.463886",
     "exception": false,
     "start_time": "2024-04-05T16:35:38.413453",
     "status": "completed"
    },
    "tags": []
   },
   "source": [
    "<a id='18'></a>\n",
    "# <span style=\"border-radius: 30px; border: aqua solid; padding: 0px 10px 0px 10px;color: #3EB489; border-bottom: 6px solid  #20603D; background-color: #fadb8c;\">🍥 Save the model into pickle file</span>"
   ]
  },
  {
   "cell_type": "code",
   "execution_count": 39,
   "id": "24acccf7",
   "metadata": {
    "execution": {
     "iopub.execute_input": "2024-04-05T16:35:38.566598Z",
     "iopub.status.busy": "2024-04-05T16:35:38.566204Z",
     "iopub.status.idle": "2024-04-05T16:35:38.797008Z",
     "shell.execute_reply": "2024-04-05T16:35:38.795553Z"
    },
    "papermill": {
     "duration": 0.284645,
     "end_time": "2024-04-05T16:35:38.800083",
     "exception": false,
     "start_time": "2024-04-05T16:35:38.515438",
     "status": "completed"
    },
    "tags": []
   },
   "outputs": [],
   "source": [
    "pickle.dump(stacking_model, open(\"Kapturov_stacking_model.pkl\", \"wb\"))"
   ]
  },
  {
   "cell_type": "markdown",
   "id": "78fdcec7",
   "metadata": {
    "papermill": {
     "duration": 0.049027,
     "end_time": "2024-04-05T16:35:38.900570",
     "exception": false,
     "start_time": "2024-04-05T16:35:38.851543",
     "status": "completed"
    },
    "tags": []
   },
   "source": [
    "![](https://upload.wikimedia.org/wikipedia/commons/thumb/b/bc/Abalone_at_California_Academy_of_Sciences.JPG/1200px-Abalone_at_California_Academy_of_Sciences.JPG)"
   ]
  },
  {
   "cell_type": "markdown",
   "id": "2c7a79ce",
   "metadata": {
    "papermill": {
     "duration": 0.049053,
     "end_time": "2024-04-05T16:35:38.999904",
     "exception": false,
     "start_time": "2024-04-05T16:35:38.950851",
     "status": "completed"
    },
    "tags": []
   },
   "source": [
    "# <span style=\"border-radius: 30px; border: aqua solid; padding: 0px 10px 0px 10px;color: #3EB489; border-bottom: 6px solid  #20603D; background-color: #fadb8c;\">😀 Hope You are feeling great!"
   ]
  }
 ],
 "metadata": {
  "kaggle": {
   "accelerator": "none",
   "dataSources": [
    {
     "databundleVersionId": 8096274,
     "sourceId": 72489,
     "sourceType": "competition"
    },
    {
     "datasetId": 4705962,
     "sourceId": 8013090,
     "sourceType": "datasetVersion"
    }
   ],
   "dockerImageVersionId": 30673,
   "isGpuEnabled": false,
   "isInternetEnabled": true,
   "language": "python",
   "sourceType": "notebook"
  },
  "kernelspec": {
   "display_name": "Python 3",
   "language": "python",
   "name": "python3"
  },
  "language_info": {
   "codemirror_mode": {
    "name": "ipython",
    "version": 3
   },
   "file_extension": ".py",
   "mimetype": "text/x-python",
   "name": "python",
   "nbconvert_exporter": "python",
   "pygments_lexer": "ipython3",
   "version": "3.10.13"
  },
  "papermill": {
   "default_parameters": {},
   "duration": 1344.625764,
   "end_time": "2024-04-05T16:35:39.978999",
   "environment_variables": {},
   "exception": null,
   "input_path": "__notebook__.ipynb",
   "output_path": "__notebook__.ipynb",
   "parameters": {},
   "start_time": "2024-04-05T16:13:15.353235",
   "version": "2.5.0"
  }
 },
 "nbformat": 4,
 "nbformat_minor": 5
}
