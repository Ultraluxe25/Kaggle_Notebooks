{
 "cells": [
  {
   "cell_type": "markdown",
   "id": "e4dd6b95",
   "metadata": {
    "papermill": {
     "duration": 0.02387,
     "end_time": "2024-04-04T16:44:14.493501",
     "exception": false,
     "start_time": "2024-04-04T16:44:14.469631",
     "status": "completed"
    },
    "tags": []
   },
   "source": [
    "![](https://cdn.shopify.com/s/files/1/0528/8266/9745/files/aa9ba33a428bcfb93a45b4a44e5019d3.jpg?v=1676085807)"
   ]
  },
  {
   "cell_type": "code",
   "execution_count": 1,
   "id": "6b92d8be",
   "metadata": {
    "_cell_guid": "b1076dfc-b9ad-4769-8c92-a6c4dae69d19",
    "_kg_hide-input": true,
    "_kg_hide-output": true,
    "_uuid": "8f2839f25d086af736a60e9eeb907d3b93b6e0e5",
    "execution": {
     "iopub.execute_input": "2024-04-04T16:44:14.542513Z",
     "iopub.status.busy": "2024-04-04T16:44:14.541808Z",
     "iopub.status.idle": "2024-04-04T16:44:15.406587Z",
     "shell.execute_reply": "2024-04-04T16:44:15.405591Z"
    },
    "papermill": {
     "duration": 0.893085,
     "end_time": "2024-04-04T16:44:15.409177",
     "exception": false,
     "start_time": "2024-04-04T16:44:14.516092",
     "status": "completed"
    },
    "tags": []
   },
   "outputs": [
    {
     "name": "stdout",
     "output_type": "stream",
     "text": [
      "/kaggle/input/ps-4-e-2-abalone-dataset-from-uci/abalone.names\n",
      "/kaggle/input/ps-4-e-2-abalone-dataset-from-uci/Index\n",
      "/kaggle/input/ps-4-e-2-abalone-dataset-from-uci/abalone.data\n",
      "/kaggle/input/ps-4-e-2-abalone-dataset-from-uci/PS4 E4 original abalone dataset from UCI.csv\n",
      "/kaggle/input/playground-series-s4e4/sample_submission.csv\n",
      "/kaggle/input/playground-series-s4e4/train.csv\n",
      "/kaggle/input/playground-series-s4e4/test.csv\n"
     ]
    }
   ],
   "source": [
    "# This Python 3 environment comes with many helpful analytics libraries installed\n",
    "# It is defined by the kaggle/python Docker image: https://github.com/kaggle/docker-python\n",
    "# For example, here's several helpful packages to load\n",
    "\n",
    "import numpy as np # linear algebra\n",
    "import pandas as pd # data processing, CSV file I/O (e.g. pd.read_csv)\n",
    "\n",
    "# Input data files are available in the read-only \"../input/\" directory\n",
    "# For example, running this (by clicking run or pressing Shift+Enter) will list all files under the input directory\n",
    "\n",
    "import os\n",
    "for dirname, _, filenames in os.walk('/kaggle/input'):\n",
    "    for filename in filenames:\n",
    "        print(os.path.join(dirname, filename))\n",
    "\n",
    "# You can write up to 20GB to the current directory (/kaggle/working/) that gets preserved as output when you create a version using \"Save & Run All\" \n",
    "# You can also write temporary files to /kaggle/temp/, but they won't be saved outside of the current session"
   ]
  },
  {
   "cell_type": "markdown",
   "id": "bdb24099",
   "metadata": {
    "papermill": {
     "duration": 0.022966,
     "end_time": "2024-04-04T16:44:15.455806",
     "exception": false,
     "start_time": "2024-04-04T16:44:15.432840",
     "status": "completed"
    },
    "tags": []
   },
   "source": [
    "## **Your Goal**: Predict the age of abalone from various physical measurements."
   ]
  },
  {
   "cell_type": "markdown",
   "id": "830a310d",
   "metadata": {
    "papermill": {
     "duration": 0.022328,
     "end_time": "2024-04-04T16:44:15.501407",
     "exception": false,
     "start_time": "2024-04-04T16:44:15.479079",
     "status": "completed"
    },
    "tags": []
   },
   "source": [
    "- <font face=\"Bahnschrift Condensed\" style=\"font-size: 14pt; color: #3EB489\">\n",
    "Predicting the age of abalone from physical measurements. The age of\n",
    "abalone is determined by cutting the shell through the cone, staining it,\n",
    "and counting the number of rings through a microscope -- a boring and\n",
    "time-consuming task.  Other measurements, which are easier to obtain, are\n",
    "used to predict the age.  Further information, such as weather patterns\n",
    "and location (hence food availability) may be required to solve the problem.\n",
    "</font>\n",
    "  \n",
    "  \n",
    "- <font face=\"Bahnschrift Condensed\" style=\"font-size: 14pt; color: #3EB489\">\n",
    "From the original data examples with missing values were removed (the\n",
    "majority having the predicted value missing), and the ranges of the\n",
    "continuous values have been scaled for use with an ANN (by dividing by 200).\n",
    "</font>"
   ]
  },
  {
   "cell_type": "markdown",
   "id": "253c4791",
   "metadata": {
    "papermill": {
     "duration": 0.024254,
     "end_time": "2024-04-04T16:44:15.548889",
     "exception": false,
     "start_time": "2024-04-04T16:44:15.524635",
     "status": "completed"
    },
    "tags": []
   },
   "source": [
    "![](https://www.kaggle.com/competitions/72489/images/header)"
   ]
  },
  {
   "cell_type": "markdown",
   "id": "b2b5191f",
   "metadata": {
    "papermill": {
     "duration": 0.023218,
     "end_time": "2024-04-04T16:44:15.595483",
     "exception": false,
     "start_time": "2024-04-04T16:44:15.572265",
     "status": "completed"
    },
    "tags": []
   },
   "source": [
    "## <font face=\"Bahnschrift Condensed\" style=\"font-size: 14pt; color: #3EB489\">Abalone Dataset Description</font>\n",
    "\n",
    "**<span style=\"color: orange;\">Sex:** Represents the gender of the abalone, categorized as male (M), female (F), or infant (I).\n",
    "  \n",
    "**<span style=\"color: orange;\">Length:** Denotes the longest measurement of the abalone shell, from the apex to the base, measured in millimeters.\n",
    "  \n",
    "**<span style=\"color: orange;\">Diameter:** Represents the measurement of the abalone shell perpendicular to its length, also measured in millimeters.\n",
    "  \n",
    "**<span style=\"color: orange;\">Height:** Signifies the height of the abalone shell, measured perpendicular to the plane formed by the length and diameter, in millimeters.\n",
    "  \n",
    "**<span style=\"color: orange;\">Whole Weight:** Indicates the total weight of the abalone, encompassing both the meat and the shell, measured in grams.\n",
    "  \n",
    "**<span style=\"color: orange;\">Shucked Weight:** Represents the weight of the abalone meat only, measured in grams. It indicates the amount of meat extracted from the shell.\n",
    "  \n",
    "**<span style=\"color: orange;\">Viscera Weight:** Signifies the weight of the abalone gut after bleeding, measured in grams. It provides insights into the weight of the internal organs of the abalone.\n",
    "  \n",
    "**<span style=\"color: orange;\">Shell Weight:** Represents the weight of the abalone shell only, excluding the meat, measured in grams. It provides insights into the weight distribution between the shell and the edible portion of the abalone.\n",
    "  \n",
    "**<span style=\"color: orange;\">Rings:** Signifies the number of rings present on the abalone shell, serving as an indicator of the abalone's age."
   ]
  },
  {
   "cell_type": "markdown",
   "id": "d2c59e94",
   "metadata": {
    "papermill": {
     "duration": 0.023722,
     "end_time": "2024-04-04T16:44:15.642692",
     "exception": false,
     "start_time": "2024-04-04T16:44:15.618970",
     "status": "completed"
    },
    "tags": []
   },
   "source": [
    "# <span style=\"background-image: url(https://www.kaggle.com/competitions/72489/images/header); color: white; font-size: 50px;\">Table of Contents</span>\n",
    "\n",
    "- [Import libraries](#1)\n",
    "- [Open data files](#2)\n",
    "- [Show first 5 lines of train data](#3)\n",
    "- [Compare original train and competition train](#3.1)\n",
    "- [Concatenate original train with competition train](#3.2)\n",
    "- [Figure out how much duplicates in data](#3.3)\n",
    "- [Remove duplicates from data](#3.4)\n",
    "- [Shapes of train and test data](#4)\n",
    "- [Display descriptive statistics of train data](#5)\n",
    "- [Check the number of gaps for each feature](#6)\n",
    "- [One-hot encoding](#7.3)\n",
    "- [More plots](#7.4)\n",
    "- [Display histograms of distribution](#8)\n",
    "- [Let's count target of train data](#9)\n",
    "- [Transform the data with log1p](#10)\n",
    "- [Feature importance](#10.2)\n",
    "- [Build a heat map of correlations](#11)\n",
    "- [Define base models with tuned hyperparameters](#12)\n",
    "- [Defining the meta-model with tuned hyperparameters](#13)\n",
    "- [Creating and fitting the stacking model](#14)\n",
    "- [Predict validation set and calculate metrics score](#15)\n",
    "- [Predict the test data](#16)\n",
    "- [Build DataFrame and make submission](#17)\n",
    "- [Save the model into pickle file](#18)"
   ]
  },
  {
   "cell_type": "markdown",
   "id": "19e51723",
   "metadata": {
    "papermill": {
     "duration": 0.022836,
     "end_time": "2024-04-04T16:44:15.688622",
     "exception": false,
     "start_time": "2024-04-04T16:44:15.665786",
     "status": "completed"
    },
    "tags": []
   },
   "source": [
    "<a id='1'></a>\n",
    "# <span style=\"color: #3EB489; border-bottom: 6px solid  #20603D; background-color: #fadb8c;\">🌊 Import libraries</span>"
   ]
  },
  {
   "cell_type": "code",
   "execution_count": 2,
   "id": "1c3a23c0",
   "metadata": {
    "execution": {
     "iopub.execute_input": "2024-04-04T16:44:15.736422Z",
     "iopub.status.busy": "2024-04-04T16:44:15.735765Z",
     "iopub.status.idle": "2024-04-04T16:44:19.456803Z",
     "shell.execute_reply": "2024-04-04T16:44:19.455800Z"
    },
    "papermill": {
     "duration": 3.748146,
     "end_time": "2024-04-04T16:44:19.459921",
     "exception": false,
     "start_time": "2024-04-04T16:44:15.711775",
     "status": "completed"
    },
    "tags": []
   },
   "outputs": [],
   "source": [
    "import numpy as np\n",
    "import pandas as pd\n",
    "import matplotlib.pyplot as plt\n",
    "import seaborn as sns\n",
    "import optuna\n",
    "from optuna.samplers import TPESampler\n",
    "import pickle\n",
    "from IPython.core.display import HTML\n",
    "from sklearn.model_selection import train_test_split, cross_val_score, cross_val_predict\n",
    "from sklearn.ensemble import RandomForestRegressor\n",
    "from sklearn.ensemble import StackingRegressor\n",
    "from xgboost import XGBRegressor\n",
    "from catboost import CatBoostRegressor\n",
    "from lightgbm import LGBMRegressor\n",
    "from sklearn.metrics import mean_squared_log_error"
   ]
  },
  {
   "cell_type": "markdown",
   "id": "b74ba47a",
   "metadata": {
    "papermill": {
     "duration": 0.023118,
     "end_time": "2024-04-04T16:44:19.506082",
     "exception": false,
     "start_time": "2024-04-04T16:44:19.482964",
     "status": "completed"
    },
    "tags": []
   },
   "source": [
    "![](data:image/jpeg;base64,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)"
   ]
  },
  {
   "cell_type": "markdown",
   "id": "4295fc3a",
   "metadata": {
    "papermill": {
     "duration": 0.022987,
     "end_time": "2024-04-04T16:44:19.552533",
     "exception": false,
     "start_time": "2024-04-04T16:44:19.529546",
     "status": "completed"
    },
    "tags": []
   },
   "source": [
    "<a id='2'></a>\n",
    "# <span style=\"color: #3EB489; border-bottom: 6px solid  #20603D; background-color: #fadb8c;\">🐚 Open data files</span>"
   ]
  },
  {
   "cell_type": "code",
   "execution_count": 3,
   "id": "96edcb6e",
   "metadata": {
    "execution": {
     "iopub.execute_input": "2024-04-04T16:44:19.600428Z",
     "iopub.status.busy": "2024-04-04T16:44:19.599608Z",
     "iopub.status.idle": "2024-04-04T16:44:19.932007Z",
     "shell.execute_reply": "2024-04-04T16:44:19.930904Z"
    },
    "papermill": {
     "duration": 0.359012,
     "end_time": "2024-04-04T16:44:19.934579",
     "exception": false,
     "start_time": "2024-04-04T16:44:19.575567",
     "status": "completed"
    },
    "tags": []
   },
   "outputs": [],
   "source": [
    "original_train = pd.read_csv('/kaggle/input/ps-4-e-2-abalone-dataset-from-uci/abalone.data', header=None)\n",
    "\n",
    "train = pd.read_csv('/kaggle/input/playground-series-s4e4/train.csv')\n",
    "test = pd.read_csv('/kaggle/input/playground-series-s4e4/test.csv')\n",
    "sample_submission = pd.read_csv('/kaggle/input/playground-series-s4e4/sample_submission.csv')"
   ]
  },
  {
   "cell_type": "markdown",
   "id": "f9aaa49a",
   "metadata": {
    "papermill": {
     "duration": 0.02228,
     "end_time": "2024-04-04T16:44:19.979834",
     "exception": false,
     "start_time": "2024-04-04T16:44:19.957554",
     "status": "completed"
    },
    "tags": []
   },
   "source": [
    "<a id='3'></a>\n",
    "# <span style=\"color: #3EB489; border-bottom: 6px solid  #20603D; background-color: #fadb8c;\">⛵ Show first 5 lines of train data</span>"
   ]
  },
  {
   "cell_type": "code",
   "execution_count": 4,
   "id": "3f3d9f26",
   "metadata": {
    "execution": {
     "iopub.execute_input": "2024-04-04T16:44:20.026172Z",
     "iopub.status.busy": "2024-04-04T16:44:20.025742Z",
     "iopub.status.idle": "2024-04-04T16:44:20.049563Z",
     "shell.execute_reply": "2024-04-04T16:44:20.048768Z"
    },
    "papermill": {
     "duration": 0.049669,
     "end_time": "2024-04-04T16:44:20.051711",
     "exception": false,
     "start_time": "2024-04-04T16:44:20.002042",
     "status": "completed"
    },
    "tags": []
   },
   "outputs": [
    {
     "data": {
      "text/html": [
       "<div>\n",
       "<style scoped>\n",
       "    .dataframe tbody tr th:only-of-type {\n",
       "        vertical-align: middle;\n",
       "    }\n",
       "\n",
       "    .dataframe tbody tr th {\n",
       "        vertical-align: top;\n",
       "    }\n",
       "\n",
       "    .dataframe thead th {\n",
       "        text-align: right;\n",
       "    }\n",
       "</style>\n",
       "<table border=\"1\" class=\"dataframe\">\n",
       "  <thead>\n",
       "    <tr style=\"text-align: right;\">\n",
       "      <th></th>\n",
       "      <th>id</th>\n",
       "      <th>Sex</th>\n",
       "      <th>Length</th>\n",
       "      <th>Diameter</th>\n",
       "      <th>Height</th>\n",
       "      <th>Whole weight</th>\n",
       "      <th>Whole weight.1</th>\n",
       "      <th>Whole weight.2</th>\n",
       "      <th>Shell weight</th>\n",
       "      <th>Rings</th>\n",
       "    </tr>\n",
       "  </thead>\n",
       "  <tbody>\n",
       "    <tr>\n",
       "      <th>0</th>\n",
       "      <td>0</td>\n",
       "      <td>F</td>\n",
       "      <td>0.550</td>\n",
       "      <td>0.430</td>\n",
       "      <td>0.150</td>\n",
       "      <td>0.7715</td>\n",
       "      <td>0.3285</td>\n",
       "      <td>0.1465</td>\n",
       "      <td>0.2400</td>\n",
       "      <td>11</td>\n",
       "    </tr>\n",
       "    <tr>\n",
       "      <th>1</th>\n",
       "      <td>1</td>\n",
       "      <td>F</td>\n",
       "      <td>0.630</td>\n",
       "      <td>0.490</td>\n",
       "      <td>0.145</td>\n",
       "      <td>1.1300</td>\n",
       "      <td>0.4580</td>\n",
       "      <td>0.2765</td>\n",
       "      <td>0.3200</td>\n",
       "      <td>11</td>\n",
       "    </tr>\n",
       "    <tr>\n",
       "      <th>2</th>\n",
       "      <td>2</td>\n",
       "      <td>I</td>\n",
       "      <td>0.160</td>\n",
       "      <td>0.110</td>\n",
       "      <td>0.025</td>\n",
       "      <td>0.0210</td>\n",
       "      <td>0.0055</td>\n",
       "      <td>0.0030</td>\n",
       "      <td>0.0050</td>\n",
       "      <td>6</td>\n",
       "    </tr>\n",
       "    <tr>\n",
       "      <th>3</th>\n",
       "      <td>3</td>\n",
       "      <td>M</td>\n",
       "      <td>0.595</td>\n",
       "      <td>0.475</td>\n",
       "      <td>0.150</td>\n",
       "      <td>0.9145</td>\n",
       "      <td>0.3755</td>\n",
       "      <td>0.2055</td>\n",
       "      <td>0.2500</td>\n",
       "      <td>10</td>\n",
       "    </tr>\n",
       "    <tr>\n",
       "      <th>4</th>\n",
       "      <td>4</td>\n",
       "      <td>I</td>\n",
       "      <td>0.555</td>\n",
       "      <td>0.425</td>\n",
       "      <td>0.130</td>\n",
       "      <td>0.7820</td>\n",
       "      <td>0.3695</td>\n",
       "      <td>0.1600</td>\n",
       "      <td>0.1975</td>\n",
       "      <td>9</td>\n",
       "    </tr>\n",
       "  </tbody>\n",
       "</table>\n",
       "</div>"
      ],
      "text/plain": [
       "   id Sex  Length  Diameter  Height  Whole weight  Whole weight.1  \\\n",
       "0   0   F   0.550     0.430   0.150        0.7715          0.3285   \n",
       "1   1   F   0.630     0.490   0.145        1.1300          0.4580   \n",
       "2   2   I   0.160     0.110   0.025        0.0210          0.0055   \n",
       "3   3   M   0.595     0.475   0.150        0.9145          0.3755   \n",
       "4   4   I   0.555     0.425   0.130        0.7820          0.3695   \n",
       "\n",
       "   Whole weight.2  Shell weight  Rings  \n",
       "0          0.1465        0.2400     11  \n",
       "1          0.2765        0.3200     11  \n",
       "2          0.0030        0.0050      6  \n",
       "3          0.2055        0.2500     10  \n",
       "4          0.1600        0.1975      9  "
      ]
     },
     "execution_count": 4,
     "metadata": {},
     "output_type": "execute_result"
    }
   ],
   "source": [
    "# Show all properties on display\n",
    "pd.set_option('display.max_columns', None)\n",
    "\n",
    "train.head()"
   ]
  },
  {
   "cell_type": "code",
   "execution_count": 5,
   "id": "f44f6f6a",
   "metadata": {
    "execution": {
     "iopub.execute_input": "2024-04-04T16:44:20.099116Z",
     "iopub.status.busy": "2024-04-04T16:44:20.098463Z",
     "iopub.status.idle": "2024-04-04T16:44:20.113806Z",
     "shell.execute_reply": "2024-04-04T16:44:20.113030Z"
    },
    "papermill": {
     "duration": 0.041516,
     "end_time": "2024-04-04T16:44:20.115881",
     "exception": false,
     "start_time": "2024-04-04T16:44:20.074365",
     "status": "completed"
    },
    "tags": []
   },
   "outputs": [
    {
     "data": {
      "text/html": [
       "<div>\n",
       "<style scoped>\n",
       "    .dataframe tbody tr th:only-of-type {\n",
       "        vertical-align: middle;\n",
       "    }\n",
       "\n",
       "    .dataframe tbody tr th {\n",
       "        vertical-align: top;\n",
       "    }\n",
       "\n",
       "    .dataframe thead th {\n",
       "        text-align: right;\n",
       "    }\n",
       "</style>\n",
       "<table border=\"1\" class=\"dataframe\">\n",
       "  <thead>\n",
       "    <tr style=\"text-align: right;\">\n",
       "      <th></th>\n",
       "      <th>id</th>\n",
       "      <th>Sex</th>\n",
       "      <th>Length</th>\n",
       "      <th>Diameter</th>\n",
       "      <th>Height</th>\n",
       "      <th>Whole weight</th>\n",
       "      <th>Whole weight.1</th>\n",
       "      <th>Whole weight.2</th>\n",
       "      <th>Shell weight</th>\n",
       "    </tr>\n",
       "  </thead>\n",
       "  <tbody>\n",
       "    <tr>\n",
       "      <th>0</th>\n",
       "      <td>90615</td>\n",
       "      <td>M</td>\n",
       "      <td>0.645</td>\n",
       "      <td>0.475</td>\n",
       "      <td>0.155</td>\n",
       "      <td>1.2380</td>\n",
       "      <td>0.6185</td>\n",
       "      <td>0.3125</td>\n",
       "      <td>0.3005</td>\n",
       "    </tr>\n",
       "    <tr>\n",
       "      <th>1</th>\n",
       "      <td>90616</td>\n",
       "      <td>M</td>\n",
       "      <td>0.580</td>\n",
       "      <td>0.460</td>\n",
       "      <td>0.160</td>\n",
       "      <td>0.9830</td>\n",
       "      <td>0.4785</td>\n",
       "      <td>0.2195</td>\n",
       "      <td>0.2750</td>\n",
       "    </tr>\n",
       "    <tr>\n",
       "      <th>2</th>\n",
       "      <td>90617</td>\n",
       "      <td>M</td>\n",
       "      <td>0.560</td>\n",
       "      <td>0.420</td>\n",
       "      <td>0.140</td>\n",
       "      <td>0.8395</td>\n",
       "      <td>0.3525</td>\n",
       "      <td>0.1845</td>\n",
       "      <td>0.2405</td>\n",
       "    </tr>\n",
       "    <tr>\n",
       "      <th>3</th>\n",
       "      <td>90618</td>\n",
       "      <td>M</td>\n",
       "      <td>0.570</td>\n",
       "      <td>0.490</td>\n",
       "      <td>0.145</td>\n",
       "      <td>0.8740</td>\n",
       "      <td>0.3525</td>\n",
       "      <td>0.1865</td>\n",
       "      <td>0.2350</td>\n",
       "    </tr>\n",
       "    <tr>\n",
       "      <th>4</th>\n",
       "      <td>90619</td>\n",
       "      <td>I</td>\n",
       "      <td>0.415</td>\n",
       "      <td>0.325</td>\n",
       "      <td>0.110</td>\n",
       "      <td>0.3580</td>\n",
       "      <td>0.1575</td>\n",
       "      <td>0.0670</td>\n",
       "      <td>0.1050</td>\n",
       "    </tr>\n",
       "  </tbody>\n",
       "</table>\n",
       "</div>"
      ],
      "text/plain": [
       "      id Sex  Length  Diameter  Height  Whole weight  Whole weight.1  \\\n",
       "0  90615   M   0.645     0.475   0.155        1.2380          0.6185   \n",
       "1  90616   M   0.580     0.460   0.160        0.9830          0.4785   \n",
       "2  90617   M   0.560     0.420   0.140        0.8395          0.3525   \n",
       "3  90618   M   0.570     0.490   0.145        0.8740          0.3525   \n",
       "4  90619   I   0.415     0.325   0.110        0.3580          0.1575   \n",
       "\n",
       "   Whole weight.2  Shell weight  \n",
       "0          0.3125        0.3005  \n",
       "1          0.2195        0.2750  \n",
       "2          0.1845        0.2405  \n",
       "3          0.1865        0.2350  \n",
       "4          0.0670        0.1050  "
      ]
     },
     "execution_count": 5,
     "metadata": {},
     "output_type": "execute_result"
    }
   ],
   "source": [
    "test.head()"
   ]
  },
  {
   "cell_type": "markdown",
   "id": "c947f424",
   "metadata": {
    "papermill": {
     "duration": 0.02382,
     "end_time": "2024-04-04T16:44:20.162336",
     "exception": false,
     "start_time": "2024-04-04T16:44:20.138516",
     "status": "completed"
    },
    "tags": []
   },
   "source": [
    "### Target feature is 'Rings'"
   ]
  },
  {
   "cell_type": "markdown",
   "id": "a77cd2df",
   "metadata": {
    "papermill": {
     "duration": 0.02289,
     "end_time": "2024-04-04T16:44:20.208123",
     "exception": false,
     "start_time": "2024-04-04T16:44:20.185233",
     "status": "completed"
    },
    "tags": []
   },
   "source": [
    "<a id='3.1'></a>\n",
    "# <span style=\"color: #3EB489; border-bottom: 6px solid  #20603D; background-color: #fadb8c;\">🍤 Compare original train and competition train</span>"
   ]
  },
  {
   "cell_type": "code",
   "execution_count": 6,
   "id": "e2b31739",
   "metadata": {
    "execution": {
     "iopub.execute_input": "2024-04-04T16:44:20.256528Z",
     "iopub.status.busy": "2024-04-04T16:44:20.256105Z",
     "iopub.status.idle": "2024-04-04T16:44:20.263549Z",
     "shell.execute_reply": "2024-04-04T16:44:20.262442Z"
    },
    "papermill": {
     "duration": 0.03388,
     "end_time": "2024-04-04T16:44:20.265606",
     "exception": false,
     "start_time": "2024-04-04T16:44:20.231726",
     "status": "completed"
    },
    "tags": []
   },
   "outputs": [
    {
     "name": "stdout",
     "output_type": "stream",
     "text": [
      "(4177, 9)\n"
     ]
    },
    {
     "data": {
      "text/plain": [
       "[0, 1, 2, 3, 4, 5, 6, 7, 8]"
      ]
     },
     "execution_count": 6,
     "metadata": {},
     "output_type": "execute_result"
    }
   ],
   "source": [
    "print(original_train.shape)\n",
    "original_train.columns.tolist()"
   ]
  },
  {
   "cell_type": "markdown",
   "id": "ea2820aa",
   "metadata": {
    "papermill": {
     "duration": 0.082302,
     "end_time": "2024-04-04T16:44:20.371960",
     "exception": false,
     "start_time": "2024-04-04T16:44:20.289658",
     "status": "completed"
    },
    "tags": []
   },
   "source": [
    "### In original data there is no columns in file .data"
   ]
  },
  {
   "cell_type": "code",
   "execution_count": 7,
   "id": "5bc0dce2",
   "metadata": {
    "execution": {
     "iopub.execute_input": "2024-04-04T16:44:20.421570Z",
     "iopub.status.busy": "2024-04-04T16:44:20.420905Z",
     "iopub.status.idle": "2024-04-04T16:44:20.483349Z",
     "shell.execute_reply": "2024-04-04T16:44:20.481883Z"
    },
    "papermill": {
     "duration": 0.089855,
     "end_time": "2024-04-04T16:44:20.485672",
     "exception": false,
     "start_time": "2024-04-04T16:44:20.395817",
     "status": "completed"
    },
    "tags": []
   },
   "outputs": [
    {
     "data": {
      "text/html": [
       "<div>\n",
       "<style scoped>\n",
       "    .dataframe tbody tr th:only-of-type {\n",
       "        vertical-align: middle;\n",
       "    }\n",
       "\n",
       "    .dataframe tbody tr th {\n",
       "        vertical-align: top;\n",
       "    }\n",
       "\n",
       "    .dataframe thead th {\n",
       "        text-align: right;\n",
       "    }\n",
       "</style>\n",
       "<table border=\"1\" class=\"dataframe\">\n",
       "  <thead>\n",
       "    <tr style=\"text-align: right;\">\n",
       "      <th></th>\n",
       "      <th>Sex</th>\n",
       "      <th>Length</th>\n",
       "      <th>Diameter</th>\n",
       "      <th>Height</th>\n",
       "      <th>Whole weight</th>\n",
       "      <th>Whole weight.1</th>\n",
       "      <th>Whole weight.2</th>\n",
       "      <th>Shell weight</th>\n",
       "      <th>Rings</th>\n",
       "    </tr>\n",
       "  </thead>\n",
       "  <tbody>\n",
       "    <tr>\n",
       "      <th>4172</th>\n",
       "      <td>F</td>\n",
       "      <td>0.565</td>\n",
       "      <td>0.450</td>\n",
       "      <td>0.165</td>\n",
       "      <td>0.8870</td>\n",
       "      <td>0.3700</td>\n",
       "      <td>0.2390</td>\n",
       "      <td>0.2490</td>\n",
       "      <td>11</td>\n",
       "    </tr>\n",
       "    <tr>\n",
       "      <th>4173</th>\n",
       "      <td>M</td>\n",
       "      <td>0.590</td>\n",
       "      <td>0.440</td>\n",
       "      <td>0.135</td>\n",
       "      <td>0.9660</td>\n",
       "      <td>0.4390</td>\n",
       "      <td>0.2145</td>\n",
       "      <td>0.2605</td>\n",
       "      <td>10</td>\n",
       "    </tr>\n",
       "    <tr>\n",
       "      <th>4174</th>\n",
       "      <td>M</td>\n",
       "      <td>0.600</td>\n",
       "      <td>0.475</td>\n",
       "      <td>0.205</td>\n",
       "      <td>1.1760</td>\n",
       "      <td>0.5255</td>\n",
       "      <td>0.2875</td>\n",
       "      <td>0.3080</td>\n",
       "      <td>9</td>\n",
       "    </tr>\n",
       "    <tr>\n",
       "      <th>4175</th>\n",
       "      <td>F</td>\n",
       "      <td>0.625</td>\n",
       "      <td>0.485</td>\n",
       "      <td>0.150</td>\n",
       "      <td>1.0945</td>\n",
       "      <td>0.5310</td>\n",
       "      <td>0.2610</td>\n",
       "      <td>0.2960</td>\n",
       "      <td>10</td>\n",
       "    </tr>\n",
       "    <tr>\n",
       "      <th>4176</th>\n",
       "      <td>M</td>\n",
       "      <td>0.710</td>\n",
       "      <td>0.555</td>\n",
       "      <td>0.195</td>\n",
       "      <td>1.9485</td>\n",
       "      <td>0.9455</td>\n",
       "      <td>0.3765</td>\n",
       "      <td>0.4950</td>\n",
       "      <td>12</td>\n",
       "    </tr>\n",
       "  </tbody>\n",
       "</table>\n",
       "</div>"
      ],
      "text/plain": [
       "     Sex  Length  Diameter  Height  Whole weight  Whole weight.1  \\\n",
       "4172   F   0.565     0.450   0.165        0.8870          0.3700   \n",
       "4173   M   0.590     0.440   0.135        0.9660          0.4390   \n",
       "4174   M   0.600     0.475   0.205        1.1760          0.5255   \n",
       "4175   F   0.625     0.485   0.150        1.0945          0.5310   \n",
       "4176   M   0.710     0.555   0.195        1.9485          0.9455   \n",
       "\n",
       "      Whole weight.2  Shell weight  Rings  \n",
       "4172          0.2390        0.2490     11  \n",
       "4173          0.2145        0.2605     10  \n",
       "4174          0.2875        0.3080      9  \n",
       "4175          0.2610        0.2960     10  \n",
       "4176          0.3765        0.4950     12  "
      ]
     },
     "execution_count": 7,
     "metadata": {},
     "output_type": "execute_result"
    }
   ],
   "source": [
    "# Save original dataset into .csv\n",
    "original_train.columns = train.columns[1:]\n",
    "original_train.to_csv('🌊🐚⛵🍤 PS4 E4 original abalone dataset from UCI.csv', index=False)\n",
    "original_train.tail()"
   ]
  },
  {
   "cell_type": "code",
   "execution_count": 8,
   "id": "3fe21f45",
   "metadata": {
    "execution": {
     "iopub.execute_input": "2024-04-04T16:44:20.535470Z",
     "iopub.status.busy": "2024-04-04T16:44:20.535049Z",
     "iopub.status.idle": "2024-04-04T16:44:20.541606Z",
     "shell.execute_reply": "2024-04-04T16:44:20.540886Z"
    },
    "papermill": {
     "duration": 0.035479,
     "end_time": "2024-04-04T16:44:20.545111",
     "exception": false,
     "start_time": "2024-04-04T16:44:20.509632",
     "status": "completed"
    },
    "tags": []
   },
   "outputs": [
    {
     "name": "stdout",
     "output_type": "stream",
     "text": [
      "(90615, 10)\n"
     ]
    },
    {
     "data": {
      "text/plain": [
       "['id',\n",
       " 'Sex',\n",
       " 'Length',\n",
       " 'Diameter',\n",
       " 'Height',\n",
       " 'Whole weight',\n",
       " 'Whole weight.1',\n",
       " 'Whole weight.2',\n",
       " 'Shell weight',\n",
       " 'Rings']"
      ]
     },
     "execution_count": 8,
     "metadata": {},
     "output_type": "execute_result"
    }
   ],
   "source": [
    "print(train.shape)\n",
    "train.columns.tolist()"
   ]
  },
  {
   "cell_type": "markdown",
   "id": "963ef8cd",
   "metadata": {
    "papermill": {
     "duration": 0.024078,
     "end_time": "2024-04-04T16:44:20.593799",
     "exception": false,
     "start_time": "2024-04-04T16:44:20.569721",
     "status": "completed"
    },
    "tags": []
   },
   "source": [
    "<a id='3.2'></a>\n",
    "# <span style=\"color: #3EB489; border-bottom: 6px solid  #20603D; background-color: #fadb8c;\">🌊 Concatenate original train with competition train"
   ]
  },
  {
   "cell_type": "code",
   "execution_count": 9,
   "id": "c3eb8de8",
   "metadata": {
    "execution": {
     "iopub.execute_input": "2024-04-04T16:44:20.645491Z",
     "iopub.status.busy": "2024-04-04T16:44:20.645049Z",
     "iopub.status.idle": "2024-04-04T16:44:20.668274Z",
     "shell.execute_reply": "2024-04-04T16:44:20.666810Z"
    },
    "papermill": {
     "duration": 0.052577,
     "end_time": "2024-04-04T16:44:20.671217",
     "exception": false,
     "start_time": "2024-04-04T16:44:20.618640",
     "status": "completed"
    },
    "tags": []
   },
   "outputs": [],
   "source": [
    "submission_id = test.id\n",
    "\n",
    "train.drop(columns='id', axis=1, inplace=True)\n",
    "test.drop(columns='id', axis=1, inplace=True)"
   ]
  },
  {
   "cell_type": "code",
   "execution_count": 10,
   "id": "48c0fbfb",
   "metadata": {
    "execution": {
     "iopub.execute_input": "2024-04-04T16:44:20.724759Z",
     "iopub.status.busy": "2024-04-04T16:44:20.724354Z",
     "iopub.status.idle": "2024-04-04T16:44:20.736683Z",
     "shell.execute_reply": "2024-04-04T16:44:20.735598Z"
    },
    "papermill": {
     "duration": 0.0409,
     "end_time": "2024-04-04T16:44:20.738924",
     "exception": false,
     "start_time": "2024-04-04T16:44:20.698024",
     "status": "completed"
    },
    "tags": []
   },
   "outputs": [
    {
     "data": {
      "text/plain": [
       "(94792, 9)"
      ]
     },
     "execution_count": 10,
     "metadata": {},
     "output_type": "execute_result"
    }
   ],
   "source": [
    "train = pd.concat(objs=[train, original_train])\n",
    "train.shape"
   ]
  },
  {
   "cell_type": "markdown",
   "id": "a7592008",
   "metadata": {
    "papermill": {
     "duration": 0.023901,
     "end_time": "2024-04-04T16:44:20.787358",
     "exception": false,
     "start_time": "2024-04-04T16:44:20.763457",
     "status": "completed"
    },
    "tags": []
   },
   "source": [
    "<a id='3.3'></a>\n",
    "# <span style=\"color: #3EB489; border-bottom: 6px solid  #20603D; background-color: #fadb8c;\">🐚 Figure out how much duplicates in data"
   ]
  },
  {
   "cell_type": "code",
   "execution_count": 11,
   "id": "4c1d79fa",
   "metadata": {
    "execution": {
     "iopub.execute_input": "2024-04-04T16:44:20.838768Z",
     "iopub.status.busy": "2024-04-04T16:44:20.838377Z",
     "iopub.status.idle": "2024-04-04T16:44:20.903731Z",
     "shell.execute_reply": "2024-04-04T16:44:20.902362Z"
    },
    "papermill": {
     "duration": 0.093623,
     "end_time": "2024-04-04T16:44:20.905857",
     "exception": false,
     "start_time": "2024-04-04T16:44:20.812234",
     "status": "completed"
    },
    "tags": []
   },
   "outputs": [
    {
     "name": "stdout",
     "output_type": "stream",
     "text": [
      "0\n",
      "0\n"
     ]
    }
   ],
   "source": [
    "train_duplicates_number = train[train.duplicated()]\n",
    "test_duplicates_number = test[test.duplicated()]\n",
    "                             \n",
    "print(len(train_duplicates_number))\n",
    "print(len(test_duplicates_number))"
   ]
  },
  {
   "cell_type": "markdown",
   "id": "ae4dc1e8",
   "metadata": {
    "papermill": {
     "duration": 0.024038,
     "end_time": "2024-04-04T16:44:20.955189",
     "exception": false,
     "start_time": "2024-04-04T16:44:20.931151",
     "status": "completed"
    },
    "tags": []
   },
   "source": [
    "#### There are no any duplicats in data but if they would be presented use code below"
   ]
  },
  {
   "cell_type": "markdown",
   "id": "3527adf1",
   "metadata": {
    "papermill": {
     "duration": 0.023966,
     "end_time": "2024-04-04T16:44:21.003682",
     "exception": false,
     "start_time": "2024-04-04T16:44:20.979716",
     "status": "completed"
    },
    "tags": []
   },
   "source": [
    "<a id='3.4'></a>\n",
    "# <span style=\"color: #3EB489; border-bottom: 6px solid  #20603D; background-color: #fadb8c;\">⛵ Remove duplicates from data"
   ]
  },
  {
   "cell_type": "code",
   "execution_count": 12,
   "id": "ff61f636",
   "metadata": {
    "execution": {
     "iopub.execute_input": "2024-04-04T16:44:21.055149Z",
     "iopub.status.busy": "2024-04-04T16:44:21.054716Z",
     "iopub.status.idle": "2024-04-04T16:44:21.129069Z",
     "shell.execute_reply": "2024-04-04T16:44:21.127476Z"
    },
    "papermill": {
     "duration": 0.102986,
     "end_time": "2024-04-04T16:44:21.131603",
     "exception": false,
     "start_time": "2024-04-04T16:44:21.028617",
     "status": "completed"
    },
    "tags": []
   },
   "outputs": [
    {
     "name": "stdout",
     "output_type": "stream",
     "text": [
      "0\n"
     ]
    }
   ],
   "source": [
    "train = train.drop_duplicates()\n",
    "\n",
    "# Check whether all duplicates were removed\n",
    "train_duplicates = train[train.duplicated()]\n",
    "print(len(train_duplicates))"
   ]
  },
  {
   "cell_type": "markdown",
   "id": "466e5b75",
   "metadata": {
    "papermill": {
     "duration": 0.025788,
     "end_time": "2024-04-04T16:44:21.184787",
     "exception": false,
     "start_time": "2024-04-04T16:44:21.158999",
     "status": "completed"
    },
    "tags": []
   },
   "source": [
    "<a id='4'></a>\n",
    "# <span style=\"color: #3EB489; border-bottom: 6px solid  #20603D; background-color: #fadb8c;\">🐟 Shapes of train and test data</span>"
   ]
  },
  {
   "cell_type": "code",
   "execution_count": 13,
   "id": "c182ced5",
   "metadata": {
    "execution": {
     "iopub.execute_input": "2024-04-04T16:44:21.236831Z",
     "iopub.status.busy": "2024-04-04T16:44:21.235968Z",
     "iopub.status.idle": "2024-04-04T16:44:21.243567Z",
     "shell.execute_reply": "2024-04-04T16:44:21.242256Z"
    },
    "papermill": {
     "duration": 0.037003,
     "end_time": "2024-04-04T16:44:21.246964",
     "exception": false,
     "start_time": "2024-04-04T16:44:21.209961",
     "status": "completed"
    },
    "tags": []
   },
   "outputs": [
    {
     "name": "stdout",
     "output_type": "stream",
     "text": [
      "Train data: (94792, 9)\n",
      "Test data: (60411, 8)\n",
      "\n",
      "Train data consists of 61.08% of all observations\n",
      "Test data consists of 38.92% of all observations\n"
     ]
    }
   ],
   "source": [
    "print(f'Train data: {train.shape}')\n",
    "print(f'Test data: {test.shape}\\n')\n",
    "\n",
    "train_data_percentage = np.round(train.shape[0] / (train.shape[0] + test.shape[0]), 4)\n",
    "print(f'Train data consists of {train_data_percentage * 100}% of all observations')\n",
    "print(f'Test data consists of {(1 - train_data_percentage) * 100}% of all observations')"
   ]
  },
  {
   "cell_type": "markdown",
   "id": "100749b7",
   "metadata": {
    "papermill": {
     "duration": 0.031364,
     "end_time": "2024-04-04T16:44:21.310582",
     "exception": false,
     "start_time": "2024-04-04T16:44:21.279218",
     "status": "completed"
    },
    "tags": []
   },
   "source": [
    "![](https://www.altnaturals.com/cdn/shop/products/All-AbaloneSizes-Small_1500x411.jpg?v=1637679377)"
   ]
  },
  {
   "cell_type": "markdown",
   "id": "ffa309cf",
   "metadata": {
    "papermill": {
     "duration": 0.024687,
     "end_time": "2024-04-04T16:44:21.364714",
     "exception": false,
     "start_time": "2024-04-04T16:44:21.340027",
     "status": "completed"
    },
    "tags": []
   },
   "source": [
    "<a id='5'></a>\n",
    "# <span style=\"color: #3EB489; border-bottom: 6px solid  #20603D; background-color: #fadb8c;\">🐠 Display descriptive statistics of train data</span>"
   ]
  },
  {
   "cell_type": "code",
   "execution_count": 14,
   "id": "661579b1",
   "metadata": {
    "execution": {
     "iopub.execute_input": "2024-04-04T16:44:21.415893Z",
     "iopub.status.busy": "2024-04-04T16:44:21.415516Z",
     "iopub.status.idle": "2024-04-04T16:44:21.483932Z",
     "shell.execute_reply": "2024-04-04T16:44:21.482881Z"
    },
    "papermill": {
     "duration": 0.096758,
     "end_time": "2024-04-04T16:44:21.486396",
     "exception": false,
     "start_time": "2024-04-04T16:44:21.389638",
     "status": "completed"
    },
    "tags": []
   },
   "outputs": [
    {
     "data": {
      "text/html": [
       "<div>\n",
       "<style scoped>\n",
       "    .dataframe tbody tr th:only-of-type {\n",
       "        vertical-align: middle;\n",
       "    }\n",
       "\n",
       "    .dataframe tbody tr th {\n",
       "        vertical-align: top;\n",
       "    }\n",
       "\n",
       "    .dataframe thead th {\n",
       "        text-align: right;\n",
       "    }\n",
       "</style>\n",
       "<table border=\"1\" class=\"dataframe\">\n",
       "  <thead>\n",
       "    <tr style=\"text-align: right;\">\n",
       "      <th></th>\n",
       "      <th>count</th>\n",
       "      <th>mean</th>\n",
       "      <th>std</th>\n",
       "      <th>min</th>\n",
       "      <th>25%</th>\n",
       "      <th>50%</th>\n",
       "      <th>75%</th>\n",
       "      <th>max</th>\n",
       "    </tr>\n",
       "  </thead>\n",
       "  <tbody>\n",
       "    <tr>\n",
       "      <th>Length</th>\n",
       "      <td>94792.0</td>\n",
       "      <td>0.517402</td>\n",
       "      <td>0.118308</td>\n",
       "      <td>0.0750</td>\n",
       "      <td>0.4450</td>\n",
       "      <td>0.5450</td>\n",
       "      <td>0.6000</td>\n",
       "      <td>0.8150</td>\n",
       "    </tr>\n",
       "    <tr>\n",
       "      <th>Diameter</th>\n",
       "      <td>94792.0</td>\n",
       "      <td>0.401952</td>\n",
       "      <td>0.098088</td>\n",
       "      <td>0.0550</td>\n",
       "      <td>0.3450</td>\n",
       "      <td>0.4250</td>\n",
       "      <td>0.4700</td>\n",
       "      <td>0.6500</td>\n",
       "    </tr>\n",
       "    <tr>\n",
       "      <th>Height</th>\n",
       "      <td>94792.0</td>\n",
       "      <td>0.135643</td>\n",
       "      <td>0.038193</td>\n",
       "      <td>0.0000</td>\n",
       "      <td>0.1100</td>\n",
       "      <td>0.1400</td>\n",
       "      <td>0.1600</td>\n",
       "      <td>1.1300</td>\n",
       "    </tr>\n",
       "    <tr>\n",
       "      <th>Whole weight</th>\n",
       "      <td>94792.0</td>\n",
       "      <td>0.790785</td>\n",
       "      <td>0.459231</td>\n",
       "      <td>0.0020</td>\n",
       "      <td>0.4195</td>\n",
       "      <td>0.7995</td>\n",
       "      <td>1.0725</td>\n",
       "      <td>2.8255</td>\n",
       "    </tr>\n",
       "    <tr>\n",
       "      <th>Whole weight.1</th>\n",
       "      <td>94792.0</td>\n",
       "      <td>0.341597</td>\n",
       "      <td>0.205267</td>\n",
       "      <td>0.0010</td>\n",
       "      <td>0.1775</td>\n",
       "      <td>0.3300</td>\n",
       "      <td>0.4645</td>\n",
       "      <td>1.4880</td>\n",
       "    </tr>\n",
       "    <tr>\n",
       "      <th>Whole weight.2</th>\n",
       "      <td>94792.0</td>\n",
       "      <td>0.169914</td>\n",
       "      <td>0.101334</td>\n",
       "      <td>0.0005</td>\n",
       "      <td>0.0865</td>\n",
       "      <td>0.1660</td>\n",
       "      <td>0.2330</td>\n",
       "      <td>0.7600</td>\n",
       "    </tr>\n",
       "    <tr>\n",
       "      <th>Shell weight</th>\n",
       "      <td>94792.0</td>\n",
       "      <td>0.226468</td>\n",
       "      <td>0.130639</td>\n",
       "      <td>0.0015</td>\n",
       "      <td>0.1200</td>\n",
       "      <td>0.2250</td>\n",
       "      <td>0.3050</td>\n",
       "      <td>1.0050</td>\n",
       "    </tr>\n",
       "    <tr>\n",
       "      <th>Rings</th>\n",
       "      <td>94792.0</td>\n",
       "      <td>9.707233</td>\n",
       "      <td>3.178704</td>\n",
       "      <td>1.0000</td>\n",
       "      <td>8.0000</td>\n",
       "      <td>9.0000</td>\n",
       "      <td>11.0000</td>\n",
       "      <td>29.0000</td>\n",
       "    </tr>\n",
       "  </tbody>\n",
       "</table>\n",
       "</div>"
      ],
      "text/plain": [
       "                  count      mean       std     min     25%     50%      75%  \\\n",
       "Length          94792.0  0.517402  0.118308  0.0750  0.4450  0.5450   0.6000   \n",
       "Diameter        94792.0  0.401952  0.098088  0.0550  0.3450  0.4250   0.4700   \n",
       "Height          94792.0  0.135643  0.038193  0.0000  0.1100  0.1400   0.1600   \n",
       "Whole weight    94792.0  0.790785  0.459231  0.0020  0.4195  0.7995   1.0725   \n",
       "Whole weight.1  94792.0  0.341597  0.205267  0.0010  0.1775  0.3300   0.4645   \n",
       "Whole weight.2  94792.0  0.169914  0.101334  0.0005  0.0865  0.1660   0.2330   \n",
       "Shell weight    94792.0  0.226468  0.130639  0.0015  0.1200  0.2250   0.3050   \n",
       "Rings           94792.0  9.707233  3.178704  1.0000  8.0000  9.0000  11.0000   \n",
       "\n",
       "                    max  \n",
       "Length           0.8150  \n",
       "Diameter         0.6500  \n",
       "Height           1.1300  \n",
       "Whole weight     2.8255  \n",
       "Whole weight.1   1.4880  \n",
       "Whole weight.2   0.7600  \n",
       "Shell weight     1.0050  \n",
       "Rings           29.0000  "
      ]
     },
     "execution_count": 14,
     "metadata": {},
     "output_type": "execute_result"
    }
   ],
   "source": [
    "train.describe().T"
   ]
  },
  {
   "cell_type": "markdown",
   "id": "46c9732d",
   "metadata": {
    "papermill": {
     "duration": 0.025481,
     "end_time": "2024-04-04T16:44:21.537931",
     "exception": false,
     "start_time": "2024-04-04T16:44:21.512450",
     "status": "completed"
    },
    "tags": []
   },
   "source": [
    "<a id='6'></a>\n",
    "# <span style=\"color: #3EB489; border-bottom: 6px solid  #20603D; background-color: #fadb8c;\">🐡 Check the number of gaps for each feature</span>"
   ]
  },
  {
   "cell_type": "code",
   "execution_count": 15,
   "id": "e37d666e",
   "metadata": {
    "execution": {
     "iopub.execute_input": "2024-04-04T16:44:21.595282Z",
     "iopub.status.busy": "2024-04-04T16:44:21.594903Z",
     "iopub.status.idle": "2024-04-04T16:44:21.623660Z",
     "shell.execute_reply": "2024-04-04T16:44:21.622491Z"
    },
    "papermill": {
     "duration": 0.063116,
     "end_time": "2024-04-04T16:44:21.626011",
     "exception": false,
     "start_time": "2024-04-04T16:44:21.562895",
     "status": "completed"
    },
    "tags": []
   },
   "outputs": [
    {
     "name": "stdout",
     "output_type": "stream",
     "text": [
      "TRAIN data\n",
      "\n",
      "Sex               0\n",
      "Length            0\n",
      "Diameter          0\n",
      "Height            0\n",
      "Whole weight      0\n",
      "Whole weight.1    0\n",
      "Whole weight.2    0\n",
      "Shell weight      0\n",
      "Rings             0\n",
      "dtype: int64\n",
      "\n",
      "\n",
      "\n",
      "TEST data\n",
      "\n",
      "Sex               0\n",
      "Length            0\n",
      "Diameter          0\n",
      "Height            0\n",
      "Whole weight      0\n",
      "Whole weight.1    0\n",
      "Whole weight.2    0\n",
      "Shell weight      0\n",
      "dtype: int64\n"
     ]
    }
   ],
   "source": [
    "print('TRAIN data\\n')\n",
    "print(f'{train.isna().sum()}\\n\\n\\n')\n",
    "\n",
    "print('TEST data\\n')\n",
    "print(test.isna().sum())"
   ]
  },
  {
   "cell_type": "markdown",
   "id": "69b4b5a5",
   "metadata": {
    "papermill": {
     "duration": 0.027862,
     "end_time": "2024-04-04T16:44:21.687920",
     "exception": false,
     "start_time": "2024-04-04T16:44:21.660058",
     "status": "completed"
    },
    "tags": []
   },
   "source": [
    "#### There is no any gaps in the data"
   ]
  },
  {
   "cell_type": "markdown",
   "id": "64d099a9",
   "metadata": {
    "papermill": {
     "duration": 0.024994,
     "end_time": "2024-04-04T16:44:21.739197",
     "exception": false,
     "start_time": "2024-04-04T16:44:21.714203",
     "status": "completed"
    },
    "tags": []
   },
   "source": [
    "![](https://www.asnailsodyssey.com/views/images/119/Geiger&Owen2019.jpg)"
   ]
  },
  {
   "cell_type": "markdown",
   "id": "569c6312",
   "metadata": {
    "papermill": {
     "duration": 0.025073,
     "end_time": "2024-04-04T16:44:21.788979",
     "exception": false,
     "start_time": "2024-04-04T16:44:21.763906",
     "status": "completed"
    },
    "tags": []
   },
   "source": [
    "<a id='7'></a>\n",
    "# <span style=\"color: #3EB489; border-bottom: 6px solid  #20603D; background-color: #fadb8c;\">🦈 Data types of training set</span>"
   ]
  },
  {
   "cell_type": "code",
   "execution_count": 16,
   "id": "c615443c",
   "metadata": {
    "execution": {
     "iopub.execute_input": "2024-04-04T16:44:21.843172Z",
     "iopub.status.busy": "2024-04-04T16:44:21.842561Z",
     "iopub.status.idle": "2024-04-04T16:44:21.869602Z",
     "shell.execute_reply": "2024-04-04T16:44:21.868322Z"
    },
    "papermill": {
     "duration": 0.057239,
     "end_time": "2024-04-04T16:44:21.871841",
     "exception": false,
     "start_time": "2024-04-04T16:44:21.814602",
     "status": "completed"
    },
    "tags": []
   },
   "outputs": [
    {
     "name": "stdout",
     "output_type": "stream",
     "text": [
      "<class 'pandas.core.frame.DataFrame'>\n",
      "Index: 94792 entries, 0 to 4176\n",
      "Data columns (total 9 columns):\n",
      " #   Column          Non-Null Count  Dtype  \n",
      "---  ------          --------------  -----  \n",
      " 0   Sex             94792 non-null  object \n",
      " 1   Length          94792 non-null  float64\n",
      " 2   Diameter        94792 non-null  float64\n",
      " 3   Height          94792 non-null  float64\n",
      " 4   Whole weight    94792 non-null  float64\n",
      " 5   Whole weight.1  94792 non-null  float64\n",
      " 6   Whole weight.2  94792 non-null  float64\n",
      " 7   Shell weight    94792 non-null  float64\n",
      " 8   Rings           94792 non-null  int64  \n",
      "dtypes: float64(7), int64(1), object(1)\n",
      "memory usage: 7.2+ MB\n"
     ]
    }
   ],
   "source": [
    "train.info()"
   ]
  },
  {
   "cell_type": "markdown",
   "id": "0db21b02",
   "metadata": {
    "papermill": {
     "duration": 0.025024,
     "end_time": "2024-04-04T16:44:21.922101",
     "exception": false,
     "start_time": "2024-04-04T16:44:21.897077",
     "status": "completed"
    },
    "tags": []
   },
   "source": [
    "#### Sex feature is object, so we have to convert in into numeric"
   ]
  },
  {
   "cell_type": "markdown",
   "id": "db8bfaa8",
   "metadata": {
    "papermill": {
     "duration": 0.025587,
     "end_time": "2024-04-04T16:44:21.972160",
     "exception": false,
     "start_time": "2024-04-04T16:44:21.946573",
     "status": "completed"
    },
    "tags": []
   },
   "source": [
    "<a id=\"7.2\"></a>\n",
    "# <span style=\"color: #3EB489; border-bottom: 6px solid  #20603D; background-color: #fadb8c;\">🦭 Remove duplicates from train data</span>"
   ]
  },
  {
   "cell_type": "code",
   "execution_count": 17,
   "id": "0d963cb4",
   "metadata": {
    "execution": {
     "iopub.execute_input": "2024-04-04T16:44:22.026022Z",
     "iopub.status.busy": "2024-04-04T16:44:22.025354Z",
     "iopub.status.idle": "2024-04-04T16:44:22.110921Z",
     "shell.execute_reply": "2024-04-04T16:44:22.109509Z"
    },
    "papermill": {
     "duration": 0.115555,
     "end_time": "2024-04-04T16:44:22.113423",
     "exception": false,
     "start_time": "2024-04-04T16:44:21.997868",
     "status": "completed"
    },
    "tags": []
   },
   "outputs": [
    {
     "data": {
      "text/plain": [
       "0"
      ]
     },
     "execution_count": 17,
     "metadata": {},
     "output_type": "execute_result"
    }
   ],
   "source": [
    "train = train.drop_duplicates()\n",
    "\n",
    "# Check whether all duplicates were removed\n",
    "duplicates = train[train.duplicated()]\n",
    "len(duplicates)"
   ]
  },
  {
   "cell_type": "markdown",
   "id": "dc304516",
   "metadata": {
    "papermill": {
     "duration": 0.02714,
     "end_time": "2024-04-04T16:44:22.166613",
     "exception": false,
     "start_time": "2024-04-04T16:44:22.139473",
     "status": "completed"
    },
    "tags": []
   },
   "source": [
    "<a id=\"7.3\"></a>\n",
    "# <span style=\"color: #3EB489; border-bottom: 6px solid  #20603D; background-color: #fadb8c;\">🍢 One-hot encoding"
   ]
  },
  {
   "cell_type": "code",
   "execution_count": 18,
   "id": "eb827c41",
   "metadata": {
    "execution": {
     "iopub.execute_input": "2024-04-04T16:44:22.219259Z",
     "iopub.status.busy": "2024-04-04T16:44:22.218877Z",
     "iopub.status.idle": "2024-04-04T16:44:22.256249Z",
     "shell.execute_reply": "2024-04-04T16:44:22.255355Z"
    },
    "papermill": {
     "duration": 0.066925,
     "end_time": "2024-04-04T16:44:22.258956",
     "exception": false,
     "start_time": "2024-04-04T16:44:22.192031",
     "status": "completed"
    },
    "tags": []
   },
   "outputs": [],
   "source": [
    "X = pd.get_dummies(train, drop_first=True, dtype=int)\n",
    "test = pd.get_dummies(test, drop_first=True, dtype=int)"
   ]
  },
  {
   "cell_type": "markdown",
   "id": "30950c4a",
   "metadata": {
    "papermill": {
     "duration": 0.025336,
     "end_time": "2024-04-04T16:44:22.310083",
     "exception": false,
     "start_time": "2024-04-04T16:44:22.284747",
     "status": "completed"
    },
    "tags": []
   },
   "source": [
    "<a id='8'></a>\n",
    "# <span style=\"color: #3EB489; border-bottom: 6px solid  #20603D; background-color: #fadb8c;\">🦞 Display histograms of distribution</span>"
   ]
  },
  {
   "cell_type": "code",
   "execution_count": 19,
   "id": "9e53aa20",
   "metadata": {
    "execution": {
     "iopub.execute_input": "2024-04-04T16:44:22.362845Z",
     "iopub.status.busy": "2024-04-04T16:44:22.362130Z",
     "iopub.status.idle": "2024-04-04T16:44:25.992170Z",
     "shell.execute_reply": "2024-04-04T16:44:25.991363Z"
    },
    "papermill": {
     "duration": 3.660208,
     "end_time": "2024-04-04T16:44:25.995894",
     "exception": false,
     "start_time": "2024-04-04T16:44:22.335686",
     "status": "completed"
    },
    "tags": []
   },
   "outputs": [
    {
     "data": {
      "image/png": "[encoded data removed]",
      "text/plain": [
       "<Figure size 2000x1600 with 12 Axes>"
      ]
     },
     "metadata": {},
     "output_type": "display_data"
    }
   ],
   "source": [
    "sns.set(rc={'figure.figsize': (20, 16)})\n",
    "X.hist(color='orange');"
   ]
  },
  {
   "cell_type": "markdown",
   "id": "6f97ddbc",
   "metadata": {
    "papermill": {
     "duration": 0.028266,
     "end_time": "2024-04-04T16:44:26.053208",
     "exception": false,
     "start_time": "2024-04-04T16:44:26.024942",
     "status": "completed"
    },
    "tags": []
   },
   "source": [
    "<a id='9'></a>\n",
    "# <span style=\"color: #3EB489; border-bottom: 6px solid  #20603D; background-color: #fadb8c;\">🦐 Let's count target of train data</span>"
   ]
  },
  {
   "cell_type": "code",
   "execution_count": 20,
   "id": "130ee9ad",
   "metadata": {
    "execution": {
     "iopub.execute_input": "2024-04-04T16:44:26.112974Z",
     "iopub.status.busy": "2024-04-04T16:44:26.112033Z",
     "iopub.status.idle": "2024-04-04T16:44:26.123986Z",
     "shell.execute_reply": "2024-04-04T16:44:26.122806Z"
    },
    "papermill": {
     "duration": 0.043598,
     "end_time": "2024-04-04T16:44:26.126144",
     "exception": false,
     "start_time": "2024-04-04T16:44:26.082546",
     "status": "completed"
    },
    "tags": []
   },
   "outputs": [
    {
     "name": "stdout",
     "output_type": "stream",
     "text": [
      "Rings\n",
      "9     18154\n",
      "8     15067\n",
      "10    13098\n",
      "7      9399\n",
      "11     8894\n",
      "6      5670\n",
      "12     4986\n",
      "13     4277\n",
      "5      2977\n",
      "14     2633\n",
      "15     2175\n",
      "16     1506\n",
      "4      1459\n",
      "17     1233\n",
      "18      890\n",
      "19      671\n",
      "20      533\n",
      "3       401\n",
      "21      269\n",
      "23      189\n",
      "22      114\n",
      "27       43\n",
      "24       31\n",
      "2        30\n",
      "1        26\n",
      "29       25\n",
      "25       23\n",
      "26       19\n",
      "Name: count, dtype: int64\n",
      "\n",
      "\n",
      "Rings\n",
      "9     0.191514\n",
      "8     0.158948\n",
      "10    0.138176\n",
      "7     0.099154\n",
      "11    0.093826\n",
      "6     0.059815\n",
      "12    0.052599\n",
      "13    0.045120\n",
      "5     0.031406\n",
      "14    0.027777\n",
      "15    0.022945\n",
      "16    0.015887\n",
      "4     0.015392\n",
      "17    0.013007\n",
      "18    0.009389\n",
      "19    0.007079\n",
      "20    0.005623\n",
      "3     0.004230\n",
      "21    0.002838\n",
      "23    0.001994\n",
      "22    0.001203\n",
      "27    0.000454\n",
      "24    0.000327\n",
      "2     0.000316\n",
      "1     0.000274\n",
      "29    0.000264\n",
      "25    0.000243\n",
      "26    0.000200\n",
      "Name: count, dtype: float64\n"
     ]
    }
   ],
   "source": [
    "print(f'{train.Rings.value_counts()}\\n\\n')\n",
    "print(train.Rings.value_counts() / train.shape[0])"
   ]
  },
  {
   "cell_type": "markdown",
   "id": "b0739fcb",
   "metadata": {
    "papermill": {
     "duration": 0.029136,
     "end_time": "2024-04-04T16:44:26.185403",
     "exception": false,
     "start_time": "2024-04-04T16:44:26.156267",
     "status": "completed"
    },
    "tags": []
   },
   "source": [
    "<a id='10'></a>\n",
    "# <span style=\"color: #3EB489; border-bottom: 6px solid  #20603D; background-color: #fadb8c;\">🦑 Transorm the data with MinMax</span>"
   ]
  },
  {
   "cell_type": "code",
   "execution_count": 21,
   "id": "f315beb0",
   "metadata": {
    "execution": {
     "iopub.execute_input": "2024-04-04T16:44:26.244143Z",
     "iopub.status.busy": "2024-04-04T16:44:26.243140Z",
     "iopub.status.idle": "2024-04-04T16:44:26.252409Z",
     "shell.execute_reply": "2024-04-04T16:44:26.251607Z"
    },
    "papermill": {
     "duration": 0.040931,
     "end_time": "2024-04-04T16:44:26.254537",
     "exception": false,
     "start_time": "2024-04-04T16:44:26.213606",
     "status": "completed"
    },
    "tags": []
   },
   "outputs": [],
   "source": [
    "# Split the train data into X and y\n",
    "X = X.drop(['Rings'], axis=1)\n",
    "y = train.Rings\n",
    "\n",
    "# for column in X.columns.tolist():\n",
    "#     X[column] = X[column].apply(lambda x: (x - X[column].min()) / (X[column].max() - X[column].min()))\n",
    "\n",
    "# # Transform test data\n",
    "# for column in test.columns.tolist():\n",
    "#     test[column] = test[column].apply(lambda x: (x - test[column].min()) / (test[column].max() - test[column].min()))\n",
    "    \n",
    "# X.hist(color='LightSeaGreen');"
   ]
  },
  {
   "cell_type": "markdown",
   "id": "6cc3eb11",
   "metadata": {
    "papermill": {
     "duration": 0.028021,
     "end_time": "2024-04-04T16:44:26.311047",
     "exception": false,
     "start_time": "2024-04-04T16:44:26.283026",
     "status": "completed"
    },
    "tags": []
   },
   "source": [
    "![](https://d3h1lg3ksw6i6b.cloudfront.net/media/image/2020/09/24/a40d8dea2d924e0aa7cdb644beffe934_abalone+dish.jpg)"
   ]
  },
  {
   "cell_type": "markdown",
   "id": "64213d46",
   "metadata": {
    "papermill": {
     "duration": 0.028067,
     "end_time": "2024-04-04T16:44:26.367827",
     "exception": false,
     "start_time": "2024-04-04T16:44:26.339760",
     "status": "completed"
    },
    "tags": []
   },
   "source": [
    "<a id='10.2'></a>\n",
    "# <span style=\"color: #3EB489; border-bottom: 6px solid  #20603D; background-color: #fadb8c;\">💦 Feature importance</span>"
   ]
  },
  {
   "cell_type": "code",
   "execution_count": 22,
   "id": "befb748c",
   "metadata": {
    "execution": {
     "iopub.execute_input": "2024-04-04T16:44:26.426642Z",
     "iopub.status.busy": "2024-04-04T16:44:26.425944Z",
     "iopub.status.idle": "2024-04-04T16:45:17.177218Z",
     "shell.execute_reply": "2024-04-04T16:45:17.176106Z"
    },
    "papermill": {
     "duration": 50.783554,
     "end_time": "2024-04-04T16:45:17.179761",
     "exception": false,
     "start_time": "2024-04-04T16:44:26.396207",
     "status": "completed"
    },
    "tags": []
   },
   "outputs": [
    {
     "name": "stdout",
     "output_type": "stream",
     "text": [
      "CPU times: user 49.9 s, sys: 439 ms, total: 50.4 s\n",
      "Wall time: 50.3 s\n"
     ]
    },
    {
     "data": {
      "image/png": "[encoded data removed]",
      "text/plain": [
       "<Figure size 1200x800 with 1 Axes>"
      ]
     },
     "metadata": {},
     "output_type": "display_data"
    }
   ],
   "source": [
    "%%time\n",
    "# I figured out best hyperparameters previously\n",
    "best_forest = RandomForestRegressor(\n",
    "    random_state=27,\n",
    ")\n",
    "    \n",
    "best_forest.fit(X, y)\n",
    "importance = best_forest.feature_importances_\n",
    "\n",
    "feature_importance = pd.DataFrame(data=importance, index=X.columns, columns=['importance']) \\\n",
    "    .sort_values(ascending=True, by='importance')\n",
    "\n",
    "feature_importance.plot(kind='barh', figsize=(12, 8), color='orange');"
   ]
  },
  {
   "cell_type": "markdown",
   "id": "3751954e",
   "metadata": {
    "papermill": {
     "duration": 0.027596,
     "end_time": "2024-04-04T16:45:17.235795",
     "exception": false,
     "start_time": "2024-04-04T16:45:17.208199",
     "status": "completed"
    },
    "tags": []
   },
   "source": [
    "<a id='11'></a>\n",
    "# <span style=\"color: #3EB489; border-bottom: 6px solid  #20603D; background-color: #fadb8c;\">🌊 Build a heat map of correlations</span>"
   ]
  },
  {
   "cell_type": "code",
   "execution_count": 23,
   "id": "cc797315",
   "metadata": {
    "execution": {
     "iopub.execute_input": "2024-04-04T16:45:17.294823Z",
     "iopub.status.busy": "2024-04-04T16:45:17.294125Z",
     "iopub.status.idle": "2024-04-04T16:45:17.300996Z",
     "shell.execute_reply": "2024-04-04T16:45:17.300247Z"
    },
    "papermill": {
     "duration": 0.039068,
     "end_time": "2024-04-04T16:45:17.303104",
     "exception": false,
     "start_time": "2024-04-04T16:45:17.264036",
     "status": "completed"
    },
    "tags": []
   },
   "outputs": [
    {
     "data": {
      "text/plain": [
       "Index(['Length', 'Diameter', 'Height', 'Whole weight', 'Whole weight.1',\n",
       "       'Whole weight.2', 'Shell weight', 'Sex_I', 'Sex_M'],\n",
       "      dtype='object')"
      ]
     },
     "execution_count": 23,
     "metadata": {},
     "output_type": "execute_result"
    }
   ],
   "source": [
    "X.columns"
   ]
  },
  {
   "cell_type": "code",
   "execution_count": 24,
   "id": "cfecebdd",
   "metadata": {
    "execution": {
     "iopub.execute_input": "2024-04-04T16:45:17.364910Z",
     "iopub.status.busy": "2024-04-04T16:45:17.364498Z",
     "iopub.status.idle": "2024-04-04T16:45:18.148107Z",
     "shell.execute_reply": "2024-04-04T16:45:18.146816Z"
    },
    "papermill": {
     "duration": 0.818888,
     "end_time": "2024-04-04T16:45:18.151176",
     "exception": false,
     "start_time": "2024-04-04T16:45:17.332288",
     "status": "completed"
    },
    "tags": []
   },
   "outputs": [
    {
     "data": {
      "image/png": "[encoded data removed]",
      "text/plain": [
       "<Figure size 2000x1600 with 1 Axes>"
      ]
     },
     "metadata": {},
     "output_type": "display_data"
    }
   ],
   "source": [
    "# Training dataset\n",
    "numeric_columns_train = X.select_dtypes(include=np.number)\n",
    "corr_train = numeric_columns_train.corr(method='pearson')\n",
    "mask_train = np.triu(np.ones_like(corr_train))\n",
    "sns.heatmap(corr_train, annot=True, fmt='.2f', mask=mask_train, cmap='Spectral', cbar=None, linewidth=2)\n",
    "plt.tight_layout()\n",
    "plt.show()"
   ]
  },
  {
   "cell_type": "markdown",
   "id": "f34ad171",
   "metadata": {
    "papermill": {
     "duration": 0.030095,
     "end_time": "2024-04-04T16:45:18.211149",
     "exception": false,
     "start_time": "2024-04-04T16:45:18.181054",
     "status": "completed"
    },
    "tags": []
   },
   "source": [
    "#### Let's drop highly correlated features and look on the metric"
   ]
  },
  {
   "cell_type": "code",
   "execution_count": 25,
   "id": "c37c2f5b",
   "metadata": {
    "execution": {
     "iopub.execute_input": "2024-04-04T16:45:18.275097Z",
     "iopub.status.busy": "2024-04-04T16:45:18.274726Z",
     "iopub.status.idle": "2024-04-04T16:45:18.282098Z",
     "shell.execute_reply": "2024-04-04T16:45:18.281370Z"
    },
    "papermill": {
     "duration": 0.041296,
     "end_time": "2024-04-04T16:45:18.284012",
     "exception": false,
     "start_time": "2024-04-04T16:45:18.242716",
     "status": "completed"
    },
    "tags": []
   },
   "outputs": [],
   "source": [
    "X = X.drop(['Diameter'], axis=1)\n",
    "test = test.drop(['Diameter'], axis=1)"
   ]
  },
  {
   "cell_type": "code",
   "execution_count": 26,
   "id": "d7aade6f",
   "metadata": {
    "execution": {
     "iopub.execute_input": "2024-04-04T16:45:18.345819Z",
     "iopub.status.busy": "2024-04-04T16:45:18.345439Z",
     "iopub.status.idle": "2024-04-04T16:45:19.216866Z",
     "shell.execute_reply": "2024-04-04T16:45:19.215442Z"
    },
    "papermill": {
     "duration": 0.905459,
     "end_time": "2024-04-04T16:45:19.219188",
     "exception": false,
     "start_time": "2024-04-04T16:45:18.313729",
     "status": "completed"
    },
    "tags": []
   },
   "outputs": [
    {
     "data": {
      "image/png": "[encoded data removed]",
      "text/plain": [
       "<Figure size 2000x1600 with 1 Axes>"
      ]
     },
     "metadata": {},
     "output_type": "display_data"
    }
   ],
   "source": [
    "# Training dataset\n",
    "numeric_columns_train = X.select_dtypes(include=np.number)\n",
    "corr_train = numeric_columns_train.corr(method='pearson')\n",
    "mask_train = np.triu(np.ones_like(corr_train))\n",
    "sns.heatmap(corr_train, annot=True, fmt='.2f', mask=mask_train, cmap='coolwarm', cbar=None, linewidth=2)\n",
    "plt.tight_layout()\n",
    "plt.show()"
   ]
  },
  {
   "cell_type": "markdown",
   "id": "babf234a",
   "metadata": {
    "papermill": {
     "duration": 0.031461,
     "end_time": "2024-04-04T16:45:19.281947",
     "exception": false,
     "start_time": "2024-04-04T16:45:19.250486",
     "status": "completed"
    },
    "tags": []
   },
   "source": [
    "<a id='12'></a>\n",
    "# <span style=\"color: #3EB489; border-bottom: 6px solid  #20603D; background-color: #fadb8c;\">🐚 Define base models</span>"
   ]
  },
  {
   "cell_type": "code",
   "execution_count": 27,
   "id": "c6f9c905",
   "metadata": {
    "execution": {
     "iopub.execute_input": "2024-04-04T16:45:19.347710Z",
     "iopub.status.busy": "2024-04-04T16:45:19.347312Z",
     "iopub.status.idle": "2024-04-04T16:45:19.364527Z",
     "shell.execute_reply": "2024-04-04T16:45:19.362632Z"
    },
    "papermill": {
     "duration": 0.053311,
     "end_time": "2024-04-04T16:45:19.367121",
     "exception": false,
     "start_time": "2024-04-04T16:45:19.313810",
     "status": "completed"
    },
    "tags": []
   },
   "outputs": [],
   "source": [
    "# Split data into train and val\n",
    "X_train, X_val, y_train, y_val = train_test_split(X, y, test_size=0.2, random_state=27)"
   ]
  },
  {
   "cell_type": "markdown",
   "id": "068114c0",
   "metadata": {
    "papermill": {
     "duration": 0.031382,
     "end_time": "2024-04-04T16:45:19.429890",
     "exception": false,
     "start_time": "2024-04-04T16:45:19.398508",
     "status": "completed"
    },
    "tags": []
   },
   "source": [
    "![](https://www.foodrepublic.com/img/gallery/what-exactly-is-abalone-and-how-do-you-eat-it/l-intro-1695291935.jpg)"
   ]
  },
  {
   "cell_type": "markdown",
   "id": "752d61dc",
   "metadata": {
    "papermill": {
     "duration": 0.031628,
     "end_time": "2024-04-04T16:45:19.492628",
     "exception": false,
     "start_time": "2024-04-04T16:45:19.461000",
     "status": "completed"
    },
    "tags": []
   },
   "source": [
    "## <p style=\"background-image: url(https://www.kaggle.com/competitions/72489/images/header); color: white; font-size: 30px; padding: 5px 5px 5px 5px;\">Random Forest with Optuna</p>"
   ]
  },
  {
   "cell_type": "code",
   "execution_count": 28,
   "id": "b2bdc2f4",
   "metadata": {
    "execution": {
     "iopub.execute_input": "2024-04-04T16:45:19.558635Z",
     "iopub.status.busy": "2024-04-04T16:45:19.557983Z",
     "iopub.status.idle": "2024-04-04T16:45:19.565971Z",
     "shell.execute_reply": "2024-04-04T16:45:19.564906Z"
    },
    "papermill": {
     "duration": 0.044271,
     "end_time": "2024-04-04T16:45:19.568155",
     "exception": false,
     "start_time": "2024-04-04T16:45:19.523884",
     "status": "completed"
    },
    "tags": []
   },
   "outputs": [
    {
     "data": {
      "text/plain": [
       "'\\nNumber of finished trials:  10\\nBest trial:\\n  Value:  0.164014686713176\\n  Params: \\n    n_estimators: 544\\n    min_samples_leaf: 60\\n    max_depth: 8\\n    min_samples_split: 13\\n\\nCPU times: user 6min 35s, sys: 276 ms, total: 6min 35s\\nWall time: 6min 35s\\n'"
      ]
     },
     "execution_count": 28,
     "metadata": {},
     "output_type": "execute_result"
    }
   ],
   "source": [
    "# %%time\n",
    "# def objective(trial):\n",
    "#     model = RandomForestRegressor(\n",
    "#         n_estimators=trial.suggest_int(\"n_estimators\", 100, 1000),\n",
    "# #         criterion=trial.suggest_categorical(\"criterion\", ['poisson', 'absolute_error', 'friedman_mse', 'squared_error']),\n",
    "#         min_samples_leaf=trial.suggest_int(\"min_samples_leaf\", 1, 100),\n",
    "#         max_depth=trial.suggest_int(\"max_depth\", 1, 100),\n",
    "#         min_samples_split=trial.suggest_int(\"min_samples_split\", 2, 100),\n",
    "#         random_state=27\n",
    "#     )\n",
    "#     model.fit(X_train, y_train)\n",
    "#     y_pred = model.predict(X_test)\n",
    "#     return np.sqrt(mean_squared_log_error(y_test, y_pred))\n",
    "\n",
    "\n",
    "# X_train, X_test, y_train, y_test = train_test_split(X, y, test_size=0.2, random_state=27)\n",
    "\n",
    "# optuna.logging.set_verbosity(optuna.logging.WARNING)\n",
    "\n",
    "# sampler = TPESampler(seed=27)\n",
    "# study = optuna.create_study(study_name=\"random_forest\", direction=\"maximize\", sampler=sampler)\n",
    "# study.optimize(objective, n_trials=10)\n",
    "\n",
    "# print(\"Number of finished trials: \", len(study.trials))\n",
    "# print(\"Best trial:\")\n",
    "# trial = study.best_trial\n",
    "# print(\"  Value: \", trial.value)\n",
    "# print(\"  Params: \")\n",
    "# for key, value in trial.params.items():\n",
    "#     print(f\"    {key}: {value}\")\n",
    "# print()\n",
    "\n",
    "\"\"\"\n",
    "Number of finished trials:  10\n",
    "Best trial:\n",
    "  Value:  0.164014686713176\n",
    "  Params: \n",
    "    n_estimators: 544\n",
    "    min_samples_leaf: 60\n",
    "    max_depth: 8\n",
    "    min_samples_split: 13\n",
    "\n",
    "CPU times: user 6min 35s, sys: 276 ms, total: 6min 35s\n",
    "Wall time: 6min 35s\n",
    "\"\"\""
   ]
  },
  {
   "cell_type": "markdown",
   "id": "5ae29b43",
   "metadata": {
    "papermill": {
     "duration": 0.032156,
     "end_time": "2024-04-04T16:45:19.632588",
     "exception": false,
     "start_time": "2024-04-04T16:45:19.600432",
     "status": "completed"
    },
    "tags": []
   },
   "source": [
    "## <p style=\"background-image: url(https://www.kaggle.com/competitions/72489/images/header); color: white; font-size: 30px; padding: 5px 5px 5px 5px\">XGBoost with Optuna</p>"
   ]
  },
  {
   "cell_type": "code",
   "execution_count": 29,
   "id": "8652c0eb",
   "metadata": {
    "execution": {
     "iopub.execute_input": "2024-04-04T16:45:19.700701Z",
     "iopub.status.busy": "2024-04-04T16:45:19.699925Z",
     "iopub.status.idle": "2024-04-04T16:45:19.709128Z",
     "shell.execute_reply": "2024-04-04T16:45:19.708127Z"
    },
    "papermill": {
     "duration": 0.046448,
     "end_time": "2024-04-04T16:45:19.711320",
     "exception": false,
     "start_time": "2024-04-04T16:45:19.664872",
     "status": "completed"
    },
    "tags": []
   },
   "outputs": [
    {
     "data": {
      "text/plain": [
       "'\\nNumber of finished trials:  1\\nBest trial:\\n  Value:  0.1775845058982026\\n  Params: \\n    max_depth: 43\\n    learning_rate: 0.42576257222865277\\n    n_estimators: 749\\n    min_child_weight: 9\\n    gamma: 1.1669337024772915e-05\\n    subsample: 0.9097315662154742\\n    colsample_bytree: 0.6114890625963008\\n    reg_alpha: 4.761254082318455e-07\\n    reg_lambda: 0.008602430632882225\\n\\nCPU times: user 24.5 s, sys: 667 ms, total: 25.2 s\\nWall time: 25.2 s\\n'"
      ]
     },
     "execution_count": 29,
     "metadata": {},
     "output_type": "execute_result"
    }
   ],
   "source": [
    "# %%time\n",
    "# def objective(trial):\n",
    "#     model = XGBRegressor(\n",
    "#         max_depth=trial.suggest_int('max_depth', 1, 100),\n",
    "#         learning_rate=trial.suggest_float('learning_rate', 0.01, 1.0, log=True),\n",
    "#         n_estimators=trial.suggest_int('n_estimators', 50, 1000),\n",
    "#         min_child_weight=trial.suggest_int('min_child_weight', 1, 10),\n",
    "#         gamma=trial.suggest_float('gamma', 1e-8, 1.0, log=True),\n",
    "#         subsample=trial.suggest_float('subsample', 0.01, 1.0, log=True),\n",
    "#         colsample_bytree=trial.suggest_float('colsample_bytree', 0.01, 1.0, log=True),\n",
    "#         reg_alpha=trial.suggest_float('reg_alpha', 1e-8, 1.0, log=True),\n",
    "#         reg_lambda=trial.suggest_float('reg_lambda', 1e-8, 1.0, log=True),\n",
    "#         use_label_encoder=False,\n",
    "#         random_state=27\n",
    "#     )\n",
    "#     model.fit(X_train, y_train)\n",
    "#     y_pred = model.predict(X_test)\n",
    "#     try:\n",
    "#         return np.sqrt(mean_squared_log_error(y_test, y_pred))\n",
    "#     except Exception as e:\n",
    "#         print(e)\n",
    "\n",
    "\n",
    "# X_train, X_test, y_train, y_test = train_test_split(X, y, test_size=0.2, random_state=27)\n",
    "\n",
    "# optuna.logging.set_verbosity(optuna.logging.WARNING)\n",
    "\n",
    "# sampler = TPESampler(seed=27)\n",
    "# study = optuna.create_study(study_name=\"xgb\", direction=\"maximize\", sampler=sampler)\n",
    "# study.optimize(objective, n_trials=20)\n",
    "\n",
    "# print(\"Number of finished trials: \", len(study.trials))\n",
    "# print(\"Best trial:\")\n",
    "# trial = study.best_trial\n",
    "# print(\"  Value: \", trial.value)\n",
    "# print(\"  Params: \")\n",
    "# for key, value in trial.params.items():\n",
    "#     print(f\"    {key}: {value}\")\n",
    "# print()\n",
    "\n",
    "\"\"\"\n",
    "Number of finished trials:  1\n",
    "Best trial:\n",
    "  Value:  0.1775845058982026\n",
    "  Params: \n",
    "    max_depth: 43\n",
    "    learning_rate: 0.42576257222865277\n",
    "    n_estimators: 749\n",
    "    min_child_weight: 9\n",
    "    gamma: 1.1669337024772915e-05\n",
    "    subsample: 0.9097315662154742\n",
    "    colsample_bytree: 0.6114890625963008\n",
    "    reg_alpha: 4.761254082318455e-07\n",
    "    reg_lambda: 0.008602430632882225\n",
    "\n",
    "CPU times: user 24.5 s, sys: 667 ms, total: 25.2 s\n",
    "Wall time: 25.2 s\n",
    "\"\"\""
   ]
  },
  {
   "cell_type": "code",
   "execution_count": 30,
   "id": "e73aedb6",
   "metadata": {
    "execution": {
     "iopub.execute_input": "2024-04-04T16:45:19.778749Z",
     "iopub.status.busy": "2024-04-04T16:45:19.778057Z",
     "iopub.status.idle": "2024-04-04T16:45:19.785443Z",
     "shell.execute_reply": "2024-04-04T16:45:19.784523Z"
    },
    "papermill": {
     "duration": 0.042962,
     "end_time": "2024-04-04T16:45:19.787946",
     "exception": false,
     "start_time": "2024-04-04T16:45:19.744984",
     "status": "completed"
    },
    "tags": []
   },
   "outputs": [
    {
     "data": {
      "text/plain": [
       "\"\\nBest params: {'n_estimators': 395, 'max_depth': 6, 'learning_rate': 0.01}\\n\""
      ]
     },
     "execution_count": 30,
     "metadata": {},
     "output_type": "execute_result"
    }
   ],
   "source": [
    "# %%time\n",
    "# # Searching for best parameters of XGBoost\n",
    "# from sklearn.model_selection import RandomizedSearchCV\n",
    "\n",
    "# xgb_regressor = XGBRegressor(random_state=27)\n",
    "\n",
    "# xgb_parameters = {\n",
    "#     'n_estimators': range(5, 1001, 10),\n",
    "#     'learning_rate': [0.001, 0.05, 0.01],\n",
    "#     'max_depth': range(2, 100, 4),\n",
    "# }\n",
    "\n",
    "# xgb_random_search = RandomizedSearchCV(estimator=xgb_regressor, param_distributions=xgb_parameters, n_iter=20, n_jobs=-1, cv=5, verbose=4, random_state=27)\n",
    "# xgb_random_search.fit(X_val, y_val)\n",
    "# print(f'Best params: {xgb_random_search.best_params_}')\n",
    "\n",
    "\"\"\"\n",
    "Best params: {'n_estimators': 395, 'max_depth': 6, 'learning_rate': 0.01}\n",
    "\"\"\""
   ]
  },
  {
   "cell_type": "markdown",
   "id": "8d3f6190",
   "metadata": {
    "papermill": {
     "duration": 0.03201,
     "end_time": "2024-04-04T16:45:19.852033",
     "exception": false,
     "start_time": "2024-04-04T16:45:19.820023",
     "status": "completed"
    },
    "tags": []
   },
   "source": [
    "#### I found that XGBoost in this competition can't work with negative targets when it is looking for model that fitting with metrics"
   ]
  },
  {
   "cell_type": "markdown",
   "id": "f7a6a780",
   "metadata": {
    "papermill": {
     "duration": 0.031301,
     "end_time": "2024-04-04T16:45:19.915448",
     "exception": false,
     "start_time": "2024-04-04T16:45:19.884147",
     "status": "completed"
    },
    "tags": []
   },
   "source": [
    "## <p style=\"background-image: url(https://www.kaggle.com/competitions/72489/images/header); color: white; font-size: 30px; padding: 5px 5px 5px 5px\">CatBoost with Optuna</p>"
   ]
  },
  {
   "cell_type": "code",
   "execution_count": 31,
   "id": "1d15fd25",
   "metadata": {
    "execution": {
     "iopub.execute_input": "2024-04-04T16:45:19.981583Z",
     "iopub.status.busy": "2024-04-04T16:45:19.980789Z",
     "iopub.status.idle": "2024-04-04T16:45:19.989661Z",
     "shell.execute_reply": "2024-04-04T16:45:19.988655Z"
    },
    "papermill": {
     "duration": 0.044277,
     "end_time": "2024-04-04T16:45:19.991839",
     "exception": false,
     "start_time": "2024-04-04T16:45:19.947562",
     "status": "completed"
    },
    "tags": []
   },
   "outputs": [
    {
     "data": {
      "text/plain": [
       "'\\nNumber of finished trials:  20\\nBest trial:\\n  Value:  0.27250015755480833\\n  Params: \\n    iterations: 101\\n    learning_rate: 0.0010172906333606835\\n    colsample_bylevel: 0.4796381789116622\\n    min_data_in_leaf: 42\\n    depth: 13\\n    l2_leaf_reg: 2.895211427077531e-08\\n\\nCPU times: user 18min 10s, sys: 9min 21s, total: 27min 31s\\nWall time: 13min 5s\\n'"
      ]
     },
     "execution_count": 31,
     "metadata": {},
     "output_type": "execute_result"
    }
   ],
   "source": [
    "# %%time\n",
    "# def objective(trial):\n",
    "#     model = CatBoostRegressor(\n",
    "#         iterations=trial.suggest_int(\"iterations\", 100, 1000),\n",
    "#         learning_rate=trial.suggest_float(\"learning_rate\", 1e-3, 1e-1, log=True),\n",
    "#         colsample_bylevel=trial.suggest_float(\"colsample_bylevel\", 0.05, 1.0),\n",
    "#         min_data_in_leaf=trial.suggest_int(\"min_data_in_leaf\", 1, 100),\n",
    "#         depth=trial.suggest_int(\"depth\", 4, 16),\n",
    "#         l2_leaf_reg=trial.suggest_float(\"l2_leaf_reg\", 1e-8, 100.0, log=True),\n",
    "#         verbose=False,\n",
    "#         random_state=27\n",
    "#     )\n",
    "#     model.fit(X_train, y_train)\n",
    "#     y_pred = model.predict(X_test)\n",
    "#     return np.sqrt(mean_squared_log_error(y_test, y_pred))\n",
    "\n",
    "\n",
    "# X_train, X_test, y_train, y_test = train_test_split(X, y, test_size=0.2, random_state=27)\n",
    "\n",
    "# optuna.logging.set_verbosity(optuna.logging.WARNING)\n",
    "\n",
    "# sampler = TPESampler(seed=27)\n",
    "# study = optuna.create_study(study_name=\"catboost\", direction=\"maximize\", sampler=sampler)\n",
    "# study.optimize(objective, n_trials=20)\n",
    "\n",
    "# print(\"Number of finished trials: \", len(study.trials))\n",
    "# print(\"Best trial:\")\n",
    "# trial = study.best_trial\n",
    "# print(\"  Value: \", trial.value)\n",
    "# print(\"  Params: \")\n",
    "\n",
    "# for key, value in trial.params.items():\n",
    "#     print(f\"    {key}: {value}\")\n",
    "# print()\n",
    "\n",
    "\"\"\"\n",
    "Number of finished trials:  20\n",
    "Best trial:\n",
    "  Value:  0.27250015755480833\n",
    "  Params: \n",
    "    iterations: 101\n",
    "    learning_rate: 0.0010172906333606835\n",
    "    colsample_bylevel: 0.4796381789116622\n",
    "    min_data_in_leaf: 42\n",
    "    depth: 13\n",
    "    l2_leaf_reg: 2.895211427077531e-08\n",
    "\n",
    "CPU times: user 18min 10s, sys: 9min 21s, total: 27min 31s\n",
    "Wall time: 13min 5s\n",
    "\"\"\""
   ]
  },
  {
   "cell_type": "markdown",
   "id": "720e191d",
   "metadata": {
    "papermill": {
     "duration": 0.032205,
     "end_time": "2024-04-04T16:45:20.056248",
     "exception": false,
     "start_time": "2024-04-04T16:45:20.024043",
     "status": "completed"
    },
    "tags": []
   },
   "source": [
    "## <p style=\"background-image: url(https://www.kaggle.com/competitions/72489/images/header); color: white; font-size: 30px; padding: 5px 5px 5px 5px\">LightGBM with Optuna</p>"
   ]
  },
  {
   "cell_type": "code",
   "execution_count": 32,
   "id": "51811442",
   "metadata": {
    "execution": {
     "iopub.execute_input": "2024-04-04T16:45:20.124244Z",
     "iopub.status.busy": "2024-04-04T16:45:20.123465Z",
     "iopub.status.idle": "2024-04-04T16:45:20.132344Z",
     "shell.execute_reply": "2024-04-04T16:45:20.131283Z"
    },
    "papermill": {
     "duration": 0.045024,
     "end_time": "2024-04-04T16:45:20.134387",
     "exception": false,
     "start_time": "2024-04-04T16:45:20.089363",
     "status": "completed"
    },
    "tags": []
   },
   "outputs": [
    {
     "data": {
      "text/plain": [
       "'\\nNumber of finished trials:  20\\nBest trial:\\n  Value:  0.9971664373669932\\n  Params: \\n    n_estimators: 676\\n    max_depth: 100\\n    learning_rate: 0.0010257989336468524\\n    boosting_type: dart\\n    num_leaves: 37\\n    min_child_samples: 22\\n\\nCPU times: user 38min 41s, sys: 5.25 s, total: 38min 47s\\nWall time: 38min 50s\\n'"
      ]
     },
     "execution_count": 32,
     "metadata": {},
     "output_type": "execute_result"
    }
   ],
   "source": [
    "# %%time\n",
    "# def objective(trial):\n",
    "#     model = LGBMRegressor(\n",
    "#         n_estimators=trial.suggest_int(\"n_estimators\", 100, 1000),\n",
    "#         max_depth=trial.suggest_int(\"max_depth\", 1, 100),\n",
    "#         learning_rate=trial.suggest_float(\"learning_rate\", 1e-3, 1e-1, log=True),\n",
    "#         verbosity=-1,\n",
    "#         boosting_type=trial.suggest_categorical('boosting_type', ['gbdt', 'dart']),\n",
    "#         num_leaves=trial.suggest_int('num_leaves', 2, 256),\n",
    "#         min_child_samples=trial.suggest_int('min_child_samples', 5, 100),\n",
    "#         random_state=27\n",
    "#     )\n",
    "#     model.fit(X_train, y_train)\n",
    "#     y_pred = model.predict(X_test)\n",
    "#     return np.sqrt(mean_squared_log_error(y_test, y_pred))\n",
    "\n",
    "\n",
    "# X_train, X_test, y_train, y_test = train_test_split(X, y, test_size=0.2, random_state=27)\n",
    "\n",
    "# optuna.logging.set_verbosity(optuna.logging.WARNING)\n",
    "\n",
    "# sampler = TPESampler(seed=27)\n",
    "# study = optuna.create_study(study_name=\"lgbm\", direction=\"maximize\", sampler=sampler)\n",
    "# study.optimize(objective, n_trials=20)\n",
    "\n",
    "# print(\"Number of finished trials: \", len(study.trials))\n",
    "# print(\"Best trial:\")\n",
    "# trial = study.best_trial\n",
    "# print(\"  Value: \", trial.value)\n",
    "# print(\"  Params: \")\n",
    "# for key, value in trial.params.items():\n",
    "#     print(f\"    {key}: {value}\")\n",
    "# print()\n",
    "\n",
    "\"\"\"\n",
    "Number of finished trials:  20\n",
    "Best trial:\n",
    "  Value:  0.9971664373669932\n",
    "  Params: \n",
    "    n_estimators: 676\n",
    "    max_depth: 100\n",
    "    learning_rate: 0.0010257989336468524\n",
    "    boosting_type: dart\n",
    "    num_leaves: 37\n",
    "    min_child_samples: 22\n",
    "\n",
    "CPU times: user 38min 41s, sys: 5.25 s, total: 38min 47s\n",
    "Wall time: 38min 50s\n",
    "\"\"\""
   ]
  },
  {
   "cell_type": "code",
   "execution_count": 33,
   "id": "aa96c089",
   "metadata": {
    "execution": {
     "iopub.execute_input": "2024-04-04T16:45:20.201923Z",
     "iopub.status.busy": "2024-04-04T16:45:20.200980Z",
     "iopub.status.idle": "2024-04-04T16:45:20.207361Z",
     "shell.execute_reply": "2024-04-04T16:45:20.206581Z"
    },
    "papermill": {
     "duration": 0.04265,
     "end_time": "2024-04-04T16:45:20.209428",
     "exception": false,
     "start_time": "2024-04-04T16:45:20.166778",
     "status": "completed"
    },
    "tags": []
   },
   "outputs": [],
   "source": [
    "base_models = [\n",
    "    ('XGBoost', XGBRegressor(\n",
    "        n_estimators=395, \n",
    "        max_depth=6,\n",
    "        learning_rate=0.01,\n",
    "        random_state=27\n",
    "    )),\n",
    "    ('LightGBM', LGBMRegressor(\n",
    "        n_estimators=676,\n",
    "        max_depth=100,\n",
    "        learning_rate=0.0010257989336468524,\n",
    "        boosting_type='dart',\n",
    "        num_leaves=37,\n",
    "        min_child_samples=22,\n",
    "        random_state=27\n",
    "    )),\n",
    "#     ('Catboost', CatBoostRegressor(\n",
    "#         iterations=101,\n",
    "#         learning_rate=0.0010172906333606835,\n",
    "#         colsample_bylevel=0.4796381789116622,\n",
    "#         min_data_in_leaf=42,\n",
    "#         depth=13,\n",
    "#         l2_leaf_reg=2.895211427077531e-08,\n",
    "#         random_state=27\n",
    "#     )),\n",
    "]"
   ]
  },
  {
   "cell_type": "markdown",
   "id": "d8a43b9c",
   "metadata": {
    "papermill": {
     "duration": 0.032385,
     "end_time": "2024-04-04T16:45:20.274372",
     "exception": false,
     "start_time": "2024-04-04T16:45:20.241987",
     "status": "completed"
    },
    "tags": []
   },
   "source": [
    "![](https://www.frdc.com.au/sites/default/files/fish-magazine/images/fish-vol-26-2/P26_fi_abalone_diving_Yazbeck-Pic-(1).jpg?la=en&hash=2A20AECD5AF45A98BA91D7B78B402ABB4781D789)"
   ]
  },
  {
   "cell_type": "markdown",
   "id": "87813429",
   "metadata": {
    "papermill": {
     "duration": 0.032502,
     "end_time": "2024-04-04T16:45:20.339201",
     "exception": false,
     "start_time": "2024-04-04T16:45:20.306699",
     "status": "completed"
    },
    "tags": []
   },
   "source": [
    "<a id='13'></a>\n",
    "# <span style=\"color: #3EB489; border-bottom: 6px solid  #20603D; background-color: #fadb8c;\">⛵ Defining the meta-model</span>"
   ]
  },
  {
   "cell_type": "code",
   "execution_count": 34,
   "id": "a285ccb7",
   "metadata": {
    "execution": {
     "iopub.execute_input": "2024-04-04T16:45:20.406586Z",
     "iopub.status.busy": "2024-04-04T16:45:20.405845Z",
     "iopub.status.idle": "2024-04-04T16:45:20.411007Z",
     "shell.execute_reply": "2024-04-04T16:45:20.410290Z"
    },
    "papermill": {
     "duration": 0.040695,
     "end_time": "2024-04-04T16:45:20.413162",
     "exception": false,
     "start_time": "2024-04-04T16:45:20.372467",
     "status": "completed"
    },
    "tags": []
   },
   "outputs": [],
   "source": [
    "meta_model = RandomForestRegressor(\n",
    "    n_estimators=544,\n",
    "    min_samples_leaf=60,\n",
    "    max_depth=8,\n",
    "    min_samples_split=13,\n",
    "    random_state=27\n",
    ")"
   ]
  },
  {
   "cell_type": "markdown",
   "id": "c186f11e",
   "metadata": {
    "papermill": {
     "duration": 0.032841,
     "end_time": "2024-04-04T16:45:20.477297",
     "exception": false,
     "start_time": "2024-04-04T16:45:20.444456",
     "status": "completed"
    },
    "tags": []
   },
   "source": [
    "<a id='14'></a>\n",
    "# <span style=\"color: #3EB489; border-bottom: 6px solid  #20603D; background-color: #fadb8c;\">🍤 Creating and fitting the stacking model"
   ]
  },
  {
   "cell_type": "code",
   "execution_count": 35,
   "id": "ca4963fe",
   "metadata": {
    "_kg_hide-output": true,
    "execution": {
     "iopub.execute_input": "2024-04-04T16:45:20.545270Z",
     "iopub.status.busy": "2024-04-04T16:45:20.544640Z",
     "iopub.status.idle": "2024-04-04T16:59:05.543135Z",
     "shell.execute_reply": "2024-04-04T16:59:05.542158Z"
    },
    "papermill": {
     "duration": 825.069492,
     "end_time": "2024-04-04T16:59:05.579736",
     "exception": false,
     "start_time": "2024-04-04T16:45:20.510244",
     "status": "completed"
    },
    "tags": []
   },
   "outputs": [
    {
     "name": "stdout",
     "output_type": "stream",
     "text": [
      "[LightGBM] [Warning] Found whitespace in feature_names, replace with underlines\n",
      "[LightGBM] [Info] Auto-choosing col-wise multi-threading, the overhead of testing was 0.010586 seconds.\n",
      "You can set `force_col_wise=true` to remove the overhead.\n",
      "[LightGBM] [Info] Total Bins 1223\n",
      "[LightGBM] [Info] Number of data points in the train set: 94792, number of used features: 8\n",
      "[LightGBM] [Info] Start training from score 9.707233\n",
      "[LightGBM] [Warning] Found whitespace in feature_names, replace with underlines\n",
      "[LightGBM] [Info] Auto-choosing col-wise multi-threading, the overhead of testing was 0.014131 seconds.\n",
      "You can set `force_col_wise=true` to remove the overhead.\n",
      "[LightGBM] [Info] Total Bins 1219\n",
      "[LightGBM] [Info] Number of data points in the train set: 75833, number of used features: 8\n",
      "[LightGBM] [Info] Start training from score 9.718698\n",
      "[LightGBM] [Warning] Found whitespace in feature_names, replace with underlines\n",
      "[LightGBM] [Info] Auto-choosing col-wise multi-threading, the overhead of testing was 0.013287 seconds.\n",
      "You can set `force_col_wise=true` to remove the overhead.\n",
      "[LightGBM] [Info] Total Bins 1218\n",
      "[LightGBM] [Info] Number of data points in the train set: 75833, number of used features: 8\n",
      "[LightGBM] [Info] Start training from score 9.698588\n",
      "[LightGBM] [Warning] Found whitespace in feature_names, replace with underlines\n",
      "[LightGBM] [Info] Auto-choosing col-wise multi-threading, the overhead of testing was 0.013340 seconds.\n",
      "You can set `force_col_wise=true` to remove the overhead.\n",
      "[LightGBM] [Info] Total Bins 1218\n",
      "[LightGBM] [Info] Number of data points in the train set: 75834, number of used features: 8\n",
      "[LightGBM] [Info] Start training from score 9.711831\n",
      "[LightGBM] [Warning] Found whitespace in feature_names, replace with underlines\n",
      "[LightGBM] [Info] Auto-choosing col-wise multi-threading, the overhead of testing was 0.013418 seconds.\n",
      "You can set `force_col_wise=true` to remove the overhead.\n",
      "[LightGBM] [Info] Total Bins 1220\n",
      "[LightGBM] [Info] Number of data points in the train set: 75834, number of used features: 8\n",
      "[LightGBM] [Info] Start training from score 9.718833\n",
      "[LightGBM] [Warning] Found whitespace in feature_names, replace with underlines\n",
      "[LightGBM] [Info] Auto-choosing col-wise multi-threading, the overhead of testing was 0.013314 seconds.\n",
      "You can set `force_col_wise=true` to remove the overhead.\n",
      "[LightGBM] [Info] Total Bins 1217\n",
      "[LightGBM] [Info] Number of data points in the train set: 75834, number of used features: 8\n",
      "[LightGBM] [Info] Start training from score 9.688214\n",
      "CPU times: user 15min 11s, sys: 1.87 s, total: 15min 13s\n",
      "Wall time: 13min 44s\n"
     ]
    },
    {
     "data": {
      "text/html": [
       "<style>#sk-container-id-1 {color: black;background-color: white;}#sk-container-id-1 pre{padding: 0;}#sk-container-id-1 div.sk-toggleable {background-color: white;}#sk-container-id-1 label.sk-toggleable__label {cursor: pointer;display: block;width: 100%;margin-bottom: 0;padding: 0.3em;box-sizing: border-box;text-align: center;}#sk-container-id-1 label.sk-toggleable__label-arrow:before {content: \"▸\";float: left;margin-right: 0.25em;color: #696969;}#sk-container-id-1 label.sk-toggleable__label-arrow:hover:before {color: black;}#sk-container-id-1 div.sk-estimator:hover label.sk-toggleable__label-arrow:before {color: black;}#sk-container-id-1 div.sk-toggleable__content {max-height: 0;max-width: 0;overflow: hidden;text-align: left;background-color: #f0f8ff;}#sk-container-id-1 div.sk-toggleable__content pre {margin: 0.2em;color: black;border-radius: 0.25em;background-color: #f0f8ff;}#sk-container-id-1 input.sk-toggleable__control:checked~div.sk-toggleable__content {max-height: 200px;max-width: 100%;overflow: auto;}#sk-container-id-1 input.sk-toggleable__control:checked~label.sk-toggleable__label-arrow:before {content: \"▾\";}#sk-container-id-1 div.sk-estimator input.sk-toggleable__control:checked~label.sk-toggleable__label {background-color: #d4ebff;}#sk-container-id-1 div.sk-label input.sk-toggleable__control:checked~label.sk-toggleable__label {background-color: #d4ebff;}#sk-container-id-1 input.sk-hidden--visually {border: 0;clip: rect(1px 1px 1px 1px);clip: rect(1px, 1px, 1px, 1px);height: 1px;margin: -1px;overflow: hidden;padding: 0;position: absolute;width: 1px;}#sk-container-id-1 div.sk-estimator {font-family: monospace;background-color: #f0f8ff;border: 1px dotted black;border-radius: 0.25em;box-sizing: border-box;margin-bottom: 0.5em;}#sk-container-id-1 div.sk-estimator:hover {background-color: #d4ebff;}#sk-container-id-1 div.sk-parallel-item::after {content: \"\";width: 100%;border-bottom: 1px solid gray;flex-grow: 1;}#sk-container-id-1 div.sk-label:hover label.sk-toggleable__label {background-color: #d4ebff;}#sk-container-id-1 div.sk-serial::before {content: \"\";position: absolute;border-left: 1px solid gray;box-sizing: border-box;top: 0;bottom: 0;left: 50%;z-index: 0;}#sk-container-id-1 div.sk-serial {display: flex;flex-direction: column;align-items: center;background-color: white;padding-right: 0.2em;padding-left: 0.2em;position: relative;}#sk-container-id-1 div.sk-item {position: relative;z-index: 1;}#sk-container-id-1 div.sk-parallel {display: flex;align-items: stretch;justify-content: center;background-color: white;position: relative;}#sk-container-id-1 div.sk-item::before, #sk-container-id-1 div.sk-parallel-item::before {content: \"\";position: absolute;border-left: 1px solid gray;box-sizing: border-box;top: 0;bottom: 0;left: 50%;z-index: -1;}#sk-container-id-1 div.sk-parallel-item {display: flex;flex-direction: column;z-index: 1;position: relative;background-color: white;}#sk-container-id-1 div.sk-parallel-item:first-child::after {align-self: flex-end;width: 50%;}#sk-container-id-1 div.sk-parallel-item:last-child::after {align-self: flex-start;width: 50%;}#sk-container-id-1 div.sk-parallel-item:only-child::after {width: 0;}#sk-container-id-1 div.sk-dashed-wrapped {border: 1px dashed gray;margin: 0 0.4em 0.5em 0.4em;box-sizing: border-box;padding-bottom: 0.4em;background-color: white;}#sk-container-id-1 div.sk-label label {font-family: monospace;font-weight: bold;display: inline-block;line-height: 1.2em;}#sk-container-id-1 div.sk-label-container {text-align: center;}#sk-container-id-1 div.sk-container {/* jupyter's `normalize.less` sets `[hidden] { display: none; }` but bootstrap.min.css set `[hidden] { display: none !important; }` so we also need the `!important` here to be able to override the default hidden behavior on the sphinx rendered scikit-learn.org. See: https://github.com/scikit-learn/scikit-learn/issues/21755 */display: inline-block !important;position: relative;}#sk-container-id-1 div.sk-text-repr-fallback {display: none;}</style><div id=\"sk-container-id-1\" class=\"sk-top-container\"><div class=\"sk-text-repr-fallback\"><pre>StackingRegressor(estimators=[(&#x27;XGBoost&#x27;,\n",
       "                               XGBRegressor(base_score=None, booster=None,\n",
       "                                            callbacks=None,\n",
       "                                            colsample_bylevel=None,\n",
       "                                            colsample_bynode=None,\n",
       "                                            colsample_bytree=None, device=None,\n",
       "                                            early_stopping_rounds=None,\n",
       "                                            enable_categorical=False,\n",
       "                                            eval_metric=None,\n",
       "                                            feature_types=None, gamma=None,\n",
       "                                            grow_policy=None,\n",
       "                                            importance_type=None,\n",
       "                                            interaction_constraints=None,\n",
       "                                            learnin...\n",
       "                                            n_estimators=395, n_jobs=None,\n",
       "                                            num_parallel_tree=None,\n",
       "                                            random_state=27, ...)),\n",
       "                              (&#x27;LightGBM&#x27;,\n",
       "                               LGBMRegressor(boosting_type=&#x27;dart&#x27;,\n",
       "                                             learning_rate=0.0010257989336468524,\n",
       "                                             max_depth=100,\n",
       "                                             min_child_samples=22,\n",
       "                                             n_estimators=676, num_leaves=37,\n",
       "                                             random_state=27))],\n",
       "                  final_estimator=RandomForestRegressor(max_depth=8,\n",
       "                                                        min_samples_leaf=60,\n",
       "                                                        min_samples_split=13,\n",
       "                                                        n_estimators=544,\n",
       "                                                        random_state=27))</pre><b>In a Jupyter environment, please rerun this cell to show the HTML representation or trust the notebook. <br />On GitHub, the HTML representation is unable to render, please try loading this page with nbviewer.org.</b></div><div class=\"sk-container\" hidden><div class=\"sk-item sk-dashed-wrapped\"><div class=\"sk-label-container\"><div class=\"sk-label sk-toggleable\"><input class=\"sk-toggleable__control sk-hidden--visually\" id=\"sk-estimator-id-1\" type=\"checkbox\" ><label for=\"sk-estimator-id-1\" class=\"sk-toggleable__label sk-toggleable__label-arrow\">StackingRegressor</label><div class=\"sk-toggleable__content\"><pre>StackingRegressor(estimators=[(&#x27;XGBoost&#x27;,\n",
       "                               XGBRegressor(base_score=None, booster=None,\n",
       "                                            callbacks=None,\n",
       "                                            colsample_bylevel=None,\n",
       "                                            colsample_bynode=None,\n",
       "                                            colsample_bytree=None, device=None,\n",
       "                                            early_stopping_rounds=None,\n",
       "                                            enable_categorical=False,\n",
       "                                            eval_metric=None,\n",
       "                                            feature_types=None, gamma=None,\n",
       "                                            grow_policy=None,\n",
       "                                            importance_type=None,\n",
       "                                            interaction_constraints=None,\n",
       "                                            learnin...\n",
       "                                            n_estimators=395, n_jobs=None,\n",
       "                                            num_parallel_tree=None,\n",
       "                                            random_state=27, ...)),\n",
       "                              (&#x27;LightGBM&#x27;,\n",
       "                               LGBMRegressor(boosting_type=&#x27;dart&#x27;,\n",
       "                                             learning_rate=0.0010257989336468524,\n",
       "                                             max_depth=100,\n",
       "                                             min_child_samples=22,\n",
       "                                             n_estimators=676, num_leaves=37,\n",
       "                                             random_state=27))],\n",
       "                  final_estimator=RandomForestRegressor(max_depth=8,\n",
       "                                                        min_samples_leaf=60,\n",
       "                                                        min_samples_split=13,\n",
       "                                                        n_estimators=544,\n",
       "                                                        random_state=27))</pre></div></div></div><div class=\"sk-serial\"><div class=\"sk-item\"><div class=\"sk-parallel\"><div class=\"sk-parallel-item\"><div class=\"sk-item\"><div class=\"sk-label-container\"><div class=\"sk-label sk-toggleable\"><label>XGBoost</label></div></div><div class=\"sk-serial\"><div class=\"sk-item\"><div class=\"sk-estimator sk-toggleable\"><input class=\"sk-toggleable__control sk-hidden--visually\" id=\"sk-estimator-id-2\" type=\"checkbox\" ><label for=\"sk-estimator-id-2\" class=\"sk-toggleable__label sk-toggleable__label-arrow\">XGBRegressor</label><div class=\"sk-toggleable__content\"><pre>XGBRegressor(base_score=None, booster=None, callbacks=None,\n",
       "             colsample_bylevel=None, colsample_bynode=None,\n",
       "             colsample_bytree=None, device=None, early_stopping_rounds=None,\n",
       "             enable_categorical=False, eval_metric=None, feature_types=None,\n",
       "             gamma=None, grow_policy=None, importance_type=None,\n",
       "             interaction_constraints=None, learning_rate=0.01, max_bin=None,\n",
       "             max_cat_threshold=None, max_cat_to_onehot=None,\n",
       "             max_delta_step=None, max_depth=6, max_leaves=None,\n",
       "             min_child_weight=None, missing=nan, monotone_constraints=None,\n",
       "             multi_strategy=None, n_estimators=395, n_jobs=None,\n",
       "             num_parallel_tree=None, random_state=27, ...)</pre></div></div></div></div></div></div><div class=\"sk-parallel-item\"><div class=\"sk-item\"><div class=\"sk-label-container\"><div class=\"sk-label sk-toggleable\"><label>LightGBM</label></div></div><div class=\"sk-serial\"><div class=\"sk-item\"><div class=\"sk-estimator sk-toggleable\"><input class=\"sk-toggleable__control sk-hidden--visually\" id=\"sk-estimator-id-3\" type=\"checkbox\" ><label for=\"sk-estimator-id-3\" class=\"sk-toggleable__label sk-toggleable__label-arrow\">LGBMRegressor</label><div class=\"sk-toggleable__content\"><pre>LGBMRegressor(boosting_type=&#x27;dart&#x27;, learning_rate=0.0010257989336468524,\n",
       "              max_depth=100, min_child_samples=22, n_estimators=676,\n",
       "              num_leaves=37, random_state=27)</pre></div></div></div></div></div></div></div></div><div class=\"sk-item\"><div class=\"sk-parallel\"><div class=\"sk-parallel-item\"><div class=\"sk-item\"><div class=\"sk-label-container\"><div class=\"sk-label sk-toggleable\"><label>final_estimator</label></div></div><div class=\"sk-serial\"><div class=\"sk-item\"><div class=\"sk-estimator sk-toggleable\"><input class=\"sk-toggleable__control sk-hidden--visually\" id=\"sk-estimator-id-4\" type=\"checkbox\" ><label for=\"sk-estimator-id-4\" class=\"sk-toggleable__label sk-toggleable__label-arrow\">RandomForestRegressor</label><div class=\"sk-toggleable__content\"><pre>RandomForestRegressor(max_depth=8, min_samples_leaf=60, min_samples_split=13,\n",
       "                      n_estimators=544, random_state=27)</pre></div></div></div></div></div></div></div></div></div></div></div></div>"
      ],
      "text/plain": [
       "StackingRegressor(estimators=[('XGBoost',\n",
       "                               XGBRegressor(base_score=None, booster=None,\n",
       "                                            callbacks=None,\n",
       "                                            colsample_bylevel=None,\n",
       "                                            colsample_bynode=None,\n",
       "                                            colsample_bytree=None, device=None,\n",
       "                                            early_stopping_rounds=None,\n",
       "                                            enable_categorical=False,\n",
       "                                            eval_metric=None,\n",
       "                                            feature_types=None, gamma=None,\n",
       "                                            grow_policy=None,\n",
       "                                            importance_type=None,\n",
       "                                            interaction_constraints=None,\n",
       "                                            learnin...\n",
       "                                            n_estimators=395, n_jobs=None,\n",
       "                                            num_parallel_tree=None,\n",
       "                                            random_state=27, ...)),\n",
       "                              ('LightGBM',\n",
       "                               LGBMRegressor(boosting_type='dart',\n",
       "                                             learning_rate=0.0010257989336468524,\n",
       "                                             max_depth=100,\n",
       "                                             min_child_samples=22,\n",
       "                                             n_estimators=676, num_leaves=37,\n",
       "                                             random_state=27))],\n",
       "                  final_estimator=RandomForestRegressor(max_depth=8,\n",
       "                                                        min_samples_leaf=60,\n",
       "                                                        min_samples_split=13,\n",
       "                                                        n_estimators=544,\n",
       "                                                        random_state=27))"
      ]
     },
     "execution_count": 35,
     "metadata": {},
     "output_type": "execute_result"
    }
   ],
   "source": [
    "%%time\n",
    "stacking_model = StackingRegressor(estimators=base_models, final_estimator=meta_model)\n",
    "stacking_model.fit(X, y)"
   ]
  },
  {
   "cell_type": "markdown",
   "id": "a38e3a35",
   "metadata": {
    "papermill": {
     "duration": 0.031894,
     "end_time": "2024-04-04T16:59:05.643375",
     "exception": false,
     "start_time": "2024-04-04T16:59:05.611481",
     "status": "completed"
    },
    "tags": []
   },
   "source": [
    "<a id='15'></a>\n",
    "# <span style=\"color: #3EB489; border-bottom: 6px solid  #20603D; background-color: #fadb8c;\">🐟 Predict the validation set and calculate Root Mean Squared Logarithmic Error (RMSLE) score</span>"
   ]
  },
  {
   "cell_type": "code",
   "execution_count": 36,
   "id": "9eb7f165",
   "metadata": {
    "execution": {
     "iopub.execute_input": "2024-04-04T16:59:05.709372Z",
     "iopub.status.busy": "2024-04-04T16:59:05.708988Z",
     "iopub.status.idle": "2024-04-04T16:59:07.262846Z",
     "shell.execute_reply": "2024-04-04T16:59:07.261641Z"
    },
    "papermill": {
     "duration": 1.588719,
     "end_time": "2024-04-04T16:59:07.265061",
     "exception": false,
     "start_time": "2024-04-04T16:59:05.676342",
     "status": "completed"
    },
    "tags": []
   },
   "outputs": [
    {
     "name": "stdout",
     "output_type": "stream",
     "text": [
      "Validation Root mean squared logarithmic error regression loss: 0.14903684\n"
     ]
    }
   ],
   "source": [
    "y_pred_val = stacking_model.predict(X_val)\n",
    "\n",
    "rmsle_val = np.sqrt(mean_squared_log_error(y_val, y_pred_val))\n",
    "print(f\"Validation Root mean squared logarithmic error regression loss: {rmsle_val:.8f}\")"
   ]
  },
  {
   "cell_type": "markdown",
   "id": "043fcc5f",
   "metadata": {
    "papermill": {
     "duration": 0.032307,
     "end_time": "2024-04-04T16:59:07.329775",
     "exception": false,
     "start_time": "2024-04-04T16:59:07.297468",
     "status": "completed"
    },
    "tags": []
   },
   "source": [
    "<a id='16'></a>\n",
    "# <span style=\"color: #3EB489; border-bottom: 6px solid  #20603D; background-color: #fadb8c;\">🐠 Predict on the test data</span>"
   ]
  },
  {
   "cell_type": "code",
   "execution_count": 37,
   "id": "09e4a2c3",
   "metadata": {
    "execution": {
     "iopub.execute_input": "2024-04-04T16:59:07.396684Z",
     "iopub.status.busy": "2024-04-04T16:59:07.396282Z",
     "iopub.status.idle": "2024-04-04T16:59:12.260920Z",
     "shell.execute_reply": "2024-04-04T16:59:12.259831Z"
    },
    "papermill": {
     "duration": 4.900914,
     "end_time": "2024-04-04T16:59:12.263120",
     "exception": false,
     "start_time": "2024-04-04T16:59:07.362206",
     "status": "completed"
    },
    "tags": []
   },
   "outputs": [
    {
     "data": {
      "text/plain": [
       "array([ 9.89542364,  9.74994353, 10.32894026, 10.52329787,  7.60510084,\n",
       "        9.46870225, 11.5423972 ,  6.21449065,  8.01904342, 11.36811248])"
      ]
     },
     "execution_count": 37,
     "metadata": {},
     "output_type": "execute_result"
    }
   ],
   "source": [
    "y_pred_test = stacking_model.predict(test)\n",
    "y_pred_test[:10]"
   ]
  },
  {
   "cell_type": "markdown",
   "id": "6429844b",
   "metadata": {
    "papermill": {
     "duration": 0.033492,
     "end_time": "2024-04-04T16:59:12.330082",
     "exception": false,
     "start_time": "2024-04-04T16:59:12.296590",
     "status": "completed"
    },
    "tags": []
   },
   "source": [
    "![](https://en.australia51.com/Attach/Download/EA3D1916-8F57-1147-653F-329276FBB95A/0656DE71-5A1F-235F-E504-F21533E82969.jpg)"
   ]
  },
  {
   "cell_type": "markdown",
   "id": "8020f271",
   "metadata": {
    "papermill": {
     "duration": 0.031798,
     "end_time": "2024-04-04T16:59:12.394369",
     "exception": false,
     "start_time": "2024-04-04T16:59:12.362571",
     "status": "completed"
    },
    "tags": []
   },
   "source": [
    "<a id='17'></a>\n",
    "# <span style=\"color: #3EB489; border-bottom: 6px solid  #20603D; background-color: #fadb8c;\">🐡 Build DataFrame and make first submission</span>"
   ]
  },
  {
   "cell_type": "code",
   "execution_count": 38,
   "id": "939bf6f3",
   "metadata": {
    "execution": {
     "iopub.execute_input": "2024-04-04T16:59:12.459630Z",
     "iopub.status.busy": "2024-04-04T16:59:12.458962Z",
     "iopub.status.idle": "2024-04-04T16:59:12.665904Z",
     "shell.execute_reply": "2024-04-04T16:59:12.665154Z"
    },
    "papermill": {
     "duration": 0.242324,
     "end_time": "2024-04-04T16:59:12.668303",
     "exception": false,
     "start_time": "2024-04-04T16:59:12.425979",
     "status": "completed"
    },
    "tags": []
   },
   "outputs": [
    {
     "data": {
      "text/html": [
       "<div>\n",
       "<style scoped>\n",
       "    .dataframe tbody tr th:only-of-type {\n",
       "        vertical-align: middle;\n",
       "    }\n",
       "\n",
       "    .dataframe tbody tr th {\n",
       "        vertical-align: top;\n",
       "    }\n",
       "\n",
       "    .dataframe thead th {\n",
       "        text-align: right;\n",
       "    }\n",
       "</style>\n",
       "<table border=\"1\" class=\"dataframe\">\n",
       "  <thead>\n",
       "    <tr style=\"text-align: right;\">\n",
       "      <th></th>\n",
       "      <th>id</th>\n",
       "      <th>Rings</th>\n",
       "    </tr>\n",
       "  </thead>\n",
       "  <tbody>\n",
       "    <tr>\n",
       "      <th>0</th>\n",
       "      <td>90615</td>\n",
       "      <td>9.895424</td>\n",
       "    </tr>\n",
       "    <tr>\n",
       "      <th>1</th>\n",
       "      <td>90616</td>\n",
       "      <td>9.749944</td>\n",
       "    </tr>\n",
       "    <tr>\n",
       "      <th>2</th>\n",
       "      <td>90617</td>\n",
       "      <td>10.328940</td>\n",
       "    </tr>\n",
       "    <tr>\n",
       "      <th>3</th>\n",
       "      <td>90618</td>\n",
       "      <td>10.523298</td>\n",
       "    </tr>\n",
       "    <tr>\n",
       "      <th>4</th>\n",
       "      <td>90619</td>\n",
       "      <td>7.605101</td>\n",
       "    </tr>\n",
       "    <tr>\n",
       "      <th>5</th>\n",
       "      <td>90620</td>\n",
       "      <td>9.468702</td>\n",
       "    </tr>\n",
       "    <tr>\n",
       "      <th>6</th>\n",
       "      <td>90621</td>\n",
       "      <td>11.542397</td>\n",
       "    </tr>\n",
       "    <tr>\n",
       "      <th>7</th>\n",
       "      <td>90622</td>\n",
       "      <td>6.214491</td>\n",
       "    </tr>\n",
       "    <tr>\n",
       "      <th>8</th>\n",
       "      <td>90623</td>\n",
       "      <td>8.019043</td>\n",
       "    </tr>\n",
       "    <tr>\n",
       "      <th>9</th>\n",
       "      <td>90624</td>\n",
       "      <td>11.368112</td>\n",
       "    </tr>\n",
       "  </tbody>\n",
       "</table>\n",
       "</div>"
      ],
      "text/plain": [
       "      id      Rings\n",
       "0  90615   9.895424\n",
       "1  90616   9.749944\n",
       "2  90617  10.328940\n",
       "3  90618  10.523298\n",
       "4  90619   7.605101\n",
       "5  90620   9.468702\n",
       "6  90621  11.542397\n",
       "7  90622   6.214491\n",
       "8  90623   8.019043\n",
       "9  90624  11.368112"
      ]
     },
     "execution_count": 38,
     "metadata": {},
     "output_type": "execute_result"
    }
   ],
   "source": [
    "submission = pd.DataFrame({\n",
    "    'id': sample_submission.id,\n",
    "    'Rings': y_pred_test\n",
    "})\n",
    "\n",
    "submission.to_csv('Kapturov_S4E4_submission.csv', index=False)\n",
    "submission.head(10)"
   ]
  },
  {
   "cell_type": "markdown",
   "id": "01dc008d",
   "metadata": {
    "papermill": {
     "duration": 0.033559,
     "end_time": "2024-04-04T16:59:12.735239",
     "exception": false,
     "start_time": "2024-04-04T16:59:12.701680",
     "status": "completed"
    },
    "tags": []
   },
   "source": [
    "<a id='18'></a>\n",
    "# <span style=\"color: #3EB489; border-bottom: 6px solid  #20603D; background-color: #fadb8c;\">🍥 Save the model into pickle file</span>"
   ]
  },
  {
   "cell_type": "code",
   "execution_count": 39,
   "id": "f0d89808",
   "metadata": {
    "execution": {
     "iopub.execute_input": "2024-04-04T16:59:12.802474Z",
     "iopub.status.busy": "2024-04-04T16:59:12.801853Z",
     "iopub.status.idle": "2024-04-04T16:59:12.956640Z",
     "shell.execute_reply": "2024-04-04T16:59:12.955735Z"
    },
    "papermill": {
     "duration": 0.190209,
     "end_time": "2024-04-04T16:59:12.959027",
     "exception": false,
     "start_time": "2024-04-04T16:59:12.768818",
     "status": "completed"
    },
    "tags": []
   },
   "outputs": [],
   "source": [
    "pickle.dump(stacking_model, open(\"Kapturov_stacking_model.pkl\", \"wb\"))"
   ]
  },
  {
   "cell_type": "markdown",
   "id": "dde8e198",
   "metadata": {
    "papermill": {
     "duration": 0.031944,
     "end_time": "2024-04-04T16:59:13.021842",
     "exception": false,
     "start_time": "2024-04-04T16:59:12.989898",
     "status": "completed"
    },
    "tags": []
   },
   "source": [
    "![](https://upload.wikimedia.org/wikipedia/commons/thumb/b/bc/Abalone_at_California_Academy_of_Sciences.JPG/1200px-Abalone_at_California_Academy_of_Sciences.JPG)"
   ]
  },
  {
   "cell_type": "markdown",
   "id": "242d4c79",
   "metadata": {
    "papermill": {
     "duration": 0.03155,
     "end_time": "2024-04-04T16:59:13.085597",
     "exception": false,
     "start_time": "2024-04-04T16:59:13.054047",
     "status": "completed"
    },
    "tags": []
   },
   "source": [
    "# <span style=\"color: #3EB489; border-bottom: 6px solid  #20603D; background-color: #fadb8c;\">😀 Hope You are feeling great!"
   ]
  }
 ],
 "metadata": {
  "kaggle": {
   "accelerator": "none",
   "dataSources": [
    {
     "databundleVersionId": 8096274,
     "sourceId": 72489,
     "sourceType": "competition"
    },
    {
     "datasetId": 4705962,
     "sourceId": 8013090,
     "sourceType": "datasetVersion"
    }
   ],
   "dockerImageVersionId": 30673,
   "isGpuEnabled": false,
   "isInternetEnabled": true,
   "language": "python",
   "sourceType": "notebook"
  },
  "kernelspec": {
   "display_name": "Python 3",
   "language": "python",
   "name": "python3"
  },
  "language_info": {
   "codemirror_mode": {
    "name": "ipython",
    "version": 3
   },
   "file_extension": ".py",
   "mimetype": "text/x-python",
   "name": "python",
   "nbconvert_exporter": "python",
   "pygments_lexer": "ipython3",
   "version": "3.10.13"
  },
  "papermill": {
   "default_parameters": {},
   "duration": 902.245932,
   "end_time": "2024-04-04T16:59:13.839684",
   "environment_variables": {},
   "exception": null,
   "input_path": "__notebook__.ipynb",
   "output_path": "__notebook__.ipynb",
   "parameters": {},
   "start_time": "2024-04-04T16:44:11.593752",
   "version": "2.5.0"
  }
 },
 "nbformat": 4,
 "nbformat_minor": 5
}
