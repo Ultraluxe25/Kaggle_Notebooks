{
 "cells": [
  {
   "cell_type": "markdown",
   "id": "4d8a7822",
   "metadata": {
    "papermill": {
     "duration": 0.018544,
     "end_time": "2024-04-01T04:17:59.113353",
     "exception": false,
     "start_time": "2024-04-01T04:17:59.094809",
     "status": "completed"
    },
    "tags": []
   },
   "source": [
    "![](https://cdn.shopify.com/s/files/1/0528/8266/9745/files/aa9ba33a428bcfb93a45b4a44e5019d3.jpg?v=1676085807)"
   ]
  },
  {
   "cell_type": "code",
   "execution_count": 1,
   "id": "7ab4daa6",
   "metadata": {
    "_cell_guid": "b1076dfc-b9ad-4769-8c92-a6c4dae69d19",
    "_kg_hide-input": true,
    "_kg_hide-output": true,
    "_uuid": "8f2839f25d086af736a60e9eeb907d3b93b6e0e5",
    "execution": {
     "iopub.execute_input": "2024-04-01T04:17:59.151015Z",
     "iopub.status.busy": "2024-04-01T04:17:59.150219Z",
     "iopub.status.idle": "2024-04-01T04:17:59.971126Z",
     "shell.execute_reply": "2024-04-01T04:17:59.970053Z"
    },
    "papermill": {
     "duration": 0.842246,
     "end_time": "2024-04-01T04:17:59.973177",
     "exception": false,
     "start_time": "2024-04-01T04:17:59.130931",
     "status": "completed"
    },
    "tags": []
   },
   "outputs": [
    {
     "name": "stdout",
     "output_type": "stream",
     "text": [
      "/kaggle/input/ps-4-e-2-abalone-dataset-from-uci/abalone.names\n",
      "/kaggle/input/ps-4-e-2-abalone-dataset-from-uci/Index\n",
      "/kaggle/input/ps-4-e-2-abalone-dataset-from-uci/abalone.data\n",
      "/kaggle/input/playground-series-s4e4/sample_submission.csv\n",
      "/kaggle/input/playground-series-s4e4/train.csv\n",
      "/kaggle/input/playground-series-s4e4/test.csv\n"
     ]
    }
   ],
   "source": [
    "# This Python 3 environment comes with many helpful analytics libraries installed\n",
    "# It is defined by the kaggle/python Docker image: https://github.com/kaggle/docker-python\n",
    "# For example, here's several helpful packages to load\n",
    "\n",
    "import numpy as np # linear algebra\n",
    "import pandas as pd # data processing, CSV file I/O (e.g. pd.read_csv)\n",
    "\n",
    "# Input data files are available in the read-only \"../input/\" directory\n",
    "# For example, running this (by clicking run or pressing Shift+Enter) will list all files under the input directory\n",
    "\n",
    "import os\n",
    "for dirname, _, filenames in os.walk('/kaggle/input'):\n",
    "    for filename in filenames:\n",
    "        print(os.path.join(dirname, filename))\n",
    "\n",
    "# You can write up to 20GB to the current directory (/kaggle/working/) that gets preserved as output when you create a version using \"Save & Run All\" \n",
    "# You can also write temporary files to /kaggle/temp/, but they won't be saved outside of the current session"
   ]
  },
  {
   "cell_type": "markdown",
   "id": "611a8e78",
   "metadata": {
    "papermill": {
     "duration": 0.017537,
     "end_time": "2024-04-01T04:18:00.009581",
     "exception": false,
     "start_time": "2024-04-01T04:17:59.992044",
     "status": "completed"
    },
    "tags": []
   },
   "source": [
    "## **Your Goal**: Predict the age of abalone from various physical measurements."
   ]
  },
  {
   "cell_type": "markdown",
   "id": "82cfed1b",
   "metadata": {
    "papermill": {
     "duration": 0.017969,
     "end_time": "2024-04-01T04:18:00.046010",
     "exception": false,
     "start_time": "2024-04-01T04:18:00.028041",
     "status": "completed"
    },
    "tags": []
   },
   "source": [
    "- <font face=\"Bahnschrift Condensed\" style=\"font-size: 14pt; color: #3EB489\">\n",
    "Predicting the age of abalone from physical measurements. The age of\n",
    "abalone is determined by cutting the shell through the cone, staining it,\n",
    "and counting the number of rings through a microscope -- a boring and\n",
    "time-consuming task.  Other measurements, which are easier to obtain, are\n",
    "used to predict the age.  Further information, such as weather patterns\n",
    "and location (hence food availability) may be required to solve the problem.\n",
    "</font>\n",
    "  \n",
    "  \n",
    "- <font face=\"Bahnschrift Condensed\" style=\"font-size: 14pt; color: #3EB489\">\n",
    "From the original data examples with missing values were removed (the\n",
    "majority having the predicted value missing), and the ranges of the\n",
    "continuous values have been scaled for use with an ANN (by dividing by 200).\n",
    "</font>"
   ]
  },
  {
   "cell_type": "markdown",
   "id": "de41878f",
   "metadata": {
    "papermill": {
     "duration": 0.017425,
     "end_time": "2024-04-01T04:18:00.081462",
     "exception": false,
     "start_time": "2024-04-01T04:18:00.064037",
     "status": "completed"
    },
    "tags": []
   },
   "source": [
    "![](https://www.kaggle.com/competitions/72489/images/header)"
   ]
  },
  {
   "cell_type": "markdown",
   "id": "e4c57a14",
   "metadata": {
    "papermill": {
     "duration": 0.017801,
     "end_time": "2024-04-01T04:18:00.116809",
     "exception": false,
     "start_time": "2024-04-01T04:18:00.099008",
     "status": "completed"
    },
    "tags": []
   },
   "source": [
    "## <font face=\"Bahnschrift Condensed\" style=\"font-size: 14pt; color: #3EB489\">Abalone Dataset Description</font>\n",
    "\n",
    "**<span style=\"color: orange;\">Sex:** Represents the gender of the abalone, categorized as male (M), female (F), or infant (I).\n",
    "  \n",
    "**<span style=\"color: orange;\">Length:** Denotes the longest measurement of the abalone shell, from the apex to the base, measured in millimeters.\n",
    "  \n",
    "**<span style=\"color: orange;\">Diameter:** Represents the measurement of the abalone shell perpendicular to its length, also measured in millimeters.\n",
    "  \n",
    "**<span style=\"color: orange;\">Height:** Signifies the height of the abalone shell, measured perpendicular to the plane formed by the length and diameter, in millimeters.\n",
    "  \n",
    "**<span style=\"color: orange;\">Whole Weight:** Indicates the total weight of the abalone, encompassing both the meat and the shell, measured in grams.\n",
    "  \n",
    "**<span style=\"color: orange;\">Shucked Weight:** Represents the weight of the abalone meat only, measured in grams. It indicates the amount of meat extracted from the shell.\n",
    "  \n",
    "**<span style=\"color: orange;\">Viscera Weight:** Signifies the weight of the abalone gut after bleeding, measured in grams. It provides insights into the weight of the internal organs of the abalone.\n",
    "  \n",
    "**<span style=\"color: orange;\">Shell Weight:** Represents the weight of the abalone shell only, excluding the meat, measured in grams. It provides insights into the weight distribution between the shell and the edible portion of the abalone.\n",
    "  \n",
    "**<span style=\"color: orange;\">Rings:** Signifies the number of rings present on the abalone shell, serving as an indicator of the abalone's age."
   ]
  },
  {
   "cell_type": "markdown",
   "id": "35601790",
   "metadata": {
    "papermill": {
     "duration": 0.017599,
     "end_time": "2024-04-01T04:18:00.152255",
     "exception": false,
     "start_time": "2024-04-01T04:18:00.134656",
     "status": "completed"
    },
    "tags": []
   },
   "source": [
    "# <span style=\"background-image: url(https://www.kaggle.com/competitions/72489/images/header); color: white; font-size: 50px;\">Table of Contents</span>\n",
    "\n",
    "- [Import libraries](#1)\n",
    "- [Open data files](#2)\n",
    "- [Show first 5 lines of train data](#3)\n",
    "- [Compare original train and competition train](#3.1)\n",
    "- [Concatenate original train with competition train](#3.2)\n",
    "- [Shapes of train and test data](#4)\n",
    "- [Display descriptive statistics of train data](#5)\n",
    "- [Check the number of gaps for each feature](#6)\n",
    "- [Figure out how much duplicates in data](#7.1)\n",
    "- [Remove duplicates from data](#7.2)\n",
    "- [One-hot encoding](#7.3)\n",
    "- [More plots](#7.4)\n",
    "- [Display histograms of distribution](#8)\n",
    "- [Let's count target of train data](#9)\n",
    "- [Transform the data with log1p](#10)\n",
    "- [Feature importance](#10.2)\n",
    "- [Build a heat map of correlations](#11)\n",
    "- [Define base models with tuned hyperparameters](#12)\n",
    "- [Defining the meta-model with tuned hyperparameters](#13)\n",
    "- [Creating and fitting the stacking model](#14)\n",
    "- [Predict validation set and calculate metrics score](#15)\n",
    "- [Predict the test data](#16)\n",
    "- [Build DataFrame and make submission](#17)\n",
    "- [Save the model into pickle file](#18)"
   ]
  },
  {
   "cell_type": "markdown",
   "id": "43b4de58",
   "metadata": {
    "papermill": {
     "duration": 0.01704,
     "end_time": "2024-04-01T04:18:00.186323",
     "exception": false,
     "start_time": "2024-04-01T04:18:00.169283",
     "status": "completed"
    },
    "tags": []
   },
   "source": [
    "<a id='1'></a>\n",
    "# <span style=\"color: #3EB489; border-bottom: 6px solid  #20603D; background-color: #fadb8c;\">🌊 Import libraries</span>"
   ]
  },
  {
   "cell_type": "code",
   "execution_count": 2,
   "id": "34fc6272",
   "metadata": {
    "execution": {
     "iopub.execute_input": "2024-04-01T04:18:00.224163Z",
     "iopub.status.busy": "2024-04-01T04:18:00.223353Z",
     "iopub.status.idle": "2024-04-01T04:18:03.558241Z",
     "shell.execute_reply": "2024-04-01T04:18:03.557371Z"
    },
    "papermill": {
     "duration": 3.356193,
     "end_time": "2024-04-01T04:18:03.560646",
     "exception": false,
     "start_time": "2024-04-01T04:18:00.204453",
     "status": "completed"
    },
    "tags": []
   },
   "outputs": [],
   "source": [
    "import numpy as np\n",
    "import pandas as pd\n",
    "import matplotlib.pyplot as plt\n",
    "import seaborn as sns\n",
    "import optuna\n",
    "from optuna.samplers import TPESampler\n",
    "import pickle\n",
    "from IPython.core.display import HTML\n",
    "from sklearn.model_selection import train_test_split, cross_val_score, cross_val_predict\n",
    "from sklearn.ensemble import RandomForestRegressor\n",
    "from sklearn.ensemble import StackingRegressor\n",
    "from xgboost import XGBRegressor\n",
    "from catboost import CatBoostRegressor\n",
    "from lightgbm import LGBMRegressor\n",
    "from sklearn.metrics import mean_squared_log_error"
   ]
  },
  {
   "cell_type": "markdown",
   "id": "dab21d37",
   "metadata": {
    "papermill": {
     "duration": 0.01775,
     "end_time": "2024-04-01T04:18:03.597458",
     "exception": false,
     "start_time": "2024-04-01T04:18:03.579708",
     "status": "completed"
    },
    "tags": []
   },
   "source": [
    "![](data:image/jpeg;base64,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)"
   ]
  },
  {
   "cell_type": "markdown",
   "id": "999d9be8",
   "metadata": {
    "papermill": {
     "duration": 0.020963,
     "end_time": "2024-04-01T04:18:03.640794",
     "exception": false,
     "start_time": "2024-04-01T04:18:03.619831",
     "status": "completed"
    },
    "tags": []
   },
   "source": [
    "<a id='2'></a>\n",
    "# <span style=\"color: #3EB489; border-bottom: 6px solid  #20603D; background-color: #fadb8c;\">🐚 Open data files</span>"
   ]
  },
  {
   "cell_type": "code",
   "execution_count": 3,
   "id": "cb05c1b4",
   "metadata": {
    "execution": {
     "iopub.execute_input": "2024-04-01T04:18:03.689058Z",
     "iopub.status.busy": "2024-04-01T04:18:03.688170Z",
     "iopub.status.idle": "2024-04-01T04:18:04.045733Z",
     "shell.execute_reply": "2024-04-01T04:18:04.044787Z"
    },
    "papermill": {
     "duration": 0.383928,
     "end_time": "2024-04-01T04:18:04.048659",
     "exception": false,
     "start_time": "2024-04-01T04:18:03.664731",
     "status": "completed"
    },
    "tags": []
   },
   "outputs": [],
   "source": [
    "original_train = pd.read_csv('/kaggle/input/ps-4-e-2-abalone-dataset-from-uci/abalone.data')\n",
    "\n",
    "train = pd.read_csv('/kaggle/input/playground-series-s4e4/train.csv')\n",
    "test = pd.read_csv('/kaggle/input/playground-series-s4e4/test.csv')\n",
    "sample_submission = pd.read_csv('/kaggle/input/playground-series-s4e4/sample_submission.csv')"
   ]
  },
  {
   "cell_type": "markdown",
   "id": "8afe5275",
   "metadata": {
    "papermill": {
     "duration": 0.017328,
     "end_time": "2024-04-01T04:18:04.085412",
     "exception": false,
     "start_time": "2024-04-01T04:18:04.068084",
     "status": "completed"
    },
    "tags": []
   },
   "source": [
    "<a id='3'></a>\n",
    "# <span style=\"color: #3EB489; border-bottom: 6px solid  #20603D; background-color: #fadb8c;\">⛵ Show first 5 lines of train data</span>"
   ]
  },
  {
   "cell_type": "code",
   "execution_count": 4,
   "id": "dc59cc60",
   "metadata": {
    "execution": {
     "iopub.execute_input": "2024-04-01T04:18:04.123929Z",
     "iopub.status.busy": "2024-04-01T04:18:04.123568Z",
     "iopub.status.idle": "2024-04-01T04:18:04.147080Z",
     "shell.execute_reply": "2024-04-01T04:18:04.146148Z"
    },
    "papermill": {
     "duration": 0.044341,
     "end_time": "2024-04-01T04:18:04.149438",
     "exception": false,
     "start_time": "2024-04-01T04:18:04.105097",
     "status": "completed"
    },
    "tags": []
   },
   "outputs": [
    {
     "data": {
      "text/html": [
       "<div>\n",
       "<style scoped>\n",
       "    .dataframe tbody tr th:only-of-type {\n",
       "        vertical-align: middle;\n",
       "    }\n",
       "\n",
       "    .dataframe tbody tr th {\n",
       "        vertical-align: top;\n",
       "    }\n",
       "\n",
       "    .dataframe thead th {\n",
       "        text-align: right;\n",
       "    }\n",
       "</style>\n",
       "<table border=\"1\" class=\"dataframe\">\n",
       "  <thead>\n",
       "    <tr style=\"text-align: right;\">\n",
       "      <th></th>\n",
       "      <th>id</th>\n",
       "      <th>Sex</th>\n",
       "      <th>Length</th>\n",
       "      <th>Diameter</th>\n",
       "      <th>Height</th>\n",
       "      <th>Whole weight</th>\n",
       "      <th>Whole weight.1</th>\n",
       "      <th>Whole weight.2</th>\n",
       "      <th>Shell weight</th>\n",
       "      <th>Rings</th>\n",
       "    </tr>\n",
       "  </thead>\n",
       "  <tbody>\n",
       "    <tr>\n",
       "      <th>0</th>\n",
       "      <td>0</td>\n",
       "      <td>F</td>\n",
       "      <td>0.550</td>\n",
       "      <td>0.430</td>\n",
       "      <td>0.150</td>\n",
       "      <td>0.7715</td>\n",
       "      <td>0.3285</td>\n",
       "      <td>0.1465</td>\n",
       "      <td>0.2400</td>\n",
       "      <td>11</td>\n",
       "    </tr>\n",
       "    <tr>\n",
       "      <th>1</th>\n",
       "      <td>1</td>\n",
       "      <td>F</td>\n",
       "      <td>0.630</td>\n",
       "      <td>0.490</td>\n",
       "      <td>0.145</td>\n",
       "      <td>1.1300</td>\n",
       "      <td>0.4580</td>\n",
       "      <td>0.2765</td>\n",
       "      <td>0.3200</td>\n",
       "      <td>11</td>\n",
       "    </tr>\n",
       "    <tr>\n",
       "      <th>2</th>\n",
       "      <td>2</td>\n",
       "      <td>I</td>\n",
       "      <td>0.160</td>\n",
       "      <td>0.110</td>\n",
       "      <td>0.025</td>\n",
       "      <td>0.0210</td>\n",
       "      <td>0.0055</td>\n",
       "      <td>0.0030</td>\n",
       "      <td>0.0050</td>\n",
       "      <td>6</td>\n",
       "    </tr>\n",
       "    <tr>\n",
       "      <th>3</th>\n",
       "      <td>3</td>\n",
       "      <td>M</td>\n",
       "      <td>0.595</td>\n",
       "      <td>0.475</td>\n",
       "      <td>0.150</td>\n",
       "      <td>0.9145</td>\n",
       "      <td>0.3755</td>\n",
       "      <td>0.2055</td>\n",
       "      <td>0.2500</td>\n",
       "      <td>10</td>\n",
       "    </tr>\n",
       "    <tr>\n",
       "      <th>4</th>\n",
       "      <td>4</td>\n",
       "      <td>I</td>\n",
       "      <td>0.555</td>\n",
       "      <td>0.425</td>\n",
       "      <td>0.130</td>\n",
       "      <td>0.7820</td>\n",
       "      <td>0.3695</td>\n",
       "      <td>0.1600</td>\n",
       "      <td>0.1975</td>\n",
       "      <td>9</td>\n",
       "    </tr>\n",
       "  </tbody>\n",
       "</table>\n",
       "</div>"
      ],
      "text/plain": [
       "   id Sex  Length  Diameter  Height  Whole weight  Whole weight.1  \\\n",
       "0   0   F   0.550     0.430   0.150        0.7715          0.3285   \n",
       "1   1   F   0.630     0.490   0.145        1.1300          0.4580   \n",
       "2   2   I   0.160     0.110   0.025        0.0210          0.0055   \n",
       "3   3   M   0.595     0.475   0.150        0.9145          0.3755   \n",
       "4   4   I   0.555     0.425   0.130        0.7820          0.3695   \n",
       "\n",
       "   Whole weight.2  Shell weight  Rings  \n",
       "0          0.1465        0.2400     11  \n",
       "1          0.2765        0.3200     11  \n",
       "2          0.0030        0.0050      6  \n",
       "3          0.2055        0.2500     10  \n",
       "4          0.1600        0.1975      9  "
      ]
     },
     "execution_count": 4,
     "metadata": {},
     "output_type": "execute_result"
    }
   ],
   "source": [
    "# Show all properties on display\n",
    "pd.set_option('display.max_columns', None)\n",
    "\n",
    "train.head()"
   ]
  },
  {
   "cell_type": "code",
   "execution_count": 5,
   "id": "6d57b587",
   "metadata": {
    "execution": {
     "iopub.execute_input": "2024-04-01T04:18:04.185908Z",
     "iopub.status.busy": "2024-04-01T04:18:04.184841Z",
     "iopub.status.idle": "2024-04-01T04:18:04.199510Z",
     "shell.execute_reply": "2024-04-01T04:18:04.198597Z"
    },
    "papermill": {
     "duration": 0.034906,
     "end_time": "2024-04-01T04:18:04.201443",
     "exception": false,
     "start_time": "2024-04-01T04:18:04.166537",
     "status": "completed"
    },
    "tags": []
   },
   "outputs": [
    {
     "data": {
      "text/html": [
       "<div>\n",
       "<style scoped>\n",
       "    .dataframe tbody tr th:only-of-type {\n",
       "        vertical-align: middle;\n",
       "    }\n",
       "\n",
       "    .dataframe tbody tr th {\n",
       "        vertical-align: top;\n",
       "    }\n",
       "\n",
       "    .dataframe thead th {\n",
       "        text-align: right;\n",
       "    }\n",
       "</style>\n",
       "<table border=\"1\" class=\"dataframe\">\n",
       "  <thead>\n",
       "    <tr style=\"text-align: right;\">\n",
       "      <th></th>\n",
       "      <th>id</th>\n",
       "      <th>Sex</th>\n",
       "      <th>Length</th>\n",
       "      <th>Diameter</th>\n",
       "      <th>Height</th>\n",
       "      <th>Whole weight</th>\n",
       "      <th>Whole weight.1</th>\n",
       "      <th>Whole weight.2</th>\n",
       "      <th>Shell weight</th>\n",
       "    </tr>\n",
       "  </thead>\n",
       "  <tbody>\n",
       "    <tr>\n",
       "      <th>0</th>\n",
       "      <td>90615</td>\n",
       "      <td>M</td>\n",
       "      <td>0.645</td>\n",
       "      <td>0.475</td>\n",
       "      <td>0.155</td>\n",
       "      <td>1.2380</td>\n",
       "      <td>0.6185</td>\n",
       "      <td>0.3125</td>\n",
       "      <td>0.3005</td>\n",
       "    </tr>\n",
       "    <tr>\n",
       "      <th>1</th>\n",
       "      <td>90616</td>\n",
       "      <td>M</td>\n",
       "      <td>0.580</td>\n",
       "      <td>0.460</td>\n",
       "      <td>0.160</td>\n",
       "      <td>0.9830</td>\n",
       "      <td>0.4785</td>\n",
       "      <td>0.2195</td>\n",
       "      <td>0.2750</td>\n",
       "    </tr>\n",
       "    <tr>\n",
       "      <th>2</th>\n",
       "      <td>90617</td>\n",
       "      <td>M</td>\n",
       "      <td>0.560</td>\n",
       "      <td>0.420</td>\n",
       "      <td>0.140</td>\n",
       "      <td>0.8395</td>\n",
       "      <td>0.3525</td>\n",
       "      <td>0.1845</td>\n",
       "      <td>0.2405</td>\n",
       "    </tr>\n",
       "    <tr>\n",
       "      <th>3</th>\n",
       "      <td>90618</td>\n",
       "      <td>M</td>\n",
       "      <td>0.570</td>\n",
       "      <td>0.490</td>\n",
       "      <td>0.145</td>\n",
       "      <td>0.8740</td>\n",
       "      <td>0.3525</td>\n",
       "      <td>0.1865</td>\n",
       "      <td>0.2350</td>\n",
       "    </tr>\n",
       "    <tr>\n",
       "      <th>4</th>\n",
       "      <td>90619</td>\n",
       "      <td>I</td>\n",
       "      <td>0.415</td>\n",
       "      <td>0.325</td>\n",
       "      <td>0.110</td>\n",
       "      <td>0.3580</td>\n",
       "      <td>0.1575</td>\n",
       "      <td>0.0670</td>\n",
       "      <td>0.1050</td>\n",
       "    </tr>\n",
       "  </tbody>\n",
       "</table>\n",
       "</div>"
      ],
      "text/plain": [
       "      id Sex  Length  Diameter  Height  Whole weight  Whole weight.1  \\\n",
       "0  90615   M   0.645     0.475   0.155        1.2380          0.6185   \n",
       "1  90616   M   0.580     0.460   0.160        0.9830          0.4785   \n",
       "2  90617   M   0.560     0.420   0.140        0.8395          0.3525   \n",
       "3  90618   M   0.570     0.490   0.145        0.8740          0.3525   \n",
       "4  90619   I   0.415     0.325   0.110        0.3580          0.1575   \n",
       "\n",
       "   Whole weight.2  Shell weight  \n",
       "0          0.3125        0.3005  \n",
       "1          0.2195        0.2750  \n",
       "2          0.1845        0.2405  \n",
       "3          0.1865        0.2350  \n",
       "4          0.0670        0.1050  "
      ]
     },
     "execution_count": 5,
     "metadata": {},
     "output_type": "execute_result"
    }
   ],
   "source": [
    "test.head()"
   ]
  },
  {
   "cell_type": "markdown",
   "id": "9ff756bd",
   "metadata": {
    "papermill": {
     "duration": 0.017813,
     "end_time": "2024-04-01T04:18:04.237001",
     "exception": false,
     "start_time": "2024-04-01T04:18:04.219188",
     "status": "completed"
    },
    "tags": []
   },
   "source": [
    "### Target feature is 'Rings'"
   ]
  },
  {
   "cell_type": "markdown",
   "id": "ab967509",
   "metadata": {
    "papermill": {
     "duration": 0.018099,
     "end_time": "2024-04-01T04:18:04.272986",
     "exception": false,
     "start_time": "2024-04-01T04:18:04.254887",
     "status": "completed"
    },
    "tags": []
   },
   "source": [
    "<a id='3.1'></a>\n",
    "# <span style=\"color: #3EB489; border-bottom: 6px solid  #20603D; background-color: #fadb8c;\">🍤 Compare original train and competition train</span>"
   ]
  },
  {
   "cell_type": "code",
   "execution_count": 6,
   "id": "034cfd3c",
   "metadata": {
    "execution": {
     "iopub.execute_input": "2024-04-01T04:18:04.310840Z",
     "iopub.status.busy": "2024-04-01T04:18:04.310495Z",
     "iopub.status.idle": "2024-04-01T04:18:04.317037Z",
     "shell.execute_reply": "2024-04-01T04:18:04.316367Z"
    },
    "papermill": {
     "duration": 0.028017,
     "end_time": "2024-04-01T04:18:04.318909",
     "exception": false,
     "start_time": "2024-04-01T04:18:04.290892",
     "status": "completed"
    },
    "tags": []
   },
   "outputs": [
    {
     "name": "stdout",
     "output_type": "stream",
     "text": [
      "(4176, 9)\n"
     ]
    },
    {
     "data": {
      "text/plain": [
       "['M', '0.455', '0.365', '0.095', '0.514', '0.2245', '0.101', '0.15', '15']"
      ]
     },
     "execution_count": 6,
     "metadata": {},
     "output_type": "execute_result"
    }
   ],
   "source": [
    "print(original_train.shape)\n",
    "original_train.columns.tolist()"
   ]
  },
  {
   "cell_type": "markdown",
   "id": "a0a87aff",
   "metadata": {
    "papermill": {
     "duration": 0.017985,
     "end_time": "2024-04-01T04:18:04.355065",
     "exception": false,
     "start_time": "2024-04-01T04:18:04.337080",
     "status": "completed"
    },
    "tags": []
   },
   "source": [
    "### In original data there is no columns in file .data"
   ]
  },
  {
   "cell_type": "code",
   "execution_count": 7,
   "id": "16fbe6f9",
   "metadata": {
    "execution": {
     "iopub.execute_input": "2024-04-01T04:18:04.392457Z",
     "iopub.status.busy": "2024-04-01T04:18:04.391779Z",
     "iopub.status.idle": "2024-04-01T04:18:04.399291Z",
     "shell.execute_reply": "2024-04-01T04:18:04.398249Z"
    },
    "papermill": {
     "duration": 0.028686,
     "end_time": "2024-04-01T04:18:04.401487",
     "exception": false,
     "start_time": "2024-04-01T04:18:04.372801",
     "status": "completed"
    },
    "tags": []
   },
   "outputs": [
    {
     "name": "stdout",
     "output_type": "stream",
     "text": [
      "(90615, 10)\n"
     ]
    },
    {
     "data": {
      "text/plain": [
       "['id',\n",
       " 'Sex',\n",
       " 'Length',\n",
       " 'Diameter',\n",
       " 'Height',\n",
       " 'Whole weight',\n",
       " 'Whole weight.1',\n",
       " 'Whole weight.2',\n",
       " 'Shell weight',\n",
       " 'Rings']"
      ]
     },
     "execution_count": 7,
     "metadata": {},
     "output_type": "execute_result"
    }
   ],
   "source": [
    "print(train.shape)\n",
    "train.columns.tolist()"
   ]
  },
  {
   "cell_type": "markdown",
   "id": "2fbc6011",
   "metadata": {
    "papermill": {
     "duration": 0.018565,
     "end_time": "2024-04-01T04:18:04.438625",
     "exception": false,
     "start_time": "2024-04-01T04:18:04.420060",
     "status": "completed"
    },
    "tags": []
   },
   "source": [
    "<a id='4'></a>\n",
    "# <span style=\"color: #3EB489; border-bottom: 6px solid  #20603D; background-color: #fadb8c;\">🐟 Shapes of train and test data</span>"
   ]
  },
  {
   "cell_type": "code",
   "execution_count": 8,
   "id": "905d6e03",
   "metadata": {
    "execution": {
     "iopub.execute_input": "2024-04-01T04:18:04.527587Z",
     "iopub.status.busy": "2024-04-01T04:18:04.526567Z",
     "iopub.status.idle": "2024-04-01T04:18:04.533892Z",
     "shell.execute_reply": "2024-04-01T04:18:04.532807Z"
    },
    "papermill": {
     "duration": 0.078395,
     "end_time": "2024-04-01T04:18:04.535876",
     "exception": false,
     "start_time": "2024-04-01T04:18:04.457481",
     "status": "completed"
    },
    "tags": []
   },
   "outputs": [
    {
     "name": "stdout",
     "output_type": "stream",
     "text": [
      "Train data: (90615, 10)\n",
      "Test data: (60411, 9)\n",
      "\n",
      "Train data consists of 60.0% of all observations\n",
      "Test data consists of 40.0% of all observations\n"
     ]
    }
   ],
   "source": [
    "print(f'Train data: {train.shape}')\n",
    "print(f'Test data: {test.shape}\\n')\n",
    "\n",
    "train_data_percentage = np.round(train.shape[0] / (train.shape[0] + test.shape[0]), 4)\n",
    "print(f'Train data consists of {train_data_percentage * 100}% of all observations')\n",
    "print(f'Test data consists of {(1 - train_data_percentage) * 100}% of all observations')"
   ]
  },
  {
   "cell_type": "markdown",
   "id": "ddeceb32",
   "metadata": {
    "papermill": {
     "duration": 0.018435,
     "end_time": "2024-04-01T04:18:04.572947",
     "exception": false,
     "start_time": "2024-04-01T04:18:04.554512",
     "status": "completed"
    },
    "tags": []
   },
   "source": [
    "![](https://www.altnaturals.com/cdn/shop/products/All-AbaloneSizes-Small_1500x411.jpg?v=1637679377)"
   ]
  },
  {
   "cell_type": "markdown",
   "id": "97094326",
   "metadata": {
    "papermill": {
     "duration": 0.018116,
     "end_time": "2024-04-01T04:18:04.609396",
     "exception": false,
     "start_time": "2024-04-01T04:18:04.591280",
     "status": "completed"
    },
    "tags": []
   },
   "source": [
    "<a id='5'></a>\n",
    "# <span style=\"color: #3EB489; border-bottom: 6px solid  #20603D; background-color: #fadb8c;\">🐠 Display descriptive statistics of train data</span>"
   ]
  },
  {
   "cell_type": "code",
   "execution_count": 9,
   "id": "1c30f80e",
   "metadata": {
    "execution": {
     "iopub.execute_input": "2024-04-01T04:18:04.646978Z",
     "iopub.status.busy": "2024-04-01T04:18:04.646527Z",
     "iopub.status.idle": "2024-04-01T04:18:04.726546Z",
     "shell.execute_reply": "2024-04-01T04:18:04.725446Z"
    },
    "papermill": {
     "duration": 0.107507,
     "end_time": "2024-04-01T04:18:04.734749",
     "exception": false,
     "start_time": "2024-04-01T04:18:04.627242",
     "status": "completed"
    },
    "tags": []
   },
   "outputs": [
    {
     "data": {
      "text/html": [
       "<div>\n",
       "<style scoped>\n",
       "    .dataframe tbody tr th:only-of-type {\n",
       "        vertical-align: middle;\n",
       "    }\n",
       "\n",
       "    .dataframe tbody tr th {\n",
       "        vertical-align: top;\n",
       "    }\n",
       "\n",
       "    .dataframe thead th {\n",
       "        text-align: right;\n",
       "    }\n",
       "</style>\n",
       "<table border=\"1\" class=\"dataframe\">\n",
       "  <thead>\n",
       "    <tr style=\"text-align: right;\">\n",
       "      <th></th>\n",
       "      <th>count</th>\n",
       "      <th>mean</th>\n",
       "      <th>std</th>\n",
       "      <th>min</th>\n",
       "      <th>25%</th>\n",
       "      <th>50%</th>\n",
       "      <th>75%</th>\n",
       "      <th>max</th>\n",
       "    </tr>\n",
       "  </thead>\n",
       "  <tbody>\n",
       "    <tr>\n",
       "      <th>id</th>\n",
       "      <td>90615.0</td>\n",
       "      <td>45307.000000</td>\n",
       "      <td>26158.441658</td>\n",
       "      <td>0.0000</td>\n",
       "      <td>22653.5000</td>\n",
       "      <td>45307.0000</td>\n",
       "      <td>67960.5000</td>\n",
       "      <td>90614.0000</td>\n",
       "    </tr>\n",
       "    <tr>\n",
       "      <th>Length</th>\n",
       "      <td>90615.0</td>\n",
       "      <td>0.517098</td>\n",
       "      <td>0.118217</td>\n",
       "      <td>0.0750</td>\n",
       "      <td>0.4450</td>\n",
       "      <td>0.5450</td>\n",
       "      <td>0.6000</td>\n",
       "      <td>0.8150</td>\n",
       "    </tr>\n",
       "    <tr>\n",
       "      <th>Diameter</th>\n",
       "      <td>90615.0</td>\n",
       "      <td>0.401679</td>\n",
       "      <td>0.098026</td>\n",
       "      <td>0.0550</td>\n",
       "      <td>0.3450</td>\n",
       "      <td>0.4250</td>\n",
       "      <td>0.4700</td>\n",
       "      <td>0.6500</td>\n",
       "    </tr>\n",
       "    <tr>\n",
       "      <th>Height</th>\n",
       "      <td>90615.0</td>\n",
       "      <td>0.135464</td>\n",
       "      <td>0.038008</td>\n",
       "      <td>0.0000</td>\n",
       "      <td>0.1100</td>\n",
       "      <td>0.1400</td>\n",
       "      <td>0.1600</td>\n",
       "      <td>1.1300</td>\n",
       "    </tr>\n",
       "    <tr>\n",
       "      <th>Whole weight</th>\n",
       "      <td>90615.0</td>\n",
       "      <td>0.789035</td>\n",
       "      <td>0.457671</td>\n",
       "      <td>0.0020</td>\n",
       "      <td>0.4190</td>\n",
       "      <td>0.7995</td>\n",
       "      <td>1.0675</td>\n",
       "      <td>2.8255</td>\n",
       "    </tr>\n",
       "    <tr>\n",
       "      <th>Whole weight.1</th>\n",
       "      <td>90615.0</td>\n",
       "      <td>0.340778</td>\n",
       "      <td>0.204428</td>\n",
       "      <td>0.0010</td>\n",
       "      <td>0.1775</td>\n",
       "      <td>0.3300</td>\n",
       "      <td>0.4630</td>\n",
       "      <td>1.4880</td>\n",
       "    </tr>\n",
       "    <tr>\n",
       "      <th>Whole weight.2</th>\n",
       "      <td>90615.0</td>\n",
       "      <td>0.169422</td>\n",
       "      <td>0.100909</td>\n",
       "      <td>0.0005</td>\n",
       "      <td>0.0865</td>\n",
       "      <td>0.1660</td>\n",
       "      <td>0.2325</td>\n",
       "      <td>0.7600</td>\n",
       "    </tr>\n",
       "    <tr>\n",
       "      <th>Shell weight</th>\n",
       "      <td>90615.0</td>\n",
       "      <td>0.225898</td>\n",
       "      <td>0.130203</td>\n",
       "      <td>0.0015</td>\n",
       "      <td>0.1200</td>\n",
       "      <td>0.2250</td>\n",
       "      <td>0.3050</td>\n",
       "      <td>1.0050</td>\n",
       "    </tr>\n",
       "    <tr>\n",
       "      <th>Rings</th>\n",
       "      <td>90615.0</td>\n",
       "      <td>9.696794</td>\n",
       "      <td>3.176221</td>\n",
       "      <td>1.0000</td>\n",
       "      <td>8.0000</td>\n",
       "      <td>9.0000</td>\n",
       "      <td>11.0000</td>\n",
       "      <td>29.0000</td>\n",
       "    </tr>\n",
       "  </tbody>\n",
       "</table>\n",
       "</div>"
      ],
      "text/plain": [
       "                  count          mean           std     min         25%  \\\n",
       "id              90615.0  45307.000000  26158.441658  0.0000  22653.5000   \n",
       "Length          90615.0      0.517098      0.118217  0.0750      0.4450   \n",
       "Diameter        90615.0      0.401679      0.098026  0.0550      0.3450   \n",
       "Height          90615.0      0.135464      0.038008  0.0000      0.1100   \n",
       "Whole weight    90615.0      0.789035      0.457671  0.0020      0.4190   \n",
       "Whole weight.1  90615.0      0.340778      0.204428  0.0010      0.1775   \n",
       "Whole weight.2  90615.0      0.169422      0.100909  0.0005      0.0865   \n",
       "Shell weight    90615.0      0.225898      0.130203  0.0015      0.1200   \n",
       "Rings           90615.0      9.696794      3.176221  1.0000      8.0000   \n",
       "\n",
       "                       50%         75%         max  \n",
       "id              45307.0000  67960.5000  90614.0000  \n",
       "Length              0.5450      0.6000      0.8150  \n",
       "Diameter            0.4250      0.4700      0.6500  \n",
       "Height              0.1400      0.1600      1.1300  \n",
       "Whole weight        0.7995      1.0675      2.8255  \n",
       "Whole weight.1      0.3300      0.4630      1.4880  \n",
       "Whole weight.2      0.1660      0.2325      0.7600  \n",
       "Shell weight        0.2250      0.3050      1.0050  \n",
       "Rings               9.0000     11.0000     29.0000  "
      ]
     },
     "execution_count": 9,
     "metadata": {},
     "output_type": "execute_result"
    }
   ],
   "source": [
    "train.describe().T"
   ]
  },
  {
   "cell_type": "markdown",
   "id": "cd93e75d",
   "metadata": {
    "papermill": {
     "duration": 0.018577,
     "end_time": "2024-04-01T04:18:04.772953",
     "exception": false,
     "start_time": "2024-04-01T04:18:04.754376",
     "status": "completed"
    },
    "tags": []
   },
   "source": [
    "<a id='6'></a>\n",
    "# <span style=\"color: #3EB489; border-bottom: 6px solid  #20603D; background-color: #fadb8c;\">🐡 Check the number of gaps for each feature</span>"
   ]
  },
  {
   "cell_type": "code",
   "execution_count": 10,
   "id": "677de6b8",
   "metadata": {
    "execution": {
     "iopub.execute_input": "2024-04-01T04:18:04.813223Z",
     "iopub.status.busy": "2024-04-01T04:18:04.812804Z",
     "iopub.status.idle": "2024-04-01T04:18:04.837073Z",
     "shell.execute_reply": "2024-04-01T04:18:04.835571Z"
    },
    "papermill": {
     "duration": 0.047539,
     "end_time": "2024-04-01T04:18:04.839242",
     "exception": false,
     "start_time": "2024-04-01T04:18:04.791703",
     "status": "completed"
    },
    "tags": []
   },
   "outputs": [
    {
     "name": "stdout",
     "output_type": "stream",
     "text": [
      "TRAIN data\n",
      "\n",
      "id                0\n",
      "Sex               0\n",
      "Length            0\n",
      "Diameter          0\n",
      "Height            0\n",
      "Whole weight      0\n",
      "Whole weight.1    0\n",
      "Whole weight.2    0\n",
      "Shell weight      0\n",
      "Rings             0\n",
      "dtype: int64\n",
      "\n",
      "\n",
      "\n",
      "TEST data\n",
      "\n",
      "id                0\n",
      "Sex               0\n",
      "Length            0\n",
      "Diameter          0\n",
      "Height            0\n",
      "Whole weight      0\n",
      "Whole weight.1    0\n",
      "Whole weight.2    0\n",
      "Shell weight      0\n",
      "dtype: int64\n"
     ]
    }
   ],
   "source": [
    "print('TRAIN data\\n')\n",
    "print(f'{train.isna().sum()}\\n\\n\\n')\n",
    "\n",
    "print('TEST data\\n')\n",
    "print(test.isna().sum())"
   ]
  },
  {
   "cell_type": "markdown",
   "id": "99f8b0bc",
   "metadata": {
    "papermill": {
     "duration": 0.01964,
     "end_time": "2024-04-01T04:18:04.877980",
     "exception": false,
     "start_time": "2024-04-01T04:18:04.858340",
     "status": "completed"
    },
    "tags": []
   },
   "source": [
    "![](https://www.asnailsodyssey.com/views/images/119/Geiger&Owen2019.jpg)"
   ]
  },
  {
   "cell_type": "markdown",
   "id": "e14e906a",
   "metadata": {
    "papermill": {
     "duration": 0.018912,
     "end_time": "2024-04-01T04:18:04.916069",
     "exception": false,
     "start_time": "2024-04-01T04:18:04.897157",
     "status": "completed"
    },
    "tags": []
   },
   "source": [
    "<a id='7'></a>\n",
    "# <span style=\"color: #3EB489; border-bottom: 6px solid  #20603D; background-color: #fadb8c;\">🦈 Data types of training set</span>"
   ]
  },
  {
   "cell_type": "code",
   "execution_count": 11,
   "id": "33850d5b",
   "metadata": {
    "execution": {
     "iopub.execute_input": "2024-04-01T04:18:04.957711Z",
     "iopub.status.busy": "2024-04-01T04:18:04.957329Z",
     "iopub.status.idle": "2024-04-01T04:18:04.990411Z",
     "shell.execute_reply": "2024-04-01T04:18:04.989301Z"
    },
    "papermill": {
     "duration": 0.056258,
     "end_time": "2024-04-01T04:18:04.992430",
     "exception": false,
     "start_time": "2024-04-01T04:18:04.936172",
     "status": "completed"
    },
    "tags": []
   },
   "outputs": [
    {
     "name": "stdout",
     "output_type": "stream",
     "text": [
      "<class 'pandas.core.frame.DataFrame'>\n",
      "RangeIndex: 90615 entries, 0 to 90614\n",
      "Data columns (total 10 columns):\n",
      " #   Column          Non-Null Count  Dtype  \n",
      "---  ------          --------------  -----  \n",
      " 0   id              90615 non-null  int64  \n",
      " 1   Sex             90615 non-null  object \n",
      " 2   Length          90615 non-null  float64\n",
      " 3   Diameter        90615 non-null  float64\n",
      " 4   Height          90615 non-null  float64\n",
      " 5   Whole weight    90615 non-null  float64\n",
      " 6   Whole weight.1  90615 non-null  float64\n",
      " 7   Whole weight.2  90615 non-null  float64\n",
      " 8   Shell weight    90615 non-null  float64\n",
      " 9   Rings           90615 non-null  int64  \n",
      "dtypes: float64(7), int64(2), object(1)\n",
      "memory usage: 6.9+ MB\n"
     ]
    }
   ],
   "source": [
    "train.info()"
   ]
  },
  {
   "cell_type": "markdown",
   "id": "553e5fe2",
   "metadata": {
    "papermill": {
     "duration": 0.020324,
     "end_time": "2024-04-01T04:18:05.032347",
     "exception": false,
     "start_time": "2024-04-01T04:18:05.012023",
     "status": "completed"
    },
    "tags": []
   },
   "source": [
    "<a id=\"7.2\"></a>\n",
    "# <span style=\"color: #3EB489; border-bottom: 6px solid  #20603D; background-color: #fadb8c;\">🦭 Remove duplicates from train data</span>"
   ]
  },
  {
   "cell_type": "code",
   "execution_count": 12,
   "id": "bdec82f8",
   "metadata": {
    "execution": {
     "iopub.execute_input": "2024-04-01T04:18:05.072012Z",
     "iopub.status.busy": "2024-04-01T04:18:05.071345Z",
     "iopub.status.idle": "2024-04-01T04:18:05.141741Z",
     "shell.execute_reply": "2024-04-01T04:18:05.140979Z"
    },
    "papermill": {
     "duration": 0.092318,
     "end_time": "2024-04-01T04:18:05.143598",
     "exception": false,
     "start_time": "2024-04-01T04:18:05.051280",
     "status": "completed"
    },
    "tags": []
   },
   "outputs": [
    {
     "data": {
      "text/plain": [
       "0"
      ]
     },
     "execution_count": 12,
     "metadata": {},
     "output_type": "execute_result"
    }
   ],
   "source": [
    "train = train.drop_duplicates()\n",
    "\n",
    "# Check whether all duplicates were removed\n",
    "duplicates = train[train.duplicated()]\n",
    "len(duplicates)"
   ]
  },
  {
   "cell_type": "markdown",
   "id": "f105f3e5",
   "metadata": {
    "papermill": {
     "duration": 0.019596,
     "end_time": "2024-04-01T04:18:05.183852",
     "exception": false,
     "start_time": "2024-04-01T04:18:05.164256",
     "status": "completed"
    },
    "tags": []
   },
   "source": [
    "<a id=\"7.3\"></a>\n",
    "# <span style=\"color: #3EB489; border-bottom: 6px solid  #20603D; background-color: #fadb8c;\">🍢 One-hot encoding"
   ]
  },
  {
   "cell_type": "code",
   "execution_count": 13,
   "id": "1c0ee285",
   "metadata": {
    "execution": {
     "iopub.execute_input": "2024-04-01T04:18:05.225462Z",
     "iopub.status.busy": "2024-04-01T04:18:05.224367Z",
     "iopub.status.idle": "2024-04-01T04:18:05.258566Z",
     "shell.execute_reply": "2024-04-01T04:18:05.257756Z"
    },
    "papermill": {
     "duration": 0.057969,
     "end_time": "2024-04-01T04:18:05.261063",
     "exception": false,
     "start_time": "2024-04-01T04:18:05.203094",
     "status": "completed"
    },
    "tags": []
   },
   "outputs": [],
   "source": [
    "X = pd.get_dummies(train, drop_first=True, dtype=int)\n",
    "test = pd.get_dummies(test, drop_first=True, dtype=int)"
   ]
  },
  {
   "cell_type": "markdown",
   "id": "e8846bc9",
   "metadata": {
    "papermill": {
     "duration": 0.019749,
     "end_time": "2024-04-01T04:18:05.300964",
     "exception": false,
     "start_time": "2024-04-01T04:18:05.281215",
     "status": "completed"
    },
    "tags": []
   },
   "source": [
    "<a id='8'></a>\n",
    "# <span style=\"color: #3EB489; border-bottom: 6px solid  #20603D; background-color: #fadb8c;\">🦞 Display histograms of distribution</span>"
   ]
  },
  {
   "cell_type": "code",
   "execution_count": 14,
   "id": "47e637ab",
   "metadata": {
    "execution": {
     "iopub.execute_input": "2024-04-01T04:18:05.342887Z",
     "iopub.status.busy": "2024-04-01T04:18:05.342283Z",
     "iopub.status.idle": "2024-04-01T04:18:08.966237Z",
     "shell.execute_reply": "2024-04-01T04:18:08.965441Z"
    },
    "papermill": {
     "duration": 3.6494,
     "end_time": "2024-04-01T04:18:08.970140",
     "exception": false,
     "start_time": "2024-04-01T04:18:05.320740",
     "status": "completed"
    },
    "tags": []
   },
   "outputs": [
    {
     "data": {
      "image/png": "[encoded data removed]",
      "text/plain": [
       "<Figure size 2000x1600 with 12 Axes>"
      ]
     },
     "metadata": {},
     "output_type": "display_data"
    }
   ],
   "source": [
    "sns.set(rc={'figure.figsize': (20, 16)})\n",
    "X.hist(color='orange');"
   ]
  },
  {
   "cell_type": "markdown",
   "id": "bf5cc27a",
   "metadata": {
    "papermill": {
     "duration": 0.022126,
     "end_time": "2024-04-01T04:18:09.015184",
     "exception": false,
     "start_time": "2024-04-01T04:18:08.993058",
     "status": "completed"
    },
    "tags": []
   },
   "source": [
    "<a id='9'></a>\n",
    "# <span style=\"color: #3EB489; border-bottom: 6px solid  #20603D; background-color: #fadb8c;\">🦐 Let's count target of train data</span>"
   ]
  },
  {
   "cell_type": "code",
   "execution_count": 15,
   "id": "429d848c",
   "metadata": {
    "execution": {
     "iopub.execute_input": "2024-04-01T04:18:09.060148Z",
     "iopub.status.busy": "2024-04-01T04:18:09.059757Z",
     "iopub.status.idle": "2024-04-01T04:18:09.070814Z",
     "shell.execute_reply": "2024-04-01T04:18:09.070041Z"
    },
    "papermill": {
     "duration": 0.036054,
     "end_time": "2024-04-01T04:18:09.072916",
     "exception": false,
     "start_time": "2024-04-01T04:18:09.036862",
     "status": "completed"
    },
    "tags": []
   },
   "outputs": [
    {
     "name": "stdout",
     "output_type": "stream",
     "text": [
      "Rings\n",
      "9     17465\n",
      "8     14499\n",
      "10    12464\n",
      "7      9008\n",
      "11     8407\n",
      "6      5411\n",
      "12     4719\n",
      "13     4074\n",
      "5      2862\n",
      "14     2507\n",
      "15     2072\n",
      "16     1439\n",
      "4      1402\n",
      "17     1175\n",
      "18      848\n",
      "19      639\n",
      "20      507\n",
      "3       386\n",
      "21      255\n",
      "23      180\n",
      "22      108\n",
      "27       41\n",
      "2        29\n",
      "24       29\n",
      "1        25\n",
      "29       24\n",
      "25       22\n",
      "26       18\n",
      "Name: count, dtype: int64\n",
      "\n",
      "\n",
      "Rings\n",
      "9     0.192739\n",
      "8     0.160007\n",
      "10    0.137549\n",
      "7     0.099410\n",
      "11    0.092777\n",
      "6     0.059714\n",
      "12    0.052077\n",
      "13    0.044959\n",
      "5     0.031584\n",
      "14    0.027667\n",
      "15    0.022866\n",
      "16    0.015880\n",
      "4     0.015472\n",
      "17    0.012967\n",
      "18    0.009358\n",
      "19    0.007052\n",
      "20    0.005595\n",
      "3     0.004260\n",
      "21    0.002814\n",
      "23    0.001986\n",
      "22    0.001192\n",
      "27    0.000452\n",
      "2     0.000320\n",
      "24    0.000320\n",
      "1     0.000276\n",
      "29    0.000265\n",
      "25    0.000243\n",
      "26    0.000199\n",
      "Name: count, dtype: float64\n"
     ]
    }
   ],
   "source": [
    "print(f'{train.Rings.value_counts()}\\n\\n')\n",
    "print(train.Rings.value_counts() / train.shape[0])"
   ]
  },
  {
   "cell_type": "markdown",
   "id": "28c49439",
   "metadata": {
    "papermill": {
     "duration": 0.02096,
     "end_time": "2024-04-01T04:18:09.115613",
     "exception": false,
     "start_time": "2024-04-01T04:18:09.094653",
     "status": "completed"
    },
    "tags": []
   },
   "source": [
    "<a id='10'></a>\n",
    "# <span style=\"color: #3EB489; border-bottom: 6px solid  #20603D; background-color: #fadb8c;\">🦑 Transorm the data with MinMax</span>"
   ]
  },
  {
   "cell_type": "code",
   "execution_count": 16,
   "id": "016d7756",
   "metadata": {
    "execution": {
     "iopub.execute_input": "2024-04-01T04:18:09.162562Z",
     "iopub.status.busy": "2024-04-01T04:18:09.161435Z",
     "iopub.status.idle": "2024-04-01T04:18:09.170872Z",
     "shell.execute_reply": "2024-04-01T04:18:09.170158Z"
    },
    "papermill": {
     "duration": 0.035506,
     "end_time": "2024-04-01T04:18:09.172620",
     "exception": false,
     "start_time": "2024-04-01T04:18:09.137114",
     "status": "completed"
    },
    "tags": []
   },
   "outputs": [],
   "source": [
    "# Split the train data into X and y\n",
    "X = X.drop(['Rings'], axis=1)\n",
    "y = train.Rings\n",
    "\n",
    "# for column in X.columns.tolist():\n",
    "#     X[column] = X[column].apply(lambda x: (x - X[column].min()) / (X[column].max() - X[column].min()))\n",
    "\n",
    "# # Transform test data\n",
    "# for column in test.columns.tolist():\n",
    "#     test[column] = test[column].apply(lambda x: (x - test[column].min()) / (test[column].max() - test[column].min()))\n",
    "    \n",
    "# X.hist(color='LightSeaGreen');"
   ]
  },
  {
   "cell_type": "markdown",
   "id": "d713c33b",
   "metadata": {
    "papermill": {
     "duration": 0.020787,
     "end_time": "2024-04-01T04:18:09.214602",
     "exception": false,
     "start_time": "2024-04-01T04:18:09.193815",
     "status": "completed"
    },
    "tags": []
   },
   "source": [
    "![](https://d3h1lg3ksw6i6b.cloudfront.net/media/image/2020/09/24/a40d8dea2d924e0aa7cdb644beffe934_abalone+dish.jpg)"
   ]
  },
  {
   "cell_type": "markdown",
   "id": "d9fad10f",
   "metadata": {
    "papermill": {
     "duration": 0.020654,
     "end_time": "2024-04-01T04:18:09.255649",
     "exception": false,
     "start_time": "2024-04-01T04:18:09.234995",
     "status": "completed"
    },
    "tags": []
   },
   "source": [
    "<a id='10.2'></a>\n",
    "# <span style=\"color: #3EB489; border-bottom: 6px solid  #20603D; background-color: #fadb8c;\">💦 Feature importance</span>"
   ]
  },
  {
   "cell_type": "code",
   "execution_count": 17,
   "id": "a35f8d57",
   "metadata": {
    "execution": {
     "iopub.execute_input": "2024-04-01T04:18:09.301595Z",
     "iopub.status.busy": "2024-04-01T04:18:09.300939Z",
     "iopub.status.idle": "2024-04-01T04:19:06.722696Z",
     "shell.execute_reply": "2024-04-01T04:19:06.721876Z"
    },
    "papermill": {
     "duration": 57.447226,
     "end_time": "2024-04-01T04:19:06.724984",
     "exception": false,
     "start_time": "2024-04-01T04:18:09.277758",
     "status": "completed"
    },
    "tags": []
   },
   "outputs": [
    {
     "name": "stdout",
     "output_type": "stream",
     "text": [
      "CPU times: user 56.7 s, sys: 353 ms, total: 57.1 s\n",
      "Wall time: 57.1 s\n"
     ]
    },
    {
     "data": {
      "image/png": "[encoded data removed]",
      "text/plain": [
       "<Figure size 1200x800 with 1 Axes>"
      ]
     },
     "metadata": {},
     "output_type": "display_data"
    }
   ],
   "source": [
    "%%time\n",
    "# I figured out best hyperparameters previously\n",
    "best_forest = RandomForestRegressor(\n",
    "    random_state=27,\n",
    ")\n",
    "    \n",
    "best_forest.fit(X, y)\n",
    "importance = best_forest.feature_importances_\n",
    "\n",
    "feature_importance = pd.DataFrame(data=importance, index=X.columns, columns=['importance']) \\\n",
    "    .sort_values(ascending=True, by='importance')\n",
    "\n",
    "feature_importance.plot(kind='barh', figsize=(12, 8), color='orange');"
   ]
  },
  {
   "cell_type": "markdown",
   "id": "05813f11",
   "metadata": {
    "papermill": {
     "duration": 0.022198,
     "end_time": "2024-04-01T04:19:06.770668",
     "exception": false,
     "start_time": "2024-04-01T04:19:06.748470",
     "status": "completed"
    },
    "tags": []
   },
   "source": [
    "<a id='11'></a>\n",
    "# <span style=\"color: #3EB489; border-bottom: 6px solid  #20603D; background-color: #fadb8c;\">🌊 Build a heat map of correlations</span>"
   ]
  },
  {
   "cell_type": "code",
   "execution_count": 18,
   "id": "c08b2921",
   "metadata": {
    "execution": {
     "iopub.execute_input": "2024-04-01T04:19:06.819318Z",
     "iopub.status.busy": "2024-04-01T04:19:06.818677Z",
     "iopub.status.idle": "2024-04-01T04:19:07.637928Z",
     "shell.execute_reply": "2024-04-01T04:19:07.636938Z"
    },
    "papermill": {
     "duration": 0.847559,
     "end_time": "2024-04-01T04:19:07.641332",
     "exception": false,
     "start_time": "2024-04-01T04:19:06.793773",
     "status": "completed"
    },
    "tags": []
   },
   "outputs": [
    {
     "data": {
      "image/png": "[encoded data removed]",
      "text/plain": [
       "<Figure size 2000x1600 with 1 Axes>"
      ]
     },
     "metadata": {},
     "output_type": "display_data"
    }
   ],
   "source": [
    "# Training dataset\n",
    "numeric_columns_train = X.select_dtypes(include=np.number)\n",
    "corr_train = numeric_columns_train.corr(method='pearson')\n",
    "mask_train = np.triu(np.ones_like(corr_train))\n",
    "sns.heatmap(corr_train, annot=True, fmt='.2f', mask=mask_train, cmap='Spectral', cbar=None, linewidth=2)\n",
    "plt.tight_layout()\n",
    "plt.show()"
   ]
  },
  {
   "cell_type": "markdown",
   "id": "27a831af",
   "metadata": {
    "papermill": {
     "duration": 0.024025,
     "end_time": "2024-04-01T04:19:07.690411",
     "exception": false,
     "start_time": "2024-04-01T04:19:07.666386",
     "status": "completed"
    },
    "tags": []
   },
   "source": [
    "<a id='12'></a>\n",
    "# <span style=\"color: #3EB489; border-bottom: 6px solid  #20603D; background-color: #fadb8c;\">🐚 Define base models</span>"
   ]
  },
  {
   "cell_type": "code",
   "execution_count": 19,
   "id": "f28ea16a",
   "metadata": {
    "execution": {
     "iopub.execute_input": "2024-04-01T04:19:07.741364Z",
     "iopub.status.busy": "2024-04-01T04:19:07.740282Z",
     "iopub.status.idle": "2024-04-01T04:19:07.756722Z",
     "shell.execute_reply": "2024-04-01T04:19:07.755953Z"
    },
    "papermill": {
     "duration": 0.044411,
     "end_time": "2024-04-01T04:19:07.758744",
     "exception": false,
     "start_time": "2024-04-01T04:19:07.714333",
     "status": "completed"
    },
    "tags": []
   },
   "outputs": [],
   "source": [
    "# Split data into train and val\n",
    "X_train, X_val, y_train, y_val = train_test_split(X, y, test_size=0.2, random_state=27)"
   ]
  },
  {
   "cell_type": "markdown",
   "id": "99df1021",
   "metadata": {
    "papermill": {
     "duration": 0.025289,
     "end_time": "2024-04-01T04:19:07.809319",
     "exception": false,
     "start_time": "2024-04-01T04:19:07.784030",
     "status": "completed"
    },
    "tags": []
   },
   "source": [
    "![](https://www.foodrepublic.com/img/gallery/what-exactly-is-abalone-and-how-do-you-eat-it/l-intro-1695291935.jpg)"
   ]
  },
  {
   "cell_type": "markdown",
   "id": "8a6647f7",
   "metadata": {
    "papermill": {
     "duration": 0.025262,
     "end_time": "2024-04-01T04:19:07.859776",
     "exception": false,
     "start_time": "2024-04-01T04:19:07.834514",
     "status": "completed"
    },
    "tags": []
   },
   "source": [
    "## <p style=\"background-image: url(https://www.kaggle.com/competitions/72489/images/header); color: white; font-size: 30px; padding: 5px 5px 5px 5px;\">Random Forest with Optuna</p>"
   ]
  },
  {
   "cell_type": "code",
   "execution_count": 20,
   "id": "2ab768bf",
   "metadata": {
    "execution": {
     "iopub.execute_input": "2024-04-01T04:19:07.914428Z",
     "iopub.status.busy": "2024-04-01T04:19:07.913750Z",
     "iopub.status.idle": "2024-04-01T04:19:07.921446Z",
     "shell.execute_reply": "2024-04-01T04:19:07.920699Z"
    },
    "papermill": {
     "duration": 0.038125,
     "end_time": "2024-04-01T04:19:07.923410",
     "exception": false,
     "start_time": "2024-04-01T04:19:07.885285",
     "status": "completed"
    },
    "tags": []
   },
   "outputs": [
    {
     "data": {
      "text/plain": [
       "'\\nNumber of finished trials:  5\\nBest trial:\\n  Value:  0.15237508927103727\\n  Params: \\n    n_estimators: 445\\n    min_samples_leaf: 98\\n    max_depth: 90\\n    min_samples_split: 22\\n\\nCPU times: user 11min 43s, sys: 171 ms, total: 11min 44s\\nWall time: 11min 44s\\n'"
      ]
     },
     "execution_count": 20,
     "metadata": {},
     "output_type": "execute_result"
    }
   ],
   "source": [
    "# %%time\n",
    "# def objective(trial):\n",
    "#     model = RandomForestRegressor(\n",
    "#         n_estimators=trial.suggest_int(\"n_estimators\", 100, 1000),\n",
    "# #         criterion=trial.suggest_categorical(\"criterion\", ['poisson', 'absolute_error', 'friedman_mse', 'squared_error']),\n",
    "#         min_samples_leaf=trial.suggest_int(\"min_samples_leaf\", 1, 100),\n",
    "#         max_depth=trial.suggest_int(\"max_depth\", 1, 100),\n",
    "#         min_samples_split=trial.suggest_int(\"min_samples_split\", 2, 100),\n",
    "#         random_state=27\n",
    "#     )\n",
    "#     model.fit(X_train, y_train)\n",
    "#     y_pred = model.predict(X_test)\n",
    "#     return np.sqrt(mean_squared_log_error(y_test, y_pred))\n",
    "\n",
    "\n",
    "# X_train, X_test, y_train, y_test = train_test_split(X, y, test_size=0.2, random_state=27)\n",
    "\n",
    "# optuna.logging.set_verbosity(optuna.logging.WARNING)\n",
    "\n",
    "# sampler = TPESampler(seed=27)\n",
    "# study = optuna.create_study(study_name=\"random_forest\", direction=\"maximize\", sampler=sampler)\n",
    "# study.optimize(objective, n_trials=5)\n",
    "\n",
    "# print(\"Number of finished trials: \", len(study.trials))\n",
    "# print(\"Best trial:\")\n",
    "# trial = study.best_trial\n",
    "# print(\"  Value: \", trial.value)\n",
    "# print(\"  Params: \")\n",
    "# for key, value in trial.params.items():\n",
    "#     print(f\"    {key}: {value}\")\n",
    "# print()\n",
    "\n",
    "\"\"\"\n",
    "Number of finished trials:  5\n",
    "Best trial:\n",
    "  Value:  0.15237508927103727\n",
    "  Params: \n",
    "    n_estimators: 445\n",
    "    min_samples_leaf: 98\n",
    "    max_depth: 90\n",
    "    min_samples_split: 22\n",
    "\n",
    "CPU times: user 11min 43s, sys: 171 ms, total: 11min 44s\n",
    "Wall time: 11min 44s\n",
    "\"\"\""
   ]
  },
  {
   "cell_type": "markdown",
   "id": "5196eaa9",
   "metadata": {
    "papermill": {
     "duration": 0.025694,
     "end_time": "2024-04-01T04:19:07.975220",
     "exception": false,
     "start_time": "2024-04-01T04:19:07.949526",
     "status": "completed"
    },
    "tags": []
   },
   "source": [
    "## <p style=\"background-image: url(https://www.kaggle.com/competitions/72489/images/header); color: white; font-size: 30px; padding: 5px 5px 5px 5px\">XGBoost with Optuna</p>"
   ]
  },
  {
   "cell_type": "code",
   "execution_count": 21,
   "id": "6d903ddc",
   "metadata": {
    "execution": {
     "iopub.execute_input": "2024-04-01T04:19:08.029644Z",
     "iopub.status.busy": "2024-04-01T04:19:08.028860Z",
     "iopub.status.idle": "2024-04-01T04:19:20.295290Z",
     "shell.execute_reply": "2024-04-01T04:19:20.294401Z"
    },
    "papermill": {
     "duration": 12.296329,
     "end_time": "2024-04-01T04:19:20.297671",
     "exception": false,
     "start_time": "2024-04-01T04:19:08.001342",
     "status": "completed"
    },
    "tags": []
   },
   "outputs": [
    {
     "name": "stdout",
     "output_type": "stream",
     "text": [
      "Number of finished trials:  1\n",
      "Best trial:\n",
      "  Value:  0.1775845058982026\n",
      "  Params: \n",
      "    max_depth: 43\n",
      "    learning_rate: 0.42576257222865277\n",
      "    n_estimators: 749\n",
      "    min_child_weight: 9\n",
      "    gamma: 1.1669337024772915e-05\n",
      "    subsample: 0.9097315662154742\n",
      "    colsample_bytree: 0.6114890625963008\n",
      "    reg_alpha: 4.761254082318455e-07\n",
      "    reg_lambda: 0.008602430632882225\n",
      "\n",
      "CPU times: user 45.6 s, sys: 675 ms, total: 46.3 s\n",
      "Wall time: 12.2 s\n"
     ]
    },
    {
     "data": {
      "text/plain": [
       "'\\nNumber of finished trials:  1\\nBest trial:\\n  Value:  0.1775845058982026\\n  Params: \\n    max_depth: 43\\n    learning_rate: 0.42576257222865277\\n    n_estimators: 749\\n    min_child_weight: 9\\n    gamma: 1.1669337024772915e-05\\n    subsample: 0.9097315662154742\\n    colsample_bytree: 0.6114890625963008\\n    reg_alpha: 4.761254082318455e-07\\n    reg_lambda: 0.008602430632882225\\n\\nCPU times: user 24.5 s, sys: 667 ms, total: 25.2 s\\nWall time: 25.2 s\\n'"
      ]
     },
     "execution_count": 21,
     "metadata": {},
     "output_type": "execute_result"
    }
   ],
   "source": [
    "%%time\n",
    "def objective(trial):\n",
    "    model = XGBRegressor(\n",
    "        max_depth=trial.suggest_int('max_depth', 1, 100),\n",
    "        learning_rate=trial.suggest_float('learning_rate', 0.01, 1.0, log=True),\n",
    "        n_estimators=trial.suggest_int('n_estimators', 50, 1000),\n",
    "        min_child_weight=trial.suggest_int('min_child_weight', 1, 10),\n",
    "        gamma=trial.suggest_float('gamma', 1e-8, 1.0, log=True),\n",
    "        subsample=trial.suggest_float('subsample', 0.01, 1.0, log=True),\n",
    "        colsample_bytree=trial.suggest_float('colsample_bytree', 0.01, 1.0, log=True),\n",
    "        reg_alpha=trial.suggest_float('reg_alpha', 1e-8, 1.0, log=True),\n",
    "        reg_lambda=trial.suggest_float('reg_lambda', 1e-8, 1.0, log=True),\n",
    "        use_label_encoder=False,\n",
    "        random_state=27\n",
    "    )\n",
    "    model.fit(X_train, y_train)\n",
    "    y_pred = model.predict(X_test)\n",
    "    try:\n",
    "        return np.sqrt(mean_squared_log_error(y_test, y_pred))\n",
    "    except Exception as e:\n",
    "        print(e)\n",
    "\n",
    "\n",
    "X_train, X_test, y_train, y_test = train_test_split(X, y, test_size=0.2, random_state=27)\n",
    "\n",
    "optuna.logging.set_verbosity(optuna.logging.WARNING)\n",
    "\n",
    "sampler = TPESampler(seed=27)\n",
    "study = optuna.create_study(study_name=\"xgb\", direction=\"maximize\", sampler=sampler)\n",
    "study.optimize(objective, n_trials=1)\n",
    "\n",
    "print(\"Number of finished trials: \", len(study.trials))\n",
    "print(\"Best trial:\")\n",
    "trial = study.best_trial\n",
    "print(\"  Value: \", trial.value)\n",
    "print(\"  Params: \")\n",
    "for key, value in trial.params.items():\n",
    "    print(f\"    {key}: {value}\")\n",
    "print()\n",
    "\n",
    "\"\"\"\n",
    "Number of finished trials:  1\n",
    "Best trial:\n",
    "  Value:  0.1775845058982026\n",
    "  Params: \n",
    "    max_depth: 43\n",
    "    learning_rate: 0.42576257222865277\n",
    "    n_estimators: 749\n",
    "    min_child_weight: 9\n",
    "    gamma: 1.1669337024772915e-05\n",
    "    subsample: 0.9097315662154742\n",
    "    colsample_bytree: 0.6114890625963008\n",
    "    reg_alpha: 4.761254082318455e-07\n",
    "    reg_lambda: 0.008602430632882225\n",
    "\n",
    "CPU times: user 24.5 s, sys: 667 ms, total: 25.2 s\n",
    "Wall time: 25.2 s\n",
    "\"\"\""
   ]
  },
  {
   "cell_type": "code",
   "execution_count": 22,
   "id": "ea5898c8",
   "metadata": {
    "execution": {
     "iopub.execute_input": "2024-04-01T04:19:20.351596Z",
     "iopub.status.busy": "2024-04-01T04:19:20.351253Z",
     "iopub.status.idle": "2024-04-01T04:30:12.884139Z",
     "shell.execute_reply": "2024-04-01T04:30:12.882872Z"
    },
    "papermill": {
     "duration": 652.580223,
     "end_time": "2024-04-01T04:30:12.904171",
     "exception": false,
     "start_time": "2024-04-01T04:19:20.323948",
     "status": "completed"
    },
    "tags": []
   },
   "outputs": [
    {
     "name": "stdout",
     "output_type": "stream",
     "text": [
      "Fitting 5 folds for each of 5 candidates, totalling 25 fits\n",
      "[CV 4/5] END learning_rate=0.01, max_depth=6, n_estimators=395;, score=0.639 total time=   2.4s\n",
      "[CV 3/5] END learning_rate=0.05, max_depth=50, n_estimators=685;, score=0.570 total time= 1.3min\n"
     ]
    },
    {
     "name": "stderr",
     "output_type": "stream",
     "text": [
      "/opt/conda/lib/python3.10/site-packages/joblib/externals/loky/process_executor.py:752: UserWarning: A worker stopped while some jobs were given to the executor. This can be caused by a too short worker timeout or by a memory leak.\n",
      "  warnings.warn(\n"
     ]
    },
    {
     "name": "stdout",
     "output_type": "stream",
     "text": [
      "[CV 2/5] END learning_rate=0.01, max_depth=6, n_estimators=395;, score=0.640 total time=   2.4s\n",
      "[CV 2/5] END learning_rate=0.05, max_depth=50, n_estimators=685;, score=0.568 total time= 1.3min\n",
      "[CV 1/5] END learning_rate=0.01, max_depth=6, n_estimators=395;, score=0.641 total time=   2.4s\n",
      "[CV 1/5] END learning_rate=0.05, max_depth=50, n_estimators=685;, score=0.582 total time= 1.3min\n",
      "[CV 3/5] END learning_rate=0.01, max_depth=6, n_estimators=395;, score=0.650 total time=   2.3s\n",
      "[CV 5/5] END learning_rate=0.01, max_depth=6, n_estimators=395;, score=0.661 total time=   2.4s\n",
      "[CV 4/5] END learning_rate=0.05, max_depth=50, n_estimators=685;, score=0.554 total time= 1.3min\n",
      "[CV 3/5] END learning_rate=0.05, max_depth=58, n_estimators=125;, score=0.571 total time=  39.8s\n",
      "[CV 1/5] END learning_rate=0.01, max_depth=66, n_estimators=875;, score=0.576 total time= 4.7min\n",
      "[CV 2/5] END learning_rate=0.05, max_depth=58, n_estimators=125;, score=0.569 total time=  40.0s\n",
      "[CV 5/5] END learning_rate=0.05, max_depth=58, n_estimators=125;, score=0.567 total time=  39.3s\n",
      "[CV 3/5] END learning_rate=0.01, max_depth=66, n_estimators=875;, score=0.569 total time= 4.7min\n",
      "[CV 1/5] END learning_rate=0.05, max_depth=58, n_estimators=125;, score=0.583 total time=  40.0s\n",
      "[CV 4/5] END learning_rate=0.05, max_depth=58, n_estimators=125;, score=0.555 total time=  40.0s\n",
      "[CV 4/5] END learning_rate=0.01, max_depth=66, n_estimators=875;, score=0.555 total time= 4.7min\n",
      "[CV 5/5] END learning_rate=0.05, max_depth=50, n_estimators=685;, score=0.566 total time= 1.3min\n",
      "[CV 2/5] END learning_rate=0.01, max_depth=66, n_estimators=875;, score=0.570 total time= 4.8min\n",
      "Best params: {'n_estimators': 395, 'max_depth': 6, 'learning_rate': 0.01}\n"
     ]
    }
   ],
   "source": [
    "# Searching for best parameters of XGBoost\n",
    "from sklearn.model_selection import RandomizedSearchCV\n",
    "\n",
    "xgb_regressor = XGBRegressor(random_state=27)\n",
    "\n",
    "xgb_parameters = {\n",
    "    'n_estimators': range(5, 1001, 10),\n",
    "    'learning_rate': [0.001, 0.05, 0.01],\n",
    "    'max_depth': range(2, 100, 4),\n",
    "}\n",
    "\n",
    "xgb_random_search = RandomizedSearchCV(estimator=xgb_regressor, param_distributions=xgb_parameters, n_iter=5, n_jobs=-1, cv=5, verbose=4, random_state=27)\n",
    "xgb_random_search.fit(X_val, y_val)\n",
    "print(f'Best params: {xgb_random_search.best_params_}')"
   ]
  },
  {
   "cell_type": "markdown",
   "id": "e8c39570",
   "metadata": {
    "papermill": {
     "duration": 0.024641,
     "end_time": "2024-04-01T04:30:12.954473",
     "exception": false,
     "start_time": "2024-04-01T04:30:12.929832",
     "status": "completed"
    },
    "tags": []
   },
   "source": [
    "#### I found that XGBoost in this competition can't work with negative targets when it is looking for model that fitting with metrics"
   ]
  },
  {
   "cell_type": "markdown",
   "id": "945270b6",
   "metadata": {
    "papermill": {
     "duration": 0.024336,
     "end_time": "2024-04-01T04:30:13.004363",
     "exception": false,
     "start_time": "2024-04-01T04:30:12.980027",
     "status": "completed"
    },
    "tags": []
   },
   "source": [
    "## <p style=\"background-image: url(https://www.kaggle.com/competitions/72489/images/header); color: white; font-size: 30px; padding: 5px 5px 5px 5px\">CatBoost with Optuna</p>"
   ]
  },
  {
   "cell_type": "code",
   "execution_count": 23,
   "id": "1bc99764",
   "metadata": {
    "execution": {
     "iopub.execute_input": "2024-04-01T04:30:13.056443Z",
     "iopub.status.busy": "2024-04-01T04:30:13.055994Z",
     "iopub.status.idle": "2024-04-01T04:30:13.064467Z",
     "shell.execute_reply": "2024-04-01T04:30:13.063771Z"
    },
    "papermill": {
     "duration": 0.037045,
     "end_time": "2024-04-01T04:30:13.066406",
     "exception": false,
     "start_time": "2024-04-01T04:30:13.029361",
     "status": "completed"
    },
    "tags": []
   },
   "outputs": [
    {
     "data": {
      "text/plain": [
       "'\\nNumber of finished trials:  100\\nBest trial:\\n  Value:  0.28288077672267553\\n  Params: \\n    iterations: 137\\n    learning_rate: 0.0014871307956033128\\n    colsample_bylevel: 0.0505996902369297\\n    min_data_in_leaf: 66\\n    depth: 7\\n    l2_leaf_reg: 4.925795381609087e-05\\n\\nCPU times: user 14min 39s, sys: 1min 25s, total: 16min 5s\\nWall time: 4min 49s\\n'"
      ]
     },
     "execution_count": 23,
     "metadata": {},
     "output_type": "execute_result"
    }
   ],
   "source": [
    "# %%time\n",
    "# def objective(trial):\n",
    "#     model = CatBoostRegressor(\n",
    "#         iterations=trial.suggest_int(\"iterations\", 100, 1000),\n",
    "#         learning_rate=trial.suggest_float(\"learning_rate\", 1e-3, 1e-1, log=True),\n",
    "#         colsample_bylevel=trial.suggest_float(\"colsample_bylevel\", 0.05, 1.0),\n",
    "#         min_data_in_leaf=trial.suggest_int(\"min_data_in_leaf\", 1, 100),\n",
    "#         depth=trial.suggest_int(\"depth\", 7, 10),\n",
    "#         l2_leaf_reg=trial.suggest_float(\"l2_leaf_reg\", 1e-8, 100.0, log=True),\n",
    "#         verbose=False,\n",
    "#         random_state=27\n",
    "#     )\n",
    "#     model.fit(X_train, y_train)\n",
    "#     y_pred = model.predict(X_test)\n",
    "#     return np.sqrt(mean_squared_log_error(y_test, y_pred))\n",
    "\n",
    "\n",
    "# X_train, X_test, y_train, y_test = train_test_split(X, y, test_size=0.2, random_state=27)\n",
    "\n",
    "# optuna.logging.set_verbosity(optuna.logging.WARNING)\n",
    "\n",
    "# sampler = TPESampler(seed=27)\n",
    "# study = optuna.create_study(study_name=\"catboost\", direction=\"maximize\", sampler=sampler)\n",
    "# study.optimize(objective, n_trials=100)\n",
    "\n",
    "# print(\"Number of finished trials: \", len(study.trials))\n",
    "# print(\"Best trial:\")\n",
    "# trial = study.best_trial\n",
    "# print(\"  Value: \", trial.value)\n",
    "# print(\"  Params: \")\n",
    "\n",
    "# for key, value in trial.params.items():\n",
    "#     print(f\"    {key}: {value}\")\n",
    "# print()\n",
    "\n",
    "\"\"\"\n",
    "Number of finished trials:  100\n",
    "Best trial:\n",
    "  Value:  0.28288077672267553\n",
    "  Params: \n",
    "    iterations: 137\n",
    "    learning_rate: 0.0014871307956033128\n",
    "    colsample_bylevel: 0.0505996902369297\n",
    "    min_data_in_leaf: 66\n",
    "    depth: 7\n",
    "    l2_leaf_reg: 4.925795381609087e-05\n",
    "\n",
    "CPU times: user 14min 39s, sys: 1min 25s, total: 16min 5s\n",
    "Wall time: 4min 49s\n",
    "\"\"\""
   ]
  },
  {
   "cell_type": "markdown",
   "id": "cc902419",
   "metadata": {
    "papermill": {
     "duration": 0.02522,
     "end_time": "2024-04-01T04:30:13.117033",
     "exception": false,
     "start_time": "2024-04-01T04:30:13.091813",
     "status": "completed"
    },
    "tags": []
   },
   "source": [
    "## <p style=\"background-image: url(https://www.kaggle.com/competitions/72489/images/header); color: white; font-size: 30px; padding: 5px 5px 5px 5px\">LightGBM with Optuna</p>"
   ]
  },
  {
   "cell_type": "code",
   "execution_count": 24,
   "id": "24c4a816",
   "metadata": {
    "execution": {
     "iopub.execute_input": "2024-04-01T04:30:13.168335Z",
     "iopub.status.busy": "2024-04-01T04:30:13.167473Z",
     "iopub.status.idle": "2024-04-01T04:30:13.175146Z",
     "shell.execute_reply": "2024-04-01T04:30:13.174400Z"
    },
    "papermill": {
     "duration": 0.035928,
     "end_time": "2024-04-01T04:30:13.177664",
     "exception": false,
     "start_time": "2024-04-01T04:30:13.141736",
     "status": "completed"
    },
    "tags": []
   },
   "outputs": [
    {
     "data": {
      "text/plain": [
       "'\\nNumber of finished trials:  10\\nBest trial:\\n  Value:  0.793442492293447\\n  Params: \\n    n_estimators: 374\\n    max_depth: 79\\n    learning_rate: 0.002117446099339252\\n    boosting_type: dart\\n    num_leaves: 48\\n    min_child_samples: 62\\n\\nCPU times: user 12min 4s, sys: 269 ms, total: 12min 4s\\nWall time: 12min 5s\\n'"
      ]
     },
     "execution_count": 24,
     "metadata": {},
     "output_type": "execute_result"
    }
   ],
   "source": [
    "# %%time\n",
    "# def objective(trial):\n",
    "#     model = LGBMRegressor(\n",
    "#         n_estimators=trial.suggest_int(\"n_estimators\", 100, 1000),\n",
    "#         max_depth=trial.suggest_int(\"max_depth\", 1, 100),\n",
    "#         learning_rate=trial.suggest_float(\"learning_rate\", 1e-3, 1e-1, log=True),\n",
    "#         verbosity=-1,\n",
    "#         boosting_type=trial.suggest_categorical('boosting_type', ['gbdt', 'dart']),\n",
    "#         num_leaves=trial.suggest_int('num_leaves', 2, 256),\n",
    "#         min_child_samples=trial.suggest_int('min_child_samples', 5, 100),\n",
    "#         random_state=27\n",
    "#     )\n",
    "#     model.fit(X_train, y_train)\n",
    "#     y_pred = model.predict(X_test)\n",
    "#     return np.sqrt(mean_squared_log_error(y_test, y_pred))\n",
    "\n",
    "\n",
    "# X_train, X_test, y_train, y_test = train_test_split(X, y, test_size=0.2, random_state=27)\n",
    "\n",
    "# optuna.logging.set_verbosity(optuna.logging.WARNING)\n",
    "\n",
    "# sampler = TPESampler(seed=27)\n",
    "# study = optuna.create_study(study_name=\"lgbm\", direction=\"maximize\", sampler=sampler)\n",
    "# study.optimize(objective, n_trials=10)\n",
    "\n",
    "# print(\"Number of finished trials: \", len(study.trials))\n",
    "# print(\"Best trial:\")\n",
    "# trial = study.best_trial\n",
    "# print(\"  Value: \", trial.value)\n",
    "# print(\"  Params: \")\n",
    "# for key, value in trial.params.items():\n",
    "#     print(f\"    {key}: {value}\")\n",
    "# print()\n",
    "\n",
    "\"\"\"\n",
    "Number of finished trials:  10\n",
    "Best trial:\n",
    "  Value:  0.793442492293447\n",
    "  Params: \n",
    "    n_estimators: 374\n",
    "    max_depth: 79\n",
    "    learning_rate: 0.002117446099339252\n",
    "    boosting_type: dart\n",
    "    num_leaves: 48\n",
    "    min_child_samples: 62\n",
    "\n",
    "CPU times: user 12min 4s, sys: 269 ms, total: 12min 4s\n",
    "Wall time: 12min 5s\n",
    "\"\"\""
   ]
  },
  {
   "cell_type": "code",
   "execution_count": 25,
   "id": "f108d50e",
   "metadata": {
    "execution": {
     "iopub.execute_input": "2024-04-01T04:30:13.230504Z",
     "iopub.status.busy": "2024-04-01T04:30:13.230185Z",
     "iopub.status.idle": "2024-04-01T04:30:13.235321Z",
     "shell.execute_reply": "2024-04-01T04:30:13.234336Z"
    },
    "papermill": {
     "duration": 0.034284,
     "end_time": "2024-04-01T04:30:13.237508",
     "exception": false,
     "start_time": "2024-04-01T04:30:13.203224",
     "status": "completed"
    },
    "tags": []
   },
   "outputs": [],
   "source": [
    "base_models = [\n",
    "    ('XGBoost', XGBRegressor(\n",
    "        random_state=27\n",
    "    )),\n",
    "    ('LightGBM', LGBMRegressor(\n",
    "        random_state=27\n",
    "    )),\n",
    "#     ('Catboost', CatBoostRegressor(\n",
    "#     random_state=27\n",
    "#     )),\n",
    "]"
   ]
  },
  {
   "cell_type": "markdown",
   "id": "98dbc49d",
   "metadata": {
    "papermill": {
     "duration": 0.025408,
     "end_time": "2024-04-01T04:30:13.288737",
     "exception": false,
     "start_time": "2024-04-01T04:30:13.263329",
     "status": "completed"
    },
    "tags": []
   },
   "source": [
    "![](https://www.frdc.com.au/sites/default/files/fish-magazine/images/fish-vol-26-2/P26_fi_abalone_diving_Yazbeck-Pic-(1).jpg?la=en&hash=2A20AECD5AF45A98BA91D7B78B402ABB4781D789)"
   ]
  },
  {
   "cell_type": "markdown",
   "id": "29f2946c",
   "metadata": {
    "papermill": {
     "duration": 0.024865,
     "end_time": "2024-04-01T04:30:13.338094",
     "exception": false,
     "start_time": "2024-04-01T04:30:13.313229",
     "status": "completed"
    },
    "tags": []
   },
   "source": [
    "<a id='13'></a>\n",
    "# <span style=\"color: #3EB489; border-bottom: 6px solid  #20603D; background-color: #fadb8c;\">⛵ Defining the meta-model</span>"
   ]
  },
  {
   "cell_type": "code",
   "execution_count": 26,
   "id": "b954410a",
   "metadata": {
    "execution": {
     "iopub.execute_input": "2024-04-01T04:30:13.390098Z",
     "iopub.status.busy": "2024-04-01T04:30:13.389736Z",
     "iopub.status.idle": "2024-04-01T04:30:13.398055Z",
     "shell.execute_reply": "2024-04-01T04:30:13.396900Z"
    },
    "papermill": {
     "duration": 0.037311,
     "end_time": "2024-04-01T04:30:13.400156",
     "exception": false,
     "start_time": "2024-04-01T04:30:13.362845",
     "status": "completed"
    },
    "tags": []
   },
   "outputs": [],
   "source": [
    "meta_model = CatBoostRegressor(\n",
    "    random_state=27\n",
    ")"
   ]
  },
  {
   "cell_type": "markdown",
   "id": "dcc55230",
   "metadata": {
    "papermill": {
     "duration": 0.025793,
     "end_time": "2024-04-01T04:30:13.452099",
     "exception": false,
     "start_time": "2024-04-01T04:30:13.426306",
     "status": "completed"
    },
    "tags": []
   },
   "source": [
    "<a id='14'></a>\n",
    "# <span style=\"color: #3EB489; border-bottom: 6px solid  #20603D; background-color: #fadb8c;\">🍤 Creating and fitting the stacking model"
   ]
  },
  {
   "cell_type": "code",
   "execution_count": 27,
   "id": "360427a3",
   "metadata": {
    "_kg_hide-output": true,
    "execution": {
     "iopub.execute_input": "2024-04-01T04:30:13.505842Z",
     "iopub.status.busy": "2024-04-01T04:30:13.505420Z",
     "iopub.status.idle": "2024-04-01T04:30:31.822227Z",
     "shell.execute_reply": "2024-04-01T04:30:31.821487Z"
    },
    "papermill": {
     "duration": 18.346411,
     "end_time": "2024-04-01T04:30:31.824243",
     "exception": false,
     "start_time": "2024-04-01T04:30:13.477832",
     "status": "completed"
    },
    "tags": []
   },
   "outputs": [
    {
     "name": "stdout",
     "output_type": "stream",
     "text": [
      "[LightGBM] [Warning] Found whitespace in feature_names, replace with underlines\n",
      "[LightGBM] [Info] Auto-choosing col-wise multi-threading, the overhead of testing was 0.019423 seconds.\n",
      "You can set `force_col_wise=true` to remove the overhead.\n",
      "[LightGBM] [Info] Total Bins 1590\n",
      "[LightGBM] [Info] Number of data points in the train set: 90615, number of used features: 10\n",
      "[LightGBM] [Info] Start training from score 9.696794\n",
      "[LightGBM] [Warning] Found whitespace in feature_names, replace with underlines\n",
      "[LightGBM] [Info] Auto-choosing col-wise multi-threading, the overhead of testing was 0.014400 seconds.\n",
      "You can set `force_col_wise=true` to remove the overhead.\n",
      "[LightGBM] [Info] Total Bins 1585\n",
      "[LightGBM] [Info] Number of data points in the train set: 72492, number of used features: 10\n",
      "[LightGBM] [Info] Start training from score 9.705223\n",
      "[LightGBM] [Warning] Found whitespace in feature_names, replace with underlines\n",
      "[LightGBM] [Info] Auto-choosing col-wise multi-threading, the overhead of testing was 0.014278 seconds.\n",
      "You can set `force_col_wise=true` to remove the overhead.\n",
      "[LightGBM] [Info] Total Bins 1582\n",
      "[LightGBM] [Info] Number of data points in the train set: 72492, number of used features: 10\n",
      "[LightGBM] [Info] Start training from score 9.685979\n",
      "[LightGBM] [Warning] Found whitespace in feature_names, replace with underlines\n",
      "[LightGBM] [Info] Auto-choosing col-wise multi-threading, the overhead of testing was 0.014043 seconds.\n",
      "You can set `force_col_wise=true` to remove the overhead.\n",
      "[LightGBM] [Info] Total Bins 1584\n",
      "[LightGBM] [Info] Number of data points in the train set: 72492, number of used features: 10\n",
      "[LightGBM] [Info] Start training from score 9.695194\n",
      "[LightGBM] [Warning] Found whitespace in feature_names, replace with underlines\n",
      "[LightGBM] [Info] Auto-choosing col-wise multi-threading, the overhead of testing was 0.014298 seconds.\n",
      "You can set `force_col_wise=true` to remove the overhead.\n",
      "[LightGBM] [Info] Total Bins 1583\n",
      "[LightGBM] [Info] Number of data points in the train set: 72492, number of used features: 10\n",
      "[LightGBM] [Info] Start training from score 9.703954\n",
      "[LightGBM] [Warning] Found whitespace in feature_names, replace with underlines\n",
      "[LightGBM] [Info] Auto-choosing col-wise multi-threading, the overhead of testing was 0.014251 seconds.\n",
      "You can set `force_col_wise=true` to remove the overhead.\n",
      "[LightGBM] [Info] Total Bins 1585\n",
      "[LightGBM] [Info] Number of data points in the train set: 72492, number of used features: 10\n",
      "[LightGBM] [Info] Start training from score 9.693621\n",
      "Learning rate set to 0.083448\n",
      "0:\tlearn: 3.0123504\ttotal: 62.9ms\tremaining: 1m 2s\n",
      "1:\tlearn: 2.8671769\ttotal: 70.9ms\tremaining: 35.4s\n",
      "2:\tlearn: 2.7372932\ttotal: 78.3ms\tremaining: 26s\n",
      "3:\tlearn: 2.6212658\ttotal: 85.9ms\tremaining: 21.4s\n",
      "4:\tlearn: 2.5201410\ttotal: 93.6ms\tremaining: 18.6s\n",
      "5:\tlearn: 2.4293394\ttotal: 101ms\tremaining: 16.7s\n",
      "6:\tlearn: 2.3506506\ttotal: 108ms\tremaining: 15.4s\n",
      "7:\tlearn: 2.2817289\ttotal: 118ms\tremaining: 14.6s\n",
      "8:\tlearn: 2.2216055\ttotal: 127ms\tremaining: 13.9s\n",
      "9:\tlearn: 2.1692518\ttotal: 134ms\tremaining: 13.3s\n",
      "10:\tlearn: 2.1239049\ttotal: 141ms\tremaining: 12.7s\n",
      "11:\tlearn: 2.0846561\ttotal: 148ms\tremaining: 12.2s\n",
      "12:\tlearn: 2.0504505\ttotal: 154ms\tremaining: 11.7s\n",
      "13:\tlearn: 2.0212662\ttotal: 161ms\tremaining: 11.3s\n",
      "14:\tlearn: 1.9953206\ttotal: 168ms\tremaining: 11s\n",
      "15:\tlearn: 1.9731450\ttotal: 175ms\tremaining: 10.8s\n",
      "16:\tlearn: 1.9551934\ttotal: 182ms\tremaining: 10.5s\n",
      "17:\tlearn: 1.9387498\ttotal: 191ms\tremaining: 10.4s\n",
      "18:\tlearn: 1.9248098\ttotal: 197ms\tremaining: 10.2s\n",
      "19:\tlearn: 1.9126929\ttotal: 205ms\tremaining: 10s\n",
      "20:\tlearn: 1.9022668\ttotal: 212ms\tremaining: 9.86s\n",
      "21:\tlearn: 1.8937033\ttotal: 218ms\tremaining: 9.69s\n",
      "22:\tlearn: 1.8865349\ttotal: 225ms\tremaining: 9.55s\n",
      "23:\tlearn: 1.8799583\ttotal: 232ms\tremaining: 9.43s\n",
      "24:\tlearn: 1.8744571\ttotal: 238ms\tremaining: 9.3s\n",
      "25:\tlearn: 1.8698530\ttotal: 245ms\tremaining: 9.19s\n",
      "26:\tlearn: 1.8658361\ttotal: 253ms\tremaining: 9.11s\n",
      "27:\tlearn: 1.8623510\ttotal: 259ms\tremaining: 9.01s\n",
      "28:\tlearn: 1.8593031\ttotal: 265ms\tremaining: 8.88s\n",
      "29:\tlearn: 1.8567279\ttotal: 272ms\tremaining: 8.78s\n",
      "30:\tlearn: 1.8545447\ttotal: 279ms\tremaining: 8.72s\n",
      "31:\tlearn: 1.8526247\ttotal: 286ms\tremaining: 8.65s\n",
      "32:\tlearn: 1.8510935\ttotal: 294ms\tremaining: 8.61s\n",
      "33:\tlearn: 1.8496616\ttotal: 301ms\tremaining: 8.56s\n",
      "34:\tlearn: 1.8484243\ttotal: 308ms\tremaining: 8.48s\n",
      "35:\tlearn: 1.8474027\ttotal: 314ms\tremaining: 8.41s\n",
      "36:\tlearn: 1.8465043\ttotal: 321ms\tremaining: 8.36s\n",
      "37:\tlearn: 1.8457460\ttotal: 328ms\tremaining: 8.31s\n",
      "38:\tlearn: 1.8450948\ttotal: 335ms\tremaining: 8.26s\n",
      "39:\tlearn: 1.8446034\ttotal: 342ms\tremaining: 8.22s\n",
      "40:\tlearn: 1.8441539\ttotal: 350ms\tremaining: 8.18s\n",
      "41:\tlearn: 1.8437568\ttotal: 359ms\tremaining: 8.19s\n",
      "42:\tlearn: 1.8433601\ttotal: 366ms\tremaining: 8.14s\n",
      "43:\tlearn: 1.8430598\ttotal: 373ms\tremaining: 8.11s\n",
      "44:\tlearn: 1.8427740\ttotal: 380ms\tremaining: 8.06s\n",
      "45:\tlearn: 1.8425333\ttotal: 386ms\tremaining: 8.01s\n",
      "46:\tlearn: 1.8423344\ttotal: 395ms\tremaining: 8.02s\n",
      "47:\tlearn: 1.8420924\ttotal: 402ms\tremaining: 7.98s\n",
      "48:\tlearn: 1.8419410\ttotal: 409ms\tremaining: 7.94s\n",
      "49:\tlearn: 1.8418194\ttotal: 416ms\tremaining: 7.91s\n",
      "50:\tlearn: 1.8417136\ttotal: 424ms\tremaining: 7.88s\n",
      "51:\tlearn: 1.8415652\ttotal: 431ms\tremaining: 7.85s\n",
      "52:\tlearn: 1.8414659\ttotal: 438ms\tremaining: 7.82s\n",
      "53:\tlearn: 1.8413380\ttotal: 445ms\tremaining: 7.79s\n",
      "54:\tlearn: 1.8412757\ttotal: 452ms\tremaining: 7.77s\n",
      "55:\tlearn: 1.8412003\ttotal: 460ms\tremaining: 7.75s\n",
      "56:\tlearn: 1.8411245\ttotal: 466ms\tremaining: 7.72s\n",
      "57:\tlearn: 1.8410744\ttotal: 474ms\tremaining: 7.69s\n",
      "58:\tlearn: 1.8410218\ttotal: 480ms\tremaining: 7.66s\n",
      "59:\tlearn: 1.8409420\ttotal: 488ms\tremaining: 7.64s\n",
      "60:\tlearn: 1.8408420\ttotal: 494ms\tremaining: 7.61s\n",
      "61:\tlearn: 1.8407928\ttotal: 501ms\tremaining: 7.58s\n",
      "62:\tlearn: 1.8407348\ttotal: 508ms\tremaining: 7.56s\n",
      "63:\tlearn: 1.8406621\ttotal: 515ms\tremaining: 7.53s\n",
      "64:\tlearn: 1.8406161\ttotal: 521ms\tremaining: 7.5s\n",
      "65:\tlearn: 1.8405581\ttotal: 529ms\tremaining: 7.48s\n",
      "66:\tlearn: 1.8405280\ttotal: 536ms\tremaining: 7.46s\n",
      "67:\tlearn: 1.8404998\ttotal: 543ms\tremaining: 7.44s\n",
      "68:\tlearn: 1.8404796\ttotal: 550ms\tremaining: 7.42s\n",
      "69:\tlearn: 1.8404301\ttotal: 557ms\tremaining: 7.39s\n",
      "70:\tlearn: 1.8403986\ttotal: 564ms\tremaining: 7.38s\n",
      "71:\tlearn: 1.8403570\ttotal: 570ms\tremaining: 7.35s\n",
      "72:\tlearn: 1.8402819\ttotal: 577ms\tremaining: 7.33s\n",
      "73:\tlearn: 1.8402393\ttotal: 584ms\tremaining: 7.31s\n",
      "74:\tlearn: 1.8402281\ttotal: 591ms\tremaining: 7.29s\n",
      "75:\tlearn: 1.8402108\ttotal: 601ms\tremaining: 7.31s\n",
      "76:\tlearn: 1.8401655\ttotal: 609ms\tremaining: 7.3s\n",
      "77:\tlearn: 1.8401384\ttotal: 615ms\tremaining: 7.27s\n",
      "78:\tlearn: 1.8400913\ttotal: 622ms\tremaining: 7.25s\n",
      "79:\tlearn: 1.8400720\ttotal: 630ms\tremaining: 7.25s\n",
      "80:\tlearn: 1.8400168\ttotal: 638ms\tremaining: 7.24s\n",
      "81:\tlearn: 1.8399983\ttotal: 646ms\tremaining: 7.23s\n",
      "82:\tlearn: 1.8399627\ttotal: 654ms\tremaining: 7.22s\n",
      "83:\tlearn: 1.8399381\ttotal: 661ms\tremaining: 7.21s\n",
      "84:\tlearn: 1.8399175\ttotal: 668ms\tremaining: 7.19s\n",
      "85:\tlearn: 1.8398544\ttotal: 675ms\tremaining: 7.17s\n",
      "86:\tlearn: 1.8398250\ttotal: 682ms\tremaining: 7.15s\n",
      "87:\tlearn: 1.8397662\ttotal: 689ms\tremaining: 7.14s\n",
      "88:\tlearn: 1.8397487\ttotal: 697ms\tremaining: 7.13s\n",
      "89:\tlearn: 1.8397161\ttotal: 704ms\tremaining: 7.12s\n",
      "90:\tlearn: 1.8396272\ttotal: 710ms\tremaining: 7.09s\n",
      "91:\tlearn: 1.8395305\ttotal: 717ms\tremaining: 7.08s\n",
      "92:\tlearn: 1.8395053\ttotal: 724ms\tremaining: 7.06s\n",
      "93:\tlearn: 1.8394556\ttotal: 731ms\tremaining: 7.04s\n",
      "94:\tlearn: 1.8393751\ttotal: 737ms\tremaining: 7.02s\n",
      "95:\tlearn: 1.8393623\ttotal: 744ms\tremaining: 7s\n",
      "96:\tlearn: 1.8393408\ttotal: 751ms\tremaining: 6.99s\n",
      "97:\tlearn: 1.8392800\ttotal: 756ms\tremaining: 6.96s\n",
      "98:\tlearn: 1.8392356\ttotal: 763ms\tremaining: 6.94s\n",
      "99:\tlearn: 1.8391994\ttotal: 769ms\tremaining: 6.92s\n",
      "100:\tlearn: 1.8391808\ttotal: 775ms\tremaining: 6.9s\n",
      "101:\tlearn: 1.8391626\ttotal: 782ms\tremaining: 6.89s\n",
      "102:\tlearn: 1.8391401\ttotal: 789ms\tremaining: 6.87s\n",
      "103:\tlearn: 1.8390582\ttotal: 795ms\tremaining: 6.85s\n",
      "104:\tlearn: 1.8389488\ttotal: 803ms\tremaining: 6.85s\n",
      "105:\tlearn: 1.8388821\ttotal: 810ms\tremaining: 6.83s\n",
      "106:\tlearn: 1.8388271\ttotal: 817ms\tremaining: 6.82s\n",
      "107:\tlearn: 1.8387951\ttotal: 823ms\tremaining: 6.8s\n",
      "108:\tlearn: 1.8387671\ttotal: 830ms\tremaining: 6.78s\n",
      "109:\tlearn: 1.8387133\ttotal: 837ms\tremaining: 6.77s\n",
      "110:\tlearn: 1.8386861\ttotal: 844ms\tremaining: 6.76s\n",
      "111:\tlearn: 1.8386174\ttotal: 851ms\tremaining: 6.74s\n",
      "112:\tlearn: 1.8385188\ttotal: 857ms\tremaining: 6.72s\n",
      "113:\tlearn: 1.8384878\ttotal: 863ms\tremaining: 6.71s\n",
      "114:\tlearn: 1.8384708\ttotal: 870ms\tremaining: 6.69s\n",
      "115:\tlearn: 1.8384435\ttotal: 876ms\tremaining: 6.68s\n",
      "116:\tlearn: 1.8384028\ttotal: 882ms\tremaining: 6.66s\n",
      "117:\tlearn: 1.8383567\ttotal: 889ms\tremaining: 6.64s\n",
      "118:\tlearn: 1.8383256\ttotal: 895ms\tremaining: 6.63s\n",
      "119:\tlearn: 1.8382852\ttotal: 902ms\tremaining: 6.61s\n",
      "120:\tlearn: 1.8382314\ttotal: 908ms\tremaining: 6.6s\n",
      "121:\tlearn: 1.8381855\ttotal: 914ms\tremaining: 6.58s\n",
      "122:\tlearn: 1.8381322\ttotal: 921ms\tremaining: 6.57s\n",
      "123:\tlearn: 1.8381146\ttotal: 928ms\tremaining: 6.56s\n",
      "124:\tlearn: 1.8381060\ttotal: 935ms\tremaining: 6.54s\n",
      "125:\tlearn: 1.8380777\ttotal: 942ms\tremaining: 6.53s\n",
      "126:\tlearn: 1.8380664\ttotal: 949ms\tremaining: 6.52s\n",
      "127:\tlearn: 1.8380401\ttotal: 956ms\tremaining: 6.51s\n",
      "128:\tlearn: 1.8379402\ttotal: 962ms\tremaining: 6.49s\n",
      "129:\tlearn: 1.8379318\ttotal: 969ms\tremaining: 6.49s\n",
      "130:\tlearn: 1.8379140\ttotal: 975ms\tremaining: 6.47s\n",
      "131:\tlearn: 1.8378880\ttotal: 982ms\tremaining: 6.46s\n",
      "132:\tlearn: 1.8378692\ttotal: 989ms\tremaining: 6.45s\n",
      "133:\tlearn: 1.8378617\ttotal: 995ms\tremaining: 6.43s\n",
      "134:\tlearn: 1.8378220\ttotal: 1s\tremaining: 6.44s\n",
      "135:\tlearn: 1.8377434\ttotal: 1.01s\tremaining: 6.42s\n",
      "136:\tlearn: 1.8376998\ttotal: 1.02s\tremaining: 6.4s\n",
      "137:\tlearn: 1.8376840\ttotal: 1.02s\tremaining: 6.39s\n",
      "138:\tlearn: 1.8376754\ttotal: 1.03s\tremaining: 6.38s\n",
      "139:\tlearn: 1.8375953\ttotal: 1.03s\tremaining: 6.36s\n",
      "140:\tlearn: 1.8375314\ttotal: 1.04s\tremaining: 6.34s\n",
      "141:\tlearn: 1.8375145\ttotal: 1.05s\tremaining: 6.33s\n",
      "142:\tlearn: 1.8374580\ttotal: 1.05s\tremaining: 6.32s\n",
      "143:\tlearn: 1.8374010\ttotal: 1.06s\tremaining: 6.31s\n",
      "144:\tlearn: 1.8373500\ttotal: 1.07s\tremaining: 6.3s\n",
      "145:\tlearn: 1.8372638\ttotal: 1.07s\tremaining: 6.28s\n",
      "146:\tlearn: 1.8372415\ttotal: 1.08s\tremaining: 6.27s\n",
      "147:\tlearn: 1.8371461\ttotal: 1.09s\tremaining: 6.25s\n",
      "148:\tlearn: 1.8371269\ttotal: 1.09s\tremaining: 6.24s\n",
      "149:\tlearn: 1.8370576\ttotal: 1.1s\tremaining: 6.23s\n",
      "150:\tlearn: 1.8369670\ttotal: 1.1s\tremaining: 6.21s\n",
      "151:\tlearn: 1.8368895\ttotal: 1.11s\tremaining: 6.2s\n",
      "152:\tlearn: 1.8368430\ttotal: 1.12s\tremaining: 6.19s\n",
      "153:\tlearn: 1.8367371\ttotal: 1.12s\tremaining: 6.17s\n",
      "154:\tlearn: 1.8366353\ttotal: 1.13s\tremaining: 6.16s\n",
      "155:\tlearn: 1.8365854\ttotal: 1.14s\tremaining: 6.15s\n",
      "156:\tlearn: 1.8365269\ttotal: 1.14s\tremaining: 6.14s\n",
      "157:\tlearn: 1.8364718\ttotal: 1.15s\tremaining: 6.13s\n",
      "158:\tlearn: 1.8363977\ttotal: 1.16s\tremaining: 6.11s\n",
      "159:\tlearn: 1.8363313\ttotal: 1.16s\tremaining: 6.1s\n",
      "160:\tlearn: 1.8362955\ttotal: 1.17s\tremaining: 6.09s\n",
      "161:\tlearn: 1.8362844\ttotal: 1.17s\tremaining: 6.08s\n",
      "162:\tlearn: 1.8361884\ttotal: 1.18s\tremaining: 6.06s\n",
      "163:\tlearn: 1.8361049\ttotal: 1.19s\tremaining: 6.05s\n",
      "164:\tlearn: 1.8360311\ttotal: 1.19s\tremaining: 6.04s\n",
      "165:\tlearn: 1.8359349\ttotal: 1.2s\tremaining: 6.03s\n",
      "166:\tlearn: 1.8358829\ttotal: 1.21s\tremaining: 6.02s\n",
      "167:\tlearn: 1.8357948\ttotal: 1.21s\tremaining: 6.02s\n",
      "168:\tlearn: 1.8357852\ttotal: 1.22s\tremaining: 6s\n",
      "169:\tlearn: 1.8357137\ttotal: 1.23s\tremaining: 5.99s\n",
      "170:\tlearn: 1.8356910\ttotal: 1.23s\tremaining: 5.97s\n",
      "171:\tlearn: 1.8356852\ttotal: 1.24s\tremaining: 5.96s\n",
      "172:\tlearn: 1.8356105\ttotal: 1.24s\tremaining: 5.95s\n",
      "173:\tlearn: 1.8354983\ttotal: 1.25s\tremaining: 5.94s\n",
      "174:\tlearn: 1.8354393\ttotal: 1.26s\tremaining: 5.92s\n",
      "175:\tlearn: 1.8354027\ttotal: 1.26s\tremaining: 5.91s\n",
      "176:\tlearn: 1.8353738\ttotal: 1.27s\tremaining: 5.9s\n",
      "177:\tlearn: 1.8353013\ttotal: 1.27s\tremaining: 5.89s\n",
      "178:\tlearn: 1.8352475\ttotal: 1.28s\tremaining: 5.88s\n",
      "179:\tlearn: 1.8352089\ttotal: 1.29s\tremaining: 5.87s\n",
      "180:\tlearn: 1.8351234\ttotal: 1.29s\tremaining: 5.86s\n",
      "181:\tlearn: 1.8350550\ttotal: 1.3s\tremaining: 5.84s\n",
      "182:\tlearn: 1.8350439\ttotal: 1.31s\tremaining: 5.83s\n",
      "183:\tlearn: 1.8350341\ttotal: 1.31s\tremaining: 5.82s\n",
      "184:\tlearn: 1.8350120\ttotal: 1.32s\tremaining: 5.81s\n",
      "185:\tlearn: 1.8349582\ttotal: 1.32s\tremaining: 5.8s\n",
      "186:\tlearn: 1.8349163\ttotal: 1.33s\tremaining: 5.79s\n",
      "187:\tlearn: 1.8348647\ttotal: 1.34s\tremaining: 5.79s\n",
      "188:\tlearn: 1.8347696\ttotal: 1.35s\tremaining: 5.78s\n",
      "189:\tlearn: 1.8346766\ttotal: 1.35s\tremaining: 5.77s\n",
      "190:\tlearn: 1.8346341\ttotal: 1.36s\tremaining: 5.76s\n",
      "191:\tlearn: 1.8345692\ttotal: 1.37s\tremaining: 5.75s\n",
      "192:\tlearn: 1.8344706\ttotal: 1.37s\tremaining: 5.75s\n",
      "193:\tlearn: 1.8344063\ttotal: 1.38s\tremaining: 5.73s\n",
      "194:\tlearn: 1.8343764\ttotal: 1.39s\tremaining: 5.72s\n",
      "195:\tlearn: 1.8343372\ttotal: 1.39s\tremaining: 5.71s\n",
      "196:\tlearn: 1.8342518\ttotal: 1.4s\tremaining: 5.71s\n",
      "197:\tlearn: 1.8342443\ttotal: 1.41s\tremaining: 5.7s\n",
      "198:\tlearn: 1.8341928\ttotal: 1.42s\tremaining: 5.7s\n",
      "199:\tlearn: 1.8340737\ttotal: 1.42s\tremaining: 5.69s\n",
      "200:\tlearn: 1.8340117\ttotal: 1.43s\tremaining: 5.68s\n",
      "201:\tlearn: 1.8339956\ttotal: 1.44s\tremaining: 5.67s\n",
      "202:\tlearn: 1.8339645\ttotal: 1.44s\tremaining: 5.66s\n",
      "203:\tlearn: 1.8338970\ttotal: 1.45s\tremaining: 5.65s\n",
      "204:\tlearn: 1.8338188\ttotal: 1.46s\tremaining: 5.64s\n",
      "205:\tlearn: 1.8338071\ttotal: 1.46s\tremaining: 5.63s\n",
      "206:\tlearn: 1.8337297\ttotal: 1.47s\tremaining: 5.63s\n",
      "207:\tlearn: 1.8336744\ttotal: 1.47s\tremaining: 5.62s\n",
      "208:\tlearn: 1.8336027\ttotal: 1.48s\tremaining: 5.61s\n",
      "209:\tlearn: 1.8335730\ttotal: 1.49s\tremaining: 5.6s\n",
      "210:\tlearn: 1.8335294\ttotal: 1.49s\tremaining: 5.59s\n",
      "211:\tlearn: 1.8334680\ttotal: 1.5s\tremaining: 5.58s\n",
      "212:\tlearn: 1.8334285\ttotal: 1.5s\tremaining: 5.56s\n",
      "213:\tlearn: 1.8333778\ttotal: 1.51s\tremaining: 5.55s\n",
      "214:\tlearn: 1.8333232\ttotal: 1.52s\tremaining: 5.54s\n",
      "215:\tlearn: 1.8332616\ttotal: 1.52s\tremaining: 5.53s\n",
      "216:\tlearn: 1.8331971\ttotal: 1.53s\tremaining: 5.52s\n",
      "217:\tlearn: 1.8331919\ttotal: 1.54s\tremaining: 5.51s\n",
      "218:\tlearn: 1.8331832\ttotal: 1.54s\tremaining: 5.5s\n",
      "219:\tlearn: 1.8331245\ttotal: 1.55s\tremaining: 5.49s\n",
      "220:\tlearn: 1.8330510\ttotal: 1.55s\tremaining: 5.48s\n",
      "221:\tlearn: 1.8330072\ttotal: 1.56s\tremaining: 5.47s\n",
      "222:\tlearn: 1.8329828\ttotal: 1.57s\tremaining: 5.46s\n",
      "223:\tlearn: 1.8329189\ttotal: 1.57s\tremaining: 5.45s\n",
      "224:\tlearn: 1.8328770\ttotal: 1.58s\tremaining: 5.44s\n",
      "225:\tlearn: 1.8328541\ttotal: 1.59s\tremaining: 5.43s\n",
      "226:\tlearn: 1.8327891\ttotal: 1.59s\tremaining: 5.43s\n",
      "227:\tlearn: 1.8327728\ttotal: 1.6s\tremaining: 5.42s\n",
      "228:\tlearn: 1.8327519\ttotal: 1.61s\tremaining: 5.42s\n",
      "229:\tlearn: 1.8327115\ttotal: 1.62s\tremaining: 5.41s\n",
      "230:\tlearn: 1.8326669\ttotal: 1.62s\tremaining: 5.41s\n",
      "231:\tlearn: 1.8325978\ttotal: 1.63s\tremaining: 5.4s\n",
      "232:\tlearn: 1.8325275\ttotal: 1.64s\tremaining: 5.39s\n",
      "233:\tlearn: 1.8325062\ttotal: 1.65s\tremaining: 5.39s\n",
      "234:\tlearn: 1.8324822\ttotal: 1.65s\tremaining: 5.38s\n",
      "235:\tlearn: 1.8323775\ttotal: 1.66s\tremaining: 5.37s\n",
      "236:\tlearn: 1.8323260\ttotal: 1.67s\tremaining: 5.36s\n",
      "237:\tlearn: 1.8323097\ttotal: 1.67s\tremaining: 5.35s\n",
      "238:\tlearn: 1.8322349\ttotal: 1.68s\tremaining: 5.34s\n",
      "239:\tlearn: 1.8321627\ttotal: 1.68s\tremaining: 5.33s\n",
      "240:\tlearn: 1.8321019\ttotal: 1.69s\tremaining: 5.32s\n",
      "241:\tlearn: 1.8320756\ttotal: 1.7s\tremaining: 5.31s\n",
      "242:\tlearn: 1.8319850\ttotal: 1.7s\tremaining: 5.3s\n",
      "243:\tlearn: 1.8319311\ttotal: 1.71s\tremaining: 5.29s\n",
      "244:\tlearn: 1.8318775\ttotal: 1.72s\tremaining: 5.29s\n",
      "245:\tlearn: 1.8318041\ttotal: 1.72s\tremaining: 5.27s\n",
      "246:\tlearn: 1.8317443\ttotal: 1.73s\tremaining: 5.27s\n",
      "247:\tlearn: 1.8317021\ttotal: 1.73s\tremaining: 5.25s\n",
      "248:\tlearn: 1.8316956\ttotal: 1.74s\tremaining: 5.24s\n",
      "249:\tlearn: 1.8316581\ttotal: 1.75s\tremaining: 5.24s\n",
      "250:\tlearn: 1.8316010\ttotal: 1.75s\tremaining: 5.23s\n",
      "251:\tlearn: 1.8315684\ttotal: 1.76s\tremaining: 5.22s\n",
      "252:\tlearn: 1.8315314\ttotal: 1.76s\tremaining: 5.21s\n",
      "253:\tlearn: 1.8314811\ttotal: 1.77s\tremaining: 5.2s\n",
      "254:\tlearn: 1.8314249\ttotal: 1.78s\tremaining: 5.2s\n",
      "255:\tlearn: 1.8314030\ttotal: 1.78s\tremaining: 5.19s\n",
      "256:\tlearn: 1.8313508\ttotal: 1.79s\tremaining: 5.18s\n",
      "257:\tlearn: 1.8313283\ttotal: 1.8s\tremaining: 5.17s\n",
      "258:\tlearn: 1.8312838\ttotal: 1.8s\tremaining: 5.17s\n",
      "259:\tlearn: 1.8312690\ttotal: 1.81s\tremaining: 5.16s\n",
      "260:\tlearn: 1.8311970\ttotal: 1.82s\tremaining: 5.16s\n",
      "261:\tlearn: 1.8311380\ttotal: 1.83s\tremaining: 5.15s\n",
      "262:\tlearn: 1.8311316\ttotal: 1.83s\tremaining: 5.14s\n",
      "263:\tlearn: 1.8310262\ttotal: 1.84s\tremaining: 5.13s\n",
      "264:\tlearn: 1.8309380\ttotal: 1.84s\tremaining: 5.12s\n",
      "265:\tlearn: 1.8308933\ttotal: 1.85s\tremaining: 5.11s\n",
      "266:\tlearn: 1.8308390\ttotal: 1.86s\tremaining: 5.1s\n",
      "267:\tlearn: 1.8307838\ttotal: 1.87s\tremaining: 5.1s\n",
      "268:\tlearn: 1.8307420\ttotal: 1.87s\tremaining: 5.09s\n",
      "269:\tlearn: 1.8307048\ttotal: 1.88s\tremaining: 5.08s\n",
      "270:\tlearn: 1.8306885\ttotal: 1.88s\tremaining: 5.07s\n",
      "271:\tlearn: 1.8306453\ttotal: 1.89s\tremaining: 5.06s\n",
      "272:\tlearn: 1.8306400\ttotal: 1.9s\tremaining: 5.05s\n",
      "273:\tlearn: 1.8305782\ttotal: 1.9s\tremaining: 5.05s\n",
      "274:\tlearn: 1.8305231\ttotal: 1.91s\tremaining: 5.04s\n",
      "275:\tlearn: 1.8304622\ttotal: 1.92s\tremaining: 5.03s\n",
      "276:\tlearn: 1.8303982\ttotal: 1.92s\tremaining: 5.02s\n",
      "277:\tlearn: 1.8303794\ttotal: 1.93s\tremaining: 5.01s\n",
      "278:\tlearn: 1.8303677\ttotal: 1.94s\tremaining: 5s\n",
      "279:\tlearn: 1.8302847\ttotal: 1.94s\tremaining: 5s\n",
      "280:\tlearn: 1.8302499\ttotal: 1.95s\tremaining: 4.99s\n",
      "281:\tlearn: 1.8302383\ttotal: 1.96s\tremaining: 4.98s\n",
      "282:\tlearn: 1.8302331\ttotal: 1.96s\tremaining: 4.97s\n",
      "283:\tlearn: 1.8301724\ttotal: 1.97s\tremaining: 4.96s\n",
      "284:\tlearn: 1.8301606\ttotal: 1.98s\tremaining: 4.96s\n",
      "285:\tlearn: 1.8300908\ttotal: 1.98s\tremaining: 4.95s\n",
      "286:\tlearn: 1.8300714\ttotal: 1.99s\tremaining: 4.94s\n",
      "287:\tlearn: 1.8300174\ttotal: 1.99s\tremaining: 4.93s\n",
      "288:\tlearn: 1.8299293\ttotal: 2s\tremaining: 4.92s\n",
      "289:\tlearn: 1.8299068\ttotal: 2.01s\tremaining: 4.91s\n",
      "290:\tlearn: 1.8298544\ttotal: 2.01s\tremaining: 4.91s\n",
      "291:\tlearn: 1.8298095\ttotal: 2.02s\tremaining: 4.9s\n",
      "292:\tlearn: 1.8297701\ttotal: 2.03s\tremaining: 4.89s\n",
      "293:\tlearn: 1.8297604\ttotal: 2.03s\tremaining: 4.88s\n",
      "294:\tlearn: 1.8297040\ttotal: 2.04s\tremaining: 4.87s\n",
      "295:\tlearn: 1.8296613\ttotal: 2.05s\tremaining: 4.87s\n",
      "296:\tlearn: 1.8296497\ttotal: 2.05s\tremaining: 4.86s\n",
      "297:\tlearn: 1.8295967\ttotal: 2.06s\tremaining: 4.85s\n",
      "298:\tlearn: 1.8295635\ttotal: 2.06s\tremaining: 4.84s\n",
      "299:\tlearn: 1.8295266\ttotal: 2.07s\tremaining: 4.83s\n",
      "300:\tlearn: 1.8294657\ttotal: 2.08s\tremaining: 4.82s\n",
      "301:\tlearn: 1.8294612\ttotal: 2.08s\tremaining: 4.81s\n",
      "302:\tlearn: 1.8294171\ttotal: 2.09s\tremaining: 4.8s\n",
      "303:\tlearn: 1.8294133\ttotal: 2.09s\tremaining: 4.79s\n",
      "304:\tlearn: 1.8293364\ttotal: 2.1s\tremaining: 4.78s\n",
      "305:\tlearn: 1.8293331\ttotal: 2.1s\tremaining: 4.77s\n",
      "306:\tlearn: 1.8292737\ttotal: 2.11s\tremaining: 4.76s\n",
      "307:\tlearn: 1.8292280\ttotal: 2.12s\tremaining: 4.75s\n",
      "308:\tlearn: 1.8291985\ttotal: 2.12s\tremaining: 4.75s\n",
      "309:\tlearn: 1.8291647\ttotal: 2.13s\tremaining: 4.74s\n",
      "310:\tlearn: 1.8291207\ttotal: 2.14s\tremaining: 4.73s\n",
      "311:\tlearn: 1.8290445\ttotal: 2.14s\tremaining: 4.72s\n",
      "312:\tlearn: 1.8290319\ttotal: 2.15s\tremaining: 4.72s\n",
      "313:\tlearn: 1.8290129\ttotal: 2.15s\tremaining: 4.71s\n",
      "314:\tlearn: 1.8289757\ttotal: 2.16s\tremaining: 4.7s\n",
      "315:\tlearn: 1.8289596\ttotal: 2.17s\tremaining: 4.69s\n",
      "316:\tlearn: 1.8289292\ttotal: 2.17s\tremaining: 4.68s\n",
      "317:\tlearn: 1.8288668\ttotal: 2.18s\tremaining: 4.67s\n",
      "318:\tlearn: 1.8288042\ttotal: 2.19s\tremaining: 4.67s\n",
      "319:\tlearn: 1.8287511\ttotal: 2.19s\tremaining: 4.66s\n",
      "320:\tlearn: 1.8286928\ttotal: 2.2s\tremaining: 4.65s\n",
      "321:\tlearn: 1.8286439\ttotal: 2.2s\tremaining: 4.64s\n",
      "322:\tlearn: 1.8285907\ttotal: 2.21s\tremaining: 4.63s\n",
      "323:\tlearn: 1.8285598\ttotal: 2.22s\tremaining: 4.63s\n",
      "324:\tlearn: 1.8285348\ttotal: 2.22s\tremaining: 4.62s\n",
      "325:\tlearn: 1.8284893\ttotal: 2.23s\tremaining: 4.61s\n",
      "326:\tlearn: 1.8284842\ttotal: 2.24s\tremaining: 4.6s\n",
      "327:\tlearn: 1.8284437\ttotal: 2.24s\tremaining: 4.59s\n",
      "328:\tlearn: 1.8284071\ttotal: 2.25s\tremaining: 4.59s\n",
      "329:\tlearn: 1.8283720\ttotal: 2.26s\tremaining: 4.58s\n",
      "330:\tlearn: 1.8283395\ttotal: 2.26s\tremaining: 4.57s\n",
      "331:\tlearn: 1.8282902\ttotal: 2.27s\tremaining: 4.57s\n",
      "332:\tlearn: 1.8282526\ttotal: 2.28s\tremaining: 4.56s\n",
      "333:\tlearn: 1.8281975\ttotal: 2.28s\tremaining: 4.55s\n",
      "334:\tlearn: 1.8281921\ttotal: 2.29s\tremaining: 4.54s\n",
      "335:\tlearn: 1.8281515\ttotal: 2.29s\tremaining: 4.54s\n",
      "336:\tlearn: 1.8281104\ttotal: 2.3s\tremaining: 4.53s\n",
      "337:\tlearn: 1.8281060\ttotal: 2.31s\tremaining: 4.52s\n",
      "338:\tlearn: 1.8280477\ttotal: 2.31s\tremaining: 4.51s\n",
      "339:\tlearn: 1.8280349\ttotal: 2.32s\tremaining: 4.5s\n",
      "340:\tlearn: 1.8279656\ttotal: 2.33s\tremaining: 4.5s\n",
      "341:\tlearn: 1.8279028\ttotal: 2.33s\tremaining: 4.49s\n",
      "342:\tlearn: 1.8278647\ttotal: 2.34s\tremaining: 4.49s\n",
      "343:\tlearn: 1.8278572\ttotal: 2.35s\tremaining: 4.48s\n",
      "344:\tlearn: 1.8278309\ttotal: 2.35s\tremaining: 4.47s\n",
      "345:\tlearn: 1.8277978\ttotal: 2.36s\tremaining: 4.46s\n",
      "346:\tlearn: 1.8277575\ttotal: 2.37s\tremaining: 4.46s\n",
      "347:\tlearn: 1.8277263\ttotal: 2.37s\tremaining: 4.45s\n",
      "348:\tlearn: 1.8276701\ttotal: 2.38s\tremaining: 4.44s\n",
      "349:\tlearn: 1.8276531\ttotal: 2.39s\tremaining: 4.43s\n",
      "350:\tlearn: 1.8276243\ttotal: 2.39s\tremaining: 4.43s\n",
      "351:\tlearn: 1.8276104\ttotal: 2.4s\tremaining: 4.42s\n",
      "352:\tlearn: 1.8275772\ttotal: 2.41s\tremaining: 4.41s\n",
      "353:\tlearn: 1.8275371\ttotal: 2.41s\tremaining: 4.41s\n",
      "354:\tlearn: 1.8275041\ttotal: 2.42s\tremaining: 4.4s\n",
      "355:\tlearn: 1.8274524\ttotal: 2.43s\tremaining: 4.39s\n",
      "356:\tlearn: 1.8273969\ttotal: 2.44s\tremaining: 4.39s\n",
      "357:\tlearn: 1.8273791\ttotal: 2.44s\tremaining: 4.38s\n",
      "358:\tlearn: 1.8273721\ttotal: 2.45s\tremaining: 4.37s\n",
      "359:\tlearn: 1.8273419\ttotal: 2.46s\tremaining: 4.36s\n",
      "360:\tlearn: 1.8273031\ttotal: 2.46s\tremaining: 4.36s\n",
      "361:\tlearn: 1.8272667\ttotal: 2.47s\tremaining: 4.35s\n",
      "362:\tlearn: 1.8272595\ttotal: 2.47s\tremaining: 4.34s\n",
      "363:\tlearn: 1.8272468\ttotal: 2.48s\tremaining: 4.33s\n",
      "364:\tlearn: 1.8272308\ttotal: 2.49s\tremaining: 4.33s\n",
      "365:\tlearn: 1.8271878\ttotal: 2.49s\tremaining: 4.32s\n",
      "366:\tlearn: 1.8271693\ttotal: 2.5s\tremaining: 4.31s\n",
      "367:\tlearn: 1.8271364\ttotal: 2.51s\tremaining: 4.31s\n",
      "368:\tlearn: 1.8271325\ttotal: 2.51s\tremaining: 4.3s\n",
      "369:\tlearn: 1.8270987\ttotal: 2.52s\tremaining: 4.29s\n",
      "370:\tlearn: 1.8270596\ttotal: 2.53s\tremaining: 4.28s\n",
      "371:\tlearn: 1.8270166\ttotal: 2.53s\tremaining: 4.28s\n",
      "372:\tlearn: 1.8269819\ttotal: 2.54s\tremaining: 4.27s\n",
      "373:\tlearn: 1.8269573\ttotal: 2.55s\tremaining: 4.26s\n",
      "374:\tlearn: 1.8269509\ttotal: 2.55s\tremaining: 4.25s\n",
      "375:\tlearn: 1.8269005\ttotal: 2.56s\tremaining: 4.25s\n",
      "376:\tlearn: 1.8268671\ttotal: 2.57s\tremaining: 4.24s\n",
      "377:\tlearn: 1.8268396\ttotal: 2.57s\tremaining: 4.23s\n",
      "378:\tlearn: 1.8268089\ttotal: 2.58s\tremaining: 4.22s\n",
      "379:\tlearn: 1.8267546\ttotal: 2.58s\tremaining: 4.22s\n",
      "380:\tlearn: 1.8267165\ttotal: 2.59s\tremaining: 4.21s\n",
      "381:\tlearn: 1.8266768\ttotal: 2.6s\tremaining: 4.2s\n",
      "382:\tlearn: 1.8266722\ttotal: 2.6s\tremaining: 4.19s\n",
      "383:\tlearn: 1.8266413\ttotal: 2.61s\tremaining: 4.19s\n",
      "384:\tlearn: 1.8266040\ttotal: 2.62s\tremaining: 4.18s\n",
      "385:\tlearn: 1.8265894\ttotal: 2.62s\tremaining: 4.17s\n",
      "386:\tlearn: 1.8265795\ttotal: 2.63s\tremaining: 4.17s\n",
      "387:\tlearn: 1.8265387\ttotal: 2.64s\tremaining: 4.16s\n",
      "388:\tlearn: 1.8264866\ttotal: 2.64s\tremaining: 4.15s\n",
      "389:\tlearn: 1.8264727\ttotal: 2.65s\tremaining: 4.15s\n",
      "390:\tlearn: 1.8264464\ttotal: 2.66s\tremaining: 4.14s\n",
      "391:\tlearn: 1.8264220\ttotal: 2.66s\tremaining: 4.13s\n",
      "392:\tlearn: 1.8263567\ttotal: 2.67s\tremaining: 4.12s\n",
      "393:\tlearn: 1.8263421\ttotal: 2.67s\tremaining: 4.11s\n",
      "394:\tlearn: 1.8263120\ttotal: 2.68s\tremaining: 4.11s\n",
      "395:\tlearn: 1.8262812\ttotal: 2.69s\tremaining: 4.1s\n",
      "396:\tlearn: 1.8262709\ttotal: 2.69s\tremaining: 4.09s\n",
      "397:\tlearn: 1.8262335\ttotal: 2.7s\tremaining: 4.08s\n",
      "398:\tlearn: 1.8261999\ttotal: 2.71s\tremaining: 4.08s\n",
      "399:\tlearn: 1.8261394\ttotal: 2.71s\tremaining: 4.07s\n",
      "400:\tlearn: 1.8261090\ttotal: 2.72s\tremaining: 4.06s\n",
      "401:\tlearn: 1.8260647\ttotal: 2.73s\tremaining: 4.06s\n",
      "402:\tlearn: 1.8260276\ttotal: 2.73s\tremaining: 4.05s\n",
      "403:\tlearn: 1.8259790\ttotal: 2.74s\tremaining: 4.04s\n",
      "404:\tlearn: 1.8259376\ttotal: 2.75s\tremaining: 4.04s\n",
      "405:\tlearn: 1.8259049\ttotal: 2.75s\tremaining: 4.03s\n",
      "406:\tlearn: 1.8258618\ttotal: 2.76s\tremaining: 4.02s\n",
      "407:\tlearn: 1.8258301\ttotal: 2.77s\tremaining: 4.01s\n",
      "408:\tlearn: 1.8258001\ttotal: 2.77s\tremaining: 4.01s\n",
      "409:\tlearn: 1.8257803\ttotal: 2.78s\tremaining: 4s\n",
      "410:\tlearn: 1.8257745\ttotal: 2.79s\tremaining: 4s\n",
      "411:\tlearn: 1.8257449\ttotal: 2.79s\tremaining: 3.99s\n",
      "412:\tlearn: 1.8257153\ttotal: 2.8s\tremaining: 3.98s\n",
      "413:\tlearn: 1.8257007\ttotal: 2.81s\tremaining: 3.98s\n",
      "414:\tlearn: 1.8256662\ttotal: 2.81s\tremaining: 3.97s\n",
      "415:\tlearn: 1.8256239\ttotal: 2.82s\tremaining: 3.96s\n",
      "416:\tlearn: 1.8256152\ttotal: 2.83s\tremaining: 3.96s\n",
      "417:\tlearn: 1.8255747\ttotal: 2.84s\tremaining: 3.95s\n",
      "418:\tlearn: 1.8255689\ttotal: 2.84s\tremaining: 3.94s\n",
      "419:\tlearn: 1.8255491\ttotal: 2.85s\tremaining: 3.93s\n",
      "420:\tlearn: 1.8255337\ttotal: 2.85s\tremaining: 3.93s\n",
      "421:\tlearn: 1.8255051\ttotal: 2.86s\tremaining: 3.92s\n",
      "422:\tlearn: 1.8254785\ttotal: 2.87s\tremaining: 3.91s\n",
      "423:\tlearn: 1.8254585\ttotal: 2.87s\tremaining: 3.9s\n",
      "424:\tlearn: 1.8254308\ttotal: 2.88s\tremaining: 3.9s\n",
      "425:\tlearn: 1.8254113\ttotal: 2.89s\tremaining: 3.89s\n",
      "426:\tlearn: 1.8253853\ttotal: 2.9s\tremaining: 3.88s\n",
      "427:\tlearn: 1.8253488\ttotal: 2.9s\tremaining: 3.88s\n",
      "428:\tlearn: 1.8253317\ttotal: 2.91s\tremaining: 3.87s\n",
      "429:\tlearn: 1.8253060\ttotal: 2.92s\tremaining: 3.87s\n",
      "430:\tlearn: 1.8253019\ttotal: 2.92s\tremaining: 3.86s\n",
      "431:\tlearn: 1.8252269\ttotal: 2.93s\tremaining: 3.85s\n",
      "432:\tlearn: 1.8251731\ttotal: 2.94s\tremaining: 3.84s\n",
      "433:\tlearn: 1.8251271\ttotal: 2.94s\tremaining: 3.84s\n",
      "434:\tlearn: 1.8251015\ttotal: 2.95s\tremaining: 3.83s\n",
      "435:\tlearn: 1.8250303\ttotal: 2.96s\tremaining: 3.82s\n",
      "436:\tlearn: 1.8250019\ttotal: 2.96s\tremaining: 3.82s\n",
      "437:\tlearn: 1.8249437\ttotal: 2.97s\tremaining: 3.81s\n",
      "438:\tlearn: 1.8248989\ttotal: 2.98s\tremaining: 3.8s\n",
      "439:\tlearn: 1.8248582\ttotal: 2.98s\tremaining: 3.79s\n",
      "440:\tlearn: 1.8248521\ttotal: 2.99s\tremaining: 3.79s\n",
      "441:\tlearn: 1.8248493\ttotal: 2.99s\tremaining: 3.78s\n",
      "442:\tlearn: 1.8248058\ttotal: 3s\tremaining: 3.77s\n",
      "443:\tlearn: 1.8247948\ttotal: 3.01s\tremaining: 3.77s\n",
      "444:\tlearn: 1.8247855\ttotal: 3.01s\tremaining: 3.76s\n",
      "445:\tlearn: 1.8247774\ttotal: 3.02s\tremaining: 3.76s\n",
      "446:\tlearn: 1.8247732\ttotal: 3.03s\tremaining: 3.75s\n",
      "447:\tlearn: 1.8247488\ttotal: 3.04s\tremaining: 3.74s\n",
      "448:\tlearn: 1.8247355\ttotal: 3.04s\tremaining: 3.74s\n",
      "449:\tlearn: 1.8246865\ttotal: 3.05s\tremaining: 3.73s\n",
      "450:\tlearn: 1.8246520\ttotal: 3.06s\tremaining: 3.72s\n",
      "451:\tlearn: 1.8246265\ttotal: 3.06s\tremaining: 3.72s\n",
      "452:\tlearn: 1.8246083\ttotal: 3.07s\tremaining: 3.71s\n",
      "453:\tlearn: 1.8246044\ttotal: 3.08s\tremaining: 3.7s\n",
      "454:\tlearn: 1.8245758\ttotal: 3.09s\tremaining: 3.7s\n",
      "455:\tlearn: 1.8245307\ttotal: 3.09s\tremaining: 3.69s\n",
      "456:\tlearn: 1.8245017\ttotal: 3.1s\tremaining: 3.68s\n",
      "457:\tlearn: 1.8244854\ttotal: 3.11s\tremaining: 3.68s\n",
      "458:\tlearn: 1.8244407\ttotal: 3.11s\tremaining: 3.67s\n",
      "459:\tlearn: 1.8244159\ttotal: 3.12s\tremaining: 3.66s\n",
      "460:\tlearn: 1.8243851\ttotal: 3.13s\tremaining: 3.66s\n",
      "461:\tlearn: 1.8243547\ttotal: 3.13s\tremaining: 3.65s\n",
      "462:\tlearn: 1.8243512\ttotal: 3.14s\tremaining: 3.64s\n",
      "463:\tlearn: 1.8243328\ttotal: 3.15s\tremaining: 3.64s\n",
      "464:\tlearn: 1.8243072\ttotal: 3.15s\tremaining: 3.63s\n",
      "465:\tlearn: 1.8242818\ttotal: 3.16s\tremaining: 3.62s\n",
      "466:\tlearn: 1.8242403\ttotal: 3.17s\tremaining: 3.62s\n",
      "467:\tlearn: 1.8241917\ttotal: 3.17s\tremaining: 3.61s\n",
      "468:\tlearn: 1.8241691\ttotal: 3.18s\tremaining: 3.6s\n",
      "469:\tlearn: 1.8241410\ttotal: 3.19s\tremaining: 3.6s\n",
      "470:\tlearn: 1.8241323\ttotal: 3.19s\tremaining: 3.59s\n",
      "471:\tlearn: 1.8241092\ttotal: 3.2s\tremaining: 3.58s\n",
      "472:\tlearn: 1.8240642\ttotal: 3.21s\tremaining: 3.58s\n",
      "473:\tlearn: 1.8240386\ttotal: 3.21s\tremaining: 3.57s\n",
      "474:\tlearn: 1.8240175\ttotal: 3.22s\tremaining: 3.56s\n",
      "475:\tlearn: 1.8239949\ttotal: 3.23s\tremaining: 3.56s\n",
      "476:\tlearn: 1.8239878\ttotal: 3.24s\tremaining: 3.55s\n",
      "477:\tlearn: 1.8239833\ttotal: 3.25s\tremaining: 3.54s\n",
      "478:\tlearn: 1.8239457\ttotal: 3.25s\tremaining: 3.54s\n",
      "479:\tlearn: 1.8239169\ttotal: 3.26s\tremaining: 3.53s\n",
      "480:\tlearn: 1.8239114\ttotal: 3.26s\tremaining: 3.52s\n",
      "481:\tlearn: 1.8238572\ttotal: 3.27s\tremaining: 3.52s\n",
      "482:\tlearn: 1.8238387\ttotal: 3.28s\tremaining: 3.51s\n",
      "483:\tlearn: 1.8238169\ttotal: 3.28s\tremaining: 3.5s\n",
      "484:\tlearn: 1.8237800\ttotal: 3.29s\tremaining: 3.5s\n",
      "485:\tlearn: 1.8237515\ttotal: 3.3s\tremaining: 3.49s\n",
      "486:\tlearn: 1.8237265\ttotal: 3.3s\tremaining: 3.48s\n",
      "487:\tlearn: 1.8236613\ttotal: 3.31s\tremaining: 3.47s\n",
      "488:\tlearn: 1.8236044\ttotal: 3.32s\tremaining: 3.47s\n",
      "489:\tlearn: 1.8235951\ttotal: 3.33s\tremaining: 3.46s\n",
      "490:\tlearn: 1.8235675\ttotal: 3.33s\tremaining: 3.46s\n",
      "491:\tlearn: 1.8235115\ttotal: 3.34s\tremaining: 3.45s\n",
      "492:\tlearn: 1.8234902\ttotal: 3.35s\tremaining: 3.44s\n",
      "493:\tlearn: 1.8234741\ttotal: 3.36s\tremaining: 3.44s\n",
      "494:\tlearn: 1.8234236\ttotal: 3.36s\tremaining: 3.43s\n",
      "495:\tlearn: 1.8234197\ttotal: 3.37s\tremaining: 3.43s\n",
      "496:\tlearn: 1.8233639\ttotal: 3.38s\tremaining: 3.42s\n",
      "497:\tlearn: 1.8233358\ttotal: 3.39s\tremaining: 3.42s\n",
      "498:\tlearn: 1.8233217\ttotal: 3.4s\tremaining: 3.41s\n",
      "499:\tlearn: 1.8232781\ttotal: 3.4s\tremaining: 3.4s\n",
      "500:\tlearn: 1.8232736\ttotal: 3.41s\tremaining: 3.4s\n",
      "501:\tlearn: 1.8232486\ttotal: 3.42s\tremaining: 3.4s\n",
      "502:\tlearn: 1.8232020\ttotal: 3.43s\tremaining: 3.39s\n",
      "503:\tlearn: 1.8231636\ttotal: 3.44s\tremaining: 3.38s\n",
      "504:\tlearn: 1.8231562\ttotal: 3.45s\tremaining: 3.38s\n",
      "505:\tlearn: 1.8231047\ttotal: 3.45s\tremaining: 3.37s\n",
      "506:\tlearn: 1.8230948\ttotal: 3.46s\tremaining: 3.36s\n",
      "507:\tlearn: 1.8230721\ttotal: 3.47s\tremaining: 3.36s\n",
      "508:\tlearn: 1.8230273\ttotal: 3.48s\tremaining: 3.35s\n",
      "509:\tlearn: 1.8230108\ttotal: 3.48s\tremaining: 3.35s\n",
      "510:\tlearn: 1.8230078\ttotal: 3.49s\tremaining: 3.34s\n",
      "511:\tlearn: 1.8229867\ttotal: 3.5s\tremaining: 3.33s\n",
      "512:\tlearn: 1.8229660\ttotal: 3.5s\tremaining: 3.33s\n",
      "513:\tlearn: 1.8229153\ttotal: 3.51s\tremaining: 3.32s\n",
      "514:\tlearn: 1.8228585\ttotal: 3.52s\tremaining: 3.31s\n",
      "515:\tlearn: 1.8228293\ttotal: 3.53s\tremaining: 3.31s\n",
      "516:\tlearn: 1.8227849\ttotal: 3.53s\tremaining: 3.3s\n",
      "517:\tlearn: 1.8227668\ttotal: 3.54s\tremaining: 3.29s\n",
      "518:\tlearn: 1.8227326\ttotal: 3.55s\tremaining: 3.29s\n",
      "519:\tlearn: 1.8227048\ttotal: 3.56s\tremaining: 3.29s\n",
      "520:\tlearn: 1.8226825\ttotal: 3.57s\tremaining: 3.28s\n",
      "521:\tlearn: 1.8226754\ttotal: 3.57s\tremaining: 3.27s\n",
      "522:\tlearn: 1.8226726\ttotal: 3.58s\tremaining: 3.27s\n",
      "523:\tlearn: 1.8226346\ttotal: 3.59s\tremaining: 3.26s\n",
      "524:\tlearn: 1.8226210\ttotal: 3.59s\tremaining: 3.25s\n",
      "525:\tlearn: 1.8226086\ttotal: 3.6s\tremaining: 3.25s\n",
      "526:\tlearn: 1.8225851\ttotal: 3.61s\tremaining: 3.24s\n",
      "527:\tlearn: 1.8225600\ttotal: 3.62s\tremaining: 3.23s\n",
      "528:\tlearn: 1.8225172\ttotal: 3.62s\tremaining: 3.23s\n",
      "529:\tlearn: 1.8225101\ttotal: 3.63s\tremaining: 3.22s\n",
      "530:\tlearn: 1.8224851\ttotal: 3.64s\tremaining: 3.21s\n",
      "531:\tlearn: 1.8224692\ttotal: 3.65s\tremaining: 3.21s\n",
      "532:\tlearn: 1.8224378\ttotal: 3.65s\tremaining: 3.2s\n",
      "533:\tlearn: 1.8224222\ttotal: 3.66s\tremaining: 3.2s\n",
      "534:\tlearn: 1.8223711\ttotal: 3.67s\tremaining: 3.19s\n",
      "535:\tlearn: 1.8223574\ttotal: 3.68s\tremaining: 3.18s\n",
      "536:\tlearn: 1.8223273\ttotal: 3.69s\tremaining: 3.18s\n",
      "537:\tlearn: 1.8222929\ttotal: 3.69s\tremaining: 3.17s\n",
      "538:\tlearn: 1.8222412\ttotal: 3.7s\tremaining: 3.17s\n",
      "539:\tlearn: 1.8222034\ttotal: 3.71s\tremaining: 3.16s\n",
      "540:\tlearn: 1.8221994\ttotal: 3.71s\tremaining: 3.15s\n",
      "541:\tlearn: 1.8221966\ttotal: 3.72s\tremaining: 3.14s\n",
      "542:\tlearn: 1.8221356\ttotal: 3.73s\tremaining: 3.14s\n",
      "543:\tlearn: 1.8220952\ttotal: 3.74s\tremaining: 3.13s\n",
      "544:\tlearn: 1.8220724\ttotal: 3.74s\tremaining: 3.13s\n",
      "545:\tlearn: 1.8220358\ttotal: 3.75s\tremaining: 3.12s\n",
      "546:\tlearn: 1.8219964\ttotal: 3.76s\tremaining: 3.11s\n",
      "547:\tlearn: 1.8219559\ttotal: 3.77s\tremaining: 3.11s\n",
      "548:\tlearn: 1.8219287\ttotal: 3.77s\tremaining: 3.1s\n",
      "549:\tlearn: 1.8219232\ttotal: 3.78s\tremaining: 3.09s\n",
      "550:\tlearn: 1.8219037\ttotal: 3.79s\tremaining: 3.09s\n",
      "551:\tlearn: 1.8218823\ttotal: 3.79s\tremaining: 3.08s\n",
      "552:\tlearn: 1.8218511\ttotal: 3.8s\tremaining: 3.07s\n",
      "553:\tlearn: 1.8218075\ttotal: 3.81s\tremaining: 3.06s\n",
      "554:\tlearn: 1.8217832\ttotal: 3.81s\tremaining: 3.06s\n",
      "555:\tlearn: 1.8217506\ttotal: 3.82s\tremaining: 3.05s\n",
      "556:\tlearn: 1.8217110\ttotal: 3.83s\tremaining: 3.04s\n",
      "557:\tlearn: 1.8216739\ttotal: 3.83s\tremaining: 3.04s\n",
      "558:\tlearn: 1.8216712\ttotal: 3.84s\tremaining: 3.03s\n",
      "559:\tlearn: 1.8216556\ttotal: 3.85s\tremaining: 3.02s\n",
      "560:\tlearn: 1.8216357\ttotal: 3.85s\tremaining: 3.02s\n",
      "561:\tlearn: 1.8216236\ttotal: 3.86s\tremaining: 3.01s\n",
      "562:\tlearn: 1.8216206\ttotal: 3.87s\tremaining: 3s\n",
      "563:\tlearn: 1.8215961\ttotal: 3.88s\tremaining: 3s\n",
      "564:\tlearn: 1.8215537\ttotal: 3.89s\tremaining: 2.99s\n",
      "565:\tlearn: 1.8215358\ttotal: 3.9s\tremaining: 2.99s\n",
      "566:\tlearn: 1.8214951\ttotal: 3.91s\tremaining: 2.98s\n",
      "567:\tlearn: 1.8214926\ttotal: 3.91s\tremaining: 2.98s\n",
      "568:\tlearn: 1.8214903\ttotal: 3.92s\tremaining: 2.97s\n",
      "569:\tlearn: 1.8214640\ttotal: 3.93s\tremaining: 2.96s\n",
      "570:\tlearn: 1.8214293\ttotal: 3.94s\tremaining: 2.96s\n",
      "571:\tlearn: 1.8214052\ttotal: 3.95s\tremaining: 2.95s\n",
      "572:\tlearn: 1.8213819\ttotal: 3.95s\tremaining: 2.95s\n",
      "573:\tlearn: 1.8213623\ttotal: 3.96s\tremaining: 2.94s\n",
      "574:\tlearn: 1.8213329\ttotal: 3.97s\tremaining: 2.93s\n",
      "575:\tlearn: 1.8213206\ttotal: 3.98s\tremaining: 2.93s\n",
      "576:\tlearn: 1.8212814\ttotal: 3.99s\tremaining: 2.92s\n",
      "577:\tlearn: 1.8212174\ttotal: 4s\tremaining: 2.92s\n",
      "578:\tlearn: 1.8211975\ttotal: 4s\tremaining: 2.91s\n",
      "579:\tlearn: 1.8211824\ttotal: 4.01s\tremaining: 2.9s\n",
      "580:\tlearn: 1.8211700\ttotal: 4.02s\tremaining: 2.9s\n",
      "581:\tlearn: 1.8211138\ttotal: 4.03s\tremaining: 2.9s\n",
      "582:\tlearn: 1.8210925\ttotal: 4.04s\tremaining: 2.89s\n",
      "583:\tlearn: 1.8210810\ttotal: 4.05s\tremaining: 2.88s\n",
      "584:\tlearn: 1.8210755\ttotal: 4.06s\tremaining: 2.88s\n",
      "585:\tlearn: 1.8210620\ttotal: 4.06s\tremaining: 2.87s\n",
      "586:\tlearn: 1.8210595\ttotal: 4.07s\tremaining: 2.86s\n",
      "587:\tlearn: 1.8210272\ttotal: 4.08s\tremaining: 2.86s\n",
      "588:\tlearn: 1.8210061\ttotal: 4.09s\tremaining: 2.85s\n",
      "589:\tlearn: 1.8209840\ttotal: 4.09s\tremaining: 2.85s\n",
      "590:\tlearn: 1.8209395\ttotal: 4.11s\tremaining: 2.84s\n",
      "591:\tlearn: 1.8209378\ttotal: 4.12s\tremaining: 2.84s\n",
      "592:\tlearn: 1.8209203\ttotal: 4.13s\tremaining: 2.84s\n",
      "593:\tlearn: 1.8209091\ttotal: 4.14s\tremaining: 2.83s\n",
      "594:\tlearn: 1.8209067\ttotal: 4.15s\tremaining: 2.82s\n",
      "595:\tlearn: 1.8208621\ttotal: 4.16s\tremaining: 2.82s\n",
      "596:\tlearn: 1.8208563\ttotal: 4.16s\tremaining: 2.81s\n",
      "597:\tlearn: 1.8208507\ttotal: 4.18s\tremaining: 2.81s\n",
      "598:\tlearn: 1.8208439\ttotal: 4.19s\tremaining: 2.81s\n",
      "599:\tlearn: 1.8207906\ttotal: 4.2s\tremaining: 2.8s\n",
      "600:\tlearn: 1.8207735\ttotal: 4.21s\tremaining: 2.79s\n",
      "601:\tlearn: 1.8207661\ttotal: 4.21s\tremaining: 2.79s\n",
      "602:\tlearn: 1.8207591\ttotal: 4.22s\tremaining: 2.78s\n",
      "603:\tlearn: 1.8207354\ttotal: 4.23s\tremaining: 2.77s\n",
      "604:\tlearn: 1.8207068\ttotal: 4.24s\tremaining: 2.77s\n",
      "605:\tlearn: 1.8206750\ttotal: 4.25s\tremaining: 2.76s\n",
      "606:\tlearn: 1.8206315\ttotal: 4.26s\tremaining: 2.76s\n",
      "607:\tlearn: 1.8206254\ttotal: 4.26s\tremaining: 2.75s\n",
      "608:\tlearn: 1.8206237\ttotal: 4.27s\tremaining: 2.74s\n",
      "609:\tlearn: 1.8206168\ttotal: 4.28s\tremaining: 2.74s\n",
      "610:\tlearn: 1.8205593\ttotal: 4.29s\tremaining: 2.73s\n",
      "611:\tlearn: 1.8205555\ttotal: 4.3s\tremaining: 2.72s\n",
      "612:\tlearn: 1.8205415\ttotal: 4.31s\tremaining: 2.72s\n",
      "613:\tlearn: 1.8204884\ttotal: 4.31s\tremaining: 2.71s\n",
      "614:\tlearn: 1.8204560\ttotal: 4.32s\tremaining: 2.71s\n",
      "615:\tlearn: 1.8204312\ttotal: 4.33s\tremaining: 2.7s\n",
      "616:\tlearn: 1.8204050\ttotal: 4.35s\tremaining: 2.7s\n",
      "617:\tlearn: 1.8204037\ttotal: 4.36s\tremaining: 2.69s\n",
      "618:\tlearn: 1.8203787\ttotal: 4.37s\tremaining: 2.69s\n",
      "619:\tlearn: 1.8203480\ttotal: 4.38s\tremaining: 2.68s\n",
      "620:\tlearn: 1.8203256\ttotal: 4.39s\tremaining: 2.68s\n",
      "621:\tlearn: 1.8203150\ttotal: 4.39s\tremaining: 2.67s\n",
      "622:\tlearn: 1.8203125\ttotal: 4.4s\tremaining: 2.66s\n",
      "623:\tlearn: 1.8202759\ttotal: 4.41s\tremaining: 2.66s\n",
      "624:\tlearn: 1.8202686\ttotal: 4.42s\tremaining: 2.65s\n",
      "625:\tlearn: 1.8202428\ttotal: 4.43s\tremaining: 2.65s\n",
      "626:\tlearn: 1.8202236\ttotal: 4.44s\tremaining: 2.64s\n",
      "627:\tlearn: 1.8201763\ttotal: 4.45s\tremaining: 2.64s\n",
      "628:\tlearn: 1.8201657\ttotal: 4.46s\tremaining: 2.63s\n",
      "629:\tlearn: 1.8201378\ttotal: 4.47s\tremaining: 2.62s\n",
      "630:\tlearn: 1.8201158\ttotal: 4.48s\tremaining: 2.62s\n",
      "631:\tlearn: 1.8200907\ttotal: 4.49s\tremaining: 2.61s\n",
      "632:\tlearn: 1.8200850\ttotal: 4.5s\tremaining: 2.61s\n",
      "633:\tlearn: 1.8200399\ttotal: 4.51s\tremaining: 2.6s\n",
      "634:\tlearn: 1.8200099\ttotal: 4.53s\tremaining: 2.6s\n",
      "635:\tlearn: 1.8199859\ttotal: 4.54s\tremaining: 2.6s\n",
      "636:\tlearn: 1.8199641\ttotal: 4.54s\tremaining: 2.59s\n",
      "637:\tlearn: 1.8199316\ttotal: 4.55s\tremaining: 2.58s\n",
      "638:\tlearn: 1.8198814\ttotal: 4.56s\tremaining: 2.58s\n",
      "639:\tlearn: 1.8198648\ttotal: 4.57s\tremaining: 2.57s\n",
      "640:\tlearn: 1.8198616\ttotal: 4.58s\tremaining: 2.56s\n",
      "641:\tlearn: 1.8198453\ttotal: 4.58s\tremaining: 2.56s\n",
      "642:\tlearn: 1.8198248\ttotal: 4.59s\tremaining: 2.55s\n",
      "643:\tlearn: 1.8198143\ttotal: 4.6s\tremaining: 2.54s\n",
      "644:\tlearn: 1.8197977\ttotal: 4.61s\tremaining: 2.54s\n",
      "645:\tlearn: 1.8197604\ttotal: 4.62s\tremaining: 2.53s\n",
      "646:\tlearn: 1.8197088\ttotal: 4.63s\tremaining: 2.52s\n",
      "647:\tlearn: 1.8196897\ttotal: 4.63s\tremaining: 2.52s\n",
      "648:\tlearn: 1.8196602\ttotal: 4.65s\tremaining: 2.51s\n",
      "649:\tlearn: 1.8196408\ttotal: 4.65s\tremaining: 2.51s\n",
      "650:\tlearn: 1.8196199\ttotal: 4.66s\tremaining: 2.5s\n",
      "651:\tlearn: 1.8196078\ttotal: 4.67s\tremaining: 2.49s\n",
      "652:\tlearn: 1.8195894\ttotal: 4.68s\tremaining: 2.49s\n",
      "653:\tlearn: 1.8195534\ttotal: 4.69s\tremaining: 2.48s\n",
      "654:\tlearn: 1.8195477\ttotal: 4.7s\tremaining: 2.47s\n",
      "655:\tlearn: 1.8195211\ttotal: 4.7s\tremaining: 2.47s\n",
      "656:\tlearn: 1.8195014\ttotal: 4.71s\tremaining: 2.46s\n",
      "657:\tlearn: 1.8194637\ttotal: 4.72s\tremaining: 2.45s\n",
      "658:\tlearn: 1.8194620\ttotal: 4.73s\tremaining: 2.45s\n",
      "659:\tlearn: 1.8194417\ttotal: 4.74s\tremaining: 2.44s\n",
      "660:\tlearn: 1.8194373\ttotal: 4.74s\tremaining: 2.43s\n",
      "661:\tlearn: 1.8194360\ttotal: 4.75s\tremaining: 2.42s\n",
      "662:\tlearn: 1.8194248\ttotal: 4.76s\tremaining: 2.42s\n",
      "663:\tlearn: 1.8194061\ttotal: 4.77s\tremaining: 2.41s\n",
      "664:\tlearn: 1.8194027\ttotal: 4.78s\tremaining: 2.4s\n",
      "665:\tlearn: 1.8193944\ttotal: 4.78s\tremaining: 2.4s\n",
      "666:\tlearn: 1.8193608\ttotal: 4.79s\tremaining: 2.39s\n",
      "667:\tlearn: 1.8193420\ttotal: 4.8s\tremaining: 2.38s\n",
      "668:\tlearn: 1.8193155\ttotal: 4.81s\tremaining: 2.38s\n",
      "669:\tlearn: 1.8193129\ttotal: 4.82s\tremaining: 2.37s\n",
      "670:\tlearn: 1.8192711\ttotal: 4.83s\tremaining: 2.37s\n",
      "671:\tlearn: 1.8192503\ttotal: 4.83s\tremaining: 2.36s\n",
      "672:\tlearn: 1.8192342\ttotal: 4.85s\tremaining: 2.35s\n",
      "673:\tlearn: 1.8192166\ttotal: 4.86s\tremaining: 2.35s\n",
      "674:\tlearn: 1.8192148\ttotal: 4.86s\tremaining: 2.34s\n",
      "675:\tlearn: 1.8192119\ttotal: 4.87s\tremaining: 2.33s\n",
      "676:\tlearn: 1.8191818\ttotal: 4.88s\tremaining: 2.33s\n",
      "677:\tlearn: 1.8191418\ttotal: 4.89s\tremaining: 2.32s\n",
      "678:\tlearn: 1.8191161\ttotal: 4.9s\tremaining: 2.31s\n",
      "679:\tlearn: 1.8190990\ttotal: 4.91s\tremaining: 2.31s\n",
      "680:\tlearn: 1.8190693\ttotal: 4.91s\tremaining: 2.3s\n",
      "681:\tlearn: 1.8190230\ttotal: 4.92s\tremaining: 2.29s\n",
      "682:\tlearn: 1.8190024\ttotal: 4.93s\tremaining: 2.29s\n",
      "683:\tlearn: 1.8189828\ttotal: 4.94s\tremaining: 2.28s\n",
      "684:\tlearn: 1.8189810\ttotal: 4.95s\tremaining: 2.27s\n",
      "685:\tlearn: 1.8189761\ttotal: 4.95s\tremaining: 2.27s\n",
      "686:\tlearn: 1.8189705\ttotal: 4.96s\tremaining: 2.26s\n",
      "687:\tlearn: 1.8189514\ttotal: 4.97s\tremaining: 2.25s\n",
      "688:\tlearn: 1.8189395\ttotal: 4.98s\tremaining: 2.25s\n",
      "689:\tlearn: 1.8189055\ttotal: 4.99s\tremaining: 2.24s\n",
      "690:\tlearn: 1.8188833\ttotal: 5s\tremaining: 2.23s\n",
      "691:\tlearn: 1.8188711\ttotal: 5s\tremaining: 2.23s\n",
      "692:\tlearn: 1.8188669\ttotal: 5.01s\tremaining: 2.22s\n",
      "693:\tlearn: 1.8188325\ttotal: 5.02s\tremaining: 2.21s\n",
      "694:\tlearn: 1.8188243\ttotal: 5.03s\tremaining: 2.21s\n",
      "695:\tlearn: 1.8188225\ttotal: 5.04s\tremaining: 2.2s\n",
      "696:\tlearn: 1.8188132\ttotal: 5.04s\tremaining: 2.19s\n",
      "697:\tlearn: 1.8187952\ttotal: 5.06s\tremaining: 2.19s\n",
      "698:\tlearn: 1.8187732\ttotal: 5.06s\tremaining: 2.18s\n",
      "699:\tlearn: 1.8187294\ttotal: 5.07s\tremaining: 2.17s\n",
      "700:\tlearn: 1.8187194\ttotal: 5.08s\tremaining: 2.17s\n",
      "701:\tlearn: 1.8187126\ttotal: 5.09s\tremaining: 2.16s\n",
      "702:\tlearn: 1.8187113\ttotal: 5.1s\tremaining: 2.15s\n",
      "703:\tlearn: 1.8186906\ttotal: 5.11s\tremaining: 2.15s\n",
      "704:\tlearn: 1.8186715\ttotal: 5.11s\tremaining: 2.14s\n",
      "705:\tlearn: 1.8186443\ttotal: 5.12s\tremaining: 2.13s\n",
      "706:\tlearn: 1.8186128\ttotal: 5.13s\tremaining: 2.13s\n",
      "707:\tlearn: 1.8185736\ttotal: 5.14s\tremaining: 2.12s\n",
      "708:\tlearn: 1.8185215\ttotal: 5.15s\tremaining: 2.11s\n",
      "709:\tlearn: 1.8184878\ttotal: 5.15s\tremaining: 2.1s\n",
      "710:\tlearn: 1.8184855\ttotal: 5.16s\tremaining: 2.1s\n",
      "711:\tlearn: 1.8184517\ttotal: 5.17s\tremaining: 2.09s\n",
      "712:\tlearn: 1.8184427\ttotal: 5.18s\tremaining: 2.08s\n",
      "713:\tlearn: 1.8184267\ttotal: 5.18s\tremaining: 2.08s\n",
      "714:\tlearn: 1.8184020\ttotal: 5.19s\tremaining: 2.07s\n",
      "715:\tlearn: 1.8183753\ttotal: 5.2s\tremaining: 2.06s\n",
      "716:\tlearn: 1.8183700\ttotal: 5.21s\tremaining: 2.06s\n",
      "717:\tlearn: 1.8183552\ttotal: 5.22s\tremaining: 2.05s\n",
      "718:\tlearn: 1.8183520\ttotal: 5.22s\tremaining: 2.04s\n",
      "719:\tlearn: 1.8183167\ttotal: 5.23s\tremaining: 2.04s\n",
      "720:\tlearn: 1.8182943\ttotal: 5.24s\tremaining: 2.03s\n",
      "721:\tlearn: 1.8182588\ttotal: 5.25s\tremaining: 2.02s\n",
      "722:\tlearn: 1.8182313\ttotal: 5.26s\tremaining: 2.02s\n",
      "723:\tlearn: 1.8182147\ttotal: 5.27s\tremaining: 2.01s\n",
      "724:\tlearn: 1.8181719\ttotal: 5.28s\tremaining: 2s\n",
      "725:\tlearn: 1.8181677\ttotal: 5.29s\tremaining: 1.99s\n",
      "726:\tlearn: 1.8181396\ttotal: 5.3s\tremaining: 1.99s\n",
      "727:\tlearn: 1.8180961\ttotal: 5.3s\tremaining: 1.98s\n",
      "728:\tlearn: 1.8180945\ttotal: 5.31s\tremaining: 1.97s\n",
      "729:\tlearn: 1.8180890\ttotal: 5.32s\tremaining: 1.97s\n",
      "730:\tlearn: 1.8180698\ttotal: 5.33s\tremaining: 1.96s\n",
      "731:\tlearn: 1.8180513\ttotal: 5.34s\tremaining: 1.95s\n",
      "732:\tlearn: 1.8180364\ttotal: 5.34s\tremaining: 1.95s\n",
      "733:\tlearn: 1.8180154\ttotal: 5.35s\tremaining: 1.94s\n",
      "734:\tlearn: 1.8179947\ttotal: 5.36s\tremaining: 1.93s\n",
      "735:\tlearn: 1.8179464\ttotal: 5.37s\tremaining: 1.93s\n",
      "736:\tlearn: 1.8179448\ttotal: 5.38s\tremaining: 1.92s\n",
      "737:\tlearn: 1.8179264\ttotal: 5.39s\tremaining: 1.91s\n",
      "738:\tlearn: 1.8179039\ttotal: 5.39s\tremaining: 1.91s\n",
      "739:\tlearn: 1.8178972\ttotal: 5.4s\tremaining: 1.9s\n",
      "740:\tlearn: 1.8178716\ttotal: 5.41s\tremaining: 1.89s\n",
      "741:\tlearn: 1.8178614\ttotal: 5.42s\tremaining: 1.88s\n",
      "742:\tlearn: 1.8178516\ttotal: 5.43s\tremaining: 1.88s\n",
      "743:\tlearn: 1.8178508\ttotal: 5.44s\tremaining: 1.87s\n",
      "744:\tlearn: 1.8178336\ttotal: 5.44s\tremaining: 1.86s\n",
      "745:\tlearn: 1.8177933\ttotal: 5.45s\tremaining: 1.86s\n",
      "746:\tlearn: 1.8177916\ttotal: 5.46s\tremaining: 1.85s\n",
      "747:\tlearn: 1.8177902\ttotal: 5.47s\tremaining: 1.84s\n",
      "748:\tlearn: 1.8177852\ttotal: 5.48s\tremaining: 1.84s\n",
      "749:\tlearn: 1.8177335\ttotal: 5.49s\tremaining: 1.83s\n",
      "750:\tlearn: 1.8177207\ttotal: 5.49s\tremaining: 1.82s\n",
      "751:\tlearn: 1.8176995\ttotal: 5.5s\tremaining: 1.81s\n",
      "752:\tlearn: 1.8176841\ttotal: 5.51s\tremaining: 1.81s\n",
      "753:\tlearn: 1.8176629\ttotal: 5.51s\tremaining: 1.8s\n",
      "754:\tlearn: 1.8176588\ttotal: 5.52s\tremaining: 1.79s\n",
      "755:\tlearn: 1.8176260\ttotal: 5.53s\tremaining: 1.78s\n",
      "756:\tlearn: 1.8176088\ttotal: 5.54s\tremaining: 1.78s\n",
      "757:\tlearn: 1.8175672\ttotal: 5.54s\tremaining: 1.77s\n",
      "758:\tlearn: 1.8175287\ttotal: 5.55s\tremaining: 1.76s\n",
      "759:\tlearn: 1.8174998\ttotal: 5.56s\tremaining: 1.75s\n",
      "760:\tlearn: 1.8174735\ttotal: 5.57s\tremaining: 1.75s\n",
      "761:\tlearn: 1.8174423\ttotal: 5.57s\tremaining: 1.74s\n",
      "762:\tlearn: 1.8174405\ttotal: 5.58s\tremaining: 1.73s\n",
      "763:\tlearn: 1.8174376\ttotal: 5.58s\tremaining: 1.73s\n",
      "764:\tlearn: 1.8174187\ttotal: 5.59s\tremaining: 1.72s\n",
      "765:\tlearn: 1.8174095\ttotal: 5.6s\tremaining: 1.71s\n",
      "766:\tlearn: 1.8173963\ttotal: 5.61s\tremaining: 1.7s\n",
      "767:\tlearn: 1.8173929\ttotal: 5.61s\tremaining: 1.7s\n",
      "768:\tlearn: 1.8173643\ttotal: 5.62s\tremaining: 1.69s\n",
      "769:\tlearn: 1.8173456\ttotal: 5.63s\tremaining: 1.68s\n",
      "770:\tlearn: 1.8173369\ttotal: 5.63s\tremaining: 1.67s\n",
      "771:\tlearn: 1.8173355\ttotal: 5.64s\tremaining: 1.67s\n",
      "772:\tlearn: 1.8173133\ttotal: 5.64s\tremaining: 1.66s\n",
      "773:\tlearn: 1.8172925\ttotal: 5.65s\tremaining: 1.65s\n",
      "774:\tlearn: 1.8172684\ttotal: 5.66s\tremaining: 1.64s\n",
      "775:\tlearn: 1.8172488\ttotal: 5.67s\tremaining: 1.64s\n",
      "776:\tlearn: 1.8172472\ttotal: 5.67s\tremaining: 1.63s\n",
      "777:\tlearn: 1.8172409\ttotal: 5.68s\tremaining: 1.62s\n",
      "778:\tlearn: 1.8172088\ttotal: 5.69s\tremaining: 1.61s\n",
      "779:\tlearn: 1.8171940\ttotal: 5.7s\tremaining: 1.61s\n",
      "780:\tlearn: 1.8171927\ttotal: 5.7s\tremaining: 1.6s\n",
      "781:\tlearn: 1.8171544\ttotal: 5.71s\tremaining: 1.59s\n",
      "782:\tlearn: 1.8171381\ttotal: 5.72s\tremaining: 1.58s\n",
      "783:\tlearn: 1.8171172\ttotal: 5.72s\tremaining: 1.58s\n",
      "784:\tlearn: 1.8170792\ttotal: 5.73s\tremaining: 1.57s\n",
      "785:\tlearn: 1.8170721\ttotal: 5.74s\tremaining: 1.56s\n",
      "786:\tlearn: 1.8170673\ttotal: 5.74s\tremaining: 1.55s\n",
      "787:\tlearn: 1.8170575\ttotal: 5.75s\tremaining: 1.55s\n",
      "788:\tlearn: 1.8170383\ttotal: 5.76s\tremaining: 1.54s\n",
      "789:\tlearn: 1.8169969\ttotal: 5.77s\tremaining: 1.53s\n",
      "790:\tlearn: 1.8169904\ttotal: 5.77s\tremaining: 1.52s\n",
      "791:\tlearn: 1.8169691\ttotal: 5.78s\tremaining: 1.52s\n",
      "792:\tlearn: 1.8169362\ttotal: 5.79s\tremaining: 1.51s\n",
      "793:\tlearn: 1.8169184\ttotal: 5.79s\tremaining: 1.5s\n",
      "794:\tlearn: 1.8169023\ttotal: 5.8s\tremaining: 1.5s\n",
      "795:\tlearn: 1.8168764\ttotal: 5.81s\tremaining: 1.49s\n",
      "796:\tlearn: 1.8168328\ttotal: 5.82s\tremaining: 1.48s\n",
      "797:\tlearn: 1.8168022\ttotal: 5.82s\tremaining: 1.47s\n",
      "798:\tlearn: 1.8167658\ttotal: 5.83s\tremaining: 1.47s\n",
      "799:\tlearn: 1.8167637\ttotal: 5.84s\tremaining: 1.46s\n",
      "800:\tlearn: 1.8167618\ttotal: 5.84s\tremaining: 1.45s\n",
      "801:\tlearn: 1.8167456\ttotal: 5.85s\tremaining: 1.44s\n",
      "802:\tlearn: 1.8167167\ttotal: 5.86s\tremaining: 1.44s\n",
      "803:\tlearn: 1.8166979\ttotal: 5.87s\tremaining: 1.43s\n",
      "804:\tlearn: 1.8166949\ttotal: 5.87s\tremaining: 1.42s\n",
      "805:\tlearn: 1.8166765\ttotal: 5.88s\tremaining: 1.42s\n",
      "806:\tlearn: 1.8166748\ttotal: 5.89s\tremaining: 1.41s\n",
      "807:\tlearn: 1.8166734\ttotal: 5.89s\tremaining: 1.4s\n",
      "808:\tlearn: 1.8166351\ttotal: 5.9s\tremaining: 1.39s\n",
      "809:\tlearn: 1.8166177\ttotal: 5.91s\tremaining: 1.39s\n",
      "810:\tlearn: 1.8165759\ttotal: 5.92s\tremaining: 1.38s\n",
      "811:\tlearn: 1.8165598\ttotal: 5.92s\tremaining: 1.37s\n",
      "812:\tlearn: 1.8165339\ttotal: 5.93s\tremaining: 1.36s\n",
      "813:\tlearn: 1.8165215\ttotal: 5.94s\tremaining: 1.36s\n",
      "814:\tlearn: 1.8164866\ttotal: 5.95s\tremaining: 1.35s\n",
      "815:\tlearn: 1.8164773\ttotal: 5.95s\tremaining: 1.34s\n",
      "816:\tlearn: 1.8164629\ttotal: 5.96s\tremaining: 1.33s\n",
      "817:\tlearn: 1.8164402\ttotal: 5.96s\tremaining: 1.33s\n",
      "818:\tlearn: 1.8164243\ttotal: 5.97s\tremaining: 1.32s\n",
      "819:\tlearn: 1.8163971\ttotal: 5.98s\tremaining: 1.31s\n",
      "820:\tlearn: 1.8163869\ttotal: 5.99s\tremaining: 1.3s\n",
      "821:\tlearn: 1.8163834\ttotal: 5.99s\tremaining: 1.3s\n",
      "822:\tlearn: 1.8163824\ttotal: 6s\tremaining: 1.29s\n",
      "823:\tlearn: 1.8163660\ttotal: 6s\tremaining: 1.28s\n",
      "824:\tlearn: 1.8163406\ttotal: 6.01s\tremaining: 1.27s\n",
      "825:\tlearn: 1.8163389\ttotal: 6.02s\tremaining: 1.27s\n",
      "826:\tlearn: 1.8163109\ttotal: 6.03s\tremaining: 1.26s\n",
      "827:\tlearn: 1.8162802\ttotal: 6.03s\tremaining: 1.25s\n",
      "828:\tlearn: 1.8162766\ttotal: 6.04s\tremaining: 1.25s\n",
      "829:\tlearn: 1.8162755\ttotal: 6.04s\tremaining: 1.24s\n",
      "830:\tlearn: 1.8162258\ttotal: 6.05s\tremaining: 1.23s\n",
      "831:\tlearn: 1.8162187\ttotal: 6.06s\tremaining: 1.22s\n",
      "832:\tlearn: 1.8162149\ttotal: 6.06s\tremaining: 1.22s\n",
      "833:\tlearn: 1.8161886\ttotal: 6.07s\tremaining: 1.21s\n",
      "834:\tlearn: 1.8161617\ttotal: 6.08s\tremaining: 1.2s\n",
      "835:\tlearn: 1.8161432\ttotal: 6.08s\tremaining: 1.19s\n",
      "836:\tlearn: 1.8161213\ttotal: 6.09s\tremaining: 1.19s\n",
      "837:\tlearn: 1.8160929\ttotal: 6.1s\tremaining: 1.18s\n",
      "838:\tlearn: 1.8160453\ttotal: 6.1s\tremaining: 1.17s\n",
      "839:\tlearn: 1.8160437\ttotal: 6.11s\tremaining: 1.16s\n",
      "840:\tlearn: 1.8160252\ttotal: 6.12s\tremaining: 1.16s\n",
      "841:\tlearn: 1.8159975\ttotal: 6.12s\tremaining: 1.15s\n",
      "842:\tlearn: 1.8159835\ttotal: 6.13s\tremaining: 1.14s\n",
      "843:\tlearn: 1.8159482\ttotal: 6.13s\tremaining: 1.13s\n",
      "844:\tlearn: 1.8159265\ttotal: 6.14s\tremaining: 1.13s\n",
      "845:\tlearn: 1.8158877\ttotal: 6.15s\tremaining: 1.12s\n",
      "846:\tlearn: 1.8158679\ttotal: 6.15s\tremaining: 1.11s\n",
      "847:\tlearn: 1.8158466\ttotal: 6.16s\tremaining: 1.1s\n",
      "848:\tlearn: 1.8158296\ttotal: 6.17s\tremaining: 1.1s\n",
      "849:\tlearn: 1.8158085\ttotal: 6.17s\tremaining: 1.09s\n",
      "850:\tlearn: 1.8157902\ttotal: 6.18s\tremaining: 1.08s\n",
      "851:\tlearn: 1.8157660\ttotal: 6.19s\tremaining: 1.07s\n",
      "852:\tlearn: 1.8157326\ttotal: 6.19s\tremaining: 1.07s\n",
      "853:\tlearn: 1.8157231\ttotal: 6.2s\tremaining: 1.06s\n",
      "854:\tlearn: 1.8157009\ttotal: 6.21s\tremaining: 1.05s\n",
      "855:\tlearn: 1.8156882\ttotal: 6.21s\tremaining: 1.04s\n",
      "856:\tlearn: 1.8156491\ttotal: 6.22s\tremaining: 1.04s\n",
      "857:\tlearn: 1.8156371\ttotal: 6.22s\tremaining: 1.03s\n",
      "858:\tlearn: 1.8156013\ttotal: 6.23s\tremaining: 1.02s\n",
      "859:\tlearn: 1.8155971\ttotal: 6.24s\tremaining: 1.01s\n",
      "860:\tlearn: 1.8155785\ttotal: 6.24s\tremaining: 1.01s\n",
      "861:\tlearn: 1.8155748\ttotal: 6.25s\tremaining: 1s\n",
      "862:\tlearn: 1.8155477\ttotal: 6.26s\tremaining: 993ms\n",
      "863:\tlearn: 1.8155457\ttotal: 6.26s\tremaining: 986ms\n",
      "864:\tlearn: 1.8155158\ttotal: 6.27s\tremaining: 978ms\n",
      "865:\tlearn: 1.8154899\ttotal: 6.28s\tremaining: 971ms\n",
      "866:\tlearn: 1.8154874\ttotal: 6.28s\tremaining: 964ms\n",
      "867:\tlearn: 1.8154659\ttotal: 6.29s\tremaining: 957ms\n",
      "868:\tlearn: 1.8154300\ttotal: 6.3s\tremaining: 949ms\n",
      "869:\tlearn: 1.8153914\ttotal: 6.3s\tremaining: 942ms\n",
      "870:\tlearn: 1.8153742\ttotal: 6.31s\tremaining: 935ms\n",
      "871:\tlearn: 1.8153418\ttotal: 6.32s\tremaining: 927ms\n",
      "872:\tlearn: 1.8153237\ttotal: 6.32s\tremaining: 920ms\n",
      "873:\tlearn: 1.8152711\ttotal: 6.33s\tremaining: 913ms\n",
      "874:\tlearn: 1.8152602\ttotal: 6.34s\tremaining: 905ms\n",
      "875:\tlearn: 1.8152592\ttotal: 6.34s\tremaining: 898ms\n",
      "876:\tlearn: 1.8152482\ttotal: 6.35s\tremaining: 891ms\n",
      "877:\tlearn: 1.8152149\ttotal: 6.36s\tremaining: 883ms\n",
      "878:\tlearn: 1.8151922\ttotal: 6.36s\tremaining: 876ms\n",
      "879:\tlearn: 1.8151705\ttotal: 6.37s\tremaining: 869ms\n",
      "880:\tlearn: 1.8151276\ttotal: 6.38s\tremaining: 861ms\n",
      "881:\tlearn: 1.8151121\ttotal: 6.38s\tremaining: 854ms\n",
      "882:\tlearn: 1.8151112\ttotal: 6.39s\tremaining: 847ms\n",
      "883:\tlearn: 1.8151030\ttotal: 6.39s\tremaining: 839ms\n",
      "884:\tlearn: 1.8150919\ttotal: 6.4s\tremaining: 832ms\n",
      "885:\tlearn: 1.8150600\ttotal: 6.41s\tremaining: 824ms\n",
      "886:\tlearn: 1.8150484\ttotal: 6.41s\tremaining: 817ms\n",
      "887:\tlearn: 1.8150341\ttotal: 6.42s\tremaining: 810ms\n",
      "888:\tlearn: 1.8150201\ttotal: 6.43s\tremaining: 803ms\n",
      "889:\tlearn: 1.8150185\ttotal: 6.43s\tremaining: 795ms\n",
      "890:\tlearn: 1.8150014\ttotal: 6.44s\tremaining: 788ms\n",
      "891:\tlearn: 1.8149652\ttotal: 6.45s\tremaining: 781ms\n",
      "892:\tlearn: 1.8149643\ttotal: 6.45s\tremaining: 773ms\n",
      "893:\tlearn: 1.8149492\ttotal: 6.46s\tremaining: 766ms\n",
      "894:\tlearn: 1.8149341\ttotal: 6.47s\tremaining: 759ms\n",
      "895:\tlearn: 1.8149197\ttotal: 6.47s\tremaining: 751ms\n",
      "896:\tlearn: 1.8148821\ttotal: 6.48s\tremaining: 744ms\n",
      "897:\tlearn: 1.8148618\ttotal: 6.49s\tremaining: 737ms\n",
      "898:\tlearn: 1.8148283\ttotal: 6.5s\tremaining: 730ms\n",
      "899:\tlearn: 1.8148050\ttotal: 6.5s\tremaining: 722ms\n",
      "900:\tlearn: 1.8147841\ttotal: 6.51s\tremaining: 715ms\n",
      "901:\tlearn: 1.8147831\ttotal: 6.51s\tremaining: 708ms\n",
      "902:\tlearn: 1.8147637\ttotal: 6.52s\tremaining: 700ms\n",
      "903:\tlearn: 1.8147428\ttotal: 6.53s\tremaining: 693ms\n",
      "904:\tlearn: 1.8147334\ttotal: 6.53s\tremaining: 686ms\n",
      "905:\tlearn: 1.8147290\ttotal: 6.54s\tremaining: 679ms\n",
      "906:\tlearn: 1.8146700\ttotal: 6.54s\tremaining: 671ms\n",
      "907:\tlearn: 1.8146368\ttotal: 6.55s\tremaining: 664ms\n",
      "908:\tlearn: 1.8145959\ttotal: 6.56s\tremaining: 657ms\n",
      "909:\tlearn: 1.8145715\ttotal: 6.57s\tremaining: 649ms\n",
      "910:\tlearn: 1.8145631\ttotal: 6.57s\tremaining: 642ms\n",
      "911:\tlearn: 1.8145589\ttotal: 6.58s\tremaining: 635ms\n",
      "912:\tlearn: 1.8145568\ttotal: 6.58s\tremaining: 627ms\n",
      "913:\tlearn: 1.8145445\ttotal: 6.59s\tremaining: 620ms\n",
      "914:\tlearn: 1.8145063\ttotal: 6.6s\tremaining: 613ms\n",
      "915:\tlearn: 1.8144763\ttotal: 6.61s\tremaining: 606ms\n",
      "916:\tlearn: 1.8144433\ttotal: 6.61s\tremaining: 599ms\n",
      "917:\tlearn: 1.8144091\ttotal: 6.62s\tremaining: 591ms\n",
      "918:\tlearn: 1.8143793\ttotal: 6.63s\tremaining: 584ms\n",
      "919:\tlearn: 1.8143607\ttotal: 6.63s\tremaining: 577ms\n",
      "920:\tlearn: 1.8143435\ttotal: 6.64s\tremaining: 570ms\n",
      "921:\tlearn: 1.8143421\ttotal: 6.65s\tremaining: 563ms\n",
      "922:\tlearn: 1.8142937\ttotal: 6.66s\tremaining: 555ms\n",
      "923:\tlearn: 1.8142925\ttotal: 6.66s\tremaining: 548ms\n",
      "924:\tlearn: 1.8142873\ttotal: 6.67s\tremaining: 541ms\n",
      "925:\tlearn: 1.8142790\ttotal: 6.67s\tremaining: 533ms\n",
      "926:\tlearn: 1.8142471\ttotal: 6.68s\tremaining: 526ms\n",
      "927:\tlearn: 1.8142428\ttotal: 6.69s\tremaining: 519ms\n",
      "928:\tlearn: 1.8142315\ttotal: 6.7s\tremaining: 512ms\n",
      "929:\tlearn: 1.8142137\ttotal: 6.7s\tremaining: 504ms\n",
      "930:\tlearn: 1.8141975\ttotal: 6.71s\tremaining: 497ms\n",
      "931:\tlearn: 1.8141839\ttotal: 6.71s\tremaining: 490ms\n",
      "932:\tlearn: 1.8141789\ttotal: 6.72s\tremaining: 483ms\n",
      "933:\tlearn: 1.8141497\ttotal: 6.73s\tremaining: 476ms\n",
      "934:\tlearn: 1.8141211\ttotal: 6.74s\tremaining: 468ms\n",
      "935:\tlearn: 1.8141199\ttotal: 6.74s\tremaining: 461ms\n",
      "936:\tlearn: 1.8140980\ttotal: 6.75s\tremaining: 454ms\n",
      "937:\tlearn: 1.8140769\ttotal: 6.76s\tremaining: 447ms\n",
      "938:\tlearn: 1.8140608\ttotal: 6.76s\tremaining: 439ms\n",
      "939:\tlearn: 1.8140568\ttotal: 6.77s\tremaining: 432ms\n",
      "940:\tlearn: 1.8140443\ttotal: 6.78s\tremaining: 425ms\n",
      "941:\tlearn: 1.8140404\ttotal: 6.78s\tremaining: 418ms\n",
      "942:\tlearn: 1.8139936\ttotal: 6.79s\tremaining: 410ms\n",
      "943:\tlearn: 1.8139718\ttotal: 6.8s\tremaining: 403ms\n",
      "944:\tlearn: 1.8139556\ttotal: 6.8s\tremaining: 396ms\n",
      "945:\tlearn: 1.8139549\ttotal: 6.81s\tremaining: 389ms\n",
      "946:\tlearn: 1.8139539\ttotal: 6.82s\tremaining: 381ms\n",
      "947:\tlearn: 1.8139178\ttotal: 6.82s\tremaining: 374ms\n",
      "948:\tlearn: 1.8138956\ttotal: 6.83s\tremaining: 367ms\n",
      "949:\tlearn: 1.8138786\ttotal: 6.84s\tremaining: 360ms\n",
      "950:\tlearn: 1.8138760\ttotal: 6.84s\tremaining: 353ms\n",
      "951:\tlearn: 1.8138641\ttotal: 6.85s\tremaining: 345ms\n",
      "952:\tlearn: 1.8138491\ttotal: 6.86s\tremaining: 338ms\n",
      "953:\tlearn: 1.8138312\ttotal: 6.86s\tremaining: 331ms\n",
      "954:\tlearn: 1.8138251\ttotal: 6.87s\tremaining: 324ms\n",
      "955:\tlearn: 1.8138094\ttotal: 6.88s\tremaining: 317ms\n",
      "956:\tlearn: 1.8137802\ttotal: 6.88s\tremaining: 309ms\n",
      "957:\tlearn: 1.8137605\ttotal: 6.89s\tremaining: 302ms\n",
      "958:\tlearn: 1.8137576\ttotal: 6.9s\tremaining: 295ms\n",
      "959:\tlearn: 1.8137565\ttotal: 6.9s\tremaining: 288ms\n",
      "960:\tlearn: 1.8137506\ttotal: 6.91s\tremaining: 280ms\n",
      "961:\tlearn: 1.8137302\ttotal: 6.92s\tremaining: 273ms\n",
      "962:\tlearn: 1.8136958\ttotal: 6.92s\tremaining: 266ms\n",
      "963:\tlearn: 1.8136781\ttotal: 6.93s\tremaining: 259ms\n",
      "964:\tlearn: 1.8136687\ttotal: 6.94s\tremaining: 252ms\n",
      "965:\tlearn: 1.8136666\ttotal: 6.94s\tremaining: 244ms\n",
      "966:\tlearn: 1.8136441\ttotal: 6.95s\tremaining: 237ms\n",
      "967:\tlearn: 1.8136073\ttotal: 6.96s\tremaining: 230ms\n",
      "968:\tlearn: 1.8135755\ttotal: 6.96s\tremaining: 223ms\n",
      "969:\tlearn: 1.8135601\ttotal: 6.97s\tremaining: 216ms\n",
      "970:\tlearn: 1.8135556\ttotal: 6.97s\tremaining: 208ms\n",
      "971:\tlearn: 1.8135538\ttotal: 6.98s\tremaining: 201ms\n",
      "972:\tlearn: 1.8135450\ttotal: 6.99s\tremaining: 194ms\n",
      "973:\tlearn: 1.8135325\ttotal: 6.99s\tremaining: 187ms\n",
      "974:\tlearn: 1.8135008\ttotal: 7s\tremaining: 180ms\n",
      "975:\tlearn: 1.8134853\ttotal: 7.01s\tremaining: 172ms\n",
      "976:\tlearn: 1.8134578\ttotal: 7.01s\tremaining: 165ms\n",
      "977:\tlearn: 1.8134566\ttotal: 7.02s\tremaining: 158ms\n",
      "978:\tlearn: 1.8134314\ttotal: 7.03s\tremaining: 151ms\n",
      "979:\tlearn: 1.8134232\ttotal: 7.03s\tremaining: 144ms\n",
      "980:\tlearn: 1.8134224\ttotal: 7.04s\tremaining: 136ms\n",
      "981:\tlearn: 1.8134187\ttotal: 7.04s\tremaining: 129ms\n",
      "982:\tlearn: 1.8134039\ttotal: 7.05s\tremaining: 122ms\n",
      "983:\tlearn: 1.8134016\ttotal: 7.06s\tremaining: 115ms\n",
      "984:\tlearn: 1.8133864\ttotal: 7.07s\tremaining: 108ms\n",
      "985:\tlearn: 1.8133626\ttotal: 7.07s\tremaining: 100ms\n",
      "986:\tlearn: 1.8133446\ttotal: 7.08s\tremaining: 93.3ms\n",
      "987:\tlearn: 1.8133339\ttotal: 7.09s\tremaining: 86.1ms\n",
      "988:\tlearn: 1.8133300\ttotal: 7.09s\tremaining: 78.9ms\n",
      "989:\tlearn: 1.8133177\ttotal: 7.1s\tremaining: 71.7ms\n",
      "990:\tlearn: 1.8132917\ttotal: 7.11s\tremaining: 64.6ms\n",
      "991:\tlearn: 1.8132880\ttotal: 7.11s\tremaining: 57.4ms\n",
      "992:\tlearn: 1.8132780\ttotal: 7.12s\tremaining: 50.2ms\n",
      "993:\tlearn: 1.8132771\ttotal: 7.13s\tremaining: 43ms\n",
      "994:\tlearn: 1.8132765\ttotal: 7.13s\tremaining: 35.8ms\n",
      "995:\tlearn: 1.8132505\ttotal: 7.14s\tremaining: 28.7ms\n",
      "996:\tlearn: 1.8132194\ttotal: 7.14s\tremaining: 21.5ms\n",
      "997:\tlearn: 1.8132071\ttotal: 7.15s\tremaining: 14.3ms\n",
      "998:\tlearn: 1.8131941\ttotal: 7.16s\tremaining: 7.17ms\n",
      "999:\tlearn: 1.8131823\ttotal: 7.16s\tremaining: 0us\n",
      "CPU times: user 35.4 s, sys: 2.05 s, total: 37.4 s\n",
      "Wall time: 18.3 s\n"
     ]
    },
    {
     "data": {
      "text/html": [
       "<style>#sk-container-id-1 {color: black;background-color: white;}#sk-container-id-1 pre{padding: 0;}#sk-container-id-1 div.sk-toggleable {background-color: white;}#sk-container-id-1 label.sk-toggleable__label {cursor: pointer;display: block;width: 100%;margin-bottom: 0;padding: 0.3em;box-sizing: border-box;text-align: center;}#sk-container-id-1 label.sk-toggleable__label-arrow:before {content: \"▸\";float: left;margin-right: 0.25em;color: #696969;}#sk-container-id-1 label.sk-toggleable__label-arrow:hover:before {color: black;}#sk-container-id-1 div.sk-estimator:hover label.sk-toggleable__label-arrow:before {color: black;}#sk-container-id-1 div.sk-toggleable__content {max-height: 0;max-width: 0;overflow: hidden;text-align: left;background-color: #f0f8ff;}#sk-container-id-1 div.sk-toggleable__content pre {margin: 0.2em;color: black;border-radius: 0.25em;background-color: #f0f8ff;}#sk-container-id-1 input.sk-toggleable__control:checked~div.sk-toggleable__content {max-height: 200px;max-width: 100%;overflow: auto;}#sk-container-id-1 input.sk-toggleable__control:checked~label.sk-toggleable__label-arrow:before {content: \"▾\";}#sk-container-id-1 div.sk-estimator input.sk-toggleable__control:checked~label.sk-toggleable__label {background-color: #d4ebff;}#sk-container-id-1 div.sk-label input.sk-toggleable__control:checked~label.sk-toggleable__label {background-color: #d4ebff;}#sk-container-id-1 input.sk-hidden--visually {border: 0;clip: rect(1px 1px 1px 1px);clip: rect(1px, 1px, 1px, 1px);height: 1px;margin: -1px;overflow: hidden;padding: 0;position: absolute;width: 1px;}#sk-container-id-1 div.sk-estimator {font-family: monospace;background-color: #f0f8ff;border: 1px dotted black;border-radius: 0.25em;box-sizing: border-box;margin-bottom: 0.5em;}#sk-container-id-1 div.sk-estimator:hover {background-color: #d4ebff;}#sk-container-id-1 div.sk-parallel-item::after {content: \"\";width: 100%;border-bottom: 1px solid gray;flex-grow: 1;}#sk-container-id-1 div.sk-label:hover label.sk-toggleable__label {background-color: #d4ebff;}#sk-container-id-1 div.sk-serial::before {content: \"\";position: absolute;border-left: 1px solid gray;box-sizing: border-box;top: 0;bottom: 0;left: 50%;z-index: 0;}#sk-container-id-1 div.sk-serial {display: flex;flex-direction: column;align-items: center;background-color: white;padding-right: 0.2em;padding-left: 0.2em;position: relative;}#sk-container-id-1 div.sk-item {position: relative;z-index: 1;}#sk-container-id-1 div.sk-parallel {display: flex;align-items: stretch;justify-content: center;background-color: white;position: relative;}#sk-container-id-1 div.sk-item::before, #sk-container-id-1 div.sk-parallel-item::before {content: \"\";position: absolute;border-left: 1px solid gray;box-sizing: border-box;top: 0;bottom: 0;left: 50%;z-index: -1;}#sk-container-id-1 div.sk-parallel-item {display: flex;flex-direction: column;z-index: 1;position: relative;background-color: white;}#sk-container-id-1 div.sk-parallel-item:first-child::after {align-self: flex-end;width: 50%;}#sk-container-id-1 div.sk-parallel-item:last-child::after {align-self: flex-start;width: 50%;}#sk-container-id-1 div.sk-parallel-item:only-child::after {width: 0;}#sk-container-id-1 div.sk-dashed-wrapped {border: 1px dashed gray;margin: 0 0.4em 0.5em 0.4em;box-sizing: border-box;padding-bottom: 0.4em;background-color: white;}#sk-container-id-1 div.sk-label label {font-family: monospace;font-weight: bold;display: inline-block;line-height: 1.2em;}#sk-container-id-1 div.sk-label-container {text-align: center;}#sk-container-id-1 div.sk-container {/* jupyter's `normalize.less` sets `[hidden] { display: none; }` but bootstrap.min.css set `[hidden] { display: none !important; }` so we also need the `!important` here to be able to override the default hidden behavior on the sphinx rendered scikit-learn.org. See: https://github.com/scikit-learn/scikit-learn/issues/21755 */display: inline-block !important;position: relative;}#sk-container-id-1 div.sk-text-repr-fallback {display: none;}</style><div id=\"sk-container-id-1\" class=\"sk-top-container\"><div class=\"sk-text-repr-fallback\"><pre>StackingRegressor(estimators=[(&#x27;XGBoost&#x27;,\n",
       "                               XGBRegressor(base_score=None, booster=None,\n",
       "                                            callbacks=None,\n",
       "                                            colsample_bylevel=None,\n",
       "                                            colsample_bynode=None,\n",
       "                                            colsample_bytree=None, device=None,\n",
       "                                            early_stopping_rounds=None,\n",
       "                                            enable_categorical=False,\n",
       "                                            eval_metric=None,\n",
       "                                            feature_types=None, gamma=None,\n",
       "                                            grow_policy=None,\n",
       "                                            importance_type=None,\n",
       "                                            interaction_constraints=None,\n",
       "                                            learnin...\n",
       "                                            max_cat_threshold=None,\n",
       "                                            max_cat_to_onehot=None,\n",
       "                                            max_delta_step=None, max_depth=None,\n",
       "                                            max_leaves=None,\n",
       "                                            min_child_weight=None, missing=nan,\n",
       "                                            monotone_constraints=None,\n",
       "                                            multi_strategy=None,\n",
       "                                            n_estimators=None, n_jobs=None,\n",
       "                                            num_parallel_tree=None,\n",
       "                                            random_state=27, ...)),\n",
       "                              (&#x27;LightGBM&#x27;, LGBMRegressor(random_state=27))],\n",
       "                  final_estimator=&lt;catboost.core.CatBoostRegressor object at 0x7bd0bac6d1e0&gt;)</pre><b>In a Jupyter environment, please rerun this cell to show the HTML representation or trust the notebook. <br />On GitHub, the HTML representation is unable to render, please try loading this page with nbviewer.org.</b></div><div class=\"sk-container\" hidden><div class=\"sk-item sk-dashed-wrapped\"><div class=\"sk-label-container\"><div class=\"sk-label sk-toggleable\"><input class=\"sk-toggleable__control sk-hidden--visually\" id=\"sk-estimator-id-1\" type=\"checkbox\" ><label for=\"sk-estimator-id-1\" class=\"sk-toggleable__label sk-toggleable__label-arrow\">StackingRegressor</label><div class=\"sk-toggleable__content\"><pre>StackingRegressor(estimators=[(&#x27;XGBoost&#x27;,\n",
       "                               XGBRegressor(base_score=None, booster=None,\n",
       "                                            callbacks=None,\n",
       "                                            colsample_bylevel=None,\n",
       "                                            colsample_bynode=None,\n",
       "                                            colsample_bytree=None, device=None,\n",
       "                                            early_stopping_rounds=None,\n",
       "                                            enable_categorical=False,\n",
       "                                            eval_metric=None,\n",
       "                                            feature_types=None, gamma=None,\n",
       "                                            grow_policy=None,\n",
       "                                            importance_type=None,\n",
       "                                            interaction_constraints=None,\n",
       "                                            learnin...\n",
       "                                            max_cat_threshold=None,\n",
       "                                            max_cat_to_onehot=None,\n",
       "                                            max_delta_step=None, max_depth=None,\n",
       "                                            max_leaves=None,\n",
       "                                            min_child_weight=None, missing=nan,\n",
       "                                            monotone_constraints=None,\n",
       "                                            multi_strategy=None,\n",
       "                                            n_estimators=None, n_jobs=None,\n",
       "                                            num_parallel_tree=None,\n",
       "                                            random_state=27, ...)),\n",
       "                              (&#x27;LightGBM&#x27;, LGBMRegressor(random_state=27))],\n",
       "                  final_estimator=&lt;catboost.core.CatBoostRegressor object at 0x7bd0bac6d1e0&gt;)</pre></div></div></div><div class=\"sk-serial\"><div class=\"sk-item\"><div class=\"sk-parallel\"><div class=\"sk-parallel-item\"><div class=\"sk-item\"><div class=\"sk-label-container\"><div class=\"sk-label sk-toggleable\"><label>XGBoost</label></div></div><div class=\"sk-serial\"><div class=\"sk-item\"><div class=\"sk-estimator sk-toggleable\"><input class=\"sk-toggleable__control sk-hidden--visually\" id=\"sk-estimator-id-2\" type=\"checkbox\" ><label for=\"sk-estimator-id-2\" class=\"sk-toggleable__label sk-toggleable__label-arrow\">XGBRegressor</label><div class=\"sk-toggleable__content\"><pre>XGBRegressor(base_score=None, booster=None, callbacks=None,\n",
       "             colsample_bylevel=None, colsample_bynode=None,\n",
       "             colsample_bytree=None, device=None, early_stopping_rounds=None,\n",
       "             enable_categorical=False, eval_metric=None, feature_types=None,\n",
       "             gamma=None, grow_policy=None, importance_type=None,\n",
       "             interaction_constraints=None, learning_rate=None, max_bin=None,\n",
       "             max_cat_threshold=None, max_cat_to_onehot=None,\n",
       "             max_delta_step=None, max_depth=None, max_leaves=None,\n",
       "             min_child_weight=None, missing=nan, monotone_constraints=None,\n",
       "             multi_strategy=None, n_estimators=None, n_jobs=None,\n",
       "             num_parallel_tree=None, random_state=27, ...)</pre></div></div></div></div></div></div><div class=\"sk-parallel-item\"><div class=\"sk-item\"><div class=\"sk-label-container\"><div class=\"sk-label sk-toggleable\"><label>LightGBM</label></div></div><div class=\"sk-serial\"><div class=\"sk-item\"><div class=\"sk-estimator sk-toggleable\"><input class=\"sk-toggleable__control sk-hidden--visually\" id=\"sk-estimator-id-3\" type=\"checkbox\" ><label for=\"sk-estimator-id-3\" class=\"sk-toggleable__label sk-toggleable__label-arrow\">LGBMRegressor</label><div class=\"sk-toggleable__content\"><pre>LGBMRegressor(random_state=27)</pre></div></div></div></div></div></div></div></div><div class=\"sk-item\"><div class=\"sk-parallel\"><div class=\"sk-parallel-item\"><div class=\"sk-item\"><div class=\"sk-label-container\"><div class=\"sk-label sk-toggleable\"><label>final_estimator</label></div></div><div class=\"sk-serial\"><div class=\"sk-item\"><div class=\"sk-estimator sk-toggleable\"><input class=\"sk-toggleable__control sk-hidden--visually\" id=\"sk-estimator-id-4\" type=\"checkbox\" ><label for=\"sk-estimator-id-4\" class=\"sk-toggleable__label sk-toggleable__label-arrow\">CatBoostRegressor</label><div class=\"sk-toggleable__content\"><pre>&lt;catboost.core.CatBoostRegressor object at 0x7bd0bac6d1e0&gt;</pre></div></div></div></div></div></div></div></div></div></div></div></div>"
      ],
      "text/plain": [
       "StackingRegressor(estimators=[('XGBoost',\n",
       "                               XGBRegressor(base_score=None, booster=None,\n",
       "                                            callbacks=None,\n",
       "                                            colsample_bylevel=None,\n",
       "                                            colsample_bynode=None,\n",
       "                                            colsample_bytree=None, device=None,\n",
       "                                            early_stopping_rounds=None,\n",
       "                                            enable_categorical=False,\n",
       "                                            eval_metric=None,\n",
       "                                            feature_types=None, gamma=None,\n",
       "                                            grow_policy=None,\n",
       "                                            importance_type=None,\n",
       "                                            interaction_constraints=None,\n",
       "                                            learnin...\n",
       "                                            max_cat_threshold=None,\n",
       "                                            max_cat_to_onehot=None,\n",
       "                                            max_delta_step=None, max_depth=None,\n",
       "                                            max_leaves=None,\n",
       "                                            min_child_weight=None, missing=nan,\n",
       "                                            monotone_constraints=None,\n",
       "                                            multi_strategy=None,\n",
       "                                            n_estimators=None, n_jobs=None,\n",
       "                                            num_parallel_tree=None,\n",
       "                                            random_state=27, ...)),\n",
       "                              ('LightGBM', LGBMRegressor(random_state=27))],\n",
       "                  final_estimator=<catboost.core.CatBoostRegressor object at 0x7bd0bac6d1e0>)"
      ]
     },
     "execution_count": 27,
     "metadata": {},
     "output_type": "execute_result"
    }
   ],
   "source": [
    "%%time\n",
    "stacking_model = StackingRegressor(estimators=base_models, final_estimator=meta_model)\n",
    "stacking_model.fit(X, y)"
   ]
  },
  {
   "cell_type": "markdown",
   "id": "70ff047b",
   "metadata": {
    "papermill": {
     "duration": 0.030625,
     "end_time": "2024-04-01T04:30:31.885355",
     "exception": false,
     "start_time": "2024-04-01T04:30:31.854730",
     "status": "completed"
    },
    "tags": []
   },
   "source": [
    "<a id='15'></a>\n",
    "# <span style=\"color: #3EB489; border-bottom: 6px solid  #20603D; background-color: #fadb8c;\">🐟 Predict the validation set and calculate Root Mean Squared Logarithmic Error (RMSLE) score</span>"
   ]
  },
  {
   "cell_type": "code",
   "execution_count": 28,
   "id": "69bc2a9a",
   "metadata": {
    "execution": {
     "iopub.execute_input": "2024-04-01T04:30:31.946872Z",
     "iopub.status.busy": "2024-04-01T04:30:31.946150Z",
     "iopub.status.idle": "2024-04-01T04:30:32.135775Z",
     "shell.execute_reply": "2024-04-01T04:30:32.134905Z"
    },
    "papermill": {
     "duration": 0.222445,
     "end_time": "2024-04-01T04:30:32.137760",
     "exception": false,
     "start_time": "2024-04-01T04:30:31.915315",
     "status": "completed"
    },
    "tags": []
   },
   "outputs": [
    {
     "name": "stdout",
     "output_type": "stream",
     "text": [
      "Validation Root mean squared logarithmic error regression loss: 0.14425445\n"
     ]
    }
   ],
   "source": [
    "y_pred_val = stacking_model.predict(X_val)\n",
    "\n",
    "rmsle_val = np.sqrt(mean_squared_log_error(y_val, y_pred_val))\n",
    "print(f\"Validation Root mean squared logarithmic error regression loss: {rmsle_val:.8f}\")"
   ]
  },
  {
   "cell_type": "markdown",
   "id": "9cc0dea4",
   "metadata": {
    "papermill": {
     "duration": 0.031225,
     "end_time": "2024-04-01T04:30:32.199847",
     "exception": false,
     "start_time": "2024-04-01T04:30:32.168622",
     "status": "completed"
    },
    "tags": []
   },
   "source": [
    "<a id='16'></a>\n",
    "# <span style=\"color: #3EB489; border-bottom: 6px solid  #20603D; background-color: #fadb8c;\">🐠 Predict on the test data</span>"
   ]
  },
  {
   "cell_type": "code",
   "execution_count": 29,
   "id": "358915f5",
   "metadata": {
    "execution": {
     "iopub.execute_input": "2024-04-01T04:30:32.261361Z",
     "iopub.status.busy": "2024-04-01T04:30:32.260689Z",
     "iopub.status.idle": "2024-04-01T04:30:32.817281Z",
     "shell.execute_reply": "2024-04-01T04:30:32.816131Z"
    },
    "papermill": {
     "duration": 0.589893,
     "end_time": "2024-04-01T04:30:32.819577",
     "exception": false,
     "start_time": "2024-04-01T04:30:32.229684",
     "status": "completed"
    },
    "tags": []
   },
   "outputs": [
    {
     "data": {
      "text/plain": [
       "array([ 9.81365712,  9.30262954, 10.11454356, 10.20055876,  7.64551343,\n",
       "        9.59079043, 11.09172404,  6.32358548,  7.96479704, 11.34223594])"
      ]
     },
     "execution_count": 29,
     "metadata": {},
     "output_type": "execute_result"
    }
   ],
   "source": [
    "y_pred_test = stacking_model.predict(test)\n",
    "y_pred_test[:10]"
   ]
  },
  {
   "cell_type": "markdown",
   "id": "13899402",
   "metadata": {
    "papermill": {
     "duration": 0.033247,
     "end_time": "2024-04-01T04:30:32.885462",
     "exception": false,
     "start_time": "2024-04-01T04:30:32.852215",
     "status": "completed"
    },
    "tags": []
   },
   "source": [
    "![](https://en.australia51.com/Attach/Download/EA3D1916-8F57-1147-653F-329276FBB95A/0656DE71-5A1F-235F-E504-F21533E82969.jpg)"
   ]
  },
  {
   "cell_type": "markdown",
   "id": "7d2a98c3",
   "metadata": {
    "papermill": {
     "duration": 0.031503,
     "end_time": "2024-04-01T04:30:32.948423",
     "exception": false,
     "start_time": "2024-04-01T04:30:32.916920",
     "status": "completed"
    },
    "tags": []
   },
   "source": [
    "<a id='17'></a>\n",
    "# <span style=\"color: #3EB489; border-bottom: 6px solid  #20603D; background-color: #fadb8c;\">🐡 Build DataFrame and make first submission</span>"
   ]
  },
  {
   "cell_type": "code",
   "execution_count": 30,
   "id": "dadbfea7",
   "metadata": {
    "execution": {
     "iopub.execute_input": "2024-04-01T04:30:33.011580Z",
     "iopub.status.busy": "2024-04-01T04:30:33.010999Z",
     "iopub.status.idle": "2024-04-01T04:30:33.198144Z",
     "shell.execute_reply": "2024-04-01T04:30:33.197027Z"
    },
    "papermill": {
     "duration": 0.220676,
     "end_time": "2024-04-01T04:30:33.200435",
     "exception": false,
     "start_time": "2024-04-01T04:30:32.979759",
     "status": "completed"
    },
    "tags": []
   },
   "outputs": [
    {
     "data": {
      "text/html": [
       "<div>\n",
       "<style scoped>\n",
       "    .dataframe tbody tr th:only-of-type {\n",
       "        vertical-align: middle;\n",
       "    }\n",
       "\n",
       "    .dataframe tbody tr th {\n",
       "        vertical-align: top;\n",
       "    }\n",
       "\n",
       "    .dataframe thead th {\n",
       "        text-align: right;\n",
       "    }\n",
       "</style>\n",
       "<table border=\"1\" class=\"dataframe\">\n",
       "  <thead>\n",
       "    <tr style=\"text-align: right;\">\n",
       "      <th></th>\n",
       "      <th>id</th>\n",
       "      <th>Rings</th>\n",
       "    </tr>\n",
       "  </thead>\n",
       "  <tbody>\n",
       "    <tr>\n",
       "      <th>0</th>\n",
       "      <td>90615</td>\n",
       "      <td>9.813657</td>\n",
       "    </tr>\n",
       "    <tr>\n",
       "      <th>1</th>\n",
       "      <td>90616</td>\n",
       "      <td>9.302630</td>\n",
       "    </tr>\n",
       "    <tr>\n",
       "      <th>2</th>\n",
       "      <td>90617</td>\n",
       "      <td>10.114544</td>\n",
       "    </tr>\n",
       "    <tr>\n",
       "      <th>3</th>\n",
       "      <td>90618</td>\n",
       "      <td>10.200559</td>\n",
       "    </tr>\n",
       "    <tr>\n",
       "      <th>4</th>\n",
       "      <td>90619</td>\n",
       "      <td>7.645513</td>\n",
       "    </tr>\n",
       "    <tr>\n",
       "      <th>5</th>\n",
       "      <td>90620</td>\n",
       "      <td>9.590790</td>\n",
       "    </tr>\n",
       "    <tr>\n",
       "      <th>6</th>\n",
       "      <td>90621</td>\n",
       "      <td>11.091724</td>\n",
       "    </tr>\n",
       "    <tr>\n",
       "      <th>7</th>\n",
       "      <td>90622</td>\n",
       "      <td>6.323585</td>\n",
       "    </tr>\n",
       "    <tr>\n",
       "      <th>8</th>\n",
       "      <td>90623</td>\n",
       "      <td>7.964797</td>\n",
       "    </tr>\n",
       "    <tr>\n",
       "      <th>9</th>\n",
       "      <td>90624</td>\n",
       "      <td>11.342236</td>\n",
       "    </tr>\n",
       "  </tbody>\n",
       "</table>\n",
       "</div>"
      ],
      "text/plain": [
       "      id      Rings\n",
       "0  90615   9.813657\n",
       "1  90616   9.302630\n",
       "2  90617  10.114544\n",
       "3  90618  10.200559\n",
       "4  90619   7.645513\n",
       "5  90620   9.590790\n",
       "6  90621  11.091724\n",
       "7  90622   6.323585\n",
       "8  90623   7.964797\n",
       "9  90624  11.342236"
      ]
     },
     "execution_count": 30,
     "metadata": {},
     "output_type": "execute_result"
    }
   ],
   "source": [
    "submission = pd.DataFrame({\n",
    "    'id': sample_submission.id,\n",
    "    'Rings': y_pred_test\n",
    "})\n",
    "\n",
    "submission.to_csv('Kapturov_S4E4_submission.csv', index=False)\n",
    "submission.head(10)"
   ]
  },
  {
   "cell_type": "markdown",
   "id": "de01b87d",
   "metadata": {
    "papermill": {
     "duration": 0.03175,
     "end_time": "2024-04-01T04:30:33.263908",
     "exception": false,
     "start_time": "2024-04-01T04:30:33.232158",
     "status": "completed"
    },
    "tags": []
   },
   "source": [
    "<a id='17'></a>\n",
    "# <span style=\"color: #3EB489; border-bottom: 6px solid  #20603D; background-color: #fadb8c;\">🍥 Save the model into pickle file</span>"
   ]
  },
  {
   "cell_type": "code",
   "execution_count": 31,
   "id": "2e7947f6",
   "metadata": {
    "execution": {
     "iopub.execute_input": "2024-04-01T04:30:33.328022Z",
     "iopub.status.busy": "2024-04-01T04:30:33.327666Z",
     "iopub.status.idle": "2024-04-01T04:30:33.345233Z",
     "shell.execute_reply": "2024-04-01T04:30:33.344383Z"
    },
    "papermill": {
     "duration": 0.051405,
     "end_time": "2024-04-01T04:30:33.347297",
     "exception": false,
     "start_time": "2024-04-01T04:30:33.295892",
     "status": "completed"
    },
    "tags": []
   },
   "outputs": [],
   "source": [
    "import pickle\n",
    "\n",
    "pickle.dump(stacking_model, open(\"Kapturov_stacking_model.pkl\", \"wb\"))"
   ]
  },
  {
   "cell_type": "markdown",
   "id": "cd852916",
   "metadata": {
    "papermill": {
     "duration": 0.030923,
     "end_time": "2024-04-01T04:30:33.410318",
     "exception": false,
     "start_time": "2024-04-01T04:30:33.379395",
     "status": "completed"
    },
    "tags": []
   },
   "source": [
    "![](https://upload.wikimedia.org/wikipedia/commons/thumb/b/bc/Abalone_at_California_Academy_of_Sciences.JPG/1200px-Abalone_at_California_Academy_of_Sciences.JPG)"
   ]
  },
  {
   "cell_type": "markdown",
   "id": "fb354457",
   "metadata": {
    "papermill": {
     "duration": 0.030889,
     "end_time": "2024-04-01T04:30:33.472968",
     "exception": false,
     "start_time": "2024-04-01T04:30:33.442079",
     "status": "completed"
    },
    "tags": []
   },
   "source": [
    "# <span style=\"color: #3EB489; border-bottom: 6px solid  #20603D; background-color: #fadb8c;\">😀 Hope You are feeling great!"
   ]
  }
 ],
 "metadata": {
  "kaggle": {
   "accelerator": "none",
   "dataSources": [
    {
     "databundleVersionId": 8096274,
     "sourceId": 72489,
     "sourceType": "competition"
    },
    {
     "datasetId": 4705962,
     "sourceId": 7993427,
     "sourceType": "datasetVersion"
    }
   ],
   "dockerImageVersionId": 30673,
   "isGpuEnabled": false,
   "isInternetEnabled": true,
   "language": "python",
   "sourceType": "notebook"
  },
  "kernelspec": {
   "display_name": "Python 3",
   "language": "python",
   "name": "python3"
  },
  "language_info": {
   "codemirror_mode": {
    "name": "ipython",
    "version": 3
   },
   "file_extension": ".py",
   "mimetype": "text/x-python",
   "name": "python",
   "nbconvert_exporter": "python",
   "pygments_lexer": "ipython3",
   "version": "3.10.13"
  },
  "papermill": {
   "default_parameters": {},
   "duration": 760.035708,
   "end_time": "2024-04-01T04:30:36.127143",
   "environment_variables": {},
   "exception": null,
   "input_path": "__notebook__.ipynb",
   "output_path": "__notebook__.ipynb",
   "parameters": {},
   "start_time": "2024-04-01T04:17:56.091435",
   "version": "2.5.0"
  }
 },
 "nbformat": 4,
 "nbformat_minor": 5
}
