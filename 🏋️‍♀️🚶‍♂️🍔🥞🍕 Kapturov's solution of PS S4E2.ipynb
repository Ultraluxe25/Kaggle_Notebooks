{
 "cells": [
  {
   "cell_type": "markdown",
   "id": "3f232503",
   "metadata": {
    "papermill": {
     "duration": 0.020582,
     "end_time": "2024-02-07T12:18:49.329140",
     "exception": false,
     "start_time": "2024-02-07T12:18:49.308558",
     "status": "completed"
    },
    "tags": []
   },
   "source": [
    "# <span style=\"border: 3px solid yellow; border-radius: 30px; color: white; background-image: url(https://www.kaggle.com/competitions/68479/images/header); padding: 1px 5px 5px 5px\">Multi-Class Prediction of Obesity Risk</span>"
   ]
  },
  {
   "cell_type": "code",
   "execution_count": 1,
   "id": "909438c3",
   "metadata": {
    "_cell_guid": "b1076dfc-b9ad-4769-8c92-a6c4dae69d19",
    "_kg_hide-input": true,
    "_kg_hide-output": true,
    "_uuid": "8f2839f25d086af736a60e9eeb907d3b93b6e0e5",
    "execution": {
     "iopub.execute_input": "2024-02-07T12:18:49.372476Z",
     "iopub.status.busy": "2024-02-07T12:18:49.371655Z",
     "iopub.status.idle": "2024-02-07T12:18:50.510104Z",
     "shell.execute_reply": "2024-02-07T12:18:50.508837Z"
    },
    "papermill": {
     "duration": 1.163904,
     "end_time": "2024-02-07T12:18:50.513302",
     "exception": false,
     "start_time": "2024-02-07T12:18:49.349398",
     "status": "completed"
    },
    "tags": []
   },
   "outputs": [
    {
     "name": "stdout",
     "output_type": "stream",
     "text": [
      "/kaggle/input/playground-series-s4e2/sample_submission.csv\n",
      "/kaggle/input/playground-series-s4e2/train.csv\n",
      "/kaggle/input/playground-series-s4e2/test.csv\n",
      "/kaggle/input/obesity-or-cvd-risk-classifyregressorcluster/ObesityDataSet.csv\n"
     ]
    }
   ],
   "source": [
    "# This Python 3 environment comes with many helpful analytics libraries installed\n",
    "# It is defined by the kaggle/python Docker image: https://github.com/kaggle/docker-python\n",
    "# For example, here's several helpful packages to load\n",
    "\n",
    "import numpy as np # linear algebra\n",
    "import pandas as pd # data processing, CSV file I/O (e.g. pd.read_csv)\n",
    "\n",
    "# Input data files are available in the read-only \"../input/\" directory\n",
    "# For example, running this (by clicking run or pressing Shift+Enter) will list all files under the input directory\n",
    "\n",
    "import os\n",
    "for dirname, _, filenames in os.walk('/kaggle/input'):\n",
    "    for filename in filenames:\n",
    "        print(os.path.join(dirname, filename))\n",
    "\n",
    "# You can write up to 20GB to the current directory (/kaggle/working/) that gets preserved as output when you create a version using \"Save & Run All\" \n",
    "# You can also write temporary files to /kaggle/temp/, but they won't be saved outside of the current session"
   ]
  },
  {
   "cell_type": "markdown",
   "id": "bc0e1eec",
   "metadata": {
    "papermill": {
     "duration": 0.021005,
     "end_time": "2024-02-07T12:18:50.554607",
     "exception": false,
     "start_time": "2024-02-07T12:18:50.533602",
     "status": "completed"
    },
    "tags": []
   },
   "source": [
    "![](https://www.kaggle.com/competitions/68479/images/header)"
   ]
  },
  {
   "cell_type": "markdown",
   "id": "110e8ae9",
   "metadata": {
    "papermill": {
     "duration": 0.019833,
     "end_time": "2024-02-07T12:18:50.594733",
     "exception": false,
     "start_time": "2024-02-07T12:18:50.574900",
     "status": "completed"
    },
    "tags": []
   },
   "source": [
    "# <span style=\"background-image: url(https://www.kaggle.com/competitions/68479/images/header); color: white; font-size: 50px;\">Table of Contents</span>\n",
    "\n",
    "1. [Import libraries](#1)\n",
    "2. [Open data files](#2)\n",
    "3. [Show first 5 lines of train data](#3)\n",
    "    - 3.1 [Compare original train and competition train](#3.1)\n",
    "    - 3.2 [Concatenate original train with competition train](#3.2)\n",
    "4. [Shapes of train and test data](#4)\n",
    "5. [Display descriptive statistics of train data](#5)\n",
    "6. [Check the number of gaps for each feature](#6)\n",
    "7. [Data types of training set](#7)\n",
    "    - 7.1 [Figure out how much duplicates in data](#7.1)\n",
    "    - 7.2 [Remove duplicates from data](#7.2)\n",
    "    - 7.3 [One-hot encoding](#7.3)\n",
    "8. [Display histograms of distribution](#8)\n",
    "9. [Let's count target of train data](#9)\n",
    "10. [Transorm the data with logarithm](#10)\n",
    "    - 10.1 [Pie plot of target](#10.1)\n",
    "    - 10.2 [Feature importance](#10.2)\n",
    "11. [Build a heat map of correlations](#11)\n",
    "12. [Define base models with tuned hyperparameters](#12)\n",
    "13. [Defining the meta-model with tuned hyperparameters](#13)\n",
    "14. [Creating and fitting the stacking model](#14)\n",
    "15. [Predict validation set and calculate accuracy score](#15)\n",
    "16. [Predict the test data](#16)\n",
    "17. [Build DataFrame and make submission](#17)"
   ]
  },
  {
   "cell_type": "markdown",
   "id": "a750571a",
   "metadata": {
    "papermill": {
     "duration": 0.020549,
     "end_time": "2024-02-07T12:18:50.635640",
     "exception": false,
     "start_time": "2024-02-07T12:18:50.615091",
     "status": "completed"
    },
    "tags": []
   },
   "source": [
    "### <p style=\"color: #3cb371; border-style: solid; border-color: yellow; padding: 5px 5px 5px 5px; border-width: 5px;\">The data consist of the estimation of obesity levels in people from the countries of Mexico, Peru and Colombia, with ages between 14 and 61 and diverse eating habits and physical condition , data was collected using a web platform with a survey where anonymous users answered each question, then the information was processed obtaining 17 attributes and 2111 records</p>\n",
    "\n",
    "### <p style=\"color: orange; border-style: solid; border-color: yellow; padding: 5px 5px 5px 5px; border-width: 5px;\">The attributes related with eating habits are: Frequent consumption of high caloric food (FAVC), Frequency of consumption of vegetables (FCVC), Number of main meals (NCP), Consumption of food between meals (CAEC), Consumption of water daily (CH20), and Consumption of alcohol (CALC). The attributes related with the physical condition are: Calories consumption monitoring (SCC), Physical activity frequency (FAF), Time using technology devices (TUE), Transportation used (MTRANS)</p>"
   ]
  },
  {
   "cell_type": "markdown",
   "id": "71893ae3",
   "metadata": {
    "papermill": {
     "duration": 0.019878,
     "end_time": "2024-02-07T12:18:50.676116",
     "exception": false,
     "start_time": "2024-02-07T12:18:50.656238",
     "status": "completed"
    },
    "tags": []
   },
   "source": [
    "![](https://athleanx.com/wp-content/uploads/2023/07/men-bodyfat-percent.jpg)"
   ]
  },
  {
   "cell_type": "markdown",
   "id": "b4a80c5d",
   "metadata": {
    "papermill": {
     "duration": 0.020146,
     "end_time": "2024-02-07T12:18:50.716548",
     "exception": false,
     "start_time": "2024-02-07T12:18:50.696402",
     "status": "completed"
    },
    "tags": []
   },
   "source": [
    "<a id='1'></a>\n",
    "# <span style=\"color: #3cb371; border-bottom: 6px solid #03adfc;background-color: #fadb8c;\">🏃‍♀️ 1 - Import libraries</span>"
   ]
  },
  {
   "cell_type": "code",
   "execution_count": 2,
   "id": "7c91473a",
   "metadata": {
    "execution": {
     "iopub.execute_input": "2024-02-07T12:18:50.759236Z",
     "iopub.status.busy": "2024-02-07T12:18:50.758455Z",
     "iopub.status.idle": "2024-02-07T12:18:56.315625Z",
     "shell.execute_reply": "2024-02-07T12:18:56.314184Z"
    },
    "papermill": {
     "duration": 5.581827,
     "end_time": "2024-02-07T12:18:56.318590",
     "exception": false,
     "start_time": "2024-02-07T12:18:50.736763",
     "status": "completed"
    },
    "tags": []
   },
   "outputs": [],
   "source": [
    "import optuna\n",
    "import numpy as np\n",
    "import pandas as pd\n",
    "import matplotlib.pyplot as plt\n",
    "import seaborn as sns\n",
    "from IPython.core.display import HTML\n",
    "from sklearn.model_selection import RandomizedSearchCV\n",
    "from sklearn.model_selection import train_test_split, cross_val_score, cross_val_predict\n",
    "from sklearn.preprocessing import StandardScaler\n",
    "from sklearn.linear_model import LogisticRegression\n",
    "from sklearn.neighbors import KNeighborsClassifier\n",
    "from sklearn.ensemble import StackingClassifier, RandomForestClassifier, HistGradientBoostingClassifier, AdaBoostClassifier\n",
    "from xgboost import XGBClassifier\n",
    "from catboost import CatBoostClassifier\n",
    "from lightgbm import LGBMClassifier\n",
    "from sklearn.metrics import roc_auc_score\n",
    "from sklearn.metrics import accuracy_score, precision_score, recall_score, f1_score, roc_auc_score"
   ]
  },
  {
   "cell_type": "markdown",
   "id": "e579faa2",
   "metadata": {
    "papermill": {
     "duration": 0.020512,
     "end_time": "2024-02-07T12:18:56.361169",
     "exception": false,
     "start_time": "2024-02-07T12:18:56.340657",
     "status": "completed"
    },
    "tags": []
   },
   "source": [
    "<a id='2'></a>\n",
    "# <span style=\"color: #3cb371; border-bottom: 6px solid #03adfc; background-color: #fadb8c;\">🏃‍♂️ 2 - Open data files</span>"
   ]
  },
  {
   "cell_type": "code",
   "execution_count": 3,
   "id": "f864e8a0",
   "metadata": {
    "execution": {
     "iopub.execute_input": "2024-02-07T12:18:56.404338Z",
     "iopub.status.busy": "2024-02-07T12:18:56.403945Z",
     "iopub.status.idle": "2024-02-07T12:18:56.630698Z",
     "shell.execute_reply": "2024-02-07T12:18:56.629507Z"
    },
    "papermill": {
     "duration": 0.2512,
     "end_time": "2024-02-07T12:18:56.633463",
     "exception": false,
     "start_time": "2024-02-07T12:18:56.382263",
     "status": "completed"
    },
    "tags": []
   },
   "outputs": [],
   "source": [
    "original_train = pd.read_csv('/kaggle/input/obesity-or-cvd-risk-classifyregressorcluster/ObesityDataSet.csv')\n",
    "\n",
    "train = pd.read_csv('/kaggle/input/playground-series-s4e2/train.csv')\n",
    "test = pd.read_csv('/kaggle/input/playground-series-s4e2/test.csv')\n",
    "sample_submission = pd.read_csv('/kaggle/input/playground-series-s4e2/sample_submission.csv')"
   ]
  },
  {
   "cell_type": "markdown",
   "id": "2440cd34",
   "metadata": {
    "papermill": {
     "duration": 0.02075,
     "end_time": "2024-02-07T12:18:56.675230",
     "exception": false,
     "start_time": "2024-02-07T12:18:56.654480",
     "status": "completed"
    },
    "tags": []
   },
   "source": [
    "<a id='3'></a>\n",
    "# <span style=\"color: #3cb371; border-bottom: 6px solid #03adfc; background-color: #fadb8c;\">🏋️‍♀️ 3 - Show first 5 lines of train data</span>"
   ]
  },
  {
   "cell_type": "code",
   "execution_count": 4,
   "id": "b64e3523",
   "metadata": {
    "execution": {
     "iopub.execute_input": "2024-02-07T12:18:56.718466Z",
     "iopub.status.busy": "2024-02-07T12:18:56.717462Z",
     "iopub.status.idle": "2024-02-07T12:18:56.747145Z",
     "shell.execute_reply": "2024-02-07T12:18:56.745811Z"
    },
    "papermill": {
     "duration": 0.054019,
     "end_time": "2024-02-07T12:18:56.749668",
     "exception": false,
     "start_time": "2024-02-07T12:18:56.695649",
     "status": "completed"
    },
    "tags": []
   },
   "outputs": [
    {
     "data": {
      "text/html": [
       "<div>\n",
       "<style scoped>\n",
       "    .dataframe tbody tr th:only-of-type {\n",
       "        vertical-align: middle;\n",
       "    }\n",
       "\n",
       "    .dataframe tbody tr th {\n",
       "        vertical-align: top;\n",
       "    }\n",
       "\n",
       "    .dataframe thead th {\n",
       "        text-align: right;\n",
       "    }\n",
       "</style>\n",
       "<table border=\"1\" class=\"dataframe\">\n",
       "  <thead>\n",
       "    <tr style=\"text-align: right;\">\n",
       "      <th></th>\n",
       "      <th>id</th>\n",
       "      <th>Gender</th>\n",
       "      <th>Age</th>\n",
       "      <th>Height</th>\n",
       "      <th>Weight</th>\n",
       "      <th>family_history_with_overweight</th>\n",
       "      <th>FAVC</th>\n",
       "      <th>FCVC</th>\n",
       "      <th>NCP</th>\n",
       "      <th>CAEC</th>\n",
       "      <th>SMOKE</th>\n",
       "      <th>CH2O</th>\n",
       "      <th>SCC</th>\n",
       "      <th>FAF</th>\n",
       "      <th>TUE</th>\n",
       "      <th>CALC</th>\n",
       "      <th>MTRANS</th>\n",
       "      <th>NObeyesdad</th>\n",
       "    </tr>\n",
       "  </thead>\n",
       "  <tbody>\n",
       "    <tr>\n",
       "      <th>0</th>\n",
       "      <td>0</td>\n",
       "      <td>Male</td>\n",
       "      <td>24.443011</td>\n",
       "      <td>1.699998</td>\n",
       "      <td>81.669950</td>\n",
       "      <td>yes</td>\n",
       "      <td>yes</td>\n",
       "      <td>2.000000</td>\n",
       "      <td>2.983297</td>\n",
       "      <td>Sometimes</td>\n",
       "      <td>no</td>\n",
       "      <td>2.763573</td>\n",
       "      <td>no</td>\n",
       "      <td>0.000000</td>\n",
       "      <td>0.976473</td>\n",
       "      <td>Sometimes</td>\n",
       "      <td>Public_Transportation</td>\n",
       "      <td>Overweight_Level_II</td>\n",
       "    </tr>\n",
       "    <tr>\n",
       "      <th>1</th>\n",
       "      <td>1</td>\n",
       "      <td>Female</td>\n",
       "      <td>18.000000</td>\n",
       "      <td>1.560000</td>\n",
       "      <td>57.000000</td>\n",
       "      <td>yes</td>\n",
       "      <td>yes</td>\n",
       "      <td>2.000000</td>\n",
       "      <td>3.000000</td>\n",
       "      <td>Frequently</td>\n",
       "      <td>no</td>\n",
       "      <td>2.000000</td>\n",
       "      <td>no</td>\n",
       "      <td>1.000000</td>\n",
       "      <td>1.000000</td>\n",
       "      <td>no</td>\n",
       "      <td>Automobile</td>\n",
       "      <td>Normal_Weight</td>\n",
       "    </tr>\n",
       "    <tr>\n",
       "      <th>2</th>\n",
       "      <td>2</td>\n",
       "      <td>Female</td>\n",
       "      <td>18.000000</td>\n",
       "      <td>1.711460</td>\n",
       "      <td>50.165754</td>\n",
       "      <td>yes</td>\n",
       "      <td>yes</td>\n",
       "      <td>1.880534</td>\n",
       "      <td>1.411685</td>\n",
       "      <td>Sometimes</td>\n",
       "      <td>no</td>\n",
       "      <td>1.910378</td>\n",
       "      <td>no</td>\n",
       "      <td>0.866045</td>\n",
       "      <td>1.673584</td>\n",
       "      <td>no</td>\n",
       "      <td>Public_Transportation</td>\n",
       "      <td>Insufficient_Weight</td>\n",
       "    </tr>\n",
       "    <tr>\n",
       "      <th>3</th>\n",
       "      <td>3</td>\n",
       "      <td>Female</td>\n",
       "      <td>20.952737</td>\n",
       "      <td>1.710730</td>\n",
       "      <td>131.274851</td>\n",
       "      <td>yes</td>\n",
       "      <td>yes</td>\n",
       "      <td>3.000000</td>\n",
       "      <td>3.000000</td>\n",
       "      <td>Sometimes</td>\n",
       "      <td>no</td>\n",
       "      <td>1.674061</td>\n",
       "      <td>no</td>\n",
       "      <td>1.467863</td>\n",
       "      <td>0.780199</td>\n",
       "      <td>Sometimes</td>\n",
       "      <td>Public_Transportation</td>\n",
       "      <td>Obesity_Type_III</td>\n",
       "    </tr>\n",
       "    <tr>\n",
       "      <th>4</th>\n",
       "      <td>4</td>\n",
       "      <td>Male</td>\n",
       "      <td>31.641081</td>\n",
       "      <td>1.914186</td>\n",
       "      <td>93.798055</td>\n",
       "      <td>yes</td>\n",
       "      <td>yes</td>\n",
       "      <td>2.679664</td>\n",
       "      <td>1.971472</td>\n",
       "      <td>Sometimes</td>\n",
       "      <td>no</td>\n",
       "      <td>1.979848</td>\n",
       "      <td>no</td>\n",
       "      <td>1.967973</td>\n",
       "      <td>0.931721</td>\n",
       "      <td>Sometimes</td>\n",
       "      <td>Public_Transportation</td>\n",
       "      <td>Overweight_Level_II</td>\n",
       "    </tr>\n",
       "  </tbody>\n",
       "</table>\n",
       "</div>"
      ],
      "text/plain": [
       "   id  Gender        Age    Height      Weight family_history_with_overweight  \\\n",
       "0   0    Male  24.443011  1.699998   81.669950                            yes   \n",
       "1   1  Female  18.000000  1.560000   57.000000                            yes   \n",
       "2   2  Female  18.000000  1.711460   50.165754                            yes   \n",
       "3   3  Female  20.952737  1.710730  131.274851                            yes   \n",
       "4   4    Male  31.641081  1.914186   93.798055                            yes   \n",
       "\n",
       "  FAVC      FCVC       NCP        CAEC SMOKE      CH2O SCC       FAF  \\\n",
       "0  yes  2.000000  2.983297   Sometimes    no  2.763573  no  0.000000   \n",
       "1  yes  2.000000  3.000000  Frequently    no  2.000000  no  1.000000   \n",
       "2  yes  1.880534  1.411685   Sometimes    no  1.910378  no  0.866045   \n",
       "3  yes  3.000000  3.000000   Sometimes    no  1.674061  no  1.467863   \n",
       "4  yes  2.679664  1.971472   Sometimes    no  1.979848  no  1.967973   \n",
       "\n",
       "        TUE       CALC                 MTRANS           NObeyesdad  \n",
       "0  0.976473  Sometimes  Public_Transportation  Overweight_Level_II  \n",
       "1  1.000000         no             Automobile        Normal_Weight  \n",
       "2  1.673584         no  Public_Transportation  Insufficient_Weight  \n",
       "3  0.780199  Sometimes  Public_Transportation     Obesity_Type_III  \n",
       "4  0.931721  Sometimes  Public_Transportation  Overweight_Level_II  "
      ]
     },
     "execution_count": 4,
     "metadata": {},
     "output_type": "execute_result"
    }
   ],
   "source": [
    "# Show all properties on display\n",
    "pd.set_option('display.max_columns', None)\n",
    "\n",
    "train.head()"
   ]
  },
  {
   "cell_type": "markdown",
   "id": "156cfd84",
   "metadata": {
    "papermill": {
     "duration": 0.021052,
     "end_time": "2024-02-07T12:18:56.792048",
     "exception": false,
     "start_time": "2024-02-07T12:18:56.770996",
     "status": "completed"
    },
    "tags": []
   },
   "source": [
    "<a id='3.1'></a>\n",
    "### <span style=\"color: #3cb371; border-bottom: 6px solid #03adfc; background-color: #fadb8c;\">3.1 Compare original train and competition train"
   ]
  },
  {
   "cell_type": "code",
   "execution_count": 5,
   "id": "3b0f558e",
   "metadata": {
    "execution": {
     "iopub.execute_input": "2024-02-07T12:18:56.836019Z",
     "iopub.status.busy": "2024-02-07T12:18:56.835589Z",
     "iopub.status.idle": "2024-02-07T12:18:56.843263Z",
     "shell.execute_reply": "2024-02-07T12:18:56.841959Z"
    },
    "papermill": {
     "duration": 0.032469,
     "end_time": "2024-02-07T12:18:56.845729",
     "exception": false,
     "start_time": "2024-02-07T12:18:56.813260",
     "status": "completed"
    },
    "tags": []
   },
   "outputs": [
    {
     "name": "stdout",
     "output_type": "stream",
     "text": [
      "(2111, 17)\n"
     ]
    },
    {
     "data": {
      "text/plain": [
       "['Gender',\n",
       " 'Age',\n",
       " 'Height',\n",
       " 'Weight',\n",
       " 'family_history_with_overweight',\n",
       " 'FAVC',\n",
       " 'FCVC',\n",
       " 'NCP',\n",
       " 'CAEC',\n",
       " 'SMOKE',\n",
       " 'CH2O',\n",
       " 'SCC',\n",
       " 'FAF',\n",
       " 'TUE',\n",
       " 'CALC',\n",
       " 'MTRANS',\n",
       " 'NObeyesdad']"
      ]
     },
     "execution_count": 5,
     "metadata": {},
     "output_type": "execute_result"
    }
   ],
   "source": [
    "print(original_train.shape)\n",
    "original_train.columns.tolist()"
   ]
  },
  {
   "cell_type": "code",
   "execution_count": 6,
   "id": "ec25501a",
   "metadata": {
    "execution": {
     "iopub.execute_input": "2024-02-07T12:18:56.891009Z",
     "iopub.status.busy": "2024-02-07T12:18:56.889736Z",
     "iopub.status.idle": "2024-02-07T12:18:56.898209Z",
     "shell.execute_reply": "2024-02-07T12:18:56.897257Z"
    },
    "papermill": {
     "duration": 0.033484,
     "end_time": "2024-02-07T12:18:56.900391",
     "exception": false,
     "start_time": "2024-02-07T12:18:56.866907",
     "status": "completed"
    },
    "tags": []
   },
   "outputs": [
    {
     "name": "stdout",
     "output_type": "stream",
     "text": [
      "(20758, 18)\n"
     ]
    },
    {
     "data": {
      "text/plain": [
       "['id',\n",
       " 'Gender',\n",
       " 'Age',\n",
       " 'Height',\n",
       " 'Weight',\n",
       " 'family_history_with_overweight',\n",
       " 'FAVC',\n",
       " 'FCVC',\n",
       " 'NCP',\n",
       " 'CAEC',\n",
       " 'SMOKE',\n",
       " 'CH2O',\n",
       " 'SCC',\n",
       " 'FAF',\n",
       " 'TUE',\n",
       " 'CALC',\n",
       " 'MTRANS',\n",
       " 'NObeyesdad']"
      ]
     },
     "execution_count": 6,
     "metadata": {},
     "output_type": "execute_result"
    }
   ],
   "source": [
    "print(train.shape)\n",
    "train.columns.tolist()"
   ]
  },
  {
   "cell_type": "markdown",
   "id": "36151323",
   "metadata": {
    "papermill": {
     "duration": 0.021067,
     "end_time": "2024-02-07T12:18:56.942720",
     "exception": false,
     "start_time": "2024-02-07T12:18:56.921653",
     "status": "completed"
    },
    "tags": []
   },
   "source": [
    "##### We have to drop 'id' from train and test dataset"
   ]
  },
  {
   "cell_type": "code",
   "execution_count": 7,
   "id": "3bc27650",
   "metadata": {
    "execution": {
     "iopub.execute_input": "2024-02-07T12:18:56.988392Z",
     "iopub.status.busy": "2024-02-07T12:18:56.987142Z",
     "iopub.status.idle": "2024-02-07T12:18:57.008437Z",
     "shell.execute_reply": "2024-02-07T12:18:57.007171Z"
    },
    "papermill": {
     "duration": 0.047115,
     "end_time": "2024-02-07T12:18:57.011145",
     "exception": false,
     "start_time": "2024-02-07T12:18:56.964030",
     "status": "completed"
    },
    "tags": []
   },
   "outputs": [],
   "source": [
    "submission_id = test.id\n",
    "\n",
    "train.drop(columns='id', axis=1, inplace=True)\n",
    "test.drop(columns='id', axis=1, inplace=True)"
   ]
  },
  {
   "cell_type": "markdown",
   "id": "39182576",
   "metadata": {
    "papermill": {
     "duration": 0.021917,
     "end_time": "2024-02-07T12:18:57.054849",
     "exception": false,
     "start_time": "2024-02-07T12:18:57.032932",
     "status": "completed"
    },
    "tags": []
   },
   "source": [
    "<a id='3.2'></a>\n",
    "### <span style=\"color: #3cb371; border-bottom: 6px solid #03adfc; background-color: #fadb8c;\">3.2 Concatenate original train with competition train"
   ]
  },
  {
   "cell_type": "code",
   "execution_count": 8,
   "id": "1f82c092",
   "metadata": {
    "execution": {
     "iopub.execute_input": "2024-02-07T12:18:57.100373Z",
     "iopub.status.busy": "2024-02-07T12:18:57.099432Z",
     "iopub.status.idle": "2024-02-07T12:18:57.110346Z",
     "shell.execute_reply": "2024-02-07T12:18:57.109127Z"
    },
    "papermill": {
     "duration": 0.036648,
     "end_time": "2024-02-07T12:18:57.112918",
     "exception": false,
     "start_time": "2024-02-07T12:18:57.076270",
     "status": "completed"
    },
    "tags": []
   },
   "outputs": [
    {
     "data": {
      "text/plain": [
       "(22869, 17)"
      ]
     },
     "execution_count": 8,
     "metadata": {},
     "output_type": "execute_result"
    }
   ],
   "source": [
    "train = pd.concat(objs=[train, original_train])\n",
    "train.shape"
   ]
  },
  {
   "cell_type": "markdown",
   "id": "d0d5c9d4",
   "metadata": {
    "papermill": {
     "duration": 0.022316,
     "end_time": "2024-02-07T12:18:57.156712",
     "exception": false,
     "start_time": "2024-02-07T12:18:57.134396",
     "status": "completed"
    },
    "tags": []
   },
   "source": [
    "##### Now You can see that train data became +2111 objectives bigger than previous data"
   ]
  },
  {
   "cell_type": "markdown",
   "id": "632b4311",
   "metadata": {
    "papermill": {
     "duration": 0.021422,
     "end_time": "2024-02-07T12:18:57.199904",
     "exception": false,
     "start_time": "2024-02-07T12:18:57.178482",
     "status": "completed"
    },
    "tags": []
   },
   "source": [
    "<a id='4'></a>\n",
    "# <span style=\"color: #3cb371; border-bottom: 6px solid #03adfc; background-color: #fadb8c;\">🚶‍♂️ 4 - Shapes of train and test data</span>"
   ]
  },
  {
   "cell_type": "code",
   "execution_count": 9,
   "id": "6c08d151",
   "metadata": {
    "execution": {
     "iopub.execute_input": "2024-02-07T12:18:57.307333Z",
     "iopub.status.busy": "2024-02-07T12:18:57.306935Z",
     "iopub.status.idle": "2024-02-07T12:18:57.314360Z",
     "shell.execute_reply": "2024-02-07T12:18:57.312998Z"
    },
    "papermill": {
     "duration": 0.035081,
     "end_time": "2024-02-07T12:18:57.318118",
     "exception": false,
     "start_time": "2024-02-07T12:18:57.283037",
     "status": "completed"
    },
    "tags": []
   },
   "outputs": [
    {
     "name": "stdout",
     "output_type": "stream",
     "text": [
      "Train data: (22869, 17)\n",
      "Test data: (13840, 16)\n",
      "\n",
      "Train data consists of 62.3% of all observations\n",
      "Test data consists of 37.7% of all observations\n"
     ]
    }
   ],
   "source": [
    "print(f'Train data: {train.shape}')\n",
    "print(f'Test data: {test.shape}\\n')\n",
    "\n",
    "train_data_percentage = np.round(train.shape[0] / (train.shape[0] + test.shape[0]), 4)\n",
    "print(f'Train data consists of {train_data_percentage * 100}% of all observations')\n",
    "print(f'Test data consists of {(1 - train_data_percentage) * 100}% of all observations')"
   ]
  },
  {
   "cell_type": "markdown",
   "id": "9935db5f",
   "metadata": {
    "papermill": {
     "duration": 0.023177,
     "end_time": "2024-02-07T12:18:57.363657",
     "exception": false,
     "start_time": "2024-02-07T12:18:57.340480",
     "status": "completed"
    },
    "tags": []
   },
   "source": [
    "<a id='5'></a>\n",
    "# <span style=\"color: #3cb371; border-bottom: 6px solid #03adfc; background-color: #fadb8c;\">🍔 5 - Display descriptive statistics of train data</span>"
   ]
  },
  {
   "cell_type": "code",
   "execution_count": 10,
   "id": "1c4142e0",
   "metadata": {
    "execution": {
     "iopub.execute_input": "2024-02-07T12:18:57.410079Z",
     "iopub.status.busy": "2024-02-07T12:18:57.409616Z",
     "iopub.status.idle": "2024-02-07T12:18:57.460967Z",
     "shell.execute_reply": "2024-02-07T12:18:57.459800Z"
    },
    "papermill": {
     "duration": 0.076921,
     "end_time": "2024-02-07T12:18:57.463339",
     "exception": false,
     "start_time": "2024-02-07T12:18:57.386418",
     "status": "completed"
    },
    "tags": []
   },
   "outputs": [
    {
     "data": {
      "text/html": [
       "<div>\n",
       "<style scoped>\n",
       "    .dataframe tbody tr th:only-of-type {\n",
       "        vertical-align: middle;\n",
       "    }\n",
       "\n",
       "    .dataframe tbody tr th {\n",
       "        vertical-align: top;\n",
       "    }\n",
       "\n",
       "    .dataframe thead th {\n",
       "        text-align: right;\n",
       "    }\n",
       "</style>\n",
       "<table border=\"1\" class=\"dataframe\">\n",
       "  <thead>\n",
       "    <tr style=\"text-align: right;\">\n",
       "      <th></th>\n",
       "      <th>count</th>\n",
       "      <th>mean</th>\n",
       "      <th>std</th>\n",
       "      <th>min</th>\n",
       "      <th>25%</th>\n",
       "      <th>50%</th>\n",
       "      <th>75%</th>\n",
       "      <th>max</th>\n",
       "    </tr>\n",
       "  </thead>\n",
       "  <tbody>\n",
       "    <tr>\n",
       "      <th>Age</th>\n",
       "      <td>22869.0</td>\n",
       "      <td>23.885263</td>\n",
       "      <td>5.753419</td>\n",
       "      <td>14.00</td>\n",
       "      <td>20.000000</td>\n",
       "      <td>22.815416</td>\n",
       "      <td>26.000000</td>\n",
       "      <td>61.00</td>\n",
       "    </tr>\n",
       "    <tr>\n",
       "      <th>Height</th>\n",
       "      <td>22869.0</td>\n",
       "      <td>1.700377</td>\n",
       "      <td>0.087881</td>\n",
       "      <td>1.45</td>\n",
       "      <td>1.631662</td>\n",
       "      <td>1.700000</td>\n",
       "      <td>1.763029</td>\n",
       "      <td>1.98</td>\n",
       "    </tr>\n",
       "    <tr>\n",
       "      <th>Weight</th>\n",
       "      <td>22869.0</td>\n",
       "      <td>87.767610</td>\n",
       "      <td>26.364243</td>\n",
       "      <td>39.00</td>\n",
       "      <td>66.000000</td>\n",
       "      <td>84.000000</td>\n",
       "      <td>111.531208</td>\n",
       "      <td>173.00</td>\n",
       "    </tr>\n",
       "    <tr>\n",
       "      <th>FCVC</th>\n",
       "      <td>22869.0</td>\n",
       "      <td>2.443428</td>\n",
       "      <td>0.533329</td>\n",
       "      <td>1.00</td>\n",
       "      <td>2.000000</td>\n",
       "      <td>2.392665</td>\n",
       "      <td>3.000000</td>\n",
       "      <td>3.00</td>\n",
       "    </tr>\n",
       "    <tr>\n",
       "      <th>NCP</th>\n",
       "      <td>22869.0</td>\n",
       "      <td>2.754344</td>\n",
       "      <td>0.712711</td>\n",
       "      <td>1.00</td>\n",
       "      <td>3.000000</td>\n",
       "      <td>3.000000</td>\n",
       "      <td>3.000000</td>\n",
       "      <td>4.00</td>\n",
       "    </tr>\n",
       "    <tr>\n",
       "      <th>CH2O</th>\n",
       "      <td>22869.0</td>\n",
       "      <td>2.027442</td>\n",
       "      <td>0.608901</td>\n",
       "      <td>1.00</td>\n",
       "      <td>1.755907</td>\n",
       "      <td>2.000000</td>\n",
       "      <td>2.535127</td>\n",
       "      <td>3.00</td>\n",
       "    </tr>\n",
       "    <tr>\n",
       "      <th>FAF</th>\n",
       "      <td>22869.0</td>\n",
       "      <td>0.984382</td>\n",
       "      <td>0.839466</td>\n",
       "      <td>0.00</td>\n",
       "      <td>0.015860</td>\n",
       "      <td>1.000000</td>\n",
       "      <td>1.596576</td>\n",
       "      <td>3.00</td>\n",
       "    </tr>\n",
       "    <tr>\n",
       "      <th>TUE</th>\n",
       "      <td>22869.0</td>\n",
       "      <td>0.620551</td>\n",
       "      <td>0.602850</td>\n",
       "      <td>0.00</td>\n",
       "      <td>0.000000</td>\n",
       "      <td>0.579541</td>\n",
       "      <td>1.000000</td>\n",
       "      <td>2.00</td>\n",
       "    </tr>\n",
       "  </tbody>\n",
       "</table>\n",
       "</div>"
      ],
      "text/plain": [
       "          count       mean        std    min        25%        50%  \\\n",
       "Age     22869.0  23.885263   5.753419  14.00  20.000000  22.815416   \n",
       "Height  22869.0   1.700377   0.087881   1.45   1.631662   1.700000   \n",
       "Weight  22869.0  87.767610  26.364243  39.00  66.000000  84.000000   \n",
       "FCVC    22869.0   2.443428   0.533329   1.00   2.000000   2.392665   \n",
       "NCP     22869.0   2.754344   0.712711   1.00   3.000000   3.000000   \n",
       "CH2O    22869.0   2.027442   0.608901   1.00   1.755907   2.000000   \n",
       "FAF     22869.0   0.984382   0.839466   0.00   0.015860   1.000000   \n",
       "TUE     22869.0   0.620551   0.602850   0.00   0.000000   0.579541   \n",
       "\n",
       "               75%     max  \n",
       "Age      26.000000   61.00  \n",
       "Height    1.763029    1.98  \n",
       "Weight  111.531208  173.00  \n",
       "FCVC      3.000000    3.00  \n",
       "NCP       3.000000    4.00  \n",
       "CH2O      2.535127    3.00  \n",
       "FAF       1.596576    3.00  \n",
       "TUE       1.000000    2.00  "
      ]
     },
     "execution_count": 10,
     "metadata": {},
     "output_type": "execute_result"
    }
   ],
   "source": [
    "train.describe().T"
   ]
  },
  {
   "cell_type": "code",
   "execution_count": 11,
   "id": "6d7c0e2e",
   "metadata": {
    "execution": {
     "iopub.execute_input": "2024-02-07T12:18:57.510396Z",
     "iopub.status.busy": "2024-02-07T12:18:57.509950Z",
     "iopub.status.idle": "2024-02-07T12:18:57.597985Z",
     "shell.execute_reply": "2024-02-07T12:18:57.596818Z"
    },
    "papermill": {
     "duration": 0.114633,
     "end_time": "2024-02-07T12:18:57.600731",
     "exception": false,
     "start_time": "2024-02-07T12:18:57.486098",
     "status": "completed"
    },
    "tags": []
   },
   "outputs": [
    {
     "data": {
      "text/html": [
       "<div>\n",
       "<style scoped>\n",
       "    .dataframe tbody tr th:only-of-type {\n",
       "        vertical-align: middle;\n",
       "    }\n",
       "\n",
       "    .dataframe tbody tr th {\n",
       "        vertical-align: top;\n",
       "    }\n",
       "\n",
       "    .dataframe thead th {\n",
       "        text-align: right;\n",
       "    }\n",
       "</style>\n",
       "<table border=\"1\" class=\"dataframe\">\n",
       "  <thead>\n",
       "    <tr style=\"text-align: right;\">\n",
       "      <th></th>\n",
       "      <th>count</th>\n",
       "      <th>unique</th>\n",
       "      <th>top</th>\n",
       "      <th>freq</th>\n",
       "    </tr>\n",
       "  </thead>\n",
       "  <tbody>\n",
       "    <tr>\n",
       "      <th>Gender</th>\n",
       "      <td>22869</td>\n",
       "      <td>2</td>\n",
       "      <td>Female</td>\n",
       "      <td>11465</td>\n",
       "    </tr>\n",
       "    <tr>\n",
       "      <th>family_history_with_overweight</th>\n",
       "      <td>22869</td>\n",
       "      <td>2</td>\n",
       "      <td>yes</td>\n",
       "      <td>18740</td>\n",
       "    </tr>\n",
       "    <tr>\n",
       "      <th>FAVC</th>\n",
       "      <td>22869</td>\n",
       "      <td>2</td>\n",
       "      <td>yes</td>\n",
       "      <td>20848</td>\n",
       "    </tr>\n",
       "    <tr>\n",
       "      <th>CAEC</th>\n",
       "      <td>22869</td>\n",
       "      <td>4</td>\n",
       "      <td>Sometimes</td>\n",
       "      <td>19294</td>\n",
       "    </tr>\n",
       "    <tr>\n",
       "      <th>SMOKE</th>\n",
       "      <td>22869</td>\n",
       "      <td>2</td>\n",
       "      <td>no</td>\n",
       "      <td>22580</td>\n",
       "    </tr>\n",
       "    <tr>\n",
       "      <th>SCC</th>\n",
       "      <td>22869</td>\n",
       "      <td>2</td>\n",
       "      <td>no</td>\n",
       "      <td>22086</td>\n",
       "    </tr>\n",
       "    <tr>\n",
       "      <th>CALC</th>\n",
       "      <td>22869</td>\n",
       "      <td>4</td>\n",
       "      <td>Sometimes</td>\n",
       "      <td>16467</td>\n",
       "    </tr>\n",
       "    <tr>\n",
       "      <th>MTRANS</th>\n",
       "      <td>22869</td>\n",
       "      <td>5</td>\n",
       "      <td>Public_Transportation</td>\n",
       "      <td>18267</td>\n",
       "    </tr>\n",
       "    <tr>\n",
       "      <th>NObeyesdad</th>\n",
       "      <td>22869</td>\n",
       "      <td>7</td>\n",
       "      <td>Obesity_Type_III</td>\n",
       "      <td>4370</td>\n",
       "    </tr>\n",
       "  </tbody>\n",
       "</table>\n",
       "</div>"
      ],
      "text/plain": [
       "                                count unique                    top   freq\n",
       "Gender                          22869      2                 Female  11465\n",
       "family_history_with_overweight  22869      2                    yes  18740\n",
       "FAVC                            22869      2                    yes  20848\n",
       "CAEC                            22869      4              Sometimes  19294\n",
       "SMOKE                           22869      2                     no  22580\n",
       "SCC                             22869      2                     no  22086\n",
       "CALC                            22869      4              Sometimes  16467\n",
       "MTRANS                          22869      5  Public_Transportation  18267\n",
       "NObeyesdad                      22869      7       Obesity_Type_III   4370"
      ]
     },
     "execution_count": 11,
     "metadata": {},
     "output_type": "execute_result"
    }
   ],
   "source": [
    "train.describe(include='object').T"
   ]
  },
  {
   "cell_type": "markdown",
   "id": "7e727a46",
   "metadata": {
    "papermill": {
     "duration": 0.021883,
     "end_time": "2024-02-07T12:18:57.645251",
     "exception": false,
     "start_time": "2024-02-07T12:18:57.623368",
     "status": "completed"
    },
    "tags": []
   },
   "source": [
    "<a id='6'></a>\n",
    "# <span style=\"color: #3cb371; border-bottom: 6px solid #03adfc; background-color: #fadb8c;\">🥞 6 - Check the number of gaps for each feature</span>"
   ]
  },
  {
   "cell_type": "code",
   "execution_count": 12,
   "id": "d1a7d72b",
   "metadata": {
    "execution": {
     "iopub.execute_input": "2024-02-07T12:18:57.691322Z",
     "iopub.status.busy": "2024-02-07T12:18:57.690891Z",
     "iopub.status.idle": "2024-02-07T12:18:57.736771Z",
     "shell.execute_reply": "2024-02-07T12:18:57.735512Z"
    },
    "papermill": {
     "duration": 0.07219,
     "end_time": "2024-02-07T12:18:57.739636",
     "exception": false,
     "start_time": "2024-02-07T12:18:57.667446",
     "status": "completed"
    },
    "tags": []
   },
   "outputs": [
    {
     "name": "stdout",
     "output_type": "stream",
     "text": [
      "TRAIN data\n",
      "\n",
      "Gender                            0\n",
      "Age                               0\n",
      "Height                            0\n",
      "Weight                            0\n",
      "family_history_with_overweight    0\n",
      "FAVC                              0\n",
      "FCVC                              0\n",
      "NCP                               0\n",
      "CAEC                              0\n",
      "SMOKE                             0\n",
      "CH2O                              0\n",
      "SCC                               0\n",
      "FAF                               0\n",
      "TUE                               0\n",
      "CALC                              0\n",
      "MTRANS                            0\n",
      "NObeyesdad                        0\n",
      "dtype: int64\n",
      "\n",
      "\n",
      "\n",
      "TEST data\n",
      "\n",
      "Gender                            0\n",
      "Age                               0\n",
      "Height                            0\n",
      "Weight                            0\n",
      "family_history_with_overweight    0\n",
      "FAVC                              0\n",
      "FCVC                              0\n",
      "NCP                               0\n",
      "CAEC                              0\n",
      "SMOKE                             0\n",
      "CH2O                              0\n",
      "SCC                               0\n",
      "FAF                               0\n",
      "TUE                               0\n",
      "CALC                              0\n",
      "MTRANS                            0\n",
      "dtype: int64\n"
     ]
    }
   ],
   "source": [
    "print('TRAIN data\\n')\n",
    "print(f'{train.isna().sum()}\\n\\n\\n')\n",
    "\n",
    "print('TEST data\\n')\n",
    "print(test.isna().sum())"
   ]
  },
  {
   "cell_type": "markdown",
   "id": "17e83f4f",
   "metadata": {
    "papermill": {
     "duration": 0.022357,
     "end_time": "2024-02-07T12:18:57.784950",
     "exception": false,
     "start_time": "2024-02-07T12:18:57.762593",
     "status": "completed"
    },
    "tags": []
   },
   "source": [
    "##### There is no any gaps in values"
   ]
  },
  {
   "cell_type": "markdown",
   "id": "af858d5d",
   "metadata": {
    "papermill": {
     "duration": 0.022088,
     "end_time": "2024-02-07T12:18:57.829636",
     "exception": false,
     "start_time": "2024-02-07T12:18:57.807548",
     "status": "completed"
    },
    "tags": []
   },
   "source": [
    "<a id='7'></a>\n",
    "# <span style=\"color: #3cb371; border-bottom: 6px solid #03adfc; background-color: #fadb8c;\">🍕 7 - Data types of training set</span>"
   ]
  },
  {
   "cell_type": "code",
   "execution_count": 13,
   "id": "8339a26a",
   "metadata": {
    "execution": {
     "iopub.execute_input": "2024-02-07T12:18:57.878033Z",
     "iopub.status.busy": "2024-02-07T12:18:57.877070Z",
     "iopub.status.idle": "2024-02-07T12:18:57.922476Z",
     "shell.execute_reply": "2024-02-07T12:18:57.921177Z"
    },
    "papermill": {
     "duration": 0.072693,
     "end_time": "2024-02-07T12:18:57.925300",
     "exception": false,
     "start_time": "2024-02-07T12:18:57.852607",
     "status": "completed"
    },
    "tags": []
   },
   "outputs": [
    {
     "name": "stdout",
     "output_type": "stream",
     "text": [
      "<class 'pandas.core.frame.DataFrame'>\n",
      "Index: 22869 entries, 0 to 2110\n",
      "Data columns (total 17 columns):\n",
      " #   Column                          Non-Null Count  Dtype  \n",
      "---  ------                          --------------  -----  \n",
      " 0   Gender                          22869 non-null  object \n",
      " 1   Age                             22869 non-null  float64\n",
      " 2   Height                          22869 non-null  float64\n",
      " 3   Weight                          22869 non-null  float64\n",
      " 4   family_history_with_overweight  22869 non-null  object \n",
      " 5   FAVC                            22869 non-null  object \n",
      " 6   FCVC                            22869 non-null  float64\n",
      " 7   NCP                             22869 non-null  float64\n",
      " 8   CAEC                            22869 non-null  object \n",
      " 9   SMOKE                           22869 non-null  object \n",
      " 10  CH2O                            22869 non-null  float64\n",
      " 11  SCC                             22869 non-null  object \n",
      " 12  FAF                             22869 non-null  float64\n",
      " 13  TUE                             22869 non-null  float64\n",
      " 14  CALC                            22869 non-null  object \n",
      " 15  MTRANS                          22869 non-null  object \n",
      " 16  NObeyesdad                      22869 non-null  object \n",
      "dtypes: float64(8), object(9)\n",
      "memory usage: 3.1+ MB\n"
     ]
    }
   ],
   "source": [
    "train.info()"
   ]
  },
  {
   "cell_type": "markdown",
   "id": "2f9f7148",
   "metadata": {
    "papermill": {
     "duration": 0.022296,
     "end_time": "2024-02-07T12:18:57.970173",
     "exception": false,
     "start_time": "2024-02-07T12:18:57.947877",
     "status": "completed"
    },
    "tags": []
   },
   "source": [
    "##### Therer are 8 features with float values and 9 features which are objects (strings)"
   ]
  },
  {
   "cell_type": "markdown",
   "id": "052aac7d",
   "metadata": {
    "papermill": {
     "duration": 0.022828,
     "end_time": "2024-02-07T12:18:58.015941",
     "exception": false,
     "start_time": "2024-02-07T12:18:57.993113",
     "status": "completed"
    },
    "tags": []
   },
   "source": [
    "### Let's draw pie plot for each categorical features"
   ]
  },
  {
   "cell_type": "code",
   "execution_count": 14,
   "id": "3b7c0a94",
   "metadata": {
    "execution": {
     "iopub.execute_input": "2024-02-07T12:18:58.063008Z",
     "iopub.status.busy": "2024-02-07T12:18:58.062553Z",
     "iopub.status.idle": "2024-02-07T12:18:58.952419Z",
     "shell.execute_reply": "2024-02-07T12:18:58.951079Z"
    },
    "papermill": {
     "duration": 0.916756,
     "end_time": "2024-02-07T12:18:58.955124",
     "exception": false,
     "start_time": "2024-02-07T12:18:58.038368",
     "status": "completed"
    },
    "tags": []
   },
   "outputs": [
    {
     "name": "stdout",
     "output_type": "stream",
     "text": [
      "Gender\n",
      "Female    11465\n",
      "Male      11404\n",
      "Name: count, dtype: int64 \n",
      "\n",
      "\n"
     ]
    },
    {
     "data": {
      "image/png": "[encoded data removed]",
      "text/plain": [
       "<Figure size 1200x600 with 1 Axes>"
      ]
     },
     "metadata": {},
     "output_type": "display_data"
    },
    {
     "name": "stdout",
     "output_type": "stream",
     "text": [
      "family_history_with_overweight\n",
      "yes    18740\n",
      "no      4129\n",
      "Name: count, dtype: int64 \n",
      "\n",
      "\n"
     ]
    },
    {
     "data": {
      "image/png": "[encoded data removed]",
      "text/plain": [
       "<Figure size 1200x600 with 1 Axes>"
      ]
     },
     "metadata": {},
     "output_type": "display_data"
    },
    {
     "name": "stdout",
     "output_type": "stream",
     "text": [
      "FAVC\n",
      "yes    20848\n",
      "no      2021\n",
      "Name: count, dtype: int64 \n",
      "\n",
      "\n"
     ]
    },
    {
     "data": {
      "image/png": "[encoded data removed]",
      "text/plain": [
       "<Figure size 1200x600 with 1 Axes>"
      ]
     },
     "metadata": {},
     "output_type": "display_data"
    },
    {
     "name": "stdout",
     "output_type": "stream",
     "text": [
      "SMOKE\n",
      "no     22580\n",
      "yes      289\n",
      "Name: count, dtype: int64 \n",
      "\n",
      "\n"
     ]
    },
    {
     "data": {
      "image/png": "[encoded data removed]",
      "text/plain": [
       "<Figure size 1200x600 with 1 Axes>"
      ]
     },
     "metadata": {},
     "output_type": "display_data"
    },
    {
     "name": "stdout",
     "output_type": "stream",
     "text": [
      "SCC\n",
      "no     22086\n",
      "yes      783\n",
      "Name: count, dtype: int64 \n",
      "\n",
      "\n"
     ]
    },
    {
     "data": {
      "image/png": "[encoded data removed]",
      "text/plain": [
       "<Figure size 1200x600 with 1 Axes>"
      ]
     },
     "metadata": {},
     "output_type": "display_data"
    },
    {
     "name": "stdout",
     "output_type": "stream",
     "text": [
      "CALC\n",
      "Sometimes     16467\n",
      "no             5802\n",
      "Frequently      599\n",
      "Always            1\n",
      "Name: count, dtype: int64 \n",
      "\n",
      "\n"
     ]
    },
    {
     "data": {
      "image/png": "[encoded data removed]",
      "text/plain": [
       "<Figure size 1200x600 with 1 Axes>"
      ]
     },
     "metadata": {},
     "output_type": "display_data"
    },
    {
     "name": "stdout",
     "output_type": "stream",
     "text": [
      "MTRANS\n",
      "Public_Transportation    18267\n",
      "Automobile                3991\n",
      "Walking                    523\n",
      "Motorbike                   49\n",
      "Bike                        39\n",
      "Name: count, dtype: int64 \n",
      "\n",
      "\n"
     ]
    },
    {
     "data": {
      "image/png": "[encoded data removed]",
      "text/plain": [
       "<Figure size 1200x600 with 1 Axes>"
      ]
     },
     "metadata": {},
     "output_type": "display_data"
    }
   ],
   "source": [
    "for feature in ['Gender', 'family_history_with_overweight', 'FAVC', 'SMOKE', 'SCC', 'CALC', 'MTRANS']:\n",
    "    plt.figure(figsize=(12, 6))\n",
    "    aggregation = train[feature].value_counts()\n",
    "    print(aggregation, '\\n\\n')\n",
    "    plt.pie(x=aggregation, labels=aggregation.index, autopct='%1.2f%%', startangle=90)\n",
    "    plt.show()"
   ]
  },
  {
   "cell_type": "markdown",
   "id": "1349f2f3",
   "metadata": {
    "papermill": {
     "duration": 0.026697,
     "end_time": "2024-02-07T12:18:59.009175",
     "exception": false,
     "start_time": "2024-02-07T12:18:58.982478",
     "status": "completed"
    },
    "tags": []
   },
   "source": [
    "<a id=\"7.1\"></a>\n",
    "### <span style=\"color: #3cb371; border-bottom: 6px solid #03adfc; background-color: #fadb8c;\">7.1 Figure out how much duplicates in data"
   ]
  },
  {
   "cell_type": "code",
   "execution_count": 15,
   "id": "2ef9bb1a",
   "metadata": {
    "execution": {
     "iopub.execute_input": "2024-02-07T12:18:59.065485Z",
     "iopub.status.busy": "2024-02-07T12:18:59.064259Z",
     "iopub.status.idle": "2024-02-07T12:18:59.116060Z",
     "shell.execute_reply": "2024-02-07T12:18:59.114737Z"
    },
    "papermill": {
     "duration": 0.082669,
     "end_time": "2024-02-07T12:18:59.118768",
     "exception": false,
     "start_time": "2024-02-07T12:18:59.036099",
     "status": "completed"
    },
    "tags": []
   },
   "outputs": [
    {
     "name": "stdout",
     "output_type": "stream",
     "text": [
      "24\n",
      "0\n"
     ]
    }
   ],
   "source": [
    "train_duplicates_number = train[train.duplicated()]\n",
    "test_duplicates_number = test[test.duplicated()]\n",
    "                             \n",
    "print(len(train_duplicates_number))\n",
    "print(len(test_duplicates_number))"
   ]
  },
  {
   "cell_type": "markdown",
   "id": "b59954b2",
   "metadata": {
    "papermill": {
     "duration": 0.027188,
     "end_time": "2024-02-07T12:18:59.172827",
     "exception": false,
     "start_time": "2024-02-07T12:18:59.145639",
     "status": "completed"
    },
    "tags": []
   },
   "source": [
    "##### There are 24 duplicates in train data. Let's remove them!"
   ]
  },
  {
   "cell_type": "markdown",
   "id": "837ade02",
   "metadata": {
    "papermill": {
     "duration": 0.027466,
     "end_time": "2024-02-07T12:18:59.227431",
     "exception": false,
     "start_time": "2024-02-07T12:18:59.199965",
     "status": "completed"
    },
    "tags": []
   },
   "source": [
    "<a id=\"7.2\"></a>\n",
    "### <span style=\"color: #3cb371; border-bottom: 6px solid #03adfc; background-color: #fadb8c;\">7.2 Remove duplicates from data"
   ]
  },
  {
   "cell_type": "code",
   "execution_count": 16,
   "id": "e883abee",
   "metadata": {
    "execution": {
     "iopub.execute_input": "2024-02-07T12:18:59.283308Z",
     "iopub.status.busy": "2024-02-07T12:18:59.282882Z",
     "iopub.status.idle": "2024-02-07T12:18:59.346972Z",
     "shell.execute_reply": "2024-02-07T12:18:59.345782Z"
    },
    "papermill": {
     "duration": 0.095174,
     "end_time": "2024-02-07T12:18:59.349471",
     "exception": false,
     "start_time": "2024-02-07T12:18:59.254297",
     "status": "completed"
    },
    "tags": []
   },
   "outputs": [
    {
     "name": "stdout",
     "output_type": "stream",
     "text": [
      "0\n"
     ]
    }
   ],
   "source": [
    "train = train.drop_duplicates()\n",
    "\n",
    "# Check whether all duplicates were removed\n",
    "train_duplicates = train[train.duplicated()]\n",
    "print(len(train_duplicates))"
   ]
  },
  {
   "cell_type": "markdown",
   "id": "4756d7b8",
   "metadata": {
    "papermill": {
     "duration": 0.027686,
     "end_time": "2024-02-07T12:18:59.405515",
     "exception": false,
     "start_time": "2024-02-07T12:18:59.377829",
     "status": "completed"
    },
    "tags": []
   },
   "source": [
    "##### As we see now there is no more duplicates!"
   ]
  },
  {
   "cell_type": "markdown",
   "id": "38988fc0",
   "metadata": {
    "papermill": {
     "duration": 0.027043,
     "end_time": "2024-02-07T12:18:59.459411",
     "exception": false,
     "start_time": "2024-02-07T12:18:59.432368",
     "status": "completed"
    },
    "tags": []
   },
   "source": [
    "<a id=\"7.3\"></a>\n",
    "### <span style=\"color: #3cb371; border-bottom: 6px solid #03adfc; background-color: #fadb8c;\">7.3 One-hot encoding"
   ]
  },
  {
   "cell_type": "code",
   "execution_count": 17,
   "id": "400838b8",
   "metadata": {
    "execution": {
     "iopub.execute_input": "2024-02-07T12:18:59.516212Z",
     "iopub.status.busy": "2024-02-07T12:18:59.515761Z",
     "iopub.status.idle": "2024-02-07T12:18:59.605787Z",
     "shell.execute_reply": "2024-02-07T12:18:59.604623Z"
    },
    "papermill": {
     "duration": 0.12181,
     "end_time": "2024-02-07T12:18:59.608437",
     "exception": false,
     "start_time": "2024-02-07T12:18:59.486627",
     "status": "completed"
    },
    "tags": []
   },
   "outputs": [
    {
     "data": {
      "text/html": [
       "<div>\n",
       "<style scoped>\n",
       "    .dataframe tbody tr th:only-of-type {\n",
       "        vertical-align: middle;\n",
       "    }\n",
       "\n",
       "    .dataframe tbody tr th {\n",
       "        vertical-align: top;\n",
       "    }\n",
       "\n",
       "    .dataframe thead th {\n",
       "        text-align: right;\n",
       "    }\n",
       "</style>\n",
       "<table border=\"1\" class=\"dataframe\">\n",
       "  <thead>\n",
       "    <tr style=\"text-align: right;\">\n",
       "      <th></th>\n",
       "      <th>Age</th>\n",
       "      <th>Height</th>\n",
       "      <th>Weight</th>\n",
       "      <th>FCVC</th>\n",
       "      <th>NCP</th>\n",
       "      <th>CH2O</th>\n",
       "      <th>FAF</th>\n",
       "      <th>TUE</th>\n",
       "      <th>Gender_Male</th>\n",
       "      <th>family_history_with_overweight_yes</th>\n",
       "      <th>FAVC_yes</th>\n",
       "      <th>CAEC_Frequently</th>\n",
       "      <th>CAEC_Sometimes</th>\n",
       "      <th>CAEC_no</th>\n",
       "      <th>SMOKE_yes</th>\n",
       "      <th>SCC_yes</th>\n",
       "      <th>CALC_Frequently</th>\n",
       "      <th>CALC_Sometimes</th>\n",
       "      <th>CALC_no</th>\n",
       "      <th>MTRANS_Bike</th>\n",
       "      <th>MTRANS_Motorbike</th>\n",
       "      <th>MTRANS_Public_Transportation</th>\n",
       "      <th>MTRANS_Walking</th>\n",
       "    </tr>\n",
       "  </thead>\n",
       "  <tbody>\n",
       "    <tr>\n",
       "      <th>0</th>\n",
       "      <td>24.443011</td>\n",
       "      <td>1.699998</td>\n",
       "      <td>81.669950</td>\n",
       "      <td>2.000000</td>\n",
       "      <td>2.983297</td>\n",
       "      <td>2.763573</td>\n",
       "      <td>0.000000</td>\n",
       "      <td>0.976473</td>\n",
       "      <td>True</td>\n",
       "      <td>True</td>\n",
       "      <td>True</td>\n",
       "      <td>False</td>\n",
       "      <td>True</td>\n",
       "      <td>False</td>\n",
       "      <td>False</td>\n",
       "      <td>False</td>\n",
       "      <td>False</td>\n",
       "      <td>True</td>\n",
       "      <td>False</td>\n",
       "      <td>False</td>\n",
       "      <td>False</td>\n",
       "      <td>True</td>\n",
       "      <td>False</td>\n",
       "    </tr>\n",
       "    <tr>\n",
       "      <th>1</th>\n",
       "      <td>18.000000</td>\n",
       "      <td>1.560000</td>\n",
       "      <td>57.000000</td>\n",
       "      <td>2.000000</td>\n",
       "      <td>3.000000</td>\n",
       "      <td>2.000000</td>\n",
       "      <td>1.000000</td>\n",
       "      <td>1.000000</td>\n",
       "      <td>False</td>\n",
       "      <td>True</td>\n",
       "      <td>True</td>\n",
       "      <td>True</td>\n",
       "      <td>False</td>\n",
       "      <td>False</td>\n",
       "      <td>False</td>\n",
       "      <td>False</td>\n",
       "      <td>False</td>\n",
       "      <td>False</td>\n",
       "      <td>True</td>\n",
       "      <td>False</td>\n",
       "      <td>False</td>\n",
       "      <td>False</td>\n",
       "      <td>False</td>\n",
       "    </tr>\n",
       "    <tr>\n",
       "      <th>2</th>\n",
       "      <td>18.000000</td>\n",
       "      <td>1.711460</td>\n",
       "      <td>50.165754</td>\n",
       "      <td>1.880534</td>\n",
       "      <td>1.411685</td>\n",
       "      <td>1.910378</td>\n",
       "      <td>0.866045</td>\n",
       "      <td>1.673584</td>\n",
       "      <td>False</td>\n",
       "      <td>True</td>\n",
       "      <td>True</td>\n",
       "      <td>False</td>\n",
       "      <td>True</td>\n",
       "      <td>False</td>\n",
       "      <td>False</td>\n",
       "      <td>False</td>\n",
       "      <td>False</td>\n",
       "      <td>False</td>\n",
       "      <td>True</td>\n",
       "      <td>False</td>\n",
       "      <td>False</td>\n",
       "      <td>True</td>\n",
       "      <td>False</td>\n",
       "    </tr>\n",
       "    <tr>\n",
       "      <th>3</th>\n",
       "      <td>20.952737</td>\n",
       "      <td>1.710730</td>\n",
       "      <td>131.274851</td>\n",
       "      <td>3.000000</td>\n",
       "      <td>3.000000</td>\n",
       "      <td>1.674061</td>\n",
       "      <td>1.467863</td>\n",
       "      <td>0.780199</td>\n",
       "      <td>False</td>\n",
       "      <td>True</td>\n",
       "      <td>True</td>\n",
       "      <td>False</td>\n",
       "      <td>True</td>\n",
       "      <td>False</td>\n",
       "      <td>False</td>\n",
       "      <td>False</td>\n",
       "      <td>False</td>\n",
       "      <td>True</td>\n",
       "      <td>False</td>\n",
       "      <td>False</td>\n",
       "      <td>False</td>\n",
       "      <td>True</td>\n",
       "      <td>False</td>\n",
       "    </tr>\n",
       "    <tr>\n",
       "      <th>4</th>\n",
       "      <td>31.641081</td>\n",
       "      <td>1.914186</td>\n",
       "      <td>93.798055</td>\n",
       "      <td>2.679664</td>\n",
       "      <td>1.971472</td>\n",
       "      <td>1.979848</td>\n",
       "      <td>1.967973</td>\n",
       "      <td>0.931721</td>\n",
       "      <td>True</td>\n",
       "      <td>True</td>\n",
       "      <td>True</td>\n",
       "      <td>False</td>\n",
       "      <td>True</td>\n",
       "      <td>False</td>\n",
       "      <td>False</td>\n",
       "      <td>False</td>\n",
       "      <td>False</td>\n",
       "      <td>True</td>\n",
       "      <td>False</td>\n",
       "      <td>False</td>\n",
       "      <td>False</td>\n",
       "      <td>True</td>\n",
       "      <td>False</td>\n",
       "    </tr>\n",
       "  </tbody>\n",
       "</table>\n",
       "</div>"
      ],
      "text/plain": [
       "         Age    Height      Weight      FCVC       NCP      CH2O       FAF  \\\n",
       "0  24.443011  1.699998   81.669950  2.000000  2.983297  2.763573  0.000000   \n",
       "1  18.000000  1.560000   57.000000  2.000000  3.000000  2.000000  1.000000   \n",
       "2  18.000000  1.711460   50.165754  1.880534  1.411685  1.910378  0.866045   \n",
       "3  20.952737  1.710730  131.274851  3.000000  3.000000  1.674061  1.467863   \n",
       "4  31.641081  1.914186   93.798055  2.679664  1.971472  1.979848  1.967973   \n",
       "\n",
       "        TUE  Gender_Male  family_history_with_overweight_yes  FAVC_yes  \\\n",
       "0  0.976473         True                                True      True   \n",
       "1  1.000000        False                                True      True   \n",
       "2  1.673584        False                                True      True   \n",
       "3  0.780199        False                                True      True   \n",
       "4  0.931721         True                                True      True   \n",
       "\n",
       "   CAEC_Frequently  CAEC_Sometimes  CAEC_no  SMOKE_yes  SCC_yes  \\\n",
       "0            False            True    False      False    False   \n",
       "1             True           False    False      False    False   \n",
       "2            False            True    False      False    False   \n",
       "3            False            True    False      False    False   \n",
       "4            False            True    False      False    False   \n",
       "\n",
       "   CALC_Frequently  CALC_Sometimes  CALC_no  MTRANS_Bike  MTRANS_Motorbike  \\\n",
       "0            False            True    False        False             False   \n",
       "1            False           False     True        False             False   \n",
       "2            False           False     True        False             False   \n",
       "3            False            True    False        False             False   \n",
       "4            False            True    False        False             False   \n",
       "\n",
       "   MTRANS_Public_Transportation  MTRANS_Walking  \n",
       "0                          True           False  \n",
       "1                         False           False  \n",
       "2                          True           False  \n",
       "3                          True           False  \n",
       "4                          True           False  "
      ]
     },
     "execution_count": 17,
     "metadata": {},
     "output_type": "execute_result"
    }
   ],
   "source": [
    "# Split the train data into X and y\n",
    "X = train.drop(['NObeyesdad'], axis=1)\n",
    "y = train.NObeyesdad\n",
    "\n",
    "X = pd.get_dummies(X, drop_first=True)\n",
    "test = pd.get_dummies(test, drop_first=True)\n",
    "\n",
    "X.head()"
   ]
  },
  {
   "cell_type": "markdown",
   "id": "6bbab06b",
   "metadata": {
    "papermill": {
     "duration": 0.028027,
     "end_time": "2024-02-07T12:18:59.664300",
     "exception": false,
     "start_time": "2024-02-07T12:18:59.636273",
     "status": "completed"
    },
    "tags": []
   },
   "source": [
    "<a id='8'></a>\n",
    "# <span style=\"color: #3cb371; border-bottom: 6px solid #03adfc; background-color: #fadb8c;\">🍟 8 - Display histograms of distribution</span>"
   ]
  },
  {
   "cell_type": "code",
   "execution_count": 18,
   "id": "1c056c66",
   "metadata": {
    "execution": {
     "iopub.execute_input": "2024-02-07T12:18:59.722346Z",
     "iopub.status.busy": "2024-02-07T12:18:59.721925Z",
     "iopub.status.idle": "2024-02-07T12:19:02.877739Z",
     "shell.execute_reply": "2024-02-07T12:19:02.876498Z"
    },
    "papermill": {
     "duration": 3.189173,
     "end_time": "2024-02-07T12:19:02.881453",
     "exception": false,
     "start_time": "2024-02-07T12:18:59.692280",
     "status": "completed"
    },
    "tags": []
   },
   "outputs": [
    {
     "data": {
      "image/png": "[encoded data removed]",
      "text/plain": [
       "<Figure size 2000x1600 with 9 Axes>"
      ]
     },
     "metadata": {},
     "output_type": "display_data"
    }
   ],
   "source": [
    "sns.set(rc={'figure.figsize': (20, 16)})\n",
    "train.hist(color='#3cb371');"
   ]
  },
  {
   "cell_type": "markdown",
   "id": "d4e601f5",
   "metadata": {
    "papermill": {
     "duration": 0.029035,
     "end_time": "2024-02-07T12:19:02.939942",
     "exception": false,
     "start_time": "2024-02-07T12:19:02.910907",
     "status": "completed"
    },
    "tags": []
   },
   "source": [
    "<a id='9'></a>\n",
    "# <span style=\"color: #3cb371; border-bottom: 6px solid #03adfc; background-color: #fadb8c;\">🌭 9 - Let's count target of train data</span>"
   ]
  },
  {
   "cell_type": "code",
   "execution_count": 19,
   "id": "1fc4a3cc",
   "metadata": {
    "execution": {
     "iopub.execute_input": "2024-02-07T12:19:03.001088Z",
     "iopub.status.busy": "2024-02-07T12:19:03.000384Z",
     "iopub.status.idle": "2024-02-07T12:19:03.016669Z",
     "shell.execute_reply": "2024-02-07T12:19:03.015128Z"
    },
    "papermill": {
     "duration": 0.049706,
     "end_time": "2024-02-07T12:19:03.019384",
     "exception": false,
     "start_time": "2024-02-07T12:19:02.969678",
     "status": "completed"
    },
    "tags": []
   },
   "outputs": [
    {
     "name": "stdout",
     "output_type": "stream",
     "text": [
      "NObeyesdad\n",
      "Obesity_Type_III       4370\n",
      "Obesity_Type_II        3545\n",
      "Normal_Weight          3364\n",
      "Obesity_Type_I         3261\n",
      "Overweight_Level_II    2812\n",
      "Insufficient_Weight    2790\n",
      "Overweight_Level_I     2703\n",
      "Name: count, dtype: int64\n",
      "\n",
      "\n",
      "NObeyesdad\n",
      "Obesity_Type_III       0.191289\n",
      "Obesity_Type_II        0.155176\n",
      "Normal_Weight          0.147253\n",
      "Obesity_Type_I         0.142745\n",
      "Overweight_Level_II    0.123090\n",
      "Insufficient_Weight    0.122127\n",
      "Overweight_Level_I     0.118319\n",
      "Name: count, dtype: float64\n"
     ]
    }
   ],
   "source": [
    "print(f'{y.value_counts()}\\n\\n')\n",
    "print(y.value_counts() / y.shape[0])"
   ]
  },
  {
   "cell_type": "markdown",
   "id": "65ad4e39",
   "metadata": {
    "papermill": {
     "duration": 0.029079,
     "end_time": "2024-02-07T12:19:03.077485",
     "exception": false,
     "start_time": "2024-02-07T12:19:03.048406",
     "status": "completed"
    },
    "tags": []
   },
   "source": [
    "##### Target classes are inbalanced"
   ]
  },
  {
   "cell_type": "markdown",
   "id": "eb0f696b",
   "metadata": {
    "papermill": {
     "duration": 0.028929,
     "end_time": "2024-02-07T12:19:03.135525",
     "exception": false,
     "start_time": "2024-02-07T12:19:03.106596",
     "status": "completed"
    },
    "tags": []
   },
   "source": [
    "![](https://t3.ftcdn.net/jpg/01/96/93/78/360_F_196937881_vjymUgqEubdsT1QBzirUuN6GC331DJwy.jpg)"
   ]
  },
  {
   "cell_type": "markdown",
   "id": "888d3d73",
   "metadata": {
    "papermill": {
     "duration": 0.028934,
     "end_time": "2024-02-07T12:19:03.193853",
     "exception": false,
     "start_time": "2024-02-07T12:19:03.164919",
     "status": "completed"
    },
    "tags": []
   },
   "source": [
    "<a id='10'></a>\n",
    "# <span style=\"color: #3cb371; border-bottom: 6px solid #03adfc; background-color: #fadb8c;\">🌮 10 - Transorm the data with logarithm</span>"
   ]
  },
  {
   "cell_type": "code",
   "execution_count": 20,
   "id": "0d50e849",
   "metadata": {
    "execution": {
     "iopub.execute_input": "2024-02-07T12:19:03.254961Z",
     "iopub.status.busy": "2024-02-07T12:19:03.254265Z",
     "iopub.status.idle": "2024-02-07T12:19:12.277586Z",
     "shell.execute_reply": "2024-02-07T12:19:12.276297Z"
    },
    "papermill": {
     "duration": 9.058895,
     "end_time": "2024-02-07T12:19:12.282108",
     "exception": false,
     "start_time": "2024-02-07T12:19:03.223213",
     "status": "completed"
    },
    "tags": []
   },
   "outputs": [
    {
     "data": {
      "image/png": "[encoded data removed]",
      "text/plain": [
       "<Figure size 2000x1600 with 25 Axes>"
      ]
     },
     "metadata": {},
     "output_type": "display_data"
    }
   ],
   "source": [
    "for column in X.columns.tolist():\n",
    "    X[column] = X[column].apply(lambda x: np.log(x + 1))\n",
    "    \n",
    "# Transform test data\n",
    "for column in test.columns.tolist():\n",
    "    test[column] = test[column].apply(lambda x: np.log(x + 1))\n",
    "    \n",
    "X.hist(color='#fadb8c');"
   ]
  },
  {
   "cell_type": "markdown",
   "id": "86e85d23",
   "metadata": {
    "papermill": {
     "duration": 0.032349,
     "end_time": "2024-02-07T12:19:12.347510",
     "exception": false,
     "start_time": "2024-02-07T12:19:12.315161",
     "status": "completed"
    },
    "tags": []
   },
   "source": [
    "<a id='10.1'></a>\n",
    "### <span style=\"color: #3cb371; border-bottom: 6px solid #03adfc; background-color: #fadb8c;\">10.1 - Pie plot of target</span>"
   ]
  },
  {
   "cell_type": "code",
   "execution_count": 21,
   "id": "c044eceb",
   "metadata": {
    "execution": {
     "iopub.execute_input": "2024-02-07T12:19:12.415863Z",
     "iopub.status.busy": "2024-02-07T12:19:12.415279Z",
     "iopub.status.idle": "2024-02-07T12:19:12.616385Z",
     "shell.execute_reply": "2024-02-07T12:19:12.615224Z"
    },
    "papermill": {
     "duration": 0.238836,
     "end_time": "2024-02-07T12:19:12.619037",
     "exception": false,
     "start_time": "2024-02-07T12:19:12.380201",
     "status": "completed"
    },
    "tags": []
   },
   "outputs": [
    {
     "data": {
      "image/png": "[encoded data removed]",
      "text/plain": [
       "<Figure size 1200x800 with 1 Axes>"
      ]
     },
     "metadata": {},
     "output_type": "display_data"
    }
   ],
   "source": [
    "label_counts = y.value_counts()\n",
    "\n",
    "plt.figure(figsize=(12, 8))\n",
    "plt.pie(label_counts, labels=label_counts.index, autopct='%1.2f%%', startangle=90)\n",
    "plt.title('Pie plot of target')\n",
    "plt.show();"
   ]
  },
  {
   "cell_type": "markdown",
   "id": "e587842f",
   "metadata": {
    "papermill": {
     "duration": 0.033725,
     "end_time": "2024-02-07T12:19:12.686097",
     "exception": false,
     "start_time": "2024-02-07T12:19:12.652372",
     "status": "completed"
    },
    "tags": []
   },
   "source": [
    "<a id='10.2'></a>\n",
    "### <span style=\"color: #3cb371; border-bottom: 6px solid #03adfc; background-color: #fadb8c;\">10.2 Feature importance"
   ]
  },
  {
   "cell_type": "code",
   "execution_count": 22,
   "id": "aee6ea81",
   "metadata": {
    "execution": {
     "iopub.execute_input": "2024-02-07T12:19:12.757003Z",
     "iopub.status.busy": "2024-02-07T12:19:12.755623Z",
     "iopub.status.idle": "2024-02-07T12:19:15.712012Z",
     "shell.execute_reply": "2024-02-07T12:19:15.710822Z"
    },
    "papermill": {
     "duration": 2.99543,
     "end_time": "2024-02-07T12:19:15.715217",
     "exception": false,
     "start_time": "2024-02-07T12:19:12.719787",
     "status": "completed"
    },
    "tags": []
   },
   "outputs": [
    {
     "name": "stdout",
     "output_type": "stream",
     "text": [
      "CPU times: user 2.42 s, sys: 6.66 ms, total: 2.43 s\n",
      "Wall time: 2.43 s\n"
     ]
    },
    {
     "data": {
      "image/png": "[encoded data removed]",
      "text/plain": [
       "<Figure size 1200x800 with 1 Axes>"
      ]
     },
     "metadata": {},
     "output_type": "display_data"
    }
   ],
   "source": [
    "%%time\n",
    "best_forest = RandomForestClassifier(\n",
    "    n_estimators=100,\n",
    "    min_samples_split=2,\n",
    "    min_samples_leaf=10,\n",
    "    max_depth=10,\n",
    "    random_state=27,\n",
    ")\n",
    "    \n",
    "best_forest.fit(X, y)\n",
    "importance = best_forest.feature_importances_\n",
    "feature_importance = pd.DataFrame(data=importance, index=X.columns, columns=['importance']) \\\n",
    "    .sort_values(ascending=True, by='importance')\n",
    "feature_importance.plot(kind='barh', figsize=(12, 8), color='#3cb371');"
   ]
  },
  {
   "cell_type": "markdown",
   "id": "c4626c5f",
   "metadata": {
    "papermill": {
     "duration": 0.035379,
     "end_time": "2024-02-07T12:19:15.785998",
     "exception": false,
     "start_time": "2024-02-07T12:19:15.750619",
     "status": "completed"
    },
    "tags": []
   },
   "source": [
    "<a id='11'></a>\n",
    "# <span style=\"color: #3cb371; border-bottom: 6px solid #03adfc; background-color: #fadb8c;\">🌯 11 - Build a heat map of correlations</span>"
   ]
  },
  {
   "cell_type": "code",
   "execution_count": 23,
   "id": "ed4797cf",
   "metadata": {
    "execution": {
     "iopub.execute_input": "2024-02-07T12:19:15.861017Z",
     "iopub.status.busy": "2024-02-07T12:19:15.860195Z",
     "iopub.status.idle": "2024-02-07T12:19:16.034144Z",
     "shell.execute_reply": "2024-02-07T12:19:16.032909Z"
    },
    "papermill": {
     "duration": 0.214233,
     "end_time": "2024-02-07T12:19:16.036951",
     "exception": false,
     "start_time": "2024-02-07T12:19:15.822718",
     "status": "completed"
    },
    "tags": []
   },
   "outputs": [
    {
     "data": {
      "text/html": [
       "<style type=\"text/css\">\n",
       "#T_efe22_row0_col0, #T_efe22_row1_col1, #T_efe22_row2_col2, #T_efe22_row3_col3, #T_efe22_row4_col4, #T_efe22_row5_col5, #T_efe22_row6_col6, #T_efe22_row7_col7, #T_efe22_row8_col8, #T_efe22_row9_col9, #T_efe22_row10_col10, #T_efe22_row11_col11, #T_efe22_row12_col12, #T_efe22_row13_col13, #T_efe22_row14_col14, #T_efe22_row15_col15, #T_efe22_row16_col16, #T_efe22_row17_col17, #T_efe22_row18_col18, #T_efe22_row19_col19, #T_efe22_row20_col20, #T_efe22_row21_col21, #T_efe22_row22_col22 {\n",
       "  background-color: #2c3172;\n",
       "  color: #f1f1f1;\n",
       "}\n",
       "#T_efe22_row0_col1, #T_efe22_row0_col20, #T_efe22_row6_col19, #T_efe22_row14_col10, #T_efe22_row15_col9, #T_efe22_row16_col19 {\n",
       "  background-color: #8ac091;\n",
       "  color: #000000;\n",
       "}\n",
       "#T_efe22_row0_col2, #T_efe22_row3_col17 {\n",
       "  background-color: #2a7d8c;\n",
       "  color: #f1f1f1;\n",
       "}\n",
       "#T_efe22_row0_col3, #T_efe22_row14_col8, #T_efe22_row22_col8 {\n",
       "  background-color: #5ca890;\n",
       "  color: #f1f1f1;\n",
       "}\n",
       "#T_efe22_row0_col4, #T_efe22_row1_col20, #T_efe22_row6_col20, #T_efe22_row8_col14, #T_efe22_row19_col10, #T_efe22_row19_col20 {\n",
       "  background-color: #8ec291;\n",
       "  color: #000000;\n",
       "}\n",
       "#T_efe22_row0_col5, #T_efe22_row5_col15, #T_efe22_row8_col10, #T_efe22_row10_col22, #T_efe22_row16_col5, #T_efe22_row18_col2, #T_efe22_row20_col5, #T_efe22_row22_col4 {\n",
       "  background-color: #7eba91;\n",
       "  color: #000000;\n",
       "}\n",
       "#T_efe22_row0_col6, #T_efe22_row0_col7, #T_efe22_row0_col21, #T_efe22_row2_col15, #T_efe22_row3_col8, #T_efe22_row5_col14, #T_efe22_row8_col3, #T_efe22_row11_col1, #T_efe22_row11_col2, #T_efe22_row11_col5, #T_efe22_row11_col9, #T_efe22_row11_col10, #T_efe22_row11_col12, #T_efe22_row12_col11, #T_efe22_row12_col13, #T_efe22_row13_col4, #T_efe22_row17_col16, #T_efe22_row17_col18, #T_efe22_row18_col4, #T_efe22_row18_col14, #T_efe22_row18_col17, #T_efe22_row21_col0, #T_efe22_row21_col14, #T_efe22_row21_col19, #T_efe22_row21_col20, #T_efe22_row21_col22 {\n",
       "  background-color: #a5cd90;\n",
       "  color: #000000;\n",
       "}\n",
       "#T_efe22_row0_col8, #T_efe22_row20_col21, #T_efe22_row22_col7 {\n",
       "  background-color: #5ba790;\n",
       "  color: #f1f1f1;\n",
       "}\n",
       "#T_efe22_row0_col9, #T_efe22_row7_col17, #T_efe22_row20_col12 {\n",
       "  background-color: #3c8d8e;\n",
       "  color: #f1f1f1;\n",
       "}\n",
       "#T_efe22_row0_col10, #T_efe22_row7_col1, #T_efe22_row13_col5, #T_efe22_row16_col15, #T_efe22_row21_col15 {\n",
       "  background-color: #74b690;\n",
       "  color: #f1f1f1;\n",
       "}\n",
       "#T_efe22_row0_col11, #T_efe22_row2_col8 {\n",
       "  background-color: #4c9b90;\n",
       "  color: #f1f1f1;\n",
       "}\n",
       "#T_efe22_row0_col12 {\n",
       "  background-color: #277a8c;\n",
       "  color: #f1f1f1;\n",
       "}\n",
       "#T_efe22_row0_col13, #T_efe22_row1_col3, #T_efe22_row6_col4, #T_efe22_row19_col15, #T_efe22_row20_col15, #T_efe22_row21_col5 {\n",
       "  background-color: #73b590;\n",
       "  color: #f1f1f1;\n",
       "}\n",
       "#T_efe22_row0_col14, #T_efe22_row1_col14, #T_efe22_row3_col20, #T_efe22_row4_col20, #T_efe22_row5_col20, #T_efe22_row13_col19, #T_efe22_row13_col20, #T_efe22_row21_col4 {\n",
       "  background-color: #8dc191;\n",
       "  color: #000000;\n",
       "}\n",
       "#T_efe22_row0_col15, #T_efe22_row2_col20, #T_efe22_row7_col20, #T_efe22_row10_col15, #T_efe22_row12_col19 {\n",
       "  background-color: #93c491;\n",
       "  color: #000000;\n",
       "}\n",
       "#T_efe22_row0_col16, #T_efe22_row7_col9, #T_efe22_row8_col13, #T_efe22_row13_col22, #T_efe22_row15_col13, #T_efe22_row17_col13, #T_efe22_row20_col8, #T_efe22_row22_col2 {\n",
       "  background-color: #64ad90;\n",
       "  color: #f1f1f1;\n",
       "}\n",
       "#T_efe22_row0_col17, #T_efe22_row5_col2, #T_efe22_row7_col18 {\n",
       "  background-color: #31828d;\n",
       "  color: #f1f1f1;\n",
       "}\n",
       "#T_efe22_row0_col18, #T_efe22_row1_col18, #T_efe22_row3_col2, #T_efe22_row12_col18 {\n",
       "  background-color: #3e8e8e;\n",
       "  color: #f1f1f1;\n",
       "}\n",
       "#T_efe22_row0_col19, #T_efe22_row1_col15, #T_efe22_row4_col19, #T_efe22_row17_col6, #T_efe22_row18_col19 {\n",
       "  background-color: #8fc291;\n",
       "  color: #000000;\n",
       "}\n",
       "#T_efe22_row0_col22, #T_efe22_row7_col13, #T_efe22_row9_col4, #T_efe22_row9_col22, #T_efe22_row10_col5, #T_efe22_row11_col8, #T_efe22_row13_col3, #T_efe22_row17_col8 {\n",
       "  background-color: #76b791;\n",
       "  color: #f1f1f1;\n",
       "}\n",
       "#T_efe22_row1_col0, #T_efe22_row17_col3 {\n",
       "  background-color: #509e90;\n",
       "  color: #f1f1f1;\n",
       "}\n",
       "#T_efe22_row1_col2 {\n",
       "  background-color: #24778b;\n",
       "  color: #f1f1f1;\n",
       "}\n",
       "#T_efe22_row1_col4, #T_efe22_row1_col21, #T_efe22_row5_col3, #T_efe22_row18_col7 {\n",
       "  background-color: #58a590;\n",
       "  color: #f1f1f1;\n",
       "}\n",
       "#T_efe22_row1_col5, #T_efe22_row6_col22, #T_efe22_row13_col12, #T_efe22_row21_col2 {\n",
       "  background-color: #54a290;\n",
       "  color: #f1f1f1;\n",
       "}\n",
       "#T_efe22_row1_col6, #T_efe22_row7_col21, #T_efe22_row14_col12, #T_efe22_row19_col12 {\n",
       "  background-color: #3c8c8e;\n",
       "  color: #f1f1f1;\n",
       "}\n",
       "#T_efe22_row1_col7, #T_efe22_row4_col7, #T_efe22_row8_col9, #T_efe22_row9_col5, #T_efe22_row9_col11, #T_efe22_row12_col21 {\n",
       "  background-color: #56a390;\n",
       "  color: #f1f1f1;\n",
       "}\n",
       "#T_efe22_row1_col8 {\n",
       "  background-color: #1c6488;\n",
       "  color: #f1f1f1;\n",
       "}\n",
       "#T_efe22_row1_col9, #T_efe22_row2_col5 {\n",
       "  background-color: #43948f;\n",
       "  color: #f1f1f1;\n",
       "}\n",
       "#T_efe22_row1_col10, #T_efe22_row7_col16, #T_efe22_row8_col21, #T_efe22_row10_col3, #T_efe22_row14_col16, #T_efe22_row18_col9, #T_efe22_row19_col16, #T_efe22_row20_col3, #T_efe22_row20_col7, #T_efe22_row22_col16 {\n",
       "  background-color: #67ae90;\n",
       "  color: #f1f1f1;\n",
       "}\n",
       "#T_efe22_row1_col11, #T_efe22_row17_col11 {\n",
       "  background-color: #44948f;\n",
       "  color: #f1f1f1;\n",
       "}\n",
       "#T_efe22_row1_col12, #T_efe22_row5_col12, #T_efe22_row5_col17, #T_efe22_row9_col0, #T_efe22_row11_col18, #T_efe22_row15_col11 {\n",
       "  background-color: #2f818d;\n",
       "  color: #f1f1f1;\n",
       "}\n",
       "#T_efe22_row1_col13, #T_efe22_row3_col7, #T_efe22_row8_col4 {\n",
       "  background-color: #79b891;\n",
       "  color: #f1f1f1;\n",
       "}\n",
       "#T_efe22_row1_col16, #T_efe22_row6_col13, #T_efe22_row12_col7, #T_efe22_row12_col10, #T_efe22_row14_col9, #T_efe22_row15_col3 {\n",
       "  background-color: #63ac90;\n",
       "  color: #f1f1f1;\n",
       "}\n",
       "#T_efe22_row1_col17, #T_efe22_row17_col12, #T_efe22_row21_col17 {\n",
       "  background-color: #30828d;\n",
       "  color: #f1f1f1;\n",
       "}\n",
       "#T_efe22_row1_col19, #T_efe22_row5_col19, #T_efe22_row15_col19, #T_efe22_row20_col10, #T_efe22_row21_col8 {\n",
       "  background-color: #8bc191;\n",
       "  color: #000000;\n",
       "}\n",
       "#T_efe22_row1_col22, #T_efe22_row7_col2, #T_efe22_row8_col7, #T_efe22_row9_col3, #T_efe22_row12_col8, #T_efe22_row15_col22, #T_efe22_row16_col8, #T_efe22_row18_col22, #T_efe22_row22_col6 {\n",
       "  background-color: #5ea990;\n",
       "  color: #f1f1f1;\n",
       "}\n",
       "#T_efe22_row2_col0 {\n",
       "  background-color: #27798c;\n",
       "  color: #f1f1f1;\n",
       "}\n",
       "#T_efe22_row2_col1, #T_efe22_row4_col11, #T_efe22_row12_col0, #T_efe22_row15_col17, #T_efe22_row19_col17 {\n",
       "  background-color: #37888e;\n",
       "  color: #f1f1f1;\n",
       "}\n",
       "#T_efe22_row2_col3, #T_efe22_row3_col0, #T_efe22_row5_col9, #T_efe22_row5_col11, #T_efe22_row11_col21 {\n",
       "  background-color: #48988f;\n",
       "  color: #f1f1f1;\n",
       "}\n",
       "#T_efe22_row2_col4, #T_efe22_row10_col1, #T_efe22_row11_col0, #T_efe22_row16_col13, #T_efe22_row17_col5, #T_efe22_row19_col3, #T_efe22_row19_col9 {\n",
       "  background-color: #6bb190;\n",
       "  color: #f1f1f1;\n",
       "}\n",
       "#T_efe22_row2_col6, #T_efe22_row3_col6, #T_efe22_row18_col3, #T_efe22_row19_col1 {\n",
       "  background-color: #85bd91;\n",
       "  color: #000000;\n",
       "}\n",
       "#T_efe22_row2_col7, #T_efe22_row3_col4, #T_efe22_row4_col16, #T_efe22_row6_col5, #T_efe22_row10_col13, #T_efe22_row13_col16, #T_efe22_row20_col16 {\n",
       "  background-color: #6db290;\n",
       "  color: #f1f1f1;\n",
       "}\n",
       "#T_efe22_row2_col9 {\n",
       "  background-color: #1e6e8a;\n",
       "  color: #f1f1f1;\n",
       "}\n",
       "#T_efe22_row2_col10, #T_efe22_row4_col21, #T_efe22_row14_col21 {\n",
       "  background-color: #52a090;\n",
       "  color: #f1f1f1;\n",
       "}\n",
       "#T_efe22_row2_col11, #T_efe22_row3_col22, #T_efe22_row14_col7, #T_efe22_row15_col6, #T_efe22_row15_col7, #T_efe22_row19_col7, #T_efe22_row19_col13, #T_efe22_row19_col22, #T_efe22_row20_col22 {\n",
       "  background-color: #66ae90;\n",
       "  color: #f1f1f1;\n",
       "}\n",
       "#T_efe22_row2_col12 {\n",
       "  background-color: #1c6689;\n",
       "  color: #f1f1f1;\n",
       "}\n",
       "#T_efe22_row2_col13, #T_efe22_row3_col13, #T_efe22_row6_col9, #T_efe22_row14_col1, #T_efe22_row17_col15, #T_efe22_row22_col9 {\n",
       "  background-color: #78b891;\n",
       "  color: #f1f1f1;\n",
       "}\n",
       "#T_efe22_row2_col14, #T_efe22_row2_col19, #T_efe22_row3_col19, #T_efe22_row6_col10, #T_efe22_row7_col19, #T_efe22_row10_col20, #T_efe22_row12_col20 {\n",
       "  background-color: #94c591;\n",
       "  color: #000000;\n",
       "}\n",
       "#T_efe22_row2_col16, #T_efe22_row3_col15, #T_efe22_row12_col22, #T_efe22_row17_col7 {\n",
       "  background-color: #71b490;\n",
       "  color: #f1f1f1;\n",
       "}\n",
       "#T_efe22_row2_col17 {\n",
       "  background-color: #23758b;\n",
       "  color: #f1f1f1;\n",
       "}\n",
       "#T_efe22_row2_col18 {\n",
       "  background-color: #4a9a8f;\n",
       "  color: #f1f1f1;\n",
       "}\n",
       "#T_efe22_row2_col21, #T_efe22_row15_col21, #T_efe22_row16_col17, #T_efe22_row19_col0, #T_efe22_row20_col0 {\n",
       "  background-color: #4e9d90;\n",
       "  color: #f1f1f1;\n",
       "}\n",
       "#T_efe22_row2_col22, #T_efe22_row4_col15, #T_efe22_row6_col3, #T_efe22_row7_col10, #T_efe22_row15_col2, #T_efe22_row17_col1 {\n",
       "  background-color: #77b791;\n",
       "  color: #f1f1f1;\n",
       "}\n",
       "#T_efe22_row3_col1, #T_efe22_row10_col19, #T_efe22_row15_col14, #T_efe22_row16_col14 {\n",
       "  background-color: #99c791;\n",
       "  color: #000000;\n",
       "}\n",
       "#T_efe22_row3_col5, #T_efe22_row4_col5, #T_efe22_row5_col16, #T_efe22_row14_col13, #T_efe22_row16_col9, #T_efe22_row17_col4 {\n",
       "  background-color: #6ab090;\n",
       "  color: #f1f1f1;\n",
       "}\n",
       "#T_efe22_row3_col9, #T_efe22_row7_col22, #T_efe22_row11_col15, #T_efe22_row11_col16, #T_efe22_row11_col22, #T_efe22_row18_col6, #T_efe22_row18_col8 {\n",
       "  background-color: #5da890;\n",
       "  color: #f1f1f1;\n",
       "}\n",
       "#T_efe22_row3_col10 {\n",
       "  background-color: #84bd91;\n",
       "  color: #000000;\n",
       "}\n",
       "#T_efe22_row3_col11, #T_efe22_row14_col11 {\n",
       "  background-color: #398a8e;\n",
       "  color: #f1f1f1;\n",
       "}\n",
       "#T_efe22_row3_col12, #T_efe22_row12_col9, #T_efe22_row20_col17 {\n",
       "  background-color: #38898e;\n",
       "  color: #f1f1f1;\n",
       "}\n",
       "#T_efe22_row3_col14, #T_efe22_row13_col14 {\n",
       "  background-color: #a0cb91;\n",
       "  color: #000000;\n",
       "}\n",
       "#T_efe22_row3_col16, #T_efe22_row7_col4, #T_efe22_row7_col6, #T_efe22_row11_col13, #T_efe22_row14_col15, #T_efe22_row20_col6, #T_efe22_row21_col9 {\n",
       "  background-color: #72b490;\n",
       "  color: #f1f1f1;\n",
       "}\n",
       "#T_efe22_row3_col18, #T_efe22_row6_col12, #T_efe22_row18_col12 {\n",
       "  background-color: #42928f;\n",
       "  color: #f1f1f1;\n",
       "}\n",
       "#T_efe22_row3_col21, #T_efe22_row10_col11, #T_efe22_row17_col21 {\n",
       "  background-color: #46968f;\n",
       "  color: #f1f1f1;\n",
       "}\n",
       "#T_efe22_row4_col0, #T_efe22_row6_col21 {\n",
       "  background-color: #53a190;\n",
       "  color: #f1f1f1;\n",
       "}\n",
       "#T_efe22_row4_col1, #T_efe22_row16_col21, #T_efe22_row18_col0, #T_efe22_row19_col21, #T_efe22_row20_col2 {\n",
       "  background-color: #5aa690;\n",
       "  color: #f1f1f1;\n",
       "}\n",
       "#T_efe22_row4_col2, #T_efe22_row8_col0, #T_efe22_row10_col0, #T_efe22_row14_col0, #T_efe22_row17_col0 {\n",
       "  background-color: #47978f;\n",
       "  color: #f1f1f1;\n",
       "}\n",
       "#T_efe22_row4_col3, #T_efe22_row9_col1, #T_efe22_row13_col0, #T_efe22_row18_col21 {\n",
       "  background-color: #55a290;\n",
       "  color: #f1f1f1;\n",
       "}\n",
       "#T_efe22_row4_col6, #T_efe22_row5_col6, #T_efe22_row5_col22, #T_efe22_row6_col7, #T_efe22_row10_col8, #T_efe22_row11_col6, #T_efe22_row12_col3, #T_efe22_row13_col8, #T_efe22_row19_col8 {\n",
       "  background-color: #62ac90;\n",
       "  color: #f1f1f1;\n",
       "}\n",
       "#T_efe22_row4_col8, #T_efe22_row4_col22 {\n",
       "  background-color: #5fa990;\n",
       "  color: #f1f1f1;\n",
       "}\n",
       "#T_efe22_row4_col9, #T_efe22_row5_col1, #T_efe22_row5_col8, #T_efe22_row8_col22, #T_efe22_row10_col7, #T_efe22_row16_col2, #T_efe22_row22_col0 {\n",
       "  background-color: #5ba690;\n",
       "  color: #f1f1f1;\n",
       "}\n",
       "#T_efe22_row4_col10, #T_efe22_row10_col6, #T_efe22_row18_col16 {\n",
       "  background-color: #80bb91;\n",
       "  color: #000000;\n",
       "}\n",
       "#T_efe22_row4_col12, #T_efe22_row7_col12, #T_efe22_row10_col2, #T_efe22_row17_col2, #T_efe22_row19_col11, #T_efe22_row21_col18, #T_efe22_row22_col17 {\n",
       "  background-color: #3a8b8e;\n",
       "  color: #f1f1f1;\n",
       "}\n",
       "#T_efe22_row4_col13, #T_efe22_row10_col4, #T_efe22_row13_col9 {\n",
       "  background-color: #82bc91;\n",
       "  color: #000000;\n",
       "}\n",
       "#T_efe22_row4_col14, #T_efe22_row13_col1 {\n",
       "  background-color: #9dc991;\n",
       "  color: #000000;\n",
       "}\n",
       "#T_efe22_row4_col17, #T_efe22_row10_col17 {\n",
       "  background-color: #2c7e8c;\n",
       "  color: #f1f1f1;\n",
       "}\n",
       "#T_efe22_row4_col18, #T_efe22_row6_col8 {\n",
       "  background-color: #40918f;\n",
       "  color: #f1f1f1;\n",
       "}\n",
       "#T_efe22_row5_col0 {\n",
       "  background-color: #4f9e90;\n",
       "  color: #f1f1f1;\n",
       "}\n",
       "#T_efe22_row5_col4, #T_efe22_row13_col15, #T_efe22_row14_col6 {\n",
       "  background-color: #70b390;\n",
       "  color: #f1f1f1;\n",
       "}\n",
       "#T_efe22_row5_col7, #T_efe22_row6_col2, #T_efe22_row6_col16, #T_efe22_row7_col8, #T_efe22_row12_col5, #T_efe22_row13_col2, #T_efe22_row21_col13 {\n",
       "  background-color: #62ab90;\n",
       "  color: #f1f1f1;\n",
       "}\n",
       "#T_efe22_row5_col10, #T_efe22_row12_col16, #T_efe22_row21_col10, #T_efe22_row22_col5 {\n",
       "  background-color: #7cb991;\n",
       "  color: #000000;\n",
       "}\n",
       "#T_efe22_row5_col13, #T_efe22_row8_col16, #T_efe22_row9_col7, #T_efe22_row16_col22 {\n",
       "  background-color: #61aa90;\n",
       "  color: #f1f1f1;\n",
       "}\n",
       "#T_efe22_row5_col18, #T_efe22_row13_col11, #T_efe22_row16_col18 {\n",
       "  background-color: #3e8f8e;\n",
       "  color: #f1f1f1;\n",
       "}\n",
       "#T_efe22_row5_col21, #T_efe22_row21_col7 {\n",
       "  background-color: #49988f;\n",
       "  color: #f1f1f1;\n",
       "}\n",
       "#T_efe22_row6_col0, #T_efe22_row9_col16, #T_efe22_row13_col7 {\n",
       "  background-color: #6fb390;\n",
       "  color: #f1f1f1;\n",
       "}\n",
       "#T_efe22_row6_col1, #T_efe22_row8_col6, #T_efe22_row15_col12 {\n",
       "  background-color: #45958f;\n",
       "  color: #f1f1f1;\n",
       "}\n",
       "#T_efe22_row6_col11, #T_efe22_row16_col11 {\n",
       "  background-color: #33858d;\n",
       "  color: #f1f1f1;\n",
       "}\n",
       "#T_efe22_row6_col14, #T_efe22_row21_col1 {\n",
       "  background-color: #9bc891;\n",
       "  color: #000000;\n",
       "}\n",
       "#T_efe22_row6_col15, #T_efe22_row12_col1, #T_efe22_row14_col3, #T_efe22_row15_col16, #T_efe22_row20_col9, #T_efe22_row20_col13, #T_efe22_row22_col13 {\n",
       "  background-color: #69b090;\n",
       "  color: #f1f1f1;\n",
       "}\n",
       "#T_efe22_row6_col17, #T_efe22_row8_col11 {\n",
       "  background-color: #41918f;\n",
       "  color: #f1f1f1;\n",
       "}\n",
       "#T_efe22_row6_col18, #T_efe22_row12_col17 {\n",
       "  background-color: #2d7f8c;\n",
       "  color: #f1f1f1;\n",
       "}\n",
       "#T_efe22_row7_col0 {\n",
       "  background-color: #81bc91;\n",
       "  color: #000000;\n",
       "}\n",
       "#T_efe22_row7_col3, #T_efe22_row11_col4, #T_efe22_row16_col1, #T_efe22_row22_col1, #T_efe22_row22_col21 {\n",
       "  background-color: #7fbb91;\n",
       "  color: #000000;\n",
       "}\n",
       "#T_efe22_row7_col5, #T_efe22_row21_col16 {\n",
       "  background-color: #7dba91;\n",
       "  color: #000000;\n",
       "}\n",
       "#T_efe22_row7_col11, #T_efe22_row13_col18, #T_efe22_row14_col18, #T_efe22_row20_col11 {\n",
       "  background-color: #388a8e;\n",
       "  color: #f1f1f1;\n",
       "}\n",
       "#T_efe22_row7_col14, #T_efe22_row12_col14 {\n",
       "  background-color: #a3cc91;\n",
       "  color: #000000;\n",
       "}\n",
       "#T_efe22_row7_col15, #T_efe22_row19_col5, #T_efe22_row21_col6 {\n",
       "  background-color: #7bb991;\n",
       "  color: #000000;\n",
       "}\n",
       "#T_efe22_row8_col1 {\n",
       "  background-color: #1d6c8a;\n",
       "  color: #f1f1f1;\n",
       "}\n",
       "#T_efe22_row8_col2, #T_efe22_row16_col12 {\n",
       "  background-color: #41928f;\n",
       "  color: #f1f1f1;\n",
       "}\n",
       "#T_efe22_row8_col5, #T_efe22_row16_col3, #T_efe22_row17_col22, #T_efe22_row18_col13, #T_efe22_row19_col6, #T_efe22_row22_col15 {\n",
       "  background-color: #6eb290;\n",
       "  color: #f1f1f1;\n",
       "}\n",
       "#T_efe22_row8_col12, #T_efe22_row9_col17, #T_efe22_row15_col18, #T_efe22_row19_col18, #T_efe22_row22_col11 {\n",
       "  background-color: #36878d;\n",
       "  color: #f1f1f1;\n",
       "}\n",
       "#T_efe22_row8_col15, #T_efe22_row9_col13, #T_efe22_row12_col4, #T_efe22_row14_col4, #T_efe22_row14_col5, #T_efe22_row14_col20, #T_efe22_row19_col4, #T_efe22_row20_col4 {\n",
       "  background-color: #86be91;\n",
       "  color: #000000;\n",
       "}\n",
       "#T_efe22_row8_col17 {\n",
       "  background-color: #3d8e8e;\n",
       "  color: #f1f1f1;\n",
       "}\n",
       "#T_efe22_row8_col18 {\n",
       "  background-color: #31838d;\n",
       "  color: #f1f1f1;\n",
       "}\n",
       "#T_efe22_row8_col19, #T_efe22_row11_col20, #T_efe22_row13_col10, #T_efe22_row14_col19, #T_efe22_row15_col20, #T_efe22_row16_col4, #T_efe22_row20_col1 {\n",
       "  background-color: #89bf91;\n",
       "  color: #000000;\n",
       "}\n",
       "#T_efe22_row8_col20, #T_efe22_row12_col6, #T_efe22_row15_col4, #T_efe22_row18_col20 {\n",
       "  background-color: #88bf91;\n",
       "  color: #000000;\n",
       "}\n",
       "#T_efe22_row9_col2 {\n",
       "  background-color: #1c6889;\n",
       "  color: #f1f1f1;\n",
       "}\n",
       "#T_efe22_row9_col6, #T_efe22_row15_col5 {\n",
       "  background-color: #87be91;\n",
       "  color: #000000;\n",
       "}\n",
       "#T_efe22_row9_col8, #T_efe22_row9_col21 {\n",
       "  background-color: #57a490;\n",
       "  color: #f1f1f1;\n",
       "}\n",
       "#T_efe22_row9_col10, #T_efe22_row11_col7, #T_efe22_row15_col0, #T_efe22_row16_col7 {\n",
       "  background-color: #60aa90;\n",
       "  color: #f1f1f1;\n",
       "}\n",
       "#T_efe22_row9_col12 {\n",
       "  background-color: #20718b;\n",
       "  color: #f1f1f1;\n",
       "}\n",
       "#T_efe22_row9_col14, #T_efe22_row17_col14 {\n",
       "  background-color: #9ac791;\n",
       "  color: #000000;\n",
       "}\n",
       "#T_efe22_row9_col15, #T_efe22_row22_col14 {\n",
       "  background-color: #9eca91;\n",
       "  color: #000000;\n",
       "}\n",
       "#T_efe22_row9_col18 {\n",
       "  background-color: #37888d;\n",
       "  color: #f1f1f1;\n",
       "}\n",
       "#T_efe22_row9_col19, #T_efe22_row20_col14 {\n",
       "  background-color: #96c691;\n",
       "  color: #000000;\n",
       "}\n",
       "#T_efe22_row9_col20, #T_efe22_row11_col19 {\n",
       "  background-color: #91c391;\n",
       "  color: #000000;\n",
       "}\n",
       "#T_efe22_row10_col9 {\n",
       "  background-color: #4d9c90;\n",
       "  color: #f1f1f1;\n",
       "}\n",
       "#T_efe22_row10_col12 {\n",
       "  background-color: #2d808c;\n",
       "  color: #f1f1f1;\n",
       "}\n",
       "#T_efe22_row10_col14, #T_efe22_row15_col1, #T_efe22_row15_col10, #T_efe22_row22_col10 {\n",
       "  background-color: #a4cc90;\n",
       "  color: #000000;\n",
       "}\n",
       "#T_efe22_row10_col16, #T_efe22_row15_col8, #T_efe22_row18_col15 {\n",
       "  background-color: #75b690;\n",
       "  color: #f1f1f1;\n",
       "}\n",
       "#T_efe22_row10_col18, #T_efe22_row11_col17, #T_efe22_row22_col12 {\n",
       "  background-color: #40908e;\n",
       "  color: #f1f1f1;\n",
       "}\n",
       "#T_efe22_row10_col21, #T_efe22_row13_col21, #T_efe22_row16_col0 {\n",
       "  background-color: #4b9a8f;\n",
       "  color: #f1f1f1;\n",
       "}\n",
       "#T_efe22_row11_col3, #T_efe22_row14_col22, #T_efe22_row17_col9 {\n",
       "  background-color: #65ad90;\n",
       "  color: #f1f1f1;\n",
       "}\n",
       "#T_efe22_row11_col14 {\n",
       "  background-color: #9cc891;\n",
       "  color: #000000;\n",
       "}\n",
       "#T_efe22_row12_col2 {\n",
       "  background-color: #22748b;\n",
       "  color: #f1f1f1;\n",
       "}\n",
       "#T_efe22_row12_col15, #T_efe22_row18_col5 {\n",
       "  background-color: #95c591;\n",
       "  color: #000000;\n",
       "}\n",
       "#T_efe22_row13_col6 {\n",
       "  background-color: #6cb190;\n",
       "  color: #f1f1f1;\n",
       "}\n",
       "#T_efe22_row13_col17 {\n",
       "  background-color: #34858d;\n",
       "  color: #f1f1f1;\n",
       "}\n",
       "#T_efe22_row14_col2 {\n",
       "  background-color: #519f90;\n",
       "  color: #f1f1f1;\n",
       "}\n",
       "#T_efe22_row14_col17, #T_efe22_row20_col18, #T_efe22_row21_col11 {\n",
       "  background-color: #35868d;\n",
       "  color: #f1f1f1;\n",
       "}\n",
       "#T_efe22_row16_col6, #T_efe22_row17_col10, #T_efe22_row22_col3 {\n",
       "  background-color: #68af90;\n",
       "  color: #f1f1f1;\n",
       "}\n",
       "#T_efe22_row16_col10, #T_efe22_row16_col20, #T_efe22_row20_col19, #T_efe22_row22_col20 {\n",
       "  background-color: #90c391;\n",
       "  color: #000000;\n",
       "}\n",
       "#T_efe22_row17_col19, #T_efe22_row17_col20, #T_efe22_row22_col19 {\n",
       "  background-color: #92c491;\n",
       "  color: #000000;\n",
       "}\n",
       "#T_efe22_row18_col1, #T_efe22_row18_col10 {\n",
       "  background-color: #9fca91;\n",
       "  color: #000000;\n",
       "}\n",
       "#T_efe22_row18_col11, #T_efe22_row22_col18 {\n",
       "  background-color: #33848d;\n",
       "  color: #f1f1f1;\n",
       "}\n",
       "#T_efe22_row19_col2, #T_efe22_row21_col3 {\n",
       "  background-color: #59a590;\n",
       "  color: #f1f1f1;\n",
       "}\n",
       "#T_efe22_row19_col14 {\n",
       "  background-color: #98c691;\n",
       "  color: #000000;\n",
       "}\n",
       "#T_efe22_row21_col12 {\n",
       "  background-color: #3f8f8e;\n",
       "  color: #f1f1f1;\n",
       "}\n",
       "</style>\n",
       "<table id=\"T_efe22\">\n",
       "  <thead>\n",
       "    <tr>\n",
       "      <th class=\"blank level0\" >&nbsp;</th>\n",
       "      <th id=\"T_efe22_level0_col0\" class=\"col_heading level0 col0\" >Age</th>\n",
       "      <th id=\"T_efe22_level0_col1\" class=\"col_heading level0 col1\" >Height</th>\n",
       "      <th id=\"T_efe22_level0_col2\" class=\"col_heading level0 col2\" >Weight</th>\n",
       "      <th id=\"T_efe22_level0_col3\" class=\"col_heading level0 col3\" >FCVC</th>\n",
       "      <th id=\"T_efe22_level0_col4\" class=\"col_heading level0 col4\" >NCP</th>\n",
       "      <th id=\"T_efe22_level0_col5\" class=\"col_heading level0 col5\" >CH2O</th>\n",
       "      <th id=\"T_efe22_level0_col6\" class=\"col_heading level0 col6\" >FAF</th>\n",
       "      <th id=\"T_efe22_level0_col7\" class=\"col_heading level0 col7\" >TUE</th>\n",
       "      <th id=\"T_efe22_level0_col8\" class=\"col_heading level0 col8\" >Gender_Male</th>\n",
       "      <th id=\"T_efe22_level0_col9\" class=\"col_heading level0 col9\" >family_history_with_overweight_yes</th>\n",
       "      <th id=\"T_efe22_level0_col10\" class=\"col_heading level0 col10\" >FAVC_yes</th>\n",
       "      <th id=\"T_efe22_level0_col11\" class=\"col_heading level0 col11\" >CAEC_Frequently</th>\n",
       "      <th id=\"T_efe22_level0_col12\" class=\"col_heading level0 col12\" >CAEC_Sometimes</th>\n",
       "      <th id=\"T_efe22_level0_col13\" class=\"col_heading level0 col13\" >CAEC_no</th>\n",
       "      <th id=\"T_efe22_level0_col14\" class=\"col_heading level0 col14\" >SMOKE_yes</th>\n",
       "      <th id=\"T_efe22_level0_col15\" class=\"col_heading level0 col15\" >SCC_yes</th>\n",
       "      <th id=\"T_efe22_level0_col16\" class=\"col_heading level0 col16\" >CALC_Frequently</th>\n",
       "      <th id=\"T_efe22_level0_col17\" class=\"col_heading level0 col17\" >CALC_Sometimes</th>\n",
       "      <th id=\"T_efe22_level0_col18\" class=\"col_heading level0 col18\" >CALC_no</th>\n",
       "      <th id=\"T_efe22_level0_col19\" class=\"col_heading level0 col19\" >MTRANS_Bike</th>\n",
       "      <th id=\"T_efe22_level0_col20\" class=\"col_heading level0 col20\" >MTRANS_Motorbike</th>\n",
       "      <th id=\"T_efe22_level0_col21\" class=\"col_heading level0 col21\" >MTRANS_Public_Transportation</th>\n",
       "      <th id=\"T_efe22_level0_col22\" class=\"col_heading level0 col22\" >MTRANS_Walking</th>\n",
       "    </tr>\n",
       "  </thead>\n",
       "  <tbody>\n",
       "    <tr>\n",
       "      <th id=\"T_efe22_level0_row0\" class=\"row_heading level0 row0\" >Age</th>\n",
       "      <td id=\"T_efe22_row0_col0\" class=\"data row0 col0\" >1.000000</td>\n",
       "      <td id=\"T_efe22_row0_col1\" class=\"data row0 col1\" >-0.002534</td>\n",
       "      <td id=\"T_efe22_row0_col2\" class=\"data row0 col2\" >0.364461</td>\n",
       "      <td id=\"T_efe22_row0_col3\" class=\"data row0 col3\" >0.062079</td>\n",
       "      <td id=\"T_efe22_row0_col4\" class=\"data row0 col4\" >-0.028140</td>\n",
       "      <td id=\"T_efe22_row0_col5\" class=\"data row0 col5\" >0.002281</td>\n",
       "      <td id=\"T_efe22_row0_col6\" class=\"data row0 col6\" >-0.218442</td>\n",
       "      <td id=\"T_efe22_row0_col7\" class=\"data row0 col7\" >-0.316608</td>\n",
       "      <td id=\"T_efe22_row0_col8\" class=\"data row0 col8\" >0.066245</td>\n",
       "      <td id=\"T_efe22_row0_col9\" class=\"data row0 col9\" >0.284378</td>\n",
       "      <td id=\"T_efe22_row0_col10\" class=\"data row0 col10\" >0.067936</td>\n",
       "      <td id=\"T_efe22_row0_col11\" class=\"data row0 col11\" >-0.196201</td>\n",
       "      <td id=\"T_efe22_row0_col12\" class=\"data row0 col12\" >0.211425</td>\n",
       "      <td id=\"T_efe22_row0_col13\" class=\"data row0 col13\" >-0.048417</td>\n",
       "      <td id=\"T_efe22_row0_col14\" class=\"data row0 col14\" >0.063371</td>\n",
       "      <td id=\"T_efe22_row0_col15\" class=\"data row0 col15\" >-0.122787</td>\n",
       "      <td id=\"T_efe22_row0_col16\" class=\"data row0 col16\" >0.034792</td>\n",
       "      <td id=\"T_efe22_row0_col17\" class=\"data row0 col17\" >0.068689</td>\n",
       "      <td id=\"T_efe22_row0_col18\" class=\"data row0 col18\" >-0.083600</td>\n",
       "      <td id=\"T_efe22_row0_col19\" class=\"data row0 col19\" >0.005529</td>\n",
       "      <td id=\"T_efe22_row0_col20\" class=\"data row0 col20\" >0.013147</td>\n",
       "      <td id=\"T_efe22_row0_col21\" class=\"data row0 col21\" >-0.508627</td>\n",
       "      <td id=\"T_efe22_row0_col22\" class=\"data row0 col22\" >-0.089413</td>\n",
       "    </tr>\n",
       "    <tr>\n",
       "      <th id=\"T_efe22_level0_row1\" class=\"row_heading level0 row1\" >Height</th>\n",
       "      <td id=\"T_efe22_row1_col0\" class=\"data row1 col0\" >-0.002534</td>\n",
       "      <td id=\"T_efe22_row1_col1\" class=\"data row1 col1\" >1.000000</td>\n",
       "      <td id=\"T_efe22_row1_col2\" class=\"data row1 col2\" >0.423230</td>\n",
       "      <td id=\"T_efe22_row1_col3\" class=\"data row1 col3\" >-0.060001</td>\n",
       "      <td id=\"T_efe22_row1_col4\" class=\"data row1 col4\" >0.204956</td>\n",
       "      <td id=\"T_efe22_row1_col5\" class=\"data row1 col5\" >0.201143</td>\n",
       "      <td id=\"T_efe22_row1_col6\" class=\"data row1 col6\" >0.328911</td>\n",
       "      <td id=\"T_efe22_row1_col7\" class=\"data row1 col7\" >0.081506</td>\n",
       "      <td id=\"T_efe22_row1_col8\" class=\"data row1 col8\" >0.623832</td>\n",
       "      <td id=\"T_efe22_row1_col9\" class=\"data row1 col9\" >0.230706</td>\n",
       "      <td id=\"T_efe22_row1_col10\" class=\"data row1 col10\" >0.123402</td>\n",
       "      <td id=\"T_efe22_row1_col11\" class=\"data row1 col11\" >-0.110082</td>\n",
       "      <td id=\"T_efe22_row1_col12\" class=\"data row1 col12\" >0.128937</td>\n",
       "      <td id=\"T_efe22_row1_col13\" class=\"data row1 col13\" >-0.076671</td>\n",
       "      <td id=\"T_efe22_row1_col14\" class=\"data row1 col14\" >0.066362</td>\n",
       "      <td id=\"T_efe22_row1_col15\" class=\"data row1 col15\" >-0.101524</td>\n",
       "      <td id=\"T_efe22_row1_col16\" class=\"data row1 col16\" >0.039392</td>\n",
       "      <td id=\"T_efe22_row1_col17\" class=\"data row1 col17\" >0.070876</td>\n",
       "      <td id=\"T_efe22_row1_col18\" class=\"data row1 col18\" >-0.087594</td>\n",
       "      <td id=\"T_efe22_row1_col19\" class=\"data row1 col19\" >0.015755</td>\n",
       "      <td id=\"T_efe22_row1_col20\" class=\"data row1 col20\" >0.000229</td>\n",
       "      <td id=\"T_efe22_row1_col21\" class=\"data row1 col21\" >-0.069506</td>\n",
       "      <td id=\"T_efe22_row1_col22\" class=\"data row1 col22\" >0.040074</td>\n",
       "    </tr>\n",
       "    <tr>\n",
       "      <th id=\"T_efe22_level0_row2\" class=\"row_heading level0 row2\" >Weight</th>\n",
       "      <td id=\"T_efe22_row2_col0\" class=\"data row2 col0\" >0.364461</td>\n",
       "      <td id=\"T_efe22_row2_col1\" class=\"data row2 col1\" >0.423230</td>\n",
       "      <td id=\"T_efe22_row2_col2\" class=\"data row2 col2\" >1.000000</td>\n",
       "      <td id=\"T_efe22_row2_col3\" class=\"data row2 col3\" >0.197595</td>\n",
       "      <td id=\"T_efe22_row2_col4\" class=\"data row2 col4\" >0.113102</td>\n",
       "      <td id=\"T_efe22_row2_col5\" class=\"data row2 col5\" >0.309782</td>\n",
       "      <td id=\"T_efe22_row2_col6\" class=\"data row2 col6\" >-0.076235</td>\n",
       "      <td id=\"T_efe22_row2_col7\" class=\"data row2 col7\" >-0.052234</td>\n",
       "      <td id=\"T_efe22_row2_col8\" class=\"data row2 col8\" >0.166649</td>\n",
       "      <td id=\"T_efe22_row2_col9\" class=\"data row2 col9\" >0.549612</td>\n",
       "      <td id=\"T_efe22_row2_col10\" class=\"data row2 col10\" >0.232472</td>\n",
       "      <td id=\"T_efe22_row2_col11\" class=\"data row2 col11\" >-0.429391</td>\n",
       "      <td id=\"T_efe22_row2_col12\" class=\"data row2 col12\" >0.448622</td>\n",
       "      <td id=\"T_efe22_row2_col13\" class=\"data row2 col13\" >-0.074844</td>\n",
       "      <td id=\"T_efe22_row2_col14\" class=\"data row2 col14\" >0.035682</td>\n",
       "      <td id=\"T_efe22_row2_col15\" class=\"data row2 col15\" >-0.197761</td>\n",
       "      <td id=\"T_efe22_row2_col16\" class=\"data row2 col16\" >-0.029353</td>\n",
       "      <td id=\"T_efe22_row2_col17\" class=\"data row2 col17\" >0.232108</td>\n",
       "      <td id=\"T_efe22_row2_col18\" class=\"data row2 col18\" >-0.228634</td>\n",
       "      <td id=\"T_efe22_row2_col19\" class=\"data row2 col19\" >-0.018499</td>\n",
       "      <td id=\"T_efe22_row2_col20\" class=\"data row2 col20\" >-0.022699</td>\n",
       "      <td id=\"T_efe22_row2_col21\" class=\"data row2 col21\" >0.015010</td>\n",
       "      <td id=\"T_efe22_row2_col22\" class=\"data row2 col22\" >-0.091959</td>\n",
       "    </tr>\n",
       "    <tr>\n",
       "      <th id=\"T_efe22_level0_row3\" class=\"row_heading level0 row3\" >FCVC</th>\n",
       "      <td id=\"T_efe22_row3_col0\" class=\"data row3 col0\" >0.062079</td>\n",
       "      <td id=\"T_efe22_row3_col1\" class=\"data row3 col1\" >-0.060001</td>\n",
       "      <td id=\"T_efe22_row3_col2\" class=\"data row3 col2\" >0.197595</td>\n",
       "      <td id=\"T_efe22_row3_col3\" class=\"data row3 col3\" >1.000000</td>\n",
       "      <td id=\"T_efe22_row3_col4\" class=\"data row3 col4\" >0.105560</td>\n",
       "      <td id=\"T_efe22_row3_col5\" class=\"data row3 col5\" >0.088896</td>\n",
       "      <td id=\"T_efe22_row3_col6\" class=\"data row3 col6\" >-0.079826</td>\n",
       "      <td id=\"T_efe22_row3_col7\" class=\"data row3 col7\" >-0.113905</td>\n",
       "      <td id=\"T_efe22_row3_col8\" class=\"data row3 col8\" >-0.286542</td>\n",
       "      <td id=\"T_efe22_row3_col9\" class=\"data row3 col9\" >0.052629</td>\n",
       "      <td id=\"T_efe22_row3_col10\" class=\"data row3 col10\" >0.002584</td>\n",
       "      <td id=\"T_efe22_row3_col11\" class=\"data row3 col11\" >0.012063</td>\n",
       "      <td id=\"T_efe22_row3_col12\" class=\"data row3 col12\" >0.025459</td>\n",
       "      <td id=\"T_efe22_row3_col13\" class=\"data row3 col13\" >-0.074883</td>\n",
       "      <td id=\"T_efe22_row3_col14\" class=\"data row3 col14\" >-0.008097</td>\n",
       "      <td id=\"T_efe22_row3_col15\" class=\"data row3 col15\" >0.024800</td>\n",
       "      <td id=\"T_efe22_row3_col16\" class=\"data row3 col16\" >-0.034147</td>\n",
       "      <td id=\"T_efe22_row3_col17\" class=\"data row3 col17\" >0.144070</td>\n",
       "      <td id=\"T_efe22_row3_col18\" class=\"data row3 col18\" >-0.136038</td>\n",
       "      <td id=\"T_efe22_row3_col19\" class=\"data row3 col19\" >-0.015276</td>\n",
       "      <td id=\"T_efe22_row3_col20\" class=\"data row3 col20\" >0.004088</td>\n",
       "      <td id=\"T_efe22_row3_col21\" class=\"data row3 col21\" >0.080615</td>\n",
       "      <td id=\"T_efe22_row3_col22\" class=\"data row3 col22\" >-0.004138</td>\n",
       "    </tr>\n",
       "    <tr>\n",
       "      <th id=\"T_efe22_level0_row4\" class=\"row_heading level0 row4\" >NCP</th>\n",
       "      <td id=\"T_efe22_row4_col0\" class=\"data row4 col0\" >-0.028140</td>\n",
       "      <td id=\"T_efe22_row4_col1\" class=\"data row4 col1\" >0.204956</td>\n",
       "      <td id=\"T_efe22_row4_col2\" class=\"data row4 col2\" >0.113102</td>\n",
       "      <td id=\"T_efe22_row4_col3\" class=\"data row4 col3\" >0.105560</td>\n",
       "      <td id=\"T_efe22_row4_col4\" class=\"data row4 col4\" >1.000000</td>\n",
       "      <td id=\"T_efe22_row4_col5\" class=\"data row4 col5\" >0.090267</td>\n",
       "      <td id=\"T_efe22_row4_col6\" class=\"data row4 col6\" >0.078031</td>\n",
       "      <td id=\"T_efe22_row4_col7\" class=\"data row4 col7\" >0.080834</td>\n",
       "      <td id=\"T_efe22_row4_col8\" class=\"data row4 col8\" >0.049811</td>\n",
       "      <td id=\"T_efe22_row4_col9\" class=\"data row4 col9\" >0.065960</td>\n",
       "      <td id=\"T_efe22_row4_col10\" class=\"data row4 col10\" >0.016002</td>\n",
       "      <td id=\"T_efe22_row4_col11\" class=\"data row4 col11\" >0.030803</td>\n",
       "      <td id=\"T_efe22_row4_col12\" class=\"data row4 col12\" >0.002827</td>\n",
       "      <td id=\"T_efe22_row4_col13\" class=\"data row4 col13\" >-0.121216</td>\n",
       "      <td id=\"T_efe22_row4_col14\" class=\"data row4 col14\" >0.005124</td>\n",
       "      <td id=\"T_efe22_row4_col15\" class=\"data row4 col15\" >-0.003616</td>\n",
       "      <td id=\"T_efe22_row4_col16\" class=\"data row4 col16\" >-0.008646</td>\n",
       "      <td id=\"T_efe22_row4_col17\" class=\"data row4 col17\" >0.117077</td>\n",
       "      <td id=\"T_efe22_row4_col18\" class=\"data row4 col18\" >-0.117366</td>\n",
       "      <td id=\"T_efe22_row4_col19\" class=\"data row4 col19\" >0.004776</td>\n",
       "      <td id=\"T_efe22_row4_col20\" class=\"data row4 col20\" >0.004036</td>\n",
       "      <td id=\"T_efe22_row4_col21\" class=\"data row4 col21\" >-0.023783</td>\n",
       "      <td id=\"T_efe22_row4_col22\" class=\"data row4 col22\" >0.034806</td>\n",
       "    </tr>\n",
       "    <tr>\n",
       "      <th id=\"T_efe22_level0_row5\" class=\"row_heading level0 row5\" >CH2O</th>\n",
       "      <td id=\"T_efe22_row5_col0\" class=\"data row5 col0\" >0.002281</td>\n",
       "      <td id=\"T_efe22_row5_col1\" class=\"data row5 col1\" >0.201143</td>\n",
       "      <td id=\"T_efe22_row5_col2\" class=\"data row5 col2\" >0.309782</td>\n",
       "      <td id=\"T_efe22_row5_col3\" class=\"data row5 col3\" >0.088896</td>\n",
       "      <td id=\"T_efe22_row5_col4\" class=\"data row5 col4\" >0.090267</td>\n",
       "      <td id=\"T_efe22_row5_col5\" class=\"data row5 col5\" >1.000000</td>\n",
       "      <td id=\"T_efe22_row5_col6\" class=\"data row5 col6\" >0.078412</td>\n",
       "      <td id=\"T_efe22_row5_col7\" class=\"data row5 col7\" >0.010635</td>\n",
       "      <td id=\"T_efe22_row5_col8\" class=\"data row5 col8\" >0.071760</td>\n",
       "      <td id=\"T_efe22_row5_col9\" class=\"data row5 col9\" >0.195286</td>\n",
       "      <td id=\"T_efe22_row5_col10\" class=\"data row5 col10\" >0.036912</td>\n",
       "      <td id=\"T_efe22_row5_col11\" class=\"data row5 col11\" >-0.155880</td>\n",
       "      <td id=\"T_efe22_row5_col12\" class=\"data row5 col12\" >0.129290</td>\n",
       "      <td id=\"T_efe22_row5_col13\" class=\"data row5 col13\" >0.045119</td>\n",
       "      <td id=\"T_efe22_row5_col14\" class=\"data row5 col14\" >-0.024989</td>\n",
       "      <td id=\"T_efe22_row5_col15\" class=\"data row5 col15\" >-0.029639</td>\n",
       "      <td id=\"T_efe22_row5_col16\" class=\"data row5 col16\" >0.004934</td>\n",
       "      <td id=\"T_efe22_row5_col17\" class=\"data row5 col17\" >0.084251</td>\n",
       "      <td id=\"T_efe22_row5_col18\" class=\"data row5 col18\" >-0.088748</td>\n",
       "      <td id=\"T_efe22_row5_col19\" class=\"data row5 col19\" >0.017475</td>\n",
       "      <td id=\"T_efe22_row5_col20\" class=\"data row5 col20\" >0.003986</td>\n",
       "      <td id=\"T_efe22_row5_col21\" class=\"data row5 col21\" >0.051277</td>\n",
       "      <td id=\"T_efe22_row5_col22\" class=\"data row5 col22\" >0.014235</td>\n",
       "    </tr>\n",
       "    <tr>\n",
       "      <th id=\"T_efe22_level0_row6\" class=\"row_heading level0 row6\" >FAF</th>\n",
       "      <td id=\"T_efe22_row6_col0\" class=\"data row6 col0\" >-0.218442</td>\n",
       "      <td id=\"T_efe22_row6_col1\" class=\"data row6 col1\" >0.328911</td>\n",
       "      <td id=\"T_efe22_row6_col2\" class=\"data row6 col2\" >-0.076235</td>\n",
       "      <td id=\"T_efe22_row6_col3\" class=\"data row6 col3\" >-0.079826</td>\n",
       "      <td id=\"T_efe22_row6_col4\" class=\"data row6 col4\" >0.078031</td>\n",
       "      <td id=\"T_efe22_row6_col5\" class=\"data row6 col5\" >0.078412</td>\n",
       "      <td id=\"T_efe22_row6_col6\" class=\"data row6 col6\" >1.000000</td>\n",
       "      <td id=\"T_efe22_row6_col7\" class=\"data row6 col7\" >0.004352</td>\n",
       "      <td id=\"T_efe22_row6_col8\" class=\"data row6 col8\" >0.259635</td>\n",
       "      <td id=\"T_efe22_row6_col9\" class=\"data row6 col9\" >-0.088204</td>\n",
       "      <td id=\"T_efe22_row6_col10\" class=\"data row6 col10\" >-0.060755</td>\n",
       "      <td id=\"T_efe22_row6_col11\" class=\"data row6 col11\" >0.078025</td>\n",
       "      <td id=\"T_efe22_row6_col12\" class=\"data row6 col12\" >-0.093507</td>\n",
       "      <td id=\"T_efe22_row6_col13\" class=\"data row6 col13\" >0.030264</td>\n",
       "      <td id=\"T_efe22_row6_col14\" class=\"data row6 col14\" >0.011966</td>\n",
       "      <td id=\"T_efe22_row6_col15\" class=\"data row6 col15\" >0.060368</td>\n",
       "      <td id=\"T_efe22_row6_col16\" class=\"data row6 col16\" >0.048124</td>\n",
       "      <td id=\"T_efe22_row6_col17\" class=\"data row6 col17\" >-0.122812</td>\n",
       "      <td id=\"T_efe22_row6_col18\" class=\"data row6 col18\" >0.109026</td>\n",
       "      <td id=\"T_efe22_row6_col19\" class=\"data row6 col19\" >0.021663</td>\n",
       "      <td id=\"T_efe22_row6_col20\" class=\"data row6 col20\" >0.000657</td>\n",
       "      <td id=\"T_efe22_row6_col21\" class=\"data row6 col21\" >-0.033790</td>\n",
       "      <td id=\"T_efe22_row6_col22\" class=\"data row6 col22\" >0.100450</td>\n",
       "    </tr>\n",
       "    <tr>\n",
       "      <th id=\"T_efe22_level0_row7\" class=\"row_heading level0 row7\" >TUE</th>\n",
       "      <td id=\"T_efe22_row7_col0\" class=\"data row7 col0\" >-0.316608</td>\n",
       "      <td id=\"T_efe22_row7_col1\" class=\"data row7 col1\" >0.081506</td>\n",
       "      <td id=\"T_efe22_row7_col2\" class=\"data row7 col2\" >-0.052234</td>\n",
       "      <td id=\"T_efe22_row7_col3\" class=\"data row7 col3\" >-0.113905</td>\n",
       "      <td id=\"T_efe22_row7_col4\" class=\"data row7 col4\" >0.080834</td>\n",
       "      <td id=\"T_efe22_row7_col5\" class=\"data row7 col5\" >0.010635</td>\n",
       "      <td id=\"T_efe22_row7_col6\" class=\"data row7 col6\" >0.004352</td>\n",
       "      <td id=\"T_efe22_row7_col7\" class=\"data row7 col7\" >1.000000</td>\n",
       "      <td id=\"T_efe22_row7_col8\" class=\"data row7 col8\" >0.030412</td>\n",
       "      <td id=\"T_efe22_row7_col9\" class=\"data row7 col9\" >0.014485</td>\n",
       "      <td id=\"T_efe22_row7_col10\" class=\"data row7 col10\" >0.052078</td>\n",
       "      <td id=\"T_efe22_row7_col11\" class=\"data row7 col11\" >0.019209</td>\n",
       "      <td id=\"T_efe22_row7_col12\" class=\"data row7 col12\" >-0.000968</td>\n",
       "      <td id=\"T_efe22_row7_col13\" class=\"data row7 col13\" >-0.062364</td>\n",
       "      <td id=\"T_efe22_row7_col14\" class=\"data row7 col14\" >-0.016455</td>\n",
       "      <td id=\"T_efe22_row7_col15\" class=\"data row7 col15\" >-0.017376</td>\n",
       "      <td id=\"T_efe22_row7_col16\" class=\"data row7 col16\" >0.019906</td>\n",
       "      <td id=\"T_efe22_row7_col17\" class=\"data row7 col17\" >-0.073039</td>\n",
       "      <td id=\"T_efe22_row7_col18\" class=\"data row7 col18\" >0.067865</td>\n",
       "      <td id=\"T_efe22_row7_col19\" class=\"data row7 col19\" >-0.017477</td>\n",
       "      <td id=\"T_efe22_row7_col20\" class=\"data row7 col20\" >-0.021909</td>\n",
       "      <td id=\"T_efe22_row7_col21\" class=\"data row7 col21\" >0.173169</td>\n",
       "      <td id=\"T_efe22_row7_col22\" class=\"data row7 col22\" >0.046750</td>\n",
       "    </tr>\n",
       "    <tr>\n",
       "      <th id=\"T_efe22_level0_row8\" class=\"row_heading level0 row8\" >Gender_Male</th>\n",
       "      <td id=\"T_efe22_row8_col0\" class=\"data row8 col0\" >0.066245</td>\n",
       "      <td id=\"T_efe22_row8_col1\" class=\"data row8 col1\" >0.623832</td>\n",
       "      <td id=\"T_efe22_row8_col2\" class=\"data row8 col2\" >0.166649</td>\n",
       "      <td id=\"T_efe22_row8_col3\" class=\"data row8 col3\" >-0.286542</td>\n",
       "      <td id=\"T_efe22_row8_col4\" class=\"data row8 col4\" >0.049811</td>\n",
       "      <td id=\"T_efe22_row8_col5\" class=\"data row8 col5\" >0.071760</td>\n",
       "      <td id=\"T_efe22_row8_col6\" class=\"data row8 col6\" >0.259635</td>\n",
       "      <td id=\"T_efe22_row8_col7\" class=\"data row8 col7\" >0.030412</td>\n",
       "      <td id=\"T_efe22_row8_col8\" class=\"data row8 col8\" >1.000000</td>\n",
       "      <td id=\"T_efe22_row8_col9\" class=\"data row8 col9\" >0.097399</td>\n",
       "      <td id=\"T_efe22_row8_col10\" class=\"data row8 col10\" >0.025739</td>\n",
       "      <td id=\"T_efe22_row8_col11\" class=\"data row8 col11\" >-0.072019</td>\n",
       "      <td id=\"T_efe22_row8_col12\" class=\"data row8 col12\" >0.050267</td>\n",
       "      <td id=\"T_efe22_row8_col13\" class=\"data row8 col13\" >0.025094</td>\n",
       "      <td id=\"T_efe22_row8_col14\" class=\"data row8 col14\" >0.061051</td>\n",
       "      <td id=\"T_efe22_row8_col15\" class=\"data row8 col15\" >-0.065596</td>\n",
       "      <td id=\"T_efe22_row8_col16\" class=\"data row8 col16\" >0.053367</td>\n",
       "      <td id=\"T_efe22_row8_col17\" class=\"data row8 col17\" >-0.075287</td>\n",
       "      <td id=\"T_efe22_row8_col18\" class=\"data row8 col18\" >0.057986</td>\n",
       "      <td id=\"T_efe22_row8_col19\" class=\"data row8 col19\" >0.026633</td>\n",
       "      <td id=\"T_efe22_row8_col20\" class=\"data row8 col20\" >0.020010</td>\n",
       "      <td id=\"T_efe22_row8_col21\" class=\"data row8 col21\" >-0.167653</td>\n",
       "      <td id=\"T_efe22_row8_col22\" class=\"data row8 col22\" >0.060809</td>\n",
       "    </tr>\n",
       "    <tr>\n",
       "      <th id=\"T_efe22_level0_row9\" class=\"row_heading level0 row9\" >family_history_with_overweight_yes</th>\n",
       "      <td id=\"T_efe22_row9_col0\" class=\"data row9 col0\" >0.284378</td>\n",
       "      <td id=\"T_efe22_row9_col1\" class=\"data row9 col1\" >0.230706</td>\n",
       "      <td id=\"T_efe22_row9_col2\" class=\"data row9 col2\" >0.549612</td>\n",
       "      <td id=\"T_efe22_row9_col3\" class=\"data row9 col3\" >0.052629</td>\n",
       "      <td id=\"T_efe22_row9_col4\" class=\"data row9 col4\" >0.065960</td>\n",
       "      <td id=\"T_efe22_row9_col5\" class=\"data row9 col5\" >0.195286</td>\n",
       "      <td id=\"T_efe22_row9_col6\" class=\"data row9 col6\" >-0.088204</td>\n",
       "      <td id=\"T_efe22_row9_col7\" class=\"data row9 col7\" >0.014485</td>\n",
       "      <td id=\"T_efe22_row9_col8\" class=\"data row9 col8\" >0.097399</td>\n",
       "      <td id=\"T_efe22_row9_col9\" class=\"data row9 col9\" >1.000000</td>\n",
       "      <td id=\"T_efe22_row9_col10\" class=\"data row9 col10\" >0.158143</td>\n",
       "      <td id=\"T_efe22_row9_col11\" class=\"data row9 col11\" >-0.292619</td>\n",
       "      <td id=\"T_efe22_row9_col12\" class=\"data row9 col12\" >0.323084</td>\n",
       "      <td id=\"T_efe22_row9_col13\" class=\"data row9 col13\" >-0.135798</td>\n",
       "      <td id=\"T_efe22_row9_col14\" class=\"data row9 col14\" >0.018336</td>\n",
       "      <td id=\"T_efe22_row9_col15\" class=\"data row9 col15\" >-0.169244</td>\n",
       "      <td id=\"T_efe22_row9_col16\" class=\"data row9 col16\" >-0.018018</td>\n",
       "      <td id=\"T_efe22_row9_col17\" class=\"data row9 col17\" >0.007373</td>\n",
       "      <td id=\"T_efe22_row9_col18\" class=\"data row9 col18\" >-0.001039</td>\n",
       "      <td id=\"T_efe22_row9_col19\" class=\"data row9 col19\" >-0.024806</td>\n",
       "      <td id=\"T_efe22_row9_col20\" class=\"data row9 col20\" >-0.012777</td>\n",
       "      <td id=\"T_efe22_row9_col21\" class=\"data row9 col21\" >-0.059506</td>\n",
       "      <td id=\"T_efe22_row9_col22\" class=\"data row9 col22\" >-0.086273</td>\n",
       "    </tr>\n",
       "    <tr>\n",
       "      <th id=\"T_efe22_level0_row10\" class=\"row_heading level0 row10\" >FAVC_yes</th>\n",
       "      <td id=\"T_efe22_row10_col0\" class=\"data row10 col0\" >0.067936</td>\n",
       "      <td id=\"T_efe22_row10_col1\" class=\"data row10 col1\" >0.123402</td>\n",
       "      <td id=\"T_efe22_row10_col2\" class=\"data row10 col2\" >0.232472</td>\n",
       "      <td id=\"T_efe22_row10_col3\" class=\"data row10 col3\" >0.002584</td>\n",
       "      <td id=\"T_efe22_row10_col4\" class=\"data row10 col4\" >0.016002</td>\n",
       "      <td id=\"T_efe22_row10_col5\" class=\"data row10 col5\" >0.036912</td>\n",
       "      <td id=\"T_efe22_row10_col6\" class=\"data row10 col6\" >-0.060755</td>\n",
       "      <td id=\"T_efe22_row10_col7\" class=\"data row10 col7\" >0.052078</td>\n",
       "      <td id=\"T_efe22_row10_col8\" class=\"data row10 col8\" >0.025739</td>\n",
       "      <td id=\"T_efe22_row10_col9\" class=\"data row10 col9\" >0.158143</td>\n",
       "      <td id=\"T_efe22_row10_col10\" class=\"data row10 col10\" >1.000000</td>\n",
       "      <td id=\"T_efe22_row10_col11\" class=\"data row10 col11\" >-0.130566</td>\n",
       "      <td id=\"T_efe22_row10_col12\" class=\"data row10 col12\" >0.141592</td>\n",
       "      <td id=\"T_efe22_row10_col13\" class=\"data row10 col13\" >-0.019902</td>\n",
       "      <td id=\"T_efe22_row10_col14\" class=\"data row10 col14\" >-0.021331</td>\n",
       "      <td id=\"T_efe22_row10_col15\" class=\"data row10 col15\" >-0.121892</td>\n",
       "      <td id=\"T_efe22_row10_col16\" class=\"data row10 col16\" >-0.046385</td>\n",
       "      <td id=\"T_efe22_row10_col17\" class=\"data row10 col17\" >0.120017</td>\n",
       "      <td id=\"T_efe22_row10_col18\" class=\"data row10 col18\" >-0.106835</td>\n",
       "      <td id=\"T_efe22_row10_col19\" class=\"data row10 col19\" >-0.035687</td>\n",
       "      <td id=\"T_efe22_row10_col20\" class=\"data row10 col20\" >-0.025566</td>\n",
       "      <td id=\"T_efe22_row10_col21\" class=\"data row10 col21\" >0.035942</td>\n",
       "      <td id=\"T_efe22_row10_col22\" class=\"data row10 col22\" >-0.124743</td>\n",
       "    </tr>\n",
       "    <tr>\n",
       "      <th id=\"T_efe22_level0_row11\" class=\"row_heading level0 row11\" >CAEC_Frequently</th>\n",
       "      <td id=\"T_efe22_row11_col0\" class=\"data row11 col0\" >-0.196201</td>\n",
       "      <td id=\"T_efe22_row11_col1\" class=\"data row11 col1\" >-0.110082</td>\n",
       "      <td id=\"T_efe22_row11_col2\" class=\"data row11 col2\" >-0.429391</td>\n",
       "      <td id=\"T_efe22_row11_col3\" class=\"data row11 col3\" >0.012063</td>\n",
       "      <td id=\"T_efe22_row11_col4\" class=\"data row11 col4\" >0.030803</td>\n",
       "      <td id=\"T_efe22_row11_col5\" class=\"data row11 col5\" >-0.155880</td>\n",
       "      <td id=\"T_efe22_row11_col6\" class=\"data row11 col6\" >0.078025</td>\n",
       "      <td id=\"T_efe22_row11_col7\" class=\"data row11 col7\" >0.019209</td>\n",
       "      <td id=\"T_efe22_row11_col8\" class=\"data row11 col8\" >-0.072019</td>\n",
       "      <td id=\"T_efe22_row11_col9\" class=\"data row11 col9\" >-0.292619</td>\n",
       "      <td id=\"T_efe22_row11_col10\" class=\"data row11 col10\" >-0.130566</td>\n",
       "      <td id=\"T_efe22_row11_col11\" class=\"data row11 col11\" >1.000000</td>\n",
       "      <td id=\"T_efe22_row11_col12\" class=\"data row11 col12\" >-0.854227</td>\n",
       "      <td id=\"T_efe22_row11_col13\" class=\"data row11 col13\" >-0.043431</td>\n",
       "      <td id=\"T_efe22_row11_col14\" class=\"data row11 col14\" >0.008170</td>\n",
       "      <td id=\"T_efe22_row11_col15\" class=\"data row11 col15\" >0.121463</td>\n",
       "      <td id=\"T_efe22_row11_col16\" class=\"data row11 col16\" >0.074575</td>\n",
       "      <td id=\"T_efe22_row11_col17\" class=\"data row11 col17\" >-0.110215</td>\n",
       "      <td id=\"T_efe22_row11_col18\" class=\"data row11 col18\" >0.086066</td>\n",
       "      <td id=\"T_efe22_row11_col19\" class=\"data row11 col19\" >-0.002044</td>\n",
       "      <td id=\"T_efe22_row11_col20\" class=\"data row11 col20\" >0.018124</td>\n",
       "      <td id=\"T_efe22_row11_col21\" class=\"data row11 col21\" >0.060202</td>\n",
       "      <td id=\"T_efe22_row11_col22\" class=\"data row11 col22\" >0.045425</td>\n",
       "    </tr>\n",
       "    <tr>\n",
       "      <th id=\"T_efe22_level0_row12\" class=\"row_heading level0 row12\" >CAEC_Sometimes</th>\n",
       "      <td id=\"T_efe22_row12_col0\" class=\"data row12 col0\" >0.211425</td>\n",
       "      <td id=\"T_efe22_row12_col1\" class=\"data row12 col1\" >0.128937</td>\n",
       "      <td id=\"T_efe22_row12_col2\" class=\"data row12 col2\" >0.448622</td>\n",
       "      <td id=\"T_efe22_row12_col3\" class=\"data row12 col3\" >0.025459</td>\n",
       "      <td id=\"T_efe22_row12_col4\" class=\"data row12 col4\" >0.002827</td>\n",
       "      <td id=\"T_efe22_row12_col5\" class=\"data row12 col5\" >0.129290</td>\n",
       "      <td id=\"T_efe22_row12_col6\" class=\"data row12 col6\" >-0.093507</td>\n",
       "      <td id=\"T_efe22_row12_col7\" class=\"data row12 col7\" >-0.000968</td>\n",
       "      <td id=\"T_efe22_row12_col8\" class=\"data row12 col8\" >0.050267</td>\n",
       "      <td id=\"T_efe22_row12_col9\" class=\"data row12 col9\" >0.323084</td>\n",
       "      <td id=\"T_efe22_row12_col10\" class=\"data row12 col10\" >0.141592</td>\n",
       "      <td id=\"T_efe22_row12_col11\" class=\"data row12 col11\" >-0.854227</td>\n",
       "      <td id=\"T_efe22_row12_col12\" class=\"data row12 col12\" >1.000000</td>\n",
       "      <td id=\"T_efe22_row12_col13\" class=\"data row12 col13\" >-0.275879</td>\n",
       "      <td id=\"T_efe22_row12_col14\" class=\"data row12 col14\" >-0.015157</td>\n",
       "      <td id=\"T_efe22_row12_col15\" class=\"data row12 col15\" >-0.129533</td>\n",
       "      <td id=\"T_efe22_row12_col16\" class=\"data row12 col16\" >-0.079946</td>\n",
       "      <td id=\"T_efe22_row12_col17\" class=\"data row12 col17\" >0.114082</td>\n",
       "      <td id=\"T_efe22_row12_col18\" class=\"data row12 col18\" >-0.088123</td>\n",
       "      <td id=\"T_efe22_row12_col19\" class=\"data row12 col19\" >-0.014424</td>\n",
       "      <td id=\"T_efe22_row12_col20\" class=\"data row12 col20\" >-0.027081</td>\n",
       "      <td id=\"T_efe22_row12_col21\" class=\"data row12 col21\" >-0.053849</td>\n",
       "      <td id=\"T_efe22_row12_col22\" class=\"data row12 col22\" >-0.064466</td>\n",
       "    </tr>\n",
       "    <tr>\n",
       "      <th id=\"T_efe22_level0_row13\" class=\"row_heading level0 row13\" >CAEC_no</th>\n",
       "      <td id=\"T_efe22_row13_col0\" class=\"data row13 col0\" >-0.048417</td>\n",
       "      <td id=\"T_efe22_row13_col1\" class=\"data row13 col1\" >-0.076671</td>\n",
       "      <td id=\"T_efe22_row13_col2\" class=\"data row13 col2\" >-0.074844</td>\n",
       "      <td id=\"T_efe22_row13_col3\" class=\"data row13 col3\" >-0.074883</td>\n",
       "      <td id=\"T_efe22_row13_col4\" class=\"data row13 col4\" >-0.121216</td>\n",
       "      <td id=\"T_efe22_row13_col5\" class=\"data row13 col5\" >0.045119</td>\n",
       "      <td id=\"T_efe22_row13_col6\" class=\"data row13 col6\" >0.030264</td>\n",
       "      <td id=\"T_efe22_row13_col7\" class=\"data row13 col7\" >-0.062364</td>\n",
       "      <td id=\"T_efe22_row13_col8\" class=\"data row13 col8\" >0.025094</td>\n",
       "      <td id=\"T_efe22_row13_col9\" class=\"data row13 col9\" >-0.135798</td>\n",
       "      <td id=\"T_efe22_row13_col10\" class=\"data row13 col10\" >-0.019902</td>\n",
       "      <td id=\"T_efe22_row13_col11\" class=\"data row13 col11\" >-0.043431</td>\n",
       "      <td id=\"T_efe22_row13_col12\" class=\"data row13 col12\" >-0.275879</td>\n",
       "      <td id=\"T_efe22_row13_col13\" class=\"data row13 col13\" >1.000000</td>\n",
       "      <td id=\"T_efe22_row13_col14\" class=\"data row13 col14\" >-0.006699</td>\n",
       "      <td id=\"T_efe22_row13_col15\" class=\"data row13 col15\" >0.027129</td>\n",
       "      <td id=\"T_efe22_row13_col16\" class=\"data row13 col16\" >-0.007706</td>\n",
       "      <td id=\"T_efe22_row13_col17\" class=\"data row13 col17\" >0.027971</td>\n",
       "      <td id=\"T_efe22_row13_col18\" class=\"data row13 col18\" >-0.026019</td>\n",
       "      <td id=\"T_efe22_row13_col19\" class=\"data row13 col19\" >0.013260</td>\n",
       "      <td id=\"T_efe22_row13_col20\" class=\"data row13 col20\" >0.002610</td>\n",
       "      <td id=\"T_efe22_row13_col21\" class=\"data row13 col21\" >0.038906</td>\n",
       "      <td id=\"T_efe22_row13_col22\" class=\"data row13 col22\" >0.001955</td>\n",
       "    </tr>\n",
       "    <tr>\n",
       "      <th id=\"T_efe22_level0_row14\" class=\"row_heading level0 row14\" >SMOKE_yes</th>\n",
       "      <td id=\"T_efe22_row14_col0\" class=\"data row14 col0\" >0.063371</td>\n",
       "      <td id=\"T_efe22_row14_col1\" class=\"data row14 col1\" >0.066362</td>\n",
       "      <td id=\"T_efe22_row14_col2\" class=\"data row14 col2\" >0.035682</td>\n",
       "      <td id=\"T_efe22_row14_col3\" class=\"data row14 col3\" >-0.008097</td>\n",
       "      <td id=\"T_efe22_row14_col4\" class=\"data row14 col4\" >0.005124</td>\n",
       "      <td id=\"T_efe22_row14_col5\" class=\"data row14 col5\" >-0.024989</td>\n",
       "      <td id=\"T_efe22_row14_col6\" class=\"data row14 col6\" >0.011966</td>\n",
       "      <td id=\"T_efe22_row14_col7\" class=\"data row14 col7\" >-0.016455</td>\n",
       "      <td id=\"T_efe22_row14_col8\" class=\"data row14 col8\" >0.061051</td>\n",
       "      <td id=\"T_efe22_row14_col9\" class=\"data row14 col9\" >0.018336</td>\n",
       "      <td id=\"T_efe22_row14_col10\" class=\"data row14 col10\" >-0.021331</td>\n",
       "      <td id=\"T_efe22_row14_col11\" class=\"data row14 col11\" >0.008170</td>\n",
       "      <td id=\"T_efe22_row14_col12\" class=\"data row14 col12\" >-0.015157</td>\n",
       "      <td id=\"T_efe22_row14_col13\" class=\"data row14 col13\" >-0.006699</td>\n",
       "      <td id=\"T_efe22_row14_col14\" class=\"data row14 col14\" >1.000000</td>\n",
       "      <td id=\"T_efe22_row14_col15\" class=\"data row14 col15\" >0.021732</td>\n",
       "      <td id=\"T_efe22_row14_col16\" class=\"data row14 col16\" >0.020645</td>\n",
       "      <td id=\"T_efe22_row14_col17\" class=\"data row14 col17\" >0.017401</td>\n",
       "      <td id=\"T_efe22_row14_col18\" class=\"data row14 col18\" >-0.025523</td>\n",
       "      <td id=\"T_efe22_row14_col19\" class=\"data row14 col19\" >0.023782</td>\n",
       "      <td id=\"T_efe22_row14_col20\" class=\"data row14 col20\" >0.028617</td>\n",
       "      <td id=\"T_efe22_row14_col21\" class=\"data row14 col21\" >-0.024230</td>\n",
       "      <td id=\"T_efe22_row14_col22\" class=\"data row14 col22\" >0.001039</td>\n",
       "    </tr>\n",
       "    <tr>\n",
       "      <th id=\"T_efe22_level0_row15\" class=\"row_heading level0 row15\" >SCC_yes</th>\n",
       "      <td id=\"T_efe22_row15_col0\" class=\"data row15 col0\" >-0.122787</td>\n",
       "      <td id=\"T_efe22_row15_col1\" class=\"data row15 col1\" >-0.101524</td>\n",
       "      <td id=\"T_efe22_row15_col2\" class=\"data row15 col2\" >-0.197761</td>\n",
       "      <td id=\"T_efe22_row15_col3\" class=\"data row15 col3\" >0.024800</td>\n",
       "      <td id=\"T_efe22_row15_col4\" class=\"data row15 col4\" >-0.003616</td>\n",
       "      <td id=\"T_efe22_row15_col5\" class=\"data row15 col5\" >-0.029639</td>\n",
       "      <td id=\"T_efe22_row15_col6\" class=\"data row15 col6\" >0.060368</td>\n",
       "      <td id=\"T_efe22_row15_col7\" class=\"data row15 col7\" >-0.017376</td>\n",
       "      <td id=\"T_efe22_row15_col8\" class=\"data row15 col8\" >-0.065596</td>\n",
       "      <td id=\"T_efe22_row15_col9\" class=\"data row15 col9\" >-0.169244</td>\n",
       "      <td id=\"T_efe22_row15_col10\" class=\"data row15 col10\" >-0.121892</td>\n",
       "      <td id=\"T_efe22_row15_col11\" class=\"data row15 col11\" >0.121463</td>\n",
       "      <td id=\"T_efe22_row15_col12\" class=\"data row15 col12\" >-0.129533</td>\n",
       "      <td id=\"T_efe22_row15_col13\" class=\"data row15 col13\" >0.027129</td>\n",
       "      <td id=\"T_efe22_row15_col14\" class=\"data row15 col14\" >0.021732</td>\n",
       "      <td id=\"T_efe22_row15_col15\" class=\"data row15 col15\" >1.000000</td>\n",
       "      <td id=\"T_efe22_row15_col16\" class=\"data row15 col16\" >0.011247</td>\n",
       "      <td id=\"T_efe22_row15_col17\" class=\"data row15 col17\" >-0.007864</td>\n",
       "      <td id=\"T_efe22_row15_col18\" class=\"data row15 col18\" >0.004004</td>\n",
       "      <td id=\"T_efe22_row15_col19\" class=\"data row15 col19\" >0.015522</td>\n",
       "      <td id=\"T_efe22_row15_col20\" class=\"data row15 col20\" >0.017269</td>\n",
       "      <td id=\"T_efe22_row15_col21\" class=\"data row15 col21\" >0.011197</td>\n",
       "      <td id=\"T_efe22_row15_col22\" class=\"data row15 col22\" >0.040430</td>\n",
       "    </tr>\n",
       "    <tr>\n",
       "      <th id=\"T_efe22_level0_row16\" class=\"row_heading level0 row16\" >CALC_Frequently</th>\n",
       "      <td id=\"T_efe22_row16_col0\" class=\"data row16 col0\" >0.034792</td>\n",
       "      <td id=\"T_efe22_row16_col1\" class=\"data row16 col1\" >0.039392</td>\n",
       "      <td id=\"T_efe22_row16_col2\" class=\"data row16 col2\" >-0.029353</td>\n",
       "      <td id=\"T_efe22_row16_col3\" class=\"data row16 col3\" >-0.034147</td>\n",
       "      <td id=\"T_efe22_row16_col4\" class=\"data row16 col4\" >-0.008646</td>\n",
       "      <td id=\"T_efe22_row16_col5\" class=\"data row16 col5\" >0.004934</td>\n",
       "      <td id=\"T_efe22_row16_col6\" class=\"data row16 col6\" >0.048124</td>\n",
       "      <td id=\"T_efe22_row16_col7\" class=\"data row16 col7\" >0.019906</td>\n",
       "      <td id=\"T_efe22_row16_col8\" class=\"data row16 col8\" >0.053367</td>\n",
       "      <td id=\"T_efe22_row16_col9\" class=\"data row16 col9\" >-0.018018</td>\n",
       "      <td id=\"T_efe22_row16_col10\" class=\"data row16 col10\" >-0.046385</td>\n",
       "      <td id=\"T_efe22_row16_col11\" class=\"data row16 col11\" >0.074575</td>\n",
       "      <td id=\"T_efe22_row16_col12\" class=\"data row16 col12\" >-0.079946</td>\n",
       "      <td id=\"T_efe22_row16_col13\" class=\"data row16 col13\" >-0.007706</td>\n",
       "      <td id=\"T_efe22_row16_col14\" class=\"data row16 col14\" >0.020645</td>\n",
       "      <td id=\"T_efe22_row16_col15\" class=\"data row16 col15\" >0.011247</td>\n",
       "      <td id=\"T_efe22_row16_col16\" class=\"data row16 col16\" >1.000000</td>\n",
       "      <td id=\"T_efe22_row16_col17\" class=\"data row16 col17\" >-0.263064</td>\n",
       "      <td id=\"T_efe22_row16_col18\" class=\"data row16 col18\" >-0.095709</td>\n",
       "      <td id=\"T_efe22_row16_col19\" class=\"data row16 col19\" >0.019758</td>\n",
       "      <td id=\"T_efe22_row16_col20\" class=\"data row16 col20\" >-0.007608</td>\n",
       "      <td id=\"T_efe22_row16_col21\" class=\"data row16 col21\" >-0.084289</td>\n",
       "      <td id=\"T_efe22_row16_col22\" class=\"data row16 col22\" >0.022574</td>\n",
       "    </tr>\n",
       "    <tr>\n",
       "      <th id=\"T_efe22_level0_row17\" class=\"row_heading level0 row17\" >CALC_Sometimes</th>\n",
       "      <td id=\"T_efe22_row17_col0\" class=\"data row17 col0\" >0.068689</td>\n",
       "      <td id=\"T_efe22_row17_col1\" class=\"data row17 col1\" >0.070876</td>\n",
       "      <td id=\"T_efe22_row17_col2\" class=\"data row17 col2\" >0.232108</td>\n",
       "      <td id=\"T_efe22_row17_col3\" class=\"data row17 col3\" >0.144070</td>\n",
       "      <td id=\"T_efe22_row17_col4\" class=\"data row17 col4\" >0.117077</td>\n",
       "      <td id=\"T_efe22_row17_col5\" class=\"data row17 col5\" >0.084251</td>\n",
       "      <td id=\"T_efe22_row17_col6\" class=\"data row17 col6\" >-0.122812</td>\n",
       "      <td id=\"T_efe22_row17_col7\" class=\"data row17 col7\" >-0.073039</td>\n",
       "      <td id=\"T_efe22_row17_col8\" class=\"data row17 col8\" >-0.075287</td>\n",
       "      <td id=\"T_efe22_row17_col9\" class=\"data row17 col9\" >0.007373</td>\n",
       "      <td id=\"T_efe22_row17_col10\" class=\"data row17 col10\" >0.120017</td>\n",
       "      <td id=\"T_efe22_row17_col11\" class=\"data row17 col11\" >-0.110215</td>\n",
       "      <td id=\"T_efe22_row17_col12\" class=\"data row17 col12\" >0.114082</td>\n",
       "      <td id=\"T_efe22_row17_col13\" class=\"data row17 col13\" >0.027971</td>\n",
       "      <td id=\"T_efe22_row17_col14\" class=\"data row17 col14\" >0.017401</td>\n",
       "      <td id=\"T_efe22_row17_col15\" class=\"data row17 col15\" >-0.007864</td>\n",
       "      <td id=\"T_efe22_row17_col16\" class=\"data row17 col16\" >-0.263064</td>\n",
       "      <td id=\"T_efe22_row17_col17\" class=\"data row17 col17\" >1.000000</td>\n",
       "      <td id=\"T_efe22_row17_col18\" class=\"data row17 col18\" >-0.935060</td>\n",
       "      <td id=\"T_efe22_row17_col19\" class=\"data row17 col19\" >-0.009624</td>\n",
       "      <td id=\"T_efe22_row17_col20\" class=\"data row17 col20\" >-0.017436</td>\n",
       "      <td id=\"T_efe22_row17_col21\" class=\"data row17 col21\" >0.077426</td>\n",
       "      <td id=\"T_efe22_row17_col22\" class=\"data row17 col22\" >-0.048135</td>\n",
       "    </tr>\n",
       "    <tr>\n",
       "      <th id=\"T_efe22_level0_row18\" class=\"row_heading level0 row18\" >CALC_no</th>\n",
       "      <td id=\"T_efe22_row18_col0\" class=\"data row18 col0\" >-0.083600</td>\n",
       "      <td id=\"T_efe22_row18_col1\" class=\"data row18 col1\" >-0.087594</td>\n",
       "      <td id=\"T_efe22_row18_col2\" class=\"data row18 col2\" >-0.228634</td>\n",
       "      <td id=\"T_efe22_row18_col3\" class=\"data row18 col3\" >-0.136038</td>\n",
       "      <td id=\"T_efe22_row18_col4\" class=\"data row18 col4\" >-0.117366</td>\n",
       "      <td id=\"T_efe22_row18_col5\" class=\"data row18 col5\" >-0.088748</td>\n",
       "      <td id=\"T_efe22_row18_col6\" class=\"data row18 col6\" >0.109026</td>\n",
       "      <td id=\"T_efe22_row18_col7\" class=\"data row18 col7\" >0.067865</td>\n",
       "      <td id=\"T_efe22_row18_col8\" class=\"data row18 col8\" >0.057986</td>\n",
       "      <td id=\"T_efe22_row18_col9\" class=\"data row18 col9\" >-0.001039</td>\n",
       "      <td id=\"T_efe22_row18_col10\" class=\"data row18 col10\" >-0.106835</td>\n",
       "      <td id=\"T_efe22_row18_col11\" class=\"data row18 col11\" >0.086066</td>\n",
       "      <td id=\"T_efe22_row18_col12\" class=\"data row18 col12\" >-0.088123</td>\n",
       "      <td id=\"T_efe22_row18_col13\" class=\"data row18 col13\" >-0.026019</td>\n",
       "      <td id=\"T_efe22_row18_col14\" class=\"data row18 col14\" >-0.025523</td>\n",
       "      <td id=\"T_efe22_row18_col15\" class=\"data row18 col15\" >0.004004</td>\n",
       "      <td id=\"T_efe22_row18_col16\" class=\"data row18 col16\" >-0.095709</td>\n",
       "      <td id=\"T_efe22_row18_col17\" class=\"data row18 col17\" >-0.935060</td>\n",
       "      <td id=\"T_efe22_row18_col18\" class=\"data row18 col18\" >1.000000</td>\n",
       "      <td id=\"T_efe22_row18_col19\" class=\"data row18 col19\" >0.002681</td>\n",
       "      <td id=\"T_efe22_row18_col20\" class=\"data row18 col20\" >0.020788</td>\n",
       "      <td id=\"T_efe22_row18_col21\" class=\"data row18 col21\" >-0.048741</td>\n",
       "      <td id=\"T_efe22_row18_col22\" class=\"data row18 col22\" >0.040720</td>\n",
       "    </tr>\n",
       "    <tr>\n",
       "      <th id=\"T_efe22_level0_row19\" class=\"row_heading level0 row19\" >MTRANS_Bike</th>\n",
       "      <td id=\"T_efe22_row19_col0\" class=\"data row19 col0\" >0.005529</td>\n",
       "      <td id=\"T_efe22_row19_col1\" class=\"data row19 col1\" >0.015755</td>\n",
       "      <td id=\"T_efe22_row19_col2\" class=\"data row19 col2\" >-0.018499</td>\n",
       "      <td id=\"T_efe22_row19_col3\" class=\"data row19 col3\" >-0.015276</td>\n",
       "      <td id=\"T_efe22_row19_col4\" class=\"data row19 col4\" >0.004776</td>\n",
       "      <td id=\"T_efe22_row19_col5\" class=\"data row19 col5\" >0.017475</td>\n",
       "      <td id=\"T_efe22_row19_col6\" class=\"data row19 col6\" >0.021663</td>\n",
       "      <td id=\"T_efe22_row19_col7\" class=\"data row19 col7\" >-0.017477</td>\n",
       "      <td id=\"T_efe22_row19_col8\" class=\"data row19 col8\" >0.026633</td>\n",
       "      <td id=\"T_efe22_row19_col9\" class=\"data row19 col9\" >-0.024806</td>\n",
       "      <td id=\"T_efe22_row19_col10\" class=\"data row19 col10\" >-0.035687</td>\n",
       "      <td id=\"T_efe22_row19_col11\" class=\"data row19 col11\" >-0.002044</td>\n",
       "      <td id=\"T_efe22_row19_col12\" class=\"data row19 col12\" >-0.014424</td>\n",
       "      <td id=\"T_efe22_row19_col13\" class=\"data row19 col13\" >0.013260</td>\n",
       "      <td id=\"T_efe22_row19_col14\" class=\"data row19 col14\" >0.023782</td>\n",
       "      <td id=\"T_efe22_row19_col15\" class=\"data row19 col15\" >0.015522</td>\n",
       "      <td id=\"T_efe22_row19_col16\" class=\"data row19 col16\" >0.019758</td>\n",
       "      <td id=\"T_efe22_row19_col17\" class=\"data row19 col17\" >-0.009624</td>\n",
       "      <td id=\"T_efe22_row19_col18\" class=\"data row19 col18\" >0.002681</td>\n",
       "      <td id=\"T_efe22_row19_col19\" class=\"data row19 col19\" >1.000000</td>\n",
       "      <td id=\"T_efe22_row19_col20\" class=\"data row19 col20\" >-0.001917</td>\n",
       "      <td id=\"T_efe22_row19_col21\" class=\"data row19 col21\" >-0.082357</td>\n",
       "      <td id=\"T_efe22_row19_col22\" class=\"data row19 col22\" >-0.006324</td>\n",
       "    </tr>\n",
       "    <tr>\n",
       "      <th id=\"T_efe22_level0_row20\" class=\"row_heading level0 row20\" >MTRANS_Motorbike</th>\n",
       "      <td id=\"T_efe22_row20_col0\" class=\"data row20 col0\" >0.013147</td>\n",
       "      <td id=\"T_efe22_row20_col1\" class=\"data row20 col1\" >0.000229</td>\n",
       "      <td id=\"T_efe22_row20_col2\" class=\"data row20 col2\" >-0.022699</td>\n",
       "      <td id=\"T_efe22_row20_col3\" class=\"data row20 col3\" >0.004088</td>\n",
       "      <td id=\"T_efe22_row20_col4\" class=\"data row20 col4\" >0.004036</td>\n",
       "      <td id=\"T_efe22_row20_col5\" class=\"data row20 col5\" >0.003986</td>\n",
       "      <td id=\"T_efe22_row20_col6\" class=\"data row20 col6\" >0.000657</td>\n",
       "      <td id=\"T_efe22_row20_col7\" class=\"data row20 col7\" >-0.021909</td>\n",
       "      <td id=\"T_efe22_row20_col8\" class=\"data row20 col8\" >0.020010</td>\n",
       "      <td id=\"T_efe22_row20_col9\" class=\"data row20 col9\" >-0.012777</td>\n",
       "      <td id=\"T_efe22_row20_col10\" class=\"data row20 col10\" >-0.025566</td>\n",
       "      <td id=\"T_efe22_row20_col11\" class=\"data row20 col11\" >0.018124</td>\n",
       "      <td id=\"T_efe22_row20_col12\" class=\"data row20 col12\" >-0.027081</td>\n",
       "      <td id=\"T_efe22_row20_col13\" class=\"data row20 col13\" >0.002610</td>\n",
       "      <td id=\"T_efe22_row20_col14\" class=\"data row20 col14\" >0.028617</td>\n",
       "      <td id=\"T_efe22_row20_col15\" class=\"data row20 col15\" >0.017269</td>\n",
       "      <td id=\"T_efe22_row20_col16\" class=\"data row20 col16\" >-0.007608</td>\n",
       "      <td id=\"T_efe22_row20_col17\" class=\"data row20 col17\" >-0.017436</td>\n",
       "      <td id=\"T_efe22_row20_col18\" class=\"data row20 col18\" >0.020788</td>\n",
       "      <td id=\"T_efe22_row20_col19\" class=\"data row20 col19\" >-0.001917</td>\n",
       "      <td id=\"T_efe22_row20_col20\" class=\"data row20 col20\" >1.000000</td>\n",
       "      <td id=\"T_efe22_row20_col21\" class=\"data row20 col21\" >-0.092334</td>\n",
       "      <td id=\"T_efe22_row20_col22\" class=\"data row20 col22\" >-0.007090</td>\n",
       "    </tr>\n",
       "    <tr>\n",
       "      <th id=\"T_efe22_level0_row21\" class=\"row_heading level0 row21\" >MTRANS_Public_Transportation</th>\n",
       "      <td id=\"T_efe22_row21_col0\" class=\"data row21 col0\" >-0.508627</td>\n",
       "      <td id=\"T_efe22_row21_col1\" class=\"data row21 col1\" >-0.069506</td>\n",
       "      <td id=\"T_efe22_row21_col2\" class=\"data row21 col2\" >0.015010</td>\n",
       "      <td id=\"T_efe22_row21_col3\" class=\"data row21 col3\" >0.080615</td>\n",
       "      <td id=\"T_efe22_row21_col4\" class=\"data row21 col4\" >-0.023783</td>\n",
       "      <td id=\"T_efe22_row21_col5\" class=\"data row21 col5\" >0.051277</td>\n",
       "      <td id=\"T_efe22_row21_col6\" class=\"data row21 col6\" >-0.033790</td>\n",
       "      <td id=\"T_efe22_row21_col7\" class=\"data row21 col7\" >0.173169</td>\n",
       "      <td id=\"T_efe22_row21_col8\" class=\"data row21 col8\" >-0.167653</td>\n",
       "      <td id=\"T_efe22_row21_col9\" class=\"data row21 col9\" >-0.059506</td>\n",
       "      <td id=\"T_efe22_row21_col10\" class=\"data row21 col10\" >0.035942</td>\n",
       "      <td id=\"T_efe22_row21_col11\" class=\"data row21 col11\" >0.060202</td>\n",
       "      <td id=\"T_efe22_row21_col12\" class=\"data row21 col12\" >-0.053849</td>\n",
       "      <td id=\"T_efe22_row21_col13\" class=\"data row21 col13\" >0.038906</td>\n",
       "      <td id=\"T_efe22_row21_col14\" class=\"data row21 col14\" >-0.024230</td>\n",
       "      <td id=\"T_efe22_row21_col15\" class=\"data row21 col15\" >0.011197</td>\n",
       "      <td id=\"T_efe22_row21_col16\" class=\"data row21 col16\" >-0.084289</td>\n",
       "      <td id=\"T_efe22_row21_col17\" class=\"data row21 col17\" >0.077426</td>\n",
       "      <td id=\"T_efe22_row21_col18\" class=\"data row21 col18\" >-0.048741</td>\n",
       "      <td id=\"T_efe22_row21_col19\" class=\"data row21 col19\" >-0.082357</td>\n",
       "      <td id=\"T_efe22_row21_col20\" class=\"data row21 col20\" >-0.092334</td>\n",
       "      <td id=\"T_efe22_row21_col21\" class=\"data row21 col21\" >1.000000</td>\n",
       "      <td id=\"T_efe22_row21_col22\" class=\"data row21 col22\" >-0.304545</td>\n",
       "    </tr>\n",
       "    <tr>\n",
       "      <th id=\"T_efe22_level0_row22\" class=\"row_heading level0 row22\" >MTRANS_Walking</th>\n",
       "      <td id=\"T_efe22_row22_col0\" class=\"data row22 col0\" >-0.089413</td>\n",
       "      <td id=\"T_efe22_row22_col1\" class=\"data row22 col1\" >0.040074</td>\n",
       "      <td id=\"T_efe22_row22_col2\" class=\"data row22 col2\" >-0.091959</td>\n",
       "      <td id=\"T_efe22_row22_col3\" class=\"data row22 col3\" >-0.004138</td>\n",
       "      <td id=\"T_efe22_row22_col4\" class=\"data row22 col4\" >0.034806</td>\n",
       "      <td id=\"T_efe22_row22_col5\" class=\"data row22 col5\" >0.014235</td>\n",
       "      <td id=\"T_efe22_row22_col6\" class=\"data row22 col6\" >0.100450</td>\n",
       "      <td id=\"T_efe22_row22_col7\" class=\"data row22 col7\" >0.046750</td>\n",
       "      <td id=\"T_efe22_row22_col8\" class=\"data row22 col8\" >0.060809</td>\n",
       "      <td id=\"T_efe22_row22_col9\" class=\"data row22 col9\" >-0.086273</td>\n",
       "      <td id=\"T_efe22_row22_col10\" class=\"data row22 col10\" >-0.124743</td>\n",
       "      <td id=\"T_efe22_row22_col11\" class=\"data row22 col11\" >0.045425</td>\n",
       "      <td id=\"T_efe22_row22_col12\" class=\"data row22 col12\" >-0.064466</td>\n",
       "      <td id=\"T_efe22_row22_col13\" class=\"data row22 col13\" >0.001955</td>\n",
       "      <td id=\"T_efe22_row22_col14\" class=\"data row22 col14\" >0.001039</td>\n",
       "      <td id=\"T_efe22_row22_col15\" class=\"data row22 col15\" >0.040430</td>\n",
       "      <td id=\"T_efe22_row22_col16\" class=\"data row22 col16\" >0.022574</td>\n",
       "      <td id=\"T_efe22_row22_col17\" class=\"data row22 col17\" >-0.048135</td>\n",
       "      <td id=\"T_efe22_row22_col18\" class=\"data row22 col18\" >0.040720</td>\n",
       "      <td id=\"T_efe22_row22_col19\" class=\"data row22 col19\" >-0.006324</td>\n",
       "      <td id=\"T_efe22_row22_col20\" class=\"data row22 col20\" >-0.007090</td>\n",
       "      <td id=\"T_efe22_row22_col21\" class=\"data row22 col21\" >-0.304545</td>\n",
       "      <td id=\"T_efe22_row22_col22\" class=\"data row22 col22\" >1.000000</td>\n",
       "    </tr>\n",
       "  </tbody>\n",
       "</table>\n"
      ],
      "text/plain": [
       "<pandas.io.formats.style.Styler at 0x7fe304eaaec0>"
      ]
     },
     "execution_count": 23,
     "metadata": {},
     "output_type": "execute_result"
    }
   ],
   "source": [
    "correlation = X.corr()\n",
    "correlation.style.background_gradient(cmap='crest')"
   ]
  },
  {
   "cell_type": "markdown",
   "id": "c21c1696",
   "metadata": {
    "papermill": {
     "duration": 0.039652,
     "end_time": "2024-02-07T12:19:16.117873",
     "exception": false,
     "start_time": "2024-02-07T12:19:16.078221",
     "status": "completed"
    },
    "tags": []
   },
   "source": [
    "<a id='12'></a>\n",
    "# <span style=\"color: #3cb371; border-bottom: 6px solid #03adfc; background-color: #fadb8c;\">🥩 12 - Define base models with tuned hyperparameters</span>"
   ]
  },
  {
   "cell_type": "markdown",
   "id": "35fdaa85",
   "metadata": {
    "papermill": {
     "duration": 0.039804,
     "end_time": "2024-02-07T12:19:16.197467",
     "exception": false,
     "start_time": "2024-02-07T12:19:16.157663",
     "status": "completed"
    },
    "tags": []
   },
   "source": [
    "## <span style=\"background-image: url(https://www.kaggle.com/competitions/68479/images/header); color: white; font-size: 30px;\">Random Forest</span>"
   ]
  },
  {
   "cell_type": "code",
   "execution_count": 24,
   "id": "2b931ed7",
   "metadata": {
    "_kg_hide-output": true,
    "execution": {
     "iopub.execute_input": "2024-02-07T12:19:16.278615Z",
     "iopub.status.busy": "2024-02-07T12:19:16.278182Z",
     "iopub.status.idle": "2024-02-07T12:19:16.285630Z",
     "shell.execute_reply": "2024-02-07T12:19:16.284817Z"
    },
    "papermill": {
     "duration": 0.050476,
     "end_time": "2024-02-07T12:19:16.287676",
     "exception": false,
     "start_time": "2024-02-07T12:19:16.237200",
     "status": "completed"
    },
    "tags": []
   },
   "outputs": [
    {
     "data": {
      "text/plain": [
       "{'n_estimators': 725,\n",
       " 'min_samples_split': 2,\n",
       " 'min_samples_leaf': 1,\n",
       " 'max_depth': 14}"
      ]
     },
     "execution_count": 24,
     "metadata": {},
     "output_type": "execute_result"
    }
   ],
   "source": [
    "# %%time\n",
    "# # Searching for best parameters of Random Forest\n",
    "\n",
    "# random = RandomForestClassifier(random_state=27)\n",
    "\n",
    "# parameters = {\n",
    "#     'n_estimators': range(50, 1000, 25),\n",
    "#     'max_depth': range(2, 30, 2),\n",
    "#     'min_samples_leaf': range(1, 101, 10),\n",
    "#     'min_samples_split': range(2, 101, 10)\n",
    "# }\n",
    "\n",
    "# random_search = RandomizedSearchCV(estimator=random, param_distributions=parameters, n_iter=20, n_jobs=-1, cv=5, verbose=4)\n",
    "# random_search.fit(X, y)\n",
    "# print(random_search.best_params_)\n",
    "\n",
    "{'n_estimators': 725, 'min_samples_split': 2, 'min_samples_leaf': 1, 'max_depth': 14}"
   ]
  },
  {
   "cell_type": "markdown",
   "id": "68799064",
   "metadata": {
    "papermill": {
     "duration": 0.039678,
     "end_time": "2024-02-07T12:19:16.367079",
     "exception": false,
     "start_time": "2024-02-07T12:19:16.327401",
     "status": "completed"
    },
    "tags": []
   },
   "source": [
    "## <span style=\"background-image: url(https://www.kaggle.com/competitions/68479/images/header); color: white; font-size: 30px;\">Cat Boost</span>"
   ]
  },
  {
   "cell_type": "code",
   "execution_count": 25,
   "id": "95489d55",
   "metadata": {
    "_kg_hide-output": true,
    "execution": {
     "iopub.execute_input": "2024-02-07T12:19:16.450522Z",
     "iopub.status.busy": "2024-02-07T12:19:16.449896Z",
     "iopub.status.idle": "2024-02-07T12:19:16.454625Z",
     "shell.execute_reply": "2024-02-07T12:19:16.453179Z"
    },
    "papermill": {
     "duration": 0.050484,
     "end_time": "2024-02-07T12:19:16.457388",
     "exception": false,
     "start_time": "2024-02-07T12:19:16.406904",
     "status": "completed"
    },
    "tags": []
   },
   "outputs": [],
   "source": [
    "# %%time\n",
    "# # Searching for best parameters of CatBoost\n",
    "\n",
    "# cat = CatBoostClassifier(learning_rate=0.1, random_state=26)\n",
    "\n",
    "# parameters = {\n",
    "#     'iterations': range(25, 1001, 25),\n",
    "#     'depth': range(2, 17),\n",
    "#     'learning_rate': [0.1, 0.05, 0.01, 0.005, 0.001]\n",
    "# }\n",
    "\n",
    "# random_search = RandomizedSearchCV(estimator=cat, param_distributions=parameters, n_iter=10, n_jobs=-1, cv=5, verbose=2)\n",
    "# random_search.fit(X, y)\n",
    "# print(random_search.best_params_)"
   ]
  },
  {
   "cell_type": "markdown",
   "id": "ae9956ea",
   "metadata": {
    "papermill": {
     "duration": 0.039566,
     "end_time": "2024-02-07T12:19:16.536660",
     "exception": false,
     "start_time": "2024-02-07T12:19:16.497094",
     "status": "completed"
    },
    "tags": []
   },
   "source": [
    "## <span style=\"background-image: url(https://www.kaggle.com/competitions/68479/images/header); color: white; font-size: 30px;\">LightGBM</span>"
   ]
  },
  {
   "cell_type": "code",
   "execution_count": 26,
   "id": "79111a50",
   "metadata": {
    "_kg_hide-output": true,
    "execution": {
     "iopub.execute_input": "2024-02-07T12:19:16.619636Z",
     "iopub.status.busy": "2024-02-07T12:19:16.618484Z",
     "iopub.status.idle": "2024-02-07T12:19:16.624352Z",
     "shell.execute_reply": "2024-02-07T12:19:16.622992Z"
    },
    "papermill": {
     "duration": 0.049665,
     "end_time": "2024-02-07T12:19:16.626805",
     "exception": false,
     "start_time": "2024-02-07T12:19:16.577140",
     "status": "completed"
    },
    "tags": []
   },
   "outputs": [],
   "source": [
    "# %%time\n",
    "# # Searching for best parameters of LightGBM\n",
    "\n",
    "# lgbm = LGBMClassifier(random_state=27)\n",
    "\n",
    "# lgbm_parameters = {\n",
    "#     'n_estimators': range(5, 1001, 10),\n",
    "#     'learning_rate': [0.01, 0.05, 0.1],\n",
    "#     'max_depth': range(2, 100, 2),\n",
    "# }\n",
    "\n",
    "# lgbm_random_search = RandomizedSearchCV(estimator=lgbm, param_distributions=lgbm_parameters, n_jobs=-1, cv=5, verbose=4)\n",
    "# lgbm_random_search.fit(X, y)\n",
    "# print(lgbm_random_search.best_params_)"
   ]
  },
  {
   "cell_type": "markdown",
   "id": "0ba63910",
   "metadata": {
    "papermill": {
     "duration": 0.039843,
     "end_time": "2024-02-07T12:19:16.706599",
     "exception": false,
     "start_time": "2024-02-07T12:19:16.666756",
     "status": "completed"
    },
    "tags": []
   },
   "source": [
    "## <span style=\"background-image: url(https://www.kaggle.com/competitions/68479/images/header); color: white; font-size: 30px;\">XGBoost</span>"
   ]
  },
  {
   "cell_type": "code",
   "execution_count": 27,
   "id": "b81d05ab",
   "metadata": {
    "_kg_hide-output": true,
    "execution": {
     "iopub.execute_input": "2024-02-07T12:19:16.789606Z",
     "iopub.status.busy": "2024-02-07T12:19:16.788853Z",
     "iopub.status.idle": "2024-02-07T12:19:16.794084Z",
     "shell.execute_reply": "2024-02-07T12:19:16.793193Z"
    },
    "papermill": {
     "duration": 0.049955,
     "end_time": "2024-02-07T12:19:16.796597",
     "exception": false,
     "start_time": "2024-02-07T12:19:16.746642",
     "status": "completed"
    },
    "tags": []
   },
   "outputs": [],
   "source": [
    "# %%time\n",
    "# # Searching for best parameters of XGBoost\n",
    "\n",
    "# xgb = XGBClassifier(random_state=27)\n",
    "\n",
    "# xgb_parameters = {\n",
    "#     'n_estimators': range(5, 1001, 10),\n",
    "#     'learning_rate': [0.001, 0.05, 0.01],\n",
    "#     'max_depth': range(2, 100, 4),\n",
    "# }\n",
    "\n",
    "# xgb_random_search = RandomizedSearchCV(estimator=xgb, param_distributions=xgb_parameters, n_iter=10, n_jobs=-1, cv=5, verbose=4)\n",
    "# xgb_random_search.fit(X, y)\n",
    "# print(f'Best params: {xgb_random_search.best_params_}')"
   ]
  },
  {
   "cell_type": "code",
   "execution_count": 28,
   "id": "23384d94",
   "metadata": {
    "execution": {
     "iopub.execute_input": "2024-02-07T12:19:16.878626Z",
     "iopub.status.busy": "2024-02-07T12:19:16.877884Z",
     "iopub.status.idle": "2024-02-07T12:19:16.888786Z",
     "shell.execute_reply": "2024-02-07T12:19:16.887729Z"
    },
    "papermill": {
     "duration": 0.054963,
     "end_time": "2024-02-07T12:19:16.891470",
     "exception": false,
     "start_time": "2024-02-07T12:19:16.836507",
     "status": "completed"
    },
    "tags": []
   },
   "outputs": [],
   "source": [
    "base_models = [\n",
    "    ('catboost', CatBoostClassifier(\n",
    "        iterations=50,\n",
    "        learning_rate=0.01,\n",
    "        depth=10,\n",
    "        random_state=27,\n",
    "    )),\n",
    "    ('xgboost', XGBClassifier(\n",
    "        n_estimators=50,\n",
    "        learning_rate=0.01,\n",
    "        max_depth=20,\n",
    "        random_state=27\n",
    "    )),\n",
    "    ('lightgbm', LGBMClassifier(\n",
    "        n_estimators=50,\n",
    "        learning_rate=0.05,\n",
    "        max_depth=32,\n",
    "        random_state=27,\n",
    "    )),\n",
    "    ('random_forest', RandomForestClassifier(\n",
    "        n_estimators=725,\n",
    "        min_samples_split=2,\n",
    "        min_samples_leaf=1,\n",
    "        max_depth=14,\n",
    "        random_state=27,\n",
    "    )),\n",
    "]"
   ]
  },
  {
   "cell_type": "markdown",
   "id": "5fa6746c",
   "metadata": {
    "papermill": {
     "duration": 0.039417,
     "end_time": "2024-02-07T12:19:16.970507",
     "exception": false,
     "start_time": "2024-02-07T12:19:16.931090",
     "status": "completed"
    },
    "tags": []
   },
   "source": [
    "<a id='13'></a>\n",
    "# <span style=\"color: #3cb371; border-bottom: 6px solid #03adfc; background-color: #fadb8c;\">🍩 13 - Defining the meta-model with tuned hyperparameters</span>"
   ]
  },
  {
   "cell_type": "code",
   "execution_count": 29,
   "id": "a4a68cbe",
   "metadata": {
    "execution": {
     "iopub.execute_input": "2024-02-07T12:19:17.052831Z",
     "iopub.status.busy": "2024-02-07T12:19:17.052071Z",
     "iopub.status.idle": "2024-02-07T12:19:17.057529Z",
     "shell.execute_reply": "2024-02-07T12:19:17.056646Z"
    },
    "papermill": {
     "duration": 0.049338,
     "end_time": "2024-02-07T12:19:17.059808",
     "exception": false,
     "start_time": "2024-02-07T12:19:17.010470",
     "status": "completed"
    },
    "tags": []
   },
   "outputs": [],
   "source": [
    "meta_model = CatBoostClassifier(\n",
    "    iterations=50,\n",
    "    learning_rate=0.01,\n",
    "    depth=10,\n",
    "    random_state=27\n",
    ")"
   ]
  },
  {
   "cell_type": "markdown",
   "id": "d61e7ee8",
   "metadata": {
    "papermill": {
     "duration": 0.039652,
     "end_time": "2024-02-07T12:19:17.140683",
     "exception": false,
     "start_time": "2024-02-07T12:19:17.101031",
     "status": "completed"
    },
    "tags": []
   },
   "source": [
    "<a id='14'></a>\n",
    "# <span style=\"color: #3cb371; border-bottom: 6px solid #03adfc; background-color: #fadb8c;\">🥗 14 - Creating and fitting the stacking model"
   ]
  },
  {
   "cell_type": "markdown",
   "id": "568f64f1",
   "metadata": {
    "papermill": {
     "duration": 0.039797,
     "end_time": "2024-02-07T12:19:17.220431",
     "exception": false,
     "start_time": "2024-02-07T12:19:17.180634",
     "status": "completed"
    },
    "tags": []
   },
   "source": [
    "![](https://qph.cf2.quoracdn.net/main-qimg-7f38ef83c49e23f246b792bf45f90ec1-lq)"
   ]
  },
  {
   "cell_type": "code",
   "execution_count": 30,
   "id": "554e592e",
   "metadata": {
    "execution": {
     "iopub.execute_input": "2024-02-07T12:19:17.303109Z",
     "iopub.status.busy": "2024-02-07T12:19:17.302642Z",
     "iopub.status.idle": "2024-02-07T12:22:57.404960Z",
     "shell.execute_reply": "2024-02-07T12:22:57.403807Z"
    },
    "papermill": {
     "duration": 220.147139,
     "end_time": "2024-02-07T12:22:57.407492",
     "exception": false,
     "start_time": "2024-02-07T12:19:17.260353",
     "status": "completed"
    },
    "tags": []
   },
   "outputs": [
    {
     "name": "stdout",
     "output_type": "stream",
     "text": [
      "0:\tlearn: 1.9095469\ttotal: 259ms\tremaining: 12.7s\n",
      "1:\tlearn: 1.8749263\ttotal: 407ms\tremaining: 9.78s\n",
      "2:\tlearn: 1.8410372\ttotal: 560ms\tremaining: 8.78s\n",
      "3:\tlearn: 1.8108332\ttotal: 717ms\tremaining: 8.25s\n",
      "4:\tlearn: 1.7809511\ttotal: 870ms\tremaining: 7.83s\n",
      "5:\tlearn: 1.7503136\ttotal: 1.03s\tremaining: 7.53s\n",
      "6:\tlearn: 1.7215569\ttotal: 1.18s\tremaining: 7.25s\n",
      "7:\tlearn: 1.6944001\ttotal: 1.33s\tremaining: 6.99s\n",
      "8:\tlearn: 1.6685270\ttotal: 1.49s\tremaining: 6.78s\n",
      "9:\tlearn: 1.6422174\ttotal: 1.64s\tremaining: 6.54s\n",
      "10:\tlearn: 1.6170277\ttotal: 1.78s\tremaining: 6.33s\n",
      "11:\tlearn: 1.5960764\ttotal: 1.94s\tremaining: 6.13s\n",
      "12:\tlearn: 1.5727147\ttotal: 2.09s\tremaining: 5.95s\n",
      "13:\tlearn: 1.5504775\ttotal: 2.24s\tremaining: 5.77s\n",
      "14:\tlearn: 1.5312275\ttotal: 2.4s\tremaining: 5.59s\n",
      "15:\tlearn: 1.5130905\ttotal: 2.55s\tremaining: 5.42s\n",
      "16:\tlearn: 1.4918103\ttotal: 2.72s\tremaining: 5.28s\n",
      "17:\tlearn: 1.4728855\ttotal: 2.87s\tremaining: 5.11s\n",
      "18:\tlearn: 1.4544165\ttotal: 3.03s\tremaining: 4.94s\n",
      "19:\tlearn: 1.4347601\ttotal: 3.17s\tremaining: 4.76s\n",
      "20:\tlearn: 1.4176596\ttotal: 3.32s\tremaining: 4.58s\n",
      "21:\tlearn: 1.4002691\ttotal: 3.47s\tremaining: 4.41s\n",
      "22:\tlearn: 1.3827855\ttotal: 3.62s\tremaining: 4.25s\n",
      "23:\tlearn: 1.3653360\ttotal: 3.78s\tremaining: 4.09s\n",
      "24:\tlearn: 1.3490862\ttotal: 3.93s\tremaining: 3.93s\n",
      "25:\tlearn: 1.3340802\ttotal: 4.08s\tremaining: 3.77s\n",
      "26:\tlearn: 1.3175251\ttotal: 4.24s\tremaining: 3.61s\n",
      "27:\tlearn: 1.3034806\ttotal: 4.39s\tremaining: 3.45s\n",
      "28:\tlearn: 1.2881301\ttotal: 4.54s\tremaining: 3.29s\n",
      "29:\tlearn: 1.2747210\ttotal: 4.7s\tremaining: 3.13s\n",
      "30:\tlearn: 1.2619013\ttotal: 4.85s\tremaining: 2.97s\n",
      "31:\tlearn: 1.2484871\ttotal: 5.01s\tremaining: 2.82s\n",
      "32:\tlearn: 1.2351063\ttotal: 5.16s\tremaining: 2.66s\n",
      "33:\tlearn: 1.2222656\ttotal: 5.31s\tremaining: 2.5s\n",
      "34:\tlearn: 1.2096685\ttotal: 5.46s\tremaining: 2.34s\n",
      "35:\tlearn: 1.1972901\ttotal: 5.61s\tremaining: 2.18s\n",
      "36:\tlearn: 1.1857722\ttotal: 5.76s\tremaining: 2.02s\n",
      "37:\tlearn: 1.1737667\ttotal: 5.91s\tremaining: 1.87s\n",
      "38:\tlearn: 1.1622967\ttotal: 6.07s\tremaining: 1.71s\n",
      "39:\tlearn: 1.1508906\ttotal: 6.23s\tremaining: 1.56s\n",
      "40:\tlearn: 1.1403532\ttotal: 6.39s\tremaining: 1.4s\n",
      "41:\tlearn: 1.1296720\ttotal: 6.54s\tremaining: 1.25s\n",
      "42:\tlearn: 1.1182327\ttotal: 6.69s\tremaining: 1.09s\n",
      "43:\tlearn: 1.1080045\ttotal: 6.84s\tremaining: 933ms\n",
      "44:\tlearn: 1.0972964\ttotal: 7s\tremaining: 778ms\n",
      "45:\tlearn: 1.0868846\ttotal: 7.17s\tremaining: 623ms\n",
      "46:\tlearn: 1.0773481\ttotal: 7.38s\tremaining: 471ms\n",
      "47:\tlearn: 1.0671549\ttotal: 7.59s\tremaining: 316ms\n",
      "48:\tlearn: 1.0572355\ttotal: 7.8s\tremaining: 159ms\n",
      "49:\tlearn: 1.0484509\ttotal: 8.05s\tremaining: 0us\n",
      "[LightGBM] [Warning] Accuracy may be bad since you didn't explicitly set num_leaves OR 2^max_depth > num_leaves. (num_leaves=31).\n",
      "[LightGBM] [Warning] Accuracy may be bad since you didn't explicitly set num_leaves OR 2^max_depth > num_leaves. (num_leaves=31).\n",
      "[LightGBM] [Info] Auto-choosing row-wise multi-threading, the overhead of testing was 0.007079 seconds.\n",
      "You can set `force_row_wise=true` to remove the overhead.\n",
      "And if memory is not enough, you can set `force_col_wise=true`.\n",
      "[LightGBM] [Info] Total Bins 2061\n",
      "[LightGBM] [Info] Number of data points in the train set: 22845, number of used features: 23\n",
      "[LightGBM] [Info] Start training from score -2.102691\n",
      "[LightGBM] [Info] Start training from score -1.915602\n",
      "[LightGBM] [Info] Start training from score -1.946698\n",
      "[LightGBM] [Info] Start training from score -1.863194\n",
      "[LightGBM] [Info] Start training from score -1.653969\n",
      "[LightGBM] [Info] Start training from score -2.134370\n",
      "[LightGBM] [Info] Start training from score -2.094836\n",
      "0:\tlearn: 1.9100679\ttotal: 143ms\tremaining: 6.99s\n",
      "1:\tlearn: 1.8766814\ttotal: 285ms\tremaining: 6.84s\n",
      "2:\tlearn: 1.8437567\ttotal: 438ms\tremaining: 6.86s\n",
      "3:\tlearn: 1.8130784\ttotal: 582ms\tremaining: 6.69s\n",
      "4:\tlearn: 1.7850091\ttotal: 721ms\tremaining: 6.49s\n",
      "5:\tlearn: 1.7550549\ttotal: 862ms\tremaining: 6.32s\n",
      "6:\tlearn: 1.7271084\ttotal: 1s\tremaining: 6.17s\n",
      "7:\tlearn: 1.7013604\ttotal: 1.16s\tremaining: 6.07s\n",
      "8:\tlearn: 1.6768312\ttotal: 1.3s\tremaining: 5.94s\n",
      "9:\tlearn: 1.6504877\ttotal: 1.44s\tremaining: 5.78s\n",
      "10:\tlearn: 1.6254941\ttotal: 1.59s\tremaining: 5.62s\n",
      "11:\tlearn: 1.6044193\ttotal: 1.73s\tremaining: 5.49s\n",
      "12:\tlearn: 1.5820566\ttotal: 1.88s\tremaining: 5.35s\n",
      "13:\tlearn: 1.5603228\ttotal: 2.02s\tremaining: 5.21s\n",
      "14:\tlearn: 1.5400115\ttotal: 2.19s\tremaining: 5.12s\n",
      "15:\tlearn: 1.5219284\ttotal: 2.35s\tremaining: 5s\n",
      "16:\tlearn: 1.5003797\ttotal: 2.5s\tremaining: 4.85s\n",
      "17:\tlearn: 1.4812623\ttotal: 2.64s\tremaining: 4.7s\n",
      "18:\tlearn: 1.4629293\ttotal: 2.78s\tremaining: 4.54s\n",
      "19:\tlearn: 1.4432247\ttotal: 2.93s\tremaining: 4.39s\n",
      "20:\tlearn: 1.4266268\ttotal: 3.08s\tremaining: 4.26s\n",
      "21:\tlearn: 1.4093896\ttotal: 3.28s\tremaining: 4.18s\n",
      "22:\tlearn: 1.3921970\ttotal: 3.47s\tremaining: 4.08s\n",
      "23:\tlearn: 1.3763863\ttotal: 3.67s\tremaining: 3.97s\n",
      "24:\tlearn: 1.3605667\ttotal: 3.85s\tremaining: 3.85s\n",
      "25:\tlearn: 1.3453676\ttotal: 4.03s\tremaining: 3.72s\n",
      "26:\tlearn: 1.3299820\ttotal: 4.21s\tremaining: 3.59s\n",
      "27:\tlearn: 1.3158667\ttotal: 4.39s\tremaining: 3.45s\n",
      "28:\tlearn: 1.3013313\ttotal: 4.57s\tremaining: 3.31s\n",
      "29:\tlearn: 1.2880543\ttotal: 4.74s\tremaining: 3.16s\n",
      "30:\tlearn: 1.2751058\ttotal: 4.89s\tremaining: 3s\n",
      "31:\tlearn: 1.2617121\ttotal: 5.04s\tremaining: 2.84s\n",
      "32:\tlearn: 1.2483900\ttotal: 5.19s\tremaining: 2.67s\n",
      "33:\tlearn: 1.2359066\ttotal: 5.33s\tremaining: 2.51s\n",
      "34:\tlearn: 1.2235625\ttotal: 5.48s\tremaining: 2.35s\n",
      "35:\tlearn: 1.2107196\ttotal: 5.63s\tremaining: 2.19s\n",
      "36:\tlearn: 1.1992416\ttotal: 5.78s\tremaining: 2.03s\n",
      "37:\tlearn: 1.1873038\ttotal: 5.92s\tremaining: 1.87s\n",
      "38:\tlearn: 1.1762823\ttotal: 6.07s\tremaining: 1.71s\n",
      "39:\tlearn: 1.1648233\ttotal: 6.22s\tremaining: 1.55s\n",
      "40:\tlearn: 1.1540723\ttotal: 6.37s\tremaining: 1.4s\n",
      "41:\tlearn: 1.1429942\ttotal: 6.51s\tremaining: 1.24s\n",
      "42:\tlearn: 1.1320692\ttotal: 6.65s\tremaining: 1.08s\n",
      "43:\tlearn: 1.1208117\ttotal: 6.79s\tremaining: 926ms\n",
      "44:\tlearn: 1.1098715\ttotal: 6.93s\tremaining: 770ms\n",
      "45:\tlearn: 1.0997577\ttotal: 7.08s\tremaining: 615ms\n",
      "46:\tlearn: 1.0898596\ttotal: 7.22s\tremaining: 461ms\n",
      "47:\tlearn: 1.0794940\ttotal: 7.36s\tremaining: 307ms\n",
      "48:\tlearn: 1.0698060\ttotal: 7.5s\tremaining: 153ms\n",
      "49:\tlearn: 1.0605754\ttotal: 7.65s\tremaining: 0us\n",
      "0:\tlearn: 1.9117197\ttotal: 144ms\tremaining: 7.07s\n",
      "1:\tlearn: 1.8776786\ttotal: 296ms\tremaining: 7.1s\n",
      "2:\tlearn: 1.8428650\ttotal: 443ms\tremaining: 6.94s\n",
      "3:\tlearn: 1.8122350\ttotal: 589ms\tremaining: 6.78s\n",
      "4:\tlearn: 1.7823355\ttotal: 729ms\tremaining: 6.56s\n",
      "5:\tlearn: 1.7539936\ttotal: 875ms\tremaining: 6.42s\n",
      "6:\tlearn: 1.7254082\ttotal: 1.01s\tremaining: 6.23s\n",
      "7:\tlearn: 1.6993704\ttotal: 1.16s\tremaining: 6.09s\n",
      "8:\tlearn: 1.6734717\ttotal: 1.3s\tremaining: 5.93s\n",
      "9:\tlearn: 1.6465256\ttotal: 1.45s\tremaining: 5.79s\n",
      "10:\tlearn: 1.6210325\ttotal: 1.59s\tremaining: 5.66s\n",
      "11:\tlearn: 1.5974358\ttotal: 1.74s\tremaining: 5.52s\n",
      "12:\tlearn: 1.5752918\ttotal: 1.89s\tremaining: 5.39s\n",
      "13:\tlearn: 1.5534167\ttotal: 2.04s\tremaining: 5.23s\n",
      "14:\tlearn: 1.5331986\ttotal: 2.18s\tremaining: 5.08s\n",
      "15:\tlearn: 1.5150882\ttotal: 2.33s\tremaining: 4.96s\n",
      "16:\tlearn: 1.4937890\ttotal: 2.48s\tremaining: 4.82s\n",
      "17:\tlearn: 1.4754438\ttotal: 2.63s\tremaining: 4.68s\n",
      "18:\tlearn: 1.4569496\ttotal: 2.78s\tremaining: 4.53s\n",
      "19:\tlearn: 1.4371471\ttotal: 2.92s\tremaining: 4.38s\n",
      "20:\tlearn: 1.4205838\ttotal: 3.06s\tremaining: 4.23s\n",
      "21:\tlearn: 1.4032644\ttotal: 3.21s\tremaining: 4.09s\n",
      "22:\tlearn: 1.3853923\ttotal: 3.36s\tremaining: 3.94s\n",
      "23:\tlearn: 1.3680506\ttotal: 3.5s\tremaining: 3.79s\n",
      "24:\tlearn: 1.3522071\ttotal: 3.64s\tremaining: 3.64s\n",
      "25:\tlearn: 1.3368864\ttotal: 3.79s\tremaining: 3.5s\n",
      "26:\tlearn: 1.3213283\ttotal: 3.93s\tremaining: 3.35s\n",
      "27:\tlearn: 1.3071253\ttotal: 4.07s\tremaining: 3.2s\n",
      "28:\tlearn: 1.2929287\ttotal: 4.22s\tremaining: 3.05s\n",
      "29:\tlearn: 1.2796006\ttotal: 4.39s\tremaining: 2.92s\n",
      "30:\tlearn: 1.2663759\ttotal: 4.55s\tremaining: 2.79s\n",
      "31:\tlearn: 1.2528170\ttotal: 4.7s\tremaining: 2.64s\n",
      "32:\tlearn: 1.2394511\ttotal: 4.84s\tremaining: 2.49s\n",
      "33:\tlearn: 1.2271069\ttotal: 4.99s\tremaining: 2.35s\n",
      "34:\tlearn: 1.2150187\ttotal: 5.13s\tremaining: 2.2s\n",
      "35:\tlearn: 1.2028225\ttotal: 5.27s\tremaining: 2.05s\n",
      "36:\tlearn: 1.1912448\ttotal: 5.42s\tremaining: 1.9s\n",
      "37:\tlearn: 1.1798255\ttotal: 5.56s\tremaining: 1.76s\n",
      "38:\tlearn: 1.1689899\ttotal: 5.72s\tremaining: 1.61s\n",
      "39:\tlearn: 1.1575445\ttotal: 5.86s\tremaining: 1.46s\n",
      "40:\tlearn: 1.1471402\ttotal: 6s\tremaining: 1.32s\n",
      "41:\tlearn: 1.1369133\ttotal: 6.15s\tremaining: 1.17s\n",
      "42:\tlearn: 1.1257237\ttotal: 6.29s\tremaining: 1.02s\n",
      "43:\tlearn: 1.1146922\ttotal: 6.43s\tremaining: 877ms\n",
      "44:\tlearn: 1.1047245\ttotal: 6.58s\tremaining: 732ms\n",
      "45:\tlearn: 1.0941154\ttotal: 6.72s\tremaining: 585ms\n",
      "46:\tlearn: 1.0846199\ttotal: 6.87s\tremaining: 438ms\n",
      "47:\tlearn: 1.0748199\ttotal: 7.01s\tremaining: 292ms\n",
      "48:\tlearn: 1.0651329\ttotal: 7.15s\tremaining: 146ms\n",
      "49:\tlearn: 1.0564335\ttotal: 7.3s\tremaining: 0us\n",
      "0:\tlearn: 1.9114318\ttotal: 152ms\tremaining: 7.47s\n",
      "1:\tlearn: 1.8773704\ttotal: 296ms\tremaining: 7.1s\n",
      "2:\tlearn: 1.8428284\ttotal: 439ms\tremaining: 6.88s\n",
      "3:\tlearn: 1.8119027\ttotal: 585ms\tremaining: 6.73s\n",
      "4:\tlearn: 1.7824730\ttotal: 730ms\tremaining: 6.57s\n",
      "5:\tlearn: 1.7510615\ttotal: 874ms\tremaining: 6.41s\n",
      "6:\tlearn: 1.7220976\ttotal: 1.02s\tremaining: 6.28s\n",
      "7:\tlearn: 1.6962879\ttotal: 1.18s\tremaining: 6.18s\n",
      "8:\tlearn: 1.6709608\ttotal: 1.32s\tremaining: 6s\n",
      "9:\tlearn: 1.6445126\ttotal: 1.46s\tremaining: 5.85s\n",
      "10:\tlearn: 1.6202724\ttotal: 1.61s\tremaining: 5.72s\n",
      "11:\tlearn: 1.5966958\ttotal: 1.75s\tremaining: 5.56s\n",
      "12:\tlearn: 1.5734463\ttotal: 1.91s\tremaining: 5.43s\n",
      "13:\tlearn: 1.5522236\ttotal: 2.05s\tremaining: 5.28s\n",
      "14:\tlearn: 1.5324015\ttotal: 2.19s\tremaining: 5.12s\n",
      "15:\tlearn: 1.5141463\ttotal: 2.34s\tremaining: 4.98s\n",
      "16:\tlearn: 1.4929591\ttotal: 2.48s\tremaining: 4.82s\n",
      "17:\tlearn: 1.4746837\ttotal: 2.64s\tremaining: 4.69s\n",
      "18:\tlearn: 1.4562114\ttotal: 2.79s\tremaining: 4.55s\n",
      "19:\tlearn: 1.4372627\ttotal: 2.94s\tremaining: 4.41s\n",
      "20:\tlearn: 1.4207471\ttotal: 3.08s\tremaining: 4.26s\n",
      "21:\tlearn: 1.4035132\ttotal: 3.23s\tremaining: 4.11s\n",
      "22:\tlearn: 1.3861994\ttotal: 3.37s\tremaining: 3.96s\n",
      "23:\tlearn: 1.3687984\ttotal: 3.51s\tremaining: 3.81s\n",
      "24:\tlearn: 1.3532647\ttotal: 3.66s\tremaining: 3.66s\n",
      "25:\tlearn: 1.3382318\ttotal: 3.8s\tremaining: 3.51s\n",
      "26:\tlearn: 1.3225601\ttotal: 3.95s\tremaining: 3.36s\n",
      "27:\tlearn: 1.3085178\ttotal: 4.09s\tremaining: 3.21s\n",
      "28:\tlearn: 1.2941786\ttotal: 4.24s\tremaining: 3.07s\n",
      "29:\tlearn: 1.2807131\ttotal: 4.38s\tremaining: 2.92s\n",
      "30:\tlearn: 1.2679880\ttotal: 4.53s\tremaining: 2.78s\n",
      "31:\tlearn: 1.2547551\ttotal: 4.67s\tremaining: 2.63s\n",
      "32:\tlearn: 1.2414611\ttotal: 4.82s\tremaining: 2.48s\n",
      "33:\tlearn: 1.2285217\ttotal: 4.96s\tremaining: 2.33s\n",
      "34:\tlearn: 1.2165482\ttotal: 5.1s\tremaining: 2.19s\n",
      "35:\tlearn: 1.2042683\ttotal: 5.25s\tremaining: 2.04s\n",
      "36:\tlearn: 1.1928975\ttotal: 5.4s\tremaining: 1.9s\n",
      "37:\tlearn: 1.1809920\ttotal: 5.54s\tremaining: 1.75s\n",
      "38:\tlearn: 1.1697986\ttotal: 5.7s\tremaining: 1.61s\n",
      "39:\tlearn: 1.1583132\ttotal: 5.84s\tremaining: 1.46s\n",
      "40:\tlearn: 1.1466947\ttotal: 5.99s\tremaining: 1.31s\n",
      "41:\tlearn: 1.1359566\ttotal: 6.12s\tremaining: 1.17s\n",
      "42:\tlearn: 1.1254754\ttotal: 6.27s\tremaining: 1.02s\n",
      "43:\tlearn: 1.1148470\ttotal: 6.41s\tremaining: 874ms\n",
      "44:\tlearn: 1.1048033\ttotal: 6.55s\tremaining: 728ms\n",
      "45:\tlearn: 1.0942865\ttotal: 6.7s\tremaining: 583ms\n",
      "46:\tlearn: 1.0848036\ttotal: 6.85s\tremaining: 437ms\n",
      "47:\tlearn: 1.0749627\ttotal: 7.03s\tremaining: 293ms\n",
      "48:\tlearn: 1.0646821\ttotal: 7.17s\tremaining: 146ms\n",
      "49:\tlearn: 1.0550176\ttotal: 7.33s\tremaining: 0us\n",
      "0:\tlearn: 1.9133391\ttotal: 155ms\tremaining: 7.58s\n",
      "1:\tlearn: 1.8769053\ttotal: 302ms\tremaining: 7.25s\n",
      "2:\tlearn: 1.8437782\ttotal: 456ms\tremaining: 7.14s\n",
      "3:\tlearn: 1.8131319\ttotal: 608ms\tremaining: 6.99s\n",
      "4:\tlearn: 1.7835093\ttotal: 757ms\tremaining: 6.82s\n",
      "5:\tlearn: 1.7523409\ttotal: 907ms\tremaining: 6.65s\n",
      "6:\tlearn: 1.7244882\ttotal: 1.05s\tremaining: 6.46s\n",
      "7:\tlearn: 1.6984226\ttotal: 1.19s\tremaining: 6.25s\n",
      "8:\tlearn: 1.6728813\ttotal: 1.34s\tremaining: 6.1s\n",
      "9:\tlearn: 1.6475033\ttotal: 1.49s\tremaining: 5.98s\n",
      "10:\tlearn: 1.6229020\ttotal: 1.64s\tremaining: 5.82s\n",
      "11:\tlearn: 1.6004272\ttotal: 1.79s\tremaining: 5.66s\n",
      "12:\tlearn: 1.5791165\ttotal: 1.94s\tremaining: 5.51s\n",
      "13:\tlearn: 1.5569105\ttotal: 2.08s\tremaining: 5.34s\n",
      "14:\tlearn: 1.5371131\ttotal: 2.22s\tremaining: 5.18s\n",
      "15:\tlearn: 1.5190178\ttotal: 2.37s\tremaining: 5.03s\n",
      "16:\tlearn: 1.4982287\ttotal: 2.52s\tremaining: 4.88s\n",
      "17:\tlearn: 1.4794227\ttotal: 2.67s\tremaining: 4.74s\n",
      "18:\tlearn: 1.4613183\ttotal: 2.8s\tremaining: 4.58s\n",
      "19:\tlearn: 1.4416981\ttotal: 2.95s\tremaining: 4.43s\n",
      "20:\tlearn: 1.4248051\ttotal: 3.1s\tremaining: 4.28s\n",
      "21:\tlearn: 1.4075458\ttotal: 3.25s\tremaining: 4.13s\n",
      "22:\tlearn: 1.3900506\ttotal: 3.39s\tremaining: 3.98s\n",
      "23:\tlearn: 1.3732799\ttotal: 3.54s\tremaining: 3.83s\n",
      "24:\tlearn: 1.3577482\ttotal: 3.68s\tremaining: 3.68s\n",
      "25:\tlearn: 1.3426280\ttotal: 3.83s\tremaining: 3.53s\n",
      "26:\tlearn: 1.3270694\ttotal: 3.97s\tremaining: 3.38s\n",
      "27:\tlearn: 1.3130229\ttotal: 4.12s\tremaining: 3.24s\n",
      "28:\tlearn: 1.2982901\ttotal: 4.27s\tremaining: 3.09s\n",
      "29:\tlearn: 1.2854671\ttotal: 4.42s\tremaining: 2.94s\n",
      "30:\tlearn: 1.2730682\ttotal: 4.56s\tremaining: 2.8s\n",
      "31:\tlearn: 1.2595575\ttotal: 4.71s\tremaining: 2.65s\n",
      "32:\tlearn: 1.2466746\ttotal: 4.86s\tremaining: 2.5s\n",
      "33:\tlearn: 1.2343575\ttotal: 5s\tremaining: 2.35s\n",
      "34:\tlearn: 1.2224928\ttotal: 5.14s\tremaining: 2.2s\n",
      "35:\tlearn: 1.2097525\ttotal: 5.29s\tremaining: 2.06s\n",
      "36:\tlearn: 1.1982009\ttotal: 5.44s\tremaining: 1.91s\n",
      "37:\tlearn: 1.1861980\ttotal: 5.59s\tremaining: 1.76s\n",
      "38:\tlearn: 1.1746186\ttotal: 5.73s\tremaining: 1.62s\n",
      "39:\tlearn: 1.1636323\ttotal: 5.87s\tremaining: 1.47s\n",
      "40:\tlearn: 1.1529509\ttotal: 6.01s\tremaining: 1.32s\n",
      "41:\tlearn: 1.1424856\ttotal: 6.17s\tremaining: 1.17s\n",
      "42:\tlearn: 1.1309779\ttotal: 6.3s\tremaining: 1.03s\n",
      "43:\tlearn: 1.1203702\ttotal: 6.46s\tremaining: 881ms\n",
      "44:\tlearn: 1.1105961\ttotal: 6.6s\tremaining: 734ms\n",
      "45:\tlearn: 1.1004741\ttotal: 6.74s\tremaining: 586ms\n",
      "46:\tlearn: 1.0907049\ttotal: 6.88s\tremaining: 439ms\n",
      "47:\tlearn: 1.0810204\ttotal: 7.03s\tremaining: 293ms\n",
      "48:\tlearn: 1.0711279\ttotal: 7.17s\tremaining: 146ms\n",
      "49:\tlearn: 1.0620850\ttotal: 7.32s\tremaining: 0us\n",
      "0:\tlearn: 1.9143079\ttotal: 152ms\tremaining: 7.45s\n",
      "1:\tlearn: 1.8789251\ttotal: 295ms\tremaining: 7.07s\n",
      "2:\tlearn: 1.8458412\ttotal: 438ms\tremaining: 6.86s\n",
      "3:\tlearn: 1.8163504\ttotal: 585ms\tremaining: 6.73s\n",
      "4:\tlearn: 1.7879457\ttotal: 750ms\tremaining: 6.75s\n",
      "5:\tlearn: 1.7579002\ttotal: 903ms\tremaining: 6.62s\n",
      "6:\tlearn: 1.7292195\ttotal: 1.05s\tremaining: 6.47s\n",
      "7:\tlearn: 1.7032299\ttotal: 1.2s\tremaining: 6.32s\n",
      "8:\tlearn: 1.6784039\ttotal: 1.35s\tremaining: 6.14s\n",
      "9:\tlearn: 1.6533032\ttotal: 1.49s\tremaining: 5.97s\n",
      "10:\tlearn: 1.6299192\ttotal: 1.64s\tremaining: 5.81s\n",
      "11:\tlearn: 1.6076999\ttotal: 1.78s\tremaining: 5.63s\n",
      "12:\tlearn: 1.5860704\ttotal: 1.92s\tremaining: 5.47s\n",
      "13:\tlearn: 1.5643458\ttotal: 2.07s\tremaining: 5.33s\n",
      "14:\tlearn: 1.5428959\ttotal: 2.26s\tremaining: 5.26s\n",
      "15:\tlearn: 1.5235231\ttotal: 2.41s\tremaining: 5.12s\n",
      "16:\tlearn: 1.5032967\ttotal: 2.55s\tremaining: 4.95s\n",
      "17:\tlearn: 1.4828819\ttotal: 2.7s\tremaining: 4.79s\n",
      "18:\tlearn: 1.4646983\ttotal: 2.84s\tremaining: 4.63s\n",
      "19:\tlearn: 1.4462939\ttotal: 2.98s\tremaining: 4.48s\n",
      "20:\tlearn: 1.4291084\ttotal: 3.13s\tremaining: 4.33s\n",
      "21:\tlearn: 1.4131652\ttotal: 3.27s\tremaining: 4.17s\n",
      "22:\tlearn: 1.3956708\ttotal: 3.42s\tremaining: 4.02s\n",
      "23:\tlearn: 1.3783846\ttotal: 3.57s\tremaining: 3.87s\n",
      "24:\tlearn: 1.3626221\ttotal: 3.71s\tremaining: 3.71s\n",
      "25:\tlearn: 1.3474996\ttotal: 3.85s\tremaining: 3.56s\n",
      "26:\tlearn: 1.3319652\ttotal: 4s\tremaining: 3.41s\n",
      "27:\tlearn: 1.3180126\ttotal: 4.15s\tremaining: 3.26s\n",
      "28:\tlearn: 1.3035547\ttotal: 4.3s\tremaining: 3.11s\n",
      "29:\tlearn: 1.2901101\ttotal: 4.44s\tremaining: 2.96s\n",
      "30:\tlearn: 1.2772382\ttotal: 4.59s\tremaining: 2.81s\n",
      "31:\tlearn: 1.2641245\ttotal: 4.74s\tremaining: 2.67s\n",
      "32:\tlearn: 1.2512164\ttotal: 4.88s\tremaining: 2.52s\n",
      "33:\tlearn: 1.2382718\ttotal: 5.03s\tremaining: 2.37s\n",
      "34:\tlearn: 1.2265538\ttotal: 5.23s\tremaining: 2.24s\n",
      "35:\tlearn: 1.2144415\ttotal: 5.42s\tremaining: 2.11s\n",
      "36:\tlearn: 1.2030029\ttotal: 5.63s\tremaining: 1.98s\n",
      "37:\tlearn: 1.1914371\ttotal: 5.81s\tremaining: 1.83s\n",
      "38:\tlearn: 1.1795953\ttotal: 5.99s\tremaining: 1.69s\n",
      "39:\tlearn: 1.1680739\ttotal: 6.16s\tremaining: 1.54s\n",
      "40:\tlearn: 1.1575503\ttotal: 6.34s\tremaining: 1.39s\n",
      "41:\tlearn: 1.1468038\ttotal: 6.52s\tremaining: 1.24s\n",
      "42:\tlearn: 1.1353995\ttotal: 6.71s\tremaining: 1.09s\n",
      "43:\tlearn: 1.1250986\ttotal: 6.86s\tremaining: 935ms\n",
      "44:\tlearn: 1.1151192\ttotal: 7s\tremaining: 778ms\n",
      "45:\tlearn: 1.1051695\ttotal: 7.14s\tremaining: 621ms\n",
      "46:\tlearn: 1.0949011\ttotal: 7.28s\tremaining: 465ms\n",
      "47:\tlearn: 1.0851917\ttotal: 7.42s\tremaining: 309ms\n",
      "48:\tlearn: 1.0756911\ttotal: 7.57s\tremaining: 154ms\n",
      "49:\tlearn: 1.0666383\ttotal: 7.71s\tremaining: 0us\n",
      "[LightGBM] [Warning] Accuracy may be bad since you didn't explicitly set num_leaves OR 2^max_depth > num_leaves. (num_leaves=31).\n",
      "[LightGBM] [Warning] Accuracy may be bad since you didn't explicitly set num_leaves OR 2^max_depth > num_leaves. (num_leaves=31).\n",
      "[LightGBM] [Info] Auto-choosing row-wise multi-threading, the overhead of testing was 0.004427 seconds.\n",
      "You can set `force_row_wise=true` to remove the overhead.\n",
      "And if memory is not enough, you can set `force_col_wise=true`.\n",
      "[LightGBM] [Info] Total Bins 2058\n",
      "[LightGBM] [Info] Number of data points in the train set: 18276, number of used features: 23\n",
      "[LightGBM] [Info] Start training from score -2.102691\n",
      "[LightGBM] [Info] Start training from score -1.915676\n",
      "[LightGBM] [Info] Start training from score -1.946622\n",
      "[LightGBM] [Info] Start training from score -1.863194\n",
      "[LightGBM] [Info] Start training from score -1.653969\n",
      "[LightGBM] [Info] Start training from score -2.134093\n",
      "[LightGBM] [Info] Start training from score -2.095103\n",
      "[LightGBM] [Warning] Accuracy may be bad since you didn't explicitly set num_leaves OR 2^max_depth > num_leaves. (num_leaves=31).\n",
      "[LightGBM] [Warning] Accuracy may be bad since you didn't explicitly set num_leaves OR 2^max_depth > num_leaves. (num_leaves=31).\n",
      "[LightGBM] [Warning] Accuracy may be bad since you didn't explicitly set num_leaves OR 2^max_depth > num_leaves. (num_leaves=31).\n",
      "[LightGBM] [Info] Auto-choosing row-wise multi-threading, the overhead of testing was 0.004434 seconds.\n",
      "You can set `force_row_wise=true` to remove the overhead.\n",
      "And if memory is not enough, you can set `force_col_wise=true`.\n",
      "[LightGBM] [Info] Total Bins 2060\n",
      "[LightGBM] [Info] Number of data points in the train set: 18276, number of used features: 23\n",
      "[LightGBM] [Info] Start training from score -2.102691\n",
      "[LightGBM] [Info] Start training from score -1.915304\n",
      "[LightGBM] [Info] Start training from score -1.946622\n",
      "[LightGBM] [Info] Start training from score -1.863194\n",
      "[LightGBM] [Info] Start training from score -1.653969\n",
      "[LightGBM] [Info] Start training from score -2.134555\n",
      "[LightGBM] [Info] Start training from score -2.095103\n",
      "[LightGBM] [Warning] Accuracy may be bad since you didn't explicitly set num_leaves OR 2^max_depth > num_leaves. (num_leaves=31).\n",
      "[LightGBM] [Warning] Accuracy may be bad since you didn't explicitly set num_leaves OR 2^max_depth > num_leaves. (num_leaves=31).\n",
      "[LightGBM] [Warning] Accuracy may be bad since you didn't explicitly set num_leaves OR 2^max_depth > num_leaves. (num_leaves=31).\n",
      "[LightGBM] [Info] Auto-choosing row-wise multi-threading, the overhead of testing was 0.004464 seconds.\n",
      "You can set `force_row_wise=true` to remove the overhead.\n",
      "And if memory is not enough, you can set `force_col_wise=true`.\n",
      "[LightGBM] [Info] Total Bins 2061\n",
      "[LightGBM] [Info] Number of data points in the train set: 18276, number of used features: 23\n",
      "[LightGBM] [Info] Start training from score -2.102691\n",
      "[LightGBM] [Info] Start training from score -1.915676\n",
      "[LightGBM] [Info] Start training from score -1.946622\n",
      "[LightGBM] [Info] Start training from score -1.863194\n",
      "[LightGBM] [Info] Start training from score -1.653969\n",
      "[LightGBM] [Info] Start training from score -2.134555\n",
      "[LightGBM] [Info] Start training from score -2.094659\n",
      "[LightGBM] [Warning] Accuracy may be bad since you didn't explicitly set num_leaves OR 2^max_depth > num_leaves. (num_leaves=31).\n",
      "[LightGBM] [Warning] Accuracy may be bad since you didn't explicitly set num_leaves OR 2^max_depth > num_leaves. (num_leaves=31).\n",
      "[LightGBM] [Warning] Accuracy may be bad since you didn't explicitly set num_leaves OR 2^max_depth > num_leaves. (num_leaves=31).\n",
      "[LightGBM] [Info] Auto-choosing row-wise multi-threading, the overhead of testing was 0.004594 seconds.\n",
      "You can set `force_row_wise=true` to remove the overhead.\n",
      "And if memory is not enough, you can set `force_col_wise=true`.\n",
      "[LightGBM] [Info] Total Bins 2059\n",
      "[LightGBM] [Info] Number of data points in the train set: 18276, number of used features: 23\n",
      "[LightGBM] [Info] Start training from score -2.102691\n",
      "[LightGBM] [Info] Start training from score -1.915676\n",
      "[LightGBM] [Info] Start training from score -1.946622\n",
      "[LightGBM] [Info] Start training from score -1.863194\n",
      "[LightGBM] [Info] Start training from score -1.653969\n",
      "[LightGBM] [Info] Start training from score -2.134555\n",
      "[LightGBM] [Info] Start training from score -2.094659\n",
      "[LightGBM] [Warning] Accuracy may be bad since you didn't explicitly set num_leaves OR 2^max_depth > num_leaves. (num_leaves=31).\n",
      "[LightGBM] [Warning] Accuracy may be bad since you didn't explicitly set num_leaves OR 2^max_depth > num_leaves. (num_leaves=31).\n",
      "[LightGBM] [Warning] Accuracy may be bad since you didn't explicitly set num_leaves OR 2^max_depth > num_leaves. (num_leaves=31).\n",
      "[LightGBM] [Info] Auto-choosing row-wise multi-threading, the overhead of testing was 0.004781 seconds.\n",
      "You can set `force_row_wise=true` to remove the overhead.\n",
      "And if memory is not enough, you can set `force_col_wise=true`.\n",
      "[LightGBM] [Info] Total Bins 2055\n",
      "[LightGBM] [Info] Number of data points in the train set: 18276, number of used features: 23\n",
      "[LightGBM] [Info] Start training from score -2.102691\n",
      "[LightGBM] [Info] Start training from score -1.915676\n",
      "[LightGBM] [Info] Start training from score -1.947005\n",
      "[LightGBM] [Info] Start training from score -1.863194\n",
      "[LightGBM] [Info] Start training from score -1.653969\n",
      "[LightGBM] [Info] Start training from score -2.134093\n",
      "[LightGBM] [Info] Start training from score -2.094659\n",
      "[LightGBM] [Warning] Accuracy may be bad since you didn't explicitly set num_leaves OR 2^max_depth > num_leaves. (num_leaves=31).\n",
      "0:\tlearn: 1.8983296\ttotal: 354ms\tremaining: 17.3s\n",
      "1:\tlearn: 1.8533106\ttotal: 722ms\tremaining: 17.3s\n",
      "2:\tlearn: 1.8116108\ttotal: 1.08s\tremaining: 16.9s\n",
      "3:\tlearn: 1.7719351\ttotal: 1.43s\tremaining: 16.5s\n",
      "4:\tlearn: 1.7343269\ttotal: 1.78s\tremaining: 16.1s\n",
      "5:\tlearn: 1.6984313\ttotal: 2.14s\tremaining: 15.7s\n",
      "6:\tlearn: 1.6641535\ttotal: 2.49s\tremaining: 15.3s\n",
      "7:\tlearn: 1.6317203\ttotal: 2.85s\tremaining: 15s\n",
      "8:\tlearn: 1.6007207\ttotal: 3.2s\tremaining: 14.6s\n",
      "9:\tlearn: 1.5709897\ttotal: 3.54s\tremaining: 14.2s\n",
      "10:\tlearn: 1.5426176\ttotal: 3.9s\tremaining: 13.8s\n",
      "11:\tlearn: 1.5156672\ttotal: 4.25s\tremaining: 13.5s\n",
      "12:\tlearn: 1.4896770\ttotal: 4.62s\tremaining: 13.1s\n",
      "13:\tlearn: 1.4643538\ttotal: 4.97s\tremaining: 12.8s\n",
      "14:\tlearn: 1.4401927\ttotal: 5.33s\tremaining: 12.4s\n",
      "15:\tlearn: 1.4168383\ttotal: 5.69s\tremaining: 12.1s\n",
      "16:\tlearn: 1.3938384\ttotal: 6.09s\tremaining: 11.8s\n",
      "17:\tlearn: 1.3721808\ttotal: 6.44s\tremaining: 11.5s\n",
      "18:\tlearn: 1.3512981\ttotal: 6.81s\tremaining: 11.1s\n",
      "19:\tlearn: 1.3308066\ttotal: 7.17s\tremaining: 10.8s\n",
      "20:\tlearn: 1.3110489\ttotal: 7.52s\tremaining: 10.4s\n",
      "21:\tlearn: 1.2920096\ttotal: 7.9s\tremaining: 10s\n",
      "22:\tlearn: 1.2733137\ttotal: 8.26s\tremaining: 9.7s\n",
      "23:\tlearn: 1.2549422\ttotal: 8.62s\tremaining: 9.34s\n",
      "24:\tlearn: 1.2374574\ttotal: 8.97s\tremaining: 8.97s\n",
      "25:\tlearn: 1.2207554\ttotal: 9.32s\tremaining: 8.6s\n",
      "26:\tlearn: 1.2041302\ttotal: 9.67s\tremaining: 8.24s\n",
      "27:\tlearn: 1.1879010\ttotal: 10s\tremaining: 7.88s\n",
      "28:\tlearn: 1.1722883\ttotal: 10.4s\tremaining: 7.51s\n",
      "29:\tlearn: 1.1571905\ttotal: 10.7s\tremaining: 7.15s\n",
      "30:\tlearn: 1.1420695\ttotal: 11.1s\tremaining: 6.79s\n",
      "31:\tlearn: 1.1276191\ttotal: 11.4s\tremaining: 6.43s\n",
      "32:\tlearn: 1.1133992\ttotal: 11.8s\tremaining: 6.07s\n",
      "33:\tlearn: 1.0997748\ttotal: 12.1s\tremaining: 5.71s\n",
      "34:\tlearn: 1.0862896\ttotal: 12.5s\tremaining: 5.36s\n",
      "35:\tlearn: 1.0730932\ttotal: 12.9s\tremaining: 5s\n",
      "36:\tlearn: 1.0605739\ttotal: 13.2s\tremaining: 4.64s\n",
      "37:\tlearn: 1.0480444\ttotal: 13.6s\tremaining: 4.28s\n",
      "38:\tlearn: 1.0358038\ttotal: 13.9s\tremaining: 3.92s\n",
      "39:\tlearn: 1.0238150\ttotal: 14.3s\tremaining: 3.56s\n",
      "40:\tlearn: 1.0122812\ttotal: 14.6s\tremaining: 3.21s\n",
      "41:\tlearn: 1.0008028\ttotal: 15s\tremaining: 2.85s\n",
      "42:\tlearn: 0.9897681\ttotal: 15.3s\tremaining: 2.49s\n",
      "43:\tlearn: 0.9788421\ttotal: 15.7s\tremaining: 2.14s\n",
      "44:\tlearn: 0.9682189\ttotal: 16.1s\tremaining: 1.78s\n",
      "45:\tlearn: 0.9578585\ttotal: 16.4s\tremaining: 1.43s\n",
      "46:\tlearn: 0.9476247\ttotal: 16.8s\tremaining: 1.07s\n",
      "47:\tlearn: 0.9376375\ttotal: 17.1s\tremaining: 714ms\n",
      "48:\tlearn: 0.9277985\ttotal: 17.5s\tremaining: 357ms\n",
      "49:\tlearn: 0.9181937\ttotal: 17.8s\tremaining: 0us\n",
      "CPU times: user 6min 23s, sys: 5.24 s, total: 6min 28s\n",
      "Wall time: 3min 40s\n"
     ]
    },
    {
     "data": {
      "text/html": [
       "<style>#sk-container-id-1 {color: black;background-color: white;}#sk-container-id-1 pre{padding: 0;}#sk-container-id-1 div.sk-toggleable {background-color: white;}#sk-container-id-1 label.sk-toggleable__label {cursor: pointer;display: block;width: 100%;margin-bottom: 0;padding: 0.3em;box-sizing: border-box;text-align: center;}#sk-container-id-1 label.sk-toggleable__label-arrow:before {content: \"▸\";float: left;margin-right: 0.25em;color: #696969;}#sk-container-id-1 label.sk-toggleable__label-arrow:hover:before {color: black;}#sk-container-id-1 div.sk-estimator:hover label.sk-toggleable__label-arrow:before {color: black;}#sk-container-id-1 div.sk-toggleable__content {max-height: 0;max-width: 0;overflow: hidden;text-align: left;background-color: #f0f8ff;}#sk-container-id-1 div.sk-toggleable__content pre {margin: 0.2em;color: black;border-radius: 0.25em;background-color: #f0f8ff;}#sk-container-id-1 input.sk-toggleable__control:checked~div.sk-toggleable__content {max-height: 200px;max-width: 100%;overflow: auto;}#sk-container-id-1 input.sk-toggleable__control:checked~label.sk-toggleable__label-arrow:before {content: \"▾\";}#sk-container-id-1 div.sk-estimator input.sk-toggleable__control:checked~label.sk-toggleable__label {background-color: #d4ebff;}#sk-container-id-1 div.sk-label input.sk-toggleable__control:checked~label.sk-toggleable__label {background-color: #d4ebff;}#sk-container-id-1 input.sk-hidden--visually {border: 0;clip: rect(1px 1px 1px 1px);clip: rect(1px, 1px, 1px, 1px);height: 1px;margin: -1px;overflow: hidden;padding: 0;position: absolute;width: 1px;}#sk-container-id-1 div.sk-estimator {font-family: monospace;background-color: #f0f8ff;border: 1px dotted black;border-radius: 0.25em;box-sizing: border-box;margin-bottom: 0.5em;}#sk-container-id-1 div.sk-estimator:hover {background-color: #d4ebff;}#sk-container-id-1 div.sk-parallel-item::after {content: \"\";width: 100%;border-bottom: 1px solid gray;flex-grow: 1;}#sk-container-id-1 div.sk-label:hover label.sk-toggleable__label {background-color: #d4ebff;}#sk-container-id-1 div.sk-serial::before {content: \"\";position: absolute;border-left: 1px solid gray;box-sizing: border-box;top: 0;bottom: 0;left: 50%;z-index: 0;}#sk-container-id-1 div.sk-serial {display: flex;flex-direction: column;align-items: center;background-color: white;padding-right: 0.2em;padding-left: 0.2em;position: relative;}#sk-container-id-1 div.sk-item {position: relative;z-index: 1;}#sk-container-id-1 div.sk-parallel {display: flex;align-items: stretch;justify-content: center;background-color: white;position: relative;}#sk-container-id-1 div.sk-item::before, #sk-container-id-1 div.sk-parallel-item::before {content: \"\";position: absolute;border-left: 1px solid gray;box-sizing: border-box;top: 0;bottom: 0;left: 50%;z-index: -1;}#sk-container-id-1 div.sk-parallel-item {display: flex;flex-direction: column;z-index: 1;position: relative;background-color: white;}#sk-container-id-1 div.sk-parallel-item:first-child::after {align-self: flex-end;width: 50%;}#sk-container-id-1 div.sk-parallel-item:last-child::after {align-self: flex-start;width: 50%;}#sk-container-id-1 div.sk-parallel-item:only-child::after {width: 0;}#sk-container-id-1 div.sk-dashed-wrapped {border: 1px dashed gray;margin: 0 0.4em 0.5em 0.4em;box-sizing: border-box;padding-bottom: 0.4em;background-color: white;}#sk-container-id-1 div.sk-label label {font-family: monospace;font-weight: bold;display: inline-block;line-height: 1.2em;}#sk-container-id-1 div.sk-label-container {text-align: center;}#sk-container-id-1 div.sk-container {/* jupyter's `normalize.less` sets `[hidden] { display: none; }` but bootstrap.min.css set `[hidden] { display: none !important; }` so we also need the `!important` here to be able to override the default hidden behavior on the sphinx rendered scikit-learn.org. See: https://github.com/scikit-learn/scikit-learn/issues/21755 */display: inline-block !important;position: relative;}#sk-container-id-1 div.sk-text-repr-fallback {display: none;}</style><div id=\"sk-container-id-1\" class=\"sk-top-container\"><div class=\"sk-text-repr-fallback\"><pre>StackingClassifier(estimators=[(&#x27;catboost&#x27;,\n",
       "                                &lt;catboost.core.CatBoostClassifier object at 0x7fe304ec6f50&gt;),\n",
       "                               (&#x27;xgboost&#x27;,\n",
       "                                XGBClassifier(base_score=None, booster=None,\n",
       "                                              callbacks=None,\n",
       "                                              colsample_bylevel=None,\n",
       "                                              colsample_bynode=None,\n",
       "                                              colsample_bytree=None,\n",
       "                                              device=None,\n",
       "                                              early_stopping_rounds=None,\n",
       "                                              enable_categorical=False,\n",
       "                                              eval_metric=None,\n",
       "                                              feature_types=None, gamma=None,\n",
       "                                              gr...\n",
       "                                              monotone_constraints=None,\n",
       "                                              multi_strategy=None,\n",
       "                                              n_estimators=50, n_jobs=None,\n",
       "                                              num_parallel_tree=None,\n",
       "                                              random_state=27, ...)),\n",
       "                               (&#x27;lightgbm&#x27;,\n",
       "                                LGBMClassifier(learning_rate=0.05, max_depth=32,\n",
       "                                               n_estimators=50,\n",
       "                                               random_state=27)),\n",
       "                               (&#x27;random_forest&#x27;,\n",
       "                                RandomForestClassifier(max_depth=14,\n",
       "                                                       n_estimators=725,\n",
       "                                                       random_state=27))],\n",
       "                   final_estimator=&lt;catboost.core.CatBoostClassifier object at 0x7fe304eaab30&gt;)</pre><b>In a Jupyter environment, please rerun this cell to show the HTML representation or trust the notebook. <br />On GitHub, the HTML representation is unable to render, please try loading this page with nbviewer.org.</b></div><div class=\"sk-container\" hidden><div class=\"sk-item sk-dashed-wrapped\"><div class=\"sk-label-container\"><div class=\"sk-label sk-toggleable\"><input class=\"sk-toggleable__control sk-hidden--visually\" id=\"sk-estimator-id-1\" type=\"checkbox\" ><label for=\"sk-estimator-id-1\" class=\"sk-toggleable__label sk-toggleable__label-arrow\">StackingClassifier</label><div class=\"sk-toggleable__content\"><pre>StackingClassifier(estimators=[(&#x27;catboost&#x27;,\n",
       "                                &lt;catboost.core.CatBoostClassifier object at 0x7fe304ec6f50&gt;),\n",
       "                               (&#x27;xgboost&#x27;,\n",
       "                                XGBClassifier(base_score=None, booster=None,\n",
       "                                              callbacks=None,\n",
       "                                              colsample_bylevel=None,\n",
       "                                              colsample_bynode=None,\n",
       "                                              colsample_bytree=None,\n",
       "                                              device=None,\n",
       "                                              early_stopping_rounds=None,\n",
       "                                              enable_categorical=False,\n",
       "                                              eval_metric=None,\n",
       "                                              feature_types=None, gamma=None,\n",
       "                                              gr...\n",
       "                                              monotone_constraints=None,\n",
       "                                              multi_strategy=None,\n",
       "                                              n_estimators=50, n_jobs=None,\n",
       "                                              num_parallel_tree=None,\n",
       "                                              random_state=27, ...)),\n",
       "                               (&#x27;lightgbm&#x27;,\n",
       "                                LGBMClassifier(learning_rate=0.05, max_depth=32,\n",
       "                                               n_estimators=50,\n",
       "                                               random_state=27)),\n",
       "                               (&#x27;random_forest&#x27;,\n",
       "                                RandomForestClassifier(max_depth=14,\n",
       "                                                       n_estimators=725,\n",
       "                                                       random_state=27))],\n",
       "                   final_estimator=&lt;catboost.core.CatBoostClassifier object at 0x7fe304eaab30&gt;)</pre></div></div></div><div class=\"sk-serial\"><div class=\"sk-item\"><div class=\"sk-parallel\"><div class=\"sk-parallel-item\"><div class=\"sk-item\"><div class=\"sk-label-container\"><div class=\"sk-label sk-toggleable\"><label>catboost</label></div></div><div class=\"sk-serial\"><div class=\"sk-item\"><div class=\"sk-estimator sk-toggleable\"><input class=\"sk-toggleable__control sk-hidden--visually\" id=\"sk-estimator-id-2\" type=\"checkbox\" ><label for=\"sk-estimator-id-2\" class=\"sk-toggleable__label sk-toggleable__label-arrow\">CatBoostClassifier</label><div class=\"sk-toggleable__content\"><pre>&lt;catboost.core.CatBoostClassifier object at 0x7fe304ec6f50&gt;</pre></div></div></div></div></div></div><div class=\"sk-parallel-item\"><div class=\"sk-item\"><div class=\"sk-label-container\"><div class=\"sk-label sk-toggleable\"><label>xgboost</label></div></div><div class=\"sk-serial\"><div class=\"sk-item\"><div class=\"sk-estimator sk-toggleable\"><input class=\"sk-toggleable__control sk-hidden--visually\" id=\"sk-estimator-id-3\" type=\"checkbox\" ><label for=\"sk-estimator-id-3\" class=\"sk-toggleable__label sk-toggleable__label-arrow\">XGBClassifier</label><div class=\"sk-toggleable__content\"><pre>XGBClassifier(base_score=None, booster=None, callbacks=None,\n",
       "              colsample_bylevel=None, colsample_bynode=None,\n",
       "              colsample_bytree=None, device=None, early_stopping_rounds=None,\n",
       "              enable_categorical=False, eval_metric=None, feature_types=None,\n",
       "              gamma=None, grow_policy=None, importance_type=None,\n",
       "              interaction_constraints=None, learning_rate=0.01, max_bin=None,\n",
       "              max_cat_threshold=None, max_cat_to_onehot=None,\n",
       "              max_delta_step=None, max_depth=20, max_leaves=None,\n",
       "              min_child_weight=None, missing=nan, monotone_constraints=None,\n",
       "              multi_strategy=None, n_estimators=50, n_jobs=None,\n",
       "              num_parallel_tree=None, random_state=27, ...)</pre></div></div></div></div></div></div><div class=\"sk-parallel-item\"><div class=\"sk-item\"><div class=\"sk-label-container\"><div class=\"sk-label sk-toggleable\"><label>lightgbm</label></div></div><div class=\"sk-serial\"><div class=\"sk-item\"><div class=\"sk-estimator sk-toggleable\"><input class=\"sk-toggleable__control sk-hidden--visually\" id=\"sk-estimator-id-4\" type=\"checkbox\" ><label for=\"sk-estimator-id-4\" class=\"sk-toggleable__label sk-toggleable__label-arrow\">LGBMClassifier</label><div class=\"sk-toggleable__content\"><pre>LGBMClassifier(learning_rate=0.05, max_depth=32, n_estimators=50,\n",
       "               random_state=27)</pre></div></div></div></div></div></div><div class=\"sk-parallel-item\"><div class=\"sk-item\"><div class=\"sk-label-container\"><div class=\"sk-label sk-toggleable\"><label>random_forest</label></div></div><div class=\"sk-serial\"><div class=\"sk-item\"><div class=\"sk-estimator sk-toggleable\"><input class=\"sk-toggleable__control sk-hidden--visually\" id=\"sk-estimator-id-5\" type=\"checkbox\" ><label for=\"sk-estimator-id-5\" class=\"sk-toggleable__label sk-toggleable__label-arrow\">RandomForestClassifier</label><div class=\"sk-toggleable__content\"><pre>RandomForestClassifier(max_depth=14, n_estimators=725, random_state=27)</pre></div></div></div></div></div></div></div></div><div class=\"sk-item\"><div class=\"sk-parallel\"><div class=\"sk-parallel-item\"><div class=\"sk-item\"><div class=\"sk-label-container\"><div class=\"sk-label sk-toggleable\"><label>final_estimator</label></div></div><div class=\"sk-serial\"><div class=\"sk-item\"><div class=\"sk-estimator sk-toggleable\"><input class=\"sk-toggleable__control sk-hidden--visually\" id=\"sk-estimator-id-6\" type=\"checkbox\" ><label for=\"sk-estimator-id-6\" class=\"sk-toggleable__label sk-toggleable__label-arrow\">CatBoostClassifier</label><div class=\"sk-toggleable__content\"><pre>&lt;catboost.core.CatBoostClassifier object at 0x7fe304eaab30&gt;</pre></div></div></div></div></div></div></div></div></div></div></div></div>"
      ],
      "text/plain": [
       "StackingClassifier(estimators=[('catboost',\n",
       "                                <catboost.core.CatBoostClassifier object at 0x7fe304ec6f50>),\n",
       "                               ('xgboost',\n",
       "                                XGBClassifier(base_score=None, booster=None,\n",
       "                                              callbacks=None,\n",
       "                                              colsample_bylevel=None,\n",
       "                                              colsample_bynode=None,\n",
       "                                              colsample_bytree=None,\n",
       "                                              device=None,\n",
       "                                              early_stopping_rounds=None,\n",
       "                                              enable_categorical=False,\n",
       "                                              eval_metric=None,\n",
       "                                              feature_types=None, gamma=None,\n",
       "                                              gr...\n",
       "                                              monotone_constraints=None,\n",
       "                                              multi_strategy=None,\n",
       "                                              n_estimators=50, n_jobs=None,\n",
       "                                              num_parallel_tree=None,\n",
       "                                              random_state=27, ...)),\n",
       "                               ('lightgbm',\n",
       "                                LGBMClassifier(learning_rate=0.05, max_depth=32,\n",
       "                                               n_estimators=50,\n",
       "                                               random_state=27)),\n",
       "                               ('random_forest',\n",
       "                                RandomForestClassifier(max_depth=14,\n",
       "                                                       n_estimators=725,\n",
       "                                                       random_state=27))],\n",
       "                   final_estimator=<catboost.core.CatBoostClassifier object at 0x7fe304eaab30>)"
      ]
     },
     "execution_count": 30,
     "metadata": {},
     "output_type": "execute_result"
    }
   ],
   "source": [
    "%%time\n",
    "X_train, X_val, y_val, y_val = train_test_split(X, y, test_size=0.2, random_state=26)\n",
    "\n",
    "stacking_model = StackingClassifier(estimators=base_models, final_estimator=meta_model)\n",
    "stacking_model.fit(X, y)"
   ]
  },
  {
   "cell_type": "markdown",
   "id": "570326d5",
   "metadata": {
    "papermill": {
     "duration": 0.060038,
     "end_time": "2024-02-07T12:22:57.530991",
     "exception": false,
     "start_time": "2024-02-07T12:22:57.470953",
     "status": "completed"
    },
    "tags": []
   },
   "source": [
    "<a id='15'></a>\n",
    "# <span style=\"color: #3cb371; border-bottom: 6px solid #03adfc; background-color: #fadb8c;\">🍺 15 - Predict the validation set and calculate accuracy score</span>"
   ]
  },
  {
   "cell_type": "code",
   "execution_count": 31,
   "id": "b53cb79b",
   "metadata": {
    "execution": {
     "iopub.execute_input": "2024-02-07T12:22:57.655178Z",
     "iopub.status.busy": "2024-02-07T12:22:57.654706Z",
     "iopub.status.idle": "2024-02-07T12:22:58.696522Z",
     "shell.execute_reply": "2024-02-07T12:22:58.695341Z"
    },
    "papermill": {
     "duration": 1.106586,
     "end_time": "2024-02-07T12:22:58.699174",
     "exception": false,
     "start_time": "2024-02-07T12:22:57.592588",
     "status": "completed"
    },
    "tags": []
   },
   "outputs": [
    {
     "name": "stdout",
     "output_type": "stream",
     "text": [
      "[LightGBM] [Warning] Accuracy may be bad since you didn't explicitly set num_leaves OR 2^max_depth > num_leaves. (num_leaves=31).\n",
      "Validation Accuracy Score: 0.94594003\n"
     ]
    },
    {
     "name": "stderr",
     "output_type": "stream",
     "text": [
      "/opt/conda/lib/python3.10/site-packages/sklearn/preprocessing/_label.py:155: DataConversionWarning: A column-vector y was passed when a 1d array was expected. Please change the shape of y to (n_samples, ), for example using ravel().\n",
      "  y = column_or_1d(y, warn=True)\n"
     ]
    }
   ],
   "source": [
    "y_pred_val = stacking_model.predict(X_val)\n",
    "\n",
    "accuracy_val = accuracy_score(y_val, y_pred_val)\n",
    "print(f\"Validation Accuracy Score: {accuracy_val:.8f}\")"
   ]
  },
  {
   "cell_type": "code",
   "execution_count": 32,
   "id": "08332005",
   "metadata": {
    "execution": {
     "iopub.execute_input": "2024-02-07T12:22:58.822714Z",
     "iopub.status.busy": "2024-02-07T12:22:58.822287Z",
     "iopub.status.idle": "2024-02-07T12:22:58.827347Z",
     "shell.execute_reply": "2024-02-07T12:22:58.826211Z"
    },
    "papermill": {
     "duration": 0.069499,
     "end_time": "2024-02-07T12:22:58.829713",
     "exception": false,
     "start_time": "2024-02-07T12:22:58.760214",
     "status": "completed"
    },
    "tags": []
   },
   "outputs": [],
   "source": [
    "# # precision for test data\n",
    "# print(f'precision: {precision_score(y_val,  y_pred_val):.4f}\\n')\n",
    "\n",
    "# # precision for test data\n",
    "# print(f'recall: {recall_score(y_val,  y_pred_val):.4f}\\n')\n",
    "\n",
    "# # precision for test data\n",
    "# print(f'F1: {f1_score(y_val,  y_pred_val):.4f}')"
   ]
  },
  {
   "cell_type": "markdown",
   "id": "88296ad5",
   "metadata": {
    "papermill": {
     "duration": 0.06034,
     "end_time": "2024-02-07T12:22:58.950780",
     "exception": false,
     "start_time": "2024-02-07T12:22:58.890440",
     "status": "completed"
    },
    "tags": []
   },
   "source": [
    "<a id='16'></a>\n",
    "# <span style=\"color: #3cb371; border-bottom: 6px solid #03adfc; background-color: #fadb8c;\">🫐 16 - Predict the test data</span>"
   ]
  },
  {
   "cell_type": "code",
   "execution_count": 33,
   "id": "87a82476",
   "metadata": {
    "execution": {
     "iopub.execute_input": "2024-02-07T12:22:59.073226Z",
     "iopub.status.busy": "2024-02-07T12:22:59.072823Z",
     "iopub.status.idle": "2024-02-07T12:23:01.749368Z",
     "shell.execute_reply": "2024-02-07T12:23:01.748246Z"
    },
    "papermill": {
     "duration": 2.741007,
     "end_time": "2024-02-07T12:23:01.752160",
     "exception": false,
     "start_time": "2024-02-07T12:22:59.011153",
     "status": "completed"
    },
    "tags": []
   },
   "outputs": [
    {
     "name": "stdout",
     "output_type": "stream",
     "text": [
      "[LightGBM] [Warning] Accuracy may be bad since you didn't explicitly set num_leaves OR 2^max_depth > num_leaves. (num_leaves=31).\n"
     ]
    },
    {
     "name": "stderr",
     "output_type": "stream",
     "text": [
      "/opt/conda/lib/python3.10/site-packages/sklearn/preprocessing/_label.py:155: DataConversionWarning: A column-vector y was passed when a 1d array was expected. Please change the shape of y to (n_samples, ), for example using ravel().\n",
      "  y = column_or_1d(y, warn=True)\n"
     ]
    },
    {
     "data": {
      "text/plain": [
       "array(['Obesity_Type_II', 'Overweight_Level_I', 'Obesity_Type_III',\n",
       "       'Obesity_Type_I', 'Obesity_Type_III', 'Insufficient_Weight',\n",
       "       'Insufficient_Weight', 'Normal_Weight', 'Overweight_Level_II',\n",
       "       'Normal_Weight'], dtype=object)"
      ]
     },
     "execution_count": 33,
     "metadata": {},
     "output_type": "execute_result"
    }
   ],
   "source": [
    "y_pred_test = stacking_model.predict(test)\n",
    "y_pred_test[:10]"
   ]
  },
  {
   "cell_type": "markdown",
   "id": "2c682940",
   "metadata": {
    "papermill": {
     "duration": 0.060387,
     "end_time": "2024-02-07T12:23:01.873266",
     "exception": false,
     "start_time": "2024-02-07T12:23:01.812879",
     "status": "completed"
    },
    "tags": []
   },
   "source": [
    "<a id='17'></a>\n",
    "# <span style=\"color: #3cb371; border-bottom: 6px solid #03adfc; background-color: #fadb8c;\">🍉 17 - Build DataFrame and make submission</span>"
   ]
  },
  {
   "cell_type": "code",
   "execution_count": 34,
   "id": "c5aceef4",
   "metadata": {
    "execution": {
     "iopub.execute_input": "2024-02-07T12:23:01.997508Z",
     "iopub.status.busy": "2024-02-07T12:23:01.996769Z",
     "iopub.status.idle": "2024-02-07T12:23:02.040030Z",
     "shell.execute_reply": "2024-02-07T12:23:02.038898Z"
    },
    "papermill": {
     "duration": 0.108609,
     "end_time": "2024-02-07T12:23:02.042469",
     "exception": false,
     "start_time": "2024-02-07T12:23:01.933860",
     "status": "completed"
    },
    "tags": []
   },
   "outputs": [
    {
     "data": {
      "text/html": [
       "<div>\n",
       "<style scoped>\n",
       "    .dataframe tbody tr th:only-of-type {\n",
       "        vertical-align: middle;\n",
       "    }\n",
       "\n",
       "    .dataframe tbody tr th {\n",
       "        vertical-align: top;\n",
       "    }\n",
       "\n",
       "    .dataframe thead th {\n",
       "        text-align: right;\n",
       "    }\n",
       "</style>\n",
       "<table border=\"1\" class=\"dataframe\">\n",
       "  <thead>\n",
       "    <tr style=\"text-align: right;\">\n",
       "      <th></th>\n",
       "      <th>id</th>\n",
       "      <th>NObeyesdad</th>\n",
       "    </tr>\n",
       "  </thead>\n",
       "  <tbody>\n",
       "    <tr>\n",
       "      <th>0</th>\n",
       "      <td>20758</td>\n",
       "      <td>Obesity_Type_II</td>\n",
       "    </tr>\n",
       "    <tr>\n",
       "      <th>1</th>\n",
       "      <td>20759</td>\n",
       "      <td>Overweight_Level_I</td>\n",
       "    </tr>\n",
       "    <tr>\n",
       "      <th>2</th>\n",
       "      <td>20760</td>\n",
       "      <td>Obesity_Type_III</td>\n",
       "    </tr>\n",
       "    <tr>\n",
       "      <th>3</th>\n",
       "      <td>20761</td>\n",
       "      <td>Obesity_Type_I</td>\n",
       "    </tr>\n",
       "    <tr>\n",
       "      <th>4</th>\n",
       "      <td>20762</td>\n",
       "      <td>Obesity_Type_III</td>\n",
       "    </tr>\n",
       "  </tbody>\n",
       "</table>\n",
       "</div>"
      ],
      "text/plain": [
       "      id          NObeyesdad\n",
       "0  20758     Obesity_Type_II\n",
       "1  20759  Overweight_Level_I\n",
       "2  20760    Obesity_Type_III\n",
       "3  20761      Obesity_Type_I\n",
       "4  20762    Obesity_Type_III"
      ]
     },
     "execution_count": 34,
     "metadata": {},
     "output_type": "execute_result"
    }
   ],
   "source": [
    "submission = pd.DataFrame({\n",
    "    'id': submission_id,\n",
    "    'NObeyesdad': y_pred_test\n",
    "})\n",
    "\n",
    "submission.to_csv('Kapturov_S4E2_submission.csv', index=False)\n",
    "submission.head()"
   ]
  },
  {
   "cell_type": "markdown",
   "id": "8973eb8b",
   "metadata": {
    "papermill": {
     "duration": 0.060672,
     "end_time": "2024-02-07T12:23:02.164997",
     "exception": false,
     "start_time": "2024-02-07T12:23:02.104325",
     "status": "completed"
    },
    "tags": []
   },
   "source": [
    "# <span style=\"color: #03adfc\">🏋️‍♀️😀 Hope You are feel Yourself great!</span>"
   ]
  }
 ],
 "metadata": {
  "kaggle": {
   "accelerator": "none",
   "dataSources": [
    {
     "databundleVersionId": 7609535,
     "sourceId": 68479,
     "sourceType": "competition"
    },
    {
     "datasetId": 4030196,
     "sourceId": 7009925,
     "sourceType": "datasetVersion"
    }
   ],
   "dockerImageVersionId": 30646,
   "isGpuEnabled": false,
   "isInternetEnabled": true,
   "language": "python",
   "sourceType": "notebook"
  },
  "kernelspec": {
   "display_name": "Python 3",
   "language": "python",
   "name": "python3"
  },
  "language_info": {
   "codemirror_mode": {
    "name": "ipython",
    "version": 3
   },
   "file_extension": ".py",
   "mimetype": "text/x-python",
   "name": "python",
   "nbconvert_exporter": "python",
   "pygments_lexer": "ipython3",
   "version": "3.10.13"
  },
  "papermill": {
   "default_parameters": {},
   "duration": 257.156072,
   "end_time": "2024-02-07T12:23:03.351578",
   "environment_variables": {},
   "exception": null,
   "input_path": "__notebook__.ipynb",
   "output_path": "__notebook__.ipynb",
   "parameters": {},
   "start_time": "2024-02-07T12:18:46.195506",
   "version": "2.5.0"
  }
 },
 "nbformat": 4,
 "nbformat_minor": 5
}
